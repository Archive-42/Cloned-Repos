{
  "nbformat": 4,
  "nbformat_minor": 0,
  "metadata": {
    "colab": {
      "name": "String_methods.ipynb",
      "provenance": []
    },
    "kernelspec": {
      "name": "python3",
      "display_name": "Python 3"
    }
  },
  "cells": [
    {
      "cell_type": "markdown",
      "metadata": {
        "id": "OC5nJawdBX97",
        "colab_type": "text"
      },
      "source": [
        " **Python string methods**\n",
        "\n",
        "\n"
      ]
    },
    {
      "cell_type": "markdown",
      "metadata": {
        "id": "4JrmwkI58SaI",
        "colab_type": "text"
      },
      "source": [
        "**capitalize()**"
      ]
    },
    {
      "cell_type": "code",
      "metadata": {
        "id": "ElwkWucW7Ogj",
        "colab_type": "code",
        "colab": {
          "base_uri": "https://localhost:8080/",
          "height": 33
        },
        "outputId": "7d104639-44f9-4077-e758-f4e99293c6a4"
      },
      "source": [
        "\"\"\" capitalize() method capitalizes the first character of the string \"\"\"\n",
        "string1 = \"i am adnan\"\n",
        "\n",
        "print(string1.capitalize())"
      ],
      "execution_count": 1,
      "outputs": [
        {
          "output_type": "stream",
          "text": [
            "I am adnan\n"
          ],
          "name": "stdout"
        }
      ]
    },
    {
      "cell_type": "markdown",
      "metadata": {
        "id": "VB3KA6yQ9Kof",
        "colab_type": "text"
      },
      "source": [
        "**casefold()**"
      ]
    },
    {
      "cell_type": "code",
      "metadata": {
        "id": "YowtjkJ18l9M",
        "colab_type": "code",
        "colab": {
          "base_uri": "https://localhost:8080/",
          "height": 33
        },
        "outputId": "b98c7310-9f85-4052-8c07-a9a8d3ee9a9e"
      },
      "source": [
        "\"\"\" casefold() method converts the string into lowercase \"\"\"\n",
        "string2 = \"I Am Adnan\"\n",
        "\n",
        "print(string2.casefold())"
      ],
      "execution_count": 2,
      "outputs": [
        {
          "output_type": "stream",
          "text": [
            "i am adnan\n"
          ],
          "name": "stdout"
        }
      ]
    },
    {
      "cell_type": "markdown",
      "metadata": {
        "id": "WRRZZlfi93jL",
        "colab_type": "text"
      },
      "source": [
        "**center()**"
      ]
    },
    {
      "cell_type": "code",
      "metadata": {
        "id": "iYQTvbA69r8H",
        "colab_type": "code",
        "colab": {
          "base_uri": "https://localhost:8080/",
          "height": 50
        },
        "outputId": "747f10aa-0b56-44e7-e00c-97e084686810"
      },
      "source": [
        "\"\"\" center() method returns a centered string, padded with specific character(optional) \"\"\"\n",
        "string3 = \"center\"\n",
        "\n",
        "# Without specific character\n",
        "print(string3.center(15)) \n",
        "\n",
        "# With specific character for padding, here '1' is used for padding\n",
        "print(string3.center(15,'1'))"
      ],
      "execution_count": 3,
      "outputs": [
        {
          "output_type": "stream",
          "text": [
            "     center    \n",
            "11111center1111\n"
          ],
          "name": "stdout"
        }
      ]
    },
    {
      "cell_type": "markdown",
      "metadata": {
        "id": "K4IKD0ATRQef",
        "colab_type": "text"
      },
      "source": [
        "**count()**"
      ]
    },
    {
      "cell_type": "code",
      "metadata": {
        "id": "JEexWNpZQIjB",
        "colab_type": "code",
        "colab": {
          "base_uri": "https://localhost:8080/",
          "height": 50
        },
        "outputId": "7d57db39-e606-4f15-ec4d-58347dc90452"
      },
      "source": [
        "\"\"\"count() method returns the number of count of the mentioned substring in a string\"\"\"\n",
        "string4 = \"so so is not so good\"\n",
        "substring = \"so\"\n",
        "\n",
        "print(string4.count(substring))\n",
        "\n",
        "# We can optionally mention the start and end point\n",
        "print(string4.count(substring, 0, 8))\n"
      ],
      "execution_count": 4,
      "outputs": [
        {
          "output_type": "stream",
          "text": [
            "3\n",
            "2\n"
          ],
          "name": "stdout"
        }
      ]
    },
    {
      "cell_type": "markdown",
      "metadata": {
        "id": "45giVdarS01I",
        "colab_type": "text"
      },
      "source": [
        "**endswith()**"
      ]
    },
    {
      "cell_type": "code",
      "metadata": {
        "id": "QdVR9QnrSBsN",
        "colab_type": "code",
        "colab": {
          "base_uri": "https://localhost:8080/",
          "height": 50
        },
        "outputId": "fe84fca1-74fc-47d5-bc16-31288985ff96"
      },
      "source": [
        "\"\"\"endswith() is a binary method which returns True if the specified value is present at the end\"\"\"\n",
        "string5 = \"May the force be with you\"\n",
        "substring = \"you\"\n",
        "\n",
        "print(string5.endswith(substring))\n",
        "\n",
        "# We can optionally mention the start and end point\n",
        "print(string5.endswith(substring, 0, 8))"
      ],
      "execution_count": 5,
      "outputs": [
        {
          "output_type": "stream",
          "text": [
            "True\n",
            "False\n"
          ],
          "name": "stdout"
        }
      ]
    },
    {
      "cell_type": "markdown",
      "metadata": {
        "id": "nkMInVuVVpnq",
        "colab_type": "text"
      },
      "source": [
        "**expandtabs()**"
      ]
    },
    {
      "cell_type": "code",
      "metadata": {
        "id": "KrYCmwPAUZMq",
        "colab_type": "code",
        "colab": {
          "base_uri": "https://localhost:8080/",
          "height": 50
        },
        "outputId": "56e80e2f-2280-4c11-84d6-e262daaf6854"
      },
      "source": [
        "\"\"\"expandtabs() method returns the string with specified tabsize or whitespace\"\"\"\n",
        "# \\t denotes tab, by deafult tab size is set to 8\n",
        "string6 = \"A\\td\\tn\\ta\\tn\"\n",
        "\n",
        "print(string6.expandtabs())\n",
        "\n",
        "# Setting the tab size to 12\n",
        "print(string6.expandtabs(12))"
      ],
      "execution_count": 6,
      "outputs": [
        {
          "output_type": "stream",
          "text": [
            "A       d       n       a       n\n",
            "A           d           n           a           n\n"
          ],
          "name": "stdout"
        }
      ]
    },
    {
      "cell_type": "markdown",
      "metadata": {
        "id": "G_BmlOU3Wszt",
        "colab_type": "text"
      },
      "source": [
        "**find()**"
      ]
    },
    {
      "cell_type": "code",
      "metadata": {
        "id": "GTJRXP0uWVBE",
        "colab_type": "code",
        "colab": {
          "base_uri": "https://localhost:8080/",
          "height": 50
        },
        "outputId": "93e1e8f2-527e-4a85-ca2d-d7cc88ccdb0b"
      },
      "source": [
        "\"\"\"find() method searches for a specific value in the string, and returns it's \n",
        "first occurance index, if no match found it returns -1\"\"\" \n",
        "string7 = \"If I have seen further it is by standing on the shoulders of Giants\"\n",
        "\n",
        "print(string7.find(\"Giants\"))\n",
        "\n",
        "# We can optionally mention the start and end point\n",
        "print(string7.find(\"Giants\",1,50))"
      ],
      "execution_count": 7,
      "outputs": [
        {
          "output_type": "stream",
          "text": [
            "61\n",
            "-1\n"
          ],
          "name": "stdout"
        }
      ]
    },
    {
      "cell_type": "markdown",
      "metadata": {
        "id": "vo7m4obmcqWR",
        "colab_type": "text"
      },
      "source": [
        "**format()**"
      ]
    },
    {
      "cell_type": "code",
      "metadata": {
        "id": "Zh0EV05aYQsY",
        "colab_type": "code",
        "colab": {
          "base_uri": "https://localhost:8080/",
          "height": 33
        },
        "outputId": "82d65acd-b007-4dd0-bc5a-3f5e58091159"
      },
      "source": [
        "\"\"\"The format() method returns a formatted string\"\"\"\n",
        "string8 = \"I am {}.I love {}\"\n",
        "\n",
        "print(string8.format(\"Adnan\",\"reading books\"))"
      ],
      "execution_count": 8,
      "outputs": [
        {
          "output_type": "stream",
          "text": [
            "I am Adnan.I love reading books\n"
          ],
          "name": "stdout"
        }
      ]
    },
    {
      "cell_type": "markdown",
      "metadata": {
        "id": "kdOLvxK0fhmV",
        "colab_type": "text"
      },
      "source": [
        "**isalnum()**"
      ]
    },
    {
      "cell_type": "code",
      "metadata": {
        "id": "_WkCTXkfeqde",
        "colab_type": "code",
        "colab": {
          "base_uri": "https://localhost:8080/",
          "height": 33
        },
        "outputId": "eefabe64-af80-4c02-faf1-e219e3967c6c"
      },
      "source": [
        "\"\"\" isalnum() is a boolean method that returns true if the string contains alphanumeric values only \"\"\"\n",
        "string9 = \"se7en\"\n",
        "\n",
        "print(string9.isalnum())"
      ],
      "execution_count": 9,
      "outputs": [
        {
          "output_type": "stream",
          "text": [
            "True\n"
          ],
          "name": "stdout"
        }
      ]
    },
    {
      "cell_type": "markdown",
      "metadata": {
        "id": "pXR4o6IIgIX5",
        "colab_type": "text"
      },
      "source": [
        "**isalpha()**"
      ]
    },
    {
      "cell_type": "code",
      "metadata": {
        "id": "RZSX0G1qgHvO",
        "colab_type": "code",
        "colab": {
          "base_uri": "https://localhost:8080/",
          "height": 33
        },
        "outputId": "1ef1e07c-5dd7-4716-baf6-5dcefe719ce9"
      },
      "source": [
        "\"\"\" isalpha() is a boolean method that returns true if the string contains alphabet only \"\"\"\n",
        "string10 = \"Awesome\"\n",
        "\n",
        "print(string10.isalpha())"
      ],
      "execution_count": 10,
      "outputs": [
        {
          "output_type": "stream",
          "text": [
            "True\n"
          ],
          "name": "stdout"
        }
      ]
    },
    {
      "cell_type": "markdown",
      "metadata": {
        "id": "SQxtAh2Hg1TF",
        "colab_type": "text"
      },
      "source": [
        "**isnumeric()**"
      ]
    },
    {
      "cell_type": "code",
      "metadata": {
        "id": "-Ey_xRBvgBWF",
        "colab_type": "code",
        "colab": {
          "base_uri": "https://localhost:8080/",
          "height": 33
        },
        "outputId": "705e559e-b50b-4127-b84c-65ccf217aa37"
      },
      "source": [
        "\"\"\" isnumeric() is a boolean method that returns true if the string contains numeric character only \"\"\"\n",
        "string11 = \"2441139\"\n",
        "\n",
        "print(string11.isnumeric())"
      ],
      "execution_count": 11,
      "outputs": [
        {
          "output_type": "stream",
          "text": [
            "True\n"
          ],
          "name": "stdout"
        }
      ]
    },
    {
      "cell_type": "markdown",
      "metadata": {
        "id": "EvqwimFWh_J5",
        "colab_type": "text"
      },
      "source": [
        "**isupper()**"
      ]
    },
    {
      "cell_type": "code",
      "metadata": {
        "id": "9YTA5xDZh2to",
        "colab_type": "code",
        "colab": {
          "base_uri": "https://localhost:8080/",
          "height": 33
        },
        "outputId": "89e5bb72-5623-4259-f682-2080caae29bb"
      },
      "source": [
        "\"\"\" isupper() is a boolean method that returns true if the string contains uppercase characters only \"\"\"\n",
        "string12 = \"GITHUB\"\n",
        "\n",
        "print(string12.isupper())"
      ],
      "execution_count": 12,
      "outputs": [
        {
          "output_type": "stream",
          "text": [
            "True\n"
          ],
          "name": "stdout"
        }
      ]
    },
    {
      "cell_type": "markdown",
      "metadata": {
        "id": "jN6NJcvAid5w",
        "colab_type": "text"
      },
      "source": [
        "**islower()**"
      ]
    },
    {
      "cell_type": "code",
      "metadata": {
        "id": "ycjTvOfMia65",
        "colab_type": "code",
        "colab": {
          "base_uri": "https://localhost:8080/",
          "height": 33
        },
        "outputId": "71011d47-1f8b-4d6d-88c9-161bc1e071ef"
      },
      "source": [
        "\"\"\" islower() is a boolean method that returns true if the string contains lowercase characters only \"\"\"\n",
        "string13 = \"octocat\"\n",
        "\n",
        "print(string13.islower())"
      ],
      "execution_count": 13,
      "outputs": [
        {
          "output_type": "stream",
          "text": [
            "True\n"
          ],
          "name": "stdout"
        }
      ]
    },
    {
      "cell_type": "markdown",
      "metadata": {
        "id": "okYdE33kwZ1c",
        "colab_type": "text"
      },
      "source": [
        "**upper()**"
      ]
    },
    {
      "cell_type": "code",
      "metadata": {
        "id": "YZ_9v91gi2xK",
        "colab_type": "code",
        "colab": {
          "base_uri": "https://localhost:8080/",
          "height": 33
        },
        "outputId": "a248dd5d-d266-4fd8-87ba-c14119129ac3"
      },
      "source": [
        "\"\"\" upper() method converts a string into uppercase \"\"\"\n",
        "string14 = \"The higher you rise,the harder you fall\"\n",
        "\n",
        "print(string14.upper())"
      ],
      "execution_count": 14,
      "outputs": [
        {
          "output_type": "stream",
          "text": [
            "THE HIGHER YOU RISE,THE HARDER YOU FALL\n"
          ],
          "name": "stdout"
        }
      ]
    },
    {
      "cell_type": "markdown",
      "metadata": {
        "id": "C7OXiDYUy5LN",
        "colab_type": "text"
      },
      "source": [
        "**lower()**"
      ]
    },
    {
      "cell_type": "code",
      "metadata": {
        "id": "ZP67QoL5y3Iy",
        "colab_type": "code",
        "colab": {
          "base_uri": "https://localhost:8080/",
          "height": 33
        },
        "outputId": "796a1aa0-3b92-467b-b966-2704678a4469"
      },
      "source": [
        "\"\"\" lower() method converts a string into lowercase \"\"\"\n",
        "string15 = \"THE HIGHER YOU RISE,THE HARDER YOU FALL\"\n",
        "\n",
        "print(string15.lower())"
      ],
      "execution_count": 15,
      "outputs": [
        {
          "output_type": "stream",
          "text": [
            "the higher you rise,the harder you fall\n"
          ],
          "name": "stdout"
        }
      ]
    },
    {
      "cell_type": "markdown",
      "metadata": {
        "id": "m72CPkzJz1ef",
        "colab_type": "text"
      },
      "source": [
        "**replace()**"
      ]
    },
    {
      "cell_type": "code",
      "metadata": {
        "id": "A51KbM6xzLIZ",
        "colab_type": "code",
        "colab": {
          "base_uri": "https://localhost:8080/",
          "height": 50
        },
        "outputId": "4175f730-aab3-4a09-a1bb-b1b362fc29dc"
      },
      "source": [
        "\"\"\" In a string, replace() method replaces a substring with another one \"\"\"\n",
        "string16 = \"Let's fly higher and higher\"\n",
        "\n",
        "print(string16.replace(\"higher\",\"lower\"))\n",
        "\n",
        "# We can also mention the number of occurance we want to replace,\n",
        "# here we replaced just the first occurance of 'higher'\n",
        "\n",
        "print(string16.replace('higher', 'lower', 1))"
      ],
      "execution_count": 16,
      "outputs": [
        {
          "output_type": "stream",
          "text": [
            "Let's fly lower and lower\n",
            "Let's fly lower and higher\n"
          ],
          "name": "stdout"
        }
      ]
    },
    {
      "cell_type": "markdown",
      "metadata": {
        "id": "2nj2tu4J3ARx",
        "colab_type": "text"
      },
      "source": [
        "**split()**"
      ]
    },
    {
      "cell_type": "code",
      "metadata": {
        "id": "YxY-z6x20W-O",
        "colab_type": "code",
        "colab": {
          "base_uri": "https://localhost:8080/",
          "height": 67
        },
        "outputId": "31048de6-b097-4f65-8f22-1aaa277d5a96"
      },
      "source": [
        "\"\"\" split() method splits the string with the given parameters,\n",
        "and retruns a list of strings.By default it splits using space \"\"\"\n",
        "string17 = \"Divided we fall\"\n",
        "\n",
        "print(string17.split())\n",
        "string17a = \"comma,separated,string\"\n",
        "\n",
        "# Here we use comma as separator\n",
        "print(string17a.split(','))\n",
        "\n",
        "# We can also mention the maximum number of time split would occur (optional)\n",
        "print(string17a.split(',',1))\n"
      ],
      "execution_count": 17,
      "outputs": [
        {
          "output_type": "stream",
          "text": [
            "['Divided', 'we', 'fall']\n",
            "['comma', 'separated', 'string']\n",
            "['comma', 'separated,string']\n"
          ],
          "name": "stdout"
        }
      ]
    },
    {
      "cell_type": "markdown",
      "metadata": {
        "id": "VIqwdDUc5B9L",
        "colab_type": "text"
      },
      "source": [
        "**strip()**"
      ]
    },
    {
      "cell_type": "code",
      "metadata": {
        "id": "vt8U9I1s38kk",
        "colab_type": "code",
        "colab": {
          "base_uri": "https://localhost:8080/",
          "height": 50
        },
        "outputId": "c01b32b0-6a7a-43b8-bcbb-bfdcbc5c27a3"
      },
      "source": [
        "\"\"\" strip() method returns the trimmed version of the string, by default it trims heading and trailing whitespace \"\"\"\n",
        "string18 = \"          we need space             \"\n",
        "\n",
        "print(string18.strip())\n",
        "\n",
        "string18a = \"******Thus a star is born******\"\n",
        "\n",
        "# Here we trim the heading and trailing '*'\n",
        "print(string18a.strip('*'))"
      ],
      "execution_count": 18,
      "outputs": [
        {
          "output_type": "stream",
          "text": [
            "we need space\n",
            "Thus a star is born\n"
          ],
          "name": "stdout"
        }
      ]
    },
    {
      "cell_type": "markdown",
      "metadata": {
        "id": "cq5ucPgE7b4k",
        "colab_type": "text"
      },
      "source": [
        "**swapcase()**"
      ]
    },
    {
      "cell_type": "code",
      "metadata": {
        "id": "06fxlEqn5vpv",
        "colab_type": "code",
        "colab": {
          "base_uri": "https://localhost:8080/",
          "height": 33
        },
        "outputId": "5cecc189-8dbd-4cec-d7cc-743f7c197ea5"
      },
      "source": [
        "\"\"\" swapcase() method converts uppercase into lowercase and vice-versa \"\"\"\n",
        "string19 = \"nEVER wRITE lIKE tHIS\"\n",
        "\n",
        "print(string19.swapcase())"
      ],
      "execution_count": 19,
      "outputs": [
        {
          "output_type": "stream",
          "text": [
            "Never Write Like This\n"
          ],
          "name": "stdout"
        }
      ]
    },
    {
      "cell_type": "markdown",
      "metadata": {
        "id": "zdTvKEkQ8rbj",
        "colab_type": "text"
      },
      "source": [
        "**zfill()**"
      ]
    },
    {
      "cell_type": "code",
      "metadata": {
        "id": "RHEViQ9Z71Ex",
        "colab_type": "code",
        "colab": {
          "base_uri": "https://localhost:8080/",
          "height": 67
        },
        "outputId": "c903e757-89f3-4062-e564-4c188fa16de8"
      },
      "source": [
        "\"\"\" zfill() method adds zero at the begining of string, width of the returned\n",
        "string is passed as parameter \"\"\"\n",
        "string20 = \"is a number\"\n",
        "\n",
        "# Here the given string is of length 11, we passed 10 as the parameter of zfill,\n",
        "# so it added one 0 at the left of the string \n",
        "print(string20.zfill(12))\n",
        "\n",
        "# If a string starts with + or - operator the zeros are filled after the 1st operator\n",
        "string20a = \"+is needed\"\n",
        "\n",
        "print(string20a.zfill(15))\n",
        "\n",
        "string20b = \"++is needed\"\n",
        "# Here zero is filled after the first '+' operator\n",
        "print(string20b.zfill(15))"
      ],
      "execution_count": 20,
      "outputs": [
        {
          "output_type": "stream",
          "text": [
            "0is a number\n",
            "+00000is needed\n",
            "+0000+is needed\n"
          ],
          "name": "stdout"
        }
      ]
    },
    {
      "cell_type": "code",
      "metadata": {
        "id": "adCxloKXDTU7",
        "colab_type": "code",
        "colab": {}
      },
      "source": [
        ""
      ],
      "execution_count": 20,
      "outputs": []
    }
  ]
}