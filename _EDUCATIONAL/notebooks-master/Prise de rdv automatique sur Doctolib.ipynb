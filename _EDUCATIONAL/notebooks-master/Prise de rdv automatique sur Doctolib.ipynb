{
 "cells": [
  {
   "cell_type": "markdown",
   "metadata": {
    "toc": true
   },
   "source": [
    "<h1>Table of Contents<span class=\"tocSkip\"></span></h1>\n",
    "<div class=\"toc\"><ul class=\"toc-item\"><li><span><a href=\"#Prise-de-rendez-vous-automatique-sur-Doctolib---COVID-19\" data-toc-modified-id=\"Prise-de-rendez-vous-automatique-sur-Doctolib---COVID-19-1\"><span class=\"toc-item-num\">1&nbsp;&nbsp;</span>Prise de rendez-vous automatique sur Doctolib - COVID 19</a></span><ul class=\"toc-item\"><li><span><a href=\"#But-initial\" data-toc-modified-id=\"But-initial-1.1\"><span class=\"toc-item-num\">1.1&nbsp;&nbsp;</span>But initial</a></span></li><li><span><a href=\"#Premier-tutoriel-pour-prendre-en-main-selenium\" data-toc-modified-id=\"Premier-tutoriel-pour-prendre-en-main-selenium-1.2\"><span class=\"toc-item-num\">1.2&nbsp;&nbsp;</span>Premier tutoriel pour prendre en main selenium</a></span></li><li><span><a href=\"#Solution\" data-toc-modified-id=\"Solution-1.3\"><span class=\"toc-item-num\">1.3&nbsp;&nbsp;</span>Solution</a></span></li><li><span><a href=\"#Automatisation-toutes-les-55-minutes\" data-toc-modified-id=\"Automatisation-toutes-les-55-minutes-1.4\"><span class=\"toc-item-num\">1.4&nbsp;&nbsp;</span>Automatisation toutes les 55 minutes</a></span></li><li><span><a href=\"#Conclusion\" data-toc-modified-id=\"Conclusion-1.5\"><span class=\"toc-item-num\">1.5&nbsp;&nbsp;</span>Conclusion</a></span></li></ul></li></ul></div>"
   ]
  },
  {
   "cell_type": "markdown",
   "metadata": {},
   "source": [
    "# Prise de rendez-vous automatique sur Doctolib - COVID 19\n",
    "*Ceci est une expérimentation, et n'est pas encore terminé*\n",
    "\n",
    "## But initial\n",
    "\n",
    "1. utiliser [Selenium](https://www.selenium.dev/) et [selenium Python](https://selenium-python.readthedocs.io/installation.html) pour automatiser l'utilisation du site <https://partners.doctolib.fr/hopital-public/perigueux/vaccination-covid?speciality_id=5494&enable_cookies_consent=1>,                                     \n",
    "\n",
    "2. vérifier si le site a changé, et m'envoyer un SMS si oui.\n",
    "\n",
    "- Auteur : [Lilian Besson](https://perso.crans.org/besson/) ([@Naereen](https://GitHub.com/Naereen) sur GitHub)\n",
    "- Licence : [MIT Licensed](https://lbesson.mit-license.org/)\n",
    "- Date : Mardi 09 février 2021"
   ]
  },
  {
   "cell_type": "markdown",
   "metadata": {},
   "source": [
    "---\n",
    "## Premier tutoriel pour prendre en main selenium"
   ]
  },
  {
   "cell_type": "markdown",
   "metadata": {},
   "source": [
    "Note : je n'avais jamais utilisé selenium ou ce genre de module pour contrôler un navigateur en mode \"headless\".\n",
    "Ce n'est pas très compliqué, et j'ai trouvé que ce petit tutoriel est bien fait : https://pythonbasics.org/selenium-firefox-headless/\n",
    "[Cette documentation est bien complète, pour le module Python de selenium](https://selenium-python.readthedocs.io/)."
   ]
  },
  {
   "cell_type": "code",
   "execution_count": 1,
   "metadata": {
    "ExecuteTime": {
     "end_time": "2021-02-09T15:01:23.168933Z",
     "start_time": "2021-02-09T15:01:23.164709Z"
    }
   },
   "outputs": [],
   "source": [
    "URL = \"https://partners.doctolib.fr/hopital-public/perigueux/vaccination-covid?speciality_id=5494&enable_cookies_consent=1\""
   ]
  },
  {
   "cell_type": "code",
   "execution_count": 2,
   "metadata": {
    "ExecuteTime": {
     "end_time": "2021-02-09T15:01:40.067350Z",
     "start_time": "2021-02-09T15:01:34.217746Z"
    }
   },
   "outputs": [
    {
     "name": "stdout",
     "output_type": "stream",
     "text": [
      "Downloading 'https://partners.doctolib.fr/hopital-public/perigueux/vaccination-covid?speciality_id=5494&enable_cookies_consent=1'...\n",
      "<html lang=\"fr\"><head data-country=\"fr\" data-env=\"production\"><meta charset=\"utf-8\"><meta content=\"width=device-width, initial-scale=1, maximum-scale=1, minimum-scale=1, user-scalable=no\" name=\"viewport\"><meta content=\"noindex\" name=\"robots\"><meta content=\"nofollow\" name=\"robots\"><meta content=\"Trouvez rapidement un spécialiste près de chez vous et prenez rendez-vous gratuitement en ligne en quelques clics\" name=\"description\"><script async=\"\" src=\"https://www.googletagmanager.com/gtm.js?id=GTM-N\n"
     ]
    }
   ],
   "source": [
    "from selenium import webdriver\n",
    "\n",
    "try:\n",
    "    print(f\"Downloading '{URL}'...\")\n",
    "    firefoxOptions = webdriver.FirefoxOptions()\n",
    "    firefoxOptions.headless = True\n",
    "    browser = webdriver.Firefox(options=firefoxOptions)\n",
    "\n",
    "    browser.get(URL)\n",
    "    print(browser.page_source[:500])\n",
    "finally:\n",
    "    try:\n",
    "        browser.close()\n",
    "    except:\n",
    "        pass"
   ]
  },
  {
   "cell_type": "markdown",
   "metadata": {},
   "source": [
    "J'ai bien réussi à installer et utiliser Selenium. Ca marche bien !"
   ]
  },
  {
   "cell_type": "markdown",
   "metadata": {},
   "source": [
    "## Solution"
   ]
  },
  {
   "cell_type": "markdown",
   "metadata": {},
   "source": [
    "J'aurai besoin de ces modules là :"
   ]
  },
  {
   "cell_type": "code",
   "execution_count": 3,
   "metadata": {
    "ExecuteTime": {
     "end_time": "2021-02-09T15:40:30.072599Z",
     "start_time": "2021-02-09T15:40:30.069317Z"
    }
   },
   "outputs": [],
   "source": [
    "import time\n",
    "from datetime import datetime\n",
    "import urllib.request\n",
    "import subprocess\n",
    "from selenium import webdriver"
   ]
  },
  {
   "cell_type": "markdown",
   "metadata": {},
   "source": [
    "Vérifions le contenu de la page, et voir si elle affiche ce message suivant :\n",
    "\n",
    "> En raison d'une forte demande, ce centre n'a plus de disponibilités : 3362 vaccinations vont avoir lieu dans les 28 prochains jours. Réessayez prochainement ou cherchez un autre centre."
   ]
  },
  {
   "cell_type": "code",
   "execution_count": 7,
   "metadata": {
    "ExecuteTime": {
     "end_time": "2021-02-09T15:44:47.221354Z",
     "start_time": "2021-02-09T15:44:37.902624Z"
    }
   },
   "outputs": [
    {
     "name": "stdout",
     "output_type": "stream",
     "text": [
      "Downloading 'https://partners.doctolib.fr/hopital-public/perigueux/vaccination-covid?speciality_id=5494&enable_cookies_consent=1'...\n",
      "<html lang=\"fr\"><head data-country=\"fr\" data-env=\"production\"><meta charset=\"utf-8\"><meta content=\"width=device-width, initial-scale=1, maximum-scale=1, minimum-scale=1, user-scalable=no\" name=\"viewport\"><meta content=\"noindex\" name=\"robots\"><meta content=\"nofollow\" name=\"robots\"><meta content=\"Trouvez rapidement un spécialiste près de chez vous et prenez rendez-vous gratuitement en ligne en quelques clics\" name=\"description\"><script async=\"\" src=\"https://www.googletagmanager.com/gtm.js?id=GTM-N\n"
     ]
    }
   ],
   "source": [
    "print(f\"Downloading '{URL}'...\")\n",
    "firefoxOptions = webdriver.FirefoxOptions()\n",
    "firefoxOptions.headless = True\n",
    "browser = webdriver.Firefox(options=firefoxOptions)\n",
    "\n",
    "browser.get(URL)"
   ]
  },
  {
   "cell_type": "code",
   "execution_count": 11,
   "metadata": {
    "ExecuteTime": {
     "end_time": "2021-02-09T16:00:04.752913Z",
     "start_time": "2021-02-09T16:00:04.382702Z"
    }
   },
   "outputs": [
    {
     "name": "stdout",
     "output_type": "stream",
     "text": [
      "https://partners.doctolib.fr/hopital-public/perigueux/vaccination-covid?speciality_id=5494&enable_cookies_consent=1 indique :\n",
      "ce centre n'a plus de disponibilités\n"
     ]
    }
   ],
   "source": [
    "message = \"ce centre n'a plus de disponibilités\"\n",
    "\n",
    "if message in browser.page_source:\n",
    "    print(f\"{URL} indique :\\n{message}\")\n",
    "else:\n",
    "    print(f\"{URL} n'indique pas :\\n{message}\\nPeut être qu'il y a des disponibilités désormais !\")\n",
    "    !FreeSMS.py f\"{URL} semble indiquer qu'il y a des disponibilités désormais.\""
   ]
  },
  {
   "cell_type": "markdown",
   "metadata": {},
   "source": [
    "Quand on a fini, on ferme le navigateur :"
   ]
  },
  {
   "cell_type": "code",
   "execution_count": null,
   "metadata": {},
   "outputs": [],
   "source": [
    "browser.close()"
   ]
  },
  {
   "cell_type": "markdown",
   "metadata": {},
   "source": [
    "## Automatisation toutes les 55 minutes\n",
    "\n",
    "Je ne ferai pas ça dans Python mais avec un simple script bash et un `watch`"
   ]
  },
  {
   "cell_type": "code",
   "execution_count": 71,
   "metadata": {
    "ExecuteTime": {
     "end_time": "2020-10-31T12:43:36.432203Z",
     "start_time": "2020-10-31T12:43:36.312822Z"
    }
   },
   "outputs": [
    {
     "name": "stdout",
     "output_type": "stream",
     "text": [
      "\r\n",
      "Usage:\r\n",
      " watch [options] commande\r\n",
      "\r\n",
      "Options:\r\n",
      "  -b, --beep             émet un bip si la commande sort avec un code non nul\r\n",
      "  -c, --color            interprète les séquences de couleurs et de styles ANSI\r\n",
      "  -d, --differences[=<permanent>]\r\n",
      "                         met en évidence les changements entre mises à jours\r\n",
      "  -e, --errexit          termine si la commande sort avec un code non nul\r\n",
      "  -g, --chgexit          termine quand la sortie de la commande change\r\n",
      "  -n, --interval <sec>   secondes de délai entre mises à jours\r\n",
      "  -p, --precise          essaie d'exécuter la commande à intervalles réguliers\r\n",
      "  -t, --no-title         masque l'en-tête\r\n",
      "  -x, --exec             passe la commande à exec au lieu de « sh -c »\r\n",
      "\r\n",
      " -h, --help     affiche cette aide et termine\r\n",
      " -v, --version  affiche les informations de version et sort\r\n",
      "\r\n",
      "Pour plus de détails, consultez watch(1).\r\n"
     ]
    }
   ],
   "source": [
    "!watch -help"
   ]
  },
  {
   "cell_type": "markdown",
   "metadata": {},
   "source": [
    "## Conclusion\n",
    "\n",
    "C'était drôle. C'était une expérimentation. Mais ne vous servez pas de ça !"
   ]
  }
 ],
 "metadata": {
  "kernelspec": {
   "display_name": "Python 3",
   "language": "python",
   "name": "python3"
  },
  "language_info": {
   "codemirror_mode": {
    "name": "ipython",
    "version": 3
   },
   "file_extension": ".py",
   "mimetype": "text/x-python",
   "name": "python",
   "nbconvert_exporter": "python",
   "pygments_lexer": "ipython3",
   "version": "3.6.9"
  },
  "toc": {
   "base_numbering": 1,
   "nav_menu": {},
   "number_sections": true,
   "sideBar": true,
   "skip_h1_title": false,
   "title_cell": "Table of Contents",
   "title_sidebar": "Contents",
   "toc_cell": true,
   "toc_position": {},
   "toc_section_display": true,
   "toc_window_display": true
  },
  "varInspector": {
   "cols": {
    "lenName": 16,
    "lenType": 16,
    "lenVar": 40
   },
   "kernels_config": {
    "python": {
     "delete_cmd_postfix": "",
     "delete_cmd_prefix": "del ",
     "library": "var_list.py",
     "varRefreshCmd": "print(var_dic_list())"
    },
    "r": {
     "delete_cmd_postfix": ") ",
     "delete_cmd_prefix": "rm(",
     "library": "var_list.r",
     "varRefreshCmd": "cat(var_dic_list()) "
    }
   },
   "types_to_exclude": [
    "module",
    "function",
    "builtin_function_or_method",
    "instance",
    "_Feature"
   ],
   "window_display": false
  }
 },
 "nbformat": 4,
 "nbformat_minor": 4
}
