{
 "cells": [
  {
   "cell_type": "markdown",
   "metadata": {
    "toc": "true"
   },
   "source": [
    "# Table of Contents\n",
    " <p><div class=\"lev1 toc-item\"><a href=\"#Texte-d'oral-de-modélisation---Agrégation-Option-Informatique\" data-toc-modified-id=\"Texte-d'oral-de-modélisation---Agrégation-Option-Informatique-1\"><span class=\"toc-item-num\">1&nbsp;&nbsp;</span>Texte d'oral de modélisation - Agrégation Option Informatique</a></div><div class=\"lev2 toc-item\"><a href=\"#Préparation-à-l'agrégation---ENS-de-Rennes,-2017-18\" data-toc-modified-id=\"Préparation-à-l'agrégation---ENS-de-Rennes,-2017-18-11\"><span class=\"toc-item-num\">1.1&nbsp;&nbsp;</span>Préparation à l'agrégation - ENS de Rennes, 2017-18</a></div><div class=\"lev2 toc-item\"><a href=\"#À-propos-de-ce-document\" data-toc-modified-id=\"À-propos-de-ce-document-12\"><span class=\"toc-item-num\">1.2&nbsp;&nbsp;</span>À propos de ce document</a></div><div class=\"lev2 toc-item\"><a href=\"#Question-de-programmation\" data-toc-modified-id=\"Question-de-programmation-13\"><span class=\"toc-item-num\">1.3&nbsp;&nbsp;</span>Question de programmation</a></div><div class=\"lev3 toc-item\"><a href=\"#Modélisation\" data-toc-modified-id=\"Modélisation-131\"><span class=\"toc-item-num\">1.3.1&nbsp;&nbsp;</span>Modélisation</a></div><div class=\"lev3 toc-item\"><a href=\"#Exercice\" data-toc-modified-id=\"Exercice-132\"><span class=\"toc-item-num\">1.3.2&nbsp;&nbsp;</span>Exercice</a></div><div class=\"lev2 toc-item\"><a href=\"#Solution\" data-toc-modified-id=\"Solution-14\"><span class=\"toc-item-num\">1.4&nbsp;&nbsp;</span>Solution</a></div><div class=\"lev3 toc-item\"><a href=\"#Types-et-représentations\" data-toc-modified-id=\"Types-et-représentations-141\"><span class=\"toc-item-num\">1.4.1&nbsp;&nbsp;</span>Types et représentations</a></div><div class=\"lev3 toc-item\"><a href=\"#Calcul-récursif-du-nombre-$\\rho$\" data-toc-modified-id=\"Calcul-récursif-du-nombre-$\\rho$-142\"><span class=\"toc-item-num\">1.4.2&nbsp;&nbsp;</span>Calcul récursif du nombre <span class=\"MathJax_Preview\" style=\"color: inherit;\"></span><span class=\"MathJax\" id=\"MathJax-Element-441-Frame\" tabindex=\"0\" style=\"position: relative;\" data-mathml=\"<math xmlns=&quot;http://www.w3.org/1998/Math/MathML&quot;><mi>&amp;#x03C1;</mi></math>\" role=\"presentation\"><nobr aria-hidden=\"true\"><span class=\"math\" id=\"MathJax-Span-3069\" role=\"math\" style=\"width: 0.681em; display: inline-block;\"><span style=\"display: inline-block; position: relative; width: 0.525em; height: 0px; font-size: 127%;\"><span style=\"position: absolute; clip: rect(1.877em, 1000.49em, 2.786em, -1000em); top: -2.45em; left: 0em;\"><span class=\"mrow\" id=\"MathJax-Span-3070\"><span class=\"mi\" id=\"MathJax-Span-3071\" style=\"font-family: STIXMathJax_Main; font-style: italic;\">ρ</span></span><span style=\"display: inline-block; width: 0px; height: 2.45em;\"></span></span></span><span style=\"display: inline-block; overflow: hidden; vertical-align: -0.316em; border-left: 0px solid; width: 0px; height: 0.932em;\"></span></span></nobr><span class=\"MJX_Assistive_MathML\" role=\"presentation\"><math xmlns=\"http://www.w3.org/1998/Math/MathML\"><mi>ρ</mi></math></span></span><script type=\"math/tex\" id=\"MathJax-Element-441\">\\rho</script></a></div><div class=\"lev3 toc-item\"><a href=\"#Algorithme-demandé-pour-décorer-l'arbre\" data-toc-modified-id=\"Algorithme-demandé-pour-décorer-l'arbre-143\"><span class=\"toc-item-num\">1.4.3&nbsp;&nbsp;</span>Algorithme demandé pour décorer l'arbre</a></div><div class=\"lev2 toc-item\"><a href=\"#Complexités\" data-toc-modified-id=\"Complexités-15\"><span class=\"toc-item-num\">1.5&nbsp;&nbsp;</span>Complexités</a></div><div class=\"lev3 toc-item\"><a href=\"#En-espace\" data-toc-modified-id=\"En-espace-151\"><span class=\"toc-item-num\">1.5.1&nbsp;&nbsp;</span>En espace</a></div><div class=\"lev3 toc-item\"><a href=\"#En-temps\" data-toc-modified-id=\"En-temps-152\"><span class=\"toc-item-num\">1.5.2&nbsp;&nbsp;</span>En temps</a></div><div class=\"lev2 toc-item\"><a href=\"#Implémentations-supplémentaires\" data-toc-modified-id=\"Implémentations-supplémentaires-16\"><span class=\"toc-item-num\">1.6&nbsp;&nbsp;</span>Implémentations supplémentaires</a></div><div class=\"lev3 toc-item\"><a href=\"#Évaluation-des-expressions\" data-toc-modified-id=\"Évaluation-des-expressions-161\"><span class=\"toc-item-num\">1.6.1&nbsp;&nbsp;</span>Évaluation des expressions</a></div><div class=\"lev3 toc-item\"><a href=\"#Evaluation-par-lecture-postfix-et-pile\" data-toc-modified-id=\"Evaluation-par-lecture-postfix-et-pile-162\"><span class=\"toc-item-num\">1.6.2&nbsp;&nbsp;</span>Evaluation par lecture postfix et pile</a></div><div class=\"lev3 toc-item\"><a href=\"#Affichage-dans-ce-langage-de-manipulation-de-registre\" data-toc-modified-id=\"Affichage-dans-ce-langage-de-manipulation-de-registre-163\"><span class=\"toc-item-num\">1.6.3&nbsp;&nbsp;</span>Affichage dans ce langage de manipulation de registre</a></div><div class=\"lev3 toc-item\"><a href=\"#Méthode-d'Ershov\" data-toc-modified-id=\"Méthode-d'Ershov-164\"><span class=\"toc-item-num\">1.6.4&nbsp;&nbsp;</span>Méthode d'Ershov</a></div><div class=\"lev2 toc-item\"><a href=\"#Conclusion\" data-toc-modified-id=\"Conclusion-17\"><span class=\"toc-item-num\">1.7&nbsp;&nbsp;</span>Conclusion</a></div><div class=\"lev3 toc-item\"><a href=\"#Qualités\" data-toc-modified-id=\"Qualités-171\"><span class=\"toc-item-num\">1.7.1&nbsp;&nbsp;</span>Qualités</a></div><div class=\"lev3 toc-item\"><a href=\"#Bonus\" data-toc-modified-id=\"Bonus-172\"><span class=\"toc-item-num\">1.7.2&nbsp;&nbsp;</span>Bonus</a></div><div class=\"lev3 toc-item\"><a href=\"#Défauts\" data-toc-modified-id=\"Défauts-173\"><span class=\"toc-item-num\">1.7.3&nbsp;&nbsp;</span>Défauts</a></div>"
   ]
  },
  {
   "cell_type": "markdown",
   "metadata": {},
   "source": [
    "# Texte d'oral de modélisation - Agrégation Option Informatique\n",
    "## Préparation à l'agrégation - ENS de Rennes, 2017-18\n",
    "- *Date* : 6 décembre 2017\n",
    "- *Auteur* : [Lilian Besson](https://GitHub.com/Naereen/notebooks/)\n",
    "- *Texte*: Annale 2018, [\"Expressions arithmétiques\" (public2018-D1)](http://agreg.org/Textes/public2018-D1.pdf)"
   ]
  },
  {
   "cell_type": "markdown",
   "metadata": {},
   "source": [
    "## À propos de ce document\n",
    "- Ceci est une *proposition* de correction, partielle et probablement non-optimale, pour la partie implémentation d'un [texte d'annale de l'agrégation de mathématiques, option informatique](http://Agreg.org/Textes/).\n",
    "- Ce document est un [notebook Jupyter](https://www.Jupyter.org/), et [est open-source sous Licence MIT sur GitHub](https://github.com/Naereen/notebooks/tree/master/agreg/), comme les autres solutions de textes de modélisation que [j](https://GitHub.com/Naereen)'ai écrite cette année.\n",
    "- L'implémentation sera faite en OCaml, version 4+ :"
   ]
  },
  {
   "cell_type": "code",
   "execution_count": 1,
   "metadata": {
    "scrolled": false
   },
   "outputs": [
    {
     "name": "stdout",
     "output_type": "stream",
     "text": [
      "The OCaml toplevel, version 4.04.2\n"
     ]
    },
    {
     "data": {
      "text/plain": [
       "- : int = 0\n"
      ]
     },
     "execution_count": 1,
     "metadata": {},
     "output_type": "execute_result"
    },
    {
     "name": "stdout",
     "output_type": "stream",
     "text": [
      "4.04.2\n"
     ]
    },
    {
     "data": {
      "text/plain": [
       "- : unit = ()\n"
      ]
     },
     "execution_count": 1,
     "metadata": {},
     "output_type": "execute_result"
    }
   ],
   "source": [
    "Sys.command \"ocaml -version\";;\n",
    "print_endline Sys.ocaml_version;;"
   ]
  },
  {
   "cell_type": "markdown",
   "metadata": {},
   "source": [
    "----\n",
    "## Question de programmation\n",
    "La question de programmation pour ce texte était donnée en fin de page 6 :\n",
    "\n",
    "### Modélisation\n",
    "On est libre de choisir l'implémentation qui nous convient pour les expressions arithmétiques sous forme arborescente.\n",
    "\n",
    "Je choisis de ne considérer que les variables et pas les valeurs (on aura des expressions en OCaml comme `F(\"x\")` pour la variable $x$), et uniquement des arbres binaires.\n",
    "Les noeuds `N(t1, op, t2)` sont étiquetées par un opérateur binaire `op`, dont on fournit à l'avance une liste fixée et finie, et les feuilles `F(s)` sont étiquetées par une variable `s`.\n",
    "\n",
    "### Exercice\n",
    "> « Écrire une fonction qui reçoit en argument une expression algébrique donnée sous forme\n",
    "arborescente et décore cette expression en calculant pour chaque nœud interne quelle est\n",
    "la valeur du paramètre ρ et quelle branche doit être évaluée en premier selon l’algorithme\n",
    "d’Ershov. »"
   ]
  },
  {
   "cell_type": "markdown",
   "metadata": {},
   "source": [
    "----\n",
    "## Solution\n",
    "\n",
    "On va essayer d'être rapide et de faire simple, donc on choisit une algèbre de termes particulière, mais l'algorithme d'Ershov sera implémenté de façon générique (polymorphique, peu importe la valeur de `op`)."
   ]
  },
  {
   "cell_type": "markdown",
   "metadata": {},
   "source": [
    "### Types et représentations"
   ]
  },
  {
   "cell_type": "code",
   "execution_count": 2,
   "metadata": {
    "scrolled": true
   },
   "outputs": [
    {
     "data": {
      "text/plain": [
       "type operateur =\n",
       "    Plus\n",
       "  | Moins\n",
       "  | MoinsDroite\n",
       "  | Mul\n",
       "  | Div\n",
       "  | DivDroite\n",
       "  | Modulo\n",
       "  | Expo\n"
      ]
     },
     "execution_count": 2,
     "metadata": {},
     "output_type": "execute_result"
    }
   ],
   "source": [
    "type operateur = Plus | Moins | MoinsDroite | Mul | Div | DivDroite | Modulo | Expo ;;\n",
    "(* On utilisera MoinsDroite et DivDroite pour la compilation avec la méthode d'Ershov *)"
   ]
  },
  {
   "cell_type": "code",
   "execution_count": 3,
   "metadata": {},
   "outputs": [
    {
     "data": {
      "text/plain": [
       "type ('a, 'b) arbre_binaire =\n",
       "    N of ('a, 'b) arbre_binaire * 'b * ('a, 'b) arbre_binaire\n",
       "  | F of 'a\n"
      ]
     },
     "execution_count": 3,
     "metadata": {},
     "output_type": "execute_result"
    }
   ],
   "source": [
    "type ('a, 'b) arbre_binaire = N of (('a,'b) arbre_binaire) * 'b * (('a,'b) arbre_binaire) | F of 'a"
   ]
  },
  {
   "cell_type": "markdown",
   "metadata": {},
   "source": [
    "Par exemple pour l'expression $\\frac{x - yz}{u - vw}$, c'est-à-dire `(x - y*z)/(u - v*w)` :"
   ]
  },
  {
   "cell_type": "code",
   "execution_count": 4,
   "metadata": {},
   "outputs": [
    {
     "data": {
      "text/plain": [
       "val exp1 : (string, operateur) arbre_binaire =\n",
       "  N (F \"x\", Moins, N (F \"y\", Mul, F \"z\"))\n"
      ]
     },
     "execution_count": 4,
     "metadata": {},
     "output_type": "execute_result"
    }
   ],
   "source": [
    "(* exp1 = (x - y*z) *)\n",
    "let exp1 =\n",
    "N(\n",
    "    F(\"x\"),\n",
    "    Moins,\n",
    "    N(\n",
    "        F(\"y\"),\n",
    "        Mul,\n",
    "        F(\"z\")\n",
    "    )\n",
    ")\n",
    ";;"
   ]
  },
  {
   "cell_type": "code",
   "execution_count": 5,
   "metadata": {},
   "outputs": [
    {
     "data": {
      "text/plain": [
       "val exp2 : (string, operateur) arbre_binaire =\n",
       "  N (F \"u\", Moins, N (F \"v\", Mul, F \"w\"))\n"
      ]
     },
     "execution_count": 5,
     "metadata": {},
     "output_type": "execute_result"
    }
   ],
   "source": [
    "(* exp2 = (u - v*w) *)\n",
    "let exp2 =\n",
    "N(\n",
    "    F(\"u\"),\n",
    "    Moins,\n",
    "    N(\n",
    "        F(\"v\"),\n",
    "        Mul,\n",
    "        F(\"w\")\n",
    "    )\n",
    ")\n",
    ";;"
   ]
  },
  {
   "cell_type": "code",
   "execution_count": 6,
   "metadata": {
    "scrolled": true
   },
   "outputs": [
    {
     "data": {
      "text/plain": [
       "val exp3 : (string, operateur) arbre_binaire =\n",
       "  N (N (F \"x\", Moins, N (F \"y\", Mul, F \"z\")), Div,\n",
       "   N (F \"u\", Moins, N (F \"v\", Mul, F \"w\")))\n"
      ]
     },
     "execution_count": 6,
     "metadata": {},
     "output_type": "execute_result"
    }
   ],
   "source": [
    "(* exp3 = (x - y*z)/(u - v*w) *)\n",
    "let exp3 =\n",
    "N(\n",
    "    exp1,\n",
    "    Div,\n",
    "    exp2\n",
    ")"
   ]
  },
  {
   "cell_type": "markdown",
   "metadata": {},
   "source": [
    "### Calcul récursif du nombre $\\rho$\n",
    "\n",
    "C'est assez immédiat, en suivant la définition récursive :\n",
    "$\\rho(F) = 0$ et $\\rho(N(t_1, t_2)) = \\rho(t_1) + 1$ si $\\rho(t_1) = \\rho(t_2)$ et $\\max(\\rho(t_1), \\rho(t_2))$ si $\\rho(t_1) \\neq \\rho(t_2)$. "
   ]
  },
  {
   "cell_type": "code",
   "execution_count": 7,
   "metadata": {},
   "outputs": [
    {
     "data": {
      "text/plain": [
       "val nombre_rho : ('a, 'b) arbre_binaire -> int = <fun>\n"
      ]
     },
     "execution_count": 7,
     "metadata": {},
     "output_type": "execute_result"
    }
   ],
   "source": [
    "let rec nombre_rho (expr : ('a, 'b) arbre_binaire) : int =\n",
    "    match expr with\n",
    "    | F _ -> 0\n",
    "    | N(t1, _, t2) ->\n",
    "        let d1, d2 = nombre_rho t1, nombre_rho t2 in\n",
    "        if d1 = d2 then\n",
    "            d1 + 1\n",
    "        else\n",
    "            max d1 d2\n",
    ";;"
   ]
  },
  {
   "cell_type": "markdown",
   "metadata": {},
   "source": [
    "Pour comparer avec le calcul, plus simple, de la hauteur de l'arbre :"
   ]
  },
  {
   "cell_type": "code",
   "execution_count": 8,
   "metadata": {},
   "outputs": [
    {
     "data": {
      "text/plain": [
       "val hauteur : ('a, 'b) arbre_binaire -> int = <fun>\n"
      ]
     },
     "execution_count": 8,
     "metadata": {},
     "output_type": "execute_result"
    }
   ],
   "source": [
    "let rec hauteur (expr : ('a, 'b) arbre_binaire) : int =\n",
    "    match expr with\n",
    "    | F _ -> 0\n",
    "    | N(t1, _, t2) ->\n",
    "        let d1, d2 = hauteur t1, hauteur t2 in\n",
    "        1 + (max d1 d2)\n",
    ";;"
   ]
  },
  {
   "cell_type": "markdown",
   "metadata": {},
   "source": [
    "Exemples qui concordent avec le texte :"
   ]
  },
  {
   "cell_type": "code",
   "execution_count": 9,
   "metadata": {},
   "outputs": [
    {
     "data": {
      "text/plain": [
       "- : int = 2\n"
      ]
     },
     "execution_count": 9,
     "metadata": {},
     "output_type": "execute_result"
    },
    {
     "data": {
      "text/plain": [
       "- : int = 1\n"
      ]
     },
     "execution_count": 9,
     "metadata": {},
     "output_type": "execute_result"
    }
   ],
   "source": [
    "let _ = hauteur exp1;;\n",
    "let _ = nombre_rho exp1;;"
   ]
  },
  {
   "cell_type": "code",
   "execution_count": 10,
   "metadata": {},
   "outputs": [
    {
     "data": {
      "text/plain": [
       "- : int = 2\n"
      ]
     },
     "execution_count": 10,
     "metadata": {},
     "output_type": "execute_result"
    },
    {
     "data": {
      "text/plain": [
       "- : int = 1\n"
      ]
     },
     "execution_count": 10,
     "metadata": {},
     "output_type": "execute_result"
    }
   ],
   "source": [
    "let _ = hauteur exp2;;\n",
    "let _ = nombre_rho exp2;;"
   ]
  },
  {
   "cell_type": "code",
   "execution_count": 11,
   "metadata": {},
   "outputs": [
    {
     "data": {
      "text/plain": [
       "- : int = 3\n"
      ]
     },
     "execution_count": 11,
     "metadata": {},
     "output_type": "execute_result"
    },
    {
     "data": {
      "text/plain": [
       "- : int = 2\n"
      ]
     },
     "execution_count": 11,
     "metadata": {},
     "output_type": "execute_result"
    }
   ],
   "source": [
    "let _ = hauteur exp3;;\n",
    "let _ = nombre_rho exp3;;"
   ]
  },
  {
   "cell_type": "markdown",
   "metadata": {},
   "source": [
    "### Algorithme demandé pour décorer l'arbre"
   ]
  },
  {
   "cell_type": "markdown",
   "metadata": {},
   "source": [
    "On choisit d'ajouter une *décoration* de type `'c` :"
   ]
  },
  {
   "cell_type": "code",
   "execution_count": 12,
   "metadata": {},
   "outputs": [
    {
     "data": {
      "text/plain": [
       "type ('a, 'b, 'c) arbre_binaire_decore =\n",
       "    N2 of\n",
       "      ('c * ('a, 'b, 'c) arbre_binaire_decore * 'b *\n",
       "       ('a, 'b, 'c) arbre_binaire_decore)\n",
       "  | F2 of 'a\n"
      ]
     },
     "execution_count": 12,
     "metadata": {},
     "output_type": "execute_result"
    }
   ],
   "source": [
    "type ('a, 'b, 'c) arbre_binaire_decore = N2 of ('c * (('a, 'b, 'c) arbre_binaire_decore) * 'b * (('a, 'b, 'c) arbre_binaire_decore)) | F2 of 'a"
   ]
  },
  {
   "cell_type": "markdown",
   "metadata": {},
   "source": [
    "On a besoin d'attacher à chaque noeud son paramètre $\\rho$ et un drapeau binaire permettant de savoir si l'algorithme d'Ershov indique d'évaluer en premier le sous-arbre gauche (`premier_gauche = true`) ou droite (`= false`)."
   ]
  },
  {
   "cell_type": "code",
   "execution_count": 13,
   "metadata": {},
   "outputs": [
    {
     "data": {
      "text/plain": [
       "type decoration = { rho : int; premier_gauche : bool; }\n"
      ]
     },
     "execution_count": 13,
     "metadata": {},
     "output_type": "execute_result"
    }
   ],
   "source": [
    "type decoration = {\n",
    "    rho : int;\n",
    "    premier_gauche : bool;\n",
    "};;"
   ]
  },
  {
   "cell_type": "code",
   "execution_count": 14,
   "metadata": {},
   "outputs": [
    {
     "data": {
      "text/plain": [
       "val decore :\n",
       "  ('a, 'b) arbre_binaire -> ('a, 'b, decoration) arbre_binaire_decore = <fun>\n"
      ]
     },
     "execution_count": 14,
     "metadata": {},
     "output_type": "execute_result"
    }
   ],
   "source": [
    "let rec decore (expr : (('a, 'b) arbre_binaire)) : (('a, 'b, decoration) arbre_binaire_decore) =\n",
    "    match expr with\n",
    "    | F v -> F2 v\n",
    "    | N (t1, o, t2) ->\n",
    "        let d1, d2 = nombre_rho t1, nombre_rho t2 in\n",
    "        let d = if d1 = d2 then d1 + 1 else max d1 d2 in\n",
    "        N2({rho = d; premier_gauche = (d2<= d1)}, (decore t1), o, (decore t2))\n",
    ";;"
   ]
  },
  {
   "cell_type": "markdown",
   "metadata": {},
   "source": [
    "Dans nos exemples, on voit que l'évaluation favorise en premier (avec des `premier_gauche = false`) les expressions les plus profondes (à droite) au sens du paramètre $\\rho$ :"
   ]
  },
  {
   "cell_type": "code",
   "execution_count": 15,
   "metadata": {},
   "outputs": [
    {
     "data": {
      "text/plain": [
       "- : (string, operateur, decoration) arbre_binaire_decore =\n",
       "N2\n",
       " ({rho = 1; premier_gauche = false}, F2 \"x\", Moins,\n",
       "  N2 ({rho = 1; premier_gauche = true}, F2 \"y\", Mul, F2 \"z\"))\n"
      ]
     },
     "execution_count": 15,
     "metadata": {},
     "output_type": "execute_result"
    }
   ],
   "source": [
    "decore exp1;;"
   ]
  },
  {
   "cell_type": "code",
   "execution_count": 16,
   "metadata": {},
   "outputs": [
    {
     "data": {
      "text/plain": [
       "- : (string, operateur, decoration) arbre_binaire_decore =\n",
       "N2\n",
       " ({rho = 1; premier_gauche = false}, F2 \"u\", Moins,\n",
       "  N2 ({rho = 1; premier_gauche = true}, F2 \"v\", Mul, F2 \"w\"))\n"
      ]
     },
     "execution_count": 16,
     "metadata": {},
     "output_type": "execute_result"
    }
   ],
   "source": [
    "decore exp2;;"
   ]
  },
  {
   "cell_type": "code",
   "execution_count": 17,
   "metadata": {},
   "outputs": [
    {
     "data": {
      "text/plain": [
       "- : (string, operateur, decoration) arbre_binaire_decore =\n",
       "N2\n",
       " ({rho = 2; premier_gauche = true},\n",
       "  N2\n",
       "   ({rho = 1; premier_gauche = false}, F2 \"x\", Moins,\n",
       "    N2 ({rho = 1; premier_gauche = true}, F2 \"y\", Mul, F2 \"z\")),\n",
       "  Div,\n",
       "  N2\n",
       "   ({rho = 1; premier_gauche = false}, F2 \"u\", Moins,\n",
       "    N2 ({rho = 1; premier_gauche = true}, F2 \"v\", Mul, F2 \"w\")))\n"
      ]
     },
     "execution_count": 17,
     "metadata": {},
     "output_type": "execute_result"
    }
   ],
   "source": [
    "decore exp3;;"
   ]
  },
  {
   "cell_type": "markdown",
   "metadata": {},
   "source": [
    "## Complexités"
   ]
  },
  {
   "cell_type": "markdown",
   "metadata": {},
   "source": [
    "### En espace\n",
    "Les deux fonctions présentées ci-dessus n'utilisent pas d'autre espace que l'arbre décoré, et la pile d'appel récursif.\n",
    "\n",
    "- Le calcul récursif de $\\rho(t)$ prend donc un espace proportionnel au nombre d'appel récursif imbriqué, qui est borné par la taille du terme $t$ (définie comme le nombre de noeuds et de feuilles), donc est **linéaire**,\n",
    "- Le calcul de la méthode d'Ershov est elle aussi **linéaire** puisque l'arbre décoré est de même taille que l'arbre initial."
   ]
  },
  {
   "cell_type": "markdown",
   "metadata": {},
   "source": [
    "### En temps\n",
    "Les deux fonctions présentées ci-dessus sont **linéaires** dans la taille de l'arbre."
   ]
  },
  {
   "cell_type": "markdown",
   "metadata": {},
   "source": [
    "## Implémentations supplémentaires\n",
    "\n",
    "On peut essayer d'implémenter une fonction qui afficherait ceci pour la méthode d'évaluation naturelle :\n",
    "\n",
    "<img width=\"70%\" alt=\"images/public2018-D1_ex1.png\" src=\"images/public2018-D1_ex1.png\">\n",
    "\n",
    "Et ceci pour la méthode d'Ershov :\n",
    "\n",
    "<img width=\"70%\" alt=\"images/public2018-D1_ex2.png\" src=\"images/public2018-D1_ex2.png\">\n",
    "\n",
    "Ce n'est pas trop difficile, mais ça prend un peu de temps :\n",
    "\n",
    "- on va d'abord montrer comment évaluer les expressions, en lisant l'arbre et en effectuant des appels récursifs,\n",
    "- puis on fera un parcours postfix de l'arbre afin d'utiliser l'évaluation avec une pile, avec la stratégie naïve,\n",
    "- et enfin la méthode d'Ershov permettra de réduire la hauteur maximale de la pile, en passant de $h(t)$ (hauteur de l'arbre) à $\\rho(t)$,\n",
    "- en bonus, on affichera les instructions style \"compilateur à registre\", pour visualiser le gain apporté par la méthode d'Ershov.\n",
    "\n",
    "> Bien sûr, tout cela fait beaucoup trop pour être envisagé le jour de l'oral ! Mais un des points aurait pû être implémenté rapidement."
   ]
  },
  {
   "cell_type": "markdown",
   "metadata": {},
   "source": [
    "### Évaluation des expressions\n",
    "\n",
    "Un premier objectif plus simple est d'évaluer les expressions, en fournissant un *contexte* (table associant une valeur à chaque variable)."
   ]
  },
  {
   "cell_type": "code",
   "execution_count": 18,
   "metadata": {},
   "outputs": [
    {
     "data": {
      "text/plain": [
       "type ('a, 'b) contexte = ('a * 'b) list\n"
      ]
     },
     "execution_count": 18,
     "metadata": {},
     "output_type": "execute_result"
    },
    {
     "data": {
      "text/plain": [
       "val valeur : ('a, 'b) contexte -> 'a -> 'b = <fun>\n"
      ]
     },
     "execution_count": 18,
     "metadata": {},
     "output_type": "execute_result"
    }
   ],
   "source": [
    "type ('a, 'b) contexte = ('a * 'b) list;;\n",
    "let valeur (ctx : ('a, 'b) contexte) (var : 'a) = List.assoc var ctx;;\n",
    "(* une Hashtbl peut etre utilisee si besoin de bonnes performances *)"
   ]
  },
  {
   "cell_type": "code",
   "execution_count": 19,
   "metadata": {},
   "outputs": [
    {
     "data": {
      "text/plain": [
       "val contexte1 : (string, int) contexte =\n",
       "  [(\"x\", 1); (\"y\", 2); (\"z\", 3); (\"u\", 4); (\"v\", 5); (\"w\", 6)]\n"
      ]
     },
     "execution_count": 19,
     "metadata": {},
     "output_type": "execute_result"
    }
   ],
   "source": [
    "let contexte1 : (string, int) contexte = [\n",
    "    (\"x\", 1); (\"y\", 2); (\"z\", 3);\n",
    "    (\"u\", 4); (\"v\", 5); (\"w\", 6)\n",
    "];;"
   ]
  },
  {
   "cell_type": "code",
   "execution_count": 20,
   "metadata": {},
   "outputs": [
    {
     "data": {
      "text/plain": [
       "val intop_of_op : operateur -> int -> int -> int = <fun>\n"
      ]
     },
     "execution_count": 20,
     "metadata": {},
     "output_type": "execute_result"
    }
   ],
   "source": [
    "let intop_of_op (op : operateur) : (int -> int -> int) =\n",
    "    match op with\n",
    "    | Plus -> ( + )\n",
    "    | Moins -> ( - )\n",
    "    | MoinsDroite -> (fun v1 -> fun v2 -> v2 - v1)\n",
    "    | Mul -> ( * )\n",
    "    | Div -> ( / )\n",
    "    | DivDroite -> (fun v1 -> fun v2 -> v2 / v1)\n",
    "    | Modulo -> ( mod )\n",
    "    | Expo ->\n",
    "        (fun v1 -> fun v2 -> int_of_float ((float_of_int v1) ** (float_of_int v2)))\n",
    ";;"
   ]
  },
  {
   "cell_type": "code",
   "execution_count": 21,
   "metadata": {},
   "outputs": [
    {
     "data": {
      "text/plain": [
       "val eval_int :\n",
       "  (string, int) contexte -> (string, operateur) arbre_binaire -> int = <fun>\n"
      ]
     },
     "execution_count": 21,
     "metadata": {},
     "output_type": "execute_result"
    }
   ],
   "source": [
    "let rec eval_int (ctx : (string, int) contexte) (expr : (string, operateur) arbre_binaire) : int =\n",
    "    match expr with\n",
    "    | F(s) -> valeur ctx s\n",
    "    | N(t1, op, t2) ->\n",
    "        let v1, v2 = eval_int ctx t1, eval_int ctx t2 in\n",
    "        (intop_of_op op) v1 v2\n",
    ";;"
   ]
  },
  {
   "cell_type": "markdown",
   "metadata": {},
   "source": [
    "Par exemple, $x$ vaut $1$ dans le contexte d'exemple, et $x + y$ vaut $1 + 2 = 3$ :"
   ]
  },
  {
   "cell_type": "code",
   "execution_count": 22,
   "metadata": {
    "scrolled": true
   },
   "outputs": [
    {
     "data": {
      "text/plain": [
       "- : int = 1\n"
      ]
     },
     "execution_count": 22,
     "metadata": {},
     "output_type": "execute_result"
    }
   ],
   "source": [
    "let _ = eval_int contexte1 (F(\"x\"));;"
   ]
  },
  {
   "cell_type": "code",
   "execution_count": 23,
   "metadata": {},
   "outputs": [
    {
     "data": {
      "text/plain": [
       "- : int = 3\n"
      ]
     },
     "execution_count": 23,
     "metadata": {},
     "output_type": "execute_result"
    }
   ],
   "source": [
    "let _ = eval_int contexte1 (N(F(\"x\"), Plus, F(\"y\")));;"
   ]
  },
  {
   "cell_type": "code",
   "execution_count": 24,
   "metadata": {},
   "outputs": [
    {
     "data": {
      "text/plain": [
       "- : int = -5\n"
      ]
     },
     "execution_count": 24,
     "metadata": {},
     "output_type": "execute_result"
    }
   ],
   "source": [
    "let _ = eval_int contexte1 exp1;;"
   ]
  },
  {
   "cell_type": "code",
   "execution_count": 25,
   "metadata": {},
   "outputs": [
    {
     "data": {
      "text/plain": [
       "- : int = -26\n"
      ]
     },
     "execution_count": 25,
     "metadata": {},
     "output_type": "execute_result"
    }
   ],
   "source": [
    "let _ = eval_int contexte1 exp2;;"
   ]
  },
  {
   "cell_type": "code",
   "execution_count": 26,
   "metadata": {},
   "outputs": [
    {
     "data": {
      "text/plain": [
       "- : int = 0\n"
      ]
     },
     "execution_count": 26,
     "metadata": {},
     "output_type": "execute_result"
    }
   ],
   "source": [
    "let _ = eval_int contexte1 exp3;;"
   ]
  },
  {
   "cell_type": "markdown",
   "metadata": {},
   "source": [
    "On voit la faiblesse de l'interprétation avec des entiers, la division `/` est une division entière !\n",
    "\n",
    "On peut aussi interpréter avec des flottants :"
   ]
  },
  {
   "cell_type": "code",
   "execution_count": 27,
   "metadata": {},
   "outputs": [
    {
     "data": {
      "text/plain": [
       "val contexte2 : (string, float) contexte =\n",
       "  [(\"x\", 1.); (\"y\", 2.); (\"z\", 3.); (\"u\", 4.); (\"v\", 5.); (\"w\", 6.)]\n"
      ]
     },
     "execution_count": 27,
     "metadata": {},
     "output_type": "execute_result"
    }
   ],
   "source": [
    "let contexte2 : (string, float) contexte = [\n",
    "    (\"x\", 1.); (\"y\", 2.); (\"z\", 3.);\n",
    "    (\"u\", 4.); (\"v\", 5.); (\"w\", 6.)\n",
    "];;"
   ]
  },
  {
   "cell_type": "code",
   "execution_count": 28,
   "metadata": {},
   "outputs": [
    {
     "data": {
      "text/plain": [
       "val floatop_of_op : operateur -> float -> float -> float = <fun>\n"
      ]
     },
     "execution_count": 28,
     "metadata": {},
     "output_type": "execute_result"
    }
   ],
   "source": [
    "let floatop_of_op (op : operateur) : (float -> float -> float) =\n",
    "    match op with\n",
    "    | Plus -> ( +. )\n",
    "    | Moins -> ( -. )\n",
    "    | MoinsDroite -> (fun v1 -> fun v2 -> v2 -. v1)\n",
    "    | Mul -> ( *. )\n",
    "    | Div -> ( /. )\n",
    "    | DivDroite -> (fun v1 -> fun v2 -> v2 /. v1)\n",
    "    | Modulo ->\n",
    "        (fun v1 -> fun v2 -> float_of_int ((int_of_float v1) mod (int_of_float v2)))\n",
    "    | Expo -> ( ** )\n",
    ";;"
   ]
  },
  {
   "cell_type": "code",
   "execution_count": 29,
   "metadata": {},
   "outputs": [
    {
     "data": {
      "text/plain": [
       "val eval_float :\n",
       "  (string, float) contexte -> (string, operateur) arbre_binaire -> float =\n",
       "  <fun>\n"
      ]
     },
     "execution_count": 29,
     "metadata": {},
     "output_type": "execute_result"
    }
   ],
   "source": [
    "let rec eval_float (ctx : (string, float) contexte) (expr : (string, operateur) arbre_binaire) : float =\n",
    "    match expr with\n",
    "    | F(s) -> valeur ctx s\n",
    "    | N(t1, op, t2) ->\n",
    "        let v1, v2 = eval_float ctx t1, eval_float ctx t2 in\n",
    "        (floatop_of_op op) v1 v2\n",
    ";;"
   ]
  },
  {
   "cell_type": "markdown",
   "metadata": {},
   "source": [
    "Par exemple, $x$ vaut $1$ dans le contexte d'exemple, et $x + y$ vaut $1 + 2 = 3$ :"
   ]
  },
  {
   "cell_type": "code",
   "execution_count": 30,
   "metadata": {},
   "outputs": [
    {
     "data": {
      "text/plain": [
       "- : float = 1.\n"
      ]
     },
     "execution_count": 30,
     "metadata": {},
     "output_type": "execute_result"
    }
   ],
   "source": [
    "let _ = eval_float contexte2 (F(\"x\"));;"
   ]
  },
  {
   "cell_type": "code",
   "execution_count": 31,
   "metadata": {},
   "outputs": [
    {
     "data": {
      "text/plain": [
       "- : float = 3.\n"
      ]
     },
     "execution_count": 31,
     "metadata": {},
     "output_type": "execute_result"
    }
   ],
   "source": [
    "let _ = eval_float contexte2 (N(F(\"x\"), Plus, F(\"y\")));;"
   ]
  },
  {
   "cell_type": "code",
   "execution_count": 32,
   "metadata": {},
   "outputs": [
    {
     "data": {
      "text/plain": [
       "- : float = -5.\n"
      ]
     },
     "execution_count": 32,
     "metadata": {},
     "output_type": "execute_result"
    }
   ],
   "source": [
    "let _ = eval_float contexte2 exp1;;"
   ]
  },
  {
   "cell_type": "code",
   "execution_count": 33,
   "metadata": {},
   "outputs": [
    {
     "data": {
      "text/plain": [
       "- : float = -26.\n"
      ]
     },
     "execution_count": 33,
     "metadata": {},
     "output_type": "execute_result"
    }
   ],
   "source": [
    "let _ = eval_float contexte2 exp2;;"
   ]
  },
  {
   "cell_type": "code",
   "execution_count": 34,
   "metadata": {},
   "outputs": [
    {
     "data": {
      "text/plain": [
       "- : float = 0.192307692307692318\n"
      ]
     },
     "execution_count": 34,
     "metadata": {},
     "output_type": "execute_result"
    }
   ],
   "source": [
    "let _ = eval_float contexte2 exp3;;"
   ]
  },
  {
   "cell_type": "markdown",
   "metadata": {},
   "source": [
    "### Evaluation par lecture postfix et pile\n",
    "On va commencer par lire l'arbre en parcours postfix (cf. [TP2 @ ENS Rennes 2017/18](https://nbviewer.jupyter.org/github/Naereen/notebooks/tree/master/agreg/TP_Programmation_2017-18/TP2__OCaml.ipynb)) et ensuite l'évaluer grâce à une pile."
   ]
  },
  {
   "cell_type": "code",
   "execution_count": 35,
   "metadata": {},
   "outputs": [
    {
     "data": {
      "text/plain": [
       "type ('a, 'b) lexem = O of 'b | V of 'a\n"
      ]
     },
     "execution_count": 35,
     "metadata": {},
     "output_type": "execute_result"
    },
    {
     "data": {
      "text/plain": [
       "type ('a, 'b) parcours = ('a, 'b) lexem list\n"
      ]
     },
     "execution_count": 35,
     "metadata": {},
     "output_type": "execute_result"
    }
   ],
   "source": [
    "type ('a, 'b) lexem = O of 'b | V of 'a;;\n",
    "type ('a, 'b) parcours = (('a, 'b) lexem) list;;"
   ]
  },
  {
   "cell_type": "code",
   "execution_count": 36,
   "metadata": {},
   "outputs": [
    {
     "data": {
      "text/plain": [
       "val parcours_postfix : ('a, 'b) arbre_binaire -> ('a, 'b) parcours = <fun>\n"
      ]
     },
     "execution_count": 36,
     "metadata": {},
     "output_type": "execute_result"
    }
   ],
   "source": [
    "let parcours_postfix (expr : ('a, 'b) arbre_binaire) : (('a, 'b) parcours) =\n",
    "    let rec parcours vus expr =\n",
    "        match expr with\n",
    "        | F(s) -> V(s) :: vus\n",
    "        | N(t1, op, t2) -> O(op) :: (parcours (parcours vus t1) t2)\n",
    "    in\n",
    "    List.rev (parcours [] expr)\n",
    ";;"
   ]
  },
  {
   "cell_type": "markdown",
   "metadata": {},
   "source": [
    "On le teste :"
   ]
  },
  {
   "cell_type": "code",
   "execution_count": 37,
   "metadata": {},
   "outputs": [
    {
     "data": {
      "text/plain": [
       "- : (string, operateur) parcours = [V \"x\"; V \"y\"; V \"z\"; O Mul; O Moins]\n"
      ]
     },
     "execution_count": 37,
     "metadata": {},
     "output_type": "execute_result"
    }
   ],
   "source": [
    "parcours_postfix exp1;;"
   ]
  },
  {
   "cell_type": "code",
   "execution_count": 38,
   "metadata": {},
   "outputs": [
    {
     "data": {
      "text/plain": [
       "- : (string, operateur) parcours =\n",
       "[V \"x\"; V \"y\"; V \"z\"; O Mul; O Moins; V \"u\"; V \"v\"; V \"w\"; O Mul; O Moins;\n",
       " O Div]\n"
      ]
     },
     "execution_count": 38,
     "metadata": {},
     "output_type": "execute_result"
    }
   ],
   "source": [
    "parcours_postfix exp3;;"
   ]
  },
  {
   "cell_type": "code",
   "execution_count": 39,
   "metadata": {},
   "outputs": [
    {
     "data": {
      "text/plain": [
       "val eval_int_2 :\n",
       "  (string, int) contexte -> (string, operateur) arbre_binaire -> int = <fun>\n"
      ]
     },
     "execution_count": 39,
     "metadata": {},
     "output_type": "execute_result"
    }
   ],
   "source": [
    "let eval_int_2 (ctx : (string, int) contexte) (expr : (string, operateur) arbre_binaire) : int =\n",
    "    let vus = parcours_postfix expr in\n",
    "    let pile = Stack.create () in\n",
    "    let aux lex =\n",
    "        match lex with\n",
    "        | V(s) -> Stack.push (valeur ctx s) pile;\n",
    "        | O(op) ->\n",
    "            let v1, v2 = Stack.pop pile, Stack.pop pile in\n",
    "            Stack.push ((intop_of_op op) v1 v2) pile;\n",
    "    in\n",
    "    List.iter aux vus;\n",
    "    Stack.pop pile\n",
    ";;"
   ]
  },
  {
   "cell_type": "markdown",
   "metadata": {},
   "source": [
    "Par exemple, $x - y*z$ avec $x = 1, y = 2, z = 3$ vaut $1 - 2 * 3 = -5$ :"
   ]
  },
  {
   "cell_type": "code",
   "execution_count": 40,
   "metadata": {},
   "outputs": [
    {
     "data": {
      "text/plain": [
       "- : (string, operateur) arbre_binaire =\n",
       "N (F \"x\", Moins, N (F \"y\", Mul, F \"z\"))\n"
      ]
     },
     "execution_count": 40,
     "metadata": {},
     "output_type": "execute_result"
    },
    {
     "data": {
      "text/plain": [
       "- : int = -5\n"
      ]
     },
     "execution_count": 40,
     "metadata": {},
     "output_type": "execute_result"
    }
   ],
   "source": [
    "let _ = exp1 ;;\n",
    "let _ = eval_int_2 contexte1 exp1;;"
   ]
  },
  {
   "cell_type": "code",
   "execution_count": 41,
   "metadata": {},
   "outputs": [
    {
     "data": {
      "text/plain": [
       "- : (string, operateur) arbre_binaire =\n",
       "N (F \"u\", Moins, N (F \"v\", Mul, F \"w\"))\n"
      ]
     },
     "execution_count": 41,
     "metadata": {},
     "output_type": "execute_result"
    },
    {
     "data": {
      "text/plain": [
       "- : int = -26\n"
      ]
     },
     "execution_count": 41,
     "metadata": {},
     "output_type": "execute_result"
    }
   ],
   "source": [
    "let _ = exp2;;\n",
    "let _ = eval_int_2 contexte1 exp2;;"
   ]
  },
  {
   "cell_type": "markdown",
   "metadata": {},
   "source": [
    "On peut maintenant faire la même fonction mais qui va en plus afficher l'état successif de la pile (avec des valeurs uniquement)."
   ]
  },
  {
   "cell_type": "code",
   "execution_count": 42,
   "metadata": {},
   "outputs": [
    {
     "data": {
      "text/plain": [
       "val print : ('a, out_channel, unit) format -> 'a = <fun>\n"
      ]
     },
     "execution_count": 42,
     "metadata": {},
     "output_type": "execute_result"
    }
   ],
   "source": [
    "let print f =\n",
    "    let r = Printf.printf f in\n",
    "    flush_all();\n",
    "    r\n",
    ";;"
   ]
  },
  {
   "cell_type": "code",
   "execution_count": 43,
   "metadata": {},
   "outputs": [
    {
     "data": {
      "text/plain": [
       "val print_pile : int Stack.t -> unit = <fun>\n"
      ]
     },
     "execution_count": 43,
     "metadata": {},
     "output_type": "execute_result"
    }
   ],
   "source": [
    "let print_pile pile =\n",
    "    print \"\\nPile : \";\n",
    "    Stack.iter (print \"%i; \") pile;\n",
    "    print \".\"\n",
    ";;"
   ]
  },
  {
   "cell_type": "code",
   "execution_count": 44,
   "metadata": {},
   "outputs": [
    {
     "data": {
      "text/plain": [
       "val eval_int_3 :\n",
       "  (string, int) contexte -> (string, operateur) arbre_binaire -> int = <fun>\n"
      ]
     },
     "execution_count": 44,
     "metadata": {},
     "output_type": "execute_result"
    }
   ],
   "source": [
    "let eval_int_3 (ctx : (string, int) contexte) (expr : (string, operateur) arbre_binaire) : int =\n",
    "    let vus = parcours_postfix expr in\n",
    "    let pile = Stack.create () in\n",
    "    let aux lex =\n",
    "        print_pile pile;\n",
    "        match lex with\n",
    "        | V(s) -> Stack.push (valeur ctx s) pile;\n",
    "        | O(op) ->\n",
    "            let v1, v2 = Stack.pop pile, Stack.pop pile in\n",
    "            Stack.push ((intop_of_op op) v1 v2) pile;\n",
    "    in\n",
    "    List.iter aux vus;\n",
    "    Stack.pop pile\n",
    ";;"
   ]
  },
  {
   "cell_type": "code",
   "execution_count": 45,
   "metadata": {},
   "outputs": [
    {
     "data": {
      "text/plain": [
       "- : (string, operateur) arbre_binaire =\n",
       "N (F \"x\", Moins, N (F \"y\", Mul, F \"z\"))\n"
      ]
     },
     "execution_count": 45,
     "metadata": {},
     "output_type": "execute_result"
    },
    {
     "name": "stdout",
     "output_type": "stream",
     "text": [
      "\n",
      "Pile : .\n",
      "Pile : 1; .\n",
      "Pile : 2; 1; .\n",
      "Pile : 3; 2; 1; .\n"
     ]
    },
    {
     "data": {
      "text/plain": [
       "- : int = -5\n"
      ]
     },
     "execution_count": 45,
     "metadata": {},
     "output_type": "execute_result"
    }
   ],
   "source": [
    "let _ = exp1 ;;\n",
    "let _ = eval_int_3 contexte1 exp1;;"
   ]
  },
  {
   "cell_type": "code",
   "execution_count": 46,
   "metadata": {},
   "outputs": [
    {
     "data": {
      "text/plain": [
       "- : (string, operateur) arbre_binaire =\n",
       "N (N (F \"x\", Moins, N (F \"y\", Mul, F \"z\")), Div,\n",
       " N (F \"u\", Moins, N (F \"v\", Mul, F \"w\")))\n"
      ]
     },
     "execution_count": 46,
     "metadata": {},
     "output_type": "execute_result"
    },
    {
     "name": "stdout",
     "output_type": "stream",
     "text": [
      "Pile : 6; 1; .\n",
      "Pile : .\n",
      "Pile : 1; .\n",
      "Pile : 2; 1; .\n",
      "Pile : 3; 2; 1; .\n",
      "Pile : 6; 1; .\n",
      "Pile : -5; .\n",
      "Pile : 4; -5; .\n",
      "Pile : 5; 4; -5; .\n",
      "Pile : 6; 5; 4; -5; .\n",
      "Pile : 30; 4; -5; .\n"
     ]
    },
    {
     "data": {
      "text/plain": [
       "- : int = 0\n"
      ]
     },
     "execution_count": 46,
     "metadata": {},
     "output_type": "execute_result"
    }
   ],
   "source": [
    "let _ = exp3;;\n",
    "let _ = eval_int_3 contexte1 exp3;;"
   ]
  },
  {
   "cell_type": "markdown",
   "metadata": {},
   "source": [
    "> Il y a un soucis dans l'ordre d'affichage des lignes, dû à Jupyter et pas à notre fonction."
   ]
  },
  {
   "cell_type": "markdown",
   "metadata": {},
   "source": [
    "On vérifie qu'on utilise au plus 4 valeurs sur la pile, comme représenté dans la figure de l'énoncé :\n",
    "\n",
    "<img width=\"70%\" alt=\"images/public2018-D1_ex3.png\" src=\"images/public2018-D1_ex3.png\">"
   ]
  },
  {
   "cell_type": "markdown",
   "metadata": {},
   "source": [
    "### Affichage dans ce langage de manipulation de registre\n",
    "On ne va pas trop formaliser ça, mais juste les afficher..."
   ]
  },
  {
   "cell_type": "code",
   "execution_count": 47,
   "metadata": {},
   "outputs": [
    {
     "data": {
      "text/plain": [
       "val print_aff : int -> int -> string -> unit = <fun>\n"
      ]
     },
     "execution_count": 47,
     "metadata": {},
     "output_type": "execute_result"
    }
   ],
   "source": [
    "let print_aff (line : int) (i : int) (s : string) : unit =\n",
    "    print \"\\n%02i: R[%d] := %s ;\" line i s;\n",
    ";;"
   ]
  },
  {
   "cell_type": "code",
   "execution_count": 48,
   "metadata": {},
   "outputs": [
    {
     "data": {
      "text/plain": [
       "val string_of_op : operateur -> string = <fun>\n"
      ]
     },
     "execution_count": 48,
     "metadata": {},
     "output_type": "execute_result"
    }
   ],
   "source": [
    "let string_of_op (op : operateur) : string =\n",
    "    match op with\n",
    "    | Plus -> \"+\"\n",
    "    | Moins | MoinsDroite -> \"-\"\n",
    "    | Mul -> \"*\"\n",
    "    | Div | DivDroite -> \"/\"\n",
    "    | Modulo -> \"%\"\n",
    "    | Expo -> \"^\"\n",
    ";;"
   ]
  },
  {
   "cell_type": "code",
   "execution_count": 49,
   "metadata": {},
   "outputs": [
    {
     "data": {
      "text/plain": [
       "val print_op : int -> int -> int -> int -> operateur -> unit = <fun>\n"
      ]
     },
     "execution_count": 49,
     "metadata": {},
     "output_type": "execute_result"
    }
   ],
   "source": [
    "let print_op (line : int) (i : int) (j : int) (k : int) (op : operateur) : unit =\n",
    "    match op with\n",
    "    | MoinsDroite | DivDroite -> (* on gère ici les opérateurs \"inverses\" *)\n",
    "        print \"\\n%02i: R[%d] := R[%d] %s R[%d] ;\" line i k (string_of_op op) j;\n",
    "    | _ ->\n",
    "        print \"\\n%02i: R[%d] := R[%d] %s R[%d] ;\" line i j (string_of_op op) k;\n",
    ";;"
   ]
  },
  {
   "cell_type": "code",
   "execution_count": 50,
   "metadata": {},
   "outputs": [
    {
     "data": {
      "text/plain": [
       "val eval_int_4 :\n",
       "  (string, int) contexte -> (string, operateur) arbre_binaire -> int = <fun>\n"
      ]
     },
     "execution_count": 50,
     "metadata": {},
     "output_type": "execute_result"
    }
   ],
   "source": [
    "let eval_int_4 (ctx : (string, int) contexte) (expr : (string, operateur) arbre_binaire) : int =\n",
    "    let vus = parcours_postfix expr in\n",
    "    let pile = Stack.create () in\n",
    "    let ligne = ref 0 in\n",
    "    let aux lex =\n",
    "        incr ligne;\n",
    "        match lex with\n",
    "        | V(s) ->\n",
    "            Stack.push (valeur ctx s) pile;\n",
    "            print_aff !ligne ((Stack.length pile) - 1) s;\n",
    "        | O(op) ->\n",
    "            let v1, v2 = Stack.pop pile, Stack.pop pile in\n",
    "            Stack.push ((intop_of_op op) v1 v2) pile;\n",
    "            print_op !ligne ((Stack.length pile) - 1) ((Stack.length pile) - 1) (Stack.length pile) op;\n",
    "    in\n",
    "    List.iter aux vus;\n",
    "    Stack.pop pile\n",
    ";;"
   ]
  },
  {
   "cell_type": "markdown",
   "metadata": {},
   "source": [
    "Essayons ça :"
   ]
  },
  {
   "cell_type": "code",
   "execution_count": 62,
   "metadata": {},
   "outputs": [
    {
     "data": {
      "text/plain": [
       "- : (string, operateur) arbre_binaire =\n",
       "N (F \"x\", Moins, N (F \"y\", Mul, F \"z\"))\n"
      ]
     },
     "execution_count": 62,
     "metadata": {},
     "output_type": "execute_result"
    },
    {
     "name": "stdout",
     "output_type": "stream",
     "text": [
      "04: R[1] := R[1] * R[2] ;\n",
      "05: R[0] := R[0] - R[1] ;\n",
      "01: R[0] := x ;\n",
      "02: R[1] := y ;\n",
      "03: R[2] := z ;\n"
     ]
    },
    {
     "data": {
      "text/plain": [
       "- : int = -5\n"
      ]
     },
     "execution_count": 62,
     "metadata": {},
     "output_type": "execute_result"
    }
   ],
   "source": [
    "let _ = exp1 ;;\n",
    "let _ = eval_int_4 contexte1 exp1;;"
   ]
  },
  {
   "cell_type": "code",
   "execution_count": 66,
   "metadata": {},
   "outputs": [
    {
     "data": {
      "text/plain": [
       "- : (string, operateur) arbre_binaire =\n",
       "N (N (F \"x\", Moins, N (F \"y\", Mul, F \"z\")), Div,\n",
       " N (F \"u\", Moins, N (F \"v\", Mul, F \"w\")))\n"
      ]
     },
     "execution_count": 66,
     "metadata": {},
     "output_type": "execute_result"
    },
    {
     "name": "stdout",
     "output_type": "stream",
     "text": [
      "10: R[1] := R[1] - R[2] ;\n",
      "11: R[0] := R[0] / R[1] ;\n",
      "01: R[0] := x ;\n",
      "02: R[1] := y ;\n",
      "03: R[2] := z ;\n",
      "04: R[1] := R[1] * R[2] ;\n",
      "05: R[0] := R[0] - R[1] ;\n",
      "06: R[1] := u ;\n",
      "07: R[2] := v ;\n",
      "08: R[3] := w ;\n",
      "09: R[2] := R[2] * R[3] ;\n"
     ]
    },
    {
     "data": {
      "text/plain": [
       "- : int = 0\n"
      ]
     },
     "execution_count": 66,
     "metadata": {},
     "output_type": "execute_result"
    }
   ],
   "source": [
    "let _ = exp3;;\n",
    "let _ = eval_int_4 contexte1 exp3;;"
   ]
  },
  {
   "cell_type": "markdown",
   "metadata": {},
   "source": [
    "### Méthode d'Ershov\n",
    "Enfin, on va générer, en plus de l'évaluation, un affichage comme celui qu'on voulait, qui montre les affectations dans les registres, et permettra de visualiser que la méthode d'Ershov utilise un registre de moins sur le terme exemple qui calcule $(x - y*z)/(u - v*w)$."
   ]
  },
  {
   "cell_type": "markdown",
   "metadata": {},
   "source": [
    "On rappelle qu'on a obtenu un arbre binaire décoré, représenté comme tel :"
   ]
  },
  {
   "cell_type": "code",
   "execution_count": 53,
   "metadata": {},
   "outputs": [
    {
     "data": {
      "text/plain": [
       "- : (string, operateur, decoration) arbre_binaire_decore =\n",
       "N2\n",
       " ({rho = 1; premier_gauche = false}, F2 \"x\", Moins,\n",
       "  N2 ({rho = 1; premier_gauche = true}, F2 \"y\", Mul, F2 \"z\"))\n"
      ]
     },
     "execution_count": 53,
     "metadata": {},
     "output_type": "execute_result"
    }
   ],
   "source": [
    "decore exp1;;"
   ]
  },
  {
   "cell_type": "markdown",
   "metadata": {},
   "source": [
    "On modifie notre parcours postfix pour prendre en compte la décoration et savoir si on calcul d'abord le sous-arbre gauche ou droit."
   ]
  },
  {
   "cell_type": "code",
   "execution_count": 54,
   "metadata": {},
   "outputs": [
    {
     "data": {
      "text/plain": [
       "val parcours_postfix_decore :\n",
       "  ('a, operateur, decoration) arbre_binaire_decore ->\n",
       "  ('a, operateur) parcours = <fun>\n"
      ]
     },
     "execution_count": 54,
     "metadata": {},
     "output_type": "execute_result"
    }
   ],
   "source": [
    "let parcours_postfix_decore (expr : ('a, 'b, decoration) arbre_binaire_decore) : (('a, 'b) parcours) =\n",
    "    let rec parcours vus expr =\n",
    "        match expr with\n",
    "        | F2(s) -> V(s) :: vus\n",
    "        | N2(dec, t1, Moins, t2) when dec.premier_gauche = false ->\n",
    "            O(MoinsDroite) :: (parcours (parcours vus t2) t1)\n",
    "        | N2(dec, t1, MoinsDroite, t2) when dec.premier_gauche = false ->\n",
    "            O(Moins) :: (parcours (parcours vus t2) t1)\n",
    "        | N2(dec, t1, Div, t2) when dec.premier_gauche = false ->\n",
    "            O(DivDroite) :: (parcours (parcours vus t2) t1)\n",
    "        | N2(dec, t1, DivDroite, t2) when dec.premier_gauche = false ->\n",
    "            O(Div) :: (parcours (parcours vus t2) t1)\n",
    "        | N2(dec, t1, op, t2) when dec.premier_gauche = false ->\n",
    "            O(op) :: (parcours (parcours vus t2) t1)\n",
    "        | N2(_, t1, op, t2) ->\n",
    "            O(op) :: (parcours (parcours vus t1) t2)\n",
    "    in\n",
    "    List.rev (parcours [] expr)\n",
    ";;"
   ]
  },
  {
   "cell_type": "code",
   "execution_count": 55,
   "metadata": {},
   "outputs": [
    {
     "data": {
      "text/plain": [
       "val eval_int_ershov :\n",
       "  (string, int) contexte -> (string, operateur) arbre_binaire -> int = <fun>\n"
      ]
     },
     "execution_count": 55,
     "metadata": {},
     "output_type": "execute_result"
    }
   ],
   "source": [
    "let eval_int_ershov (ctx : (string, int) contexte) (expr : (string, operateur) arbre_binaire) : int =\n",
    "    let vus = parcours_postfix_decore (decore expr) in\n",
    "    let pile = Stack.create () in\n",
    "    let ligne = ref 0 in\n",
    "    let aux lex =\n",
    "        incr ligne;\n",
    "        match lex with\n",
    "        | V(s) ->\n",
    "            Stack.push (valeur ctx s) pile;\n",
    "            print_aff !ligne ((Stack.length pile) - 1) s;\n",
    "        | O(op) ->\n",
    "            let v1, v2 = Stack.pop pile, Stack.pop pile in\n",
    "            Stack.push ((intop_of_op op) v1 v2) pile;\n",
    "            print_op !ligne ((Stack.length pile) - 1) ((Stack.length pile) - 1) (Stack.length pile) op;\n",
    "    in\n",
    "    List.iter aux vus;\n",
    "    Stack.pop pile\n",
    ";;"
   ]
  },
  {
   "cell_type": "markdown",
   "metadata": {},
   "source": [
    "Essayons ça :"
   ]
  },
  {
   "cell_type": "code",
   "execution_count": 56,
   "metadata": {},
   "outputs": [
    {
     "data": {
      "text/plain": [
       "- : (string, operateur) arbre_binaire =\n",
       "N (F \"x\", Moins, N (F \"y\", Mul, F \"z\"))\n"
      ]
     },
     "execution_count": 56,
     "metadata": {},
     "output_type": "execute_result"
    },
    {
     "name": "stdout",
     "output_type": "stream",
     "text": [
      "10: R[1] := R[1] - R[2] ;\n",
      "11: R[0] := R[0] / R[1] ;\n",
      "01: R[0] := y ;\n",
      "02: R[1] := z ;\n",
      "03: R[0] := R[0] * R[1] ;\n"
     ]
    },
    {
     "data": {
      "text/plain": [
       "- : int = -5\n"
      ]
     },
     "execution_count": 56,
     "metadata": {},
     "output_type": "execute_result"
    }
   ],
   "source": [
    "let _ = exp1 ;;\n",
    "let _ = eval_int_ershov contexte1 exp1;;"
   ]
  },
  {
   "cell_type": "code",
   "execution_count": 68,
   "metadata": {},
   "outputs": [
    {
     "data": {
      "text/plain": [
       "- : (string, operateur) arbre_binaire =\n",
       "N (N (F \"x\", Moins, N (F \"y\", Mul, F \"z\")), Div,\n",
       " N (F \"u\", Moins, N (F \"v\", Mul, F \"w\")))\n"
      ]
     },
     "execution_count": 68,
     "metadata": {},
     "output_type": "execute_result"
    },
    {
     "name": "stdout",
     "output_type": "stream",
     "text": [
      "10: R[1] := R[2] - R[1] ;\n",
      "11: R[0] := R[0] / R[1] ;\n",
      "01: R[0] := y ;\n",
      "02: R[1] := z ;\n",
      "03: R[0] := R[0] * R[1] ;\n",
      "04: R[1] := x ;\n",
      "05: R[0] := R[1] - R[0] ;\n",
      "06: R[1] := v ;\n",
      "07: R[2] := w ;\n",
      "08: R[1] := R[1] * R[2] ;\n",
      "09: R[2] := u ;\n"
     ]
    },
    {
     "data": {
      "text/plain": [
       "- : int = 0\n"
      ]
     },
     "execution_count": 68,
     "metadata": {},
     "output_type": "execute_result"
    }
   ],
   "source": [
    "let _ = exp3;;\n",
    "let _ = eval_int_ershov contexte1 exp3;;"
   ]
  },
  {
   "cell_type": "markdown",
   "metadata": {},
   "source": [
    "Et voilà, ce n'était pas trop dur !"
   ]
  },
  {
   "cell_type": "markdown",
   "metadata": {},
   "source": [
    "----\n",
    "## Conclusion\n",
    "\n",
    "Voilà pour la question obligatoire de programmation, et un petit bonus.\n",
    "\n",
    "### Qualités\n",
    "- On a décomposé le problème en sous-fonctions (d'abord le calcul de $\\rho$ puis la méthode d'Ershov),\n",
    "- On a fait des exemples et *on les garde* dans ce qu'on présente au jury,\n",
    "- On a testé la fonction exigée sur de petits exemples et sur un exemple de taille réelle (venant du texte).\n",
    "\n",
    "### Bonus\n",
    "On a fait pas mal de bonus, en interprétant les termes, d'abord via l'arbre et des appels récursifs, ensuite par une lecture postfix et une pile, qui nous a permis de vérifier l'évolution de la pile et de sa hauteur (avec le même exemple que dans le texte), et ensuite avec une espèce de \"compilation\" en visualisant les affectations dans ces registres. La \"compilation\" n'est pas réelle, on a uniquement affiché des choses, mais elle permet de vérifier que la méthode de Ershov aide effectivement à réduire le nombre de registre requis.\n",
    "\n",
    "### Défauts\n",
    "- ?\n",
    "\n",
    "\n",
    "> Bien-sûr, ce petit notebook ne se prétend pas être une solution optimale, ni exhaustive.\n",
    "\n",
    "> Vous auriez pu choisir de modéliser le problème avec une autre approche, n'hésitez pas [à me contacter svp](http://perso.crans.org/besson/callme.html)."
   ]
  },
  {
   "cell_type": "markdown",
   "metadata": {},
   "source": [
    "> C'est tout pour aujourd'hui les amis, allez voir [ici pour d'autres corrections](https://github.com/Naereen/notebooks/tree/master/agreg), et que la force soit avec vous !"
   ]
  }
 ],
 "metadata": {
  "kernelspec": {
   "display_name": "OCaml 4.04.2",
   "language": "OCaml",
   "name": "ocaml-jupyter"
  },
  "language_info": {
   "codemirror_mode": "text/x-ocaml",
   "file_extension": ".ml",
   "mimetype": "text/x-ocaml",
   "name": "OCaml",
   "nbconverter_exporter": null,
   "pygments_lexer": "OCaml",
   "version": "4.04.2"
  },
  "notify_time": "10",
  "toc": {
   "colors": {
    "hover_highlight": "#DAA520",
    "running_highlight": "#FF0000",
    "selected_highlight": "#FFD700"
   },
   "moveMenuLeft": true,
   "nav_menu": {
    "height": "429px",
    "width": "251px"
   },
   "navigate_menu": true,
   "number_sections": true,
   "sideBar": true,
   "threshold": 4,
   "toc_cell": true,
   "toc_section_display": "block",
   "toc_window_display": false
  }
 },
 "nbformat": 4,
 "nbformat_minor": 2
}
