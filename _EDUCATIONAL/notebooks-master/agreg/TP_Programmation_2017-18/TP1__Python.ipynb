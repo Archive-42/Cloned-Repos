{
 "cells": [
  {
   "cell_type": "markdown",
   "metadata": {
    "toc": "true"
   },
   "source": [
    "<h1>Table of Contents<span class=\"tocSkip\"></span></h1>\n",
    "<div class=\"toc\"><ul class=\"toc-item\"><li><span><a href=\"#TP-1---Programmation-pour-la-préparation-à-l'agrégation-maths-option-info\" data-toc-modified-id=\"TP-1---Programmation-pour-la-préparation-à-l'agrégation-maths-option-info-1\"><span class=\"toc-item-num\">1&nbsp;&nbsp;</span>TP 1 - Programmation pour la préparation à l'agrégation maths option info</a></span><ul class=\"toc-item\"><li><span><a href=\"#Remarques-sur-le-style\" data-toc-modified-id=\"Remarques-sur-le-style-1.1\"><span class=\"toc-item-num\">1.1&nbsp;&nbsp;</span>Remarques sur le style</a></span></li></ul></li><li><span><a href=\"#Fonctions\" data-toc-modified-id=\"Fonctions-2\"><span class=\"toc-item-num\">2&nbsp;&nbsp;</span>Fonctions</a></span><ul class=\"toc-item\"><li><span><a href=\"#Exercice-4\" data-toc-modified-id=\"Exercice-4-2.1\"><span class=\"toc-item-num\">2.1&nbsp;&nbsp;</span>Exercice 4</a></span></li><li><span><a href=\"#Exercice-5\" data-toc-modified-id=\"Exercice-5-2.2\"><span class=\"toc-item-num\">2.2&nbsp;&nbsp;</span>Exercice 5</a></span></li><li><span><a href=\"#Exercice-6\" data-toc-modified-id=\"Exercice-6-2.3\"><span class=\"toc-item-num\">2.3&nbsp;&nbsp;</span>Exercice 6</a></span></li></ul></li><li><span><a href=\"#Récursivité\" data-toc-modified-id=\"Récursivité-3\"><span class=\"toc-item-num\">3&nbsp;&nbsp;</span>Récursivité</a></span><ul class=\"toc-item\"><li><span><a href=\"#Exercice-7\" data-toc-modified-id=\"Exercice-7-3.1\"><span class=\"toc-item-num\">3.1&nbsp;&nbsp;</span>Exercice 7</a></span></li><li><span><a href=\"#Exercice-8\" data-toc-modified-id=\"Exercice-8-3.2\"><span class=\"toc-item-num\">3.2&nbsp;&nbsp;</span>Exercice 8</a></span></li><li><span><a href=\"#Exercice-9\" data-toc-modified-id=\"Exercice-9-3.3\"><span class=\"toc-item-num\">3.3&nbsp;&nbsp;</span>Exercice 9</a></span></li><li><span><a href=\"#Exercice-10\" data-toc-modified-id=\"Exercice-10-3.4\"><span class=\"toc-item-num\">3.4&nbsp;&nbsp;</span>Exercice 10</a></span></li><li><span><a href=\"#Exercice-11\" data-toc-modified-id=\"Exercice-11-3.5\"><span class=\"toc-item-num\">3.5&nbsp;&nbsp;</span>Exercice 11</a></span></li></ul></li><li><span><a href=\"#Listes\" data-toc-modified-id=\"Listes-4\"><span class=\"toc-item-num\">4&nbsp;&nbsp;</span>Listes</a></span><ul class=\"toc-item\"><li><span><a href=\"#Exercice-12\" data-toc-modified-id=\"Exercice-12-4.1\"><span class=\"toc-item-num\">4.1&nbsp;&nbsp;</span>Exercice 12</a></span></li><li><span><a href=\"#Exercice-13\" data-toc-modified-id=\"Exercice-13-4.2\"><span class=\"toc-item-num\">4.2&nbsp;&nbsp;</span>Exercice 13</a></span></li><li><span><a href=\"#Exercice-14\" data-toc-modified-id=\"Exercice-14-4.3\"><span class=\"toc-item-num\">4.3&nbsp;&nbsp;</span>Exercice 14</a></span></li><li><span><a href=\"#Exercice-15\" data-toc-modified-id=\"Exercice-15-4.4\"><span class=\"toc-item-num\">4.4&nbsp;&nbsp;</span>Exercice 15</a></span></li><li><span><a href=\"#Exercice-16\" data-toc-modified-id=\"Exercice-16-4.5\"><span class=\"toc-item-num\">4.5&nbsp;&nbsp;</span>Exercice 16</a></span></li><li><span><a href=\"#Exercice-17\" data-toc-modified-id=\"Exercice-17-4.6\"><span class=\"toc-item-num\">4.6&nbsp;&nbsp;</span>Exercice 17</a></span></li></ul></li><li><span><a href=\"#Exponentiation-rapide\" data-toc-modified-id=\"Exponentiation-rapide-5\"><span class=\"toc-item-num\">5&nbsp;&nbsp;</span>Exponentiation rapide</a></span><ul class=\"toc-item\"><li><span><a href=\"#Exercice-18\" data-toc-modified-id=\"Exercice-18-5.1\"><span class=\"toc-item-num\">5.1&nbsp;&nbsp;</span>Exercice 18</a></span></li><li><span><a href=\"#Exercice-19\" data-toc-modified-id=\"Exercice-19-5.2\"><span class=\"toc-item-num\">5.2&nbsp;&nbsp;</span>Exercice 19</a></span></li><li><span><a href=\"#Exercice-20\" data-toc-modified-id=\"Exercice-20-5.3\"><span class=\"toc-item-num\">5.3&nbsp;&nbsp;</span>Exercice 20</a></span></li><li><span><a href=\"#Exercice-21\" data-toc-modified-id=\"Exercice-21-5.4\"><span class=\"toc-item-num\">5.4&nbsp;&nbsp;</span>Exercice 21</a></span></li><li><span><a href=\"#Exercice-22\" data-toc-modified-id=\"Exercice-22-5.5\"><span class=\"toc-item-num\">5.5&nbsp;&nbsp;</span>Exercice 22</a></span></li><li><span><a href=\"#Exercice-23\" data-toc-modified-id=\"Exercice-23-5.6\"><span class=\"toc-item-num\">5.6&nbsp;&nbsp;</span>Exercice 23</a></span></li></ul></li><li><span><a href=\"#Formule-du-calcul-propositionnel\" data-toc-modified-id=\"Formule-du-calcul-propositionnel-6\"><span class=\"toc-item-num\">6&nbsp;&nbsp;</span>Formule du calcul propositionnel</a></span><ul class=\"toc-item\"><li><span><a href=\"#Exercice-24\" data-toc-modified-id=\"Exercice-24-6.1\"><span class=\"toc-item-num\">6.1&nbsp;&nbsp;</span>Exercice 24</a></span></li><li><span><a href=\"#Exercice-25\" data-toc-modified-id=\"Exercice-25-6.2\"><span class=\"toc-item-num\">6.2&nbsp;&nbsp;</span>Exercice 25</a></span></li><li><span><a href=\"#Exercice-26\" data-toc-modified-id=\"Exercice-26-6.3\"><span class=\"toc-item-num\">6.3&nbsp;&nbsp;</span>Exercice 26</a></span></li><li><span><a href=\"#Exercice-27\" data-toc-modified-id=\"Exercice-27-6.4\"><span class=\"toc-item-num\">6.4&nbsp;&nbsp;</span>Exercice 27</a></span></li><li><span><a href=\"#Exercice-28\" data-toc-modified-id=\"Exercice-28-6.5\"><span class=\"toc-item-num\">6.5&nbsp;&nbsp;</span>Exercice 28</a></span></li></ul></li><li><span><a href=\"#Conclusion\" data-toc-modified-id=\"Conclusion-7\"><span class=\"toc-item-num\">7&nbsp;&nbsp;</span>Conclusion</a></span></li></ul></div>"
   ]
  },
  {
   "cell_type": "markdown",
   "metadata": {},
   "source": [
    "# TP 1 - Programmation pour la préparation à l'agrégation maths option info\n",
    "\n",
    "## Remarques sur le style\n",
    "Ici, pour vous montrer, j'ai utilisé :\n",
    "- En Python 3, avec des annotations de types.\n",
    "- Notez que ce ne sont que des annotations.\n",
    "- Pour plus, il faudrait utiliser [quelque chose comme `beartype`](https://stackoverflow.com/a/37961120/2809027).\n",
    "\n",
    "Notez que ce n'est absolument *pas nécessaire*, c'était juste pour montrer que ce genre d'annotations peut aider à passer de Caml à Python."
   ]
  },
  {
   "cell_type": "markdown",
   "metadata": {},
   "source": [
    "# Fonctions"
   ]
  },
  {
   "cell_type": "markdown",
   "metadata": {},
   "source": [
    "## Exercice 4"
   ]
  },
  {
   "cell_type": "code",
   "execution_count": 65,
   "metadata": {
    "ExecuteTime": {
     "end_time": "2020-09-21T14:07:17.088595Z",
     "start_time": "2020-09-21T14:07:17.077008Z"
    }
   },
   "outputs": [],
   "source": [
    "def successeur(i : int) -> int:\n",
    "    assert isinstance(i, int), \"Erreur : i = {} doit etre entier.\".format(i)\n",
    "    assert i >= 0, \"Erreur : i = {} doit etre >= 0.\".format(i)\n",
    "    return i + 1"
   ]
  },
  {
   "cell_type": "code",
   "execution_count": 66,
   "metadata": {
    "ExecuteTime": {
     "end_time": "2020-09-21T14:07:17.664661Z",
     "start_time": "2020-09-21T14:07:17.628150Z"
    }
   },
   "outputs": [
    {
     "ename": "AssertionError",
     "evalue": "Erreur : i = 2.5 doit etre entier.",
     "output_type": "error",
     "traceback": [
      "\u001b[0;31m---------------------------------------------------------------------------\u001b[0m",
      "\u001b[0;31mAssertionError\u001b[0m                            Traceback (most recent call last)",
      "\u001b[0;32m<ipython-input-66-92b9c730a603>\u001b[0m in \u001b[0;36m<module>\u001b[0;34m\u001b[0m\n\u001b[1;32m      1\u001b[0m \u001b[0msuccesseur\u001b[0m\u001b[0;34m(\u001b[0m\u001b[0;36m3\u001b[0m\u001b[0;34m)\u001b[0m\u001b[0;34m\u001b[0m\u001b[0;34m\u001b[0m\u001b[0m\n\u001b[1;32m      2\u001b[0m \u001b[0msuccesseur\u001b[0m\u001b[0;34m(\u001b[0m\u001b[0;36m2\u001b[0m \u001b[0;34m*\u001b[0m \u001b[0;36m2\u001b[0m\u001b[0;34m)\u001b[0m\u001b[0;34m\u001b[0m\u001b[0;34m\u001b[0m\u001b[0m\n\u001b[0;32m----> 3\u001b[0;31m \u001b[0msuccesseur\u001b[0m\u001b[0;34m(\u001b[0m\u001b[0;36m2.5\u001b[0m\u001b[0;34m)\u001b[0m\u001b[0;34m\u001b[0m\u001b[0;34m\u001b[0m\u001b[0m\n\u001b[0m",
      "\u001b[0;32m<ipython-input-65-6247174adc0e>\u001b[0m in \u001b[0;36msuccesseur\u001b[0;34m(i)\u001b[0m\n\u001b[1;32m      1\u001b[0m \u001b[0;32mdef\u001b[0m \u001b[0msuccesseur\u001b[0m\u001b[0;34m(\u001b[0m\u001b[0mi\u001b[0m \u001b[0;34m:\u001b[0m \u001b[0mstr\u001b[0m\u001b[0;34m)\u001b[0m \u001b[0;34m->\u001b[0m \u001b[0mfloat\u001b[0m\u001b[0;34m:\u001b[0m\u001b[0;34m\u001b[0m\u001b[0;34m\u001b[0m\u001b[0m\n\u001b[0;32m----> 2\u001b[0;31m     \u001b[0;32massert\u001b[0m \u001b[0misinstance\u001b[0m\u001b[0;34m(\u001b[0m\u001b[0mi\u001b[0m\u001b[0;34m,\u001b[0m \u001b[0mint\u001b[0m\u001b[0;34m)\u001b[0m\u001b[0;34m,\u001b[0m \u001b[0;34m\"Erreur : i = {} doit etre entier.\"\u001b[0m\u001b[0;34m.\u001b[0m\u001b[0mformat\u001b[0m\u001b[0;34m(\u001b[0m\u001b[0mi\u001b[0m\u001b[0;34m)\u001b[0m\u001b[0;34m\u001b[0m\u001b[0;34m\u001b[0m\u001b[0m\n\u001b[0m\u001b[1;32m      3\u001b[0m     \u001b[0;32massert\u001b[0m \u001b[0mi\u001b[0m \u001b[0;34m>=\u001b[0m \u001b[0;36m0\u001b[0m\u001b[0;34m,\u001b[0m \u001b[0;34m\"Erreur : i = {} doit etre >= 0.\"\u001b[0m\u001b[0;34m.\u001b[0m\u001b[0mformat\u001b[0m\u001b[0;34m(\u001b[0m\u001b[0mi\u001b[0m\u001b[0;34m)\u001b[0m\u001b[0;34m\u001b[0m\u001b[0;34m\u001b[0m\u001b[0m\n\u001b[1;32m      4\u001b[0m     \u001b[0;32mreturn\u001b[0m \u001b[0mi\u001b[0m \u001b[0;34m+\u001b[0m \u001b[0;36m1\u001b[0m\u001b[0;34m\u001b[0m\u001b[0;34m\u001b[0m\u001b[0m\n",
      "\u001b[0;31mAssertionError\u001b[0m: Erreur : i = 2.5 doit etre entier."
     ]
    }
   ],
   "source": [
    "successeur(3)\n",
    "successeur(2 * 2)\n",
    "successeur(2.5)"
   ]
  },
  {
   "cell_type": "markdown",
   "metadata": {},
   "source": [
    "## Exercice 5"
   ]
  },
  {
   "cell_type": "code",
   "execution_count": 4,
   "metadata": {},
   "outputs": [],
   "source": [
    "def produit3(x, y, z):\n",
    "    return x * y * z\n",
    "\n",
    "produit3_2 = lambda x, y, z: x * y * z\n",
    "\n",
    "produit3_3 = lambda x: lambda y: lambda z: x * y * z"
   ]
  },
  {
   "cell_type": "code",
   "execution_count": 5,
   "metadata": {},
   "outputs": [
    {
     "data": {
      "text/plain": [
       "6"
      ]
     },
     "execution_count": 5,
     "metadata": {},
     "output_type": "execute_result"
    },
    {
     "data": {
      "text/plain": [
       "6"
      ]
     },
     "execution_count": 5,
     "metadata": {},
     "output_type": "execute_result"
    },
    {
     "data": {
      "text/plain": [
       "<function __main__.<lambda>.<locals>.<lambda>.<locals>.<lambda>(z)>"
      ]
     },
     "execution_count": 5,
     "metadata": {},
     "output_type": "execute_result"
    },
    {
     "data": {
      "text/plain": [
       "6"
      ]
     },
     "execution_count": 5,
     "metadata": {},
     "output_type": "execute_result"
    },
    {
     "data": {
      "text/plain": [
       "6"
      ]
     },
     "execution_count": 5,
     "metadata": {},
     "output_type": "execute_result"
    }
   ],
   "source": [
    "produit3(1, 2, 3)\n",
    "produit3_2(1, 2, 3)\n",
    "produit3_3(1)(2)  # lambda z : 1 * 2 * z\n",
    "f = produit3_3(1)(2)  # lambda z : 1 * 2 * z\n",
    "f(3)\n",
    "produit3_3(1)(2)(3)"
   ]
  },
  {
   "cell_type": "markdown",
   "metadata": {},
   "source": [
    "## Exercice 6"
   ]
  },
  {
   "cell_type": "code",
   "execution_count": 6,
   "metadata": {},
   "outputs": [],
   "source": [
    "def exercice6(n : int) -> None:\n",
    "    for i in range(1, n + 1):\n",
    "        print(i)\n",
    "    for i in range(n, 0, -1):\n",
    "        print(i)"
   ]
  },
  {
   "cell_type": "code",
   "execution_count": 7,
   "metadata": {},
   "outputs": [
    {
     "name": "stdout",
     "output_type": "stream",
     "text": [
      "1\n",
      "2\n",
      "3\n",
      "4\n",
      "4\n",
      "3\n",
      "2\n",
      "1\n"
     ]
    }
   ],
   "source": [
    "exercice6(4)"
   ]
  },
  {
   "cell_type": "markdown",
   "metadata": {},
   "source": [
    "# Récursivité\n",
    "\n",
    "C'est simple. Pas besoin d'un mot clé `rec` quand on définit une fonction récursive en Python."
   ]
  },
  {
   "cell_type": "markdown",
   "metadata": {},
   "source": [
    "## Exercice 7"
   ]
  },
  {
   "cell_type": "code",
   "execution_count": 8,
   "metadata": {},
   "outputs": [],
   "source": [
    "def factorielle(n : int) -> int:\n",
    "    if n <= 0:\n",
    "        return 0\n",
    "    elif n == 1:\n",
    "        return 1\n",
    "    else:\n",
    "        return n * factorielle(n - 1)"
   ]
  },
  {
   "cell_type": "code",
   "execution_count": 10,
   "metadata": {},
   "outputs": [
    {
     "name": "stdout",
     "output_type": "stream",
     "text": [
      "0! =     0\n",
      "1! =     1\n",
      "2! =     2\n",
      "3! =     6\n",
      "4! =    24\n",
      "5! =   120\n",
      "6! =   720\n",
      "7! =  5040\n"
     ]
    }
   ],
   "source": [
    "for i in range(8):\n",
    "    print(\"{}! = {:>5}\".format(i, factorielle(i)))\n",
    "    # Note : ce {:>5} signifie que l'affichage utilise au moins\n",
    "    # 5 caractères, pour avoir un joli alignement :"
   ]
  },
  {
   "cell_type": "markdown",
   "metadata": {},
   "source": [
    "## Exercice 8\n",
    "\n",
    "Pour ce genre de fonction, j'aime bien afficher les appels récursifs. On peut rendre ça optionnel, avec comme ici un argument nommé `log`, à valeur par défaut `log=False`."
   ]
  },
  {
   "cell_type": "code",
   "execution_count": 73,
   "metadata": {
    "ExecuteTime": {
     "end_time": "2020-09-21T14:27:30.915769Z",
     "start_time": "2020-09-21T14:27:30.901732Z"
    }
   },
   "outputs": [],
   "source": [
    "def pgcd(x : int, y : int, log: bool=False) -> int:\n",
    "    if log: print(\"x = {:>7}, y = {:>7}\".format(x, y))\n",
    "    assert x >= 0 and y >= 0\n",
    "    if y == 1:\n",
    "        return 1\n",
    "    elif y == x or y == 0:\n",
    "        return x\n",
    "    if x < y:\n",
    "        return pgcd(x, y % x, log=log)\n",
    "    else:\n",
    "        return pgcd(y, x % y, log=log)"
   ]
  },
  {
   "cell_type": "code",
   "execution_count": 74,
   "metadata": {
    "ExecuteTime": {
     "end_time": "2020-09-21T14:27:31.090611Z",
     "start_time": "2020-09-21T14:27:31.083568Z"
    }
   },
   "outputs": [
    {
     "name": "stdout",
     "output_type": "stream",
     "text": [
      "x =    2021, y =       4\n",
      "x =       4, y =       1\n"
     ]
    },
    {
     "data": {
      "text/plain": [
       "1"
      ]
     },
     "execution_count": 74,
     "metadata": {},
     "output_type": "execute_result"
    }
   ],
   "source": [
    "pgcd(2021, 4, log=True)"
   ]
  },
  {
   "cell_type": "code",
   "execution_count": 75,
   "metadata": {
    "ExecuteTime": {
     "end_time": "2020-09-21T14:27:31.622002Z",
     "start_time": "2020-09-21T14:27:31.611480Z"
    }
   },
   "outputs": [
    {
     "data": {
      "text/plain": [
       "5"
      ]
     },
     "execution_count": 75,
     "metadata": {},
     "output_type": "execute_result"
    }
   ],
   "source": [
    "pgcd(10, 5)"
   ]
  },
  {
   "cell_type": "markdown",
   "metadata": {},
   "source": [
    "On peut faire des essais pour afficher notre calcul de PGCD, sur des entiers aléatoires entre $1$ et $100$.\n",
    "\n",
    "Pour se rassurer, on peut chercher dans la bibliothèque standard, à partir de Python 3.6 il y a la fonction `math.gcd` pour calculer le PGCD, sinon `fractions.gcd` ou encore dans le module (non standard) SymPy `sympy.gcd`."
   ]
  },
  {
   "cell_type": "code",
   "execution_count": 15,
   "metadata": {},
   "outputs": [
    {
     "name": "stdout",
     "output_type": "stream",
     "text": [
      " 61 ^  61 =  61\n",
      " 44 ^  85 =   1\n",
      " 48 ^  79 =   1\n",
      " 84 ^  83 =   1\n",
      " 17 ^  20 =   1\n",
      " 39 ^   2 =   1\n",
      " 30 ^  68 =   2\n",
      " 14 ^  87 =   1\n",
      " 46 ^  63 =   1\n",
      " 83 ^  84 =   1\n"
     ]
    }
   ],
   "source": [
    "try:\n",
    "    from math import gcd\n",
    "except ImportError:\n",
    "    try:\n",
    "        from fractions import gcd\n",
    "    except ImportError:\n",
    "        from sympy import gcd\n",
    "\n",
    "\n",
    "from random import randint\n",
    "for _ in range(10):\n",
    "    x = randint(1, 100)\n",
    "    y = randint(1, 100)\n",
    "    d = pgcd(x, y)\n",
    "    print(\"{:>3} ^ {:>3} = {:>3}\".format(x, y, d))\n",
    "    assert d == gcd(x, y), \"Erreur : mauvais calcul de pgcd(x={}, y={}) = {}, alors qu'il devrait etre = {}.\".format(x, y, pgcd(x, y), gcd(x, y))"
   ]
  },
  {
   "cell_type": "markdown",
   "metadata": {},
   "source": [
    "## Exercice 9\n",
    "\n",
    "Rien de particulier à faire, la récursivité fonctionne sans réfléchir :"
   ]
  },
  {
   "cell_type": "code",
   "execution_count": 3,
   "metadata": {
    "ExecuteTime": {
     "end_time": "2020-09-21T10:06:31.131948Z",
     "start_time": "2020-09-21T10:06:31.120250Z"
    }
   },
   "outputs": [],
   "source": [
    "def fibonacci(n : int) -> int:\n",
    "    assert n >= 0\n",
    "    if n == 0 or n == 1:\n",
    "        return 1\n",
    "    else:\n",
    "        return fibonacci(n - 1) + fibonacci(n - 2)"
   ]
  },
  {
   "cell_type": "markdown",
   "metadata": {},
   "source": [
    "Dans IPython (ou Jupyter) on peut facilement mesurer le temps (moyen) d'exécution d'une fonction sur une entrée donnée, avec la *macro* `%timeit`."
   ]
  },
  {
   "cell_type": "code",
   "execution_count": 18,
   "metadata": {},
   "outputs": [
    {
     "name": "stdout",
     "output_type": "stream",
     "text": [
      "4.92 s ± 90.1 ms per loop (mean ± std. dev. of 7 runs, 1 loop each)\n"
     ]
    }
   ],
   "source": [
    "%timeit fibonacci(35)"
   ]
  },
  {
   "cell_type": "markdown",
   "metadata": {},
   "source": [
    "Dans Python, on peut faire pareil avec `timeit()` du module `timeit`.\n",
    "\n",
    "- avantage : on peut plus facilement récupérer le temps de calcul, et ensuite en faire des graphiques par exemple (e.g., afficher $T(f(n))$ en fonction de $n$ pour $n=10,100,...$),\n",
    "- inconvénients :\n",
    "    + il faut bien penser de passer l'argument optionnel `globals=globals()` (`globals()` donne un dictionnaire qui stocke la valeur de toutes les variables définies, donc ici notamment de `fibonacci()`)\n",
    "    + il faut penser à changer l'argument `number` qui par défaut vaut `1000000` : c'est très grand, et donc valable seulement pour estimer le temps de calculs très rapides, par exemple :"
   ]
  },
  {
   "cell_type": "code",
   "execution_count": 9,
   "metadata": {
    "ExecuteTime": {
     "end_time": "2020-09-21T10:11:10.816187Z",
     "start_time": "2020-09-21T10:11:09.308196Z"
    }
   },
   "outputs": [
    {
     "name": "stdout",
     "output_type": "stream",
     "text": [
      "17.3 ns ± 0.152 ns per loop (mean ± std. dev. of 7 runs, 10000000 loops each)\n"
     ]
    },
    {
     "data": {
      "text/plain": [
       "1.744021200283896e-08"
      ]
     },
     "execution_count": 9,
     "metadata": {},
     "output_type": "execute_result"
    }
   ],
   "source": [
    "%timeit 2**35\n",
    "from timeit import timeit\n",
    "timeit(\"2**35\") / 1000000"
   ]
  },
  {
   "cell_type": "code",
   "execution_count": 5,
   "metadata": {
    "ExecuteTime": {
     "end_time": "2020-09-21T10:08:16.277536Z",
     "start_time": "2020-09-21T10:08:10.720734Z"
    }
   },
   "outputs": [
    {
     "name": "stdout",
     "output_type": "stream",
     "text": [
      "Pour calculer fibonacci(35), la fonction récursive naïve a pris 5.549288985988824 secondes (moyenne sur 1 essais)\n"
     ]
    }
   ],
   "source": [
    "from timeit import timeit\n",
    "number = 5\n",
    "temps_calcul_fibo35 = timeit(\"fibonacci(35)\", globals=globals(), number=number) / number\n",
    "print(\"Pour calculer fibonacci(35), la fonction récursive naïve a pris {} secondes (moyenne sur {} essais)\".format(temps_calcul_fibo35, number))"
   ]
  },
  {
   "cell_type": "markdown",
   "metadata": {},
   "source": [
    "##### Fibonacci linéaire impérative\n",
    "Pour la version qui est en complexité (temporelle) linéaire dans l'entrée $n$, il suffit de déplier la récursion en calculant $F_{n+1}$ progressivement en partant de $F_0, F_1$."
   ]
  },
  {
   "cell_type": "code",
   "execution_count": 16,
   "metadata": {
    "ExecuteTime": {
     "end_time": "2020-09-21T10:13:14.453159Z",
     "start_time": "2020-09-21T10:13:14.448775Z"
    }
   },
   "outputs": [],
   "source": [
    "def fibonacci_lin(n : int) -> int:\n",
    "    fim1, fi = 1, 1\n",
    "    for _ in range(n):\n",
    "        fim1, fi = fi, fim1 + fi\n",
    "    return fim1"
   ]
  },
  {
   "cell_type": "markdown",
   "metadata": {},
   "source": [
    "On peut vérifier que cette deuxième implémentation fonctionne comme la première, et ensuite vérifier qu'elle est (bien) plus rapide."
   ]
  },
  {
   "cell_type": "code",
   "execution_count": 17,
   "metadata": {
    "ExecuteTime": {
     "end_time": "2020-09-21T10:13:15.930888Z",
     "start_time": "2020-09-21T10:13:15.924705Z"
    }
   },
   "outputs": [],
   "source": [
    "for i in range(10):\n",
    "    assert fibonacci(i) == fibonacci_lin(i)"
   ]
  },
  {
   "cell_type": "code",
   "execution_count": 18,
   "metadata": {
    "ExecuteTime": {
     "end_time": "2020-09-21T10:13:18.887322Z",
     "start_time": "2020-09-21T10:13:16.747666Z"
    }
   },
   "outputs": [
    {
     "name": "stdout",
     "output_type": "stream",
     "text": [
      "2.54 µs ± 169 ns per loop (mean ± std. dev. of 7 runs, 100000 loops each)\n"
     ]
    }
   ],
   "source": [
    "%timeit fibonacci_lin(35)"
   ]
  },
  {
   "cell_type": "markdown",
   "metadata": {},
   "source": [
    "##### Fibonacci linéaire récursive\n",
    "Pour la version qui est en complexité (temporelle) linéaire dans l'entrée $n$, il suffit de déplier la récursion en calculant $F_{n+1}$ progressivement en partant de $F_0, F_1$."
   ]
  },
  {
   "cell_type": "code",
   "execution_count": 12,
   "metadata": {
    "ExecuteTime": {
     "end_time": "2020-09-21T10:12:24.885160Z",
     "start_time": "2020-09-21T10:12:24.873494Z"
    }
   },
   "outputs": [],
   "source": [
    "def fibonacci_lin_rec(n: int) -> int:\n",
    "    # invariant :\n",
    "    #   m >= 1\n",
    "    #   u = fibo(n-m+1)\n",
    "    #   v = fibo(n-m)\n",
    "    #   aux m u v = fibo(n)\n",
    "    def aux(m: int, u: int, v: int) -> int:\n",
    "        assert m >= 0\n",
    "        if m <= 1:\n",
    "            return u\n",
    "        else:\n",
    "            return aux(m-1, u+v, u)\n",
    "    return aux(n, 1, 1)"
   ]
  },
  {
   "cell_type": "markdown",
   "metadata": {},
   "source": [
    "On peut vérifier que cette troisième implémentation fonctionne comme la première, et ensuite vérifier qu'elle est (bien) plus rapide."
   ]
  },
  {
   "cell_type": "code",
   "execution_count": 13,
   "metadata": {
    "ExecuteTime": {
     "end_time": "2020-09-21T10:12:25.705979Z",
     "start_time": "2020-09-21T10:12:25.698630Z"
    }
   },
   "outputs": [],
   "source": [
    "for i in range(10):\n",
    "    assert fibonacci(i) == fibonacci_lin_rec(i)"
   ]
  },
  {
   "cell_type": "code",
   "execution_count": 15,
   "metadata": {
    "ExecuteTime": {
     "end_time": "2020-09-21T10:12:43.246055Z",
     "start_time": "2020-09-21T10:12:34.747798Z"
    }
   },
   "outputs": [
    {
     "name": "stdout",
     "output_type": "stream",
     "text": [
      "9.52 µs ± 854 ns per loop (mean ± std. dev. of 7 runs, 100000 loops each)\n"
     ]
    }
   ],
   "source": [
    "%timeit fibonacci_lin_rec(35)"
   ]
  },
  {
   "cell_type": "markdown",
   "metadata": {},
   "source": [
    "Voilà les différences :\n",
    "\n",
    "- Les deux implémentations linéaires sont bien plus rapides que l'implémentation naïve (exponentielle), comme prévu !\n",
    "- L'implémentation linéaire impérative est plus rapide que l'implémentation linéaire fonctionnelle récursive, car elle n'a pas besoin de faire des appels de fonctions et de dépiler ensuite les appels de fonctions."
   ]
  },
  {
   "cell_type": "markdown",
   "metadata": {},
   "source": [
    "##### Un petit graphique : juste pour montrer ce que l'on peut faire rapidement"
   ]
  },
  {
   "cell_type": "code",
   "execution_count": 19,
   "metadata": {
    "ExecuteTime": {
     "end_time": "2020-09-21T10:15:06.920414Z",
     "start_time": "2020-09-21T10:15:06.545707Z"
    }
   },
   "outputs": [],
   "source": [
    "import numpy as np\n",
    "import matplotlib.pyplot as plt"
   ]
  },
  {
   "cell_type": "code",
   "execution_count": 30,
   "metadata": {
    "ExecuteTime": {
     "end_time": "2020-09-21T10:19:01.575836Z",
     "start_time": "2020-09-21T10:19:01.572500Z"
    }
   },
   "outputs": [],
   "source": [
    "# optionnel : vous ne l'aurez pas le jour de l'oral, mais c'est joli\n",
    "from tqdm.notebook import tqdm"
   ]
  },
  {
   "cell_type": "code",
   "execution_count": 31,
   "metadata": {
    "ExecuteTime": {
     "end_time": "2020-09-21T10:19:02.098801Z",
     "start_time": "2020-09-21T10:19:02.092203Z"
    }
   },
   "outputs": [],
   "source": [
    "valeurs_n = np.array(range(1, 32))\n",
    "number = 5"
   ]
  },
  {
   "cell_type": "code",
   "execution_count": 32,
   "metadata": {
    "ExecuteTime": {
     "end_time": "2020-09-21T10:19:17.263522Z",
     "start_time": "2020-09-21T10:19:07.337190Z"
    }
   },
   "outputs": [
    {
     "data": {
      "application/vnd.jupyter.widget-view+json": {
       "model_id": "84472a80e9a1439e8cdd8f869ef03907",
       "version_major": 2,
       "version_minor": 0
      },
      "text/plain": [
       "HBox(children=(FloatProgress(value=0.0, max=31.0), HTML(value='')))"
      ]
     },
     "metadata": {},
     "output_type": "display_data"
    },
    {
     "name": "stdout",
     "output_type": "stream",
     "text": [
      "\n",
      "CPU times: user 9.91 s, sys: 3.99 ms, total: 9.91 s\n",
      "Wall time: 9.92 s\n"
     ]
    }
   ],
   "source": [
    "%%time\n",
    "temps_calcul_fibo_rec = [\n",
    "    timeit(\"fibonacci({})\".format(n), globals=globals(), number=number) / number\n",
    "    for n in tqdm(valeurs_n)\n",
    "    # enrober un itérateur de la fonction tqdm(...)\n",
    "    # permet d'avoir une joli barre de progression\n",
    "]"
   ]
  },
  {
   "cell_type": "code",
   "execution_count": 33,
   "metadata": {
    "ExecuteTime": {
     "end_time": "2020-09-21T10:19:42.763913Z",
     "start_time": "2020-09-21T10:19:42.634631Z"
    }
   },
   "outputs": [
    {
     "data": {
      "application/vnd.jupyter.widget-view+json": {
       "model_id": "",
       "version_major": 2,
       "version_minor": 0
      },
      "text/plain": [
       "HBox(children=(FloatProgress(value=0.0, max=31.0), HTML(value='')))"
      ]
     },
     "metadata": {},
     "output_type": "display_data"
    },
    {
     "name": "stdout",
     "output_type": "stream",
     "text": [
      "\n"
     ]
    },
    {
     "data": {
      "application/vnd.jupyter.widget-view+json": {
       "model_id": "",
       "version_major": 2,
       "version_minor": 0
      },
      "text/plain": [
       "HBox(children=(FloatProgress(value=0.0, max=31.0), HTML(value='')))"
      ]
     },
     "metadata": {},
     "output_type": "display_data"
    },
    {
     "name": "stdout",
     "output_type": "stream",
     "text": [
      "\n"
     ]
    }
   ],
   "source": [
    "number = 100\n",
    "temps_calcul_fibo_lin = [\n",
    "    timeit(\"fibonacci_lin({})\".format(n), globals=globals(), number=number) / number\n",
    "    for n in tqdm(valeurs_n)\n",
    "]\n",
    "temps_calcul_fibo_lin_rec = [\n",
    "    timeit(\"fibonacci_lin_rec({})\".format(n), globals=globals(), number=number) / number\n",
    "    for n in tqdm(valeurs_n)\n",
    "]"
   ]
  },
  {
   "cell_type": "code",
   "execution_count": 36,
   "metadata": {
    "ExecuteTime": {
     "end_time": "2020-09-21T10:21:47.428963Z",
     "start_time": "2020-09-21T10:21:47.099693Z"
    }
   },
   "outputs": [
    {
     "data": {
      "image/png": "[encoded data removed]",
      "text/plain": [
       "<Figure size 1008x720 with 1 Axes>"
      ]
     },
     "metadata": {
      "needs_background": "light"
     },
     "output_type": "display_data"
    }
   ],
   "source": [
    "plt.figure(figsize=(14, 10))\n",
    "plt.plot(valeurs_n, temps_calcul_fibo_rec, \"ro-\", label=\"Récursive naïve\")\n",
    "plt.plot(valeurs_n, temps_calcul_fibo_lin, \"bd:\", label=\"Linéaire impérative\")\n",
    "plt.plot(valeurs_n, temps_calcul_fibo_lin_rec, \"ys:\", label=\"Linéaire récursive\")\n",
    "\n",
    "plt.legend()\n",
    "plt.title(\"Comparaison de trois implémentations de la fonction de Fibonacci\")\n",
    "plt.xlabel(\"Valeurs de n\")\n",
    "plt.ylabel(\"Temps moyen de calcul en secondes\")\n",
    "plt.show()"
   ]
  },
  {
   "cell_type": "code",
   "execution_count": 39,
   "metadata": {
    "ExecuteTime": {
     "end_time": "2020-09-21T10:24:45.453220Z",
     "start_time": "2020-09-21T10:24:22.736662Z"
    }
   },
   "outputs": [
    {
     "data": {
      "application/vnd.jupyter.widget-view+json": {
       "model_id": "b5408f83da864f7fb33b7d6eaf1ecee1",
       "version_major": 2,
       "version_minor": 0
      },
      "text/plain": [
       "HBox(children=(FloatProgress(value=0.0, max=99.0), HTML(value='')))"
      ]
     },
     "metadata": {},
     "output_type": "display_data"
    },
    {
     "name": "stdout",
     "output_type": "stream",
     "text": [
      "\n"
     ]
    },
    {
     "data": {
      "application/vnd.jupyter.widget-view+json": {
       "model_id": "cb04e6a859954213afff5ffe72136727",
       "version_major": 2,
       "version_minor": 0
      },
      "text/plain": [
       "HBox(children=(FloatProgress(value=0.0, max=99.0), HTML(value='')))"
      ]
     },
     "metadata": {},
     "output_type": "display_data"
    },
    {
     "name": "stdout",
     "output_type": "stream",
     "text": [
      "\n",
      "CPU times: user 22.7 s, sys: 124 ms, total: 22.8 s\n",
      "Wall time: 22.7 s\n"
     ]
    }
   ],
   "source": [
    "%%time\n",
    "valeurs_n = np.array(range(10, 1000, 10))\n",
    "number = 1000\n",
    "temps_calcul_fibo_lin = [\n",
    "    timeit(\"fibonacci_lin({})\".format(n), globals=globals(), number=number) / number\n",
    "    for n in tqdm(valeurs_n)\n",
    "]\n",
    "temps_calcul_fibo_lin_rec = [\n",
    "    timeit(\"fibonacci_lin_rec({})\".format(n), globals=globals(), number=number) / number\n",
    "    for n in tqdm(valeurs_n)\n",
    "]"
   ]
  },
  {
   "cell_type": "code",
   "execution_count": 40,
   "metadata": {
    "ExecuteTime": {
     "end_time": "2020-09-21T10:24:47.708424Z",
     "start_time": "2020-09-21T10:24:47.346345Z"
    }
   },
   "outputs": [
    {
     "data": {
      "image/png": "[encoded data removed]",
      "text/plain": [
       "<Figure size 1008x720 with 1 Axes>"
      ]
     },
     "metadata": {
      "needs_background": "light"
     },
     "output_type": "display_data"
    }
   ],
   "source": [
    "plt.figure(figsize=(14, 10))\n",
    "plt.plot(valeurs_n, temps_calcul_fibo_lin, \"bd:\", label=\"Linéaire impérative\")\n",
    "plt.plot(valeurs_n, temps_calcul_fibo_lin_rec, \"ys:\", label=\"Linéaire récursive\")\n",
    "\n",
    "plt.legend()\n",
    "plt.title(\"Comparaison de deux implémentations de la fonction de Fibonacci\")\n",
    "plt.xlabel(\"Valeurs de n\")\n",
    "plt.ylabel(\"Temps moyen de calcul en secondes\")\n",
    "plt.show()"
   ]
  },
  {
   "cell_type": "markdown",
   "metadata": {},
   "source": [
    "## Exercice 10\n",
    "\n",
    "Aucune hypothèse n'est faite sur les arguments de la fonction, on supposera seulement qu'elle est itérable sur sa sortie."
   ]
  },
  {
   "cell_type": "code",
   "execution_count": 43,
   "metadata": {
    "ExecuteTime": {
     "end_time": "2020-09-21T10:26:36.528638Z",
     "start_time": "2020-09-21T10:26:36.515505Z"
    }
   },
   "outputs": [],
   "source": [
    "from types import FunctionType  # inutile, juste pour faire joli\n",
    "\n",
    "# première version, f : type x -> type x (simple)\n",
    "def itere(f : FunctionType, n : int) -> FunctionType:\n",
    "    def fn(x):\n",
    "        for _ in range(n):\n",
    "            x = f(x)\n",
    "        return x\n",
    "    return fn"
   ]
  },
  {
   "cell_type": "code",
   "execution_count": 44,
   "metadata": {
    "ExecuteTime": {
     "end_time": "2020-09-21T10:26:36.970802Z",
     "start_time": "2020-09-21T10:26:36.956202Z"
    }
   },
   "outputs": [
    {
     "data": {
      "text/plain": [
       "11"
      ]
     },
     "execution_count": 44,
     "metadata": {},
     "output_type": "execute_result"
    }
   ],
   "source": [
    "itere(lambda x: x + 1, 10)(1)"
   ]
  },
  {
   "cell_type": "markdown",
   "metadata": {},
   "source": [
    "On peut aussi écrire une version récursive :"
   ]
  },
  {
   "cell_type": "code",
   "execution_count": 45,
   "metadata": {
    "ExecuteTime": {
     "end_time": "2020-09-21T10:26:38.811765Z",
     "start_time": "2020-09-21T10:26:38.804786Z"
    }
   },
   "outputs": [],
   "source": [
    "def compose(f, g):\n",
    "    return lambda x: f(g(x))\n",
    "    \"\"\"\n",
    "    def f_rond_g(x):\n",
    "        return f(g(x))\n",
    "    return f_rond_g\n",
    "    \"\"\""
   ]
  },
  {
   "cell_type": "code",
   "execution_count": 48,
   "metadata": {
    "ExecuteTime": {
     "end_time": "2020-09-21T10:26:49.870642Z",
     "start_time": "2020-09-21T10:26:49.866031Z"
    }
   },
   "outputs": [],
   "source": [
    "def itere_rec(f : FunctionType, n : int) -> FunctionType:\n",
    "    assert n >= 0\n",
    "    if n == 0:\n",
    "        return lambda x: x\n",
    "    elif n == 1:\n",
    "        return f\n",
    "    else:\n",
    "        return compose(f, itere_rec(f, n-1))\n",
    "        return compose(itere_rec(f, n-1), f)"
   ]
  },
  {
   "cell_type": "code",
   "execution_count": 49,
   "metadata": {
    "ExecuteTime": {
     "end_time": "2020-09-21T10:26:50.233472Z",
     "start_time": "2020-09-21T10:26:50.222238Z"
    }
   },
   "outputs": [
    {
     "data": {
      "text/plain": [
       "11"
      ]
     },
     "execution_count": 49,
     "metadata": {},
     "output_type": "execute_result"
    }
   ],
   "source": [
    "itere_rec(lambda x: x + 1, 10)(1)"
   ]
  },
  {
   "cell_type": "code",
   "execution_count": 50,
   "metadata": {
    "ExecuteTime": {
     "end_time": "2020-09-21T10:27:39.711749Z",
     "start_time": "2020-09-21T10:27:24.011871Z"
    }
   },
   "outputs": [
    {
     "name": "stdout",
     "output_type": "stream",
     "text": [
      "969 µs ± 89.8 µs per loop (mean ± std. dev. of 7 runs, 1000 loops each)\n",
      "946 µs ± 79.5 µs per loop (mean ± std. dev. of 7 runs, 1000 loops each)\n"
     ]
    }
   ],
   "source": [
    "%timeit itere(lambda x: x + 1, 1000)(1)\n",
    "%timeit itere_rec(lambda x: x + 1, 1000)(1)"
   ]
  },
  {
   "cell_type": "code",
   "execution_count": 119,
   "metadata": {
    "collapsed": true
   },
   "outputs": [],
   "source": [
    "# deuxième version, f : tuple -> tuple (simple)\n",
    "def itere2(f : FunctionType, n : int) -> FunctionType:\n",
    "    def fn(*args):\n",
    "        for _ in range(n):\n",
    "            if isinstance(args, tuple):\n",
    "                args = f(*args)\n",
    "            else:\n",
    "                args = f(args)\n",
    "        if isinstance(args, tuple) and len(args) == 1:\n",
    "            return args[0]\n",
    "        else:\n",
    "            return args\n",
    "    return fn"
   ]
  },
  {
   "cell_type": "code",
   "execution_count": 132,
   "metadata": {},
   "outputs": [
    {
     "data": {
      "text/plain": [
       "11"
      ]
     },
     "execution_count": 132,
     "metadata": {},
     "output_type": "execute_result"
    },
    {
     "data": {
      "text/plain": [
       "(1024, 2048)"
      ]
     },
     "execution_count": 132,
     "metadata": {},
     "output_type": "execute_result"
    }
   ],
   "source": [
    "def plusun(x):\n",
    "    return x + 1\n",
    "\n",
    "itere2(plusun, 10)(1)\n",
    "\n",
    "def foisdeux(x, y):\n",
    "    return x * 2, y * 2\n",
    "\n",
    "itere2(foisdeux, 10)(1, 2)"
   ]
  },
  {
   "cell_type": "markdown",
   "metadata": {},
   "source": [
    "## Exercice 11\n",
    "\n",
    "C'est assez naturel, on affiche la suite de mouvement à faire, comme une suite de `\"T1 -> T2\"` par exemple.\n",
    "La fonction suivante affiche les déplacements qu'il faut faire pour déplacer une tour de hauteur `n` initialement posée en `x`, à destination de `z` et avec `y` comme position intermédiaire.\n",
    "\n",
    "- le cas de base est pour une tour de hauteur 1 : un seul déplacement de `x` vers `z` suffit,\n",
    "- le cas récursif est très simple : pour une tour de hauteur `n`, il faut déplacer de `x` vers `y` le haut de la tour (de hauteur `n-1` : 1er appel récursif), puis déplacer le plus gros disque (en un mouvement) de `x` vers `z`, puis de nouveau déplacer le haut de la tour (toujours de hauteur `n-1` : 2nd appel récursif) de `y` vers `z`."
   ]
  },
  {
   "cell_type": "code",
   "execution_count": 144,
   "metadata": {
    "collapsed": true
   },
   "outputs": [],
   "source": [
    "def hanoi(x : str, y : str, z : str, n : int) -> None:\n",
    "    def hanoiaux(orig : str, dest : str, inter : str, n : int):\n",
    "        if n == 0:\n",
    "            return 0\n",
    "        c1 = hanoiaux(orig, inter, dest, n - 1)\n",
    "        print(\"{} -> {}\".format(orig, dest))\n",
    "        c2 = hanoiaux(inter, dest, orig, n - 1)\n",
    "        return c1 + 1 + c2\n",
    "    return hanoiaux(x, z, y, n)"
   ]
  },
  {
   "cell_type": "code",
   "execution_count": 145,
   "metadata": {},
   "outputs": [
    {
     "name": "stdout",
     "output_type": "stream",
     "text": [
      "T1 -> T3\n"
     ]
    },
    {
     "data": {
      "text/plain": [
       "1"
      ]
     },
     "execution_count": 145,
     "metadata": {},
     "output_type": "execute_result"
    }
   ],
   "source": [
    "hanoi(\"T1\", \"T2\", \"T3\", 1)"
   ]
  },
  {
   "cell_type": "code",
   "execution_count": 146,
   "metadata": {},
   "outputs": [
    {
     "name": "stdout",
     "output_type": "stream",
     "text": [
      "T1 -> T2\n",
      "T1 -> T3\n",
      "T2 -> T3\n"
     ]
    },
    {
     "data": {
      "text/plain": [
       "3"
      ]
     },
     "execution_count": 146,
     "metadata": {},
     "output_type": "execute_result"
    }
   ],
   "source": [
    "hanoi(\"T1\", \"T2\", \"T3\", 2)"
   ]
  },
  {
   "cell_type": "code",
   "execution_count": 148,
   "metadata": {},
   "outputs": [
    {
     "name": "stdout",
     "output_type": "stream",
     "text": [
      "T1 -> T3\n",
      "T1 -> T2\n",
      "T3 -> T2\n",
      "T1 -> T3\n",
      "T2 -> T1\n",
      "T2 -> T3\n",
      "T1 -> T3\n",
      "T1 -> T2\n",
      "T3 -> T2\n",
      "T3 -> T1\n",
      "T2 -> T1\n",
      "T3 -> T2\n",
      "T1 -> T3\n",
      "T1 -> T2\n",
      "T3 -> T2\n",
      "T1 -> T3\n",
      "T2 -> T1\n",
      "T2 -> T3\n",
      "T1 -> T3\n",
      "T2 -> T1\n",
      "T3 -> T2\n",
      "T3 -> T1\n",
      "T2 -> T1\n",
      "T2 -> T3\n",
      "T1 -> T3\n",
      "T1 -> T2\n",
      "T3 -> T2\n",
      "T1 -> T3\n",
      "T2 -> T1\n",
      "T2 -> T3\n",
      "T1 -> T3\n"
     ]
    },
    {
     "data": {
      "text/plain": [
       "31"
      ]
     },
     "execution_count": 148,
     "metadata": {},
     "output_type": "execute_result"
    }
   ],
   "source": [
    "hanoi(\"T1\", \"T2\", \"T3\", 5)  # 31 = 2^5 - 1"
   ]
  },
  {
   "cell_type": "markdown",
   "metadata": {},
   "source": [
    "----\n",
    "# Listes\n",
    "## Exercice 12\n",
    "Les listes en Python sont des `list`.\n",
    "\n",
    "Elles ne fonctionnent **pas** comme des listes simplement chaînées comme en Caml : ce sont des tableaux, donc l'accès à `T[i]` pour n'importe quel `i` est en $\\mathcal{O}(1)$ pour n'importe quel `i` et `n`.\n",
    "\n",
    "<span style=\"color: red;\">MUST READ</span>\n",
    "Allez lire la page https://wiki.python.org/moin/TimeComplexity#list en détail !"
   ]
  },
  {
   "cell_type": "code",
   "execution_count": 51,
   "metadata": {
    "ExecuteTime": {
     "end_time": "2020-09-21T10:33:06.517680Z",
     "start_time": "2020-09-21T10:33:06.511976Z"
    }
   },
   "outputs": [],
   "source": [
    "def concatene(liste1 : list, liste2 : list) -> list:\n",
    "    \"\"\" O(len(liste1) + len(liste2))\"\"\"\n",
    "    # return liste1 + liste2  # solution facile\n",
    "    n1, n2 = len(liste1), len(liste2)\n",
    "    res = []\n",
    "    for i in range(n1 + n2):\n",
    "        if i < n1:\n",
    "            res.append(liste1[i])\n",
    "        else:\n",
    "            res.append(liste2[i - n1])\n",
    "    return res"
   ]
  },
  {
   "cell_type": "code",
   "execution_count": 153,
   "metadata": {},
   "outputs": [
    {
     "data": {
      "text/plain": [
       "[1, 2, 3, 4, 5]"
      ]
     },
     "execution_count": 153,
     "metadata": {},
     "output_type": "execute_result"
    }
   ],
   "source": [
    "concatene([1, 2, 3], [4, 5])"
   ]
  },
  {
   "cell_type": "markdown",
   "metadata": {},
   "source": [
    "## Exercice 13"
   ]
  },
  {
   "cell_type": "code",
   "execution_count": 56,
   "metadata": {
    "ExecuteTime": {
     "end_time": "2020-09-21T10:33:47.266250Z",
     "start_time": "2020-09-21T10:33:47.259910Z"
    }
   },
   "outputs": [],
   "source": [
    "from types import FunctionType\n",
    "\n",
    "def applique(f : FunctionType, liste : list) -> list:\n",
    "    res = [f(x) for x in liste]  # solution facile\n",
    "    res = map(f, liste)  # encore plus facile\n",
    "    # en itérant la liste :\n",
    "    res = [ ]  # tableau vide\n",
    "    for x in liste:\n",
    "        res.append(f(x))\n",
    "    # en itérant ses valeurs :\n",
    "    res = [ ]  # tableau\n",
    "    for i in range(len(liste)):\n",
    "        res.append(f(liste[i]))\n",
    "    return res"
   ]
  },
  {
   "cell_type": "code",
   "execution_count": 164,
   "metadata": {},
   "outputs": [
    {
     "data": {
      "text/plain": [
       "[2, 3, 4]"
      ]
     },
     "execution_count": 164,
     "metadata": {},
     "output_type": "execute_result"
    }
   ],
   "source": [
    "applique(lambda x : x + 1, [1, 2, 3])"
   ]
  },
  {
   "cell_type": "markdown",
   "metadata": {},
   "source": [
    "## Exercice 14"
   ]
  },
  {
   "cell_type": "code",
   "execution_count": 165,
   "metadata": {
    "collapsed": true
   },
   "outputs": [],
   "source": [
    "def liste_carree(liste : list) -> list:\n",
    "    return applique(lambda x: x**2, liste)"
   ]
  },
  {
   "cell_type": "code",
   "execution_count": 167,
   "metadata": {},
   "outputs": [
    {
     "data": {
      "text/plain": [
       "[1, 4, 9]"
      ]
     },
     "execution_count": 167,
     "metadata": {},
     "output_type": "execute_result"
    }
   ],
   "source": [
    "liste_carree([1, 2, 3])"
   ]
  },
  {
   "cell_type": "markdown",
   "metadata": {},
   "source": [
    "## Exercice 15"
   ]
  },
  {
   "cell_type": "code",
   "execution_count": 180,
   "metadata": {
    "collapsed": true
   },
   "outputs": [],
   "source": [
    "def miroir_quad(liste : list) -> list:\n",
    "    # aucune idée pour le faire innefficacement en Python,\n",
    "    # ce ne sont pas des listes chaînées\n",
    "    return liste[::-1]\n",
    "\n",
    "def miroir_lin(liste : list) -> list:\n",
    "    return [liste[-i] for i in range(1, len(liste) + 1)]"
   ]
  },
  {
   "cell_type": "code",
   "execution_count": 181,
   "metadata": {},
   "outputs": [
    {
     "data": {
      "text/plain": [
       "[3, 2, 1]"
      ]
     },
     "execution_count": 181,
     "metadata": {},
     "output_type": "execute_result"
    }
   ],
   "source": [
    "miroir_lin([1, 2, 3])"
   ]
  },
  {
   "cell_type": "markdown",
   "metadata": {},
   "source": [
    "## Exercice 16"
   ]
  },
  {
   "cell_type": "code",
   "execution_count": 186,
   "metadata": {
    "collapsed": true
   },
   "outputs": [],
   "source": [
    "def insertion_dans_liste_triee(entiers : list, x : int) -> list:\n",
    "    i = 0\n",
    "    while i < len(entiers) and entiers[i] < x:\n",
    "        i += 1\n",
    "    return entiers[:i] + [x] + entiers[i:]"
   ]
  },
  {
   "cell_type": "code",
   "execution_count": 187,
   "metadata": {},
   "outputs": [
    {
     "data": {
      "text/plain": [
       "[1, 2, 4, 5, 6]"
      ]
     },
     "execution_count": 187,
     "metadata": {},
     "output_type": "execute_result"
    }
   ],
   "source": [
    "insertion_dans_liste_triee([1, 2, 5, 6], 4)"
   ]
  },
  {
   "cell_type": "code",
   "execution_count": 190,
   "metadata": {
    "collapsed": true
   },
   "outputs": [],
   "source": [
    "def tri_insertion(entiers : list) -> list:\n",
    "    assert all([isinstance(i, int) for _ in entiers])\n",
    "    def trix(e : list, acc : list) -> list:\n",
    "        if len(e) == 0: return acc\n",
    "        else: return trix(e[1:], insertion_dans_liste_triee(acc, e[0]))\n",
    "    return trix(entiers, [])"
   ]
  },
  {
   "cell_type": "code",
   "execution_count": 191,
   "metadata": {},
   "outputs": [
    {
     "data": {
      "text/plain": [
       "[1, 2, 4, 5, 6]"
      ]
     },
     "execution_count": 191,
     "metadata": {},
     "output_type": "execute_result"
    }
   ],
   "source": [
    "tri_insertion([5, 2, 6, 1, 4])"
   ]
  },
  {
   "cell_type": "markdown",
   "metadata": {},
   "source": [
    "## Exercice 17"
   ]
  },
  {
   "cell_type": "code",
   "execution_count": 193,
   "metadata": {
    "collapsed": true
   },
   "outputs": [],
   "source": [
    "def ordre_decroissant(x, y):\n",
    "    return x > y"
   ]
  },
  {
   "cell_type": "code",
   "execution_count": 195,
   "metadata": {
    "collapsed": true
   },
   "outputs": [],
   "source": [
    "from types import FunctionType\n",
    "\n",
    "def insertion_dans_liste_triee2(entiers : list, x : int, ordre : FunctionType) -> list:\n",
    "    i = 0\n",
    "    while i < len(entiers) and ordre(entiers[i], x):\n",
    "        i += 1\n",
    "    return entiers[:i] + [x] + entiers[i:]"
   ]
  },
  {
   "cell_type": "code",
   "execution_count": 196,
   "metadata": {},
   "outputs": [
    {
     "data": {
      "text/plain": [
       "[6, 5, 4, 2, 1]"
      ]
     },
     "execution_count": 196,
     "metadata": {},
     "output_type": "execute_result"
    }
   ],
   "source": [
    "insertion_dans_liste_triee2([6, 5, 2, 1], 4, ordre_decroissant)"
   ]
  },
  {
   "cell_type": "code",
   "execution_count": 197,
   "metadata": {
    "collapsed": true
   },
   "outputs": [],
   "source": [
    "def tri_insertion2(entiers : list, ordre : FunctionType) -> list:\n",
    "    assert all([isinstance(i, int) for _ in entiers])\n",
    "    def trix(e : list, acc : list) -> list:\n",
    "        if len(e) == 0: return acc\n",
    "        else: return trix(e[1:], insertion_dans_liste_triee2(acc, e[0], ordre))\n",
    "    return trix(entiers, [])"
   ]
  },
  {
   "cell_type": "code",
   "execution_count": 200,
   "metadata": {},
   "outputs": [
    {
     "data": {
      "text/plain": [
       "[1, 2, 4, 5, 6]"
      ]
     },
     "execution_count": 200,
     "metadata": {},
     "output_type": "execute_result"
    },
    {
     "data": {
      "text/plain": [
       "[6, 5, 4, 2, 1]"
      ]
     },
     "execution_count": 200,
     "metadata": {},
     "output_type": "execute_result"
    }
   ],
   "source": [
    "tri_insertion([5, 2, 6, 1, 4])\n",
    "tri_insertion2([5, 2, 6, 1, 4], ordre_decroissant)"
   ]
  },
  {
   "cell_type": "markdown",
   "metadata": {},
   "source": [
    "----\n",
    "# Exponentiation rapide\n",
    "## Exercice 18\n",
    "\n",
    "Une approche naïve, de complexité temporelle linéaire en $n$ ($\\mathcal{O}(n)$)."
   ]
  },
  {
   "cell_type": "code",
   "execution_count": 76,
   "metadata": {
    "ExecuteTime": {
     "end_time": "2020-09-21T15:48:17.801024Z",
     "start_time": "2020-09-21T15:48:17.791745Z"
    }
   },
   "outputs": [],
   "source": [
    "def exp(x : int, n : int) -> int:\n",
    "    res = 1\n",
    "    for _ in range(n):\n",
    "        res *= x\n",
    "    return res"
   ]
  },
  {
   "cell_type": "code",
   "execution_count": 80,
   "metadata": {
    "ExecuteTime": {
     "end_time": "2020-09-21T15:50:07.079812Z",
     "start_time": "2020-09-21T15:50:07.062055Z"
    }
   },
   "outputs": [
    {
     "name": "stdout",
     "output_type": "stream",
     "text": [
      "3 ** 0 = 1 et = 1\n",
      "3 ** 1 = 3 et = 3\n",
      "3 ** 2 = 9 et = 9\n",
      "3 ** 3 = 27 et = 27\n",
      "3 ** 4 = 81 et = 81\n",
      "3 ** 5 = 243 et = 243\n",
      "3 ** 6 = 729 et = 729\n",
      "3 ** 7 = 2187 et = 2187\n"
     ]
    }
   ],
   "source": [
    "x = 3\n",
    "for n in range(8):\n",
    "    print(x, \"**\", n, \"=\", exp(x, n), \"et =\", x**n)"
   ]
  },
  {
   "cell_type": "code",
   "execution_count": 4,
   "metadata": {},
   "outputs": [
    {
     "name": "stdout",
     "output_type": "stream",
     "text": [
      "  3 ** 0 =     1\n",
      "  3 ** 1 =     3\n",
      "  3 ** 2 =     9\n",
      "  3 ** 3 =    27\n",
      "  3 ** 4 =    81\n",
      "  3 ** 5 =   243\n",
      "  3 ** 6 =   729\n",
      "  3 ** 7 =  2187\n"
     ]
    }
   ],
   "source": [
    "x = 3\n",
    "for n in range(8):\n",
    "    print(\"  {} ** {} = {:>5}\".format(x, n, exp(x, n)))"
   ]
  },
  {
   "cell_type": "markdown",
   "metadata": {},
   "source": [
    "## Exercice 19\n",
    "\n",
    "Une approche maline (optimale, en fait).\n",
    "\n",
    "Si n = 0 $x^0 = 1$\n",
    "\n",
    "Si n est pair :\n",
    "$$ x^n = (x^{(n/2)})^2$$\n",
    "$$ x^n = (x*x)^{(n/2)}$$\n",
    "\n",
    "Si n est impair :\n",
    "$$ x^n = x * (x^{((n-1)/2)})^2$$\n",
    "$$ x^n = x * (x*x)^{((n-1)/2)}$$\n"
   ]
  },
  {
   "cell_type": "code",
   "execution_count": 82,
   "metadata": {
    "ExecuteTime": {
     "end_time": "2020-09-21T15:56:43.800416Z",
     "start_time": "2020-09-21T15:56:43.794703Z"
    }
   },
   "outputs": [],
   "source": [
    "def exp2(x : int, n : int) -> int:\n",
    "    assert n >= 0\n",
    "    if n == 0:\n",
    "        return 1\n",
    "    elif n == 1:\n",
    "        return x\n",
    "    elif n % 2 == 0:\n",
    "        # NE PAS FAIRE CA\n",
    "         # return exp2(x, n // 2) * exp2(x, n // 2)\n",
    "        return exp2(x * x, n // 2)\n",
    "        return exp2(x, n // 2) ** 2\n",
    "    elif n % 2 == 1:\n",
    "        return exp2(x * x, (n - 1) // 2) * x"
   ]
  },
  {
   "cell_type": "code",
   "execution_count": 83,
   "metadata": {
    "ExecuteTime": {
     "end_time": "2020-09-21T15:56:44.097713Z",
     "start_time": "2020-09-21T15:56:44.090251Z"
    }
   },
   "outputs": [
    {
     "name": "stdout",
     "output_type": "stream",
     "text": [
      "  3 ** 0 =     1\n",
      "  3 ** 1 =     3\n",
      "  3 ** 2 =     9\n",
      "  3 ** 3 =    27\n",
      "  3 ** 4 =    81\n",
      "  3 ** 5 =   243\n",
      "  3 ** 6 =   729\n",
      "  3 ** 7 =  2187\n"
     ]
    }
   ],
   "source": [
    "x = 3\n",
    "for n in range(8):\n",
    "    print(\"  {} ** {} = {:>5}\".format(x, n, exp2(x, n)))"
   ]
  },
  {
   "cell_type": "code",
   "execution_count": 86,
   "metadata": {
    "ExecuteTime": {
     "end_time": "2020-09-21T15:57:07.088811Z",
     "start_time": "2020-09-21T15:57:07.072244Z"
    }
   },
   "outputs": [
    {
     "name": "stdout",
     "output_type": "stream",
     "text": [
      "  3.1415 ** 0 =     1 et x**n = 1.0\n",
      "  3.1415 ** 1 = 3.1415 et x**n = 3.1415\n",
      "  3.1415 ** 2 = 9.86902225 et x**n = 9.86902225\n",
      "  3.1415 ** 3 = 31.003533398375 et x**n = 31.003533398375005\n",
      "  3.1415 ** 4 = 97.39760017099508 et x**n = 97.39760017099509\n",
      "  3.1415 ** 5 = 305.974560937181 et x**n = 305.9745609371811\n",
      "  3.1415 ** 6 = 961.2190831841542 et x**n = 961.2190831841544\n",
      "  3.1415 ** 7 = 3019.6697498230205 et x**n = 3019.6697498230214\n"
     ]
    }
   ],
   "source": [
    "x = 3.1415\n",
    "for n in range(8):\n",
    "    print(\"  {} ** {} = {:>5} et x**n = {}\".format(x, n, exp2(x, n), x**n))"
   ]
  },
  {
   "cell_type": "markdown",
   "metadata": {},
   "source": [
    "## Exercice 20\n",
    "On ne dispose pas de typage pour faire ça aussi joliment qu'en Caml..."
   ]
  },
  {
   "cell_type": "code",
   "execution_count": 6,
   "metadata": {
    "collapsed": true
   },
   "outputs": [],
   "source": [
    "def mult_float(x : float, y : float) -> float:\n",
    "    return x * y\n",
    "\n",
    "monoide_flottants = {\n",
    "    'mult': mult_float,   # (*.) en Caml\n",
    "    'neutre': 1.\n",
    "}"
   ]
  },
  {
   "cell_type": "code",
   "execution_count": 6,
   "metadata": {
    "collapsed": true
   },
   "outputs": [],
   "source": [
    "class Monoide_flottant():\n",
    "    def __init__(self, x):\n",
    "        self.x\n",
    "        self.neutre = 1.0\n",
    "    \n",
    "    def mult(self, other_float):\n",
    "        return self.x * other_float.x"
   ]
  },
  {
   "cell_type": "code",
   "execution_count": 15,
   "metadata": {},
   "outputs": [],
   "source": [
    "import numpy as np\n",
    "\n",
    "def mult_ndarray(A : np.array, B : np.array) -> np.array:\n",
    "    return np.dot(A, B)\n",
    "\n",
    "# Pas possible d'avoir un neutre pour une taille quelconque !\n",
    "monoide_nparray = lambda n, m: {\n",
    "    'mult': mult_ndarray,\n",
    "    'neutre': np.eye(n, m)\n",
    "}"
   ]
  },
  {
   "cell_type": "code",
   "execution_count": 16,
   "metadata": {},
   "outputs": [
    {
     "data": {
      "text/plain": [
       "array([[4, 6],\n",
       "       [4, 6]])"
      ]
     },
     "execution_count": 16,
     "metadata": {},
     "output_type": "execute_result"
    }
   ],
   "source": [
    "mult_ndarray([[1, 1], [1, 1]], [[1, 2], [3, 4]])"
   ]
  },
  {
   "cell_type": "markdown",
   "metadata": {},
   "source": [
    "Manuellement ce n'est pas trop dur :"
   ]
  },
  {
   "cell_type": "code",
   "execution_count": 31,
   "metadata": {
    "collapsed": true
   },
   "outputs": [],
   "source": [
    "def mult_mat(A : list, B : list) -> list:\n",
    "    n, m = len(A), len(A[0])  # A est (n, m)\n",
    "    m2, p = len(B), len(B[0]) # B est (m2, p)\n",
    "    assert m == m2\n",
    "    C = [[0 for _ in range(p)] for _ in range(n)]  # C est (n, p)\n",
    "    for i in range(n):\n",
    "        for j in range(p):\n",
    "            for k in range(m):\n",
    "                C[i][j] += A[i][k] * B[k][j]\n",
    "    return C\n",
    "\n",
    "# Pas possible d'avoir un neutre pour une taille quelconque !\n",
    "monoide_mat = lambda n, m: {\n",
    "    'mult': mult_mat,\n",
    "    'neutre': [[int(i==j) for j in range(m)] for i in range(n)]  # I est (n, m)\n",
    "}"
   ]
  },
  {
   "cell_type": "code",
   "execution_count": 32,
   "metadata": {},
   "outputs": [
    {
     "data": {
      "text/plain": [
       "[[4, 6], [4, 6]]"
      ]
     },
     "execution_count": 32,
     "metadata": {},
     "output_type": "execute_result"
    }
   ],
   "source": [
    "mult_mat([[1, 1], [1, 1]], [[1, 2], [3, 4]])"
   ]
  },
  {
   "cell_type": "markdown",
   "metadata": {},
   "source": [
    "## Exercice 21"
   ]
  },
  {
   "cell_type": "code",
   "execution_count": 87,
   "metadata": {
    "ExecuteTime": {
     "end_time": "2020-09-21T16:05:43.012097Z",
     "start_time": "2020-09-21T16:05:42.998146Z"
    }
   },
   "outputs": [],
   "source": [
    "def exp_rapide(monoide : dict, x, n : int):\n",
    "    mult = monoide['mult']\n",
    "    assert n >= 0\n",
    "    if n == 0:\n",
    "        return monoide['neutre']\n",
    "    elif n == 1:\n",
    "        return x\n",
    "    elif n % 2 == 0:\n",
    "        return exp_rapide(monoide, mult(x, x), n // 2)\n",
    "    elif n % 2 == 1:\n",
    "        return mult(exp_rapide(monoide, mult(x, x), (n - 1) // 2), x)"
   ]
  },
  {
   "cell_type": "markdown",
   "metadata": {},
   "source": [
    "## Exercice 22"
   ]
  },
  {
   "cell_type": "code",
   "execution_count": 34,
   "metadata": {
    "collapsed": true
   },
   "outputs": [],
   "source": [
    "def exp_rapide_float(x : float, n : int) -> float:\n",
    "    return exp_rapide(monoide_flottants, x, n)"
   ]
  },
  {
   "cell_type": "code",
   "execution_count": 35,
   "metadata": {},
   "outputs": [
    {
     "data": {
      "text/plain": [
       "256.0"
      ]
     },
     "execution_count": 35,
     "metadata": {},
     "output_type": "execute_result"
    }
   ],
   "source": [
    "exp_rapide_float(2.0, 8)"
   ]
  },
  {
   "cell_type": "code",
   "execution_count": 36,
   "metadata": {},
   "outputs": [
    {
     "data": {
      "text/plain": [
       "2.560000000000002e-06"
      ]
     },
     "execution_count": 36,
     "metadata": {},
     "output_type": "execute_result"
    }
   ],
   "source": [
    "exp_rapide_float(0.2, 8)"
   ]
  },
  {
   "cell_type": "markdown",
   "metadata": {},
   "source": [
    "Et pour les matrices, un petit piège à cause des tailles :"
   ]
  },
  {
   "cell_type": "code",
   "execution_count": 37,
   "metadata": {
    "collapsed": true
   },
   "outputs": [],
   "source": [
    "def exp_rapide_mat(A : list, k : int) -> float:\n",
    "    n, m = len(A), len(A[0])\n",
    "    mono = monoide_mat(n, m)\n",
    "    return exp_rapide(mono, A, k)"
   ]
  },
  {
   "cell_type": "code",
   "execution_count": 38,
   "metadata": {},
   "outputs": [
    {
     "data": {
      "text/plain": [
       "[[1, 0], [0, 1]]"
      ]
     },
     "execution_count": 38,
     "metadata": {},
     "output_type": "execute_result"
    },
    {
     "data": {
      "text/plain": [
       "[[1, 1], [1, 1]]"
      ]
     },
     "execution_count": 38,
     "metadata": {},
     "output_type": "execute_result"
    },
    {
     "data": {
      "text/plain": [
       "[[2, 2], [2, 2]]"
      ]
     },
     "execution_count": 38,
     "metadata": {},
     "output_type": "execute_result"
    },
    {
     "data": {
      "text/plain": [
       "[[4, 4], [4, 4]]"
      ]
     },
     "execution_count": 38,
     "metadata": {},
     "output_type": "execute_result"
    },
    {
     "data": {
      "text/plain": [
       "[[8, 8], [8, 8]]"
      ]
     },
     "execution_count": 38,
     "metadata": {},
     "output_type": "execute_result"
    }
   ],
   "source": [
    "for k in range(5):\n",
    "    exp_rapide_mat([[1, 1], [1, 1]], k)"
   ]
  },
  {
   "cell_type": "code",
   "execution_count": 42,
   "metadata": {},
   "outputs": [
    {
     "data": {
      "text/plain": [
       "[[1, 0, 0], [0, 1, 0], [0, 0, 1]]"
      ]
     },
     "execution_count": 42,
     "metadata": {},
     "output_type": "execute_result"
    },
    {
     "data": {
      "text/plain": [
       "[[0, 1, 2], [0, 0, 1], [0, 0, 0]]"
      ]
     },
     "execution_count": 42,
     "metadata": {},
     "output_type": "execute_result"
    },
    {
     "data": {
      "text/plain": [
       "[[0, 0, 1], [0, 0, 0], [0, 0, 0]]"
      ]
     },
     "execution_count": 42,
     "metadata": {},
     "output_type": "execute_result"
    },
    {
     "data": {
      "text/plain": [
       "[[0, 0, 0], [0, 0, 0], [0, 0, 0]]"
      ]
     },
     "execution_count": 42,
     "metadata": {},
     "output_type": "execute_result"
    },
    {
     "data": {
      "text/plain": [
       "[[0, 0, 0], [0, 0, 0], [0, 0, 0]]"
      ]
     },
     "execution_count": 42,
     "metadata": {},
     "output_type": "execute_result"
    }
   ],
   "source": [
    "for k in range(5):  # nilpotente\n",
    "    exp_rapide_mat([[0, 1, 2], [0, 0, 1], [0, 0, 0]], k)"
   ]
  },
  {
   "cell_type": "markdown",
   "metadata": {},
   "source": [
    "## Exercice 23\n",
    "\n",
    "- On peut commencer par réécrire l'exponentiation rapide avec un `itere` :"
   ]
  },
  {
   "cell_type": "code",
   "execution_count": 48,
   "metadata": {},
   "outputs": [],
   "source": [
    "def exp_rapide_2(x, n : int):\n",
    "    def mul_par_x(y):\n",
    "        return x * y\n",
    "    return itere(mul_par_x, n)(x)"
   ]
  },
  {
   "cell_type": "code",
   "execution_count": 49,
   "metadata": {},
   "outputs": [
    {
     "data": {
      "text/plain": [
       "512.0"
      ]
     },
     "execution_count": 49,
     "metadata": {},
     "output_type": "execute_result"
    }
   ],
   "source": [
    "exp_rapide_2(2.0, 8)"
   ]
  },
  {
   "cell_type": "markdown",
   "metadata": {},
   "source": [
    "- Mais on demandait ici d'écrire `itere` avec l'exponentiation rapide :"
   ]
  },
  {
   "cell_type": "code",
   "execution_count": 94,
   "metadata": {
    "ExecuteTime": {
     "end_time": "2020-09-21T16:07:23.509631Z",
     "start_time": "2020-09-21T16:07:23.499248Z"
    }
   },
   "outputs": [],
   "source": [
    "def mult_fonction(f : FunctionType, g : FunctionType) -> FunctionType:\n",
    "    return lambda x: f(g(x))\n",
    "\n",
    "monoide_fonction = {\n",
    "    'mult': mult_fonction,\n",
    "    'neutre': lambda x: x  # identité !\n",
    "}"
   ]
  },
  {
   "cell_type": "code",
   "execution_count": 95,
   "metadata": {
    "ExecuteTime": {
     "end_time": "2020-09-21T16:07:23.909185Z",
     "start_time": "2020-09-21T16:07:23.901795Z"
    }
   },
   "outputs": [],
   "source": [
    "def itere_depuis_monoide(f, n):\n",
    "    return exp_rapide(monoide_fonction, f, n)"
   ]
  },
  {
   "cell_type": "code",
   "execution_count": 99,
   "metadata": {
    "ExecuteTime": {
     "end_time": "2020-09-21T16:07:53.176627Z",
     "start_time": "2020-09-21T16:07:52.882579Z"
    }
   },
   "outputs": [
    {
     "name": "stdout",
     "output_type": "stream",
     "text": [
      "1\n",
      "11\n",
      "1000001\n"
     ]
    }
   ],
   "source": [
    "print(itere_depuis_monoide(lambda x: x+1, 0)(1))  # 1\n",
    "print(itere_depuis_monoide(lambda x: x+1, 10)(1)) # 11\n",
    "print(itere_depuis_monoide(lambda x: x+1, 1000000)(1))  # pas de stack overflow car complexité O(log(n))"
   ]
  },
  {
   "cell_type": "markdown",
   "metadata": {},
   "source": [
    "A comparer avec l'implémentation naïve qui était en $\\mathcal{O}(n)$ :"
   ]
  },
  {
   "cell_type": "code",
   "execution_count": 101,
   "metadata": {
    "ExecuteTime": {
     "end_time": "2020-09-21T16:09:25.163863Z",
     "start_time": "2020-09-21T16:09:19.166005Z"
    }
   },
   "outputs": [
    {
     "name": "stdout",
     "output_type": "stream",
     "text": [
      "1\n",
      "11\n"
     ]
    },
    {
     "ename": "RecursionError",
     "evalue": "maximum recursion depth exceeded in comparison",
     "output_type": "error",
     "traceback": [
      "\u001b[0;31m---------------------------------------------------------------------------\u001b[0m",
      "\u001b[0;31mRecursionError\u001b[0m                            Traceback (most recent call last)",
      "\u001b[0;32m<ipython-input-101-e5141bc75381>\u001b[0m in \u001b[0;36m<module>\u001b[0;34m\u001b[0m\n\u001b[1;32m      1\u001b[0m \u001b[0mprint\u001b[0m\u001b[0;34m(\u001b[0m\u001b[0mitere\u001b[0m\u001b[0;34m(\u001b[0m\u001b[0;32mlambda\u001b[0m \u001b[0mx\u001b[0m\u001b[0;34m:\u001b[0m \u001b[0mx\u001b[0m\u001b[0;34m+\u001b[0m\u001b[0;36m1\u001b[0m\u001b[0;34m,\u001b[0m \u001b[0;36m0\u001b[0m\u001b[0;34m)\u001b[0m\u001b[0;34m(\u001b[0m\u001b[0;36m1\u001b[0m\u001b[0;34m)\u001b[0m\u001b[0;34m)\u001b[0m  \u001b[0;31m# 1\u001b[0m\u001b[0;34m\u001b[0m\u001b[0;34m\u001b[0m\u001b[0m\n\u001b[1;32m      2\u001b[0m \u001b[0mprint\u001b[0m\u001b[0;34m(\u001b[0m\u001b[0mitere\u001b[0m\u001b[0;34m(\u001b[0m\u001b[0;32mlambda\u001b[0m \u001b[0mx\u001b[0m\u001b[0;34m:\u001b[0m \u001b[0mx\u001b[0m\u001b[0;34m+\u001b[0m\u001b[0;36m1\u001b[0m\u001b[0;34m,\u001b[0m \u001b[0;36m10\u001b[0m\u001b[0;34m)\u001b[0m\u001b[0;34m(\u001b[0m\u001b[0;36m1\u001b[0m\u001b[0;34m)\u001b[0m\u001b[0;34m)\u001b[0m \u001b[0;31m# 11\u001b[0m\u001b[0;34m\u001b[0m\u001b[0;34m\u001b[0m\u001b[0m\n\u001b[0;32m----> 3\u001b[0;31m \u001b[0mprint\u001b[0m\u001b[0;34m(\u001b[0m\u001b[0mitere\u001b[0m\u001b[0;34m(\u001b[0m\u001b[0;32mlambda\u001b[0m \u001b[0mx\u001b[0m\u001b[0;34m:\u001b[0m \u001b[0mx\u001b[0m\u001b[0;34m+\u001b[0m\u001b[0;36m1\u001b[0m\u001b[0;34m,\u001b[0m \u001b[0;36m1000000\u001b[0m\u001b[0;34m)\u001b[0m\u001b[0;34m(\u001b[0m\u001b[0;36m1\u001b[0m\u001b[0;34m)\u001b[0m\u001b[0;34m)\u001b[0m  \u001b[0;31m# pas de stack overflow car complexité O(log(n))\u001b[0m\u001b[0;34m\u001b[0m\u001b[0;34m\u001b[0m\u001b[0m\n\u001b[0m",
      "\u001b[0;32m<ipython-input-100-4ff528828113>\u001b[0m in \u001b[0;36m<lambda>\u001b[0;34m(x)\u001b[0m\n\u001b[1;32m      3\u001b[0m         \u001b[0;32mreturn\u001b[0m \u001b[0;32mlambda\u001b[0m \u001b[0mx\u001b[0m\u001b[0;34m:\u001b[0m \u001b[0mx\u001b[0m\u001b[0;34m\u001b[0m\u001b[0;34m\u001b[0m\u001b[0m\n\u001b[1;32m      4\u001b[0m     \u001b[0;32melse\u001b[0m\u001b[0;34m:\u001b[0m\u001b[0;34m\u001b[0m\u001b[0;34m\u001b[0m\u001b[0m\n\u001b[0;32m----> 5\u001b[0;31m         \u001b[0;32mreturn\u001b[0m \u001b[0;32mlambda\u001b[0m \u001b[0mx\u001b[0m\u001b[0;34m:\u001b[0m \u001b[0;34m(\u001b[0m\u001b[0mitere\u001b[0m\u001b[0;34m(\u001b[0m\u001b[0mf\u001b[0m\u001b[0;34m,\u001b[0m \u001b[0mn\u001b[0m\u001b[0;34m-\u001b[0m\u001b[0;36m1\u001b[0m\u001b[0;34m)\u001b[0m\u001b[0;34m)\u001b[0m\u001b[0;34m(\u001b[0m\u001b[0mf\u001b[0m\u001b[0;34m(\u001b[0m\u001b[0mx\u001b[0m\u001b[0;34m)\u001b[0m\u001b[0;34m)\u001b[0m\u001b[0;34m\u001b[0m\u001b[0;34m\u001b[0m\u001b[0m\n\u001b[0m",
      "... last 1 frames repeated, from the frame below ...\n",
      "\u001b[0;32m<ipython-input-100-4ff528828113>\u001b[0m in \u001b[0;36m<lambda>\u001b[0;34m(x)\u001b[0m\n\u001b[1;32m      3\u001b[0m         \u001b[0;32mreturn\u001b[0m \u001b[0;32mlambda\u001b[0m \u001b[0mx\u001b[0m\u001b[0;34m:\u001b[0m \u001b[0mx\u001b[0m\u001b[0;34m\u001b[0m\u001b[0;34m\u001b[0m\u001b[0m\n\u001b[1;32m      4\u001b[0m     \u001b[0;32melse\u001b[0m\u001b[0;34m:\u001b[0m\u001b[0;34m\u001b[0m\u001b[0;34m\u001b[0m\u001b[0m\n\u001b[0;32m----> 5\u001b[0;31m         \u001b[0;32mreturn\u001b[0m \u001b[0;32mlambda\u001b[0m \u001b[0mx\u001b[0m\u001b[0;34m:\u001b[0m \u001b[0;34m(\u001b[0m\u001b[0mitere\u001b[0m\u001b[0;34m(\u001b[0m\u001b[0mf\u001b[0m\u001b[0;34m,\u001b[0m \u001b[0mn\u001b[0m\u001b[0;34m-\u001b[0m\u001b[0;36m1\u001b[0m\u001b[0;34m)\u001b[0m\u001b[0;34m)\u001b[0m\u001b[0;34m(\u001b[0m\u001b[0mf\u001b[0m\u001b[0;34m(\u001b[0m\u001b[0mx\u001b[0m\u001b[0;34m)\u001b[0m\u001b[0;34m)\u001b[0m\u001b[0;34m\u001b[0m\u001b[0;34m\u001b[0m\u001b[0m\n\u001b[0m",
      "\u001b[0;31mRecursionError\u001b[0m: maximum recursion depth exceeded in comparison"
     ]
    }
   ],
   "source": [
    "print(itere(lambda x: x+1, 0)(1))  # 1\n",
    "print(itere(lambda x: x+1, 10)(1)) # 11\n",
    "print(itere(lambda x: x+1, 1000000)(1))  # stack overflow car complexité O(n)"
   ]
  },
  {
   "cell_type": "markdown",
   "metadata": {},
   "source": [
    "----\n",
    "# Formule du calcul propositionnel\n",
    "\n",
    "**Spoiler alert** : en Python, c'est chaud.\n",
    "\n",
    "**ATTENTION** Il faut un peu d'habitude et d'idées pour réussir à faire tout ça aussi efficacement (enfin presque) qu'en OCaml.\n",
    "\n",
    "On va faire des choses non typées, avec des dictionnaires, pour bidouiller.\n",
    "\n",
    "## Exercice 24"
   ]
  },
  {
   "cell_type": "markdown",
   "metadata": {},
   "source": [
    "``(not p ^ ((q ^ not p) v (r v q)))`` s'écrit en Caml `` (Conj(Not(V(\"p\")),Disj(Conj(V(\"q\"),Not(V(\"p\"))),Disj(V(\"r\"),V(\"q\")))))``.\n",
    "\n",
    "On va imbriquer des dictionnaires, les types, `V`, `Not`, `Conj` et `Disj` seront des clés, et les valeurs seront des formules ou couples de formules.\n",
    "Mais on va cacher ça et l'utilisateur verra exactement la même chose qu'en Caml !"
   ]
  },
  {
   "cell_type": "code",
   "execution_count": 57,
   "metadata": {
    "ExecuteTime": {
     "end_time": "2020-09-21T10:35:56.912012Z",
     "start_time": "2020-09-21T10:35:56.884090Z"
    }
   },
   "outputs": [
    {
     "data": {
      "text/plain": [
       "{'Conj': ({'Not': {'V': 'p'}},\n",
       "  {'Disj': ({'Conj': ({'V': 'q'}, {'Not': {'V': 'p'}})},\n",
       "    {'Disj': ({'V': 'r'}, {'V': 'q'})})})}"
      ]
     },
     "execution_count": 57,
     "metadata": {},
     "output_type": "execute_result"
    }
   ],
   "source": [
    "V = lambda x: {'V': x}\n",
    "Not = lambda x: {'Not': x}\n",
    "Disj = lambda x, y: {'Disj': (x, y)}\n",
    "Conj = lambda x, y: {'Conj': (x, y)}\n",
    "\n",
    "p = V('p')\n",
    "r = V('r')\n",
    "q = V('q')\n",
    "not_p = Not(p)\n",
    "\n",
    "f = Conj(Not(p), Disj(Conj(q, not_p), Disj(r, q)))\n",
    "f"
   ]
  },
  {
   "cell_type": "code",
   "execution_count": 60,
   "metadata": {
    "ExecuteTime": {
     "end_time": "2020-09-21T10:36:04.720779Z",
     "start_time": "2020-09-21T10:36:04.707038Z"
    }
   },
   "outputs": [
    {
     "data": {
      "text/plain": [
       "{'Conj': ({'Not': {'V': 'p'}},\n",
       "  {'Disj': ({'Conj': ({'V': 'q'}, {'Not': {'V': 'p'}})},\n",
       "    {'Disj': ({'V': 'r'}, {'V': 'q'})})})}"
      ]
     },
     "execution_count": 60,
     "metadata": {},
     "output_type": "execute_result"
    }
   ],
   "source": [
    "f2 = (Conj(Not(V(\"p\")),Disj(Conj(V(\"q\"),Not(V(\"p\"))),Disj(V(\"r\"),V(\"q\")))))\n",
    "f2"
   ]
  },
  {
   "cell_type": "markdown",
   "metadata": {},
   "source": [
    "Si on veut afficher plus joliment ce genre de structures récursives, la fonction `pprint.pprint(...)` est là pour ça (elle affiche avec de l'indentation) :"
   ]
  },
  {
   "cell_type": "code",
   "execution_count": 59,
   "metadata": {
    "ExecuteTime": {
     "end_time": "2020-09-21T10:35:57.849835Z",
     "start_time": "2020-09-21T10:35:57.843083Z"
    }
   },
   "outputs": [],
   "source": [
    "from pprint import pprint"
   ]
  },
  {
   "cell_type": "code",
   "execution_count": 61,
   "metadata": {
    "ExecuteTime": {
     "end_time": "2020-09-21T10:36:07.358858Z",
     "start_time": "2020-09-21T10:36:07.349955Z"
    }
   },
   "outputs": [
    {
     "name": "stdout",
     "output_type": "stream",
     "text": [
      "{'Conj': ({'Not': {'V': 'p'}},\n",
      "          {'Disj': ({'Conj': ({'V': 'q'}, {'Not': {'V': 'p'}})},\n",
      "                    {'Disj': ({'V': 'r'}, {'V': 'q'})})})}\n"
     ]
    }
   ],
   "source": [
    "pprint(f2)"
   ]
  },
  {
   "cell_type": "markdown",
   "metadata": {},
   "source": [
    "## Exercice 25"
   ]
  },
  {
   "cell_type": "markdown",
   "metadata": {},
   "source": [
    "Ensuite on fait une filtration \"à la main\" sur les clés du dictionnaire (de niveau 1, on ne récurse pas quand on teste `'V' in formule`)."
   ]
  },
  {
   "cell_type": "code",
   "execution_count": 62,
   "metadata": {
    "ExecuteTime": {
     "end_time": "2020-09-21T10:36:23.687937Z",
     "start_time": "2020-09-21T10:36:23.675670Z"
    }
   },
   "outputs": [],
   "source": [
    "def taille(formule : dict) -> int:\n",
    "    if 'V' in formule:\n",
    "        return 0\n",
    "    elif 'Not' in formule:\n",
    "        return 1 + taille(formule['Not'])\n",
    "    elif 'Conj' in formule:\n",
    "        x, y = formule['Conj']\n",
    "        return 1 + taille(x) + taille(y)\n",
    "    elif 'Disj' in formule:\n",
    "        x, y = formule['Disj']\n",
    "        return 1 + taille(x) + taille(y)"
   ]
  },
  {
   "cell_type": "code",
   "execution_count": 63,
   "metadata": {
    "ExecuteTime": {
     "end_time": "2020-09-21T10:36:24.188578Z",
     "start_time": "2020-09-21T10:36:24.175810Z"
    }
   },
   "outputs": [
    {
     "data": {
      "text/plain": [
       "6"
      ]
     },
     "execution_count": 63,
     "metadata": {},
     "output_type": "execute_result"
    }
   ],
   "source": [
    "taille(f)"
   ]
  },
  {
   "cell_type": "code",
   "execution_count": 64,
   "metadata": {
    "ExecuteTime": {
     "end_time": "2020-09-21T10:36:24.674392Z",
     "start_time": "2020-09-21T10:36:24.664847Z"
    }
   },
   "outputs": [
    {
     "data": {
      "text/plain": [
       "6"
      ]
     },
     "execution_count": 64,
     "metadata": {},
     "output_type": "execute_result"
    }
   ],
   "source": [
    "taille(f2)"
   ]
  },
  {
   "cell_type": "markdown",
   "metadata": {},
   "source": [
    "## Exercice 26"
   ]
  },
  {
   "cell_type": "code",
   "execution_count": 109,
   "metadata": {
    "collapsed": true
   },
   "outputs": [],
   "source": [
    "def formule_to_string(formule : dict) -> str:\n",
    "    if 'V' in formule:\n",
    "        return formule['V']\n",
    "    elif 'Not' in formule:\n",
    "        return \"~\" + formule_to_string(formule['Not'])\n",
    "    elif 'Conj' in formule:\n",
    "        x, y = formule['Conj']\n",
    "        return \"(\" + formule_to_string(x) + \" ^ \" + formule_to_string(y) + \")\"\n",
    "    elif 'Disj' in formule:\n",
    "        x, y = formule['Disj']\n",
    "        return \"(\" + formule_to_string(x) + \" V \" + formule_to_string(y) + \")\""
   ]
  },
  {
   "cell_type": "code",
   "execution_count": 110,
   "metadata": {
    "collapsed": true
   },
   "outputs": [],
   "source": [
    "def affiche(formule):\n",
    "    print(formule_to_string(formule))"
   ]
  },
  {
   "cell_type": "code",
   "execution_count": 111,
   "metadata": {},
   "outputs": [
    {
     "name": "stdout",
     "output_type": "stream",
     "text": [
      "(~p ^ ((q ^ ~p) V (r V q)))\n"
     ]
    }
   ],
   "source": [
    "affiche(f)"
   ]
  },
  {
   "cell_type": "markdown",
   "metadata": {},
   "source": [
    "Et voilà. Pas tellement plus dur hein !"
   ]
  },
  {
   "cell_type": "markdown",
   "metadata": {},
   "source": [
    "## Exercice 27\n",
    "Les valeurs des variables seront données comme un dictionnaire associant nom de variable à valeurs booléennes.\n",
    "Et comme on veut frimer, on prend un [`defaultdict`](https://docs.python.org/3/library/collections.html#collections.defaultdict), qui est comme un `dict` mais qui stocke aussi une fonction qui donne la valeur des clés absentes du dictionnaire :"
   ]
  },
  {
   "cell_type": "code",
   "execution_count": 104,
   "metadata": {
    "ExecuteTime": {
     "end_time": "2020-09-21T16:11:46.830395Z",
     "start_time": "2020-09-21T16:11:46.815496Z"
    }
   },
   "outputs": [
    {
     "name": "stdout",
     "output_type": "stream",
     "text": [
      "True\n",
      "False\n",
      "False\n",
      "False\n"
     ]
    }
   ],
   "source": [
    "from collections import defaultdict\n",
    "\n",
    "d = defaultdict(lambda: False, {'p': True, 'q': False})\n",
    "print(d['p'])  # -> True car présent et True\n",
    "print(d['q'])  # -> False car présent et False\n",
    "print(d['x'])  # -> False car absent\n",
    "print(d['xokazeok'])  # -> False car absent"
   ]
  },
  {
   "cell_type": "code",
   "execution_count": 113,
   "metadata": {},
   "outputs": [],
   "source": [
    "valeurs_1 = defaultdict(lambda: False, {'p': True})"
   ]
  },
  {
   "cell_type": "code",
   "execution_count": 114,
   "metadata": {
    "collapsed": true
   },
   "outputs": [],
   "source": [
    "valeurs_2 = defaultdict(lambda: False, {'r': True})"
   ]
  },
  {
   "cell_type": "code",
   "execution_count": 89,
   "metadata": {
    "collapsed": true
   },
   "outputs": [],
   "source": [
    "def eval(valeurs : dict, formule : dict) -> bool:\n",
    "    if 'V' in formule:\n",
    "        return valeurs[formule['V']]\n",
    "    elif 'Not' in formule:\n",
    "        return not eval(valeurs, formule['Not'])\n",
    "    elif 'Conj' in formule:\n",
    "        x, y = formule['Conj']\n",
    "        return eval(valeurs, x) and eval(valeurs, y)\n",
    "    elif 'Disj' in formule:\n",
    "        x, y = formule['Disj']\n",
    "        return eval(valeurs, x) or eval(valeurs, y)"
   ]
  },
  {
   "cell_type": "code",
   "execution_count": 90,
   "metadata": {},
   "outputs": [
    {
     "data": {
      "text/plain": [
       "False"
      ]
     },
     "execution_count": 90,
     "metadata": {},
     "output_type": "execute_result"
    }
   ],
   "source": [
    "eval(valeurs_1, f)"
   ]
  },
  {
   "cell_type": "code",
   "execution_count": 91,
   "metadata": {},
   "outputs": [
    {
     "data": {
      "text/plain": [
       "True"
      ]
     },
     "execution_count": 91,
     "metadata": {},
     "output_type": "execute_result"
    }
   ],
   "source": [
    "eval(valeurs_2, f)"
   ]
  },
  {
   "cell_type": "markdown",
   "metadata": {},
   "source": [
    "## Exercice 28"
   ]
  },
  {
   "cell_type": "code",
   "execution_count": 93,
   "metadata": {
    "collapsed": true
   },
   "outputs": [],
   "source": [
    "def extrait_variables_x(formule : dict) -> list:\n",
    "    if 'V' in formule:\n",
    "        return [formule['V']]\n",
    "    elif 'Not' in formule:\n",
    "        return extrait_variables_x(formule['Not'])\n",
    "    elif 'Conj' in formule:\n",
    "        x, y = formule['Conj']\n",
    "        return extrait_variables_x(x) + extrait_variables_x(y)\n",
    "    elif 'Disj' in formule:\n",
    "        x, y = formule['Disj']\n",
    "        return extrait_variables_x(x) + extrait_variables_x(y)\n",
    "\n",
    "# on enlève les doublons\n",
    "def extrait_variables(formule : dict) -> list:\n",
    "    return list(set(extrait_variables_x(formule)))"
   ]
  },
  {
   "cell_type": "code",
   "execution_count": 94,
   "metadata": {},
   "outputs": [
    {
     "data": {
      "text/plain": [
       "['p', 'r', 'q']"
      ]
     },
     "execution_count": 94,
     "metadata": {},
     "output_type": "execute_result"
    }
   ],
   "source": [
    "extrait_variables(f)"
   ]
  },
  {
   "cell_type": "markdown",
   "metadata": {},
   "source": [
    "On trouve facilement les $n$ variables d'une formule.\n",
    "\n",
    "Ensuite, un [`itertools.product`](https://docs.python.org/3/library/itertools.html#itertools.product) permet de générer les $2^n$ valuations."
   ]
  },
  {
   "cell_type": "code",
   "execution_count": 98,
   "metadata": {},
   "outputs": [],
   "source": [
    "from itertools import product\n",
    "\n",
    "def toutes_valeurs(variables):\n",
    "    for valeurs in product([False, True], repeat=len(variables)):\n",
    "        yield defaultdict(lambda: False, {k:v for k,v in zip(variables, valeurs)})"
   ]
  },
  {
   "cell_type": "code",
   "execution_count": 103,
   "metadata": {},
   "outputs": [
    {
     "data": {
      "text/plain": [
       "[defaultdict(<function __main__.toutes_valeurs.<locals>.<lambda>>,\n",
       "             {'p': False, 'q': False, 'r': False}),\n",
       " defaultdict(<function __main__.toutes_valeurs.<locals>.<lambda>>,\n",
       "             {'p': False, 'q': True, 'r': False}),\n",
       " defaultdict(<function __main__.toutes_valeurs.<locals>.<lambda>>,\n",
       "             {'p': False, 'q': False, 'r': True}),\n",
       " defaultdict(<function __main__.toutes_valeurs.<locals>.<lambda>>,\n",
       "             {'p': False, 'q': True, 'r': True}),\n",
       " defaultdict(<function __main__.toutes_valeurs.<locals>.<lambda>>,\n",
       "             {'p': True, 'q': False, 'r': False}),\n",
       " defaultdict(<function __main__.toutes_valeurs.<locals>.<lambda>>,\n",
       "             {'p': True, 'q': True, 'r': False}),\n",
       " defaultdict(<function __main__.toutes_valeurs.<locals>.<lambda>>,\n",
       "             {'p': True, 'q': False, 'r': True}),\n",
       " defaultdict(<function __main__.toutes_valeurs.<locals>.<lambda>>,\n",
       "             {'p': True, 'q': True, 'r': True})]"
      ]
     },
     "execution_count": 103,
     "metadata": {},
     "output_type": "execute_result"
    }
   ],
   "source": [
    "list(toutes_valeurs(extrait_variables(f)))"
   ]
  },
  {
   "cell_type": "code",
   "execution_count": 106,
   "metadata": {
    "collapsed": true
   },
   "outputs": [],
   "source": [
    "def str_of_bool(x : bool) -> str:\n",
    "    # return str(int(x))\n",
    "    return '1' if x else '0'"
   ]
  },
  {
   "cell_type": "code",
   "execution_count": 116,
   "metadata": {
    "collapsed": true
   },
   "outputs": [],
   "source": [
    "def table_verite(formule : dict) -> None:\n",
    "    variables = extrait_variables(formule)\n",
    "    # D'abord la formule\n",
    "    for k in variables:\n",
    "        print(k, end=' ')\n",
    "    print('| ', end='')\n",
    "    affiche(f)\n",
    "    # Puis toutes ces valeurs possibles\n",
    "    for valeurs in toutes_valeurs(variables):\n",
    "        for k in variables:\n",
    "            print(str_of_bool(valeurs[k]), end=' ')\n",
    "        print('| ', end='')\n",
    "        print(str_of_bool(eval(valeurs, formule)))"
   ]
  },
  {
   "cell_type": "code",
   "execution_count": 117,
   "metadata": {},
   "outputs": [
    {
     "name": "stdout",
     "output_type": "stream",
     "text": [
      "p r q | (~p ^ ((q ^ ~p) V (r V q)))\n",
      "0 0 0 | 0\n",
      "0 0 1 | 1\n",
      "0 1 0 | 1\n",
      "0 1 1 | 1\n",
      "1 0 0 | 0\n",
      "1 0 1 | 0\n",
      "1 1 0 | 0\n",
      "1 1 1 | 0\n"
     ]
    }
   ],
   "source": [
    "table_verite(f)"
   ]
  },
  {
   "cell_type": "markdown",
   "metadata": {},
   "source": [
    "Note : ce code est encore plus concis que celui donné dans la solution en Caml.\n",
    "\n",
    "> On peut vérifier, par exemple sur [Wolfram|Alpha](https://www.wolframalpha.com/input/?i=%28%28not+p%29+and+%28%28q+and+%28not+p%29%29+or+%28r+or+q%29%29%29) que l'on obtient bien le bon résultat..."
   ]
  },
  {
   "cell_type": "markdown",
   "metadata": {},
   "source": [
    "----\n",
    "\n",
    "# Conclusion\n",
    "\n",
    "Comme vous le voyez, on arrive à répondre aux mêmes questions dans les deux langages, et il n'y a pas de grosses différences en pratique dans la mise en oeuvre.\n",
    "\n",
    "Là où OCaml excelle pour les types définis, le filtrage et la récursion, Python gagne en simplicité sur l'affichage, sa librairie standard et les dictionnaires et ensembles..."
   ]
  }
 ],
 "metadata": {
  "kernelspec": {
   "display_name": "Python 3",
   "language": "python",
   "name": "python3"
  },
  "language_info": {
   "codemirror_mode": {
    "name": "ipython",
    "version": 3
   },
   "file_extension": ".py",
   "mimetype": "text/x-python",
   "name": "python",
   "nbconvert_exporter": "python",
   "pygments_lexer": "ipython3",
   "version": "3.6.9"
  },
  "toc": {
   "base_numbering": 1,
   "nav_menu": {
    "height": "365px",
    "width": "251px"
   },
   "number_sections": true,
   "sideBar": true,
   "skip_h1_title": false,
   "title_cell": "Table of Contents",
   "title_sidebar": "Contents",
   "toc_cell": true,
   "toc_position": {
    "height": "523px",
    "left": "0px",
    "right": "1068px",
    "top": "116px",
    "width": "212px"
   },
   "toc_section_display": "block",
   "toc_window_display": true
  },
  "varInspector": {
   "cols": {
    "lenName": 16,
    "lenType": 16,
    "lenVar": 40
   },
   "kernels_config": {
    "python": {
     "delete_cmd_postfix": "",
     "delete_cmd_prefix": "del ",
     "library": "var_list.py",
     "varRefreshCmd": "print(var_dic_list())"
    },
    "r": {
     "delete_cmd_postfix": ") ",
     "delete_cmd_prefix": "rm(",
     "library": "var_list.r",
     "varRefreshCmd": "cat(var_dic_list()) "
    }
   },
   "types_to_exclude": [
    "module",
    "function",
    "builtin_function_or_method",
    "instance",
    "_Feature"
   ],
   "window_display": false
  }
 },
 "nbformat": 4,
 "nbformat_minor": 2
}
