{
 "cells": [
  {
   "cell_type": "markdown",
   "metadata": {
    "toc": "true"
   },
   "source": [
    "<h1>Table of Contents<span class=\"tocSkip\"></span></h1>\n",
    "<div class=\"toc\"><ul class=\"toc-item\"><li><span><a href=\"#TP-3---Programmation-pour-la-préparation-à-l'agrégation-maths-option-info\" data-toc-modified-id=\"TP-3---Programmation-pour-la-préparation-à-l'agrégation-maths-option-info-1\"><span class=\"toc-item-num\">1&nbsp;&nbsp;</span>TP 3 - Programmation pour la préparation à l'agrégation maths option info</a></span></li><li><span><a href=\"#Arbres-binaires-de-recherche\" data-toc-modified-id=\"Arbres-binaires-de-recherche-2\"><span class=\"toc-item-num\">2&nbsp;&nbsp;</span>Arbres binaires de recherche</a></span><ul class=\"toc-item\"><li><span><a href=\"#Exercice-1-:-ABR\" data-toc-modified-id=\"Exercice-1-:-ABR-2.1\"><span class=\"toc-item-num\">2.1&nbsp;&nbsp;</span>Exercice 1 : ABR</a></span><ul class=\"toc-item\"><li><span><a href=\"#Définition-du-type-Abr-et-exemples-de-valeurs\" data-toc-modified-id=\"Définition-du-type-Abr-et-exemples-de-valeurs-2.1.1\"><span class=\"toc-item-num\">2.1.1&nbsp;&nbsp;</span>Définition du type Abr et exemples de valeurs</a></span></li><li><span><a href=\"#Compter-les-clés-d'un-Abr\" data-toc-modified-id=\"Compter-les-clés-d'un-Abr-2.1.2\"><span class=\"toc-item-num\">2.1.2&nbsp;&nbsp;</span>Compter les clés d'un Abr</a></span></li></ul></li><li><span><a href=\"#Exercice-2-:-trouve\" data-toc-modified-id=\"Exercice-2-:-trouve-2.2\"><span class=\"toc-item-num\">2.2&nbsp;&nbsp;</span>Exercice 2 : <code>trouve</code></a></span></li><li><span><a href=\"#Exercice-3-:-insertion\" data-toc-modified-id=\"Exercice-3-:-insertion-2.3\"><span class=\"toc-item-num\">2.3&nbsp;&nbsp;</span>Exercice 3 : <code>insertion</code></a></span></li><li><span><a href=\"#Exercice-4-:-suppression\" data-toc-modified-id=\"Exercice-4-:-suppression-2.4\"><span class=\"toc-item-num\">2.4&nbsp;&nbsp;</span>Exercice 4 : <code>suppression</code></a></span></li><li><span><a href=\"#Exercice-5-:-fusion\" data-toc-modified-id=\"Exercice-5-:-fusion-2.5\"><span class=\"toc-item-num\">2.5&nbsp;&nbsp;</span>Exercice 5 : <code>fusion</code></a></span></li><li><span><a href=\"#Exercice-6\" data-toc-modified-id=\"Exercice-6-2.6\"><span class=\"toc-item-num\">2.6&nbsp;&nbsp;</span>Exercice 6</a></span><ul class=\"toc-item\"><li><span><a href=\"#Avantages-et-les-inconvénients-des-ABR\" data-toc-modified-id=\"Avantages-et-les-inconvénients-des-ABR-2.6.1\"><span class=\"toc-item-num\">2.6.1&nbsp;&nbsp;</span>Avantages et les inconvénients des ABR</a></span></li><li><span><a href=\"#Autres-structures-de-données-(clef,-valeur)\" data-toc-modified-id=\"Autres-structures-de-données-(clef,-valeur)-2.6.2\"><span class=\"toc-item-num\">2.6.2&nbsp;&nbsp;</span>Autres structures de données (clef, valeur)</a></span></li></ul></li></ul></li><li><span><a href=\"#Tas-binaire-min-(ou-max)\" data-toc-modified-id=\"Tas-binaire-min-(ou-max)-3\"><span class=\"toc-item-num\">3&nbsp;&nbsp;</span>Tas binaire min (ou max)</a></span><ul class=\"toc-item\"><li><span><a href=\"#Solution-concise-:-tas-binaire-avec-des-arbres\" data-toc-modified-id=\"Solution-concise-:-tas-binaire-avec-des-arbres-3.1\"><span class=\"toc-item-num\">3.1&nbsp;&nbsp;</span>Solution concise : tas binaire avec des arbres</a></span></li><li><span><a href=\"#Exercice-7-:-arbre-tournoi\" data-toc-modified-id=\"Exercice-7-:-arbre-tournoi-3.2\"><span class=\"toc-item-num\">3.2&nbsp;&nbsp;</span>Exercice 7 : arbre tournoi</a></span></li><li><span><a href=\"#Exercice-8-:-parent,-fils_gauche-et-fils_droit\" data-toc-modified-id=\"Exercice-8-:-parent,-fils_gauche-et-fils_droit-3.3\"><span class=\"toc-item-num\">3.3&nbsp;&nbsp;</span>Exercice 8 : <code>parent</code>, <code>fils_gauche</code> et <code>fils_droit</code></a></span></li><li><span><a href=\"#Exercice-9-:-echange\" data-toc-modified-id=\"Exercice-9-:-echange-3.4\"><span class=\"toc-item-num\">3.4&nbsp;&nbsp;</span>Exercice 9 : <code>echange</code></a></span></li><li><span><a href=\"#Exercice-10-:-insertion\" data-toc-modified-id=\"Exercice-10-:-insertion-3.5\"><span class=\"toc-item-num\">3.5&nbsp;&nbsp;</span>Exercice 10 : <code>insertion</code></a></span></li><li><span><a href=\"#Exercice-11-:-creation\" data-toc-modified-id=\"Exercice-11-:-creation-3.6\"><span class=\"toc-item-num\">3.6&nbsp;&nbsp;</span>Exercice 11 : <code>creation</code></a></span></li><li><span><a href=\"#Exercice-12-:-diminue_clef\" data-toc-modified-id=\"Exercice-12-:-diminue_clef-3.7\"><span class=\"toc-item-num\">3.7&nbsp;&nbsp;</span>Exercice 12 : <code>diminue_clef</code></a></span></li><li><span><a href=\"#Exercice-13-:-extraire_min\" data-toc-modified-id=\"Exercice-13-:-extraire_min-3.8\"><span class=\"toc-item-num\">3.8&nbsp;&nbsp;</span>Exercice 13 : <code>extraire_min</code></a></span></li><li><span><a href=\"#Exercice-14-:-tri-par-tas\" data-toc-modified-id=\"Exercice-14-:-tri-par-tas-3.9\"><span class=\"toc-item-num\">3.9&nbsp;&nbsp;</span>Exercice 14 : tri par tas</a></span></li></ul></li><li><span><a href=\"#Union-Find\" data-toc-modified-id=\"Union-Find-4\"><span class=\"toc-item-num\">4&nbsp;&nbsp;</span>Union-Find</a></span><ul class=\"toc-item\"><li><span><a href=\"#Exercice-15-:-Union-Find-avec-tableaux\" data-toc-modified-id=\"Exercice-15-:-Union-Find-avec-tableaux-4.1\"><span class=\"toc-item-num\">4.1&nbsp;&nbsp;</span>Exercice 15 : Union-Find avec tableaux</a></span></li><li><span><a href=\"#Exercice-16-:-Union-Find-avec-forêts\" data-toc-modified-id=\"Exercice-16-:-Union-Find-avec-forêts-4.2\"><span class=\"toc-item-num\">4.2&nbsp;&nbsp;</span>Exercice 16 : Union-Find avec forêts</a></span></li><li><span><a href=\"#Exercice-17-:-Bonus-&amp;-discussions\" data-toc-modified-id=\"Exercice-17-:-Bonus-&amp;-discussions-4.3\"><span class=\"toc-item-num\">4.3&nbsp;&nbsp;</span>Exercice 17 : Bonus &amp; discussions</a></span></li><li><span><a href=\"#Bonus-:-algorithme-de-Kruskal\" data-toc-modified-id=\"Bonus-:-algorithme-de-Kruskal-4.4\"><span class=\"toc-item-num\">4.4&nbsp;&nbsp;</span>Bonus : algorithme de Kruskal</a></span><ul class=\"toc-item\"><li><span><a href=\"#Représentations-de-graphe-pondérés\" data-toc-modified-id=\"Représentations-de-graphe-pondérés-4.4.1\"><span class=\"toc-item-num\">4.4.1&nbsp;&nbsp;</span>Représentations de graphe pondérés</a></span></li><li><span><a href=\"#Algorithme-de-Kruskal\" data-toc-modified-id=\"Algorithme-de-Kruskal-4.4.2\"><span class=\"toc-item-num\">4.4.2&nbsp;&nbsp;</span>Algorithme de Kruskal</a></span></li></ul></li></ul></li><li><span><a href=\"#Conclusion\" data-toc-modified-id=\"Conclusion-5\"><span class=\"toc-item-num\">5&nbsp;&nbsp;</span>Conclusion</a></span></li></ul></div>"
   ]
  },
  {
   "cell_type": "markdown",
   "metadata": {},
   "source": [
    "# TP 3 - Programmation pour la préparation à l'agrégation maths option info"
   ]
  },
  {
   "cell_type": "markdown",
   "metadata": {},
   "source": [
    "- En Python."
   ]
  },
  {
   "cell_type": "code",
   "execution_count": 221,
   "metadata": {
    "ExecuteTime": {
     "end_time": "2020-09-16T18:23:38.426758Z",
     "start_time": "2020-09-16T18:23:38.423115Z"
    }
   },
   "outputs": [
    {
     "name": "stdout",
     "output_type": "stream",
     "text": [
      "3.6.9 (default, Jul 17 2020, 12:50:27) \n",
      "[GCC 8.4.0]\n"
     ]
    }
   ],
   "source": [
    "import sys\n",
    "print(sys.version)"
   ]
  },
  {
   "cell_type": "markdown",
   "metadata": {},
   "source": [
    "----\n",
    "# Arbres binaires de recherche"
   ]
  },
  {
   "cell_type": "markdown",
   "metadata": {},
   "source": [
    "## Exercice 1 : ABR"
   ]
  },
  {
   "cell_type": "markdown",
   "metadata": {},
   "source": [
    "### Définition du type Abr et exemples de valeurs"
   ]
  },
  {
   "cell_type": "markdown",
   "metadata": {},
   "source": [
    "Comme au TP1 et TP2, plutôt que d'utiliser des classes, je préfère utiliser des dictionnaires avec une seule clé et une seule valeur pour représenter des structures arborescentes.\n",
    "La valeur est ici `None` s'il n'y a rien à stocker (pour une feuille `Leaf` par exemple), ou un tuple `k, v, l, r` pour un `Node`.\n",
    "\n",
    "Cela simule la syntaxe de OCaml pour la création de valeurs, et le *pattern matching* (filtrage) est simulé par des `if/elif/else` testant la clé."
   ]
  },
  {
   "cell_type": "code",
   "execution_count": 222,
   "metadata": {
    "ExecuteTime": {
     "end_time": "2020-09-16T18:25:11.961410Z",
     "start_time": "2020-09-16T18:25:11.950771Z"
    }
   },
   "outputs": [],
   "source": [
    "Leaf = {\"Leaf\": None}\n",
    "\n",
    "def Node(k: int, v: str, l: dict, r: dict) -> dict:\n",
    "    \"\"\" Crée un arbre binaire avec un noeud de clé k, de valeur v, de fils gauche l et de fils droit r.\"\"\"\n",
    "    return {\"Node\": (k, v, l, r)}"
   ]
  },
  {
   "cell_type": "markdown",
   "metadata": {},
   "source": [
    "On peut aussi utiliser une approche objet, et définir une classe.\n",
    "L'avantage sera un accès plus rapide aux différentes valeurs stockées : `arbre.l` donne le fils gauche."
   ]
  },
  {
   "cell_type": "code",
   "execution_count": 223,
   "metadata": {
    "ExecuteTime": {
     "end_time": "2020-09-16T18:25:20.602484Z",
     "start_time": "2020-09-16T18:25:20.597772Z"
    }
   },
   "outputs": [],
   "source": [
    "class NodeClass():\n",
    "    def __init__(self, k: int, v: str, l, r):\n",
    "        self.k = k\n",
    "        self.v = v\n",
    "        self.l = l\n",
    "        self.r = r"
   ]
  },
  {
   "cell_type": "markdown",
   "metadata": {},
   "source": [
    "##### Note sur le typage en Python\n",
    "En Python, avec le module [`typing`](https://docs.python.org/3/library/typing.html), on peut définir des alias de types (non récursifs), comme en OCaml.\n",
    "\n",
    "On peut ensuite ajouter *indications* de typage, à des définitions de variables ou de fonctions."
   ]
  },
  {
   "cell_type": "code",
   "execution_count": 17,
   "metadata": {
    "ExecuteTime": {
     "end_time": "2020-09-15T13:06:36.909082Z",
     "start_time": "2020-09-15T13:06:36.904614Z"
    }
   },
   "outputs": [],
   "source": [
    "from typing import Dict, List, Any, Union, Tuple\n",
    "\n",
    "Abr = Dict[str, Union[str, Tuple[int, str, Any, Any]]]"
   ]
  },
  {
   "cell_type": "markdown",
   "metadata": {},
   "source": [
    "##### Exemples d'arbres binaires"
   ]
  },
  {
   "cell_type": "code",
   "execution_count": 35,
   "metadata": {
    "ExecuteTime": {
     "end_time": "2020-09-15T13:17:16.371821Z",
     "start_time": "2020-09-15T13:17:16.357551Z"
    }
   },
   "outputs": [
    {
     "name": "stdout",
     "output_type": "stream",
     "text": [
      "{'Node': (1, 'a', {'Leaf': None}, {'Leaf': None})}\n",
      "{'Node': (2, 'b', {'Node': (1, 'a', {'Leaf': None}, {'Leaf': None})}, {'Leaf': None})}\n",
      "{'Node': (3, 'c', {'Node': (1, 'a', {'Leaf': None}, {'Leaf': None})}, {'Node': (2, 'b', {'Node': (1, 'a', {'Leaf': None}, {'Leaf': None})}, {'Leaf': None})})}\n"
     ]
    }
   ],
   "source": [
    "exemple_arbre_binaire1: Abr = Node(1, \"a\", Leaf, Leaf)\n",
    "print(exemple_arbre_binaire1)\n",
    "\n",
    "exemple_arbre_binaire2: Abr = Node(2, \"b\", exemple_arbre_binaire1, Leaf)\n",
    "print(exemple_arbre_binaire2)\n",
    "\n",
    "exemple_arbre_binaire3: Abr = Node(3, \"c\", exemple_arbre_binaire1, exemple_arbre_binaire2)\n",
    "print(exemple_arbre_binaire3)"
   ]
  },
  {
   "cell_type": "markdown",
   "metadata": {},
   "source": [
    "Pour afficher joliment des structures arborescentes on peut utiliser `pprint.pprint` :"
   ]
  },
  {
   "cell_type": "code",
   "execution_count": 36,
   "metadata": {
    "ExecuteTime": {
     "end_time": "2020-09-15T13:17:18.799128Z",
     "start_time": "2020-09-15T13:17:18.792365Z"
    }
   },
   "outputs": [],
   "source": [
    "from pprint import pprint"
   ]
  },
  {
   "cell_type": "code",
   "execution_count": 38,
   "metadata": {
    "ExecuteTime": {
     "end_time": "2020-09-15T13:17:25.683404Z",
     "start_time": "2020-09-15T13:17:25.674188Z"
    }
   },
   "outputs": [
    {
     "name": "stdout",
     "output_type": "stream",
     "text": [
      "{'Node': (2,\n",
      "          'b',\n",
      "          {'Node': (1, 'a', {'Leaf': None}, {'Leaf': None})},\n",
      "          {'Leaf': None})}\n"
     ]
    }
   ],
   "source": [
    "pprint(exemple_arbre_binaire2)"
   ]
  },
  {
   "cell_type": "code",
   "execution_count": 39,
   "metadata": {
    "ExecuteTime": {
     "end_time": "2020-09-15T13:17:26.521480Z",
     "start_time": "2020-09-15T13:17:26.510549Z"
    }
   },
   "outputs": [
    {
     "name": "stdout",
     "output_type": "stream",
     "text": [
      "{'Node': (3,\n",
      "          'c',\n",
      "          {'Node': (1, 'a', {'Leaf': None}, {'Leaf': None})},\n",
      "          {'Node': (2,\n",
      "                    'b',\n",
      "                    {'Node': (1, 'a', {'Leaf': None}, {'Leaf': None})},\n",
      "                    {'Leaf': None})})}\n"
     ]
    }
   ],
   "source": [
    "pprint(exemple_arbre_binaire3)"
   ]
  },
  {
   "cell_type": "markdown",
   "metadata": {},
   "source": [
    "En OCaml on pouvait définir un type **récursif** comme cela (observez comment `abr` intervient dans la définition de `anode` qui intervient dans la définition de `abr`...), mais en Python ce n'est pas possible."
   ]
  },
  {
   "cell_type": "markdown",
   "metadata": {},
   "source": [
    "```ocaml\n",
    "type 'a abr =\n",
    "    | Leaf\n",
    "    | Node of 'a anode\n",
    "\n",
    "and 'b anode = {\n",
    "    key   : int;\n",
    "    value : 'b;\n",
    "    left  : 'b abr; (* pour toute clé [k] dans [left],  [k] < [key] *)\n",
    "    right : 'b abr  (* pour toute clé [k] dans [right], [key] < [k] *)\n",
    "}\n",
    ";;\n",
    "```"
   ]
  },
  {
   "cell_type": "markdown",
   "metadata": {},
   "source": [
    "### Compter les clés d'un Abr\n",
    "Compter les clés est facile :"
   ]
  },
  {
   "cell_type": "code",
   "execution_count": 240,
   "metadata": {
    "ExecuteTime": {
     "end_time": "2020-09-17T08:45:32.265007Z",
     "start_time": "2020-09-17T08:45:32.258021Z"
    }
   },
   "outputs": [],
   "source": [
    "def nb_keys(a: Abr) -> int:\n",
    "    \"\"\" Calcule le nombre de clés d'un arbre binaire a.\"\"\"\n",
    "    # on simule \"match a with ...\" avec des if/elif/else\n",
    "    if \"Leaf\" in a:  # simule | Leaf ->\n",
    "        return 0\n",
    "    elif \"Node\" in a:\n",
    "        _, _, l, r = a[\"Node\"]\n",
    "        return 1 + nb_keys(l) + nb_keys(r)\n",
    "    else:  # ce cas n'arrive jamais\n",
    "        return -1"
   ]
  },
  {
   "cell_type": "markdown",
   "metadata": {},
   "source": [
    "En OCaml, l'avantage du *pattern matching* est qu'il nous prévient si le test n'est pas exhaustif.\n",
    "En Python, on ne peut pas avoir ce genre d'aide."
   ]
  },
  {
   "cell_type": "markdown",
   "metadata": {},
   "source": [
    "```ocaml\n",
    "let rec nb_keys (a : 'a abr) : int =\n",
    "    match a with\n",
    "    (* si on oublie le cas de base : | Leaf -> 0 *)\n",
    "    | Node n -> 1 + nb_keys n.left + nb_keys n.right\n",
    ";;\n",
    "(* Cette fonction sera bien typée, mais pas correcte :\n",
    "l'interprète ou le compilateur prévient par un Warning :\n",
    "Warning 8: this pattern-matching is not exhaustive.\n",
    "Here is an example of a case that is not matched:\n",
    "Leaf\n",
    "*)\n",
    "```"
   ]
  },
  {
   "cell_type": "markdown",
   "metadata": {},
   "source": [
    "Il faut prendre l'habitude de vérifier vos fonctions sur tous les exemples définis précédemment :"
   ]
  },
  {
   "cell_type": "code",
   "execution_count": 241,
   "metadata": {
    "ExecuteTime": {
     "end_time": "2020-09-17T08:45:32.932722Z",
     "start_time": "2020-09-17T08:45:32.927492Z"
    }
   },
   "outputs": [
    {
     "name": "stdout",
     "output_type": "stream",
     "text": [
      "L'arbre binaire suivant :\n",
      "{'Node': (1, 'a', {'Leaf': None}, {'Leaf': None})}\n",
      "contient 1 clés.\n"
     ]
    }
   ],
   "source": [
    "print(\"L'arbre binaire suivant :\")\n",
    "pprint(exemple_arbre_binaire1)\n",
    "print(\"contient\", nb_keys(exemple_arbre_binaire1), \"clés.\")"
   ]
  },
  {
   "cell_type": "code",
   "execution_count": 242,
   "metadata": {
    "ExecuteTime": {
     "end_time": "2020-09-17T08:45:33.117477Z",
     "start_time": "2020-09-17T08:45:33.110424Z"
    },
    "scrolled": true
   },
   "outputs": [
    {
     "name": "stdout",
     "output_type": "stream",
     "text": [
      "L'arbre binaire suivant :\n",
      "{'Node': (2,\n",
      "          'b',\n",
      "          {'Node': (1, 'a', {'Leaf': None}, {'Leaf': None})},\n",
      "          {'Leaf': None})}\n",
      "contient 2 clés.\n"
     ]
    }
   ],
   "source": [
    "print(\"L'arbre binaire suivant :\")\n",
    "pprint(exemple_arbre_binaire2)\n",
    "print(\"contient\", nb_keys(exemple_arbre_binaire2), \"clés.\")"
   ]
  },
  {
   "cell_type": "code",
   "execution_count": 243,
   "metadata": {
    "ExecuteTime": {
     "end_time": "2020-09-17T08:45:33.280444Z",
     "start_time": "2020-09-17T08:45:33.270238Z"
    }
   },
   "outputs": [
    {
     "name": "stdout",
     "output_type": "stream",
     "text": [
      "L'arbre binaire suivant :\n",
      "{'Node': (3,\n",
      "          'c',\n",
      "          {'Node': (1, 'a', {'Leaf': None}, {'Leaf': None})},\n",
      "          {'Node': (2,\n",
      "                    'b',\n",
      "                    {'Node': (1, 'a', {'Leaf': None}, {'Leaf': None})},\n",
      "                    {'Leaf': None})})}\n",
      "contient 4 clés.\n"
     ]
    }
   ],
   "source": [
    "print(\"L'arbre binaire suivant :\")\n",
    "pprint(exemple_arbre_binaire3)\n",
    "print(\"contient\", nb_keys(exemple_arbre_binaire3), \"clés.\")"
   ]
  },
  {
   "cell_type": "markdown",
   "metadata": {},
   "source": [
    "##### Extraire une liste des clés\n",
    "Bonus : on peut extraire une liste des clés, très facilement :"
   ]
  },
  {
   "cell_type": "code",
   "execution_count": 244,
   "metadata": {
    "ExecuteTime": {
     "end_time": "2020-09-17T08:45:33.641087Z",
     "start_time": "2020-09-17T08:45:33.635728Z"
    }
   },
   "outputs": [],
   "source": [
    "def list_keys(a: Abr) -> List[str]:\n",
    "    \"\"\" Extraire la liste des clés d'un arbre binaire a (parcours en profondeur).\"\"\"\n",
    "    # on simule \"match a with ...\" avec des if/elif/else\n",
    "    if \"Leaf\" in a:  # simule | Leaf ->\n",
    "        return []\n",
    "    elif \"Node\" in a:\n",
    "        v, k, l, r = a[\"Node\"]\n",
    "        return [k] + list_keys(l) + list_keys(r)\n",
    "    else:  # ce cas n'arrive jamais\n",
    "        return []"
   ]
  },
  {
   "cell_type": "code",
   "execution_count": 245,
   "metadata": {
    "ExecuteTime": {
     "end_time": "2020-09-17T08:45:33.827385Z",
     "start_time": "2020-09-17T08:45:33.820468Z"
    }
   },
   "outputs": [
    {
     "name": "stdout",
     "output_type": "stream",
     "text": [
      "L'arbre binaire suivant :\n",
      "{'Node': (1, 'a', {'Leaf': None}, {'Leaf': None})}\n",
      "contient ces clés : ['a']\n"
     ]
    }
   ],
   "source": [
    "print(\"L'arbre binaire suivant :\")\n",
    "pprint(exemple_arbre_binaire1)\n",
    "print(\"contient ces clés :\", list_keys(exemple_arbre_binaire1))"
   ]
  },
  {
   "cell_type": "code",
   "execution_count": 246,
   "metadata": {
    "ExecuteTime": {
     "end_time": "2020-09-17T08:45:34.002741Z",
     "start_time": "2020-09-17T08:45:33.996790Z"
    }
   },
   "outputs": [
    {
     "name": "stdout",
     "output_type": "stream",
     "text": [
      "L'arbre binaire suivant :\n",
      "{'Node': (2,\n",
      "          'b',\n",
      "          {'Node': (1, 'a', {'Leaf': None}, {'Leaf': None})},\n",
      "          {'Leaf': None})}\n",
      "contient ces clés : ['b', 'a']\n"
     ]
    }
   ],
   "source": [
    "print(\"L'arbre binaire suivant :\")\n",
    "pprint(exemple_arbre_binaire2)\n",
    "print(\"contient ces clés :\", list_keys(exemple_arbre_binaire2))"
   ]
  },
  {
   "cell_type": "code",
   "execution_count": 247,
   "metadata": {
    "ExecuteTime": {
     "end_time": "2020-09-17T08:45:34.172274Z",
     "start_time": "2020-09-17T08:45:34.165062Z"
    }
   },
   "outputs": [
    {
     "name": "stdout",
     "output_type": "stream",
     "text": [
      "L'arbre binaire suivant :\n",
      "{'Node': (3,\n",
      "          'c',\n",
      "          {'Node': (1, 'a', {'Leaf': None}, {'Leaf': None})},\n",
      "          {'Node': (2,\n",
      "                    'b',\n",
      "                    {'Node': (1, 'a', {'Leaf': None}, {'Leaf': None})},\n",
      "                    {'Leaf': None})})}\n",
      "contient ces clés : ['c', 'a', 'b', 'a']\n"
     ]
    }
   ],
   "source": [
    "print(\"L'arbre binaire suivant :\")\n",
    "pprint(exemple_arbre_binaire3)\n",
    "print(\"contient ces clés :\", list_keys(exemple_arbre_binaire3))"
   ]
  },
  {
   "cell_type": "markdown",
   "metadata": {},
   "source": [
    "## Exercice 2 : `trouve`"
   ]
  },
  {
   "cell_type": "code",
   "execution_count": 264,
   "metadata": {
    "ExecuteTime": {
     "end_time": "2020-09-17T08:46:12.631376Z",
     "start_time": "2020-09-17T08:46:12.617993Z"
    }
   },
   "outputs": [],
   "source": [
    "def trouve(a: Abr, x: int) -> Union[int, None]:\n",
    "    # Optional[int] is equivalent to Union[int]\n",
    "    if \"Leaf\" in a:\n",
    "        return None\n",
    "    elif \"Node\" in a:\n",
    "        k, v, l, r = a[\"Node\"]\n",
    "        if k == x:   # on a trouvé la valeur v associée à la clé k = x\n",
    "            return v\n",
    "        elif x < k:\n",
    "            # on cherche dans le sous arbre de gauche si la valeur cherchée\n",
    "            # est plus petite que la clé du noeud\n",
    "            return trouve(l, x)\n",
    "        elif x > k:\n",
    "            # sinon on cherche dans le sous arbre de droite\n",
    "            return trouve(r, x)\n",
    "        # ce dernier cas ne doit pas arriver\n",
    "        else: raise ValueError(\"Incapable de trouver {} dans l'arbre binaire {}\".format(x, a))"
   ]
  },
  {
   "cell_type": "code",
   "execution_count": 265,
   "metadata": {
    "ExecuteTime": {
     "end_time": "2020-09-17T08:46:13.076724Z",
     "start_time": "2020-09-17T08:46:13.064722Z"
    }
   },
   "outputs": [
    {
     "name": "stdout",
     "output_type": "stream",
     "text": [
      "En cherchant la clé 1 dans l'arbre binaire suivant\n",
      "{'Node': (1, 'a', {'Leaf': None}, {'Leaf': None})}\n",
      "on trouve la valeur associée = a\n"
     ]
    }
   ],
   "source": [
    "print(\"En cherchant la clé 1 dans l'arbre binaire suivant\")\n",
    "pprint(exemple_arbre_binaire1)\n",
    "print(\"on trouve la valeur associée =\", trouve(exemple_arbre_binaire1, 1))"
   ]
  },
  {
   "cell_type": "code",
   "execution_count": 266,
   "metadata": {
    "ExecuteTime": {
     "end_time": "2020-09-17T08:46:13.292540Z",
     "start_time": "2020-09-17T08:46:13.285653Z"
    }
   },
   "outputs": [
    {
     "name": "stdout",
     "output_type": "stream",
     "text": [
      "En cherchant la clé 3 dans l'arbre binaire suivant\n",
      "{'Node': (3,\n",
      "          'c',\n",
      "          {'Node': (1, 'a', {'Leaf': None}, {'Leaf': None})},\n",
      "          {'Node': (2,\n",
      "                    'b',\n",
      "                    {'Node': (1, 'a', {'Leaf': None}, {'Leaf': None})},\n",
      "                    {'Leaf': None})})}\n",
      "on trouve la valeur associée = c\n"
     ]
    }
   ],
   "source": [
    "print(\"En cherchant la clé 3 dans l'arbre binaire suivant\")\n",
    "pprint(exemple_arbre_binaire3)\n",
    "print(\"on trouve la valeur associée =\", trouve(exemple_arbre_binaire3, 3))"
   ]
  },
  {
   "cell_type": "markdown",
   "metadata": {},
   "source": [
    "Exemple de recherche qui ne fonctionne pas (sans renvoyer d'erreur, juste un `None`) :"
   ]
  },
  {
   "cell_type": "code",
   "execution_count": 267,
   "metadata": {
    "ExecuteTime": {
     "end_time": "2020-09-17T08:46:14.178102Z",
     "start_time": "2020-09-17T08:46:14.166434Z"
    }
   },
   "outputs": [
    {
     "name": "stdout",
     "output_type": "stream",
     "text": [
      "En cherchant la clé 42 dans l'arbre binaire suivant\n",
      "{'Node': (3,\n",
      "          'c',\n",
      "          {'Node': (1, 'a', {'Leaf': None}, {'Leaf': None})},\n",
      "          {'Node': (2,\n",
      "                    'b',\n",
      "                    {'Node': (1, 'a', {'Leaf': None}, {'Leaf': None})},\n",
      "                    {'Leaf': None})})}\n",
      "on trouve la valeur associée = None\n"
     ]
    }
   ],
   "source": [
    "print(\"En cherchant la clé 42 dans l'arbre binaire suivant\")\n",
    "pprint(exemple_arbre_binaire3)\n",
    "print(\"on trouve la valeur associée =\", trouve(exemple_arbre_binaire3, 42))"
   ]
  },
  {
   "cell_type": "markdown",
   "metadata": {},
   "source": [
    "Si on veut que la recherche **échoue** si la clé cherchée n'est pas présente, on peut changer le code et écrire :"
   ]
  },
  {
   "cell_type": "code",
   "execution_count": 268,
   "metadata": {
    "ExecuteTime": {
     "end_time": "2020-09-17T08:46:14.487314Z",
     "start_time": "2020-09-17T08:46:14.477316Z"
    }
   },
   "outputs": [],
   "source": [
    "def trouve_avec_erreur(a: Abr, x: int) -> int:  # notez que le type de retour est juste un entier désormais\n",
    "    if \"Leaf\" in a:\n",
    "        raise ValueError(\"Incapable de trouver {} dans l'arbre binaire {}\".format(x, a))\n",
    "    elif \"Node\" in a:\n",
    "        k, _, l, r = a[\"Node\"]\n",
    "        if k == x:   # on a trouvé la valeur v associée à la clé k = x\n",
    "            return v\n",
    "        elif x < k:  # on cherche dans le sous arbre de gauche\n",
    "            return trouve_avec_erreur(l, x)\n",
    "        elif x > k:  # on cherche dans le sous arbre de droite\n",
    "            return trouve_avec_erreur(r, x)\n",
    "        # ce dernier cas ne doit pas arriver\n",
    "        else: raise ValueError(\"Incapable de trouver {} dans l'arbre binaire {}\".format(x, a))"
   ]
  },
  {
   "cell_type": "code",
   "execution_count": 269,
   "metadata": {
    "ExecuteTime": {
     "end_time": "2020-09-17T08:46:14.705007Z",
     "start_time": "2020-09-17T08:46:14.672274Z"
    }
   },
   "outputs": [
    {
     "name": "stdout",
     "output_type": "stream",
     "text": [
      "En cherchant la clé 42 dans l'arbre binaire suivant\n",
      "{'Node': (3,\n",
      "          'c',\n",
      "          {'Node': (1, 'a', {'Leaf': None}, {'Leaf': None})},\n",
      "          {'Node': (2,\n",
      "                    'b',\n",
      "                    {'Node': (1, 'a', {'Leaf': None}, {'Leaf': None})},\n",
      "                    {'Leaf': None})})}\n"
     ]
    },
    {
     "ename": "ValueError",
     "evalue": "Incapable de trouver 42 dans l'arbre binaire {'Leaf': None}",
     "output_type": "error",
     "traceback": [
      "\u001b[0;31m---------------------------------------------------------------------------\u001b[0m",
      "\u001b[0;31mValueError\u001b[0m                                Traceback (most recent call last)",
      "\u001b[0;32m<ipython-input-269-efff1dbc191b>\u001b[0m in \u001b[0;36m<module>\u001b[0;34m\u001b[0m\n\u001b[1;32m      1\u001b[0m \u001b[0mprint\u001b[0m\u001b[0;34m(\u001b[0m\u001b[0;34m\"En cherchant la clé 42 dans l'arbre binaire suivant\"\u001b[0m\u001b[0;34m)\u001b[0m\u001b[0;34m\u001b[0m\u001b[0;34m\u001b[0m\u001b[0m\n\u001b[1;32m      2\u001b[0m \u001b[0mpprint\u001b[0m\u001b[0;34m(\u001b[0m\u001b[0mexemple_arbre_binaire3\u001b[0m\u001b[0;34m)\u001b[0m\u001b[0;34m\u001b[0m\u001b[0;34m\u001b[0m\u001b[0m\n\u001b[0;32m----> 3\u001b[0;31m \u001b[0mprint\u001b[0m\u001b[0;34m(\u001b[0m\u001b[0;34m\"on trouve la valeur associée =\"\u001b[0m\u001b[0;34m,\u001b[0m \u001b[0mtrouve_avec_erreur\u001b[0m\u001b[0;34m(\u001b[0m\u001b[0mexemple_arbre_binaire3\u001b[0m\u001b[0;34m,\u001b[0m \u001b[0;36m42\u001b[0m\u001b[0;34m)\u001b[0m\u001b[0;34m)\u001b[0m\u001b[0;34m\u001b[0m\u001b[0;34m\u001b[0m\u001b[0m\n\u001b[0m",
      "\u001b[0;32m<ipython-input-268-2a0920851e65>\u001b[0m in \u001b[0;36mtrouve_avec_erreur\u001b[0;34m(a, x)\u001b[0m\n\u001b[1;32m      9\u001b[0m             \u001b[0;32mreturn\u001b[0m \u001b[0mtrouve_avec_erreur\u001b[0m\u001b[0;34m(\u001b[0m\u001b[0ml\u001b[0m\u001b[0;34m,\u001b[0m \u001b[0mx\u001b[0m\u001b[0;34m)\u001b[0m\u001b[0;34m\u001b[0m\u001b[0;34m\u001b[0m\u001b[0m\n\u001b[1;32m     10\u001b[0m         \u001b[0;32melif\u001b[0m \u001b[0mx\u001b[0m \u001b[0;34m>\u001b[0m \u001b[0mk\u001b[0m\u001b[0;34m:\u001b[0m  \u001b[0;31m# on cherche dans le sous arbre de droite\u001b[0m\u001b[0;34m\u001b[0m\u001b[0;34m\u001b[0m\u001b[0m\n\u001b[0;32m---> 11\u001b[0;31m             \u001b[0;32mreturn\u001b[0m \u001b[0mtrouve_avec_erreur\u001b[0m\u001b[0;34m(\u001b[0m\u001b[0mr\u001b[0m\u001b[0;34m,\u001b[0m \u001b[0mx\u001b[0m\u001b[0;34m)\u001b[0m\u001b[0;34m\u001b[0m\u001b[0;34m\u001b[0m\u001b[0m\n\u001b[0m\u001b[1;32m     12\u001b[0m         \u001b[0;31m# ce dernier cas ne doit pas arriver\u001b[0m\u001b[0;34m\u001b[0m\u001b[0;34m\u001b[0m\u001b[0;34m\u001b[0m\u001b[0m\n\u001b[1;32m     13\u001b[0m         \u001b[0;32melse\u001b[0m\u001b[0;34m:\u001b[0m \u001b[0;32mraise\u001b[0m \u001b[0mValueError\u001b[0m\u001b[0;34m(\u001b[0m\u001b[0;34m\"Incapable de trouver {} dans l'arbre binaire {}\"\u001b[0m\u001b[0;34m.\u001b[0m\u001b[0mformat\u001b[0m\u001b[0;34m(\u001b[0m\u001b[0mx\u001b[0m\u001b[0;34m,\u001b[0m \u001b[0ma\u001b[0m\u001b[0;34m)\u001b[0m\u001b[0;34m)\u001b[0m\u001b[0;34m\u001b[0m\u001b[0;34m\u001b[0m\u001b[0m\n",
      "\u001b[0;32m<ipython-input-268-2a0920851e65>\u001b[0m in \u001b[0;36mtrouve_avec_erreur\u001b[0;34m(a, x)\u001b[0m\n\u001b[1;32m      9\u001b[0m             \u001b[0;32mreturn\u001b[0m \u001b[0mtrouve_avec_erreur\u001b[0m\u001b[0;34m(\u001b[0m\u001b[0ml\u001b[0m\u001b[0;34m,\u001b[0m \u001b[0mx\u001b[0m\u001b[0;34m)\u001b[0m\u001b[0;34m\u001b[0m\u001b[0;34m\u001b[0m\u001b[0m\n\u001b[1;32m     10\u001b[0m         \u001b[0;32melif\u001b[0m \u001b[0mx\u001b[0m \u001b[0;34m>\u001b[0m \u001b[0mk\u001b[0m\u001b[0;34m:\u001b[0m  \u001b[0;31m# on cherche dans le sous arbre de droite\u001b[0m\u001b[0;34m\u001b[0m\u001b[0;34m\u001b[0m\u001b[0m\n\u001b[0;32m---> 11\u001b[0;31m             \u001b[0;32mreturn\u001b[0m \u001b[0mtrouve_avec_erreur\u001b[0m\u001b[0;34m(\u001b[0m\u001b[0mr\u001b[0m\u001b[0;34m,\u001b[0m \u001b[0mx\u001b[0m\u001b[0;34m)\u001b[0m\u001b[0;34m\u001b[0m\u001b[0;34m\u001b[0m\u001b[0m\n\u001b[0m\u001b[1;32m     12\u001b[0m         \u001b[0;31m# ce dernier cas ne doit pas arriver\u001b[0m\u001b[0;34m\u001b[0m\u001b[0;34m\u001b[0m\u001b[0;34m\u001b[0m\u001b[0m\n\u001b[1;32m     13\u001b[0m         \u001b[0;32melse\u001b[0m\u001b[0;34m:\u001b[0m \u001b[0;32mraise\u001b[0m \u001b[0mValueError\u001b[0m\u001b[0;34m(\u001b[0m\u001b[0;34m\"Incapable de trouver {} dans l'arbre binaire {}\"\u001b[0m\u001b[0;34m.\u001b[0m\u001b[0mformat\u001b[0m\u001b[0;34m(\u001b[0m\u001b[0mx\u001b[0m\u001b[0;34m,\u001b[0m \u001b[0ma\u001b[0m\u001b[0;34m)\u001b[0m\u001b[0;34m)\u001b[0m\u001b[0;34m\u001b[0m\u001b[0;34m\u001b[0m\u001b[0m\n",
      "\u001b[0;32m<ipython-input-268-2a0920851e65>\u001b[0m in \u001b[0;36mtrouve_avec_erreur\u001b[0;34m(a, x)\u001b[0m\n\u001b[1;32m      1\u001b[0m \u001b[0;32mdef\u001b[0m \u001b[0mtrouve_avec_erreur\u001b[0m\u001b[0;34m(\u001b[0m\u001b[0ma\u001b[0m\u001b[0;34m:\u001b[0m \u001b[0mAbr\u001b[0m\u001b[0;34m,\u001b[0m \u001b[0mx\u001b[0m\u001b[0;34m:\u001b[0m \u001b[0mint\u001b[0m\u001b[0;34m)\u001b[0m \u001b[0;34m->\u001b[0m \u001b[0mint\u001b[0m\u001b[0;34m:\u001b[0m  \u001b[0;31m# notez que le type de retour est juste un entier désormais\u001b[0m\u001b[0;34m\u001b[0m\u001b[0;34m\u001b[0m\u001b[0m\n\u001b[1;32m      2\u001b[0m     \u001b[0;32mif\u001b[0m \u001b[0;34m\"Leaf\"\u001b[0m \u001b[0;32min\u001b[0m \u001b[0ma\u001b[0m\u001b[0;34m:\u001b[0m\u001b[0;34m\u001b[0m\u001b[0;34m\u001b[0m\u001b[0m\n\u001b[0;32m----> 3\u001b[0;31m         \u001b[0;32mraise\u001b[0m \u001b[0mValueError\u001b[0m\u001b[0;34m(\u001b[0m\u001b[0;34m\"Incapable de trouver {} dans l'arbre binaire {}\"\u001b[0m\u001b[0;34m.\u001b[0m\u001b[0mformat\u001b[0m\u001b[0;34m(\u001b[0m\u001b[0mx\u001b[0m\u001b[0;34m,\u001b[0m \u001b[0ma\u001b[0m\u001b[0;34m)\u001b[0m\u001b[0;34m)\u001b[0m\u001b[0;34m\u001b[0m\u001b[0;34m\u001b[0m\u001b[0m\n\u001b[0m\u001b[1;32m      4\u001b[0m     \u001b[0;32melif\u001b[0m \u001b[0;34m\"Node\"\u001b[0m \u001b[0;32min\u001b[0m \u001b[0ma\u001b[0m\u001b[0;34m:\u001b[0m\u001b[0;34m\u001b[0m\u001b[0;34m\u001b[0m\u001b[0m\n\u001b[1;32m      5\u001b[0m         \u001b[0mk\u001b[0m\u001b[0;34m,\u001b[0m \u001b[0m_\u001b[0m\u001b[0;34m,\u001b[0m \u001b[0ml\u001b[0m\u001b[0;34m,\u001b[0m \u001b[0mr\u001b[0m \u001b[0;34m=\u001b[0m \u001b[0ma\u001b[0m\u001b[0;34m[\u001b[0m\u001b[0;34m\"Node\"\u001b[0m\u001b[0;34m]\u001b[0m\u001b[0;34m\u001b[0m\u001b[0;34m\u001b[0m\u001b[0m\n",
      "\u001b[0;31mValueError\u001b[0m: Incapable de trouver 42 dans l'arbre binaire {'Leaf': None}"
     ]
    }
   ],
   "source": [
    "print(\"En cherchant la clé 42 dans l'arbre binaire suivant\")\n",
    "pprint(exemple_arbre_binaire3)\n",
    "print(\"on trouve la valeur associée =\", trouve_avec_erreur(exemple_arbre_binaire3, 42))"
   ]
  },
  {
   "cell_type": "markdown",
   "metadata": {},
   "source": [
    "La `traceback` (affichage de l'erreur) nous montre même les appels récursifs qui ont menés à l'erreur. (ici, deux appels récursifs sur le fils droit, puisque 42 était plus grand que les deux clés successives 3 et 2)."
   ]
  },
  {
   "cell_type": "markdown",
   "metadata": {},
   "source": [
    "## Exercice 3 : `insertion`"
   ]
  },
  {
   "cell_type": "code",
   "execution_count": 270,
   "metadata": {
    "ExecuteTime": {
     "end_time": "2020-09-17T08:46:15.249939Z",
     "start_time": "2020-09-17T08:46:15.241975Z"
    }
   },
   "outputs": [],
   "source": [
    "def insertion(a: Abr, k: int, v: str) -> Abr:\n",
    "    if \"Leaf\" in a:  # a arbre vide, on crée un noeud ayant deux fils vides\n",
    "        return Node(k, v, Leaf, Leaf)\n",
    "    elif \"Node\" in a:\n",
    "        ka, va, l, r = a[\"Node\"]\n",
    "        if k == ka:   # on ne change pas les fils\n",
    "            return Node(k, v, l, r) # change va -> v\n",
    "        elif k < ka:  # on change le fils gauche\n",
    "            return Node(ka, va, insertion(l, k, v), r)\n",
    "        elif k > ka:  # on change le fils droit\n",
    "            return Node(ka, va, l, insertion(r, k, v))\n",
    "        # ce dernier cas ne doit pas arriver\n",
    "        else:\n",
    "            raise ValueError(\"Incapable d'insérer {}:{} dans l'arbre binaire {}\".format(k, v, a))"
   ]
  },
  {
   "cell_type": "markdown",
   "metadata": {},
   "source": [
    "Quelques tests :"
   ]
  },
  {
   "cell_type": "code",
   "execution_count": 271,
   "metadata": {
    "ExecuteTime": {
     "end_time": "2020-09-17T08:46:15.650991Z",
     "start_time": "2020-09-17T08:46:15.642413Z"
    }
   },
   "outputs": [
    {
     "name": "stdout",
     "output_type": "stream",
     "text": [
      "{'Node': (2,\n",
      "          'deux',\n",
      "          {'Node': (1, 'un', {'Leaf': None}, {'Leaf': None})},\n",
      "          {'Leaf': None})}\n",
      "Valeur trouvée pour la clé 1 = un\n"
     ]
    }
   ],
   "source": [
    "pprint(insertion(insertion(Leaf, 2, \"deux\"), 1, \"un\"))\n",
    "print(\"Valeur trouvée pour la clé 1 =\", trouve(insertion(insertion(Leaf, 2, \"deux\"), 1, \"un\"), 1))"
   ]
  },
  {
   "cell_type": "code",
   "execution_count": 272,
   "metadata": {
    "ExecuteTime": {
     "end_time": "2020-09-17T08:46:16.554430Z",
     "start_time": "2020-09-17T08:46:16.537429Z"
    }
   },
   "outputs": [
    {
     "name": "stdout",
     "output_type": "stream",
     "text": [
      "{'Node': (2,\n",
      "          'deux',\n",
      "          {'Node': (1, 'un', {'Leaf': None}, {'Leaf': None})},\n",
      "          {'Leaf': None})}\n",
      "Valeur trouvée pour la clé 2 = deux\n"
     ]
    }
   ],
   "source": [
    "pprint(insertion(insertion(Leaf, 2, \"deux\"), 1, \"un\"))\n",
    "print(\"Valeur trouvée pour la clé 2 =\", trouve(insertion(insertion(Leaf, 2, \"deux\"), 1, \"un\"), 2))"
   ]
  },
  {
   "cell_type": "code",
   "execution_count": 273,
   "metadata": {
    "ExecuteTime": {
     "end_time": "2020-09-17T08:46:17.276743Z",
     "start_time": "2020-09-17T08:46:17.259238Z"
    }
   },
   "outputs": [
    {
     "name": "stdout",
     "output_type": "stream",
     "text": [
      "{'Node': (2,\n",
      "          'deux',\n",
      "          {'Node': (1, 'un', {'Leaf': None}, {'Leaf': None})},\n",
      "          {'Leaf': None})}\n",
      "Valeur trouvée pour la clé 3 = None\n"
     ]
    }
   ],
   "source": [
    "pprint(insertion(insertion(Leaf, 2, \"deux\"), 1, \"un\"))\n",
    "print(\"Valeur trouvée pour la clé 3 =\", trouve(insertion(insertion(Leaf, 2, \"deux\"), 1, \"un\"), 3))"
   ]
  },
  {
   "cell_type": "markdown",
   "metadata": {},
   "source": [
    "## Exercice 4 : `suppression`"
   ]
  },
  {
   "cell_type": "markdown",
   "metadata": {},
   "source": [
    "`minimum a` renvoie le couple `(key, value)` de l'arbre `a` avec `key` minimal dans `a`.\n",
    "Lance une exception si `a` est vide."
   ]
  },
  {
   "cell_type": "code",
   "execution_count": 274,
   "metadata": {
    "ExecuteTime": {
     "end_time": "2020-09-17T08:46:18.402496Z",
     "start_time": "2020-09-17T08:46:18.396677Z"
    }
   },
   "outputs": [],
   "source": [
    "def minimum(a: Abr) -> Tuple[int, str]:\n",
    "    if \"Leaf\" in a:\n",
    "        raise ValueError(\"Arbre vide\")\n",
    "    elif \"Node\" in a:\n",
    "        k, v, l, r = a[\"Node\"]\n",
    "        if \"Leaf\" in l: # sous-arbre gauche vide : le minimum est le noeud actuel\n",
    "            return (k, v)\n",
    "        else:  # sinon, le minimum de l'arbre actuel est à chercher dans le sous-arbre gauche\n",
    "            return minimum(l)\n",
    "    else:\n",
    "        raise ValueError(\"Incapable de trouver le minimum dans l'arbre binaire {}\".format(a))"
   ]
  },
  {
   "cell_type": "markdown",
   "metadata": {},
   "source": [
    "On pourrait être plus élégant que ces tests `\"Leaf\" in a` et `\"Node\" in a`, et utiliser deux fonctions `is_leaf(a)` et `is_node(a)`. Cela permettrait de cacher un peu plus les détails d'implémentations."
   ]
  },
  {
   "cell_type": "code",
   "execution_count": 275,
   "metadata": {
    "ExecuteTime": {
     "end_time": "2020-09-17T08:46:18.813469Z",
     "start_time": "2020-09-17T08:46:18.807248Z"
    }
   },
   "outputs": [],
   "source": [
    "def is_leaf(a: Abr) -> bool:\n",
    "    return \"Leaf\" in a  # ou Leaf == a\n",
    "\n",
    "def is_node(a: Abr) -> bool:\n",
    "    return \"Node\" in a"
   ]
  },
  {
   "cell_type": "code",
   "execution_count": 276,
   "metadata": {
    "ExecuteTime": {
     "end_time": "2020-09-17T08:46:18.993244Z",
     "start_time": "2020-09-17T08:46:18.986531Z"
    }
   },
   "outputs": [
    {
     "data": {
      "text/plain": [
       "(1, 'un')"
      ]
     },
     "execution_count": 276,
     "metadata": {},
     "output_type": "execute_result"
    }
   ],
   "source": [
    "minimum(insertion (insertion(Leaf, 1, \"un\"), 2, \"deux\"))"
   ]
  },
  {
   "cell_type": "code",
   "execution_count": 277,
   "metadata": {
    "ExecuteTime": {
     "end_time": "2020-09-17T08:46:19.212546Z",
     "start_time": "2020-09-17T08:46:19.206746Z"
    }
   },
   "outputs": [
    {
     "data": {
      "text/plain": [
       "(1, 'un')"
      ]
     },
     "execution_count": 277,
     "metadata": {},
     "output_type": "execute_result"
    }
   ],
   "source": [
    "minimum(insertion (insertion(Leaf, 2, \"deux\"), 1, \"un\"))"
   ]
  },
  {
   "cell_type": "markdown",
   "metadata": {},
   "source": [
    "La suppression se fait dans le cas où la clé `x` est trouvée :"
   ]
  },
  {
   "cell_type": "code",
   "execution_count": 278,
   "metadata": {
    "ExecuteTime": {
     "end_time": "2020-09-17T08:46:19.654498Z",
     "start_time": "2020-09-17T08:46:19.644053Z"
    }
   },
   "outputs": [],
   "source": [
    "def suppression(a: Abr, x: int) -> Abr:\n",
    "    if \"Leaf\" in a:  # rien à supprimer\n",
    "        return Leaf\n",
    "    elif \"Node\" in a:\n",
    "        k, v, l, r = a[\"Node\"]\n",
    "        if k == x:  # trouvé\n",
    "            if \"Leaf\" in r:  # sous-arbre droit vide : on renvoie le sous-arbre gauche\n",
    "                return l\n",
    "            else:\n",
    "                # on va remonter le minimum de sous-arbre droit au noeud actuel et aller supprimer ce minimum\n",
    "                k_min, v_min = minimum(r)\n",
    "                return Node(k_min, v_min, l, suppression(r, k_min))\n",
    "                # de façon équivalente, on pourrait écrire\n",
    "                # k_max, v_max = maximum(l)\n",
    "                # return Node(k_max, v_max, suppression(l, k_max), r)\n",
    "        elif x < k:  # à chercher à gauche\n",
    "            return Node(k, v, suppression(l, k), r)\n",
    "        elif x > k:  # à chercher à droite\n",
    "            return Node(k, v, l, suppression(r, k))\n",
    "        else: # n'arrive jamais\n",
    "            raise ValueError(\"Incapable de supprimer {} dans l'arbre binaire {}\".format(x, a))"
   ]
  },
  {
   "cell_type": "markdown",
   "metadata": {},
   "source": [
    "Deux exemples :"
   ]
  },
  {
   "cell_type": "code",
   "execution_count": 279,
   "metadata": {
    "ExecuteTime": {
     "end_time": "2020-09-17T08:46:20.107006Z",
     "start_time": "2020-09-17T08:46:20.093061Z"
    }
   },
   "outputs": [
    {
     "name": "stdout",
     "output_type": "stream",
     "text": [
      "un\n",
      "deux\n"
     ]
    }
   ],
   "source": [
    "print(trouve (suppression (insertion (insertion(Leaf, 2, \"deux\"), 1, \"un\"), 1), 1))\n",
    "print(trouve (suppression (insertion (insertion(Leaf, 2, \"deux\"), 1, \"un\"), 1), 2))"
   ]
  },
  {
   "cell_type": "markdown",
   "metadata": {},
   "source": [
    "## Exercice 5 : `fusion`"
   ]
  },
  {
   "cell_type": "markdown",
   "metadata": {},
   "source": [
    "`decoupe a k` sépare l'arbre `a` en deux arbres `(a1, a2)` tels que l'union des clés-valeurs de `a1` et `a2` est égale à l'ensemble des clés-valeurs de `a` (privé de l'association liée à `k` si elle était présente dans `a`).\n",
    "\n",
    "- Les clés de `a1` sont `<` à `k`.\n",
    "- Les clés de `a2` sont `>` à `k`."
   ]
  },
  {
   "cell_type": "code",
   "execution_count": 280,
   "metadata": {
    "ExecuteTime": {
     "end_time": "2020-09-17T08:46:21.041678Z",
     "start_time": "2020-09-17T08:46:21.032334Z"
    }
   },
   "outputs": [],
   "source": [
    "def decoupe(a: Abr, x: int) -> Tuple[Abr, Abr]:\n",
    "    \"\"\"\n",
    "   [decoupe a k] sépare l'arbre [a] en deux arbres [(a1, a2)]\n",
    "   tels que l'union des clés-valeurs de [a1] et [a2] est égale à\n",
    "   l'ensemble des clés-valeurs de [a] (privé de l'association\n",
    "   liée à [k] si elle était présente dans [a]).\n",
    "   Les clés de [a1] sont < à [k].\n",
    "   Les clés de [a2] sont > à [k].\n",
    "   \"\"\"\n",
    "    if \"Leaf\" in a:  # rien à supprimer\n",
    "        return (Leaf, Leaf)\n",
    "    elif \"Node\" in a:\n",
    "        k, v, l, r = a[\"Node\"]\n",
    "        if k == x:  # trouvé\n",
    "            return (l, r)\n",
    "        elif x < k:  # à chercher à gauche\n",
    "            left1, left2 = decoupe(l, x)\n",
    "            return (left1, Node(k, v, left2, r))\n",
    "        elif x > k:  # à chercher à droite\n",
    "            right1, right2 = decoupe(r, x)\n",
    "            return (Node(k, v, l, right1), right2)\n",
    "        else: # n'arrive jamais\n",
    "            raise ValueError(\"Incapable de découper dans l'arbre binaire {}\".format(x, a))\n",
    "    else: # n'arrive jamais\n",
    "        raise ValueError(\"Incapable de découper dans l'arbre binaire {}\".format(x, a))"
   ]
  },
  {
   "cell_type": "markdown",
   "metadata": {},
   "source": [
    "Et maintenant la fusion n'est pas très difficile :"
   ]
  },
  {
   "cell_type": "code",
   "execution_count": 281,
   "metadata": {
    "ExecuteTime": {
     "end_time": "2020-09-17T08:46:21.394436Z",
     "start_time": "2020-09-17T08:46:21.388275Z"
    }
   },
   "outputs": [],
   "source": [
    "def fusion(a1: Abr, a2: Abr) -> Abr:\n",
    "    \"\"\" Fusionne les deux arbres binaires de recherche a1 et a2.\n",
    "    Convention : si une clé est présente dans les deux arbres, nous gardons celle de [a1]\n",
    "    \"\"\"\n",
    "    if \"Leaf\" in a1:  # rien à supprimer\n",
    "        return a2\n",
    "    elif \"Node\" in a1:\n",
    "        k, v, l, r = a1[\"Node\"]\n",
    "        left2, right2 = decoupe(a2, k)\n",
    "        return Node(k, v, fusion(l, left2), fusion(r, right2))\n",
    "    else: # n'arrive jamais\n",
    "        raise ValueError(\"Incapable de fusionner les arbres binaires {} et {}\".format(a1, a2))"
   ]
  },
  {
   "cell_type": "code",
   "execution_count": 283,
   "metadata": {
    "ExecuteTime": {
     "end_time": "2020-09-17T08:46:33.922640Z",
     "start_time": "2020-09-17T08:46:33.905944Z"
    }
   },
   "outputs": [
    {
     "name": "stdout",
     "output_type": "stream",
     "text": [
      "un\n",
      "deux\n",
      "three\n",
      "None\n"
     ]
    }
   ],
   "source": [
    "a1 = insertion (insertion(Leaf, 2, \"deux\"), 1, \"un\")\n",
    "a2 = insertion (insertion(Leaf, 2, \"two\"), 3, \"three\")\n",
    "\n",
    "print(trouve (fusion(a1, a2), 1))  # \"un\" depuis a1\n",
    "print(trouve (fusion(a1, a2), 2))  # \"deux\" depuis a1 et pas \"two\" from a2\n",
    "print(trouve (fusion(a1, a2), 3))  # \"three\" from a2\n",
    "print(trouve (fusion(a1, a2), 4))  # None : pas trouvé !"
   ]
  },
  {
   "cell_type": "markdown",
   "metadata": {},
   "source": [
    "## Exercice 6\n",
    "### Avantages et les inconvénients des ABR\n",
    "\n",
    "> Discussions durant la séance...\n",
    "\n",
    "### Autres structures de données (clef, valeur)\n",
    "\n",
    "- Les **tables de hashage**\n",
    "- autres idées ? envoyez moi un mail : lilian.besson at ens-rennes.fr ou [ouvrez un ticket sur GitHub](https://github.com/Naereen/notebooks/issues/new)"
   ]
  },
  {
   "cell_type": "markdown",
   "metadata": {},
   "source": [
    "----\n",
    "# Tas binaire min (ou max)\n",
    "\n",
    "Un tas binaire est un arbre binaire dans lequel tous les étages sont remplis sauf éventuellement le dernier qui doit être bien tassé à gauche.\n",
    "\n",
    "Un tas binaire *min* signifie en plus que l'arbre est tournoi min c'est-à-dire que pour tout sous-arbre, la valeur de la racine est plus petite que les valeurs de tous les autres noeuds.\n",
    "\n",
    "Un tas binaire *max* vérifie la même propriété mais la valeur de la racine est plus grande que les valeurs de tous les autres noeuds, pour tout sous-arbre.\n",
    "On les appelle également files de priorité (min, max).\n",
    "\n",
    "La structure de tas min intervient dans de nombreux algorithmes comme ceux de Dijkstra et de Prim mais également dans les systèmes d'exploitation (ordonnancement des tâches et des processus).\n",
    "\n",
    "Contrairement aux arbres binaires de recherche qui stockent des couples (clef, valeur), ici on stockera des couples (rang, valeur)."
   ]
  },
  {
   "cell_type": "markdown",
   "metadata": {},
   "source": [
    "## Solution concise : tas binaire avec des arbres\n",
    "\n",
    "Pour commencer, je préfère donner une première implémentation qui ne sera pas la plus efficace en mémoire, mais la plus simple à comprendre.\n",
    "Les tas binaires peuvent être représentés avec des arbres binaires, exactement comme dans l'exercice précédent.\n",
    "\n",
    "> Référence: Chris Okasaki, \"*Purely Functional Data Structures*\"."
   ]
  },
  {
   "cell_type": "markdown",
   "metadata": {},
   "source": [
    "On utilise la même représentation que précédemment : un tas binaire est soit vide (`E`) soit un noeud ayant exactement deux fils (qui sont des tas binaires, éventuellement vides).\n",
    "Un noeud contient une valeur entière (`v`) à laquelle on donne un rang entier (`rang`), un fils gauche (`l`) et un fils droit (`d`) :"
   ]
  },
  {
   "cell_type": "code",
   "execution_count": 226,
   "metadata": {
    "ExecuteTime": {
     "end_time": "2020-09-16T18:31:17.664160Z",
     "start_time": "2020-09-16T18:31:17.651786Z"
    }
   },
   "outputs": [],
   "source": [
    "E = {\"E\": None}\n",
    "T = lambda rang, v, l, r: {\"T\": (rang, v, l, r)}\n",
    "\n",
    "TasBinaire = Union[\n",
    "    Dict[str, None],  # pour E = {\"E\": None}\n",
    "    Dict[str, Tuple[int, str, dict, dict]]  # pour T = {\"T\" : (k, v, l, r)}\n",
    "    # ici si on pouvait écrire des types récursifs, il faudrait écrire\n",
    "    # Dict[str, Tuple[int, str, TasBinaire, TasBinaire]]\n",
    "]"
   ]
  },
  {
   "cell_type": "code",
   "execution_count": 107,
   "metadata": {
    "ExecuteTime": {
     "end_time": "2020-09-15T15:11:21.038809Z",
     "start_time": "2020-09-15T15:11:21.030408Z"
    }
   },
   "outputs": [],
   "source": [
    "def rank(t: TasBinaire) -> int:\n",
    "    \"\"\" Rang d'un tas binaire, r lu depuis le champ T(r, _, _, _).\"\"\"\n",
    "    if \"E\" in t:\n",
    "        return 0\n",
    "    else:\n",
    "        r, _, _, _ = t[\"T\"]\n",
    "        return r"
   ]
  },
  {
   "cell_type": "markdown",
   "metadata": {},
   "source": [
    "La première primitive est la création d'un tas avec la clé `x`, et deux sous-tas `a` et `b`.\n",
    "Le rang est minimisé."
   ]
  },
  {
   "cell_type": "code",
   "execution_count": 122,
   "metadata": {
    "ExecuteTime": {
     "end_time": "2020-09-15T15:21:45.375585Z",
     "start_time": "2020-09-15T15:21:45.363092Z"
    }
   },
   "outputs": [],
   "source": [
    "def make(x: int, a: TasBinaire, b: TasBinaire) -> TasBinaire:\n",
    "    \"\"\" Créer un tas binaire de clé x avec deux sous-tas a et b, minimisant le rang.\"\"\"\n",
    "    ra = rank(a)\n",
    "    rb = rank(b)\n",
    "    if ra >= rb:\n",
    "        return T(rb + 1, x, a, b)\n",
    "    else:\n",
    "        return T(ra + 1, x, b, a)"
   ]
  },
  {
   "cell_type": "markdown",
   "metadata": {},
   "source": [
    "##### Exemples de tas binaires"
   ]
  },
  {
   "cell_type": "code",
   "execution_count": 113,
   "metadata": {
    "ExecuteTime": {
     "end_time": "2020-09-15T15:13:48.590501Z",
     "start_time": "2020-09-15T15:13:48.583091Z"
    }
   },
   "outputs": [
    {
     "name": "stdout",
     "output_type": "stream",
     "text": [
      "{'T': (1, 10, {'E': None}, {'E': None})}\n"
     ]
    }
   ],
   "source": [
    "tas1 = make(10, E, E)\n",
    "pprint(tas1)"
   ]
  },
  {
   "cell_type": "code",
   "execution_count": 114,
   "metadata": {
    "ExecuteTime": {
     "end_time": "2020-09-15T15:14:02.997609Z",
     "start_time": "2020-09-15T15:14:02.987942Z"
    }
   },
   "outputs": [
    {
     "name": "stdout",
     "output_type": "stream",
     "text": [
      "{'T': (1, 120, {'T': (1, 10, {'E': None}, {'E': None})}, {'E': None})}\n"
     ]
    }
   ],
   "source": [
    "tas2 = make(120, tas1, E)\n",
    "pprint(tas2)"
   ]
  },
  {
   "cell_type": "code",
   "execution_count": 284,
   "metadata": {
    "ExecuteTime": {
     "end_time": "2020-09-17T08:54:40.316125Z",
     "start_time": "2020-09-17T08:54:40.302601Z"
    }
   },
   "outputs": [
    {
     "name": "stdout",
     "output_type": "stream",
     "text": [
      "{'T': (1,\n",
      "       150,\n",
      "       {'T': (1, 120, {'T': (1, 10, {'E': None}, {'E': None})}, {'E': None})},\n",
      "       {'E': None})}\n"
     ]
    }
   ],
   "source": [
    "tas3 = make(150, tas2, E)\n",
    "pprint(tas3)"
   ]
  },
  {
   "cell_type": "markdown",
   "metadata": {},
   "source": [
    "On peut vérifier si un tas est vide, ou créer le tas vide."
   ]
  },
  {
   "cell_type": "code",
   "execution_count": 109,
   "metadata": {
    "ExecuteTime": {
     "end_time": "2020-09-15T15:12:36.340743Z",
     "start_time": "2020-09-15T15:12:36.333556Z"
    }
   },
   "outputs": [],
   "source": [
    "empty: TasBinaire = E"
   ]
  },
  {
   "cell_type": "code",
   "execution_count": 123,
   "metadata": {
    "ExecuteTime": {
     "end_time": "2020-09-15T15:21:57.288774Z",
     "start_time": "2020-09-15T15:21:57.279269Z"
    }
   },
   "outputs": [],
   "source": [
    "def is_empty(a: TasBinaire) -> bool:\n",
    "    \"\"\" Teste si le tas binaire a est vide ou non.\"\"\"\n",
    "    if \"E\" in a:\n",
    "        return True\n",
    "    else:\n",
    "        return False"
   ]
  },
  {
   "cell_type": "code",
   "execution_count": 111,
   "metadata": {
    "ExecuteTime": {
     "end_time": "2020-09-15T15:13:31.051355Z",
     "start_time": "2020-09-15T15:13:31.048042Z"
    }
   },
   "outputs": [],
   "source": [
    "# plus rapidement\n",
    "def is_empty(a: TasBinaire) -> bool:\n",
    "    return \"E\" in a"
   ]
  },
  {
   "cell_type": "code",
   "execution_count": 285,
   "metadata": {
    "ExecuteTime": {
     "end_time": "2020-09-17T08:56:14.955589Z",
     "start_time": "2020-09-17T08:56:14.945881Z"
    }
   },
   "outputs": [
    {
     "data": {
      "text/plain": [
       "True"
      ]
     },
     "execution_count": 285,
     "metadata": {},
     "output_type": "execute_result"
    }
   ],
   "source": [
    "is_empty(E)"
   ]
  },
  {
   "cell_type": "code",
   "execution_count": 286,
   "metadata": {
    "ExecuteTime": {
     "end_time": "2020-09-17T08:56:26.999569Z",
     "start_time": "2020-09-17T08:56:26.986867Z"
    }
   },
   "outputs": [
    {
     "data": {
      "text/plain": [
       "(False, False, False)"
      ]
     },
     "execution_count": 286,
     "metadata": {},
     "output_type": "execute_result"
    }
   ],
   "source": [
    "is_empty(tas1), is_empty(tas2), is_empty(tas3)"
   ]
  },
  {
   "cell_type": "markdown",
   "metadata": {},
   "source": [
    "La fusion est assez naturelle : on procède par récurrence, en joignant deux tas et en continuant la fusion pour les tas plus petits.\n",
    "On garde la plus petite clé à la racine, pour conserver la propriété *tournoi*."
   ]
  },
  {
   "cell_type": "code",
   "execution_count": 289,
   "metadata": {
    "ExecuteTime": {
     "end_time": "2020-09-17T08:57:42.783242Z",
     "start_time": "2020-09-17T08:57:42.777231Z"
    }
   },
   "outputs": [],
   "source": [
    "def merge(h1: TasBinaire, h2: TasBinaire) -> TasBinaire:\n",
    "    \"\"\" Fusionne les deux tas binaires h1 et h2.\"\"\"\n",
    "    if \"E\" in h1:\n",
    "        return h2\n",
    "    elif \"E\" in h2:\n",
    "        return h1\n",
    "    else:\n",
    "        r1, x, a1, b1 = h1[\"T\"]\n",
    "        r2, y, a2, b2 = h2[\"T\"]\n",
    "        if x <= y:\n",
    "            return make(x, a1, merge(b1, h2))\n",
    "        else:\n",
    "            return make(y, a2, merge(h1, b2))"
   ]
  },
  {
   "cell_type": "markdown",
   "metadata": {},
   "source": [
    "On peut désormais créer les tas précédemment définis correctement, pour qu'ils soient bien équilibrés :"
   ]
  },
  {
   "cell_type": "code",
   "execution_count": 294,
   "metadata": {
    "ExecuteTime": {
     "end_time": "2020-09-17T09:01:05.528802Z",
     "start_time": "2020-09-17T09:01:05.520281Z"
    }
   },
   "outputs": [
    {
     "name": "stdout",
     "output_type": "stream",
     "text": [
      "{'T': (1, 10, {'E': None}, {'E': None})}\n"
     ]
    }
   ],
   "source": [
    "tas1 = make(10, E, E)\n",
    "pprint(tas1)"
   ]
  },
  {
   "cell_type": "code",
   "execution_count": 295,
   "metadata": {
    "ExecuteTime": {
     "end_time": "2020-09-17T09:01:06.036973Z",
     "start_time": "2020-09-17T09:01:06.027593Z"
    }
   },
   "outputs": [
    {
     "name": "stdout",
     "output_type": "stream",
     "text": [
      "{'T': (1, 10, {'T': (1, 120, {'E': None}, {'E': None})}, {'E': None})}\n"
     ]
    }
   ],
   "source": [
    "tas2 = merge(tas1, make(120, E, E))\n",
    "pprint(tas2)"
   ]
  },
  {
   "cell_type": "code",
   "execution_count": 297,
   "metadata": {
    "ExecuteTime": {
     "end_time": "2020-09-17T09:01:25.810955Z",
     "start_time": "2020-09-17T09:01:25.797410Z"
    }
   },
   "outputs": [
    {
     "name": "stdout",
     "output_type": "stream",
     "text": [
      "{'T': (2,\n",
      "       10,\n",
      "       {'T': (1, 120, {'E': None}, {'E': None})},\n",
      "       {'T': (1, 150, {'E': None}, {'E': None})})}\n"
     ]
    }
   ],
   "source": [
    "tas3 = merge(make(150, E, E), tas2)\n",
    "pprint(tas3)"
   ]
  },
  {
   "cell_type": "code",
   "execution_count": 298,
   "metadata": {
    "ExecuteTime": {
     "end_time": "2020-09-17T09:01:26.323364Z",
     "start_time": "2020-09-17T09:01:26.312377Z"
    }
   },
   "outputs": [
    {
     "name": "stdout",
     "output_type": "stream",
     "text": [
      "Fusion du tas vide et du tas1 suivant\n",
      "{'T': (1, 10, {'E': None}, {'E': None})}\n",
      "{'T': (1, 10, {'E': None}, {'E': None})}\n",
      "Fusion de tas1 et tas2 suivants\n",
      "{'T': (1, 10, {'E': None}, {'E': None})}\n",
      "{'T': (1, 10, {'T': (1, 120, {'E': None}, {'E': None})}, {'E': None})}\n",
      "{'T': (1,\n",
      "       10,\n",
      "       {'T': (1, 10, {'T': (1, 120, {'E': None}, {'E': None})}, {'E': None})},\n",
      "       {'E': None})}\n",
      "Fusion de tas2 et tas3 suivants\n",
      "{'T': (1, 10, {'T': (1, 120, {'E': None}, {'E': None})}, {'E': None})}\n",
      "{'T': (2,\n",
      "       10,\n",
      "       {'T': (1, 120, {'E': None}, {'E': None})},\n",
      "       {'T': (1, 150, {'E': None}, {'E': None})})}\n",
      "{'T': (2,\n",
      "       10,\n",
      "       {'T': (2,\n",
      "              10,\n",
      "              {'T': (1, 120, {'E': None}, {'E': None})},\n",
      "              {'T': (1, 150, {'E': None}, {'E': None})})},\n",
      "       {'T': (1, 120, {'E': None}, {'E': None})})}\n"
     ]
    }
   ],
   "source": [
    "print(\"Fusion du tas vide et du tas1 suivant\")\n",
    "pprint(tas1)\n",
    "pprint(merge(E, tas1))\n",
    "\n",
    "print(\"Fusion de tas1 et tas2 suivants\")\n",
    "pprint(tas1)\n",
    "pprint(tas2)\n",
    "pprint(merge(tas1, tas2))\n",
    "\n",
    "print(\"Fusion de tas2 et tas3 suivants\")\n",
    "pprint(tas2)\n",
    "pprint(tas3)\n",
    "pprint(merge(tas2, tas3))"
   ]
  },
  {
   "cell_type": "markdown",
   "metadata": {},
   "source": [
    "On voit que les fusions respectent bien la propriété du tas binaire."
   ]
  },
  {
   "cell_type": "markdown",
   "metadata": {},
   "source": [
    "L'insertion correspond à la fusion d'un tas avec une seule clé et du tas courant :"
   ]
  },
  {
   "cell_type": "code",
   "execution_count": 299,
   "metadata": {
    "ExecuteTime": {
     "end_time": "2020-09-17T09:02:12.435409Z",
     "start_time": "2020-09-17T09:02:12.426209Z"
    }
   },
   "outputs": [],
   "source": [
    "def insert(x: int, h: TasBinaire) -> TasBinaire:\n",
    "    \"\"\" Solution naive pour insérer une nouvelle valeur x dans le tas binaire h.\"\"\"\n",
    "    return merge(T(1, x, E, E), h)\n",
    "    # return merge(make(x, E, E), h)  # équivalent"
   ]
  },
  {
   "cell_type": "markdown",
   "metadata": {},
   "source": [
    "La lecture de la plus petite clé est triviale :"
   ]
  },
  {
   "cell_type": "code",
   "execution_count": 300,
   "metadata": {
    "ExecuteTime": {
     "end_time": "2020-09-17T09:02:13.455551Z",
     "start_time": "2020-09-17T09:02:13.447803Z"
    }
   },
   "outputs": [],
   "source": [
    "class Empty(Exception):\n",
    "    pass"
   ]
  },
  {
   "cell_type": "code",
   "execution_count": 301,
   "metadata": {
    "ExecuteTime": {
     "end_time": "2020-09-17T09:02:13.853307Z",
     "start_time": "2020-09-17T09:02:13.842947Z"
    }
   },
   "outputs": [],
   "source": [
    "def mini(a: TasBinaire) -> int:\n",
    "    \"\"\" Calcule le minimum du tas binaire a (première valeur).\"\"\"\n",
    "    if \"E\" in a:\n",
    "        raise Empty\n",
    "    else:\n",
    "        _, x, _, _ = a[\"T\"]\n",
    "        return x"
   ]
  },
  {
   "cell_type": "markdown",
   "metadata": {},
   "source": [
    "Et l'extraction n'est pas compliquée : il suffit de fusionner les deux sous-tas, ce qui va produire un tas tournoi avec les clés restantes."
   ]
  },
  {
   "cell_type": "code",
   "execution_count": 302,
   "metadata": {
    "ExecuteTime": {
     "end_time": "2020-09-17T09:02:23.789629Z",
     "start_time": "2020-09-17T09:02:23.783232Z"
    }
   },
   "outputs": [],
   "source": [
    "def extract_min(a: TasBinaire) -> Tuple[int, TasBinaire]:\n",
    "    \"\"\" Extraie le minimum et renvoie un tas binaire sans cette valeur.\"\"\"\n",
    "    if \"E\" in a:\n",
    "        raise Empty\n",
    "    else:\n",
    "        _, x, a, b = a[\"T\"]\n",
    "        return (x, merge(a, b))"
   ]
  },
  {
   "cell_type": "markdown",
   "metadata": {},
   "source": [
    "Et maintenant pour le tri par tas :\n",
    "\n",
    "1. On crée un tas vide,\n",
    "2. Dans lequel on insère les valeurs du tableau à trier, une par une,\n",
    "3. Puis on déconstruit le tas en extrayant le minimum, un par un, et en les stockant dans un tableau,\n",
    "4. Le tableau obtenu est trié dans l'ordre croissant."
   ]
  },
  {
   "cell_type": "code",
   "execution_count": 128,
   "metadata": {
    "ExecuteTime": {
     "end_time": "2020-09-15T15:28:32.418676Z",
     "start_time": "2020-09-15T15:28:32.405527Z"
    }
   },
   "outputs": [],
   "source": [
    "def triParTas(a: List[int]) -> List[int]:\n",
    "    \"\"\" Tri par tas\"\"\"\n",
    "    n = len(a)\n",
    "    tas = E  # tas vide\n",
    "    for i in range(n):\n",
    "        tas = insert(a[i], tas)\n",
    "    a2 = [-1] * n  # aussi [-1 for i in range(n)]\n",
    "    for i in range(n):\n",
    "        m, t = extract_min(tas)\n",
    "        a2[i] = m\n",
    "        tas = t\n",
    "    return a2"
   ]
  },
  {
   "cell_type": "markdown",
   "metadata": {},
   "source": [
    "Complexité :\n",
    "\n",
    "1. L'étape 1. est en $\\mathcal{O}(1)$,\n",
    "2. L'étape 2. est en $\\mathcal{O}(\\log n)$ pour chacune des $n$ valeurs,\n",
    "3. L'étape 3. est aussi en $\\mathcal{O}(\\log n)$ pour chacune des $n$ valeurs,\n",
    "\n",
    "$\\implies$ L'algorithme de tri par tas est en $\\mathcal{O}(n \\log n)$ en temps et en $\\mathcal{O}(n)$ en mémoire externe."
   ]
  },
  {
   "cell_type": "markdown",
   "metadata": {},
   "source": [
    "Un premier exemple :"
   ]
  },
  {
   "cell_type": "code",
   "execution_count": 303,
   "metadata": {
    "ExecuteTime": {
     "end_time": "2020-09-17T09:02:47.856871Z",
     "start_time": "2020-09-17T09:02:47.847633Z"
    }
   },
   "outputs": [
    {
     "data": {
      "text/plain": [
       "[]"
      ]
     },
     "execution_count": 303,
     "metadata": {},
     "output_type": "execute_result"
    }
   ],
   "source": [
    "triParTas([])"
   ]
  },
  {
   "cell_type": "code",
   "execution_count": 304,
   "metadata": {
    "ExecuteTime": {
     "end_time": "2020-09-17T09:02:49.189026Z",
     "start_time": "2020-09-17T09:02:49.174823Z"
    }
   },
   "outputs": [
    {
     "data": {
      "text/plain": [
       "[1, 2, 3, 4, 5, 6, 7, 8, 9, 10]"
      ]
     },
     "execution_count": 304,
     "metadata": {},
     "output_type": "execute_result"
    }
   ],
   "source": [
    "triParTas([10, 3, 4, 1, 2, 7, 8, 5, 9, 6])"
   ]
  },
  {
   "cell_type": "markdown",
   "metadata": {},
   "source": [
    "##### Quelques essais numériques rapides"
   ]
  },
  {
   "cell_type": "code",
   "execution_count": 134,
   "metadata": {
    "ExecuteTime": {
     "end_time": "2020-09-15T15:30:11.104605Z",
     "start_time": "2020-09-15T15:30:11.097667Z"
    }
   },
   "outputs": [],
   "source": [
    "def isSorted(tableau: List) -> bool:\n",
    "    return tableau == sorted(tableau)"
   ]
  },
  {
   "cell_type": "code",
   "execution_count": 140,
   "metadata": {
    "ExecuteTime": {
     "end_time": "2020-09-15T15:33:09.623423Z",
     "start_time": "2020-09-15T15:33:09.347138Z"
    }
   },
   "outputs": [],
   "source": [
    "import numpy as np"
   ]
  },
  {
   "cell_type": "code",
   "execution_count": 141,
   "metadata": {
    "ExecuteTime": {
     "end_time": "2020-09-15T15:33:28.844584Z",
     "start_time": "2020-09-15T15:33:28.832723Z"
    }
   },
   "outputs": [],
   "source": [
    "def randomTableau(n: int) -> List[int]:\n",
    "    return list(np.random.randint(-n*10, n*10, n))"
   ]
  },
  {
   "cell_type": "code",
   "execution_count": 212,
   "metadata": {
    "ExecuteTime": {
     "end_time": "2020-09-16T18:21:17.928527Z",
     "start_time": "2020-09-16T18:21:17.886652Z"
    }
   },
   "outputs": [
    {
     "name": "stdout",
     "output_type": "stream",
     "text": [
      "CPU times: user 27.9 ms, sys: 0 ns, total: 27.9 ms\n",
      "Wall time: 26.6 ms\n"
     ]
    },
    {
     "data": {
      "text/plain": [
       "True"
      ]
     },
     "execution_count": 212,
     "metadata": {},
     "output_type": "execute_result"
    }
   ],
   "source": [
    "%time isSorted(triParTas([10, 3, 4, 1, 2, 7, 8, 5, 9, 6]*100))"
   ]
  },
  {
   "cell_type": "code",
   "execution_count": 213,
   "metadata": {
    "ExecuteTime": {
     "end_time": "2020-09-16T18:21:21.617693Z",
     "start_time": "2020-09-16T18:21:21.537133Z"
    },
    "scrolled": true
   },
   "outputs": [
    {
     "name": "stdout",
     "output_type": "stream",
     "text": [
      "CPU times: user 62.9 ms, sys: 3.97 ms, total: 66.8 ms\n",
      "Wall time: 65.2 ms\n"
     ]
    },
    {
     "data": {
      "text/plain": [
       "True"
      ]
     },
     "execution_count": 213,
     "metadata": {},
     "output_type": "execute_result"
    }
   ],
   "source": [
    "%time isSorted(triParTas(randomTableau(10*100)))"
   ]
  },
  {
   "cell_type": "code",
   "execution_count": 214,
   "metadata": {
    "ExecuteTime": {
     "end_time": "2020-09-16T18:21:23.561930Z",
     "start_time": "2020-09-16T18:21:23.298901Z"
    },
    "scrolled": true
   },
   "outputs": [
    {
     "name": "stdout",
     "output_type": "stream",
     "text": [
      "CPU times: user 242 ms, sys: 7.97 ms, total: 250 ms\n",
      "Wall time: 250 ms\n"
     ]
    },
    {
     "data": {
      "text/plain": [
       "True"
      ]
     },
     "execution_count": 214,
     "metadata": {},
     "output_type": "execute_result"
    }
   ],
   "source": [
    "%time isSorted(triParTas([10, 3, 4, 1, 2, 7, 8, 5, 9, 6]*1000))"
   ]
  },
  {
   "cell_type": "code",
   "execution_count": 215,
   "metadata": {
    "ExecuteTime": {
     "end_time": "2020-09-16T18:21:34.366745Z",
     "start_time": "2020-09-16T18:21:30.041981Z"
    },
    "scrolled": true
   },
   "outputs": [
    {
     "name": "stdout",
     "output_type": "stream",
     "text": [
      "CPU times: user 309 ms, sys: 31.9 ms, total: 341 ms\n",
      "Wall time: 341 ms\n"
     ]
    },
    {
     "data": {
      "text/plain": [
       "True"
      ]
     },
     "execution_count": 215,
     "metadata": {},
     "output_type": "execute_result"
    }
   ],
   "source": [
    "%time isSorted(triParTas(randomTableau(10*1000)))"
   ]
  },
  {
   "cell_type": "code",
   "execution_count": 216,
   "metadata": {
    "ExecuteTime": {
     "end_time": "2020-09-16T18:21:28.974907Z",
     "start_time": "2020-09-16T18:21:27.577064Z"
    },
    "scrolled": true
   },
   "outputs": [
    {
     "name": "stdout",
     "output_type": "stream",
     "text": [
      "CPU times: user 1.38 s, sys: 0 ns, total: 1.38 s\n",
      "Wall time: 1.39 s\n"
     ]
    },
    {
     "data": {
      "text/plain": [
       "True"
      ]
     },
     "execution_count": 216,
     "metadata": {},
     "output_type": "execute_result"
    }
   ],
   "source": [
    "%time isSorted(triParTas([10, 3, 4, 1, 2, 7, 8, 5, 9, 6]*10000))"
   ]
  },
  {
   "cell_type": "code",
   "execution_count": 217,
   "metadata": {
    "ExecuteTime": {
     "end_time": "2020-09-16T18:21:34.366745Z",
     "start_time": "2020-09-16T18:21:30.041981Z"
    },
    "scrolled": true
   },
   "outputs": [
    {
     "name": "stdout",
     "output_type": "stream",
     "text": [
      "CPU times: user 4.31 s, sys: 3.15 ms, total: 4.32 s\n",
      "Wall time: 4.32 s\n"
     ]
    },
    {
     "data": {
      "text/plain": [
       "True"
      ]
     },
     "execution_count": 217,
     "metadata": {},
     "output_type": "execute_result"
    }
   ],
   "source": [
    "%time isSorted(triParTas(randomTableau(10*10000)))"
   ]
  },
  {
   "cell_type": "code",
   "execution_count": 218,
   "metadata": {
    "ExecuteTime": {
     "end_time": "2020-09-16T18:21:40.723121Z",
     "start_time": "2020-09-16T18:21:40.565197Z"
    },
    "scrolled": true
   },
   "outputs": [
    {
     "name": "stdout",
     "output_type": "stream",
     "text": [
      "CPU times: user 150 ms, sys: 0 ns, total: 150 ms\n",
      "Wall time: 149 ms\n"
     ]
    },
    {
     "data": {
      "text/plain": [
       "True"
      ]
     },
     "execution_count": 218,
     "metadata": {},
     "output_type": "execute_result"
    }
   ],
   "source": [
    "%time isSorted(sorted(randomTableau(10*10000)))"
   ]
  },
  {
   "cell_type": "code",
   "execution_count": 219,
   "metadata": {
    "ExecuteTime": {
     "end_time": "2020-09-16T18:21:58.765497Z",
     "start_time": "2020-09-16T18:21:41.547572Z"
    },
    "scrolled": true
   },
   "outputs": [
    {
     "name": "stdout",
     "output_type": "stream",
     "text": [
      "CPU times: user 17.1 s, sys: 109 ms, total: 17.2 s\n",
      "Wall time: 17.2 s\n"
     ]
    },
    {
     "data": {
      "text/plain": [
       "True"
      ]
     },
     "execution_count": 219,
     "metadata": {},
     "output_type": "execute_result"
    }
   ],
   "source": [
    "%time isSorted(triParTas([10, 3, 4, 1, 2, 7, 8, 5, 9, 6]*100000))"
   ]
  },
  {
   "cell_type": "code",
   "execution_count": 220,
   "metadata": {
    "ExecuteTime": {
     "end_time": "2020-09-16T18:23:06.540861Z",
     "start_time": "2020-09-16T18:21:58.788672Z"
    },
    "scrolled": true
   },
   "outputs": [
    {
     "name": "stdout",
     "output_type": "stream",
     "text": [
      "CPU times: user 1min 7s, sys: 194 ms, total: 1min 7s\n",
      "Wall time: 1min 7s\n"
     ]
    },
    {
     "data": {
      "text/plain": [
       "True"
      ]
     },
     "execution_count": 220,
     "metadata": {},
     "output_type": "execute_result"
    }
   ],
   "source": [
    "%time isSorted(triParTas(randomTableau(10*100000)))"
   ]
  },
  {
   "cell_type": "markdown",
   "metadata": {},
   "source": [
    "On observe que la fonction implémentée a une complexité sur-linéaire, et sous-quadratique. En affichant plus de valeurs, on pourrait reconnaître un profil pseudo-linéaire (ie, $\\Theta(n \\log(n))$)."
   ]
  },
  {
   "cell_type": "code",
   "execution_count": 321,
   "metadata": {
    "ExecuteTime": {
     "end_time": "2020-09-17T09:47:33.467688Z",
     "start_time": "2020-09-17T09:15:11.288489Z"
    }
   },
   "outputs": [
    {
     "name": "stdout",
     "output_type": "stream",
     "text": [
      "- Chronométrons le code triParTas(randomTableau(100))\n",
      "qui a pris un temps moyen de 0.15504869999858784 secondes pour 100 essais.\n",
      "- Chronométrons le code triParTas(randomTableau(137))\n",
      "qui a pris un temps moyen de 0.16460048500448465 secondes pour 100 essais.\n",
      "- Chronométrons le code triParTas(randomTableau(188))\n",
      "qui a pris un temps moyen de 0.23604450199491112 secondes pour 100 essais.\n",
      "- Chronométrons le code triParTas(randomTableau(259))\n",
      "qui a pris un temps moyen de 0.36903303600411164 secondes pour 100 essais.\n",
      "- Chronométrons le code triParTas(randomTableau(356))\n",
      "qui a pris un temps moyen de 0.5322935209987918 secondes pour 100 essais.\n",
      "- Chronométrons le code triParTas(randomTableau(489))\n",
      "qui a pris un temps moyen de 0.7509839920021477 secondes pour 100 essais.\n",
      "- Chronométrons le code triParTas(randomTableau(672))\n",
      "qui a pris un temps moyen de 1.0994376319940784 secondes pour 100 essais.\n",
      "- Chronométrons le code triParTas(randomTableau(923))\n",
      "qui a pris un temps moyen de 1.4828568320008344 secondes pour 100 essais.\n",
      "- Chronométrons le code triParTas(randomTableau(1268))\n",
      "qui a pris un temps moyen de 1.8843785360004404 secondes pour 100 essais.\n",
      "- Chronométrons le code triParTas(randomTableau(1743))\n",
      "qui a pris un temps moyen de 2.827302306002821 secondes pour 100 essais.\n",
      "- Chronométrons le code triParTas(randomTableau(2395))\n",
      "qui a pris un temps moyen de 4.256363327003783 secondes pour 100 essais.\n",
      "- Chronométrons le code triParTas(randomTableau(3290))\n",
      "qui a pris un temps moyen de 6.494179483997868 secondes pour 100 essais.\n",
      "- Chronométrons le code triParTas(randomTableau(4520))\n",
      "qui a pris un temps moyen de 9.899577422998846 secondes pour 100 essais.\n",
      "- Chronométrons le code triParTas(randomTableau(6210))\n",
      "qui a pris un temps moyen de 15.594767429000058 secondes pour 100 essais.\n",
      "- Chronométrons le code triParTas(randomTableau(8531))\n",
      "qui a pris un temps moyen de 22.452480203995947 secondes pour 100 essais.\n",
      "- Chronométrons le code triParTas(randomTableau(11721))\n",
      "qui a pris un temps moyen de 3.3177780149999307 secondes pour 10 essais.\n",
      "- Chronométrons le code triParTas(randomTableau(16102))\n",
      "qui a pris un temps moyen de 4.7498149710008875 secondes pour 10 essais.\n",
      "- Chronométrons le code triParTas(randomTableau(22122))\n",
      "qui a pris un temps moyen de 6.9112695939984405 secondes pour 10 essais.\n",
      "- Chronométrons le code triParTas(randomTableau(30391))\n",
      "qui a pris un temps moyen de 10.34776984599739 secondes pour 10 essais.\n",
      "- Chronométrons le code triParTas(randomTableau(41753))\n",
      "qui a pris un temps moyen de 15.101285400000052 secondes pour 10 essais.\n",
      "- Chronométrons le code triParTas(randomTableau(57361))\n",
      "qui a pris un temps moyen de 21.726488975000393 secondes pour 10 essais.\n",
      "- Chronométrons le code triParTas(randomTableau(78804))\n",
      "qui a pris un temps moyen de 30.801037459001236 secondes pour 10 essais.\n",
      "- Chronométrons le code triParTas(randomTableau(108263))\n",
      "qui a pris un temps moyen de 45.19902152800205 secondes pour 10 essais.\n",
      "- Chronométrons le code triParTas(randomTableau(148735))\n",
      "qui a pris un temps moyen de 66.48596394299966 secondes pour 10 essais.\n",
      "- Chronométrons le code triParTas(randomTableau(204335))\n",
      "qui a pris un temps moyen de 91.33969007500127 secondes pour 10 essais.\n",
      "- Chronométrons le code triParTas(randomTableau(280721))\n",
      "qui a pris un temps moyen de 131.53427265700157 secondes pour 10 essais.\n",
      "- Chronométrons le code triParTas(randomTableau(385662))\n",
      "qui a pris un temps moyen de 185.8004649430004 secondes pour 10 essais.\n",
      "- Chronométrons le code triParTas(randomTableau(529831))\n",
      "qui a pris un temps moyen de 278.6175465510023 secondes pour 10 essais.\n",
      "- Chronométrons le code triParTas(randomTableau(727895))\n",
      "qui a pris un temps moyen de 388.08462927099754 secondes pour 10 essais.\n",
      "- Chronométrons le code triParTas(randomTableau(1000000))\n",
      "qui a pris un temps moyen de 593.9324957229983 secondes pour 10 essais.\n"
     ]
    }
   ],
   "source": [
    "import numpy as np\n",
    "import timeit\n",
    "valeurs_n = np.logspace(2, 6, num=30, dtype=int)\n",
    "temps = []\n",
    "for n in valeurs_n:\n",
    "    code = \"triParTas(randomTableau({}))\".format(n)\n",
    "    essais = 100 if n < 1e4 else 10\n",
    "    print(\"- Chronométrons le code\", code)\n",
    "    temps_n = timeit.timeit(\n",
    "        code,\n",
    "        number=essais, globals=globals()\n",
    "    )\n",
    "    print(\"qui a pris un temps moyen de\", temps_n, \"secondes pour\", essais, \"essais.\")\n",
    "    temps.append(temps_n)"
   ]
  },
  {
   "cell_type": "code",
   "execution_count": 322,
   "metadata": {
    "ExecuteTime": {
     "end_time": "2020-09-17T09:50:33.691112Z",
     "start_time": "2020-09-17T09:50:33.683868Z"
    }
   },
   "outputs": [],
   "source": [
    "import matplotlib.pyplot as plt"
   ]
  },
  {
   "cell_type": "code",
   "execution_count": 342,
   "metadata": {
    "ExecuteTime": {
     "end_time": "2020-09-17T09:54:50.202187Z",
     "start_time": "2020-09-17T09:54:49.957639Z"
    }
   },
   "outputs": [
    {
     "data": {
      "image/png": "[encoded data removed]",
      "text/plain": [
       "<Figure size 720x504 with 1 Axes>"
      ]
     },
     "metadata": {
      "needs_background": "light"
     },
     "output_type": "display_data"
    }
   ],
   "source": [
    "plt.figure(figsize=(10, 7))\n",
    "plt.plot(valeurs_n, temps, \"ro-\")\n",
    "plt.xlabel(\"Taille n du tableau à trier\")\n",
    "plt.ylabel(\"Temps de calcul en secondes\")\n",
    "plt.title(\"Pour notre fonction implémentant le tri par tas\")\n",
    "# plt.legend()\n",
    "plt.show()"
   ]
  },
  {
   "cell_type": "markdown",
   "metadata": {},
   "source": [
    "Cette première courbe semble linéaire, ou quasi-linéaire.\n",
    "\n",
    "Pour vérifier que le temps de calcul a vraiment un profil ressemblant à une courbe $cst * n * \\log(n)$, une méthode rapide et simple est la suivante :\n",
    "\n",
    "- on affiche $f(n) / n$ (ici en <span style=\"color: red;\">rouge o-</span>), en espérant que son profil ressemble bien à un $cst * log(n)$,\n",
    "- on calcul cst comme la dernière valeur de $f(n) / (n * log(n)$,\n",
    "- et on affiche $\\log(n)$ (ici en <span style=\"color: blue;\">bleu +:</span>)."
   ]
  },
  {
   "cell_type": "code",
   "execution_count": 341,
   "metadata": {
    "ExecuteTime": {
     "end_time": "2020-09-17T09:54:41.881008Z",
     "start_time": "2020-09-17T09:54:41.376489Z"
    }
   },
   "outputs": [
    {
     "data": {
      "image/png": "[encoded data removed]",
      "text/plain": [
       "<Figure size 720x504 with 1 Axes>"
      ]
     },
     "metadata": {
      "needs_background": "light"
     },
     "output_type": "display_data"
    }
   ],
   "source": [
    "plt.figure(figsize=(10, 7))\n",
    "plt.plot(valeurs_n[15:], np.array(temps[15:]) / valeurs_n[15:], \"ro-\", label=\"Temps de calcul / n\")\n",
    "cst = temps[-1] / valeurs_n[-1]\n",
    "cst = cst / np.log(valeurs_n[-1])\n",
    "plt.plot(valeurs_n[15:], np.log(valeurs_n[15:]) * cst, \"b+:\", label=\"cst * log(n)\")\n",
    "plt.xlabel(\"Taille n du tableau à trier\")\n",
    "plt.ylabel(\"Temps de calcul en secondes\\ndivisé par la valeur de n\")\n",
    "plt.title(\"Pour notre fonction implémentant le tri par tas\")\n",
    "plt.legend()\n",
    "plt.savefig(\"TP3__Python__temps_calcul_normalise_triParTas.png\")\n",
    "plt.show()"
   ]
  },
  {
   "cell_type": "markdown",
   "metadata": {},
   "source": [
    "Là on constate que la courbe $f(n) / n$ ressemble bien à un logarithme.\n",
    "Bien sûr, tout cela est juste expérimental pour de petites valeurs, cela ne suffit PAS DU TOUT à prouver que $f(n) = \\Theta(n \\log(n))$."
   ]
  },
  {
   "cell_type": "markdown",
   "metadata": {},
   "source": [
    "![](TP3__Python__temps_calcul_normalise_triParTas.png)"
   ]
  },
  {
   "cell_type": "markdown",
   "metadata": {},
   "source": [
    "----\n",
    "## Exercice 7 : arbre tournoi"
   ]
  },
  {
   "cell_type": "markdown",
   "metadata": {},
   "source": [
    "Ici je donne une autre implémentation, généralement celle présentée dans les ouvrages de références en algorithmique.\n",
    "Plutôt que d'utiliser une structure arborescente explicite (avec des pointeurs vers des fils gauche et droit et un type récursif), on peut utiliser utiliser un tableau de taille $n$ pour représenter en place les $n$ éléments du tas min.\n",
    "\n",
    "Le fils gauche de la racine i (eg si on indice à partir de i=1) sera à l'indice $2*i$ (eg T[2]) et le fils droit de la racine i (eg i=1) sera à l'indice $2*i+1$ (eg T[3]).\n",
    "\n",
    "La référence pour cette implémentation vient du Cormen, des éléments sont aussi dans Beauquier & Bernstel, et sur Internet [sur la page Wikipédia](https://fr.wikipedia.org/wiki/Tas_binaire) des tas binaires.\n",
    "\n",
    "- Hypothèse : on ne stocke que des entiers positifs, et le tableau, `a` contiendra `-1` pour un élément non utilisé.\n",
    "- On doit retenir le nombre `n` d'éléments dans l'arbre, qui peut être modifié.\n",
    "\n",
    "On peut donc utiliser une petite classe avec deux champs `n` et `a` :"
   ]
  },
  {
   "cell_type": "code",
   "execution_count": 343,
   "metadata": {
    "ExecuteTime": {
     "end_time": "2020-09-17T09:58:04.893402Z",
     "start_time": "2020-09-17T09:58:04.887380Z"
    }
   },
   "outputs": [],
   "source": [
    "Arbre = List[int]\n",
    "\n",
    "class ArbreTournoi():\n",
    "    def __init__(self, n: int, a: Arbre):\n",
    "        self.n = n\n",
    "        self.a = a"
   ]
  },
  {
   "cell_type": "markdown",
   "metadata": {},
   "source": [
    "Par exemple, l'arbre suivant s'écrit comme suit :\n",
    "![arbre_tournoi.svg](arbre_tournoi.svg)"
   ]
  },
  {
   "cell_type": "code",
   "execution_count": 344,
   "metadata": {
    "ExecuteTime": {
     "end_time": "2020-09-17T09:58:05.252938Z",
     "start_time": "2020-09-17T09:58:05.248203Z"
    }
   },
   "outputs": [],
   "source": [
    "arbre_test  = ArbreTournoi(7, [1,2,3,4,5,6,7])\n",
    "arbre_test2 = ArbreTournoi(6, [2,1,3,4,5,6,-1, -1])"
   ]
  },
  {
   "cell_type": "code",
   "execution_count": 345,
   "metadata": {
    "ExecuteTime": {
     "end_time": "2020-09-17T09:58:05.403283Z",
     "start_time": "2020-09-17T09:58:05.399521Z"
    }
   },
   "outputs": [],
   "source": [
    "def capacite(an: ArbreTournoi) -> int:\n",
    "    \"\"\" Capacité d'un arbre tournoi, taille du tableau a (nb max de valeurs).\"\"\"\n",
    "    return len(an.a)"
   ]
  },
  {
   "cell_type": "code",
   "execution_count": 346,
   "metadata": {
    "ExecuteTime": {
     "end_time": "2020-09-17T09:58:05.618205Z",
     "start_time": "2020-09-17T09:58:05.612699Z"
    }
   },
   "outputs": [],
   "source": [
    "def nb_element(an: ArbreTournoi) -> int:\n",
    "    \"\"\" Nombre d'éléments d'un arbre tournoi.\"\"\"\n",
    "    n = an.n\n",
    "    m = len(an.a)\n",
    "    assert n <= m\n",
    "    return n"
   ]
  },
  {
   "cell_type": "code",
   "execution_count": 347,
   "metadata": {
    "ExecuteTime": {
     "end_time": "2020-09-17T09:58:05.766022Z",
     "start_time": "2020-09-17T09:58:05.760521Z"
    }
   },
   "outputs": [
    {
     "name": "stdout",
     "output_type": "stream",
     "text": [
      "7\n",
      "7\n",
      "8\n",
      "6\n"
     ]
    }
   ],
   "source": [
    "print(capacite (arbre_test))\n",
    "print(nb_element (arbre_test))\n",
    "\n",
    "print(capacite(arbre_test2))\n",
    "print(nb_element (arbre_test2))"
   ]
  },
  {
   "cell_type": "code",
   "execution_count": 348,
   "metadata": {
    "ExecuteTime": {
     "end_time": "2020-09-17T09:58:05.957928Z",
     "start_time": "2020-09-17T09:58:05.954306Z"
    }
   },
   "outputs": [],
   "source": [
    "def a_racine(an: ArbreTournoi) -> bool:\n",
    "    return an.n > 0"
   ]
  },
  {
   "cell_type": "code",
   "execution_count": 349,
   "metadata": {
    "ExecuteTime": {
     "end_time": "2020-09-17T09:58:06.139323Z",
     "start_time": "2020-09-17T09:58:06.135905Z"
    }
   },
   "outputs": [],
   "source": [
    "def est_racine(n: int) -> bool:\n",
    "    return n == 0"
   ]
  },
  {
   "cell_type": "code",
   "execution_count": 350,
   "metadata": {
    "ExecuteTime": {
     "end_time": "2020-09-17T09:58:06.306323Z",
     "start_time": "2020-09-17T09:58:06.301924Z"
    }
   },
   "outputs": [],
   "source": [
    "def racine(an: ArbreTournoi) -> Tuple[int, int]:\n",
    "    if 0 >= an.n:\n",
    "        raise ValueError(\"Pas de racine\")\n",
    "    return (0, an.a[0])"
   ]
  },
  {
   "cell_type": "code",
   "execution_count": 351,
   "metadata": {
    "ExecuteTime": {
     "end_time": "2020-09-17T09:58:06.497007Z",
     "start_time": "2020-09-17T09:58:06.491625Z"
    }
   },
   "outputs": [
    {
     "data": {
      "text/plain": [
       "(0, 1)"
      ]
     },
     "execution_count": 351,
     "metadata": {},
     "output_type": "execute_result"
    }
   ],
   "source": [
    "racine(arbre_test)"
   ]
  },
  {
   "cell_type": "code",
   "execution_count": 352,
   "metadata": {
    "ExecuteTime": {
     "end_time": "2020-09-17T09:58:06.658356Z",
     "start_time": "2020-09-17T09:58:06.653199Z"
    }
   },
   "outputs": [],
   "source": [
    "def a_noeud(an: ArbreTournoi, i: int) -> bool:\n",
    "    return an.n > i"
   ]
  },
  {
   "cell_type": "code",
   "execution_count": 353,
   "metadata": {
    "ExecuteTime": {
     "end_time": "2020-09-17T09:58:06.840510Z",
     "start_time": "2020-09-17T09:58:06.834868Z"
    }
   },
   "outputs": [],
   "source": [
    "def noeud(an: ArbreTournoi, i: int) -> Tuple[int, int]:\n",
    "    if i >= an.n:\n",
    "        raise ValueError(\"Pas de noeud i = {} et an.n = {}\".format(i, an.n))\n",
    "    return (i, an.a[i])"
   ]
  },
  {
   "cell_type": "code",
   "execution_count": 354,
   "metadata": {
    "ExecuteTime": {
     "end_time": "2020-09-17T09:58:07.002026Z",
     "start_time": "2020-09-17T09:58:06.996837Z"
    }
   },
   "outputs": [],
   "source": [
    "def valeur(an: ArbreTournoi, i: int) -> int:\n",
    "    return (noeud(an, i))[1]"
   ]
  },
  {
   "cell_type": "code",
   "execution_count": 355,
   "metadata": {
    "ExecuteTime": {
     "end_time": "2020-09-17T09:58:07.187851Z",
     "start_time": "2020-09-17T09:58:07.181483Z"
    }
   },
   "outputs": [
    {
     "data": {
      "text/plain": [
       "(0, 1)"
      ]
     },
     "execution_count": 355,
     "metadata": {},
     "output_type": "execute_result"
    }
   ],
   "source": [
    "noeud(arbre_test, 0)"
   ]
  },
  {
   "cell_type": "code",
   "execution_count": 356,
   "metadata": {
    "ExecuteTime": {
     "end_time": "2020-09-17T09:58:07.374526Z",
     "start_time": "2020-09-17T09:58:07.370704Z"
    }
   },
   "outputs": [],
   "source": [
    "def a_gauche(an: ArbreTournoi, i: int) -> bool:\n",
    "    return an.n > 2*i + 1"
   ]
  },
  {
   "cell_type": "code",
   "execution_count": 357,
   "metadata": {
    "ExecuteTime": {
     "end_time": "2020-09-17T09:58:07.545262Z",
     "start_time": "2020-09-17T09:58:07.540261Z"
    }
   },
   "outputs": [],
   "source": [
    "def gauche(an: ArbreTournoi, i: int) -> Tuple[int, int]:\n",
    "    if 2*i + 1 >= an.n:\n",
    "        raise ValueError(\"Pas de fils gauche i = {}, 2*i+1 = {} and an.n = {}\".format(i, (2*i+1), an.n))\n",
    "    return (2*i + 1, an.a[2*i + 1])"
   ]
  },
  {
   "cell_type": "code",
   "execution_count": 358,
   "metadata": {
    "ExecuteTime": {
     "end_time": "2020-09-17T09:58:07.730467Z",
     "start_time": "2020-09-17T09:58:07.724001Z"
    }
   },
   "outputs": [
    {
     "data": {
      "text/plain": [
       "(1, 2)"
      ]
     },
     "execution_count": 358,
     "metadata": {},
     "output_type": "execute_result"
    }
   ],
   "source": [
    "gauche(arbre_test, 0)"
   ]
  },
  {
   "cell_type": "code",
   "execution_count": 359,
   "metadata": {
    "ExecuteTime": {
     "end_time": "2020-09-17T09:58:07.925461Z",
     "start_time": "2020-09-17T09:58:07.921270Z"
    }
   },
   "outputs": [],
   "source": [
    "def a_droite(an: ArbreTournoi, i: int) -> bool:\n",
    "    return an.n > 2*i + 2"
   ]
  },
  {
   "cell_type": "code",
   "execution_count": 360,
   "metadata": {
    "ExecuteTime": {
     "end_time": "2020-09-17T09:58:08.130218Z",
     "start_time": "2020-09-17T09:58:08.125340Z"
    }
   },
   "outputs": [],
   "source": [
    "def droite(an: ArbreTournoi, i: int) -> Tuple[int, int]:\n",
    "    if 2*i + 2 >= an.n:\n",
    "        raise ValueError(\"Pas de fils droit i = {}, 2i+2={} and an.n = {}\".format(i, (2*i+2), an.n))\n",
    "    return (2*i + 2, an.a[2*i + 2])"
   ]
  },
  {
   "cell_type": "markdown",
   "metadata": {},
   "source": [
    "Une et deux descentes à droite, par exemple :"
   ]
  },
  {
   "cell_type": "code",
   "execution_count": 361,
   "metadata": {
    "ExecuteTime": {
     "end_time": "2020-09-17T09:58:10.363147Z",
     "start_time": "2020-09-17T09:58:10.357954Z"
    }
   },
   "outputs": [
    {
     "data": {
      "text/plain": [
       "(2, 3)"
      ]
     },
     "execution_count": 361,
     "metadata": {},
     "output_type": "execute_result"
    }
   ],
   "source": [
    "droite(arbre_test, 0)"
   ]
  },
  {
   "cell_type": "code",
   "execution_count": 362,
   "metadata": {
    "ExecuteTime": {
     "end_time": "2020-09-17T09:58:10.517310Z",
     "start_time": "2020-09-17T09:58:10.511492Z"
    }
   },
   "outputs": [
    {
     "data": {
      "text/plain": [
       "(6, 7)"
      ]
     },
     "execution_count": 362,
     "metadata": {},
     "output_type": "execute_result"
    }
   ],
   "source": [
    "i, _ = droite(arbre_test, 0)\n",
    "droite(arbre_test, i)"
   ]
  },
  {
   "cell_type": "markdown",
   "metadata": {},
   "source": [
    "On parcourt les sous-arbres pour trouver le minimum :"
   ]
  },
  {
   "cell_type": "code",
   "execution_count": 363,
   "metadata": {
    "ExecuteTime": {
     "end_time": "2020-09-17T09:58:10.842033Z",
     "start_time": "2020-09-17T09:58:10.834637Z"
    }
   },
   "outputs": [],
   "source": [
    "def min_sous_arbre(an: ArbreTournoi, i: int) -> int:\n",
    "    ag = a_gauche(an, i)\n",
    "    ad = a_droite(an, i)\n",
    "    if not ag and not ad:\n",
    "        return float(\"+inf\")\n",
    "    elif ag and not ad:\n",
    "        g, vg = gauche(an, i)\n",
    "        return min(vg, min_sous_arbre(an, g))\n",
    "    elif not ag and ad:\n",
    "        d, vd = droite(an, i)\n",
    "        return min(vd, min_sous_arbre(an, d))\n",
    "    else:  # a droite et a gauche\n",
    "        g, vg = gauche(an, i)\n",
    "        d, vd = droite(an, i)\n",
    "        return min(min(vg, vd), min(min_sous_arbre(an, g), min_sous_arbre(an, d)))"
   ]
  },
  {
   "cell_type": "code",
   "execution_count": 364,
   "metadata": {
    "ExecuteTime": {
     "end_time": "2020-09-17T09:58:10.986267Z",
     "start_time": "2020-09-17T09:58:10.979180Z"
    }
   },
   "outputs": [
    {
     "name": "stdout",
     "output_type": "stream",
     "text": [
      "arbre_test: n = 7, a = [1, 2, 3, 4, 5, 6, 7]\n"
     ]
    },
    {
     "data": {
      "text/plain": [
       "2"
      ]
     },
     "execution_count": 364,
     "metadata": {},
     "output_type": "execute_result"
    }
   ],
   "source": [
    "print(\"arbre_test: n = {}, a = {}\".format(arbre_test.n, arbre_test.a))\n",
    "min_sous_arbre(arbre_test, 0)"
   ]
  },
  {
   "cell_type": "markdown",
   "metadata": {},
   "source": [
    "Et enfin la solution pour la fonction testant si un arbre binaire est un tas tournoi, qui doit être récursive et descendre dans les deux sous-arbres gauche et droite tant qu'ils existent :"
   ]
  },
  {
   "cell_type": "code",
   "execution_count": 365,
   "metadata": {
    "ExecuteTime": {
     "end_time": "2020-09-17T09:58:11.337370Z",
     "start_time": "2020-09-17T09:58:11.329399Z"
    }
   },
   "outputs": [],
   "source": [
    "def est_tournoi(an: ArbreTournoi) -> bool:\n",
    "    def depuis(i: int) -> bool:\n",
    "        r, vr = noeud(an, i)\n",
    "        min_v = min_sous_arbre(an, i)\n",
    "        res = vr < min_v\n",
    "        if res and a_gauche(an, i):\n",
    "            g, vg = gauche(an, i)\n",
    "            res = depuis(g)\n",
    "        if res and a_droite(an, i):\n",
    "            d, vd = droite(an, i)\n",
    "            res = depuis(d)\n",
    "        return res\n",
    "    return depuis(0)"
   ]
  },
  {
   "cell_type": "code",
   "execution_count": 366,
   "metadata": {
    "ExecuteTime": {
     "end_time": "2020-09-17T09:58:11.512331Z",
     "start_time": "2020-09-17T09:58:11.507219Z"
    }
   },
   "outputs": [
    {
     "data": {
      "text/plain": [
       "True"
      ]
     },
     "execution_count": 366,
     "metadata": {},
     "output_type": "execute_result"
    }
   ],
   "source": [
    "est_tournoi(arbre_test)"
   ]
  },
  {
   "cell_type": "code",
   "execution_count": 367,
   "metadata": {
    "ExecuteTime": {
     "end_time": "2020-09-17T09:58:11.706636Z",
     "start_time": "2020-09-17T09:58:11.698914Z"
    }
   },
   "outputs": [
    {
     "name": "stdout",
     "output_type": "stream",
     "text": [
      "arbre_test2: n = 6, a = [2, 1, 3, 4, 5, 6, -1, -1]\n"
     ]
    },
    {
     "data": {
      "text/plain": [
       "False"
      ]
     },
     "execution_count": 367,
     "metadata": {},
     "output_type": "execute_result"
    }
   ],
   "source": [
    "print(\"arbre_test2: n = {}, a = {}\".format(arbre_test2.n, arbre_test2.a))\n",
    "est_tournoi(arbre_test2)"
   ]
  },
  {
   "cell_type": "markdown",
   "metadata": {},
   "source": [
    "## Exercice 8 : `parent`, `fils_gauche` et `fils_droit`"
   ]
  },
  {
   "cell_type": "code",
   "execution_count": 368,
   "metadata": {
    "ExecuteTime": {
     "end_time": "2020-09-17T09:58:11.991997Z",
     "start_time": "2020-09-17T09:58:11.987990Z"
    }
   },
   "outputs": [],
   "source": [
    "def parent(an: ArbreTournoi, i: int) -> Tuple[int, int]:\n",
    "    return noeud(an, ((i - 1) // 2))"
   ]
  },
  {
   "cell_type": "code",
   "execution_count": 369,
   "metadata": {
    "ExecuteTime": {
     "end_time": "2020-09-17T09:58:12.178536Z",
     "start_time": "2020-09-17T09:58:12.171136Z"
    }
   },
   "outputs": [
    {
     "name": "stdout",
     "output_type": "stream",
     "text": [
      "arbre_test: n = 7, a = [1, 2, 3, 4, 5, 6, 7]\n",
      "(1, 2)\n",
      "(0, 1)\n",
      "(2, 3)\n",
      "(0, 1)\n"
     ]
    }
   ],
   "source": [
    "print(\"arbre_test: n = {}, a = {}\".format(arbre_test.n, arbre_test.a))\n",
    "\n",
    "print(noeud(arbre_test, 1))\n",
    "print(parent(arbre_test, 1))\n",
    "print(noeud(arbre_test, 2))\n",
    "print(parent(arbre_test, 2))"
   ]
  },
  {
   "cell_type": "code",
   "execution_count": 370,
   "metadata": {
    "ExecuteTime": {
     "end_time": "2020-09-17T09:58:12.358919Z",
     "start_time": "2020-09-17T09:58:12.352418Z"
    }
   },
   "outputs": [
    {
     "name": "stdout",
     "output_type": "stream",
     "text": [
      "(4, 5)\n",
      "(1, 2)\n",
      "(3, 4)\n",
      "(4, 5)\n",
      "(5, 6)\n",
      "(2, 3)\n",
      "(5, 6)\n",
      "(6, 7)\n"
     ]
    }
   ],
   "source": [
    "print(noeud(arbre_test, 4))\n",
    "print(parent(arbre_test, 4))\n",
    "print(gauche(arbre_test, 1))\n",
    "print(droite(arbre_test, 1)) # 4\n",
    "\n",
    "print(noeud(arbre_test, 5))\n",
    "print(parent(arbre_test, 5))\n",
    "print(gauche(arbre_test, 2)) # 5\n",
    "print(droite(arbre_test, 2))"
   ]
  },
  {
   "cell_type": "markdown",
   "metadata": {},
   "source": [
    "## Exercice 9 : `echange`"
   ]
  },
  {
   "cell_type": "code",
   "execution_count": 371,
   "metadata": {
    "ExecuteTime": {
     "end_time": "2020-09-17T09:58:13.035438Z",
     "start_time": "2020-09-17T09:58:13.029527Z"
    }
   },
   "outputs": [],
   "source": [
    "def echange(a: List[Any], i: int, j: int) -> None:\n",
    "    a[i], a[j] = a[j], a[i]  # very Pythonic\n",
    "    \"\"\"\n",
    "    vi, vj = a[i], a[j]\n",
    "    a[i] = vj\n",
    "    a[j] = vi\n",
    "    \"\"\"\n",
    "    \"\"\"\n",
    "    tmp = a[i]\n",
    "    a[i] = a[j]\n",
    "    a[j] = tmp\n",
    "    \"\"\""
   ]
  },
  {
   "cell_type": "markdown",
   "metadata": {},
   "source": [
    "## Exercice 10 : `insertion`"
   ]
  },
  {
   "cell_type": "markdown",
   "metadata": {},
   "source": [
    "Si besoin, en insérant un élément dans un tableau déjà plein, on doit doubler sa capacité. Ce n'est pas compliqué : d'abord on double le tableau, puis on fait l'insertion normale."
   ]
  },
  {
   "cell_type": "code",
   "execution_count": 372,
   "metadata": {
    "ExecuteTime": {
     "end_time": "2020-09-17T09:58:13.575317Z",
     "start_time": "2020-09-17T09:58:13.570399Z"
    }
   },
   "outputs": [],
   "source": [
    "def double_capacite(an: ArbreTournoi) -> ArbreTournoi:\n",
    "    c = capacite(an)\n",
    "    a2 = [-1] * (2*c)  # [-1 for _ in range(2*c)]\n",
    "    for i in range(an.n):\n",
    "        a2[i] = an.a[i]\n",
    "    return ArbreTournoi(an.n, a2)"
   ]
  },
  {
   "cell_type": "markdown",
   "metadata": {},
   "source": [
    "L'opération élémentaire s'appelle une \"percolation haute\" : pour rétablir si nécessaire la propriété d'ordre du tas binaire : tant que `x` n'est pas la racine de l'arbre et que `x` est strictement inférieur (tas min) à son père on échange les positions entre `x` et son père."
   ]
  },
  {
   "cell_type": "code",
   "execution_count": 373,
   "metadata": {
    "ExecuteTime": {
     "end_time": "2020-09-17T09:58:13.977265Z",
     "start_time": "2020-09-17T09:58:13.972496Z"
    }
   },
   "outputs": [],
   "source": [
    "def percolation_haute(an: ArbreTournoi, i: int) -> None:\n",
    "    p, _ = parent(an, i)\n",
    "    while valeur(an, p) > valeur(an, i):\n",
    "        echange(an.a, i, p)\n",
    "        i = p\n",
    "        p, _ = parent(an, i)"
   ]
  },
  {
   "cell_type": "markdown",
   "metadata": {},
   "source": [
    "Maintenant, l'insertion a proprement dite :"
   ]
  },
  {
   "cell_type": "code",
   "execution_count": 374,
   "metadata": {
    "ExecuteTime": {
     "end_time": "2020-09-17T09:58:14.321436Z",
     "start_time": "2020-09-17T09:58:14.314502Z"
    }
   },
   "outputs": [],
   "source": [
    "def insertion(an: ArbreTournoi, x: int) -> ArbreTournoi:\n",
    "    n, c = an.n, capacite(an)\n",
    "    if n == c:\n",
    "        an2 = double_capacite(an)\n",
    "        return insertion(an2, x)\n",
    "    else:\n",
    "        an2 = ArbreTournoi(n + 1, an.a[:]) # tableau[:] fait une copie\n",
    "        an2.a[n] = x  # ajoute la valeur x à la fin\n",
    "        percolation_haute(an2, n) # percolation haute depuis la fin du tas\n",
    "        return an2"
   ]
  },
  {
   "cell_type": "code",
   "execution_count": 375,
   "metadata": {
    "ExecuteTime": {
     "end_time": "2020-09-17T09:58:14.514731Z",
     "start_time": "2020-09-17T09:58:14.508126Z"
    }
   },
   "outputs": [
    {
     "name": "stdout",
     "output_type": "stream",
     "text": [
      "arbre_test: n = 7, a = [1, 2, 3, 4, 5, 6, 7]\n",
      "a2: n = 8, a = [1, 2, 3, 4, 5, 6, 7, 40, -1, -1, -1, -1, -1, -1]\n",
      "a3: n = 9, a = [1, 2, 3, 4, 5, 6, 7, 40, 20, -1, -1, -1, -1, -1]\n"
     ]
    }
   ],
   "source": [
    "print(\"arbre_test: n = {}, a = {}\".format(arbre_test.n, arbre_test.a))\n",
    "\n",
    "a2 = insertion(arbre_test, 40)\n",
    "print(\"a2: n = {}, a = {}\".format(a2.n, a2.a))\n",
    "# on l'a vu doubler !\n",
    "a3 = insertion(a2, 20)\n",
    "print(\"a3: n = {}, a = {}\".format(a3.n, a3.a))"
   ]
  },
  {
   "cell_type": "code",
   "execution_count": 376,
   "metadata": {
    "ExecuteTime": {
     "end_time": "2020-09-17T09:58:14.714095Z",
     "start_time": "2020-09-17T09:58:14.707841Z"
    }
   },
   "outputs": [
    {
     "name": "stdout",
     "output_type": "stream",
     "text": [
      "a4: n = 6, a = [100, 123, 135, 136, 354, 462]\n",
      "a5: n = 7, a = [40, 123, 100, 136, 354, 462, 135, -1, -1, -1, -1, -1]\n",
      "a6: n = 8, a = [20, 40, 100, 123, 354, 462, 135, 136, -1, -1, -1, -1]\n"
     ]
    }
   ],
   "source": [
    "a4 = ArbreTournoi(6, [100, 123, 135, 136, 354, 462])\n",
    "print(\"a4: n = {}, a = {}\".format(a4.n, a4.a))\n",
    "\n",
    "a5 = insertion(a4, 40)\n",
    "print(\"a5: n = {}, a = {}\".format(a5.n, a5.a))\n",
    "\n",
    "a6 = insertion(a5, 20)\n",
    "print(\"a6: n = {}, a = {}\".format(a6.n, a6.a))"
   ]
  },
  {
   "cell_type": "markdown",
   "metadata": {},
   "source": [
    "## Exercice 11 : `creation`"
   ]
  },
  {
   "cell_type": "markdown",
   "metadata": {
    "collapsed": true
   },
   "source": [
    "La sémantique de cette fonction est de créer un tas min à partir d'un tableau de valeur."
   ]
  },
  {
   "cell_type": "code",
   "execution_count": 377,
   "metadata": {
    "ExecuteTime": {
     "end_time": "2020-09-17T09:58:15.246574Z",
     "start_time": "2020-09-17T09:58:15.241784Z"
    }
   },
   "outputs": [],
   "source": [
    "def creation(a: List[int]) -> ArbreTournoi:\n",
    "    n = len(a)\n",
    "    a_vide = [-1] * n\n",
    "    an = ArbreTournoi(0, a_vide)\n",
    "    for i in range(n):\n",
    "        an = insertion(an, a[i])\n",
    "    return an"
   ]
  },
  {
   "cell_type": "code",
   "execution_count": 378,
   "metadata": {
    "ExecuteTime": {
     "end_time": "2020-09-17T09:58:15.507999Z",
     "start_time": "2020-09-17T09:58:15.501339Z"
    }
   },
   "outputs": [
    {
     "name": "stdout",
     "output_type": "stream",
     "text": [
      "arbre_test3: n = 5, a = [1, 5, 3, 20, 7]\n"
     ]
    }
   ],
   "source": [
    "arbre_test3 = creation([20, 1, 3, 5, 7])\n",
    "print(\"arbre_test3: n = {}, a = {}\".format(arbre_test3.n, arbre_test3.a))"
   ]
  },
  {
   "cell_type": "markdown",
   "metadata": {},
   "source": [
    "Notez que cet arbre est bien tournoi, mais n'est pas trié."
   ]
  },
  {
   "cell_type": "code",
   "execution_count": 379,
   "metadata": {
    "ExecuteTime": {
     "end_time": "2020-09-17T09:58:15.980957Z",
     "start_time": "2020-09-17T09:58:15.974691Z"
    }
   },
   "outputs": [
    {
     "name": "stdout",
     "output_type": "stream",
     "text": [
      "Est tournoi ? True\n",
      "Est trié ? False\n"
     ]
    }
   ],
   "source": [
    "print(\"Est tournoi ?\", est_tournoi(arbre_test3))\n",
    "\n",
    "print(\"Est trié ?\", arbre_test3.a == sorted(arbre_test3.a))"
   ]
  },
  {
   "cell_type": "markdown",
   "metadata": {},
   "source": [
    "## Exercice 12 : `diminue_clef`"
   ]
  },
  {
   "cell_type": "markdown",
   "metadata": {},
   "source": [
    "On peut augmenter ou diminuer la priorité (la clé) d'un nœud mais il faut ensuite satisfaire la contrainte d'ordre. Si l'on augmente la clé on fera donc une percolation-haute à partir de notre nœud et si l'on diminue la clé on fera un percolation-basse."
   ]
  },
  {
   "cell_type": "markdown",
   "metadata": {
    "collapsed": true
   },
   "source": [
    "> Faites le vous-même."
   ]
  },
  {
   "cell_type": "markdown",
   "metadata": {},
   "source": [
    "## Exercice 13 : `extraire_min`"
   ]
  },
  {
   "cell_type": "markdown",
   "metadata": {},
   "source": [
    "On fait une percolation basse pour déplacer la racine jusqu'à une feuille, puis on inverse la feuille avec la dernière valeur du tableau (la feuille la plus à droite), et on met une valeur arbitraire (`-1`) dedans et on diminue la taille du tas (`{ n with n = n - 1 }`)."
   ]
  },
  {
   "cell_type": "markdown",
   "metadata": {},
   "source": [
    "D'abord, on a besoin de récupérer un des deux fils si l'un des deux a une clé plus petite."
   ]
  },
  {
   "cell_type": "code",
   "execution_count": 380,
   "metadata": {
    "ExecuteTime": {
     "end_time": "2020-09-17T09:58:18.384596Z",
     "start_time": "2020-09-17T09:58:18.374983Z"
    }
   },
   "outputs": [],
   "source": [
    "def indice_min_fils(an: ArbreTournoi, i: int) -> int:\n",
    "    g = i\n",
    "    d = i\n",
    "    if a_gauche(an, i):\n",
    "        g, _ = gauche(an, i)\n",
    "    if a_droite(an, i):\n",
    "        d, _ = droite(an, i)\n",
    "    if valeur(an, g) < valeur(an, d):\n",
    "        return g\n",
    "    else:\n",
    "        return d"
   ]
  },
  {
   "cell_type": "markdown",
   "metadata": {},
   "source": [
    "La percolation basse n'est pas trop compliquée :"
   ]
  },
  {
   "cell_type": "code",
   "execution_count": 381,
   "metadata": {
    "ExecuteTime": {
     "end_time": "2020-09-17T09:58:19.260520Z",
     "start_time": "2020-09-17T09:58:19.247462Z"
    }
   },
   "outputs": [],
   "source": [
    "def percolation_basse(an: ArbreTournoi, i: int) -> None:\n",
    "    f = indice_min_fils(an, i)\n",
    "    while valeur(an, f) < valeur(an, i):\n",
    "        echange(an.a, i, f)\n",
    "        i = f\n",
    "        f = indice_min_fils(an, i)"
   ]
  },
  {
   "cell_type": "markdown",
   "metadata": {},
   "source": [
    "Enfin l'extraction du minimum est facile."
   ]
  },
  {
   "cell_type": "code",
   "execution_count": 386,
   "metadata": {
    "ExecuteTime": {
     "end_time": "2020-09-17T09:58:59.155469Z",
     "start_time": "2020-09-17T09:58:59.137333Z"
    }
   },
   "outputs": [],
   "source": [
    "def extraire_min(an: ArbreTournoi) -> Tuple[int, ArbreTournoi]:\n",
    "    an2 = ArbreTournoi(an.n, an.a[:])  # copie !\n",
    "    if a_gauche(an2, 0):\n",
    "        m = an2.a[0]  # racine\n",
    "        an2.n = an2.n - 1  # on enlève un élément\n",
    "        echange(an2.a, 0, an2.n)  # on place la racine à la fin, à un endroit désormais inutilisé\n",
    "        an2.a[an2.n] = -1  # on place -1 la valeur par défaut, donc on efface\n",
    "        percolation_basse(an2, 0)  # on redescend la nouvelle racine tant que possible\n",
    "        return m, an2\n",
    "    else:\n",
    "        _, racine_an = racine(an2)\n",
    "        # arbre vide une fois qu'on a extraie la racine\n",
    "        return (racine_an, ArbreTournoi(0, []))"
   ]
  },
  {
   "cell_type": "markdown",
   "metadata": {},
   "source": [
    "Et pour un exemple :"
   ]
  },
  {
   "cell_type": "code",
   "execution_count": 387,
   "metadata": {
    "ExecuteTime": {
     "end_time": "2020-09-17T09:59:00.135048Z",
     "start_time": "2020-09-17T09:59:00.111423Z"
    }
   },
   "outputs": [
    {
     "name": "stdout",
     "output_type": "stream",
     "text": [
      "a: n = 5, a = [1, 5, 3, 20, 7]\n",
      "m = 1, et a: n = 4, a = [3, 5, 7, 20, -1]\n",
      "m = 3, et a: n = 3, a = [5, 20, 7, -1, -1]\n",
      "m = 5, et a: n = 2, a = [7, 20, -1, -1, -1]\n",
      "m = 7, et a: n = 1, a = [20, -1, -1, -1, -1]\n",
      "m = 20, et a: n = 0, a = []\n"
     ]
    }
   ],
   "source": [
    "a = creation([20, 1, 3, 5, 7])\n",
    "print(\"a: n = {}, a = {}\".format(a.n, a.a))\n",
    "\n",
    "m, a = extraire_min(a)  # m = 1\n",
    "print(\"m = {}, et a: n = {}, a = {}\".format(m, a.n, a.a))\n",
    "\n",
    "m, a = extraire_min(a)  # m = 3\n",
    "print(\"m = {}, et a: n = {}, a = {}\".format(m, a.n, a.a))\n",
    "\n",
    "m, a = extraire_min(a)  # m = 5\n",
    "print(\"m = {}, et a: n = {}, a = {}\".format(m, a.n, a.a))\n",
    "\n",
    "m, a = extraire_min(a)  # m = 7\n",
    "print(\"m = {}, et a: n = {}, a = {}\".format(m, a.n, a.a))\n",
    "\n",
    "m, a = extraire_min(a)  # m = 20\n",
    "print(\"m = {}, et a: n = {}, a = {}\".format(m, a.n, a.a))"
   ]
  },
  {
   "cell_type": "markdown",
   "metadata": {},
   "source": [
    "Remarquez comment le redimensionement du tableau n'arrive qu'à la fin."
   ]
  },
  {
   "cell_type": "markdown",
   "metadata": {},
   "source": [
    "\n",
    "## Exercice 14 : tri par tas"
   ]
  },
  {
   "cell_type": "markdown",
   "metadata": {},
   "source": [
    "La meilleure façon de vérifier notre implémentation est d'implémenter le tri par tas :\n",
    "\n",
    "- on construit un tas depuis la liste de valeur,\n",
    "- on extrait le minimum successivement."
   ]
  },
  {
   "cell_type": "code",
   "execution_count": 391,
   "metadata": {
    "ExecuteTime": {
     "end_time": "2020-09-17T09:59:44.885751Z",
     "start_time": "2020-09-17T09:59:44.873482Z"
    }
   },
   "outputs": [],
   "source": [
    "def triParTas2(a: List[int]) -> List[int]:\n",
    "    n = len(a)\n",
    "    avide = [-1] * n\n",
    "    an = creation(a)  # tas contenant les valeurs de a, bien placées\n",
    "    for i in range(n):\n",
    "        m, an2 = extraire_min(an)\n",
    "        avide[i] = m  # minimum du tas an, placé en ième position\n",
    "        an = an2      # nouveau tas avec une valeur en moins\n",
    "    return avide"
   ]
  },
  {
   "cell_type": "code",
   "execution_count": 395,
   "metadata": {
    "ExecuteTime": {
     "end_time": "2020-09-17T10:00:16.696129Z",
     "start_time": "2020-09-17T10:00:16.679803Z"
    }
   },
   "outputs": [
    {
     "name": "stdout",
     "output_type": "stream",
     "text": [
      "array1 = [10, 3, 4, 1, 2, 7, 8, 5, 9, 6]\n",
      "trié en array2 = [1, 2, 3, 4, 5, 6, 7, 8, 9, 10] par triParsTas2\n"
     ]
    }
   ],
   "source": [
    "array1 = [10, 3, 4, 1, 2, 7, 8, 5, 9, 6]\n",
    "array2 = triParTas2(array1)\n",
    "print(\"array1 =\", array1)\n",
    "print(\"trié en array2 =\", array2, \"par triParsTas2\")\n",
    "assert sorted(array1) == array2"
   ]
  },
  {
   "cell_type": "markdown",
   "metadata": {},
   "source": [
    "----\n",
    "# Union-Find"
   ]
  },
  {
   "cell_type": "markdown",
   "metadata": {},
   "source": [
    "## Exercice 15 : Union-Find avec tableaux"
   ]
  },
  {
   "cell_type": "markdown",
   "metadata": {},
   "source": [
    "Version simple avec des tableaux simples."
   ]
  },
  {
   "cell_type": "code",
   "execution_count": 397,
   "metadata": {
    "ExecuteTime": {
     "end_time": "2020-09-17T10:00:25.954529Z",
     "start_time": "2020-09-17T10:00:25.945450Z"
    }
   },
   "outputs": [],
   "source": [
    "Representant = Union[None, int]\n",
    "# Representant = Optional[int]\n",
    "\n",
    "UnionFind = List[Representant]"
   ]
  },
  {
   "cell_type": "markdown",
   "metadata": {},
   "source": [
    "En OCaml, on pourrait écrire ces types :\n",
    "```ocaml\n",
    "type representant = Aucun | Element of int;; (* [int option] pourrait suffire *)\n",
    "type unionfind = representant array;;\n",
    "```"
   ]
  },
  {
   "cell_type": "code",
   "execution_count": 398,
   "metadata": {
    "ExecuteTime": {
     "end_time": "2020-09-17T10:00:45.573916Z",
     "start_time": "2020-09-17T10:00:45.569892Z"
    }
   },
   "outputs": [],
   "source": [
    "def create_uf(n: int) -> UnionFind:\n",
    "    return [None] * n"
   ]
  },
  {
   "cell_type": "code",
   "execution_count": 399,
   "metadata": {
    "ExecuteTime": {
     "end_time": "2020-09-17T10:00:47.106600Z",
     "start_time": "2020-09-17T10:00:47.101405Z"
    }
   },
   "outputs": [],
   "source": [
    "def makeset(uf: UnionFind, i: int) -> None:\n",
    "    if len(uf) < i:\n",
    "        uf = uf + [None] * (i - len(uf))\n",
    "    if uf[i] is None:\n",
    "        uf[i] = i\n",
    "    else:\n",
    "        raise ValueError(\"makeset avec uf = {} et i = {} : impossible d'ajouter i car déja présent\".format(uf, i))"
   ]
  },
  {
   "cell_type": "markdown",
   "metadata": {},
   "source": [
    "L'union est assez rapide aussi :"
   ]
  },
  {
   "cell_type": "code",
   "execution_count": 400,
   "metadata": {
    "ExecuteTime": {
     "end_time": "2020-09-17T10:00:49.382229Z",
     "start_time": "2020-09-17T10:00:49.370174Z"
    }
   },
   "outputs": [],
   "source": [
    "def union(uf: UnionFind, i: int, j: int) -> None:\n",
    "    n = len(uf)\n",
    "    if uf[i] is None or uf[j] is None:\n",
    "        raise ValueErrorrror(\"Élement i = {} ou j = {} absent de l'UnionFind uf = {}\".format(i, j, uf))\n",
    "    for k in range(n):\n",
    "        # tous les éléments dont le représentant est j vont avoir comme représentant i\n",
    "        if uf[k] == j:\n",
    "            uf[j] = i"
   ]
  },
  {
   "cell_type": "markdown",
   "metadata": {},
   "source": [
    "La recherche est aussi très facile, il suffit de donner la valeur stockée en case i :"
   ]
  },
  {
   "cell_type": "code",
   "execution_count": 401,
   "metadata": {
    "ExecuteTime": {
     "end_time": "2020-09-17T10:00:50.422972Z",
     "start_time": "2020-09-17T10:00:50.412968Z"
    }
   },
   "outputs": [],
   "source": [
    "def find(uf: UnionFind, i: int) -> int:\n",
    "    if uf[i] is None:\n",
    "        raise ValueError(\"Élement i = {} absent de l'UnionFind uf = {}\".format(i, uf))\n",
    "    else:\n",
    "        return uf[i]"
   ]
  },
  {
   "cell_type": "markdown",
   "metadata": {},
   "source": [
    "Tests :"
   ]
  },
  {
   "cell_type": "code",
   "execution_count": 405,
   "metadata": {
    "ExecuteTime": {
     "end_time": "2020-09-17T10:02:35.861587Z",
     "start_time": "2020-09-17T10:02:35.848455Z"
    }
   },
   "outputs": [
    {
     "name": "stdout",
     "output_type": "stream",
     "text": [
      "UnionFind uf vide = [None, None, None, None, None, None]\n",
      "UnionFind uf rempli par i=0..5 = [0, 1, 2, 3, 4, 5]\n",
      "find(uf_test, 5) = 5\n",
      "Union de 0 et 1 dans uf, désormais uf = [0, 0, 2, 3, 4, 5]\n",
      "Union de 2 et 3 dans uf, désormais uf = [0, 0, 2, 2, 4, 5]\n",
      "Union de 1 et 5 dans uf, désormais uf = [0, 0, 2, 2, 4, 1]\n",
      "find(uf_test, 0) = 0\n",
      "find(uf_test, 1) = 0\n",
      "find(uf_test, 0) = find(uf_test, 5) ?  False\n",
      "find(uf_test, 3) = find(uf_test, 5) ?  False\n"
     ]
    }
   ],
   "source": [
    "uf_test = create_uf(6)\n",
    "print(\"UnionFind uf vide = {}\".format(uf_test))\n",
    "\n",
    "for i in range(0, 5+1):\n",
    "    makeset(uf_test, i)\n",
    "print(\"UnionFind uf rempli par i=0..5 = {}\".format(uf_test))\n",
    "\n",
    "print(\"find(uf_test, 5) =\", find(uf_test, 5))\n",
    "union(uf_test, 0, 1)\n",
    "print(\"Union de 0 et 1 dans uf, désormais uf = {}\".format(uf_test))\n",
    "\n",
    "union(uf_test, 2, 3)\n",
    "print(\"Union de 2 et 3 dans uf, désormais uf = {}\".format(uf_test))\n",
    "\n",
    "union(uf_test, 1, 5)\n",
    "print(\"Union de 1 et 5 dans uf, désormais uf = {}\".format(uf_test))\n",
    "\n",
    "print(\"find(uf_test, 0) =\", find(uf_test, 0))\n",
    "print(\"find(uf_test, 1) =\", find(uf_test, 1))\n",
    "\n",
    "print(\"find(uf_test, 0) = find(uf_test, 5) ? \", find(uf_test, 0) == find(uf_test, 5))\n",
    "print(\"find(uf_test, 3) = find(uf_test, 5) ? \", find(uf_test, 3) == find(uf_test, 5))"
   ]
  },
  {
   "cell_type": "markdown",
   "metadata": {},
   "source": [
    "## Exercice 16 : Union-Find avec forêts"
   ]
  },
  {
   "cell_type": "markdown",
   "metadata": {},
   "source": [
    "Version avancée avec des forêts."
   ]
  },
  {
   "cell_type": "code",
   "execution_count": 460,
   "metadata": {
    "ExecuteTime": {
     "end_time": "2020-09-17T11:49:22.927176Z",
     "start_time": "2020-09-17T11:49:22.919604Z"
    }
   },
   "outputs": [],
   "source": [
    "aucun = False\n",
    "racine = True\n",
    "Position = Union[bool, int]\n",
    "# malheureusement, Python va calculer ce type comme étant int,\n",
    "# et n'affichera pas ça comme Position ou Union[bool, int],\n",
    "# car bool est un sous type de int\n",
    "\n",
    "UnionFindForest = List[Position]"
   ]
  },
  {
   "cell_type": "markdown",
   "metadata": {},
   "source": [
    "Créer une union-find vide revient à créer un tableau avec chaque élément n'ayant pas de représentant, donc valant `aucun`."
   ]
  },
  {
   "cell_type": "code",
   "execution_count": 458,
   "metadata": {
    "ExecuteTime": {
     "end_time": "2020-09-17T11:48:01.355588Z",
     "start_time": "2020-09-17T11:48:01.347749Z"
    }
   },
   "outputs": [],
   "source": [
    "def create_uf(n: int) -> UnionFindForest:\n",
    "    return [aucun] * n"
   ]
  },
  {
   "cell_type": "markdown",
   "metadata": {},
   "source": [
    "Rajouter un singleton $\\{i\\}$ dans l'union-find revient à mettre la case `i` du tableau à `racine` :"
   ]
  },
  {
   "cell_type": "code",
   "execution_count": 420,
   "metadata": {
    "ExecuteTime": {
     "end_time": "2020-09-17T11:19:06.976128Z",
     "start_time": "2020-09-17T11:19:06.965052Z"
    }
   },
   "outputs": [],
   "source": [
    "def makeset(uf: UnionFindForest, i: int) -> None:\n",
    "    if uf[i] == aucun:\n",
    "        uf[i] = racine  # i devient son propre représentant\n",
    "    else:\n",
    "        raise ValueError(\"Élément i = {} déjà présent dans l'UnionFindForest uf = {}\".format(i, uf))"
   ]
  },
  {
   "cell_type": "markdown",
   "metadata": {},
   "source": [
    "La recherche est un peu plus compliquée et on propose une première optimisation, qui va servir à \"aplatir\" la forêt."
   ]
  },
  {
   "cell_type": "code",
   "execution_count": 421,
   "metadata": {
    "ExecuteTime": {
     "end_time": "2020-09-17T11:21:04.415039Z",
     "start_time": "2020-09-17T11:21:04.394172Z"
    }
   },
   "outputs": [],
   "source": [
    "def find(uf: UnionFindForest, i: int) -> int:\n",
    "    uf_i = uf[i]\n",
    "    if uf[i] == aucun:\n",
    "        raise ValueError(\"Élément i = {} absent de l'UnionFindForest uf = {}\".format(i, uf))\n",
    "    elif uf[i] == racine:  # i est son propre représentant\n",
    "        return i\n",
    "    else:\n",
    "        j = uf[i]  # représentant courant de i\n",
    "        r = find(uf, j)  # trouve le représentant de j\n",
    "        uf[i] = r  # modifie la forêt pour faire pointer le représentant de i vers r\n",
    "        return r"
   ]
  },
  {
   "cell_type": "markdown",
   "metadata": {},
   "source": [
    "Pour l'union, on fait ici le choix arbitraire de préférer la racine de i, on devrait préférer celle de l'arbre le plus petit pour \"écraser\" la forêt. Cf. [Papadimitriou] ou [Cormen] (ou Wikipédia)."
   ]
  },
  {
   "cell_type": "code",
   "execution_count": 422,
   "metadata": {
    "ExecuteTime": {
     "end_time": "2020-09-17T11:24:29.435115Z",
     "start_time": "2020-09-17T11:24:29.421926Z"
    }
   },
   "outputs": [],
   "source": [
    "def union(uf: UnionFindForest, i: int, j: int) -> None:\n",
    "    if uf[i] == aucun or uf[j] == aucun:\n",
    "        raise ValueError(\"Élément i = {} ou j = {} absent de l'UnionFindForest uf = {}\".format(i, j, uf))\n",
    "    else:\n",
    "        r_i = find(uf, i)\n",
    "        uf[r_i] = j\n",
    "        # c'est un des choix possibles, on peut faire l'inverse\n",
    "        # r_j = find(uf, j)\n",
    "        # uf[r_j] = i\n",
    "        # on peut aussi chercher la racine de l'arbre le plus petit\n",
    "        #  pour \"écraser\" (aplatir) la forêt, mais c'est plus compliqué."
   ]
  },
  {
   "cell_type": "markdown",
   "metadata": {},
   "source": [
    "On vérfie avec le même test que pour la première implémentation :"
   ]
  },
  {
   "cell_type": "code",
   "execution_count": 423,
   "metadata": {
    "ExecuteTime": {
     "end_time": "2020-09-17T11:25:05.199755Z",
     "start_time": "2020-09-17T11:25:05.187254Z"
    }
   },
   "outputs": [
    {
     "name": "stdout",
     "output_type": "stream",
     "text": [
      "UnionFindForest uf vide = [False, False, False, False, False, False]\n",
      "UnionFindForest uf rempli par i=0..5 = [True, True, True, True, True, True]\n",
      "find(uf_test, 5) = 5\n",
      "Union de 0 et 1 dans uf, désormais uf = [1, True, True, True, True, True]\n",
      "Union de 2 et 3 dans uf, désormais uf = [1, True, 3, True, True, True]\n",
      "Union de 1 et 5 dans uf, désormais uf = [1, 5, 3, True, True, True]\n",
      "find(uf_test, 0) = 0\n",
      "find(uf_test, 1) = 5\n",
      "find(uf_test, 0) = find(uf_test, 5) ?  False\n",
      "find(uf_test, 3) = find(uf_test, 5) ?  False\n"
     ]
    }
   ],
   "source": [
    "uf_test = create_uf(6)\n",
    "print(\"UnionFindForest uf vide = {}\".format(uf_test))\n",
    "\n",
    "for i in range(0, 5+1):\n",
    "    makeset(uf_test, i)\n",
    "print(\"UnionFindForest uf rempli par i=0..5 = {}\".format(uf_test))\n",
    "\n",
    "print(\"find(uf_test, 5) =\", find(uf_test, 5))\n",
    "union(uf_test, 0, 1)\n",
    "print(\"Union de 0 et 1 dans uf, désormais uf = {}\".format(uf_test))\n",
    "\n",
    "union(uf_test, 2, 3)\n",
    "print(\"Union de 2 et 3 dans uf, désormais uf = {}\".format(uf_test))\n",
    "\n",
    "union(uf_test, 1, 5)\n",
    "print(\"Union de 1 et 5 dans uf, désormais uf = {}\".format(uf_test))\n",
    "\n",
    "print(\"find(uf_test, 0) =\", find(uf_test, 0))\n",
    "print(\"find(uf_test, 1) =\", find(uf_test, 1))\n",
    "\n",
    "print(\"find(uf_test, 0) = find(uf_test, 5) ? \", find(uf_test, 0) == find(uf_test, 5))\n",
    "print(\"find(uf_test, 3) = find(uf_test, 5) ? \", find(uf_test, 3) == find(uf_test, 5))"
   ]
  },
  {
   "cell_type": "markdown",
   "metadata": {},
   "source": [
    "## Exercice 17 : Bonus & discussions"
   ]
  },
  {
   "cell_type": "markdown",
   "metadata": {
    "collapsed": true
   },
   "source": [
    "En classe.\n",
    "\n",
    "Je recommande aussi la lecture de [ce document (en anglais)](http://jeffe.cs.illinois.edu/teaching/algorithms/notes/17-unionfind.pdf), si tout ça vous intéresse et si vous envisagez d'en faire un développement. Ce document contient notamment une analyse bien propre de la complexité amortie de l'opération Find pour l'algorithme optimisé, qui donne une complexité en $\\mathcal{O}(\\alpha(n))$ (pour $n$ valeurs dans la structure Union-Find, et si $\\alpha$ est la fonction inverse d'Ackermann, cf. Theorem 4 page 9)."
   ]
  },
  {
   "cell_type": "markdown",
   "metadata": {},
   "source": [
    "## Bonus : algorithme de Kruskal"
   ]
  },
  {
   "cell_type": "markdown",
   "metadata": {},
   "source": [
    "### Représentations de graphe pondérés"
   ]
  },
  {
   "cell_type": "code",
   "execution_count": 444,
   "metadata": {
    "ExecuteTime": {
     "end_time": "2020-09-17T11:39:38.042986Z",
     "start_time": "2020-09-17T11:39:38.033580Z"
    }
   },
   "outputs": [],
   "source": [
    "from typing import Optional\n",
    "Sommet = int\n",
    "Poids = int\n",
    "AreteMatrix = Optional[Poids]\n",
    "GrapheMatrix = List[List[AreteMatrix]]\n",
    "\n",
    "Destination = Tuple[Sommet, Poids]\n",
    "GrapheList = List[List[Destination]]  # liste d'adjacence"
   ]
  },
  {
   "cell_type": "code",
   "execution_count": 427,
   "metadata": {
    "ExecuteTime": {
     "end_time": "2020-09-17T11:30:30.680504Z",
     "start_time": "2020-09-17T11:30:30.666529Z"
    }
   },
   "outputs": [],
   "source": [
    "def taille_GrapheMatrix(g: GrapheMatrix) -> int:\n",
    "    n = len(g)\n",
    "    assert all([ len(g[i]) == n for i in range(n) ])\n",
    "    return n\n",
    "\n",
    "def taille_GrapheList(g: GrapheList) -> int:\n",
    "    n = len(g)\n",
    "    return n"
   ]
  },
  {
   "cell_type": "markdown",
   "metadata": {},
   "source": [
    "Il est facile d'obtenir la liste d'arête, représentées comme un triplet `(i, j, p)` si l'arête $i \\arrow j$ de poids $p$ est présente dans le graphe.\n",
    "\n",
    "Par exemple avec les graphes représentés par listes d'adjancences :"
   ]
  },
  {
   "cell_type": "code",
   "execution_count": 445,
   "metadata": {
    "ExecuteTime": {
     "end_time": "2020-09-17T11:39:46.227789Z",
     "start_time": "2020-09-17T11:39:46.224236Z"
    }
   },
   "outputs": [],
   "source": [
    "Arete = Tuple[Sommet, Sommet, Poids]"
   ]
  },
  {
   "cell_type": "code",
   "execution_count": 446,
   "metadata": {
    "ExecuteTime": {
     "end_time": "2020-09-17T11:39:47.477251Z",
     "start_time": "2020-09-17T11:39:47.466677Z"
    }
   },
   "outputs": [],
   "source": [
    "def liste_aretes_GrapheList(g: GrapheList) -> List[Arete]:\n",
    "    n = taille_GrapheList(g)\n",
    "    resultat = [\n",
    "        (i, j, p)\n",
    "        for i in range(n)\n",
    "        for (j, p) in g[i]\n",
    "    ]\n",
    "    return resultat"
   ]
  },
  {
   "cell_type": "code",
   "execution_count": 447,
   "metadata": {
    "ExecuteTime": {
     "end_time": "2020-09-17T11:39:49.671875Z",
     "start_time": "2020-09-17T11:39:49.655761Z"
    }
   },
   "outputs": [
    {
     "data": {
      "text/plain": [
       "[(0, 1, 11), (0, 2, 2), (0, 3, 1), (1, 2, 7), (3, 4, 5), (4, 1, 1)]"
      ]
     },
     "execution_count": 447,
     "metadata": {},
     "output_type": "execute_result"
    }
   ],
   "source": [
    "graphe_test: GrapheList = [\n",
    "    [(1, 11), (2, 2), (3, 1)],\n",
    "    [(2, 7)],\n",
    "    [],\n",
    "    [(4, 5)],\n",
    "    [(1, 1)]\n",
    "]\n",
    "\n",
    "liste_aretes_GrapheList(graphe_test)"
   ]
  },
  {
   "cell_type": "markdown",
   "metadata": {},
   "source": [
    "L'algorithme de Kruskal a besoin de trier les arêtes selon leur poids, par ordre croissant, et cela se fait facilement avec le fonction `sorted` de la libraire standard, à laquelle on donne un argument (optionnel) `key` qui est (ici) une fonction extrayant le poids `p` du triplet `(i, j, p)`."
   ]
  },
  {
   "cell_type": "code",
   "execution_count": 456,
   "metadata": {
    "ExecuteTime": {
     "end_time": "2020-09-17T11:47:11.370149Z",
     "start_time": "2020-09-17T11:47:11.352577Z"
    }
   },
   "outputs": [
    {
     "data": {
      "text/plain": [
       "[(0, 3, 1), (4, 1, 1), (0, 2, 2), (3, 4, 5), (1, 2, 7), (0, 1, 11)]"
      ]
     },
     "execution_count": 456,
     "metadata": {},
     "output_type": "execute_result"
    }
   ],
   "source": [
    "aretes = liste_aretes_GrapheList(graphe_test)\n",
    "\n",
    "sorted(aretes,\n",
    "        key = lambda a: a[2]\n",
    "    )"
   ]
  },
  {
   "cell_type": "markdown",
   "metadata": {},
   "source": [
    "### Algorithme de Kruskal\n",
    "\n",
    "Je ne redonne pas d'explications ici, allez voir [Wikipédia](https://fr.wikipedia.org/wiki/Algorithme_de_Kruskal) ou un livre d'algorithmique de référence ([Cormen] ou [Beauquier, Berstel, Chrétienne] par exemple).\n",
    "Voir aussi [cette visualisation](https://www.cs.usfca.edu/~galles/visualization/Kruskal.html), et [cette autre implémentation en Python](https://perso.crans.org/besson/teach/info1_algo1_2019/notebooks/CoursMagistral_6.html#Algorithme-de-Kruskal) (donnée pour le cours d'ALGO1 en L3SIF en 2019).\n",
    "\n",
    "> \"L'algorithme de Kruskal est un algorithme de recherche d'arbre recouvrant de poids minimum ou arbre couvrant minimum dans un graphe connexe non-orienté et pondéré. Il a été conçu en 1956 par Joseph Kruskal.\""
   ]
  },
  {
   "cell_type": "code",
   "execution_count": 487,
   "metadata": {
    "ExecuteTime": {
     "end_time": "2020-09-17T11:53:38.984693Z",
     "start_time": "2020-09-17T11:53:38.970782Z"
    }
   },
   "outputs": [],
   "source": [
    "def kruskal(g: GrapheList) -> List[Arete]:\n",
    "    aretes = liste_aretes_GrapheList(g)\n",
    "    aretes = sorted(aretes,\n",
    "        key = lambda a: a[2]\n",
    "    )\n",
    "    n = taille_GrapheList(g)\n",
    "    uf = create_uf(n)\n",
    "    for i in range(n):\n",
    "        makeset(uf, i)\n",
    "    # uf contient chaque sommet dans des singletons\n",
    "    resultat = []  # liste des arêtes de l'arbre couvrant\n",
    "    for (i, j, p) in aretes:\n",
    "        if (find(uf, i) != find(uf, j)):\n",
    "            resultat.append((i, j, p))\n",
    "            union(uf, i, j)\n",
    "    return resultat"
   ]
  },
  {
   "cell_type": "markdown",
   "metadata": {},
   "source": [
    "Cet algorithme donne bien un arbre couvrant, il faudrait vérifier sa minimalité."
   ]
  },
  {
   "cell_type": "code",
   "execution_count": 489,
   "metadata": {
    "ExecuteTime": {
     "end_time": "2020-09-17T11:53:49.393133Z",
     "start_time": "2020-09-17T11:53:49.380181Z"
    }
   },
   "outputs": [
    {
     "data": {
      "text/plain": [
       "[[(1, 11), (2, 2), (3, 1)], [(2, 7)], [], [(4, 5)], [(1, 1)]]"
      ]
     },
     "execution_count": 489,
     "metadata": {},
     "output_type": "execute_result"
    }
   ],
   "source": [
    "graphe_test"
   ]
  },
  {
   "cell_type": "code",
   "execution_count": 488,
   "metadata": {
    "ExecuteTime": {
     "end_time": "2020-09-17T11:53:45.027601Z",
     "start_time": "2020-09-17T11:53:45.016707Z"
    }
   },
   "outputs": [
    {
     "data": {
      "text/plain": [
       "[(0, 3, 1), (4, 1, 1), (0, 2, 2), (3, 4, 5), (1, 2, 7)]"
      ]
     },
     "execution_count": 488,
     "metadata": {},
     "output_type": "execute_result"
    }
   ],
   "source": [
    "kruskal(graphe_test)"
   ]
  },
  {
   "cell_type": "markdown",
   "metadata": {},
   "source": [
    "----\n",
    "# Conclusion\n",
    "\n",
    "Fin. À la séance prochaine."
   ]
  }
 ],
 "metadata": {
  "kernelspec": {
   "display_name": "Python 3",
   "language": "python",
   "name": "python3"
  },
  "language_info": {
   "codemirror_mode": {
    "name": "ipython",
    "version": 3
   },
   "file_extension": ".py",
   "mimetype": "text/x-python",
   "name": "python",
   "nbconvert_exporter": "python",
   "pygments_lexer": "ipython3",
   "version": "3.6.9"
  },
  "toc": {
   "base_numbering": 1,
   "nav_menu": {
    "height": "511px",
    "width": "251px"
   },
   "number_sections": true,
   "sideBar": true,
   "skip_h1_title": false,
   "title_cell": "Table of Contents",
   "title_sidebar": "Contents",
   "toc_cell": true,
   "toc_position": {},
   "toc_section_display": "block",
   "toc_window_display": true
  },
  "varInspector": {
   "cols": {
    "lenName": 16,
    "lenType": 16,
    "lenVar": 40
   },
   "kernels_config": {
    "python": {
     "delete_cmd_postfix": "",
     "delete_cmd_prefix": "del ",
     "library": "var_list.py",
     "varRefreshCmd": "print(var_dic_list())"
    },
    "r": {
     "delete_cmd_postfix": ") ",
     "delete_cmd_prefix": "rm(",
     "library": "var_list.r",
     "varRefreshCmd": "cat(var_dic_list()) "
    }
   },
   "types_to_exclude": [
    "module",
    "function",
    "builtin_function_or_method",
    "instance",
    "_Feature"
   ],
   "window_display": false
  }
 },
 "nbformat": 4,
 "nbformat_minor": 2
}
