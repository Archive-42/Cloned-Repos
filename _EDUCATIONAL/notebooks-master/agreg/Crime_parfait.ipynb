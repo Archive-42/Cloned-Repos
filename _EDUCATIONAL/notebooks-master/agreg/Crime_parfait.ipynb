{
 "cells": [
  {
   "cell_type": "markdown",
   "metadata": {
    "toc": "true"
   },
   "source": [
    "# Table of Contents\n",
    " <p><div class=\"lev1 toc-item\"><a href=\"#Texte-d'oral-de-modélisation---Agrégation-Option-Informatique\" data-toc-modified-id=\"Texte-d'oral-de-modélisation---Agrégation-Option-Informatique-1\"><span class=\"toc-item-num\">1&nbsp;&nbsp;</span>Texte d'oral de modélisation - Agrégation Option Informatique</a></div><div class=\"lev2 toc-item\"><a href=\"#Préparation-à-l'agrégation---ENS-de-Rennes,-2016-17\" data-toc-modified-id=\"Préparation-à-l'agrégation---ENS-de-Rennes,-2016-17-11\"><span class=\"toc-item-num\">1.1&nbsp;&nbsp;</span>Préparation à l'agrégation - ENS de Rennes, 2016-17</a></div><div class=\"lev2 toc-item\"><a href=\"#À-propos-de-ce-document\" data-toc-modified-id=\"À-propos-de-ce-document-12\"><span class=\"toc-item-num\">1.2&nbsp;&nbsp;</span>À propos de ce document</a></div><div class=\"lev2 toc-item\"><a href=\"#Implémentation\" data-toc-modified-id=\"Implémentation-13\"><span class=\"toc-item-num\">1.3&nbsp;&nbsp;</span>Implémentation</a></div><div class=\"lev3 toc-item\"><a href=\"#Une-bonne-structure-de-donnée-pour-des-intervalles-et-des-graphes-d'intervales\" data-toc-modified-id=\"Une-bonne-structure-de-donnée-pour-des-intervalles-et-des-graphes-d'intervales-131\"><span class=\"toc-item-num\">1.3.1&nbsp;&nbsp;</span>Une bonne structure de donnée pour des intervalles et des graphes d'intervales</a></div><div class=\"lev3 toc-item\"><a href=\"#Algorithme-de-coloriage-de-graphe-d'intervalles\" data-toc-modified-id=\"Algorithme-de-coloriage-de-graphe-d'intervalles-132\"><span class=\"toc-item-num\">1.3.2&nbsp;&nbsp;</span>Algorithme de coloriage de graphe d'intervalles</a></div><div class=\"lev3 toc-item\"><a href=\"#Algorithme-pour-calculer-le-stable-maximum-d'un-graphe-d'intervalles\" data-toc-modified-id=\"Algorithme-pour-calculer-le-stable-maximum-d'un-graphe-d'intervalles-133\"><span class=\"toc-item-num\">1.3.3&nbsp;&nbsp;</span>Algorithme pour calculer le <em>stable maximum</em> d'un graphe d'intervalles</a></div><div class=\"lev2 toc-item\"><a href=\"#Exemples\" data-toc-modified-id=\"Exemples-14\"><span class=\"toc-item-num\">1.4&nbsp;&nbsp;</span>Exemples</a></div><div class=\"lev3 toc-item\"><a href=\"#Qui-a-tué-le-Duc-de-Densmore-?\" data-toc-modified-id=\"Qui-a-tué-le-Duc-de-Densmore-?-141\"><span class=\"toc-item-num\">1.4.1&nbsp;&nbsp;</span>Qui a tué le Duc de Densmore ?</a></div><div class=\"lev4 toc-item\"><a href=\"#Comment-résoudre-ce-problème-?\" data-toc-modified-id=\"Comment-résoudre-ce-problème-?-1411\"><span class=\"toc-item-num\">1.4.1.1&nbsp;&nbsp;</span>Comment résoudre ce problème ?</a></div><div class=\"lev4 toc-item\"><a href=\"#Solution\" data-toc-modified-id=\"Solution-1412\"><span class=\"toc-item-num\">1.4.1.2&nbsp;&nbsp;</span>Solution</a></div><div class=\"lev3 toc-item\"><a href=\"#Le-problème-des-frigos\" data-toc-modified-id=\"Le-problème-des-frigos-142\"><span class=\"toc-item-num\">1.4.2&nbsp;&nbsp;</span>Le problème des frigos</a></div><div class=\"lev3 toc-item\"><a href=\"#Le-problème-du-CSA\" data-toc-modified-id=\"Le-problème-du-CSA-143\"><span class=\"toc-item-num\">1.4.3&nbsp;&nbsp;</span>Le problème du CSA</a></div><div class=\"lev3 toc-item\"><a href=\"#Le-problème-du-wagon-restaurant\" data-toc-modified-id=\"Le-problème-du-wagon-restaurant-144\"><span class=\"toc-item-num\">1.4.4&nbsp;&nbsp;</span>Le problème du wagon restaurant</a></div><div class=\"lev4 toc-item\"><a href=\"#Solution-via-l'algorithme-de-coloriage-de-graphe-d'intervalles\" data-toc-modified-id=\"Solution-via-l'algorithme-de-coloriage-de-graphe-d'intervalles-1441\"><span class=\"toc-item-num\">1.4.4.1&nbsp;&nbsp;</span>Solution via l'algorithme de coloriage de graphe d'intervalles</a></div><div class=\"lev2 toc-item\"><a href=\"#Bonus-?\" data-toc-modified-id=\"Bonus-?-15\"><span class=\"toc-item-num\">1.5&nbsp;&nbsp;</span>Bonus ?</a></div><div class=\"lev3 toc-item\"><a href=\"#Visualisation-des-graphes-définis-dans-les-exemples\" data-toc-modified-id=\"Visualisation-des-graphes-définis-dans-les-exemples-151\"><span class=\"toc-item-num\">1.5.1&nbsp;&nbsp;</span>Visualisation des graphes définis dans les exemples</a></div><div class=\"lev2 toc-item\"><a href=\"#Conclusion\" data-toc-modified-id=\"Conclusion-16\"><span class=\"toc-item-num\">1.6&nbsp;&nbsp;</span>Conclusion</a></div>"
   ]
  },
  {
   "cell_type": "markdown",
   "metadata": {},
   "source": [
    "# Texte d'oral de modélisation - Agrégation Option Informatique\n",
    "## Préparation à l'agrégation - ENS de Rennes, 2016-17\n",
    "- *Date* : 3 avril 2017\n",
    "- *Auteur* : [Lilian Besson](https://GitHub.com/Naereen/notebooks/)\n",
    "- *Texte*: Annale 2006, \"Crime Parfait\""
   ]
  },
  {
   "cell_type": "markdown",
   "metadata": {},
   "source": [
    "## À propos de ce document\n",
    "- Ceci est une *proposition* de correction, partielle et probablement non-optimale, pour la partie implémentation d'un [texte d'annale de l'agrégation de mathématiques, option informatique](http://Agreg.org/Textes/).\n",
    "- Ce document est un [notebook Jupyter](https://www.Jupyter.org/), et [est open-source sous Licence MIT sur GitHub](https://github.com/Naereen/notebooks/tree/master/agreg/), comme les autres solutions de textes de modélisation que [j](https://GitHub.com/Naereen)'ai écrite cette année.\n",
    "- L'implémentation sera faite en OCaml, version 4+ :"
   ]
  },
  {
   "cell_type": "code",
   "execution_count": 1,
   "metadata": {},
   "outputs": [
    {
     "name": "stdout",
     "output_type": "stream",
     "text": [
      "The OCaml toplevel, version 4.04.2\n"
     ]
    },
    {
     "data": {
      "text/plain": [
       "- : int = 0\n"
      ]
     },
     "execution_count": 1,
     "metadata": {},
     "output_type": "execute_result"
    }
   ],
   "source": [
    "Sys.command \"ocaml -version\";;"
   ]
  },
  {
   "cell_type": "markdown",
   "metadata": {},
   "source": [
    "----\n",
    "## Implémentation\n",
    "La question d'implémentation était la question 2) en page 7.\n",
    "\n",
    "> « Proposer une structure de donnée adaptée pour représenter un graphe d'intervalles dont une représentation sous forme de famille d’intervalles est connue.\n",
    "> Implémenter de manière efficace l’algorithme de coloriage de graphes d'intervalles et illustrer cet algorithme sur une application bien choisie citée dans le texte. »\n",
    "\n",
    "Nous allons donc d'abord définir une structure de donnée pour une famille d'intervalles ainsi que pour un graphe d'intervalle, ainsi qu'une fonction convertissant l'un en l'autre.\n",
    "\n",
    "Cela permettra de facilement définr les différents exemples du texte, et de les résoudre."
   ]
  },
  {
   "cell_type": "markdown",
   "metadata": {},
   "source": [
    "### Une bonne structure de donnée pour des intervalles et des graphes d'intervales\n",
    "\n",
    "- Pour des **intervalles** à valeurs réelles, on se restreint par convénience à des valeurs entières."
   ]
  },
  {
   "cell_type": "code",
   "execution_count": 2,
   "metadata": {},
   "outputs": [
    {
     "data": {
      "text/plain": [
       "type intervalle = int * int\n"
      ]
     },
     "execution_count": 2,
     "metadata": {},
     "output_type": "execute_result"
    },
    {
     "data": {
      "text/plain": [
       "type intervalles = intervalle list\n"
      ]
     },
     "execution_count": 2,
     "metadata": {},
     "output_type": "execute_result"
    }
   ],
   "source": [
    "type intervalle = (int * int);;\n",
    "type intervalles = intervalle list;;"
   ]
  },
  {
   "cell_type": "markdown",
   "metadata": {},
   "source": [
    "- Pour des **graphes d'intervalles**, on utilise une simple représentation sous forme de liste d'adjacence, plus facile à mettre en place en OCaml qu'une représentation sous forme de matrice. Ici, tous nos graphes ont pour sommets $0 \\dots n - 1$."
   ]
  },
  {
   "cell_type": "code",
   "execution_count": 3,
   "metadata": {
    "scrolled": true
   },
   "outputs": [
    {
     "data": {
      "text/plain": [
       "type sommet = int\n"
      ]
     },
     "execution_count": 3,
     "metadata": {},
     "output_type": "execute_result"
    },
    {
     "data": {
      "text/plain": [
       "type voisins = sommet list\n"
      ]
     },
     "execution_count": 3,
     "metadata": {},
     "output_type": "execute_result"
    },
    {
     "data": {
      "text/plain": [
       "type graphe_intervalle = voisins list\n"
      ]
     },
     "execution_count": 3,
     "metadata": {},
     "output_type": "execute_result"
    }
   ],
   "source": [
    "type sommet = int;;\n",
    "type voisins = sommet list;;\n",
    "type graphe_intervalle = voisins list;;"
   ]
  },
  {
   "cell_type": "markdown",
   "metadata": {},
   "source": [
    "> *Note:* j'ai préféré garder une structure très simple, pour les intervalles, les graphes d'intervalles et les coloriages, mais on perd un peu en lisibilité dans la fonction coloriage.\n",
    "> \n",
    "> Implicitement, dès qu'une liste d'intervalles est fixée, de taille $n$, ils sont numérotés de $0$ à $n-1$. Le graphe `g` aura pour sommet $0 \\dots n-1$, et le coloriage sera un simple tableau de couleurs `c` (i.e., d'entiers), donnant en `c[i]` la couleur de l'intervalle numéro `i`.\n",
    ">\n",
    "> Une solution plus intelligente aurait été d'utiliser des tables d'association, cf. le module [Map](http://caml.inria.fr/pub/docs/manual-ocaml/libref/Map.html) de OCaml, et le code proposé par Julien durant son oral."
   ]
  },
  {
   "cell_type": "markdown",
   "metadata": {},
   "source": [
    "- On peut rapidement écrire une fonction qui va convertir une liste d'intervalle (`intervalles`) en un graphe d'intervalle. On crée les sommets du graphes, via `index_intvls` qui associe un intervalle à son indice, et ensuite on ajoute les arêtes au graphe selon les contraintes définissant un graphe d'intervalle :\n",
    "\n",
    "  $$ \\forall I, I' \\in V, (I,I') \\in E \\Leftrightarrow I \\neq I' \\;\\text{and}\\; I \\cap I' \\neq \\emptyset $$\n",
    "  \n",
    "  Donc avec des intervales $I = [x,y]$ et $I' = [a,b]$, cela donne :\n",
    "\n",
    "  $$ \\forall I = [x,y], I' = [a,b] \\in V, (I,I') \\in E \\Leftrightarrow (x,y) \\neq (a,b) \\;\\text{and}\\; \\neg (b < x \\;\\text{or}\\; y < a) $$"
   ]
  },
  {
   "cell_type": "code",
   "execution_count": 4,
   "metadata": {},
   "outputs": [
    {
     "data": {
      "text/plain": [
       "val graphe_depuis_intervalles : intervalles -> graphe_intervalle = <fun>\n"
      ]
     },
     "execution_count": 4,
     "metadata": {},
     "output_type": "execute_result"
    }
   ],
   "source": [
    "let graphe_depuis_intervalles (intvls : intervalles) : graphe_intervalle =\n",
    "    let n = List.length intvls in                   (* Nomber de sommet *)\n",
    "    let array_intvls = Array.of_list intvls in      (* Tableau des intervalles *)\n",
    "    let index_intvls = Array.to_list (\n",
    "        Array.init n (fun i -> (\n",
    "            array_intvls.(i), i)                    (* Associe un intervalle à son indice *)\n",
    "        )\n",
    "    ) in\n",
    "    let gr = List.map (fun (a, b) ->                (* Pour chaque intervalle [a, b] *)\n",
    "        List.filter (fun (x, y) ->                  (* On ajoute [x, y] s'il intersecte [a, b] *)\n",
    "            (x, y) <> (a, b)                        (* Intervalle différent *)\n",
    "            && not ( (b < x) || (y < a) )           (* pas x---y a---b ni a---b x---y *)\n",
    "        ) intvls\n",
    "    ) intvls in\n",
    "    (* On transforme la liste de liste d'intervalles en une liste de liste d'entiers *)\n",
    "    List.map (fun voisins ->\n",
    "        List.map (fun sommet ->                     (* Grace au tableau index_intvls *)\n",
    "            List.assoc sommet index_intvls\n",
    "        ) voisins\n",
    "    ) gr\n",
    ";;"
   ]
  },
  {
   "cell_type": "markdown",
   "metadata": {},
   "source": [
    "### Algorithme de coloriage de graphe d'intervalles\n",
    "\n",
    "> Étant donné un graphe $G = (V, E)$, on cherche un entier $n$ minimal et une fonction $c : V \\to \\{1, \\cdots, n\\}$ telle que si $(v_1 , v_2) \\in E$, alors $c(v_1) \\neq c(v_2)$.\n",
    "\n",
    "On suit les indications de l'énoncé pour implémenter facilement cet algorithme.\n",
    "\n",
    "> Une *heuristique* simple pour résoudre ce problème consiste à appliquer l’algorithme glouton suivant :\n",
    "> - tant qu'il reste reste des sommets non coloriés,\n",
    ">    + en choisir un\n",
    ">    + et le colorier avec le plus petit entier qui n’apparait pas dans les voisins déjà coloriés.\n",
    "\n",
    "\n",
    "> En choisissant bien le nouveau sommet à colorier à chaque fois, cette heuristique se révelle optimale pour les graphes d’intervalles.\n",
    "\n",
    "On peut d'abord définir un type de donnée pour un coloriage, sous la forme d'une liste de couple d'intervalle et de couleur.\n",
    "Ainsi, `List.assoc` peut être utilisée pour donner le coloriage de chaque intervalle."
   ]
  },
  {
   "cell_type": "code",
   "execution_count": 5,
   "metadata": {},
   "outputs": [
    {
     "data": {
      "text/plain": [
       "type couleur = int\n"
      ]
     },
     "execution_count": 5,
     "metadata": {},
     "output_type": "execute_result"
    },
    {
     "data": {
      "text/plain": [
       "type coloriage = (intervalle * couleur) list\n"
      ]
     },
     "execution_count": 5,
     "metadata": {},
     "output_type": "execute_result"
    },
    {
     "data": {
      "text/plain": [
       "val coloriage_depuis_couleurs : intervalles -> couleur array -> coloriage =\n",
       "  <fun>\n"
      ]
     },
     "execution_count": 5,
     "metadata": {},
     "output_type": "execute_result"
    },
    {
     "data": {
      "text/plain": [
       "val quelle_couleur : intervalle -> coloriage -> couleur = <fun>\n"
      ]
     },
     "execution_count": 5,
     "metadata": {},
     "output_type": "execute_result"
    }
   ],
   "source": [
    "type couleur = int;;\n",
    "type coloriage = (intervalle * couleur) list;;\n",
    "\n",
    "let coloriage_depuis_couleurs (intvl : intervalles) (c : couleur array) : coloriage =\n",
    "    Array.to_list (Array.init (Array.length c) (fun i -> (List.nth intvl i), c.(i)));;\n",
    "\n",
    "let quelle_couleur (intvl : intervalle) (colors : coloriage) = \n",
    "    List.assoc intvl colors\n",
    ";;"
   ]
  },
  {
   "cell_type": "markdown",
   "metadata": {},
   "source": [
    "Ensuite, l'ordre partiel $\\prec_i$ sur les intervalles est défini comme ça :\n",
    "\n",
    "$$ I = (a,b) \\prec_i J=(x, y) \\Longleftrightarrow a < x $$"
   ]
  },
  {
   "cell_type": "code",
   "execution_count": 8,
   "metadata": {},
   "outputs": [
    {
     "data": {
      "text/plain": [
       "val ordre_partiel : intervalle -> intervalle -> bool = <fun>\n"
      ]
     },
     "execution_count": 8,
     "metadata": {},
     "output_type": "execute_result"
    }
   ],
   "source": [
    "let ordre_partiel ((a, _) : intervalle) ((x, _) : intervalle) =\n",
    "    a < x\n",
    ";;"
   ]
  },
  {
   "cell_type": "markdown",
   "metadata": {},
   "source": [
    "On a ensuite besoin d'une fonction qui va calculer l'inf de $\\mathbb{N} \\setminus \\{x : x \\in \\mathrm{valeurs} \\}$:"
   ]
  },
  {
   "cell_type": "code",
   "execution_count": 9,
   "metadata": {},
   "outputs": [
    {
     "data": {
      "text/plain": [
       "val inf_N_minus : int list -> int = <fun>\n"
      ]
     },
     "execution_count": 9,
     "metadata": {},
     "output_type": "execute_result"
    }
   ],
   "source": [
    "let inf_N_minus valeurs =\n",
    "    let res = ref 0 in  (* Très important d'utiliser une référence ! *)\n",
    "    while List.mem !res valeurs do\n",
    "        incr res;\n",
    "    done;\n",
    "    !res\n",
    ";;"
   ]
  },
  {
   "cell_type": "markdown",
   "metadata": {},
   "source": [
    "On vérifie rapidement sur deux exemples :"
   ]
  },
  {
   "cell_type": "code",
   "execution_count": 10,
   "metadata": {},
   "outputs": [
    {
     "data": {
      "text/plain": [
       "- : int = 2\n"
      ]
     },
     "execution_count": 10,
     "metadata": {},
     "output_type": "execute_result"
    },
    {
     "data": {
      "text/plain": [
       "- : int = 7\n"
      ]
     },
     "execution_count": 10,
     "metadata": {},
     "output_type": "execute_result"
    }
   ],
   "source": [
    "inf_N_minus [0; 1; 3];;  (* 2 *)\n",
    "inf_N_minus [0; 1; 2; 3; 4; 5; 6; 10];; (* 7 *)"
   ]
  },
  {
   "cell_type": "markdown",
   "metadata": {},
   "source": [
    "Enfin, on a besoin d'une fonction pour trouver l'intervalle $I \\in V$, minimal pour $\\prec_i$, tel que $c(I) = +\\infty$."
   ]
  },
  {
   "cell_type": "code",
   "execution_count": 11,
   "metadata": {},
   "outputs": [
    {
     "data": {
      "text/plain": [
       "val trouve_min_interval :\n",
       "  intervalle list -> coloriage -> couleur -> intervalle = <fun>\n"
      ]
     },
     "execution_count": 11,
     "metadata": {},
     "output_type": "execute_result"
    }
   ],
   "source": [
    "let trouve_min_interval intvl (c : coloriage) (inf : couleur) =\n",
    "    let colorie inter = quelle_couleur inter c in\n",
    "    (* D'abord on extraie {I : c(I) = +oo} *)\n",
    "    let intvl2 = List.filter (fun i -> (colorie i) = inf) intvl in\n",
    "    (* Puis on parcourt la liste et on garde le plus petit pour l'ordre *)\n",
    "    let i0 = ref 0 in\n",
    "    for j = 1 to (List.length intvl2) - 1 do\n",
    "        if ordre_partiel (List.nth intvl2 j) (List.nth intvl2 !i0) then\n",
    "            i0 := j;\n",
    "    done;\n",
    "    List.nth intvl2 !i0;\n",
    ";;"
   ]
  },
  {
   "cell_type": "markdown",
   "metadata": {},
   "source": [
    "Et donc tout cela permet de finir l'algorithme, tel que décrit dans le texte :\n",
    "\n",
    "<img style=\"width:65%;\" alt=\"images/algorithme_coloriage.png\" src=\"images/algorithme_coloriage.png\">"
   ]
  },
  {
   "cell_type": "code",
   "execution_count": 12,
   "metadata": {},
   "outputs": [
    {
     "data": {
      "text/plain": [
       "val coloriage_intervalles : intervalles -> coloriage = <fun>\n"
      ]
     },
     "execution_count": 12,
     "metadata": {},
     "output_type": "execute_result"
    }
   ],
   "source": [
    "let coloriage_intervalles (intvl : intervalles) : coloriage =\n",
    "    let n = List.length intvl in   (* Nombre d'intervalles *)\n",
    "    let array_intvls = Array.of_list intvl in      (* Tableau des intervalles *)\n",
    "    let index_intvls = Array.to_list (\n",
    "        Array.init n (fun i -> (\n",
    "            array_intvls.(i), i)                    (* Associe un intervalle à son indice *)\n",
    "        )\n",
    "    ) in\n",
    "    let gr = graphe_depuis_intervalles intvl in\n",
    "    let inf = n + 10000 in           (* Grande valeur, pour +oo *)\n",
    "    let c = Array.make n inf in      (* Liste des couleurs, c(I) = +oo pour tout I *)\n",
    "    let maxarray = Array.fold_left max (-inf - 10000) in  (* Initialisé à -oo *)\n",
    "    while maxarray c = inf do      (* Il reste un I in V tel que c(I) = +oo *)\n",
    "        begin (* C'est la partie pas élégante *)\n",
    "            (* On récupère le coloriage depuis la liste de couleurs actuelle *)\n",
    "            let coloriage = (coloriage_depuis_couleurs intvl c) in\n",
    "            (* Puis la fonction [colorie] pour associer une couleur à un intervalle *)\n",
    "            let colorie inter = quelle_couleur inter coloriage in\n",
    "            (* On choisit un I, minimal pour ordre_partiel, tel que c(I) = +oo *)\n",
    "            let inter = trouve_min_interval intvl coloriage inf in\n",
    "            (* On trouve son indice *)\n",
    "            let i = List.assoc inter index_intvls in\n",
    "            (* On trouve les voisins de i dans le graphe *)\n",
    "            let adj_de_i = List.nth gr i in\n",
    "            (* Puis les voisins de I en tant qu'intervalles *)\n",
    "            let adj_de_I = List.map (fun j -> List.nth intvl j) adj_de_i in\n",
    "            (* Puis on récupère leurs couleurs *)\n",
    "            let valeurs = List.map colorie adj_de_I in\n",
    "            (* c(I) = inf(N - {c(J) : J adjacent a I} ) *)\n",
    "            c.(i) <- inf_N_minus valeurs;\n",
    "        end;\n",
    "    done;\n",
    "    coloriage_depuis_couleurs intvl c;\n",
    ";;"
   ]
  },
  {
   "cell_type": "markdown",
   "metadata": {},
   "source": [
    "Une fois qu'on a un coloriage, à valeurs dans $0,\\dots,k$ on récupère le nombre de couleurs comme $1 + \\max c$, i.e., $k+1$."
   ]
  },
  {
   "cell_type": "code",
   "execution_count": 13,
   "metadata": {},
   "outputs": [
    {
     "data": {
      "text/plain": [
       "val max_valeurs : int list -> int = <fun>\n"
      ]
     },
     "execution_count": 13,
     "metadata": {},
     "output_type": "execute_result"
    }
   ],
   "source": [
    "let max_valeurs = List.fold_left max 0;;"
   ]
  },
  {
   "cell_type": "code",
   "execution_count": 14,
   "metadata": {},
   "outputs": [
    {
     "data": {
      "text/plain": [
       "val nombre_chromatique : coloriage -> int = <fun>\n"
      ]
     },
     "execution_count": 14,
     "metadata": {},
     "output_type": "execute_result"
    }
   ],
   "source": [
    "let nombre_chromatique (colorg : coloriage) : int =\n",
    "     1 + max_valeurs (List.map snd colorg)\n",
    ";;"
   ]
  },
  {
   "cell_type": "markdown",
   "metadata": {},
   "source": [
    "### Algorithme pour calculer le *stable maximum* d'un graphe d'intervalles\n",
    "On répond ici à la question 7.\n",
    "\n",
    "> « Proposer un algorithme efficace pour construire un stable maximum (i.e., un ensemble de sommets indépendants) d'un graphe d’intervalles dont on connaı̂t une représentation sous forme d'intervalles.\n",
    "> On pourra chercher à quelle condition l'intervalle dont l'extrémité droite est la plus à gauche appartient à un stable maximum. »"
   ]
  },
  {
   "cell_type": "markdown",
   "metadata": {},
   "source": [
    "**FIXME, je ne l'ai pas encore fait.**"
   ]
  },
  {
   "cell_type": "markdown",
   "metadata": {},
   "source": [
    "----\n",
    "## Exemples\n",
    "On traite ici l'exemple introductif, ainsi que les trois autres exemples proposés."
   ]
  },
  {
   "cell_type": "markdown",
   "metadata": {},
   "source": [
    "### Qui a tué le Duc de Densmore ?\n",
    "\n",
    "> On ne rappelle pas le problème, mais les données :\n",
    "\n",
    "> - Ann dit avoir vu Betty, Cynthia, Emily, Felicia et Georgia.\n",
    "- Betty dit avoir vu Ann, Cynthia et Helen.\n",
    "- Cynthia dit avoir vu Ann, Betty, Diana, Emily et Helen.\n",
    "- Diana dit avoir vu Cynthia et Emily.\n",
    "- Emily dit avoir vu Ann, Cynthia, Diana et Felicia.\n",
    "- Felicia dit avoir vu Ann et Emily.\n",
    "- Georgia dit avoir vu Ann et Helen.\n",
    "- Helen dit avoir vu Betty, Cynthia et Georgia.\n",
    "\n",
    "Transcrit sous forme de graphe, cela donne :"
   ]
  },
  {
   "cell_type": "code",
   "execution_count": 15,
   "metadata": {},
   "outputs": [
    {
     "data": {
      "text/plain": [
       "val ann : int = 0\n",
       "val betty : int = 1\n",
       "val cynthia : int = 2\n",
       "val diana : int = 3\n",
       "val emily : int = 4\n",
       "val felicia : int = 5\n",
       "val georgia : int = 6\n",
       "val helen : int = 7\n"
      ]
     },
     "execution_count": 15,
     "metadata": {},
     "output_type": "execute_result"
    },
    {
     "data": {
      "text/plain": [
       "val graphe_densmore : int list list =\n",
       "  [[1; 2; 4; 5; 6]; [0; 2; 7]; [0; 1; 3; 4; 7]; [2; 4]; [0; 2; 3; 5]; \n",
       "   [0; 4]; [0; 7]; [1; 2; 6]]\n"
      ]
     },
     "execution_count": 15,
     "metadata": {},
     "output_type": "execute_result"
    }
   ],
   "source": [
    "(* On définit des entiers, c'est plus simple *)\n",
    "let ann = 0\n",
    "and betty = 1\n",
    "and cynthia = 2\n",
    "and diana = 3\n",
    "and emily = 4\n",
    "and felicia = 5\n",
    "and georgia = 6\n",
    "and helen = 7;;\n",
    "\n",
    "let graphe_densmore = [\n",
    "    [betty; cynthia; emily; felicia; georgia];  (* Ann *)\n",
    "    [ann; cynthia; helen]; (* Betty *)\n",
    "    [ann; betty; diana; emily; helen]; (* Cynthia *)\n",
    "    [cynthia; emily]; (* Diana *)\n",
    "    [ann; cynthia; diana; felicia]; (* Emily *)\n",
    "    [ann; emily]; (* Felicia *)\n",
    "    [ann; helen]; (* Georgia *)\n",
    "    [betty; cynthia; georgia] (* Helen *)\n",
    "];;"
   ]
  },
  {
   "cell_type": "markdown",
   "metadata": {},
   "source": [
    "![images/densmore.png](images/densmore.png)\n",
    "> Figure 1. Graphe d'intervalle pour le problème de l'assassinat du duc de Densmore."
   ]
  },
  {
   "cell_type": "markdown",
   "metadata": {},
   "source": [
    "Avec les prénoms plutôt que des numéros, cela donne :"
   ]
  },
  {
   "cell_type": "markdown",
   "metadata": {},
   "source": [
    "![images/densmore2.png](images/densmore2.png)\n",
    "> Figure 2. Graphe d'intervalle pour le problème de l'assassinat du duc de Densmore."
   ]
  },
  {
   "cell_type": "markdown",
   "metadata": {},
   "source": [
    "#### Comment résoudre ce problème ?\n",
    "> Il faut utiliser la caractérisation du théorème 2 du texte, et la définition des graphes parfaits.\n",
    "\n",
    "- Définition + Théorème 2 (point 1) :\n",
    "\n",
    "On sait qu'un graphe d'intervalle est parfait, et donc tous ses graphes induits le sont aussi.\n",
    "La caractérisation via les cordes sur les cycles de taille $\\geq 4$ permet de dire qu'un quadrilatère (cycle de taille $4$) n'est pas un graphe d'intervalle.\n",
    "Donc un graphe qui contient un graphe induit étant un quadrilatère ne peut être un graphe d'intervalle.\n",
    "\n",
    "Ainsi, sur cet exemple, comme on a deux quadrilatères $A B H G$ et $A G H C$, on en déduit que $A$, $G$, ou $H$ ont menti.\n",
    "\n",
    "- Théorème 2 (point 2) :\n",
    "\n",
    "Ensuite, si on enlève $G$ ou $H$, le graphe ne devient pas un graphe d'intervalle, par les considérations suivantes, parce que son complémentaire n'est pas un graphe de comparaison.\n",
    "\n",
    "En effet, par exemple si on enlève $G$, $A$ et $H$ et $D$ forment une clique dans le complémentaire $\\overline{G}$ de $G$, et l'irréflexivité d'une éventuelle relation $R$ rend cela impossible. Pareil si on enlève $H$, avec $G$ et $B$ et $D$ qui formet une clique dans $\\overline{G}$.\n",
    "\n",
    "Par contre, si on enlève $A$, le graphe devient triangulé (et de comparaison, mais c'est plus dur à voir !).\n",
    "\n",
    "Donc seule $A$ reste comme potentielle menteuse."
   ]
  },
  {
   "cell_type": "markdown",
   "metadata": {},
   "source": [
    "> « Mais... Ça semble difficile de programmer une résolution automatique de ce problème ? »\n",
    "\n",
    "En fait, il suffit d'écrire une fonction de vérification qu'un graphe est un graphe d'intervalle, puis on essaie d'enlever chaque sommet, tant que le graphe n'est pas un graphe d'intervalle.\n",
    "\n",
    "Si le graphe devient valide en enlevant un seul sommet, et qu'il n'y en a qu'un seul qui fonctionne, alors il y a un(e) seul(e) menteur(se) dans le graphe, et donc un(e) seul(e) coupable !"
   ]
  },
  {
   "cell_type": "markdown",
   "metadata": {},
   "source": [
    "#### Solution\n",
    "\n",
    "C'est donc $A$, i.e., Ann l'unique menteuse et donc la coupable.\n",
    "\n",
    "> Ce n'est pas grave de ne pas avoir réussi à répondre durant l'oral !\n",
    "> Au contraire, vous avez le droit de vous détacher du problème initial du texte !"
   ]
  },
  {
   "cell_type": "markdown",
   "metadata": {},
   "source": [
    "> Une solution bien expliquée peut être trouvée dans [cette vidéo](https://youtu.be/ZGhSyVvOelg) :"
   ]
  },
  {
   "cell_type": "markdown",
   "metadata": {},
   "source": [
    "<iframe width=\"640\" height=\"360\" src=\"https://www.youtube.com/embed/ZGhSyVvOelg\" frameborder=\"1\" allowfullscreen></iframe>"
   ]
  },
  {
   "cell_type": "markdown",
   "metadata": {},
   "source": [
    "### Le problème des frigos\n",
    "> Dans un grand hopital, les réductions de financement public poussent le gestionnaire du service d'immunologie à faire des économies sur le nombre de frigos à acheter pour stocker les vaccins. A peu de chose près, il lui faut stocker les vaccins suivants :\n",
    "\n",
    "> | Numéro | Nom du vaccin | Température de conservation\n",
    "| :-----: | :------------ | -------------------------: |\n",
    "| 0 | Rougeole-Rubéole-Oreillons (RRO) | $4 \\cdots 12$ °C\n",
    "| 1 | BCG                              | $8 \\cdots 15$ °C\n",
    "| 2 | Di-Te-Per                        | $0 \\cdots 20$ °C\n",
    "| 3 | Anti-polio                       | $2 \\cdots 3$ °C\n",
    "| 4 | Anti-hépatite B                  | $-3 \\cdots 6$ °C\n",
    "| 5 | Anti-amarile                     | $-10 \\cdots 10$ °C\n",
    "| 6 | Variole                          | $6 \\cdots 20$ °C\n",
    "| 7 | Varicelle                        | $-5 \\cdots 2$ °C\n",
    "| 8 | Antihaemophilus                  | $-2 \\cdots 8$ °C\n",
    "\n",
    "> Combien le gestionaire doit-il acheter de frigos, et sur quelles températures doit-il les régler ?"
   ]
  },
  {
   "cell_type": "code",
   "execution_count": 16,
   "metadata": {},
   "outputs": [
    {
     "data": {
      "text/plain": [
       "val vaccins : intervalles =\n",
       "  [(4, 12); (8, 15); (0, 20); (2, 3); (-3, 6); (-10, 10); (6, 20); (-5, 2);\n",
       "   (-2, 8)]\n"
      ]
     },
     "execution_count": 16,
     "metadata": {},
     "output_type": "execute_result"
    }
   ],
   "source": [
    "let vaccins : intervalles = [\n",
    "    (4, 12);\n",
    "    (8, 15);\n",
    "    (0, 20);\n",
    "    (2, 3);\n",
    "    (-3, 6);\n",
    "    (-10, 10);\n",
    "    (6, 20);\n",
    "    (-5, 2);\n",
    "    (-2, 8)\n",
    "]"
   ]
  },
  {
   "cell_type": "markdown",
   "metadata": {},
   "source": [
    "Qu'on peut visualiser sous forme de graphe facilement :"
   ]
  },
  {
   "cell_type": "code",
   "execution_count": 17,
   "metadata": {},
   "outputs": [
    {
     "data": {
      "text/plain": [
       "val graphe_vaccins : graphe_intervalle =\n",
       "  [[1; 2; 4; 5; 6; 8]; [0; 2; 5; 6; 8]; [0; 1; 3; 4; 5; 6; 7; 8];\n",
       "   [2; 4; 5; 7; 8]; [0; 2; 3; 5; 6; 7; 8]; [0; 1; 2; 3; 4; 6; 7; 8];\n",
       "   [0; 1; 2; 4; 5; 8]; [2; 3; 4; 5; 8]; [0; 1; 2; 3; 4; 5; 6; 7]]\n"
      ]
     },
     "execution_count": 17,
     "metadata": {},
     "output_type": "execute_result"
    }
   ],
   "source": [
    "let graphe_vaccins = graphe_depuis_intervalles vaccins;;"
   ]
  },
  {
   "cell_type": "markdown",
   "metadata": {},
   "source": [
    "![images/vaccins.png](images/vaccins.png)\n",
    "> Figure 3. Graphe d'intervalle pour le problème des frigos et des vaccins."
   ]
  },
  {
   "cell_type": "markdown",
   "metadata": {},
   "source": [
    "Avec des intervalles au lieu de numéro :"
   ]
  },
  {
   "cell_type": "markdown",
   "metadata": {},
   "source": [
    "![images/vaccins2.png](images/vaccins2.png)\n",
    "> Figure 4. Graphe d'intervalle pour le problème des frigos et des vaccins."
   ]
  },
  {
   "cell_type": "markdown",
   "metadata": {},
   "source": [
    "On peut récupérer une coloriage minimal pour ce graphe :"
   ]
  },
  {
   "cell_type": "code",
   "execution_count": 18,
   "metadata": {},
   "outputs": [
    {
     "data": {
      "text/plain": [
       "- : coloriage =\n",
       "[((4, 12), 1); ((8, 15), 2); ((0, 20), 4); ((2, 3), 5); ((-3, 6), 2);\n",
       " ((-10, 10), 0); ((6, 20), 5); ((-5, 2), 1); ((-2, 8), 3)]\n"
      ]
     },
     "execution_count": 18,
     "metadata": {},
     "output_type": "execute_result"
    }
   ],
   "source": [
    "coloriage_intervalles vaccins;;"
   ]
  },
  {
   "cell_type": "markdown",
   "metadata": {},
   "source": [
    "La couleur la plus grande est `5`, donc le nombre chromatique de ce graphe est `6`."
   ]
  },
  {
   "cell_type": "code",
   "execution_count": 19,
   "metadata": {},
   "outputs": [
    {
     "data": {
      "text/plain": [
       "- : int = 6\n"
      ]
     },
     "execution_count": 19,
     "metadata": {},
     "output_type": "execute_result"
    }
   ],
   "source": [
    "nombre_chromatique (coloriage_intervalles vaccins);;"
   ]
  },
  {
   "cell_type": "markdown",
   "metadata": {},
   "source": [
    "Par contre, la solution au problème des frigos et des vaccins réside dans le nombre de couverture de cliques, $k(G)$, pas dans le nombre chromatique $\\chi(G)$.\n",
    "\n",
    "On peut le résoudre en répondant à la question 7, qui demandait de mettre au point un algorithme pour construire un *stable maximum* pour un graphe d'intervalle."
   ]
  },
  {
   "cell_type": "markdown",
   "metadata": {},
   "source": [
    "### Le problème du CSA\n",
    "\n",
    "> Le Conseil Supérieur de l’Audiovisuel doit attribuer de nouvelles bandes de fréquences d’émission pour la stéréophonie numérique sous-terraine (SNS).\n",
    "> Cette technologie de pointe étant encore à l'état expérimental, les appareils capables d'émettre ne peuvent utiliser que les bandes de fréquences FM suivantes :\n",
    "\n",
    "> | Bandes de fréquence | Intervalle (kHz) |\n",
    "| :-----------------: | ---------: |\n",
    "| 0 | $32 \\cdots 36$ |\n",
    "| 1 | $24 \\cdots 30$ |\n",
    "| 2 | $28 \\cdots 33$ |\n",
    "| 3 | $22 \\cdots 26$ |\n",
    "| 4 | $20 \\cdots 25$ |\n",
    "| 5 | $30 \\cdots 33$ |\n",
    "| 6 | $31 \\cdots 34$ |\n",
    "| 7 | $27 \\cdots 31$ |\n",
    "\n",
    "> Quelles bandes de fréquences doit-on retenir pour permettre à le plus d'appareils possibles d'être utilisés, sachant que deux appareils dont les bandes de fréquences s'intersectent pleinement (pas juste sur les extrémités) sont incompatibles."
   ]
  },
  {
   "cell_type": "code",
   "execution_count": 20,
   "metadata": {},
   "outputs": [
    {
     "data": {
      "text/plain": [
       "val csa : intervalles =\n",
       "  [(32, 36); (24, 30); (28, 33); (22, 26); (20, 25); (30, 33); (31, 34);\n",
       "   (27, 31)]\n"
      ]
     },
     "execution_count": 20,
     "metadata": {},
     "output_type": "execute_result"
    }
   ],
   "source": [
    "let csa : intervalles = [\n",
    "    (32, 36);\n",
    "    (24, 30);\n",
    "    (28, 33);\n",
    "    (22, 26);\n",
    "    (20, 25);\n",
    "    (30, 33);\n",
    "    (31, 34);\n",
    "    (27, 31)\n",
    "];;"
   ]
  },
  {
   "cell_type": "code",
   "execution_count": 21,
   "metadata": {},
   "outputs": [
    {
     "data": {
      "text/plain": [
       "val graphe_csa : graphe_intervalle =\n",
       "  [[2; 5; 6]; [2; 3; 4; 5; 7]; [0; 1; 5; 6; 7]; [1; 4]; [1; 3];\n",
       "   [0; 1; 2; 6; 7]; [0; 2; 5; 7]; [1; 2; 5; 6]]\n"
      ]
     },
     "execution_count": 21,
     "metadata": {},
     "output_type": "execute_result"
    }
   ],
   "source": [
    "let graphe_csa = graphe_depuis_intervalles csa;;"
   ]
  },
  {
   "cell_type": "markdown",
   "metadata": {},
   "source": [
    "![images/csa.png](images/csa.png)\n",
    "> Figure 5. Graphe d'intervalle pour le problème du CSA."
   ]
  },
  {
   "cell_type": "markdown",
   "metadata": {},
   "source": [
    "Avec des intervalles au lieu de numéro :"
   ]
  },
  {
   "cell_type": "markdown",
   "metadata": {},
   "source": [
    "![images/csa2.png](images/csa2.png)\n",
    "> Figure 6. Graphe d'intervalle pour le problème du CSA."
   ]
  },
  {
   "cell_type": "markdown",
   "metadata": {},
   "source": [
    "On peut récupérer une coloriage minimal pour ce graphe :"
   ]
  },
  {
   "cell_type": "code",
   "execution_count": 22,
   "metadata": {},
   "outputs": [
    {
     "data": {
      "text/plain": [
       "- : coloriage =\n",
       "[((32, 36), 0); ((24, 30), 2); ((28, 33), 1); ((22, 26), 1); ((20, 25), 0);\n",
       " ((30, 33), 3); ((31, 34), 2); ((27, 31), 0)]\n"
      ]
     },
     "execution_count": 22,
     "metadata": {},
     "output_type": "execute_result"
    }
   ],
   "source": [
    "coloriage_intervalles csa;;"
   ]
  },
  {
   "cell_type": "markdown",
   "metadata": {},
   "source": [
    "La couleur la plus grande est `3`, donc le nombre chromatique de ce graphe est `4`."
   ]
  },
  {
   "cell_type": "code",
   "execution_count": 23,
   "metadata": {},
   "outputs": [
    {
     "data": {
      "text/plain": [
       "- : int = 4\n"
      ]
     },
     "execution_count": 23,
     "metadata": {},
     "output_type": "execute_result"
    }
   ],
   "source": [
    "nombre_chromatique (coloriage_intervalles csa);;"
   ]
  },
  {
   "cell_type": "markdown",
   "metadata": {},
   "source": [
    "Par contre, la solution au problème CSA réside dans le nombre de couverture de cliques, $k(G)$, pas dans le nombre chromatique $\\chi(G)$.\n",
    "\n",
    "On peut le résoudre en répondant à la question 7, qui demandait de mettre au point un algorithme pour construire un *stable maximum* pour un graphe d'intervalle."
   ]
  },
  {
   "cell_type": "markdown",
   "metadata": {},
   "source": [
    "### Le problème du wagon restaurant\n",
    "\n",
    "> Le chef de train de l'Orient Express doit aménager le wagon restaurant avant le départ du train. Ce wagon est assez petit et doit être le moins encombré de tables possibles, mais il faut prévoir suffisemment de tables pour accueillir toutes personnes qui ont réservé :\n",
    "\n",
    "> | Numéro | Personnage(s) | Heures de dîner | En secondes |\n",
    "| :----------------- | --------- | :---------: | :---------: |\n",
    "| 0 | Le baron et la baronne Von Haussplatz  | 19h30 .. 20h14  | $1170 \\cdots 1214$\n",
    "| 1 | Le général Cook                        | 20h30 .. 21h59  | $1230 \\cdots 1319$\n",
    "| 2 | Les époux Steinberg                    | 19h .. 19h59    | $1140 \\cdots 1199$\n",
    "| 3 | La duchesse de Colombart               | 20h15 .. 20h59  | $1215 \\cdots 1259$\n",
    "| 4 | Le marquis de Carquamba                | 21h .. 21h59    | $1260 \\cdots 1319$\n",
    "| 5 | La Vociafiore                          | 19h15 .. 20h29  | $1155 \\cdots 1229$\n",
    "| 6 | Le colonel Ferdinand                   | 20h .. 20h59    | $1200 \\cdots 1259$\n",
    "\n",
    "\n",
    "> Combien de tables le chef de train doit-il prévoir ?"
   ]
  },
  {
   "cell_type": "code",
   "execution_count": 24,
   "metadata": {},
   "outputs": [
    {
     "data": {
      "text/plain": [
       "val restaurant : (int * int) list =\n",
       "  [(1170, 1214); (1230, 1319); (1140, 1199); (1215, 1259); (1260, 1319);\n",
       "   (1155, 1229); (1200, 1259)]\n"
      ]
     },
     "execution_count": 24,
     "metadata": {},
     "output_type": "execute_result"
    }
   ],
   "source": [
    "let restaurant = [\n",
    "    (1170, 1214);\n",
    "    (1230, 1319);\n",
    "    (1140, 1199);\n",
    "    (1215, 1259);\n",
    "    (1260, 1319);\n",
    "    (1155, 1229);\n",
    "    (1200, 1259)\n",
    "];;"
   ]
  },
  {
   "cell_type": "code",
   "execution_count": 25,
   "metadata": {},
   "outputs": [
    {
     "data": {
      "text/plain": [
       "val graphe_restaurant : graphe_intervalle =\n",
       "  [[2; 5; 6]; [3; 4; 6]; [0; 5]; [1; 5; 6]; [1]; [0; 2; 3; 6]; [0; 1; 3; 5]]\n"
      ]
     },
     "execution_count": 25,
     "metadata": {},
     "output_type": "execute_result"
    }
   ],
   "source": [
    "let graphe_restaurant = graphe_depuis_intervalles restaurant;;"
   ]
  },
  {
   "cell_type": "markdown",
   "metadata": {},
   "source": [
    "![images/restaurant.png](images/restaurant.png)\n",
    "> Figure 7. Graphe d'intervalle pour le problème du wagon restaurant."
   ]
  },
  {
   "cell_type": "markdown",
   "metadata": {},
   "source": [
    "Avec des intervalles au lieu de numéro :"
   ]
  },
  {
   "cell_type": "markdown",
   "metadata": {},
   "source": [
    "![images/restaurant2.png](images/restaurant2.png)\n",
    "> Figure 8. Graphe d'intervalle pour le problème du wagon restaurant."
   ]
  },
  {
   "cell_type": "code",
   "execution_count": 26,
   "metadata": {},
   "outputs": [
    {
     "data": {
      "text/plain": [
       "- : coloriage =\n",
       "[((1170, 1214), 2); ((1230, 1319), 1); ((1140, 1199), 0); ((1215, 1259), 2);\n",
       " ((1260, 1319), 0); ((1155, 1229), 1); ((1200, 1259), 0)]\n"
      ]
     },
     "execution_count": 26,
     "metadata": {},
     "output_type": "execute_result"
    }
   ],
   "source": [
    "coloriage_intervalles restaurant;;"
   ]
  },
  {
   "cell_type": "markdown",
   "metadata": {},
   "source": [
    "La couleur la plus grande est `2`, donc le nombre chromatique de ce graphe est `3`."
   ]
  },
  {
   "cell_type": "code",
   "execution_count": 27,
   "metadata": {},
   "outputs": [
    {
     "data": {
      "text/plain": [
       "- : int = 3\n"
      ]
     },
     "execution_count": 27,
     "metadata": {},
     "output_type": "execute_result"
    }
   ],
   "source": [
    "nombre_chromatique (coloriage_intervalles restaurant);;"
   ]
  },
  {
   "cell_type": "markdown",
   "metadata": {},
   "source": [
    "#### Solution via l'algorithme de coloriage de graphe d'intervalles\n",
    "Pour ce problème là, la solution est effectivement donnée par le nombre chromatique.\n",
    "\n",
    "La couleur sera le numéro de table pour chaque passagers (ou couple de passagers), et donc le nombre minimal de table à installer dans le wagon restaurant est exactement le nombre chromatique.\n",
    "\n",
    "Une solution peut être la suivante, avec **3 tables** :\n",
    "\n",
    "| Numéro | Personnage(s) | Heures de dîner | Numéro de table |\n",
    "| :----------------- | --------- | :---------: | :---------: |\n",
    "| 0 | Le baron et la baronne Von Haussplatz  | 19h30 .. 20h14  | 2\n",
    "| 1 | Le général Cook                        | 20h30 .. 21h59  | 1\n",
    "| 2 | Les époux Steinberg                    | 19h .. 19h59    | 0\n",
    "| 3 | La duchesse de Colombart               | 20h15 .. 20h59  | 2\n",
    "| 4 | Le marquis de Carquamba                | 21h .. 21h59    | 0\n",
    "| 5 | La Vociafiore                          | 19h15 .. 20h29  | 1\n",
    "| 6 | Le colonel Ferdinand                   | 20h .. 20h59    | 0\n",
    "\n",
    "On vérifie manuellement que la solution convient.\n",
    "Chaque passager devra quitter sa tableau à la minute près par contre !"
   ]
  },
  {
   "cell_type": "markdown",
   "metadata": {},
   "source": [
    "On peut afficher la solution avec un graphe colorié.\n",
    "La table `0` sera <span style=\"color:red;\">rouge</span>, `1` sera <span style=\"color:blue;\">bleu</span> et `2` sera <span style=\"color:yellow;\">jaune</span> :"
   ]
  },
  {
   "cell_type": "markdown",
   "metadata": {},
   "source": [
    "![images/restaurant3.png](images/restaurant3.png)\n",
    "> Figure 9. Solution pour le problème du wagon restaurant."
   ]
  },
  {
   "cell_type": "markdown",
   "metadata": {},
   "source": [
    "----\n",
    "## Bonus ?"
   ]
  },
  {
   "cell_type": "markdown",
   "metadata": {},
   "source": [
    "### Visualisation des graphes définis dans les exemples\n",
    "\n",
    "- J'utilise une petite fonction facile à écrire, qui convertit un graphe (`int list list`) en une chaîne de caractère au format [DOT Graph](http://www.graphviz.org/doc/info/lang.html).\n",
    "- Ensuite, un appel `dot -Tpng ...` en ligne de commande convertit ce graphe en une image, que j'inclus ensuite manuellement."
   ]
  },
  {
   "cell_type": "code",
   "execution_count": 30,
   "metadata": {},
   "outputs": [
    {
     "data": {
      "text/plain": [
       "val graph_to_dotgraph :\n",
       "  ?graphname:string ->\n",
       "  ?directed:bool -> ?verb:bool -> ?onetoone:bool -> int list list -> string =\n",
       "  <fun>\n"
      ]
     },
     "execution_count": 30,
     "metadata": {},
     "output_type": "execute_result"
    }
   ],
   "source": [
    "(** Transforme un [graph] en une chaîne représentant un graphe décrit par le langage DOT,\n",
    "    voir http://en.wikipedia.org/wiki/DOT_language pour plus de détails sur ce langage.\n",
    "\n",
    "    @param graphname Donne le nom du graphe tel que précisé pour DOT\n",
    "    @param directed Vrai si le graphe doit être dirigé (c'est le cas ici) faux sinon. Change le style des arêtes ([->] ou [--])\n",
    "    @param verb Affiche tout dans le terminal.\n",
    "    @param onetoone Si on veut afficher le graphe en mode carré (échelle 1:1). Parfois bizarre, parfois génial.\n",
    "*)\n",
    "let graph_to_dotgraph ?(graphname = \"graphname\") ?(directed = false) ?(verb = false) ?(onetoone = false) (glist : int list list) =\n",
    "    let res = ref \"\" in\n",
    "    let log s =\n",
    "        if verb then print_string s; (* Si [verb] affiche dans le terminal le résultat du graphe. *)\n",
    "        res := !res ^ s\n",
    "    in\n",
    "    log (if directed then \"digraph \" else \"graph \");\n",
    "    log graphname; log \" {\";\n",
    "    if onetoone then\n",
    "        log \"\\n   size=\\\"1,1\\\";\";\n",
    "    let g = Array.of_list (List.map Array.of_list glist) in\n",
    "    (* On affiche directement les arc, un à un. *)\n",
    "    for i = 0 to (Array.length g) - 1 do\n",
    "        for j = 0 to (Array.length g.(i)) - 1 do\n",
    "            if i < g.(i).(j) then\n",
    "                log (\"\\n   \\\"\"\n",
    "                ^ (string_of_int i) ^ \"\\\" \"\n",
    "                ^ (if directed then \"->\" else \"--\")\n",
    "                ^ \" \\\"\" ^ (string_of_int g.(i).(j)) ^ \"\\\"\"\n",
    "                );\n",
    "        done;\n",
    "    done;\n",
    "    log \"\\n}\\n// generated by OCaml with the function graphe_to_dotgraph.\";\n",
    "!res;;"
   ]
  },
  {
   "cell_type": "code",
   "execution_count": 29,
   "metadata": {},
   "outputs": [
    {
     "data": {
      "text/plain": [
       "val ecrire_sortie : out_channel -> bytes -> unit = <fun>\n"
      ]
     },
     "execution_count": 29,
     "metadata": {},
     "output_type": "execute_result"
    },
    {
     "data": {
      "text/plain": [
       "val ecrire_dans_fichier : chaine:bytes -> adresse:string -> unit = <fun>\n"
      ]
     },
     "execution_count": 29,
     "metadata": {},
     "output_type": "execute_result"
    }
   ],
   "source": [
    "(** Fonction ecrire_sortie : plus pratique que output. *)\n",
    "let ecrire_sortie monoutchanel machaine =\n",
    "    output monoutchanel machaine 0 (String.length machaine);\n",
    "    flush monoutchanel;;\n",
    "\n",
    "(** Fonction ecrire_dans_fichier : pour écrire la chaine dans le fichier à l'adresse renseignée. *)\n",
    "let ecrire_dans_fichier ~chaine ~adresse =\n",
    "    let mon_out_channel = open_out adresse in\n",
    "    ecrire_sortie mon_out_channel chaine;\n",
    "    close_out mon_out_channel;;\n"
   ]
  },
  {
   "cell_type": "code",
   "execution_count": 31,
   "metadata": {},
   "outputs": [
    {
     "data": {
      "text/plain": [
       "val s_graphe_densmore : string =\n",
       "  \"graph densmore {\\n   \\\"0\\\" -- \\\"1\\\"\\n   \\\"0\\\" -- \\\"2\\\"\\n   \\\"0\\\" -- \\\"4\\\"\\n   \\\"0\\\" -- \\\"5\\\"\\n   \\\"0\\\" -- \\\"6\\\"\\n   \\\"1\\\" -- \\\"2\\\"\\n   \\\"1\\\" -- \\\"7\\\"\\n   \\\"2\\\" -- \\\"3\\\"\\n   \\\"2\\\" -- \\\"4\\\"\\n   \\\"2\\\" -- \\\"7\\\"\\n   \\\"3\\\" -- \\\"4\\\"\\n   \\\"4\\\" -- \\\"5\\\"\\n   \\\"6\\\" -- \\\"7\\\"\\n}\\n// generated by OCaml with the function graphe_to_dotgraph.\"\n"
      ]
     },
     "execution_count": 31,
     "metadata": {},
     "output_type": "execute_result"
    },
    {
     "data": {
      "text/plain": [
       "val s_graphe_vaccins : string =\n",
       "  \"graph vaccins {\\n   \\\"0\\\" -- \\\"1\\\"\\n   \\\"0\\\" -- \\\"2\\\"\\n   \\\"0\\\" -- \\\"4\\\"\\n   \\\"0\\\" -- \\\"5\\\"\\n   \\\"0\\\" -- \\\"6\\\"\\n   \\\"0\\\" -- \\\"8\\\"\\n   \\\"1\\\" -- \\\"2\\\"\\n   \\\"1\\\" -- \\\"5\\\"\\n   \\\"1\\\" -- \\\"6\\\"\\n   \\\"1\\\" -- \\\"8\\\"\\n   \\\"2\\\" -- \\\"3\\\"\\n   \\\"2\\\" -- \\\"4\\\"\\n   \\\"2\\\" -- \\\"5\\\"\\n   \\\"2\\\" -- \\\"6\\\"\\n   \\\"2\\\" -- \\\"7\\\"\\n   \\\"2\\\" -- \\\"8\\\"\\n   \\\"3\\\" -- \\\"4\\\"\\n   \\\"3\\\" -- \\\"5\\\"\\n   \\\"3\\\" -- \\\"7\\\"\\n   \\\"3\\\" -- \\\"8\\\"\\n   \\\"4\\\" -- \\\"5\\\"\\n   \\\"4\\\" -- \\\"6\\\"\\n   \\\"4\\\" -- \\\"7\\\"\\n   \\\"4\\\" -- \\\"8\\\"\\n   \\\"5\\\" -- \\\"6\\\"\\n   \\\"5\\\" -- \\\"7\\\"\\n   \\\"5\\\" -- \\\"8\\\"\\n   \\\"6\\\" -- \\\"8\\\"\\n   \\\"7\\\" -- \\\"8\\\"\\n}\\n// generated by OCaml with the function graphe_to_dotgraph.\"\n"
      ]
     },
     "execution_count": 31,
     "metadata": {},
     "output_type": "execute_result"
    },
    {
     "data": {
      "text/plain": [
       "val s_graphe_csa : string =\n",
       "  \"graph csa {\\n   \\\"0\\\" -- \\\"2\\\"\\n   \\\"0\\\" -- \\\"5\\\"\\n   \\\"0\\\" -- \\\"6\\\"\\n   \\\"1\\\" -- \\\"2\\\"\\n   \\\"1\\\" -- \\\"3\\\"\\n   \\\"1\\\" -- \\\"4\\\"\\n   \\\"1\\\" -- \\\"5\\\"\\n   \\\"1\\\" -- \\\"7\\\"\\n   \\\"2\\\" -- \\\"5\\\"\\n   \\\"2\\\" -- \\\"6\\\"\\n   \\\"2\\\" -- \\\"7\\\"\\n   \\\"3\\\" -- \\\"4\\\"\\n   \\\"5\\\" -- \\\"6\\\"\\n   \\\"5\\\" -- \\\"7\\\"\\n   \\\"6\\\" -- \\\"7\\\"\\n}\\n// generated by OCaml with the function graphe_to_dotgraph.\"\n"
      ]
     },
     "execution_count": 31,
     "metadata": {},
     "output_type": "execute_result"
    },
    {
     "data": {
      "text/plain": [
       "val s_graphe_restaurant : string =\n",
       "  \"graph restaurant {\\n   \\\"0\\\" -- \\\"2\\\"\\n   \\\"0\\\" -- \\\"5\\\"\\n   \\\"0\\\" -- \\\"6\\\"\\n   \\\"1\\\" -- \\\"3\\\"\\n   \\\"1\\\" -- \\\"4\\\"\\n   \\\"1\\\" -- \\\"6\\\"\\n   \\\"2\\\" -- \\\"5\\\"\\n   \\\"3\\\" -- \\\"5\\\"\\n   \\\"3\\\" -- \\\"6\\\"\\n   \\\"5\\\" -- \\\"6\\\"\\n}\\n// generated by OCaml with the function graphe_to_dotgraph.\"\n"
      ]
     },
     "execution_count": 31,
     "metadata": {},
     "output_type": "execute_result"
    }
   ],
   "source": [
    "let s_graphe_densmore = graph_to_dotgraph ~graphname:\"densmore\" ~directed:false ~verb:false graphe_densmore;;\n",
    "let s_graphe_vaccins = graph_to_dotgraph ~graphname:\"vaccins\" ~directed:false ~verb:false graphe_vaccins;;\n",
    "let s_graphe_csa = graph_to_dotgraph ~graphname:\"csa\" ~directed:false ~verb:false graphe_csa;;\n",
    "let s_graphe_restaurant = graph_to_dotgraph ~graphname:\"restaurant\" ~directed:false ~verb:false graphe_restaurant;;"
   ]
  },
  {
   "cell_type": "code",
   "execution_count": 32,
   "metadata": {},
   "outputs": [
    {
     "data": {
      "text/plain": [
       "- : unit = ()\n"
      ]
     },
     "execution_count": 32,
     "metadata": {},
     "output_type": "execute_result"
    },
    {
     "data": {
      "text/plain": [
       "- : unit = ()\n"
      ]
     },
     "execution_count": 32,
     "metadata": {},
     "output_type": "execute_result"
    },
    {
     "data": {
      "text/plain": [
       "- : unit = ()\n"
      ]
     },
     "execution_count": 32,
     "metadata": {},
     "output_type": "execute_result"
    },
    {
     "data": {
      "text/plain": [
       "- : unit = ()\n"
      ]
     },
     "execution_count": 32,
     "metadata": {},
     "output_type": "execute_result"
    }
   ],
   "source": [
    "ecrire_dans_fichier ~chaine:s_graphe_densmore ~adresse:\"/tmp/densmore.dot\" ;;\n",
    "(* Sys.command \"fdp -Tpng /tmp/densmore.dot > images/densmore.png\";; *)\n",
    "\n",
    "ecrire_dans_fichier ~chaine:s_graphe_vaccins ~adresse:\"/tmp/vaccins.dot\" ;;\n",
    "(* Sys.command \"fdp -Tpng /tmp/vaccins.dot > images/vaccins.png\";; *)\n",
    "\n",
    "ecrire_dans_fichier ~chaine:s_graphe_csa ~adresse:\"/tmp/csa.dot\" ;;\n",
    "(* Sys.command \"fdp -Tpng /tmp/csa.dot > images/csa.png\";; *)\n",
    "\n",
    "ecrire_dans_fichier ~chaine:s_graphe_restaurant ~adresse:\"/tmp/restaurant.dot\" ;;\n",
    "(* Sys.command \"fdp -Tpng /tmp/restaurant.dot > images/restaurant.png\";; *)"
   ]
  },
  {
   "cell_type": "markdown",
   "metadata": {},
   "source": [
    "On pourrait étendre cette fonction pour qu'elle prenne les intervalles initiaux, pour afficher des bonnes étiquettes et pas des entiers, et un coloriage pour colorer directement les noeuds, mais ça prend du temps pour pas grand chose."
   ]
  },
  {
   "cell_type": "markdown",
   "metadata": {},
   "source": [
    "----\n",
    "## Conclusion\n",
    "\n",
    "Voilà pour la question obligatoire de programmation, sur l'algorithme de coloriage.\n",
    "\n",
    "- on a décomposé le problème en sous-fonctions,\n",
    "- on a fait des exemples et *on les garde* dans ce qu'on présente au jury,\n",
    "- on a testé la fonction exigée sur de petits exemples et sur un exemple de taille réelle (venant du texte)\n",
    "\n",
    "Et on a pas essayé de faire *un peu plus*.\n",
    "Avec plus de temps, on aurait aussi pu écrire un algorithme pour calculer le stable maximum (ensemble de sommets indépendants de taille maximale).\n",
    "\n",
    "> Bien-sûr, ce petit notebook ne se prétend pas être une solution optimale, ni exhaustive."
   ]
  }
 ],
 "metadata": {
  "kernelspec": {
   "display_name": "OCaml 4.04.2",
   "language": "OCaml",
   "name": "ocaml-jupyter"
  },
  "language_info": {
   "codemirror_mode": "text/x-ocaml",
   "file_extension": ".ml",
   "mimetype": "text/x-ocaml",
   "name": "OCaml",
   "nbconverter_exporter": null,
   "pygments_lexer": "OCaml",
   "version": "4.04.2"
  },
  "toc": {
   "colors": {
    "hover_highlight": "#DAA520",
    "running_highlight": "#FF0000",
    "selected_highlight": "#FFD700"
   },
   "moveMenuLeft": true,
   "nav_menu": {
    "height": "289px",
    "width": "252px"
   },
   "navigate_menu": true,
   "number_sections": true,
   "sideBar": true,
   "threshold": 4,
   "toc_cell": true,
   "toc_position": {
    "height": "591px",
    "left": "0px",
    "right": "1223px",
    "top": "124px",
    "width": "249px"
   },
   "toc_section_display": "block",
   "toc_window_display": true
  }
 },
 "nbformat": 4,
 "nbformat_minor": 2
}
