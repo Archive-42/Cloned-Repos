{
 "cells": [
  {
   "cell_type": "markdown",
   "metadata": {},
   "source": [
    "# Numerical simulations of the Monty-Hall \"paradox\"\n",
    "This short notebook aims at simulating trials of the so-called [Monty-Hall problem](https://en.wikipedia.org/wiki/Monty_Hall_problem), and thus helping to convince about the result thanks to a numerical results rather than a possibly-unclear proof."
   ]
  },
  {
   "cell_type": "markdown",
   "metadata": {},
   "source": [
    "----\n",
    "## Definition of the problem\n"
   ]
  },
  {
   "cell_type": "markdown",
   "metadata": {},
   "source": [
    "There is $M \\geq 3$ doors, and behind only one of them there is a treasure.\n",
    "The goal of the player is to find the treasure, following this game:\n",
    "\n",
    "1. The player first chose a door, but does not open it yet,\n",
    "2. All remaining doors but one are opened, and none of them contain the treasure. The player sees $M - 2$ bad doors,\n",
    "3. So there is just 2 doors, the one first chosen, and the last one. She knows the treasure is behind one of them,\n",
    "4. And she has to decide if she wants to **stay on her initial choice**, or **switches to the last door**.\n",
    "\n",
    "Finally, the chosen door is opened, and the player wins this round if she found the treasure."
   ]
  },
  {
   "cell_type": "markdown",
   "metadata": {},
   "source": [
    "---\n",
    "The goal of this notebook is to numerically prove that the choice of always switching to the last door is the best one."
   ]
  },
  {
   "cell_type": "markdown",
   "metadata": {},
   "source": [
    "## Starting our numerical simulations\n",
    "We start by importing some modules, then define a function, `randomAllocation()`, to generate a random allocation of treasures behind the `M` doors.\n",
    "\n",
    "> *Note:* all the code below is generic for any $M \\geq 3$, but `M = 3` is used to keep small and clear visualizations."
   ]
  },
  {
   "cell_type": "code",
   "execution_count": 1,
   "metadata": {
    "collapsed": true
   },
   "outputs": [],
   "source": [
    "import random"
   ]
  },
  {
   "cell_type": "code",
   "execution_count": 2,
   "metadata": {
    "collapsed": false
   },
   "outputs": [],
   "source": [
    "M = 3\n",
    "allocation = [False] * (M - 1) + [True]  # Only 1 treasure!\n",
    "assert set(allocation) == {True, False}  # Check: only True and False\n",
    "assert sum(allocation) == 1              # Check: only 1 treasure!"
   ]
  },
  {
   "cell_type": "markdown",
   "metadata": {},
   "source": [
    "Just to check:"
   ]
  },
  {
   "cell_type": "code",
   "execution_count": 3,
   "metadata": {
    "collapsed": false
   },
   "outputs": [
    {
     "data": {
      "text/plain": [
       "[False, False, True]"
      ]
     },
     "execution_count": 3,
     "metadata": {},
     "output_type": "execute_result"
    }
   ],
   "source": [
    "allocation"
   ]
  },
  {
   "cell_type": "markdown",
   "metadata": {},
   "source": [
    "We can generate a random spot for the treasure by simply shuffling (with [`random.shuffle()`](https://docs.python.org/3/library/random.html#random.shuffle)):"
   ]
  },
  {
   "cell_type": "code",
   "execution_count": 4,
   "metadata": {
    "collapsed": true
   },
   "outputs": [],
   "source": [
    "def randomAllocation():\n",
    "    r = allocation[:]\n",
    "    random.shuffle(r)\n",
    "    return r"
   ]
  },
  {
   "cell_type": "markdown",
   "metadata": {},
   "source": [
    "Let us quickly check this function `randomAllocation()`:"
   ]
  },
  {
   "cell_type": "code",
   "execution_count": 5,
   "metadata": {
    "collapsed": false
   },
   "outputs": [
    {
     "name": "stdout",
     "output_type": "stream",
     "text": [
      "[False, True, False]\n",
      "[False, False, True]\n",
      "[False, False, True]\n",
      "[True, False, False]\n",
      "[False, False, True]\n",
      "[False, True, False]\n",
      "[True, False, False]\n",
      "[False, True, False]\n",
      "[False, True, False]\n",
      "[True, False, False]\n"
     ]
    }
   ],
   "source": [
    "for _ in range(10):\n",
    "    print(randomAllocation())"
   ]
  },
  {
   "cell_type": "markdown",
   "metadata": {},
   "source": [
    "We need to write a small function to simulate the choice of the door to show to the player, `show()`:"
   ]
  },
  {
   "cell_type": "code",
   "execution_count": 6,
   "metadata": {
    "collapsed": true
   },
   "outputs": [],
   "source": [
    "def last(r, i):\n",
    "    # Select a random index corresponding of the door we keep\n",
    "    if r[i]:  # She found the treasure, returning a random last door\n",
    "        return random.choice([j for (j, v) in enumerate(r) if j != i])\n",
    "    else:     # She didn't find the treasure, returning the treasure door\n",
    "        # Indeed, the game only removes door that don't contain the treasure\n",
    "        return random.choice([j for (j, v) in enumerate(r) if j != i and v])"
   ]
  },
  {
   "cell_type": "code",
   "execution_count": 7,
   "metadata": {
    "collapsed": false
   },
   "outputs": [
    {
     "name": "stdout",
     "output_type": "stream",
     "text": [
      "- r = [False, False, True] i = 0 and last(r, i) = 2\n",
      "  Stay on False or go to True ?\n",
      "- r = [True, False, False] i = 1 and last(r, i) = 0\n",
      "  Stay on False or go to True ?\n",
      "- r = [False, False, True] i = 1 and last(r, i) = 2\n",
      "  Stay on False or go to True ?\n",
      "- r = [True, False, False] i = 1 and last(r, i) = 0\n",
      "  Stay on False or go to True ?\n",
      "- r = [False, False, True] i = 1 and last(r, i) = 2\n",
      "  Stay on False or go to True ?\n",
      "- r = [False, False, True] i = 0 and last(r, i) = 2\n",
      "  Stay on False or go to True ?\n",
      "- r = [False, True, False] i = 2 and last(r, i) = 1\n",
      "  Stay on False or go to True ?\n",
      "- r = [True, False, False] i = 1 and last(r, i) = 0\n",
      "  Stay on False or go to True ?\n",
      "- r = [False, False, True] i = 0 and last(r, i) = 2\n",
      "  Stay on False or go to True ?\n",
      "- r = [False, True, False] i = 1 and last(r, i) = 2\n",
      "  Stay on True or go to False ?\n"
     ]
    }
   ],
   "source": [
    "for _ in range(10):\n",
    "    r = randomAllocation()\n",
    "    i = random.randint(0, M - 1)\n",
    "    j = last(r, i)\n",
    "    print(\"- r =\", r, \"i =\", i, \"and last(r, i) =\", j)\n",
    "    print(\"  Stay on\", r[i], \"or go to\", r[j], \"?\")"
   ]
  },
  {
   "cell_type": "markdown",
   "metadata": {},
   "source": [
    "We need a function to simulate the first choice of the player, and a simple choice is to select a uniform choice:"
   ]
  },
  {
   "cell_type": "code",
   "execution_count": 8,
   "metadata": {
    "collapsed": true
   },
   "outputs": [],
   "source": [
    "def firstChoice():\n",
    "    global M\n",
    "    # Uniform first choice\n",
    "    return random.randint(0, M - 1)"
   ]
  },
  {
   "cell_type": "markdown",
   "metadata": {},
   "source": [
    "Now we can simulate a game, for a certain left-to-be-written function `strategy()` that decides to keep or to change the initial choice."
   ]
  },
  {
   "cell_type": "code",
   "execution_count": 9,
   "metadata": {
    "collapsed": true
   },
   "outputs": [],
   "source": [
    "def simulate(stayOrNot):\n",
    "    # Random spot for the treasure\n",
    "    r = randomAllocation()\n",
    "    # Initial choice\n",
    "    i = firstChoice()\n",
    "    # Which door are remove, or equivalently which is the last one to be there?\n",
    "    j = last(r, i)\n",
    "    assert {r[i], r[j]} == {False, True}  # There is still the treasure and only one\n",
    "    stay = stayOrNot()\n",
    "    if stay:\n",
    "        return r[i]\n",
    "    else:\n",
    "        return r[j]"
   ]
  },
  {
   "cell_type": "markdown",
   "metadata": {},
   "source": [
    "We can simulate many outcome of the game for one strategy, and return the number of time it won (i.e. average number of time it found the good door, by finding `r[i] = True` or `r[j] = True`):"
   ]
  },
  {
   "cell_type": "code",
   "execution_count": 10,
   "metadata": {
    "collapsed": true
   },
   "outputs": [],
   "source": [
    "N = 10000\n",
    "\n",
    "def simulateManyGames(stayOrNot):\n",
    "    global N\n",
    "    results = [simulate(stayOrNot) for _ in range(N)]\n",
    "    return sum(results)"
   ]
  },
  {
   "cell_type": "markdown",
   "metadata": {},
   "source": [
    "----\n",
    "## Comparing two strategies, on many randomized trials\n",
    "We will simulate the two strategies, `keep()` vs `change()`, on $N = 10000$ randomized games."
   ]
  },
  {
   "cell_type": "markdown",
   "metadata": {},
   "source": [
    "### Keeping our first choice, `keep()`"
   ]
  },
  {
   "cell_type": "code",
   "execution_count": 11,
   "metadata": {
    "collapsed": true
   },
   "outputs": [],
   "source": [
    "def keep():\n",
    "    return True  # True == also stay on our first choice"
   ]
  },
  {
   "cell_type": "code",
   "execution_count": 12,
   "metadata": {
    "collapsed": false
   },
   "outputs": [
    {
     "name": "stdout",
     "output_type": "stream",
     "text": [
      "- For 10000 simulations, the strategy 'keep' has won 3280 of the trials...\n",
      "  ==> proportion = 32.80%.\n"
     ]
    }
   ],
   "source": [
    "rate = simulateManyGames(keep)\n",
    "print(\"- For\", N, \"simulations, the strategy 'keep' has won\", rate, \"of the trials...\")\n",
    "print(\"  ==> proportion = {:.2%}.\".format(rate / float(N)))"
   ]
  },
  {
   "cell_type": "markdown",
   "metadata": {},
   "source": [
    "$\\implies$ We find a chance of winning of about $\\frac{1}{M} = \\frac{1}{3}$ for this strategy, which is very logical as only the initial choice matters, and due to the uniform location of the treasure behind the $M = 3$ doors, and the uniform first choice with `firstChoice()`."
   ]
  },
  {
   "cell_type": "markdown",
   "metadata": {},
   "source": [
    "### Changing our first choice, `change()`"
   ]
  },
  {
   "cell_type": "code",
   "execution_count": 13,
   "metadata": {
    "collapsed": true
   },
   "outputs": [],
   "source": [
    "def change():\n",
    "    return False  # False == never stay, ie always chose the last door"
   ]
  },
  {
   "cell_type": "code",
   "execution_count": 14,
   "metadata": {
    "collapsed": false
   },
   "outputs": [
    {
     "name": "stdout",
     "output_type": "stream",
     "text": [
      "- For 10000 simulations, the strategy 'change' has won 6693  of the trials...\n",
      "  ==> proportion = 66.93%.\n"
     ]
    }
   ],
   "source": [
    "rate = simulateManyGames(change)\n",
    "print(\"- For\", N, \"simulations, the strategy 'change' has won\", rate, \" of the trials...\")\n",
    "print(\"  ==> proportion = {:.2%}.\".format(rate / float(N)))"
   ]
  },
  {
   "cell_type": "markdown",
   "metadata": {},
   "source": [
    "$\\implies$ We find a chance of winning of about $\\frac{M - 1}{M} = \\frac{2}{3}$ for this strategy, which is less logical.\n",
    "\n",
    "Due to the uniform location of the treasure behind the $M = 3$ doors, and the uniform first choice with `firstChoice()`, we have a $\\frac{1}{M}$ chance of finding the treasure from the first time.\n",
    "\n",
    "1. If we found it, the last door does not contain the treasure, hence **we loose** as we switch to it,\n",
    "2. However, if we did not find it, the last door has to contain the treasure, hence **we win** as we switch to it deterministically (i.e. always).\n",
    "\n",
    "The first case has probability $\\frac{1}{M}$, probability of loosing, and the second case has probability $\\frac{M - 1}{M}$, probability of loosing.\n",
    "\n",
    "$\\implies$ Conclusion : this strategy `change()` has a chance of winning of $\\frac{2}{3}$, far better than the chance of $\\frac{1}{3}$ for `stay()`.\n",
    "\n",
    "> We proved numerically the results given and explained [here on the Wikipedia page](https://en.wikipedia.org/wiki/Monty_Hall_problem#Direct_calculation). Great!"
   ]
  },
  {
   "cell_type": "markdown",
   "metadata": {},
   "source": [
    "### Bernoulli choice\n",
    "We can try a randomized strategy, a simple one can be to follow the decision of a (biased) coin:\n",
    "\n",
    "1. Toss a coin (with fixed head probability equals to $p \\in [0, 1]$)\n",
    "2. If head, switch to the last door."
   ]
  },
  {
   "cell_type": "code",
   "execution_count": 15,
   "metadata": {
    "collapsed": false
   },
   "outputs": [],
   "source": [
    "def bernoulli(p=0.5):\n",
    "    return random.random() < p"
   ]
  },
  {
   "cell_type": "code",
   "execution_count": 16,
   "metadata": {
    "collapsed": false
   },
   "outputs": [
    {
     "name": "stdout",
     "output_type": "stream",
     "text": [
      "- For 10000 simulations, the strategy 'bernoulli' has won 5077  of the trials...\n",
      "  ==> proportion = 50.77%.\n"
     ]
    }
   ],
   "source": [
    "rate = simulateManyGames(bernoulli)\n",
    "print(\"- For\", N, \"simulations, the strategy 'bernoulli' has won\", rate, \" of the trials...\")\n",
    "print(\"  ==> proportion = {:.2%}.\".format(rate / float(N)))"
   ]
  },
  {
   "cell_type": "markdown",
   "metadata": {},
   "source": [
    "Now we can try different values for $p$, and plot the resulting chance of winning the game as a function of $p$.\n",
    "Hopefully, it should be monotonic, confirming the result explained above."
   ]
  },
  {
   "cell_type": "code",
   "execution_count": 17,
   "metadata": {
    "collapsed": true
   },
   "outputs": [],
   "source": [
    "import numpy as np\n",
    "import matplotlib.pyplot as plt"
   ]
  },
  {
   "cell_type": "markdown",
   "metadata": {},
   "source": [
    "We generate lots of values for $p$, then a function `stratBernoulli()` to create the strategy described above, for some $p \\in [0, 1]$."
   ]
  },
  {
   "cell_type": "code",
   "execution_count": 18,
   "metadata": {
    "collapsed": false
   },
   "outputs": [],
   "source": [
    "values_p = np.linspace(0, 1, 500)\n",
    "\n",
    "def stratBernoulli(p):\n",
    "    def stayOrNot():\n",
    "        return bernoulli(p=p)\n",
    "    return stayOrNot"
   ]
  },
  {
   "cell_type": "markdown",
   "metadata": {},
   "source": [
    "Let finally do all the simulations, and store the empirical probability of winning the game when following a Bernoulli strategy.\n",
    "\n",
    "> This line takes about $4$ minutes on my laptop, it's not that quick."
   ]
  },
  {
   "cell_type": "code",
   "execution_count": 19,
   "metadata": {
    "collapsed": true
   },
   "outputs": [],
   "source": [
    "chance_of_winning = [simulateManyGames(stratBernoulli(p)) / float(N) for p in values_p]"
   ]
  },
  {
   "cell_type": "code",
   "execution_count": 20,
   "metadata": {
    "collapsed": false
   },
   "outputs": [
    {
     "data": {
      "image/png": "[encoded data removed]",
      "text/plain": [
       "<matplotlib.figure.Figure at 0x7f6558b82b38>"
      ]
     },
     "metadata": {},
     "output_type": "display_data"
    }
   ],
   "source": [
    "plt.figure()\n",
    "plt.plot(values_p, chance_of_winning, 'r')\n",
    "plt.title(\"Monty-Hall paradox with {} doors ({} random simulation)\".format(M, N))\n",
    "plt.xlabel(\"Probability $p$ of staying on our first choice (Bernoulli strategy)\")\n",
    "plt.ylabel(\"Probability of winning\")\n",
    "plt.ylim(0, 1)\n",
    "plt.yticks(np.linspace(0, 1, 11))\n",
    "plt.show()"
   ]
  },
  {
   "cell_type": "markdown",
   "metadata": {},
   "source": [
    "---\n",
    "## Examples with $M = 100$ doors"
   ]
  },
  {
   "cell_type": "code",
   "execution_count": 27,
   "metadata": {
    "collapsed": false
   },
   "outputs": [],
   "source": [
    "def completeSimu():\n",
    "    global M\n",
    "    global N\n",
    "    allocation = [False] * (M - 1) + [True]  # Only 1 treasure!\n",
    "    \n",
    "    def randomAllocation():\n",
    "        r = allocation[:]\n",
    "        random.shuffle(r)\n",
    "        return r\n",
    "    \n",
    "    def last(r, i):\n",
    "        # Select a random index corresponding of the door we keep\n",
    "        if r[i]:  # She found the treasure, returning a random last door\n",
    "            return random.choice([j for (j, v) in enumerate(r) if j != i])\n",
    "        else:     # She didn't find the treasure, returning the treasure door\n",
    "            # Indeed, the game only removes door that don't contain the treasure\n",
    "            return random.choice([j for (j, v) in enumerate(r) if j != i and v])\n",
    "    \n",
    "    def simulate(stayOrNot):\n",
    "        # Random spot for the treasure\n",
    "        r = randomAllocation()\n",
    "        # Initial choice\n",
    "        i = firstChoice()\n",
    "        # Which door are remove, or equivalently which is the last one to be there?\n",
    "        j = last(r, i)\n",
    "        stay = stayOrNot()\n",
    "        if stay:\n",
    "            return r[i]\n",
    "        else:\n",
    "            return r[j]\n",
    "\n",
    "    def simulateManyGames(stayOrNot):\n",
    "        global N\n",
    "        results = [simulate(stayOrNot) for _ in range(N)]\n",
    "        return sum(results)\n",
    "\n",
    "    values_p = np.linspace(0, 1, 300)\n",
    "    chance_of_winning = [simulateManyGames(stratBernoulli(p)) / float(N) for p in values_p]\n",
    "    plt.figure()\n",
    "    plt.plot(values_p, chance_of_winning, 'r')\n",
    "    plt.title(\"Monty-Hall paradox with {} doors ({} random simulation)\".format(M, N))\n",
    "    plt.xlabel(\"Probability $p$ of staying on our first choice (Bernoulli strategy)\")\n",
    "    plt.ylabel(\"Probability of winning\")\n",
    "    plt.ylim(0, 1)\n",
    "    plt.yticks(np.linspace(0, 1, 11))\n",
    "    plt.show()"
   ]
  },
  {
   "cell_type": "code",
   "execution_count": 28,
   "metadata": {
    "collapsed": false,
    "scrolled": true
   },
   "outputs": [
    {
     "data": {
      "image/png": "[encoded data removed]",
      "text/plain": [
       "<matplotlib.figure.Figure at 0x7f655671a940>"
      ]
     },
     "metadata": {},
     "output_type": "display_data"
    }
   ],
   "source": [
    "M = 4\n",
    "completeSimu()"
   ]
  },
  {
   "cell_type": "markdown",
   "metadata": {},
   "source": [
    "### Last plot, for $M = 100$\n",
    "It clearly shows the linear behavior we expected."
   ]
  },
  {
   "cell_type": "code",
   "execution_count": 29,
   "metadata": {
    "collapsed": false
   },
   "outputs": [
    {
     "data": {
      "image/png": "[encoded data removed]",
      "text/plain": [
       "<matplotlib.figure.Figure at 0x7f65565dbf28>"
      ]
     },
     "metadata": {},
     "output_type": "display_data"
    }
   ],
   "source": [
    "M = 100\n",
    "completeSimu()"
   ]
  },
  {
   "cell_type": "markdown",
   "metadata": {},
   "source": [
    "$\\implies$ it is now clear that the best strategy is the **always change and select the other door**."
   ]
  },
  {
   "cell_type": "markdown",
   "metadata": {},
   "source": [
    "----\n",
    "## Conclusion\n",
    "As we saw it, it is clear from the numerical experiments presented above that the strategy of **always changing our first choice** (`change()`), is statistically better than the strategy of **keeping our first choice** (`keep()`).\n",
    "\n",
    "> [See this repository for other Python notebook doing numerical simulations](https://github.com/Naereen/notebooks/tree/master/simus/)."
   ]
  }
 ],
 "metadata": {
  "kernelspec": {
   "display_name": "Python 3",
   "language": "python",
   "name": "python3"
  },
  "language_info": {
   "codemirror_mode": {
    "name": "ipython",
    "version": 3
   },
   "file_extension": ".py",
   "mimetype": "text/x-python",
   "name": "python",
   "nbconvert_exporter": "python",
   "pygments_lexer": "ipython3",
   "version": "3.5.2+"
  }
 },
 "nbformat": 4,
 "nbformat_minor": 2
}
