{
 "cells": [
  {
   "cell_type": "markdown",
   "metadata": {
    "deletable": true,
    "editable": true
   },
   "source": [
    "# Calcul d'une paire de dés un peu particulière.\n",
    "- Je vais implémenter une fonction, en [Python 3](https://docs.python.org/3/), qui permettra de résoudre rapidement un problème mathématique."
   ]
  },
  {
   "cell_type": "markdown",
   "metadata": {
    "deletable": true,
    "editable": true
   },
   "source": [
    "---\n",
    "## Exposé du problème :\n",
    "- Soit $n \\geq 1$ un nombre de faces pour des dés bien équilibrés. On prendre $n = 6$ pour commencer, mais $n = 8, 10, 12, 20$ ou $n = 100$ est aussi possible.\n",
    "- On veut trouver deux ensembles d'entiers, $A$ et $B$, de tailles $n$, tels que les entiers dans $A$ soient tous [premiers](https://fr.wikipedia.org/wiki/Nombre_premier), et les entiers dans $B$ soient tous [pairs](https://fr.wikipedia.org/wiki/Parit%C3%A9_(arithm%C3%A9tique)), et on souhaite que chaque somme $a + b$ pour $a \\in A$ et $b \\in B$ soit encore un nombre premier.\n",
    "\n",
    "Par exemples :\n",
    "- Avec $n = 1$, prendre $A = \\{3\\}$ et $B = \\{2\\}$ fonctionne, comme $3 + 2 = 5$ est premier.\n",
    "- Avec $n = 2$, prendre $A = \\{3, 5\\}$ et $B = \\{2, 8\\}$ fonctionne, comme $3 + 2 = 5$, $3 + 8 = 11$, $5 + 2 = 7$, et $5 + 8 = 13$ sont premiers.\n",
    "- Avec $n = 6$, c'est tout de suite moins facile à trouver de tête... Allez, je triche et je donne un exemple trouvé plus bas : $A = \\{5, 7, 17, 31, 61, 101\\}$ et $B = \\{6, 12, 36, 66, 96, 132\\}$.\n",
    "\n",
    "### Buts\n",
    "Notre but est d'abord de trouver vérifier qu'une paire $(A, B)$ donnée soit valide, puis de trouver une paire valide de taille $n$ donnée.\n",
    "On ne cherchera pas à avoir un algorithme très malin, une énumération exhaustive nous suffira.\n",
    "\n",
    "\n",
    "Ensuite on cherchera à répondre à une question plus combinatoire : peut-on trouver, à $n$ fixer, la paire valide $(A, B)$ de somme minimale (ou minimisant un certain critère) ?\n",
    "La réponse sera oui, et pas trop dure à obtenir."
   ]
  },
  {
   "cell_type": "markdown",
   "metadata": {
    "deletable": true,
    "editable": true
   },
   "source": [
    "---\n",
    "## Présentation de ma solution numérique\n",
    "- Je vais utiliser le module python [`sympy`](http://sympy.org/) et en particulier ses fonctions du module [`sympy.ntheory`](http://docs.sympy.org/latest/modules/ntheory.html) pour avoir facilement accès à une liste de nombres premiers. En particulier, [`primerange`](http://docs.sympy.org/latest/modules/ntheory.html#sympy.ntheory.generate.primerange) sera bien pratique.\n",
    "- Je vais procéder par énumération totale avec un \"doubling trick\" : on cherchera toutes les paires $(A, B)$ bornées dans, disons, $[1, 100]$, puis $[1, 110]$ et ainsi de suite (avec un petit incrément), jusqu'à en trouver une qui marche.\n",
    "- Cette approche \"ascendante\" garantit de terminer, pour peu qu'on puisse prouver théoriquement l'existence de la solution qu'on cherche.\n",
    "\n",
    "### Solution théorique ?\n",
    "> Je ne vais pas rentrer dans les détails, mais avec [le théorème de la progression arithmétique de Dirichlet](https://fr.wikipedia.org/wiki/Théorème_de_la_progression_arithmétique) (cf. aussi [ce document](http://perso.eleves.ens-rennes.fr/~ariffaut/Agregation/Dirichlet.pdf)), on peut montrer que pour tout nombre de faces $n \\geq 1$, on peut trouver un nombre infini d'ensembles $(A, B)$ qui conviennent.\n",
    "> *Ouais, c'est balèze*."
   ]
  },
  {
   "cell_type": "markdown",
   "metadata": {
    "deletable": true,
    "editable": true
   },
   "source": [
    "----\n",
    "### Solution numérique\n",
    "On commence avec les dépendances suivantes.\n",
    "\n",
    "> *Note :* Si vous n'avez pas installé [`sympy`](http://sympy.org/), un simple coup de `pip install sympy` suffit."
   ]
  },
  {
   "cell_type": "code",
   "execution_count": 1,
   "metadata": {
    "collapsed": true,
    "deletable": true,
    "editable": true
   },
   "outputs": [],
   "source": [
    "from sympy import isprime\n",
    "from sympy import primerange"
   ]
  },
  {
   "cell_type": "markdown",
   "metadata": {
    "deletable": true,
    "editable": true
   },
   "source": [
    "---\n",
    "## Implémentation des fonctions utilitaires requises\n",
    "D'abord, une fonction `verifie_paire` qui vérifie si une paire $(A, B)$, donnée sous forme de deux *itérateurs* (liste ou ensemble, peu importe), est valide."
   ]
  },
  {
   "cell_type": "code",
   "execution_count": 2,
   "metadata": {
    "collapsed": true,
    "deletable": true,
    "editable": true
   },
   "outputs": [],
   "source": [
    "def verifie_paire(A, B):\n",
    "    \"\"\"Version efficace, qui s'arrête le plus tôt possible.\"\"\"\n",
    "    if A is None or B is None:\n",
    "        return False\n",
    "    for a in A:\n",
    "        # if not isprime(a):  # Inutile car A aura été bien choisi\n",
    "        #    return False\n",
    "        for b in B:\n",
    "            if not isprime(a + b):\n",
    "                return False\n",
    "    return True"
   ]
  },
  {
   "cell_type": "markdown",
   "metadata": {
    "deletable": true,
    "editable": true
   },
   "source": [
    "Pour visualiser un peu, on en fait une version qui parle :"
   ]
  },
  {
   "cell_type": "code",
   "execution_count": 3,
   "metadata": {
    "collapsed": true,
    "deletable": true,
    "editable": true
   },
   "outputs": [],
   "source": [
    "def verifie_paire_debug(A, B):\n",
    "    \"\"\"Version plus lente qui fait tous les tests, et affiche vrai ou faux pour chaque somme a + b.\"\"\"\n",
    "    if A is None or B is None:\n",
    "        return False\n",
    "    reponse = True\n",
    "    for a in A:\n",
    "        if not isprime(a):\n",
    "            print(\"  - a = {:<6} est pas premier, ECHEC ...\".format(a))\n",
    "            reponse = False\n",
    "        for b in B:\n",
    "            if not isprime(a + b):\n",
    "                print(\"  - a = {:<6} + b = {:<6} donnent {:<6} qui n'est pas premier, ECHEC ...\".format(a, b, a + b))\n",
    "                reponse = False\n",
    "            else:\n",
    "                print(\"  - a = {:<6} + b = {:<6} donnent {:<6} qui est bien premier, OK ...\".format(a, b, a + b))\n",
    "    return reponse"
   ]
  },
  {
   "cell_type": "markdown",
   "metadata": {
    "deletable": true,
    "editable": true
   },
   "source": [
    "Premier exemple :"
   ]
  },
  {
   "cell_type": "code",
   "execution_count": 4,
   "metadata": {
    "collapsed": false,
    "deletable": true,
    "editable": true,
    "scrolled": true
   },
   "outputs": [
    {
     "name": "stdout",
     "output_type": "stream",
     "text": [
      "  - a = 3      + b = 2      donnent 5      qui est bien premier, OK ...\n"
     ]
    },
    {
     "data": {
      "text/plain": [
       "True"
      ]
     },
     "execution_count": 4,
     "metadata": {},
     "output_type": "execute_result"
    }
   ],
   "source": [
    "A = [3]\n",
    "B = [2]\n",
    "verifie_paire_debug(A, B)"
   ]
  },
  {
   "cell_type": "markdown",
   "metadata": {
    "deletable": true,
    "editable": true
   },
   "source": [
    "Second exemple :"
   ]
  },
  {
   "cell_type": "code",
   "execution_count": 5,
   "metadata": {
    "collapsed": false,
    "deletable": true,
    "editable": true
   },
   "outputs": [
    {
     "name": "stdout",
     "output_type": "stream",
     "text": [
      "  - a = 3      + b = 2      donnent 5      qui est bien premier, OK ...\n",
      "  - a = 3      + b = 8      donnent 11     qui est bien premier, OK ...\n",
      "  - a = 5      + b = 2      donnent 7      qui est bien premier, OK ...\n",
      "  - a = 5      + b = 8      donnent 13     qui est bien premier, OK ...\n"
     ]
    },
    {
     "data": {
      "text/plain": [
       "True"
      ]
     },
     "execution_count": 5,
     "metadata": {},
     "output_type": "execute_result"
    }
   ],
   "source": [
    "A = (3, 5)\n",
    "B = (2, 8)\n",
    "verifie_paire_debug(A, B)"
   ]
  },
  {
   "cell_type": "code",
   "execution_count": 6,
   "metadata": {
    "collapsed": false,
    "deletable": true,
    "editable": true
   },
   "outputs": [
    {
     "data": {
      "text/plain": [
       "True"
      ]
     },
     "execution_count": 6,
     "metadata": {},
     "output_type": "execute_result"
    }
   ],
   "source": [
    "verifie_paire(A, B)"
   ]
  },
  {
   "cell_type": "markdown",
   "metadata": {
    "deletable": true,
    "editable": true
   },
   "source": [
    "Avec $n = 6$ :"
   ]
  },
  {
   "cell_type": "code",
   "execution_count": 7,
   "metadata": {
    "collapsed": false,
    "deletable": true,
    "editable": true
   },
   "outputs": [
    {
     "data": {
      "text/plain": [
       "True"
      ]
     },
     "execution_count": 7,
     "metadata": {},
     "output_type": "execute_result"
    }
   ],
   "source": [
    "A = [5, 7, 17, 31, 61, 101]\n",
    "B = [6, 12, 36, 66, 96, 132]\n",
    "verifie_paire(A, B)"
   ]
  },
  {
   "cell_type": "markdown",
   "metadata": {},
   "source": [
    "Les dés vendus dans le commerce sont marqués avec ces faces :"
   ]
  },
  {
   "cell_type": "code",
   "execution_count": 4,
   "metadata": {
    "collapsed": false
   },
   "outputs": [
    {
     "data": {
      "text/plain": [
       "True"
      ]
     },
     "execution_count": 4,
     "metadata": {},
     "output_type": "execute_result"
    }
   ],
   "source": [
    "A = [2, 6, 20, 252, 266, 380]\n",
    "B = [17, 41, 107, 191, 311, 347]\n",
    "verifie_paire(A, B)"
   ]
  },
  {
   "cell_type": "markdown",
   "metadata": {
    "deletable": true,
    "editable": true
   },
   "source": [
    "---\n",
    "On a besoin de cette fonction de combinaison :"
   ]
  },
  {
   "cell_type": "code",
   "execution_count": 8,
   "metadata": {
    "collapsed": true,
    "deletable": true,
    "editable": true
   },
   "outputs": [],
   "source": [
    "from itertools import combinations"
   ]
  },
  {
   "cell_type": "markdown",
   "metadata": {
    "deletable": true,
    "editable": true
   },
   "source": [
    "Ensuite, on écrit une fonction qui va énumérer *tous* les ensembles $(A, B)$ possibles et valides, avec $\\max (A \\cup B ) \\leq M$ pour $M$ fixé.\n",
    "J'ajoute une borne inférieure $m$, valant par défaut $m = 1$, pour rester le plus générique possible, mais on ne s'en sert pas vraiment.\n",
    "\n",
    "- On récupère les candidats possibles pour $a \\in A$ via `primerange` (notés $C_A$), et pour $B$ via un `range` à pas $2$ pour considérer seulement des nombres pairs (notés $B_A$),\n",
    "- Ensuite on boucle sur tous les ensembles $A$ de taille $n$ dans $C_A$, et $B$ de taille $n$ dans $C_B$, via [`itertools.combinations`](https://docs.python.org/3/library/itertools.html#itertools.combinations),\n",
    "- On garde uniquement ceux qui sont valides, et on les stocke tous.\n",
    "\n",
    "> **Attention** ça devient vite très couteux !"
   ]
  },
  {
   "cell_type": "code",
   "execution_count": 9,
   "metadata": {
    "collapsed": true,
    "deletable": true,
    "editable": true
   },
   "outputs": [],
   "source": [
    "def candidats_CA_CB(M=10, m=1):\n",
    "    # Premiers entre m et M (compris), ie. P inter [|m, ..., M|]\n",
    "    C_A = list(primerange(m, M + 1))\n",
    "    # Nombres pairs\n",
    "    if m % 2 == 0:\n",
    "        C_B = list(range(m, M - 1, 2))\n",
    "    else:\n",
    "        C_B = list(range(m + 1, M - 1, 2))\n",
    "    return C_A, C_B"
   ]
  },
  {
   "cell_type": "markdown",
   "metadata": {
    "deletable": true,
    "editable": true
   },
   "source": [
    "Cette première approche est très naïve, et énormément de calculs sont dédoublés (on teste les paires $(A, B)$ en faisant plein de tests pour savoir si $a + b$ est premier, c'est couteux)."
   ]
  },
  {
   "cell_type": "code",
   "execution_count": 10,
   "metadata": {
    "collapsed": false,
    "deletable": true,
    "editable": true,
    "scrolled": true
   },
   "outputs": [],
   "source": [
    "def enumere_toutes_les_paires(n=2, M=10, m=1, debug=False):\n",
    "    C_A, C_B = candidats_CA_CB(M=M, m=m)\n",
    "    if debug:\n",
    "        print(\"C_A =\", C_A)\n",
    "        print(\"C_B =\", C_B)\n",
    "        print(\"Combinaison de n =\", n, \"éléments dans A =\", list(combinations(C_A, n)))\n",
    "        print(\"Combinaison de n =\", n, \"éléments dans B =\", list(combinations(C_B, n)))\n",
    "    # C_A, C_B est déjà trié, c'est cool\n",
    "    all_A_B = []\n",
    "    for A in combinations(C_A, n):\n",
    "        if debug: print(\" - A =\", A)\n",
    "        for B in combinations(C_B, n):\n",
    "            if debug: print(\"     - B =\", B)\n",
    "            if verifie_paire(A, B):\n",
    "                if debug: print(\"==> Une paire (A, B) de plus !\")\n",
    "                all_A_B.append((A, B))\n",
    "    # all_A_B est aussi trié par ordre lexicographique\n",
    "    return all_A_B"
   ]
  },
  {
   "cell_type": "markdown",
   "metadata": {
    "deletable": true,
    "editable": true
   },
   "source": [
    "On peut vérifier que les exemples donnés ci-dessus sont valides, et sont en fait les plus petits :"
   ]
  },
  {
   "cell_type": "code",
   "execution_count": 11,
   "metadata": {
    "collapsed": false,
    "deletable": true,
    "editable": true
   },
   "outputs": [
    {
     "name": "stdout",
     "output_type": "stream",
     "text": [
      "C_A = [2, 3, 5, 7]\n",
      "C_B = [2, 4, 6, 8]\n",
      "Combinaison de n = 1 éléments dans A = [(2,), (3,), (5,), (7,)]\n",
      "Combinaison de n = 1 éléments dans B = [(2,), (4,), (6,), (8,)]\n",
      " - A = (2,)\n",
      "     - B = (2,)\n",
      "     - B = (4,)\n",
      "     - B = (6,)\n",
      "     - B = (8,)\n",
      " - A = (3,)\n",
      "     - B = (2,)\n",
      "==> Une paire (A, B) de plus !\n",
      "     - B = (4,)\n",
      "==> Une paire (A, B) de plus !\n",
      "     - B = (6,)\n",
      "     - B = (8,)\n",
      "==> Une paire (A, B) de plus !\n",
      " - A = (5,)\n",
      "     - B = (2,)\n",
      "==> Une paire (A, B) de plus !\n",
      "     - B = (4,)\n",
      "     - B = (6,)\n",
      "==> Une paire (A, B) de plus !\n",
      "     - B = (8,)\n",
      "==> Une paire (A, B) de plus !\n",
      " - A = (7,)\n",
      "     - B = (2,)\n",
      "     - B = (4,)\n",
      "==> Une paire (A, B) de plus !\n",
      "     - B = (6,)\n",
      "==> Une paire (A, B) de plus !\n",
      "     - B = (8,)\n"
     ]
    },
    {
     "data": {
      "text/plain": [
       "[((3,), (2,)),\n",
       " ((3,), (4,)),\n",
       " ((3,), (8,)),\n",
       " ((5,), (2,)),\n",
       " ((5,), (6,)),\n",
       " ((5,), (8,)),\n",
       " ((7,), (4,)),\n",
       " ((7,), (6,))]"
      ]
     },
     "execution_count": 11,
     "metadata": {},
     "output_type": "execute_result"
    }
   ],
   "source": [
    "n = 1\n",
    "M = 10\n",
    "enumere_toutes_les_paires(n, M, debug=True)"
   ]
  },
  {
   "cell_type": "code",
   "execution_count": 12,
   "metadata": {
    "collapsed": false,
    "deletable": true,
    "editable": true
   },
   "outputs": [
    {
     "name": "stdout",
     "output_type": "stream",
     "text": [
      "C_A = [2, 3, 5, 7]\n",
      "C_B = [2, 4, 6, 8]\n",
      "Combinaison de n = 2 éléments dans A = [(2, 3), (2, 5), (2, 7), (3, 5), (3, 7), (5, 7)]\n",
      "Combinaison de n = 2 éléments dans B = [(2, 4), (2, 6), (2, 8), (4, 6), (4, 8), (6, 8)]\n",
      " - A = (2, 3)\n",
      "     - B = (2, 4)\n",
      "     - B = (2, 6)\n",
      "     - B = (2, 8)\n",
      "     - B = (4, 6)\n",
      "     - B = (4, 8)\n",
      "     - B = (6, 8)\n",
      " - A = (2, 5)\n",
      "     - B = (2, 4)\n",
      "     - B = (2, 6)\n",
      "     - B = (2, 8)\n",
      "     - B = (4, 6)\n",
      "     - B = (4, 8)\n",
      "     - B = (6, 8)\n",
      " - A = (2, 7)\n",
      "     - B = (2, 4)\n",
      "     - B = (2, 6)\n",
      "     - B = (2, 8)\n",
      "     - B = (4, 6)\n",
      "     - B = (4, 8)\n",
      "     - B = (6, 8)\n",
      " - A = (3, 5)\n",
      "     - B = (2, 4)\n",
      "     - B = (2, 6)\n",
      "     - B = (2, 8)\n",
      "==> Une paire (A, B) de plus !\n",
      "     - B = (4, 6)\n",
      "     - B = (4, 8)\n",
      "     - B = (6, 8)\n",
      " - A = (3, 7)\n",
      "     - B = (2, 4)\n",
      "     - B = (2, 6)\n",
      "     - B = (2, 8)\n",
      "     - B = (4, 6)\n",
      "     - B = (4, 8)\n",
      "     - B = (6, 8)\n",
      " - A = (5, 7)\n",
      "     - B = (2, 4)\n",
      "     - B = (2, 6)\n",
      "     - B = (2, 8)\n",
      "     - B = (4, 6)\n",
      "     - B = (4, 8)\n",
      "     - B = (6, 8)\n"
     ]
    },
    {
     "data": {
      "text/plain": [
       "[((3, 5), (2, 8))]"
      ]
     },
     "execution_count": 12,
     "metadata": {},
     "output_type": "execute_result"
    }
   ],
   "source": [
    "n = 2\n",
    "M = 10\n",
    "enumere_toutes_les_paires(n, M, debug=True)"
   ]
  },
  {
   "cell_type": "markdown",
   "metadata": {
    "deletable": true,
    "editable": true
   },
   "source": [
    "On peut continuer, avec $n = 3$ et un petit majorant $M$ :"
   ]
  },
  {
   "cell_type": "code",
   "execution_count": 13,
   "metadata": {
    "collapsed": false,
    "deletable": true,
    "editable": true
   },
   "outputs": [
    {
     "data": {
      "text/plain": [
       "[((3, 7, 13), (4, 10, 16)), ((5, 11, 17), (2, 6, 12))]"
      ]
     },
     "execution_count": 13,
     "metadata": {},
     "output_type": "execute_result"
    }
   ],
   "source": [
    "n = 3\n",
    "M = 20\n",
    "enumere_toutes_les_paires(n, M, debug=False)"
   ]
  },
  {
   "cell_type": "markdown",
   "metadata": {
    "deletable": true,
    "editable": true
   },
   "source": [
    "On peut continuer, avec $n = 4$ et un petit majorant $M$ :"
   ]
  },
  {
   "cell_type": "code",
   "execution_count": 14,
   "metadata": {
    "collapsed": false,
    "deletable": true,
    "editable": true
   },
   "outputs": [
    {
     "name": "stdout",
     "output_type": "stream",
     "text": [
      "CPU times: user 7.41 s, sys: 0 ns, total: 7.41 s\n",
      "Wall time: 7.41 s\n"
     ]
    },
    {
     "data": {
      "text/plain": [
       "[((3, 7, 13, 37), (4, 10, 16, 34)),\n",
       " ((7, 11, 17, 31), (6, 12, 30, 36)),\n",
       " ((7, 13, 19, 37), (4, 10, 24, 34)),\n",
       " ((7, 13, 31, 37), (6, 10, 16, 30)),\n",
       " ((7, 17, 23, 37), (6, 24, 30, 36))]"
      ]
     },
     "execution_count": 14,
     "metadata": {},
     "output_type": "execute_result"
    }
   ],
   "source": [
    "n = 4\n",
    "M = 40\n",
    "%time enumere_toutes_les_paires(n, M, debug=False)"
   ]
  },
  {
   "cell_type": "markdown",
   "metadata": {
    "deletable": true,
    "editable": true
   },
   "source": [
    "On voit que ça commence à prendre du temps.\n",
    "\n",
    "Deux améliorations seront explorées :\n",
    "- On a pas besoin de toutes les calculer, en fait. Si on cherche juste une paire valide, on peut s'arrêter à la première trouvée.\n",
    "- On peut être malin dans la création des candidats $C_B$, plutôt que de juste prendre de nombres pairs, on prend directement des nombres $b$ tels que $a + b$ soit premier."
   ]
  },
  {
   "cell_type": "markdown",
   "metadata": {
    "deletable": true,
    "editable": true
   },
   "source": [
    "---\n",
    "## Première optimisation\n",
    "- On n'a pas besoin d'énunumérer toutes les paires, il suffit de donner la premier trouvée.\n",
    "- Pourquoi la première ? Et bien si $C_A$ et $C_B$ sont triés, les candidats pour $(A, B)$ seront aussi triés par ordre lexicographique, et donc le premier trouvé sera le plus petit."
   ]
  },
  {
   "cell_type": "code",
   "execution_count": 15,
   "metadata": {
    "collapsed": true,
    "deletable": true,
    "editable": true
   },
   "outputs": [],
   "source": [
    "def premiere_paire(n=2, M=10, m=1):\n",
    "    C_A, C_B = candidats_CA_CB(M=M, m=m)\n",
    "    # C_A, C_B est déjà trié, c'est cool\n",
    "    for A in combinations(C_A, n):\n",
    "        for B in combinations(C_B, n):\n",
    "            if verifie_paire(A, B):\n",
    "                return (A, B)\n",
    "    return (None, None)"
   ]
  },
  {
   "cell_type": "code",
   "execution_count": 16,
   "metadata": {
    "collapsed": false,
    "deletable": true,
    "editable": true,
    "scrolled": false
   },
   "outputs": [
    {
     "name": "stdout",
     "output_type": "stream",
     "text": [
      "CPU times: user 2 s, sys: 8 ms, total: 2.01 s\n",
      "Wall time: 2.01 s\n",
      "A = (3, 7, 13, 37)\n",
      "B = (4, 10, 16, 34)\n"
     ]
    }
   ],
   "source": [
    "n = 4\n",
    "M = 40\n",
    "%time A, B = premiere_paire(n, M)\n",
    "print(\"A =\", A)\n",
    "print(\"B =\", B)"
   ]
  },
  {
   "cell_type": "markdown",
   "metadata": {
    "deletable": true,
    "editable": true
   },
   "source": [
    "Avec $n = 5$, on commence à avoir besoin d'aller plus loin que ce majorant `M = 40` :"
   ]
  },
  {
   "cell_type": "code",
   "execution_count": 17,
   "metadata": {
    "collapsed": false,
    "deletable": true,
    "editable": true
   },
   "outputs": [
    {
     "name": "stdout",
     "output_type": "stream",
     "text": [
      "CPU times: user 33.7 s, sys: 0 ns, total: 33.7 s\n",
      "Wall time: 33.7 s\n",
      "A = None\n",
      "B = None\n"
     ]
    }
   ],
   "source": [
    "n = 5\n",
    "M = 40\n",
    "%time A, B = premiere_paire(n, M)  # (None, None) indique qu'on a pas trouvé\n",
    "print(\"A =\", A)\n",
    "print(\"B =\", B)"
   ]
  },
  {
   "cell_type": "markdown",
   "metadata": {
    "deletable": true,
    "editable": true
   },
   "source": [
    "Mais parfois on ne sait pas trop quelle valeur donner à ce majorant `M`...\n",
    "\n",
    "Une approche simple est donc d'augmenter sa valeur jusqu'à trouver une paire valide."
   ]
  },
  {
   "cell_type": "code",
   "execution_count": 18,
   "metadata": {
    "collapsed": false,
    "deletable": true,
    "editable": true
   },
   "outputs": [],
   "source": [
    "def premiere_paire_explore_M(n=2, Ms=[10,20,30,40,50], m=1):\n",
    "    for M in Ms:\n",
    "        resultat = premiere_paire(n=n, M=M, m=m)\n",
    "        if resultat[0] is not None:\n",
    "            return resultat\n",
    "    return (None, None)"
   ]
  },
  {
   "cell_type": "markdown",
   "metadata": {
    "deletable": true,
    "editable": true
   },
   "source": [
    "On peut faire encore mieux, en augmentant `M` automatiquement d'un certain offset $\\delta_M > 0$ :"
   ]
  },
  {
   "cell_type": "code",
   "execution_count": 19,
   "metadata": {
    "collapsed": true,
    "deletable": true,
    "editable": true
   },
   "outputs": [],
   "source": [
    "def premiere_paire_augmente_M(n=2, Mmin=10, deltaM=10, m=1):\n",
    "    assert isinstance(deltaM, int)\n",
    "    assert deltaM >= 1\n",
    "    M = Mmin\n",
    "    while True:\n",
    "        print(\"Appel à premiere_paire(n={}, M={}, m={}) ...\".format(n, M, m))\n",
    "        # Ce n'est pas dangereux, puisqu'on est garanti de trouver une paire qui marche \n",
    "        resultat = premiere_paire(n=n, M=M, m=m)\n",
    "        if resultat[0] is not None:\n",
    "            print(\"Terminé, avec M =\", M)\n",
    "            return resultat\n",
    "        M += deltaM"
   ]
  },
  {
   "cell_type": "markdown",
   "metadata": {
    "deletable": true,
    "editable": true
   },
   "source": [
    "On peut retrouver le résultat trouvé plus haut, pour $n = 2$ :"
   ]
  },
  {
   "cell_type": "code",
   "execution_count": 20,
   "metadata": {
    "collapsed": false,
    "deletable": true,
    "editable": true
   },
   "outputs": [
    {
     "name": "stdout",
     "output_type": "stream",
     "text": [
      "CPU times: user 0 ns, sys: 0 ns, total: 0 ns\n",
      "Wall time: 331 µs\n",
      "A = (3, 5)\n",
      "B = (2, 8)\n"
     ]
    }
   ],
   "source": [
    "n = 2\n",
    "Ms = [10,20,30,40,50]\n",
    "%time A, B = premiere_paire_explore_M(n, Ms)\n",
    "print(\"A =\", A)\n",
    "print(\"B =\", B)"
   ]
  },
  {
   "cell_type": "code",
   "execution_count": 21,
   "metadata": {
    "collapsed": false,
    "deletable": true,
    "editable": true,
    "scrolled": false
   },
   "outputs": [
    {
     "name": "stdout",
     "output_type": "stream",
     "text": [
      "Appel à premiere_paire(n=4, M=40, m=1) ...\n",
      "Terminé, avec M = 40\n",
      "CPU times: user 2.01 s, sys: 0 ns, total: 2.01 s\n",
      "Wall time: 2.01 s\n",
      "A = (3, 7, 13, 37)\n",
      "B = (4, 10, 16, 34)\n"
     ]
    }
   ],
   "source": [
    "n = 4\n",
    "M = 40\n",
    "deltaM = 10\n",
    "%time A, B = premiere_paire_augmente_M(n=n, Mmin=M, deltaM=deltaM)\n",
    "print(\"A =\", A)\n",
    "print(\"B =\", B)"
   ]
  },
  {
   "cell_type": "markdown",
   "metadata": {
    "deletable": true,
    "editable": true
   },
   "source": [
    "Et on peut résoudre pour $n = 5$ et $n = 6$. Mais cette approche prend beaucoup trop de temps."
   ]
  },
  {
   "cell_type": "code",
   "execution_count": 22,
   "metadata": {
    "collapsed": false,
    "deletable": true,
    "editable": true,
    "scrolled": true
   },
   "outputs": [],
   "source": [
    "n = 5\n",
    "M = 100\n",
    "deltaM = 10\n",
    "#%time A, B = premiere_paire_augmente_M(n=n, Mmin=M, deltaM=deltaM)\n",
    "#print(\"A =\", A)\n",
    "#print(\"B =\", B)"
   ]
  },
  {
   "cell_type": "markdown",
   "metadata": {
    "deletable": true,
    "editable": true
   },
   "source": [
    "> *Note :* Plutôt que d'écrire une fonction (qui `return` le premier résultat), on peut aussi écrire un **générateur**, qui `yield` les résultats un à un.\n",
    "> Il sera alors possible d'écrire des boucles directement comme ça :\n",
    "\n",
    "```python\n",
    "for (A, B) in generateur_paires(n=2, M=10, m=1):\n",
    "    ...\n",
    "```"
   ]
  },
  {
   "cell_type": "code",
   "execution_count": 23,
   "metadata": {
    "collapsed": true,
    "deletable": true,
    "editable": true
   },
   "outputs": [],
   "source": [
    "def generateur_paires(n=2, M=10, m=1):\n",
    "    C_A, C_B = candidats_CA_CB(M=M, m=m)\n",
    "    # C_A, C_B est déjà trié, c'est cool\n",
    "    for A in combinations(C_A, n):\n",
    "        for B in combinations(C_B, n):\n",
    "            if verifie_paire(A, B):\n",
    "                yield (A, B)"
   ]
  },
  {
   "cell_type": "markdown",
   "metadata": {
    "deletable": true,
    "editable": true
   },
   "source": [
    "---\n",
    "## Exemples"
   ]
  },
  {
   "cell_type": "markdown",
   "metadata": {
    "deletable": true,
    "editable": true
   },
   "source": [
    "---\n",
    "### Exemple avec des dés à 6 faces"
   ]
  },
  {
   "cell_type": "code",
   "execution_count": 24,
   "metadata": {
    "collapsed": false,
    "deletable": true,
    "editable": true,
    "scrolled": true
   },
   "outputs": [],
   "source": [
    "n = 6\n",
    "M = 100\n",
    "#A, B = premiere_paire(n, M)\n",
    "#print(\"A =\", A)\n",
    "#print(\"B =\", B)"
   ]
  },
  {
   "cell_type": "markdown",
   "metadata": {
    "deletable": true,
    "editable": true
   },
   "source": [
    "---\n",
    "## Autre approche, deuxième optimisation\n",
    "On a vu que l'approche *naïve* exposée ci-dessus n'est vraiment pas très efficace.\n",
    "\n",
    "On va être plus malin :\n",
    "- d'abord générer toutes paires $(a, b)$ possibles, avec $a$ et $a + b$ premiers, pour $a, b \\geq M$.\n",
    "- ensuite on pourra créer la plus grande paire $(A, B)$, probablement en regardant simplement des intersections d'ensembles."
   ]
  },
  {
   "cell_type": "markdown",
   "metadata": {
    "deletable": true,
    "editable": true
   },
   "source": [
    "### Préliminaire : petite optimisation pour `isprime`\n",
    "En une seule ligne, on peut ajouter un cache ([`functools.lru_cache`](https://docs.python.org/3/library/functools.html#functools.lru_cache)) pour la rendre plus rapide :"
   ]
  },
  {
   "cell_type": "code",
   "execution_count": 25,
   "metadata": {
    "collapsed": false,
    "deletable": true,
    "editable": true
   },
   "outputs": [],
   "source": [
    "from functools import lru_cache\n",
    "\n",
    "@lru_cache(maxsize=1<<10, typed=False)\n",
    "def estpremier(n):\n",
    "    return isprime(n)\n",
    "\n",
    "@lru_cache(maxsize=1<<20, typed=False)\n",
    "def candidats_CA_CB_cache(M=10, m=1):\n",
    "    return candidats_CA_CB(M=M, m=m)"
   ]
  },
  {
   "cell_type": "code",
   "execution_count": 26,
   "metadata": {
    "collapsed": false,
    "deletable": true,
    "editable": true
   },
   "outputs": [
    {
     "name": "stdout",
     "output_type": "stream",
     "text": [
      "1 loop, best of 3: 208 ms per loop\n"
     ]
    }
   ],
   "source": [
    "import numpy.random as nr\n",
    "%timeit [isprime(n) for n in nr.randint(1, 1<<10, 100000)]"
   ]
  },
  {
   "cell_type": "code",
   "execution_count": 27,
   "metadata": {
    "collapsed": false,
    "deletable": true,
    "editable": true
   },
   "outputs": [
    {
     "name": "stdout",
     "output_type": "stream",
     "text": [
      "10 loops, best of 3: 18.7 ms per loop\n"
     ]
    }
   ],
   "source": [
    "%timeit [estpremier(n) for n in nr.randint(1, 1<<10, 100000)]"
   ]
  },
  {
   "cell_type": "markdown",
   "metadata": {
    "deletable": true,
    "editable": true
   },
   "source": [
    "### Générer les paires $(a, b)$ valides\n",
    "C'est assez rapide.\n",
    "- La première fonction renvoie le résultat sous forme de liste de paires $(a, b)$ avec $b$ tel que $a + b$ soit premier,\n",
    "- La seconde fonction renvoie plutôt un dictionnaire qui, à $a \\in C_A$, associe tous les $b \\in C_B$ tels que $a + b$."
   ]
  },
  {
   "cell_type": "code",
   "execution_count": 28,
   "metadata": {
    "collapsed": true,
    "deletable": true,
    "editable": true
   },
   "outputs": [],
   "source": [
    "def genere_paires(M=10, m=1):\n",
    "    C_A, C_B = candidats_CA_CB_cache(M=M, m=m)\n",
    "    return [(a, b) for a in C_A for b in C_B if estpremier(a + b)]\n",
    "    \n",
    "def genere_dict(M=10, m=1):\n",
    "    C_A, C_B = candidats_CA_CB_cache(M=M, m=m)\n",
    "    return {a: [b for b in C_B if estpremier(a + b)] for a in C_A}"
   ]
  },
  {
   "cell_type": "code",
   "execution_count": 29,
   "metadata": {
    "collapsed": false,
    "deletable": true,
    "editable": true
   },
   "outputs": [
    {
     "data": {
      "text/plain": [
       "[(3, 2), (3, 4), (3, 8), (5, 2), (5, 6), (5, 8), (7, 4), (7, 6)]"
      ]
     },
     "execution_count": 29,
     "metadata": {},
     "output_type": "execute_result"
    }
   ],
   "source": [
    "genere_paires(10)"
   ]
  },
  {
   "cell_type": "code",
   "execution_count": 30,
   "metadata": {
    "collapsed": false,
    "deletable": true,
    "editable": true
   },
   "outputs": [
    {
     "data": {
      "text/plain": [
       "{2: [], 3: [2, 4, 8], 5: [2, 6, 8], 7: [4, 6]}"
      ]
     },
     "execution_count": 30,
     "metadata": {},
     "output_type": "execute_result"
    }
   ],
   "source": [
    "genere_dict(10)"
   ]
  },
  {
   "cell_type": "markdown",
   "metadata": {
    "deletable": true,
    "editable": true
   },
   "source": [
    "On voit que le nombres de paires $(a, b)$ telle que $a + b$ soit premier et $a, b \\leq M$ augmente assez vite avec $M$ :"
   ]
  },
  {
   "cell_type": "code",
   "execution_count": 31,
   "metadata": {
    "collapsed": false,
    "deletable": true,
    "editable": true,
    "scrolled": true
   },
   "outputs": [
    {
     "data": {
      "text/plain": [
       "5107"
      ]
     },
     "execution_count": 31,
     "metadata": {},
     "output_type": "execute_result"
    }
   ],
   "source": [
    "len(genere_paires(400))"
   ]
  },
  {
   "cell_type": "code",
   "execution_count": 32,
   "metadata": {
    "collapsed": false,
    "deletable": true,
    "editable": true
   },
   "outputs": [
    {
     "data": {
      "image/png": "[encoded data removed]",
      "text/plain": [
       "<matplotlib.figure.Figure at 0x7f26f405c898>"
      ]
     },
     "metadata": {},
     "output_type": "display_data"
    }
   ],
   "source": [
    "import matplotlib.pyplot as plt\n",
    "X = list(range(10, 2000, 10))\n",
    "Y = [ len(genere_paires(M)) for M in X ]\n",
    "plt.plot(X, Y)\n",
    "plt.show()"
   ]
  },
  {
   "cell_type": "markdown",
   "metadata": {
    "deletable": true,
    "editable": true
   },
   "source": [
    "## Suite : générer une paire $(A, B)$\n",
    "- On génère les candidats $C_A, C_B$,\n",
    "- On associe à chaque $a \\in C_A$ les $b \\in C_B$ qui fonctionne, notés $d(a)$,\n",
    "- On garde ceux qui ont au moins $n$ valeurs associées,\n",
    "- On regarde tous les ensembles $A \\subset C_A$ de taille exactement $n$,\n",
    "- Pour un $A$ donné, on construit $B$ comme $\\bigcap_{a \\in A} d(a)$, et on garde les $B$ de taille $\\geq n$,\n",
    "- On regarde enfin tous les ensembles $B' \\subset B$ de taille exactement $n$.\n",
    "- Ici, on garde juste le premier trouvé, plus bas on les garde tous."
   ]
  },
  {
   "cell_type": "code",
   "execution_count": 33,
   "metadata": {
    "collapsed": false,
    "deletable": true,
    "editable": true
   },
   "outputs": [],
   "source": [
    "@lru_cache(maxsize=1<<10, typed=False)\n",
    "def genere_A_B(n=2, M=10, m=1):\n",
    "    C_A, C_B = candidats_CA_CB_cache(M=M, m=m)\n",
    "    dictAB = {a: {b for b in C_B if estpremier(a + b)} for a in C_A}\n",
    "    for a in C_A:\n",
    "        if len(dictAB[a]) < n:\n",
    "            del dictAB[a]\n",
    "    # print(dictAB)\n",
    "    C_A = sorted(list(dictAB.keys()))\n",
    "    # C_A est déjà trié, c'est cool\n",
    "    # TODO : This for loop could possibly get parallelized, using joblib.Parallel\n",
    "    # It could speed up the computation by a factor of cpu_count()...\n",
    "    for A in combinations(C_A, n):\n",
    "        # DONE : improve this step to stop as soon as the intersection has length < n\n",
    "        # B = set.intersection(*(dictAB[a] for a in A))\n",
    "        B = set(dictAB[A[0]])\n",
    "        for a in A[1:]:\n",
    "            if len(B) < n:\n",
    "                break\n",
    "            B &= dictAB[a]\n",
    "        if len(B) >= n:\n",
    "            print(\" - A =\", A, \"\\t et B =\", B, \"...\")\n",
    "            for BB in combinations(B, n):  # On prend la 1ère\n",
    "                return (list(A), list(BB))\n",
    "    return (None, None)"
   ]
  },
  {
   "cell_type": "code",
   "execution_count": 34,
   "metadata": {
    "collapsed": true,
    "deletable": true,
    "editable": true
   },
   "outputs": [],
   "source": [
    "def test_genere_AB(n=2, M=10, m=1):\n",
    "    A, B = genere_A_B(n=n, M=M)\n",
    "    if not verifie_paire(A, B):\n",
    "        print(\"Mauvaise paire (A, B) =\", (A, B), \": elle n'est pas valable.\")\n",
    "        return (None, None)\n",
    "    print(\"A =\", A)\n",
    "    print(\"B =\", B)\n",
    "    return (A, B)"
   ]
  },
  {
   "cell_type": "code",
   "execution_count": 35,
   "metadata": {
    "collapsed": false,
    "deletable": true,
    "editable": true
   },
   "outputs": [
    {
     "name": "stdout",
     "output_type": "stream",
     "text": [
      " - A = (3, 5) \t et B = {8, 2} ...\n",
      "A = [3, 5]\n",
      "B = [8, 2]\n"
     ]
    },
    {
     "data": {
      "text/plain": [
       "([3, 5], [8, 2])"
      ]
     },
     "execution_count": 35,
     "metadata": {},
     "output_type": "execute_result"
    }
   ],
   "source": [
    "n = 2\n",
    "M = 10\n",
    "test_genere_AB(n=n, M=M)"
   ]
  },
  {
   "cell_type": "code",
   "execution_count": 36,
   "metadata": {
    "collapsed": false,
    "deletable": true,
    "editable": true,
    "scrolled": true
   },
   "outputs": [
    {
     "name": "stdout",
     "output_type": "stream",
     "text": [
      " - A = (3, 5, 11) \t et B = {8, 2, 26} ...\n",
      "A = [3, 5, 11]\n",
      "B = [8, 2, 26]\n",
      "CPU times: user 0 ns, sys: 0 ns, total: 0 ns\n",
      "Wall time: 1.8 ms\n"
     ]
    },
    {
     "data": {
      "text/plain": [
       "([3, 5, 11], [8, 2, 26])"
      ]
     },
     "execution_count": 36,
     "metadata": {},
     "output_type": "execute_result"
    }
   ],
   "source": [
    "n = 3\n",
    "M = 40\n",
    "%time test_genere_AB(n=n, M=M)"
   ]
  },
  {
   "cell_type": "code",
   "execution_count": 37,
   "metadata": {
    "collapsed": false,
    "deletable": true,
    "editable": true
   },
   "outputs": [
    {
     "name": "stdout",
     "output_type": "stream",
     "text": [
      " - A = (3, 7, 13, 19) \t et B = {40, 34, 10, 4} ...\n",
      "A = [3, 7, 13, 19]\n",
      "B = [40, 34, 10, 4]\n",
      "CPU times: user 0 ns, sys: 0 ns, total: 0 ns\n",
      "Wall time: 1.89 ms\n"
     ]
    },
    {
     "data": {
      "text/plain": [
       "([3, 7, 13, 19], [40, 34, 10, 4])"
      ]
     },
     "execution_count": 37,
     "metadata": {},
     "output_type": "execute_result"
    }
   ],
   "source": [
    "n = 4\n",
    "M = 50\n",
    "%time test_genere_AB(n=n, M=M)"
   ]
  },
  {
   "cell_type": "markdown",
   "metadata": {
    "deletable": true,
    "editable": true
   },
   "source": [
    "On peut comparer cette nouvelle fonction avec `premiere_paire` écrite plus haut :"
   ]
  },
  {
   "cell_type": "code",
   "execution_count": 38,
   "metadata": {
    "collapsed": false,
    "deletable": true,
    "editable": true
   },
   "outputs": [
    {
     "name": "stdout",
     "output_type": "stream",
     "text": [
      "1 loop, best of 3: 10.3 s per loop\n"
     ]
    }
   ],
   "source": [
    "n = 4\n",
    "M = 50\n",
    "%timeit -n1 premiere_paire(n=n, M=M)"
   ]
  },
  {
   "cell_type": "code",
   "execution_count": 39,
   "metadata": {
    "collapsed": false,
    "deletable": true,
    "editable": true
   },
   "outputs": [
    {
     "name": "stdout",
     "output_type": "stream",
     "text": [
      "1 loop, best of 3: 1.12 µs per loop\n"
     ]
    }
   ],
   "source": [
    "n = 4\n",
    "M = 50\n",
    "%timeit -n1 genere_A_B(n=n, M=M)"
   ]
  },
  {
   "cell_type": "markdown",
   "metadata": {
    "deletable": true,
    "editable": true
   },
   "source": [
    "→ On est effectivement bien plus rapide. Yay."
   ]
  },
  {
   "cell_type": "code",
   "execution_count": 40,
   "metadata": {
    "collapsed": false,
    "deletable": true,
    "editable": true
   },
   "outputs": [
    {
     "name": "stdout",
     "output_type": "stream",
     "text": [
      " - A = (3, 7, 13, 19, 97) \t et B = {40, 34, 10, 4, 94} ...\n",
      "A = [3, 7, 13, 19, 97]\n",
      "B = [40, 34, 10, 4, 94]\n",
      "CPU times: user 4 ms, sys: 0 ns, total: 4 ms\n",
      "Wall time: 4.67 ms\n"
     ]
    },
    {
     "data": {
      "text/plain": [
       "([3, 7, 13, 19, 97], [40, 34, 10, 4, 94])"
      ]
     },
     "execution_count": 40,
     "metadata": {},
     "output_type": "execute_result"
    }
   ],
   "source": [
    "n = 5\n",
    "M = 100\n",
    "%time test_genere_AB(n=n, M=M)"
   ]
  },
  {
   "cell_type": "code",
   "execution_count": 41,
   "metadata": {
    "collapsed": false,
    "deletable": true,
    "editable": true,
    "scrolled": true
   },
   "outputs": [
    {
     "name": "stdout",
     "output_type": "stream",
     "text": [
      " - A = (7, 13, 31, 37, 73, 97) \t et B = {66, 6, 10, 76, 16, 30} ...\n",
      "A = [7, 13, 31, 37, 73, 97]\n",
      "B = [66, 6, 10, 76, 16, 30]\n",
      "CPU times: user 112 ms, sys: 0 ns, total: 112 ms\n",
      "Wall time: 110 ms\n"
     ]
    },
    {
     "data": {
      "text/plain": [
       "([7, 13, 31, 37, 73, 97], [66, 6, 10, 76, 16, 30])"
      ]
     },
     "execution_count": 41,
     "metadata": {},
     "output_type": "execute_result"
    }
   ],
   "source": [
    "n = 6\n",
    "M = 100\n",
    "%time test_genere_AB(n=n, M=M)"
   ]
  },
  {
   "cell_type": "markdown",
   "metadata": {
    "deletable": true,
    "editable": true
   },
   "source": [
    "On peut vérifier que la valeur du majorant $M$ sur les valeurs des faces ne change pas le premier $A$ trouvé, mais comme les $B$ ne sont **pas** parcourus dans un ordre lexicographique (les `set` sont non triés), on ne trouve pas le même $B$.\n",
    "Et plus $M$ est grand, plus c'est long à calculer."
   ]
  },
  {
   "cell_type": "code",
   "execution_count": 42,
   "metadata": {
    "collapsed": false,
    "deletable": true,
    "editable": true
   },
   "outputs": [
    {
     "name": "stdout",
     "output_type": "stream",
     "text": [
      " - A = (3, 7, 13, 31, 73, 97) \t et B = {160, 100, 40, 10, 76, 16} ...\n",
      "A = [3, 7, 13, 31, 73, 97]\n",
      "B = [160, 100, 40, 10, 76, 16]\n",
      "CPU times: user 248 ms, sys: 0 ns, total: 248 ms\n",
      "Wall time: 246 ms\n"
     ]
    },
    {
     "data": {
      "text/plain": [
       "([3, 7, 13, 31, 73, 97], [160, 100, 40, 10, 76, 16])"
      ]
     },
     "execution_count": 42,
     "metadata": {},
     "output_type": "execute_result"
    }
   ],
   "source": [
    "n = 6\n",
    "M = 200\n",
    "%time test_genere_AB(n=n, M=M)"
   ]
  },
  {
   "cell_type": "markdown",
   "metadata": {
    "deletable": true,
    "editable": true
   },
   "source": [
    "Ça marche plutôt bien, on trouve effectivement la paire qui possède le plus petit $\\max A$ mais pas celle qui minimise $\\sum A \\cup B$ ou $\\max A \\cup B$..."
   ]
  },
  {
   "cell_type": "markdown",
   "metadata": {
    "deletable": true,
    "editable": true
   },
   "source": [
    "## Trouver la paire de somme minimale ou de max minimum.\n",
    "- On va calculer *toutes* les paires, avec notre fonction optimisée, dans `genere_toutes_A_B`,\n",
    "- Puis on les triera (en ordre croissant) selon le critère voulu,\n",
    "- Et on renvoie la première, qui minimisera donc le critère cherché.\n",
    "\n",
    "> *Note :* en étant malin, on pourrait carrément faire mieux qu'une énumération complète. Mais la flemme."
   ]
  },
  {
   "cell_type": "markdown",
   "metadata": {
    "deletable": true,
    "editable": true
   },
   "source": [
    "### D'abord, générer toutes les paires $(A, B)$\n",
    "C'est la même fonction que `genere_A_B`, mais on les renvoie toutes au lieu de s'arrêter à la première."
   ]
  },
  {
   "cell_type": "code",
   "execution_count": 43,
   "metadata": {
    "collapsed": false,
    "deletable": true,
    "editable": true
   },
   "outputs": [],
   "source": [
    "@lru_cache(maxsize=1<<10, typed=False)\n",
    "def genere_toutes_A_B(n=2, M=10, m=1):\n",
    "    C_A, C_B = candidats_CA_CB_cache(M=M, m=m)\n",
    "    dictAB = {a: {b for b in C_B if estpremier(a + b)} for a in C_A}\n",
    "    for a in C_A:\n",
    "        if len(dictAB[a]) < n:\n",
    "            del dictAB[a]\n",
    "    # print(dictAB)\n",
    "    C_A = sorted(list(dictAB.keys()))\n",
    "    # C_A est déjà trié, c'est cool\n",
    "    paires = []\n",
    "    # TODO : This for loop could very easily get parallelized, using joblib.Parallel\n",
    "    # It could speed up the computation by a factor of cpu_count()...\n",
    "    for A in combinations(C_A, n):\n",
    "        # DONE : improve this step to stop as soon as the intersection has length < n\n",
    "        # B = set.intersection(*(dictAB[a] for a in A))\n",
    "        B = set(dictAB[A[0]])\n",
    "        for a in A[1:]:\n",
    "            if len(B) < n:\n",
    "                break\n",
    "            B &= dictAB[a]\n",
    "        if len(B) >= n:\n",
    "            for BB in combinations(B, n):\n",
    "                print(\" - A =\", A, \"\\t et B =\", B, \"...\")\n",
    "                # print('.', end='')  # Affiche .... au fur et à mesure de l'exécution.\n",
    "                paires.append((list(A), list(BB)))\n",
    "    print('')\n",
    "    return paires"
   ]
  },
  {
   "cell_type": "markdown",
   "metadata": {
    "deletable": true,
    "editable": true
   },
   "source": [
    "On vérifie que ça fonctionne comme prévu :"
   ]
  },
  {
   "cell_type": "code",
   "execution_count": 44,
   "metadata": {
    "collapsed": false,
    "deletable": true,
    "editable": true,
    "scrolled": true
   },
   "outputs": [
    {
     "name": "stdout",
     "output_type": "stream",
     "text": [
      " - A = (3, 7, 13, 37) \t et B = {16, 34, 10, 4} ...\n",
      " - A = (7, 11, 17, 31) \t et B = {36, 12, 6, 30} ...\n",
      " - A = (7, 13, 19, 37) \t et B = {24, 34, 10, 4} ...\n",
      " - A = (7, 13, 31, 37) \t et B = {16, 10, 6, 30} ...\n",
      " - A = (7, 17, 23, 37) \t et B = {24, 36, 6, 30} ...\n",
      "\n"
     ]
    },
    {
     "data": {
      "text/plain": [
       "[([3, 7, 13, 37], [16, 34, 10, 4]),\n",
       " ([7, 11, 17, 31], [36, 12, 6, 30]),\n",
       " ([7, 13, 19, 37], [24, 34, 10, 4]),\n",
       " ([7, 13, 31, 37], [16, 10, 6, 30]),\n",
       " ([7, 17, 23, 37], [24, 36, 6, 30])]"
      ]
     },
     "execution_count": 44,
     "metadata": {},
     "output_type": "execute_result"
    }
   ],
   "source": [
    "n = 4\n",
    "M = 40\n",
    "genere_toutes_A_B(n=n, M=M)"
   ]
  },
  {
   "cell_type": "markdown",
   "metadata": {
    "deletable": true,
    "editable": true
   },
   "source": [
    "Il suffit donc de trier selon le critère choisi.\n",
    "$$\n",
    "    \\mathrm{sumsum} : (A, B) \\mapsto \\sum_{a \\in A} a + \\sum_{b \\in B} b.\n",
    "$$\n",
    "$$\n",
    "    \\mathrm{maxmax} : (A, B) \\mapsto \\max A \\cup B.\n",
    "$$"
   ]
  },
  {
   "cell_type": "code",
   "execution_count": 45,
   "metadata": {
    "collapsed": true,
    "deletable": true,
    "editable": true
   },
   "outputs": [],
   "source": [
    "def sumsum(paire):\n",
    "    return sum(paire[0]) + sum(paire[1])\n",
    "\n",
    "def maxmax(paire):\n",
    "    return max(max(paire[0]), max(paire[1]))"
   ]
  },
  {
   "cell_type": "markdown",
   "metadata": {
    "deletable": true,
    "editable": true
   },
   "source": [
    "On peut aussi prendre un critère qui combine les deux :"
   ]
  },
  {
   "cell_type": "code",
   "execution_count": 46,
   "metadata": {
    "collapsed": true,
    "deletable": true,
    "editable": true
   },
   "outputs": [],
   "source": [
    "def combine(paire):\n",
    "    return (sumsum(paire) + maxmax(paire)) / 2"
   ]
  },
  {
   "cell_type": "markdown",
   "metadata": {
    "deletable": true,
    "editable": true
   },
   "source": [
    "Il suffit d'utiliser l'argument `key=` de la fonction [`sorted`](https://docs.python.org/3/library/functions.html#sorted) :"
   ]
  },
  {
   "cell_type": "code",
   "execution_count": 47,
   "metadata": {
    "collapsed": true,
    "deletable": true,
    "editable": true
   },
   "outputs": [],
   "source": [
    "def trie_et_prend_min(paires, key=sumsum):\n",
    "    paires = sorted(paires, key=key)\n",
    "    A, B = paires[0]\n",
    "    assert verifie_paire(A, B)\n",
    "    return (sorted(A), sorted(B))"
   ]
  },
  {
   "cell_type": "markdown",
   "metadata": {
    "deletable": true,
    "editable": true
   },
   "source": [
    "Pour tester :"
   ]
  },
  {
   "cell_type": "code",
   "execution_count": 48,
   "metadata": {
    "collapsed": false,
    "deletable": true,
    "editable": true
   },
   "outputs": [],
   "source": [
    "def test_trie_et_prend_min(n=2, M=10):\n",
    "    paires = genere_toutes_A_B(n=n, M=M)\n",
    "    print(\"Pour n =\", n, \"et M =\", M, \"il y a\", len(paires), \"paires (A, B) trouvées valides ...\")\n",
    "\n",
    "    print(\"- On recherche celle de somme sum(A u B) minimale ...\")\n",
    "    A, B = trie_et_prend_min(paires, key=sumsum)\n",
    "    print(\"A =\", A)\n",
    "    print(\"B =\", B)\n",
    "    print(\"  Elle donne sumsum =\", sumsum((A, B)), \"et maxmax =\", maxmax((A, B)))\n",
    "\n",
    "    print(\"- On recherche celle de maximum max(A u B) minimale ...\")\n",
    "    A, B = trie_et_prend_min(paires, key=maxmax)\n",
    "    print(\"A =\", A)\n",
    "    print(\"B =\", B)\n",
    "    print(\"  Elle donne sumsum =\", sumsum((A, B)), \"et maxmax =\", maxmax((A, B)))\n",
    "\n",
    "    print(\"- On recherche celle de moyenne sumsum(A,B), maxmax(A,B) minimale ...\")\n",
    "    A, B = trie_et_prend_min(paires, key=combine)\n",
    "    print(\"A =\", A)\n",
    "    print(\"B =\", B)\n",
    "    print(\"  Elle donne sumsum =\", sumsum((A, B)), \"et maxmax =\", maxmax((A, B)))\n",
    "    \n",
    "    # for key in [sumsum, maxmax, combine]:\n",
    "    #    alls = [ (key(paire), (sorted(paire[0]), sorted(paire[1]))) for paire in sorted(paires, key=key) ]\n",
    "    #    print(alls[:5])\n",
    "    return (A, B)"
   ]
  },
  {
   "cell_type": "markdown",
   "metadata": {
    "deletable": true,
    "editable": true
   },
   "source": [
    "On peut refaire les mêmes exemples pour $n = 3, 4, 5$, et enfin $n = 6$."
   ]
  },
  {
   "cell_type": "code",
   "execution_count": 49,
   "metadata": {
    "collapsed": false,
    "deletable": true,
    "editable": true
   },
   "outputs": [
    {
     "name": "stdout",
     "output_type": "stream",
     "text": [
      " - A = (3, 7, 13) \t et B = {16, 10, 4} ...\n",
      " - A = (5, 11, 17) \t et B = {2, 12, 6} ...\n",
      "\n",
      "Pour n = 3 et M = 20 il y a 2 paires (A, B) trouvées valides ...\n",
      "- On recherche celle de somme sum(A u B) minimale ...\n",
      "A = [3, 7, 13]\n",
      "B = [4, 10, 16]\n",
      "  Elle donne sumsum = 53 et maxmax = 16\n",
      "- On recherche celle de maximum max(A u B) minimale ...\n",
      "A = [3, 7, 13]\n",
      "B = [4, 10, 16]\n",
      "  Elle donne sumsum = 53 et maxmax = 16\n",
      "- On recherche celle de moyenne sumsum(A,B), maxmax(A,B) minimale ...\n",
      "A = [3, 7, 13]\n",
      "B = [4, 10, 16]\n",
      "  Elle donne sumsum = 53 et maxmax = 16\n"
     ]
    },
    {
     "data": {
      "text/plain": [
       "([3, 7, 13], [4, 10, 16])"
      ]
     },
     "execution_count": 49,
     "metadata": {},
     "output_type": "execute_result"
    }
   ],
   "source": [
    "n = 3\n",
    "M = 20\n",
    "test_trie_et_prend_min(n, M)"
   ]
  },
  {
   "cell_type": "code",
   "execution_count": 50,
   "metadata": {
    "collapsed": false,
    "deletable": true,
    "editable": true,
    "scrolled": false
   },
   "outputs": [
    {
     "name": "stdout",
     "output_type": "stream",
     "text": [
      " - A = (3, 7, 13, 37) \t et B = {16, 34, 10, 4} ...\n",
      " - A = (7, 13, 19, 37) \t et B = {24, 34, 10, 4} ...\n",
      " - A = (7, 13, 31, 37) \t et B = {16, 10, 6, 30} ...\n",
      "\n",
      "Pour n = 4 et M = 37 il y a 3 paires (A, B) trouvées valides ...\n",
      "- On recherche celle de somme sum(A u B) minimale ...\n",
      "A = [3, 7, 13, 37]\n",
      "B = [4, 10, 16, 34]\n",
      "  Elle donne sumsum = 124 et maxmax = 37\n",
      "- On recherche celle de maximum max(A u B) minimale ...\n",
      "A = [3, 7, 13, 37]\n",
      "B = [4, 10, 16, 34]\n",
      "  Elle donne sumsum = 124 et maxmax = 37\n",
      "- On recherche celle de moyenne sumsum(A,B), maxmax(A,B) minimale ...\n",
      "A = [3, 7, 13, 37]\n",
      "B = [4, 10, 16, 34]\n",
      "  Elle donne sumsum = 124 et maxmax = 37\n"
     ]
    },
    {
     "data": {
      "text/plain": [
       "([3, 7, 13, 37], [4, 10, 16, 34])"
      ]
     },
     "execution_count": 50,
     "metadata": {},
     "output_type": "execute_result"
    }
   ],
   "source": [
    "n = 4\n",
    "M = 37\n",
    "test_trie_et_prend_min(n, M)"
   ]
  },
  {
   "cell_type": "code",
   "execution_count": 51,
   "metadata": {
    "collapsed": false,
    "deletable": true,
    "editable": true
   },
   "outputs": [
    {
     "name": "stdout",
     "output_type": "stream",
     "text": [
      " - A = (5, 11, 17, 41, 47) \t et B = {6, 42, 12, 56, 26, 62} ...\n",
      " - A = (5, 11, 17, 41, 47) \t et B = {6, 42, 12, 56, 26, 62} ...\n",
      " - A = (5, 11, 17, 41, 47) \t et B = {6, 42, 12, 56, 26, 62} ...\n",
      " - A = (5, 11, 17, 41, 47) \t et B = {6, 42, 12, 56, 26, 62} ...\n",
      " - A = (5, 11, 17, 41, 47) \t et B = {6, 42, 12, 56, 26, 62} ...\n",
      " - A = (5, 11, 17, 41, 47) \t et B = {6, 42, 12, 56, 26, 62} ...\n",
      " - A = (5, 17, 29, 47, 59) \t et B = {24, 42, 12, 54, 14} ...\n",
      " - A = (5, 17, 31, 47, 61) \t et B = {66, 12, 42, 36, 6} ...\n",
      " - A = (7, 13, 37, 43, 67) \t et B = {16, 4, 30, 46, 60} ...\n",
      " - A = (11, 13, 23, 41, 53) \t et B = {48, 18, 60, 6, 30} ...\n",
      " - A = (11, 17, 23, 47, 53) \t et B = {56, 50, 36, 20, 6} ...\n",
      "\n",
      "Pour n = 5 et M = 70 il y a 11 paires (A, B) trouvées valides ...\n",
      "- On recherche celle de somme sum(A u B) minimale ...\n",
      "A = [5, 11, 17, 41, 47]\n",
      "B = [6, 12, 26, 42, 56]\n",
      "  Elle donne sumsum = 263 et maxmax = 56\n",
      "- On recherche celle de maximum max(A u B) minimale ...\n",
      "A = [5, 11, 17, 41, 47]\n",
      "B = [6, 12, 26, 42, 56]\n",
      "  Elle donne sumsum = 263 et maxmax = 56\n",
      "- On recherche celle de moyenne sumsum(A,B), maxmax(A,B) minimale ...\n",
      "A = [5, 11, 17, 41, 47]\n",
      "B = [6, 12, 26, 42, 56]\n",
      "  Elle donne sumsum = 263 et maxmax = 56\n"
     ]
    },
    {
     "data": {
      "text/plain": [
       "([5, 11, 17, 41, 47], [6, 12, 26, 42, 56])"
      ]
     },
     "execution_count": 51,
     "metadata": {},
     "output_type": "execute_result"
    }
   ],
   "source": [
    "n = 5\n",
    "M = 70\n",
    "test_trie_et_prend_min(n, M)"
   ]
  },
  {
   "cell_type": "markdown",
   "metadata": {
    "deletable": true,
    "editable": true
   },
   "source": [
    "On observe que celle qui minimise `sumsum` est la même que celle qui minimise `maxmax`. Curieux ?\n",
    "\n",
    "C'est aussi le cas pour $n = 6$ :"
   ]
  },
  {
   "cell_type": "code",
   "execution_count": 52,
   "metadata": {
    "collapsed": false,
    "deletable": true,
    "editable": true
   },
   "outputs": [
    {
     "name": "stdout",
     "output_type": "stream",
     "text": [
      " - A = (3, 7, 13, 37, 73, 97) \t et B = {34, 100, 10, 76, 16, 94} ...\n",
      " - A = (5, 7, 17, 31, 61, 101) \t et B = {96, 66, 132, 36, 6, 12} ...\n",
      " - A = (5, 11, 17, 41, 71, 137) \t et B = {96, 2, 42, 12, 56, 26} ...\n",
      " - A = (5, 11, 17, 41, 101, 137) \t et B = {96, 2, 12, 56, 26, 62} ...\n",
      " - A = (5, 11, 17, 47, 71, 137) \t et B = {36, 42, 12, 56, 26, 92} ...\n",
      " - A = (5, 11, 17, 47, 101, 137) \t et B = {36, 12, 56, 26, 92, 62} ...\n",
      " - A = (5, 11, 17, 47, 131, 137) \t et B = {36, 42, 146, 26, 92, 62} ...\n",
      " - A = (5, 11, 17, 71, 101, 137) \t et B = {96, 2, 36, 12, 56, 26, 92} ...\n",
      " - A = (5, 11, 17, 71, 101, 137) \t et B = {96, 2, 36, 12, 56, 26, 92} ...\n",
      " - A = (5, 11, 17, 71, 101, 137) \t et B = {96, 2, 36, 12, 56, 26, 92} ...\n",
      " - A = (5, 11, 17, 71, 101, 137) \t et B = {96, 2, 36, 12, 56, 26, 92} ...\n",
      " - A = (5, 11, 17, 71, 101, 137) \t et B = {96, 2, 36, 12, 56, 26, 92} ...\n",
      " - A = (5, 11, 17, 71, 101, 137) \t et B = {96, 2, 36, 12, 56, 26, 92} ...\n",
      " - A = (5, 11, 17, 71, 101, 137) \t et B = {96, 2, 36, 12, 56, 26, 92} ...\n",
      " - A = (5, 11, 31, 53, 101, 103) \t et B = {96, 36, 6, 78, 48, 126} ...\n",
      " - A = (5, 11, 41, 53, 83, 101) \t et B = {96, 98, 6, 48, 56, 26} ...\n",
      " - A = (5, 11, 41, 53, 83, 131) \t et B = {96, 98, 6, 48, 18, 26} ...\n",
      " - A = (5, 11, 41, 53, 101, 131) \t et B = {96, 98, 6, 48, 26, 126} ...\n",
      " - A = (5, 11, 41, 71, 101, 137) \t et B = {96, 2, 12, 56, 26, 126} ...\n",
      " - A = (5, 11, 47, 71, 101, 137) \t et B = {36, 12, 56, 26, 92, 126} ...\n",
      " - A = (5, 11, 47, 71, 131, 137) \t et B = {36, 102, 42, 26, 92, 126} ...\n",
      " - A = (5, 17, 31, 41, 61, 97) \t et B = {96, 66, 132, 6, 42, 12} ...\n",
      " - A = (5, 19, 23, 29, 89, 149) \t et B = {108, 78, 144, 18, 84, 24} ...\n",
      " - A = (5, 19, 23, 79, 89, 149) \t et B = {78, 144, 48, 18, 84, 24} ...\n",
      " - A = (5, 19, 23, 83, 89, 149) \t et B = {108, 144, 48, 18, 84, 24} ...\n",
      " - A = (5, 23, 29, 53, 89, 149) \t et B = {8, 74, 78, 14, 144, 18, 84} ...\n",
      " - A = (5, 23, 29, 53, 89, 149) \t et B = {8, 74, 78, 14, 144, 18, 84} ...\n",
      " - A = (5, 23, 29, 53, 89, 149) \t et B = {8, 74, 78, 14, 144, 18, 84} ...\n",
      " - A = (5, 23, 29, 53, 89, 149) \t et B = {8, 74, 78, 14, 144, 18, 84} ...\n",
      " - A = (5, 23, 29, 53, 89, 149) \t et B = {8, 74, 78, 14, 144, 18, 84} ...\n",
      " - A = (5, 23, 29, 53, 89, 149) \t et B = {8, 74, 78, 14, 144, 18, 84} ...\n",
      " - A = (5, 23, 29, 53, 89, 149) \t et B = {8, 74, 78, 14, 144, 18, 84} ...\n",
      " - A = (5, 23, 29, 59, 89, 149) \t et B = {134, 8, 108, 78, 14, 24} ...\n",
      " - A = (5, 23, 29, 83, 89, 149) \t et B = {74, 108, 14, 144, 18, 84, 24} ...\n",
      " - A = (5, 23, 29, 83, 89, 149) \t et B = {74, 108, 14, 144, 18, 84, 24} ...\n",
      " - A = (5, 23, 29, 83, 89, 149) \t et B = {74, 108, 14, 144, 18, 84, 24} ...\n",
      " - A = (5, 23, 29, 83, 89, 149) \t et B = {74, 108, 14, 144, 18, 84, 24} ...\n",
      " - A = (5, 23, 29, 83, 89, 149) \t et B = {74, 108, 14, 144, 18, 84, 24} ...\n",
      " - A = (5, 23, 29, 83, 89, 149) \t et B = {74, 108, 14, 144, 18, 84, 24} ...\n",
      " - A = (5, 23, 29, 83, 89, 149) \t et B = {74, 108, 14, 144, 18, 84, 24} ...\n",
      " - A = (5, 23, 29, 89, 113, 149) \t et B = {78, 14, 144, 18, 84, 24} ...\n",
      " - A = (5, 23, 53, 83, 89, 149) \t et B = {74, 14, 144, 48, 18, 84} ...\n",
      " - A = (5, 29, 41, 59, 71, 89) \t et B = {68, 38, 42, 108, 12, 122} ...\n",
      " - A = (7, 11, 17, 31, 67, 101) \t et B = {96, 36, 6, 72, 12, 30} ...\n",
      " - A = (7, 11, 17, 41, 67, 101) \t et B = {96, 6, 72, 12, 90, 30} ...\n",
      " - A = (7, 13, 19, 37, 79, 97) \t et B = {34, 4, 10, 144, 60, 94} ...\n",
      " - A = (7, 13, 19, 37, 79, 103) \t et B = {34, 4, 10, 24, 60, 94} ...\n",
      " - A = (7, 13, 19, 37, 79, 139) \t et B = {34, 10, 144, 24, 60, 94} ...\n",
      " - A = (7, 13, 19, 37, 103, 139) \t et B = {34, 10, 24, 90, 60, 94} ...\n",
      " - A = (7, 13, 19, 73, 103, 139) \t et B = {34, 10, 54, 24, 90, 94} ...\n",
      " - A = (7, 13, 23, 37, 47, 107) \t et B = {66, 6, 144, 24, 90, 60} ...\n",
      " - A = (7, 13, 23, 37, 83, 107) \t et B = {66, 6, 144, 24, 90, 30} ...\n",
      " - A = (7, 13, 31, 37, 73, 97) \t et B = {66, 100, 6, 10, 76, 16, 30} ...\n",
      " - A = (7, 13, 31, 37, 73, 97) \t et B = {66, 100, 6, 10, 76, 16, 30} ...\n",
      " - A = (7, 13, 31, 37, 73, 97) \t et B = {66, 100, 6, 10, 76, 16, 30} ...\n",
      " - A = (7, 13, 31, 37, 73, 97) \t et B = {66, 100, 6, 10, 76, 16, 30} ...\n",
      " - A = (7, 13, 31, 37, 73, 97) \t et B = {66, 100, 6, 10, 76, 16, 30} ...\n",
      " - A = (7, 13, 31, 37, 73, 97) \t et B = {66, 100, 6, 10, 76, 16, 30} ...\n",
      " - A = (7, 13, 31, 37, 73, 97) \t et B = {66, 100, 6, 10, 76, 16, 30} ...\n",
      " - A = (7, 13, 37, 67, 79, 97) \t et B = {34, 100, 4, 144, 60, 30} ...\n",
      " - A = (7, 13, 37, 79, 97, 139) \t et B = {34, 100, 10, 144, 60, 94} ...\n",
      " - A = (7, 17, 31, 41, 67, 101) \t et B = {96, 132, 6, 72, 12, 30} ...\n",
      " - A = (7, 17, 31, 41, 97, 101) \t et B = {96, 66, 132, 6, 12, 30} ...\n",
      " - A = (7, 19, 37, 43, 79, 103) \t et B = {4, 10, 60, 24, 120, 94} ...\n",
      " - A = (7, 19, 37, 79, 97, 139) \t et B = {34, 10, 144, 52, 60, 94} ...\n",
      " - A = (11, 13, 41, 53, 103, 131) \t et B = {96, 6, 138, 48, 60, 126} ...\n",
      " - A = (11, 17, 41, 53, 71, 137) \t et B = {96, 140, 86, 56, 26, 30} ...\n",
      " - A = (11, 17, 41, 53, 83, 101) \t et B = {96, 6, 140, 56, 26, 30} ...\n",
      " - A = (11, 17, 41, 53, 83, 137) \t et B = {96, 140, 20, 56, 26, 30} ...\n",
      " - A = (11, 17, 41, 71, 101, 137) \t et B = {96, 2, 140, 12, 56, 26, 30} ...\n",
      " - A = (11, 17, 41, 71, 101, 137) \t et B = {96, 2, 140, 12, 56, 26, 30} ...\n",
      " - A = (11, 17, 41, 71, 101, 137) \t et B = {96, 2, 140, 12, 56, 26, 30} ...\n",
      " - A = (11, 17, 41, 71, 101, 137) \t et B = {96, 2, 140, 12, 56, 26, 30} ...\n",
      " - A = (11, 17, 41, 71, 101, 137) \t et B = {96, 2, 140, 12, 56, 26, 30} ...\n",
      " - A = (11, 17, 41, 71, 101, 137) \t et B = {96, 2, 140, 12, 56, 26, 30} ...\n",
      " - A = (11, 17, 41, 71, 101, 137) \t et B = {96, 2, 140, 12, 56, 26, 30} ...\n",
      " - A = (11, 17, 41, 83, 101, 137) \t et B = {96, 90, 140, 56, 26, 30} ...\n",
      " - A = (11, 17, 53, 71, 101, 137) \t et B = {96, 36, 140, 56, 26, 30} ...\n",
      " - A = (11, 17, 59, 107, 137, 149) \t et B = {2, 42, 120, 90, 92, 30} ...\n",
      " - A = (11, 23, 41, 53, 71, 137) \t et B = {140, 86, 30, 56, 60, 126} ...\n",
      " - A = (11, 23, 41, 53, 107, 137) \t et B = {20, 86, 30, 56, 60, 126} ...\n",
      " - A = (11, 37, 47, 71, 131, 137) \t et B = {36, 102, 42, 120, 60, 126} ...\n",
      " - A = (11, 41, 53, 71, 101, 137) \t et B = {96, 140, 30, 56, 26, 126} ...\n",
      " - A = (11, 41, 53, 83, 101, 131) \t et B = {96, 98, 6, 140, 48, 26} ...\n",
      " - A = (11, 41, 67, 71, 97, 137) \t et B = {96, 42, 12, 126, 60, 30} ...\n",
      " - A = (13, 17, 23, 73, 83, 107) \t et B = {66, 6, 84, 24, 90, 30} ...\n",
      " - A = (13, 17, 43, 83, 97, 127) \t et B = {96, 66, 114, 84, 54, 30} ...\n",
      " - A = (13, 19, 23, 83, 89, 149) \t et B = {144, 48, 18, 84, 24, 90} ...\n",
      " - A = (13, 19, 29, 43, 113, 139) \t et B = {138, 18, 84, 54, 24, 60} ...\n",
      " - A = (13, 19, 29, 53, 113, 139) \t et B = {138, 144, 18, 84, 54, 60} ...\n",
      " - A = (13, 19, 29, 89, 113, 139) \t et B = {138, 144, 18, 84, 24, 60} ...\n",
      " - A = (13, 19, 37, 43, 79, 103) \t et B = {4, 70, 10, 24, 60, 94} ...\n",
      " - A = (13, 19, 37, 79, 97, 103) \t et B = {34, 4, 70, 10, 60, 94} ...\n",
      " - A = (13, 19, 43, 73, 103, 139) \t et B = {10, 138, 54, 24, 28, 94} ...\n",
      " - A = (13, 19, 43, 79, 103, 139) \t et B = {10, 60, 24, 88, 28, 94} ...\n",
      " - A = (13, 23, 37, 53, 67, 97) \t et B = {6, 144, 114, 30, 60, 126} ...\n",
      " - A = (13, 23, 53, 67, 97, 107) \t et B = {6, 144, 84, 30, 60, 126} ...\n",
      " - A = (13, 23, 53, 79, 83, 149) \t et B = {144, 48, 18, 114, 84, 30} ...\n",
      " - A = (13, 31, 43, 61, 97, 127) \t et B = {96, 66, 70, 40, 136, 10} ...\n",
      " - A = (13, 37, 67, 79, 97, 127) \t et B = {100, 4, 70, 144, 114, 30} ...\n",
      " - A = (13, 43, 67, 97, 109, 127) \t et B = {4, 70, 40, 114, 84, 30} ...\n",
      " - A = (17, 23, 53, 59, 83, 137) \t et B = {140, 44, 14, 114, 20, 30} ...\n",
      " - A = (17, 29, 59, 107, 137, 149) \t et B = {2, 134, 42, 44, 120, 30} ...\n",
      " - A = (17, 41, 53, 71, 83, 101) \t et B = {96, 140, 110, 56, 26, 30} ...\n",
      " - A = (17, 47, 59, 89, 107, 149) \t et B = {134, 42, 50, 24, 90, 92} ...\n",
      " - A = (17, 47, 59, 107, 137, 149) \t et B = {132, 134, 42, 120, 90, 92} ...\n",
      " - A = (19, 23, 29, 79, 89, 113) \t et B = {78, 144, 18, 84, 24, 60} ...\n",
      " - A = (23, 29, 53, 83, 113, 149) \t et B = {128, 44, 14, 144, 18, 84} ...\n",
      " - A = (23, 29, 53, 89, 113, 149) \t et B = {78, 14, 144, 18, 50, 84} ...\n",
      "\n",
      "Pour n = 6 et M = 150 il y a 109 paires (A, B) trouvées valides ...\n",
      "- On recherche celle de somme sum(A u B) minimale ...\n",
      "A = [7, 13, 31, 37, 73, 97]\n",
      "B = [6, 10, 16, 30, 66, 76]\n",
      "  Elle donne sumsum = 462 et maxmax = 97\n",
      "- On recherche celle de maximum max(A u B) minimale ...\n",
      "A = [7, 13, 31, 37, 73, 97]\n",
      "B = [6, 10, 16, 30, 66, 76]\n",
      "  Elle donne sumsum = 462 et maxmax = 97\n",
      "- On recherche celle de moyenne sumsum(A,B), maxmax(A,B) minimale ...\n",
      "A = [7, 13, 31, 37, 73, 97]\n",
      "B = [6, 10, 16, 30, 66, 76]\n",
      "  Elle donne sumsum = 462 et maxmax = 97\n",
      "CPU times: user 2.43 s, sys: 12 ms, total: 2.44 s\n",
      "Wall time: 2.41 s\n"
     ]
    },
    {
     "data": {
      "text/plain": [
       "([7, 13, 31, 37, 73, 97], [6, 10, 16, 30, 66, 76])"
      ]
     },
     "execution_count": 52,
     "metadata": {},
     "output_type": "execute_result"
    }
   ],
   "source": [
    "n = 6\n",
    "M = 150\n",
    "%time test_trie_et_prend_min(n, M)"
   ]
  },
  {
   "cell_type": "code",
   "execution_count": 53,
   "metadata": {
    "collapsed": false,
    "deletable": true,
    "editable": true,
    "scrolled": true
   },
   "outputs": [
    {
     "name": "stdout",
     "output_type": "stream",
     "text": [
      "Pour n = 6 et M = 150 il y a 109 paires (A, B) trouvées valides ...\n",
      "- On recherche celle de somme sum(A u B) minimale ...\n",
      "A = [7, 13, 31, 37, 73, 97]\n",
      "B = [6, 10, 16, 30, 66, 76]\n",
      "  Elle donne sumsum = 462 et maxmax = 97\n",
      "- On recherche celle de maximum max(A u B) minimale ...\n",
      "A = [7, 13, 31, 37, 73, 97]\n",
      "B = [6, 10, 16, 30, 66, 76]\n",
      "  Elle donne sumsum = 462 et maxmax = 97\n",
      "- On recherche celle de moyenne sumsum(A,B), maxmax(A,B) minimale ...\n",
      "A = [7, 13, 31, 37, 73, 97]\n",
      "B = [6, 10, 16, 30, 66, 76]\n",
      "  Elle donne sumsum = 462 et maxmax = 97\n",
      "  - a = 7      + b = 6      donnent 13     qui est bien premier, OK ...\n",
      "  - a = 7      + b = 10     donnent 17     qui est bien premier, OK ...\n",
      "  - a = 7      + b = 16     donnent 23     qui est bien premier, OK ...\n",
      "  - a = 7      + b = 30     donnent 37     qui est bien premier, OK ...\n",
      "  - a = 7      + b = 66     donnent 73     qui est bien premier, OK ...\n",
      "  - a = 7      + b = 76     donnent 83     qui est bien premier, OK ...\n",
      "  - a = 13     + b = 6      donnent 19     qui est bien premier, OK ...\n",
      "  - a = 13     + b = 10     donnent 23     qui est bien premier, OK ...\n",
      "  - a = 13     + b = 16     donnent 29     qui est bien premier, OK ...\n",
      "  - a = 13     + b = 30     donnent 43     qui est bien premier, OK ...\n",
      "  - a = 13     + b = 66     donnent 79     qui est bien premier, OK ...\n",
      "  - a = 13     + b = 76     donnent 89     qui est bien premier, OK ...\n",
      "  - a = 31     + b = 6      donnent 37     qui est bien premier, OK ...\n",
      "  - a = 31     + b = 10     donnent 41     qui est bien premier, OK ...\n",
      "  - a = 31     + b = 16     donnent 47     qui est bien premier, OK ...\n",
      "  - a = 31     + b = 30     donnent 61     qui est bien premier, OK ...\n",
      "  - a = 31     + b = 66     donnent 97     qui est bien premier, OK ...\n",
      "  - a = 31     + b = 76     donnent 107    qui est bien premier, OK ...\n",
      "  - a = 37     + b = 6      donnent 43     qui est bien premier, OK ...\n",
      "  - a = 37     + b = 10     donnent 47     qui est bien premier, OK ...\n",
      "  - a = 37     + b = 16     donnent 53     qui est bien premier, OK ...\n",
      "  - a = 37     + b = 30     donnent 67     qui est bien premier, OK ...\n",
      "  - a = 37     + b = 66     donnent 103    qui est bien premier, OK ...\n",
      "  - a = 37     + b = 76     donnent 113    qui est bien premier, OK ...\n",
      "  - a = 73     + b = 6      donnent 79     qui est bien premier, OK ...\n",
      "  - a = 73     + b = 10     donnent 83     qui est bien premier, OK ...\n",
      "  - a = 73     + b = 16     donnent 89     qui est bien premier, OK ...\n",
      "  - a = 73     + b = 30     donnent 103    qui est bien premier, OK ...\n",
      "  - a = 73     + b = 66     donnent 139    qui est bien premier, OK ...\n",
      "  - a = 73     + b = 76     donnent 149    qui est bien premier, OK ...\n",
      "  - a = 97     + b = 6      donnent 103    qui est bien premier, OK ...\n",
      "  - a = 97     + b = 10     donnent 107    qui est bien premier, OK ...\n",
      "  - a = 97     + b = 16     donnent 113    qui est bien premier, OK ...\n",
      "  - a = 97     + b = 30     donnent 127    qui est bien premier, OK ...\n",
      "  - a = 97     + b = 66     donnent 163    qui est bien premier, OK ...\n",
      "  - a = 97     + b = 76     donnent 173    qui est bien premier, OK ...\n"
     ]
    },
    {
     "data": {
      "text/plain": [
       "True"
      ]
     },
     "execution_count": 53,
     "metadata": {},
     "output_type": "execute_result"
    }
   ],
   "source": [
    "A, B = test_trie_et_prend_min(n, M)\n",
    "verifie_paire_debug(A, B)"
   ]
  },
  {
   "cell_type": "markdown",
   "metadata": {
    "deletable": true,
    "editable": true
   },
   "source": [
    "## Conclusion pour des dés à $6$ faces\n",
    "Avec $n = 6$ dés, la plus petite paire de valeurs $(A, B)$ trouvée est \n",
    "- A = $\\{7, 13, 31, 37, 73, 97\\}$\n",
    "- B = $\\{6, 10, 16, 30, 66, 76\\}$\n",
    "\n",
    "Elle donne $\\sum A \\cup B = 462$ et $\\max A \\cup B = 97$.\n",
    "\n",
    "Assez surprenament, c'est la paire qui minimise les deux critères à la fois (et l'unique paire qui satisfait cette propriété)."
   ]
  },
  {
   "cell_type": "markdown",
   "metadata": {
    "deletable": true,
    "editable": true
   },
   "source": [
    "---\n",
    "## Avec plus de faces ?"
   ]
  },
  {
   "cell_type": "markdown",
   "metadata": {
    "deletable": true,
    "editable": true
   },
   "source": [
    "### Exemples avec des dés à 8, 10, 12 et 20 faces\n",
    "> Ça va commencer à être *très couteux*. Je recommande de ne pas faire tourner ce code sur votre machine, mais sur un serveur de calcul, par exemple !"
   ]
  },
  {
   "cell_type": "code",
   "execution_count": 54,
   "metadata": {
    "collapsed": false,
    "deletable": true,
    "editable": true,
    "scrolled": true
   },
   "outputs": [
    {
     "name": "stdout",
     "output_type": "stream",
     "text": [
      " - A = (3, 7, 13, 37, 73, 97, 157) \t et B = {160, 34, 100, 10, 76, 16, 94} ...\n",
      "A = [3, 7, 13, 37, 73, 97, 157]\n",
      "B = [160, 34, 100, 10, 76, 16, 94]\n",
      "CPU times: user 704 ms, sys: 12 ms, total: 716 ms\n",
      "Wall time: 713 ms\n",
      " - A = (3, 7, 13, 37, 73, 97, 157) \t et B = {160, 34, 100, 10, 76, 16, 94} ...\n",
      " - A = (3, 13, 19, 37, 79, 97, 103) \t et B = {160, 34, 4, 70, 10, 154, 94} ...\n",
      " - A = (3, 13, 37, 73, 97, 157, 163) \t et B = {34, 100, 10, 76, 16, 154, 94} ...\n",
      " - A = (7, 13, 31, 37, 73, 97, 157) \t et B = {160, 66, 100, 6, 10, 76, 16} ...\n",
      " - A = (7, 13, 31, 67, 73, 97, 151) \t et B = {160, 100, 166, 6, 40, 16, 30} ...\n",
      " - A = (7, 13, 37, 73, 97, 157, 163) \t et B = {34, 66, 100, 10, 76, 16, 94} ...\n",
      " - A = (13, 17, 23, 73, 83, 107, 167) \t et B = {66, 6, 84, 150, 24, 90, 30} ...\n",
      " - A = (13, 19, 37, 79, 97, 103, 163) \t et B = {34, 4, 70, 10, 154, 60, 94} ...\n",
      "\n",
      "Pour n = 7 et M = 170 il y a 8 paires (A, B) trouvées valides ...\n",
      "- On recherche celle de somme sum(A u B) minimale ...\n",
      "A = [7, 13, 31, 37, 73, 97, 157]\n",
      "B = [6, 10, 16, 66, 76, 100, 160]\n",
      "  Elle donne sumsum = 849 et maxmax = 160\n",
      "- On recherche celle de maximum max(A u B) minimale ...\n",
      "A = [3, 7, 13, 37, 73, 97, 157]\n",
      "B = [10, 16, 34, 76, 94, 100, 160]\n",
      "  Elle donne sumsum = 877 et maxmax = 160\n",
      "- On recherche celle de moyenne sumsum(A,B), maxmax(A,B) minimale ...\n",
      "A = [7, 13, 31, 37, 73, 97, 157]\n",
      "B = [6, 10, 16, 66, 76, 100, 160]\n",
      "  Elle donne sumsum = 849 et maxmax = 160\n",
      "CPU times: user 21.9 s, sys: 8 ms, total: 21.9 s\n",
      "Wall time: 21.9 s\n"
     ]
    },
    {
     "data": {
      "text/plain": [
       "([7, 13, 31, 37, 73, 97, 157], [6, 10, 16, 66, 76, 100, 160])"
      ]
     },
     "execution_count": 54,
     "metadata": {},
     "output_type": "execute_result"
    }
   ],
   "source": [
    "n = 7\n",
    "M = 170\n",
    "%time test_genere_AB(n=n, M=M)\n",
    "%time test_trie_et_prend_min(n, M)"
   ]
  },
  {
   "cell_type": "markdown",
   "metadata": {
    "deletable": true,
    "editable": true
   },
   "source": [
    "#### Avec 8 faces"
   ]
  },
  {
   "cell_type": "code",
   "execution_count": 55,
   "metadata": {
    "collapsed": false,
    "deletable": true,
    "editable": true,
    "scrolled": true
   },
   "outputs": [
    {
     "ename": "AssertionError",
     "evalue": "",
     "output_type": "error",
     "traceback": [
      "\u001b[0;31m---------------------------------------------------------------------------\u001b[0m",
      "\u001b[0;31mAssertionError\u001b[0m                            Traceback (most recent call last)",
      "\u001b[0;32m<ipython-input-55-012ff916b87d>\u001b[0m in \u001b[0;36m<module>\u001b[0;34m()\u001b[0m\n\u001b[1;32m      1\u001b[0m \u001b[0mn\u001b[0m \u001b[0;34m=\u001b[0m \u001b[0;36m8\u001b[0m\u001b[0;34m\u001b[0m\u001b[0m\n\u001b[1;32m      2\u001b[0m \u001b[0mM\u001b[0m \u001b[0;34m=\u001b[0m \u001b[0;36m300\u001b[0m\u001b[0;34m\u001b[0m\u001b[0m\n\u001b[0;32m----> 3\u001b[0;31m \u001b[0mget_ipython\u001b[0m\u001b[0;34m(\u001b[0m\u001b[0;34m)\u001b[0m\u001b[0;34m.\u001b[0m\u001b[0mmagic\u001b[0m\u001b[0;34m(\u001b[0m\u001b[0;34m'time test_genere_AB(n=n, M=M)'\u001b[0m\u001b[0;34m)\u001b[0m\u001b[0;34m\u001b[0m\u001b[0m\n\u001b[0m\u001b[1;32m      4\u001b[0m \u001b[0;31m# %time test_trie_et_prend_min(n, M)\u001b[0m\u001b[0;34m\u001b[0m\u001b[0;34m\u001b[0m\u001b[0m\n",
      "\u001b[0;32m/usr/local/lib/python3.5/dist-packages/IPython/core/interactiveshell.py\u001b[0m in \u001b[0;36mmagic\u001b[0;34m(self, arg_s)\u001b[0m\n\u001b[1;32m   2156\u001b[0m         \u001b[0mmagic_name\u001b[0m\u001b[0;34m,\u001b[0m \u001b[0m_\u001b[0m\u001b[0;34m,\u001b[0m \u001b[0mmagic_arg_s\u001b[0m \u001b[0;34m=\u001b[0m \u001b[0marg_s\u001b[0m\u001b[0;34m.\u001b[0m\u001b[0mpartition\u001b[0m\u001b[0;34m(\u001b[0m\u001b[0;34m' '\u001b[0m\u001b[0;34m)\u001b[0m\u001b[0;34m\u001b[0m\u001b[0m\n\u001b[1;32m   2157\u001b[0m         \u001b[0mmagic_name\u001b[0m \u001b[0;34m=\u001b[0m \u001b[0mmagic_name\u001b[0m\u001b[0;34m.\u001b[0m\u001b[0mlstrip\u001b[0m\u001b[0;34m(\u001b[0m\u001b[0mprefilter\u001b[0m\u001b[0;34m.\u001b[0m\u001b[0mESC_MAGIC\u001b[0m\u001b[0;34m)\u001b[0m\u001b[0;34m\u001b[0m\u001b[0m\n\u001b[0;32m-> 2158\u001b[0;31m         \u001b[0;32mreturn\u001b[0m \u001b[0mself\u001b[0m\u001b[0;34m.\u001b[0m\u001b[0mrun_line_magic\u001b[0m\u001b[0;34m(\u001b[0m\u001b[0mmagic_name\u001b[0m\u001b[0;34m,\u001b[0m \u001b[0mmagic_arg_s\u001b[0m\u001b[0;34m)\u001b[0m\u001b[0;34m\u001b[0m\u001b[0m\n\u001b[0m\u001b[1;32m   2159\u001b[0m \u001b[0;34m\u001b[0m\u001b[0m\n\u001b[1;32m   2160\u001b[0m     \u001b[0;31m#-------------------------------------------------------------------------\u001b[0m\u001b[0;34m\u001b[0m\u001b[0;34m\u001b[0m\u001b[0m\n",
      "\u001b[0;32m/usr/local/lib/python3.5/dist-packages/IPython/core/interactiveshell.py\u001b[0m in \u001b[0;36mrun_line_magic\u001b[0;34m(self, magic_name, line)\u001b[0m\n\u001b[1;32m   2077\u001b[0m                 \u001b[0mkwargs\u001b[0m\u001b[0;34m[\u001b[0m\u001b[0;34m'local_ns'\u001b[0m\u001b[0;34m]\u001b[0m \u001b[0;34m=\u001b[0m \u001b[0msys\u001b[0m\u001b[0;34m.\u001b[0m\u001b[0m_getframe\u001b[0m\u001b[0;34m(\u001b[0m\u001b[0mstack_depth\u001b[0m\u001b[0;34m)\u001b[0m\u001b[0;34m.\u001b[0m\u001b[0mf_locals\u001b[0m\u001b[0;34m\u001b[0m\u001b[0m\n\u001b[1;32m   2078\u001b[0m             \u001b[0;32mwith\u001b[0m \u001b[0mself\u001b[0m\u001b[0;34m.\u001b[0m\u001b[0mbuiltin_trap\u001b[0m\u001b[0;34m:\u001b[0m\u001b[0;34m\u001b[0m\u001b[0m\n\u001b[0;32m-> 2079\u001b[0;31m                 \u001b[0mresult\u001b[0m \u001b[0;34m=\u001b[0m \u001b[0mfn\u001b[0m\u001b[0;34m(\u001b[0m\u001b[0;34m*\u001b[0m\u001b[0margs\u001b[0m\u001b[0;34m,\u001b[0m\u001b[0;34m**\u001b[0m\u001b[0mkwargs\u001b[0m\u001b[0;34m)\u001b[0m\u001b[0;34m\u001b[0m\u001b[0m\n\u001b[0m\u001b[1;32m   2080\u001b[0m             \u001b[0;32mreturn\u001b[0m \u001b[0mresult\u001b[0m\u001b[0;34m\u001b[0m\u001b[0m\n\u001b[1;32m   2081\u001b[0m \u001b[0;34m\u001b[0m\u001b[0m\n",
      "\u001b[0;32m<decorator-gen-59>\u001b[0m in \u001b[0;36mtime\u001b[0;34m(self, line, cell, local_ns)\u001b[0m\n",
      "\u001b[0;32m/usr/local/lib/python3.5/dist-packages/IPython/core/magic.py\u001b[0m in \u001b[0;36m<lambda>\u001b[0;34m(f, *a, **k)\u001b[0m\n\u001b[1;32m    186\u001b[0m     \u001b[0;31m# but it's overkill for just that one bit of state.\u001b[0m\u001b[0;34m\u001b[0m\u001b[0;34m\u001b[0m\u001b[0m\n\u001b[1;32m    187\u001b[0m     \u001b[0;32mdef\u001b[0m \u001b[0mmagic_deco\u001b[0m\u001b[0;34m(\u001b[0m\u001b[0marg\u001b[0m\u001b[0;34m)\u001b[0m\u001b[0;34m:\u001b[0m\u001b[0;34m\u001b[0m\u001b[0m\n\u001b[0;32m--> 188\u001b[0;31m         \u001b[0mcall\u001b[0m \u001b[0;34m=\u001b[0m \u001b[0;32mlambda\u001b[0m \u001b[0mf\u001b[0m\u001b[0;34m,\u001b[0m \u001b[0;34m*\u001b[0m\u001b[0ma\u001b[0m\u001b[0;34m,\u001b[0m \u001b[0;34m**\u001b[0m\u001b[0mk\u001b[0m\u001b[0;34m:\u001b[0m \u001b[0mf\u001b[0m\u001b[0;34m(\u001b[0m\u001b[0;34m*\u001b[0m\u001b[0ma\u001b[0m\u001b[0;34m,\u001b[0m \u001b[0;34m**\u001b[0m\u001b[0mk\u001b[0m\u001b[0;34m)\u001b[0m\u001b[0;34m\u001b[0m\u001b[0m\n\u001b[0m\u001b[1;32m    189\u001b[0m \u001b[0;34m\u001b[0m\u001b[0m\n\u001b[1;32m    190\u001b[0m         \u001b[0;32mif\u001b[0m \u001b[0mcallable\u001b[0m\u001b[0;34m(\u001b[0m\u001b[0marg\u001b[0m\u001b[0;34m)\u001b[0m\u001b[0;34m:\u001b[0m\u001b[0;34m\u001b[0m\u001b[0m\n",
      "\u001b[0;32m/usr/local/lib/python3.5/dist-packages/IPython/core/magics/execution.py\u001b[0m in \u001b[0;36mtime\u001b[0;34m(self, line, cell, local_ns)\u001b[0m\n\u001b[1;32m   1174\u001b[0m         \u001b[0;32mif\u001b[0m \u001b[0mmode\u001b[0m\u001b[0;34m==\u001b[0m\u001b[0;34m'eval'\u001b[0m\u001b[0;34m:\u001b[0m\u001b[0;34m\u001b[0m\u001b[0m\n\u001b[1;32m   1175\u001b[0m             \u001b[0mst\u001b[0m \u001b[0;34m=\u001b[0m \u001b[0mclock2\u001b[0m\u001b[0;34m(\u001b[0m\u001b[0;34m)\u001b[0m\u001b[0;34m\u001b[0m\u001b[0m\n\u001b[0;32m-> 1176\u001b[0;31m             \u001b[0mout\u001b[0m \u001b[0;34m=\u001b[0m \u001b[0meval\u001b[0m\u001b[0;34m(\u001b[0m\u001b[0mcode\u001b[0m\u001b[0;34m,\u001b[0m \u001b[0mglob\u001b[0m\u001b[0;34m,\u001b[0m \u001b[0mlocal_ns\u001b[0m\u001b[0;34m)\u001b[0m\u001b[0;34m\u001b[0m\u001b[0m\n\u001b[0m\u001b[1;32m   1177\u001b[0m             \u001b[0mend\u001b[0m \u001b[0;34m=\u001b[0m \u001b[0mclock2\u001b[0m\u001b[0;34m(\u001b[0m\u001b[0;34m)\u001b[0m\u001b[0;34m\u001b[0m\u001b[0m\n\u001b[1;32m   1178\u001b[0m         \u001b[0;32melse\u001b[0m\u001b[0;34m:\u001b[0m\u001b[0;34m\u001b[0m\u001b[0m\n",
      "\u001b[0;32m<timed eval>\u001b[0m in \u001b[0;36m<module>\u001b[0;34m()\u001b[0m\n",
      "\u001b[0;32m<ipython-input-34-3c8712252611>\u001b[0m in \u001b[0;36mtest_genere_AB\u001b[0;34m(n, M, m)\u001b[0m\n\u001b[1;32m      1\u001b[0m \u001b[0;32mdef\u001b[0m \u001b[0mtest_genere_AB\u001b[0m\u001b[0;34m(\u001b[0m\u001b[0mn\u001b[0m\u001b[0;34m=\u001b[0m\u001b[0;36m2\u001b[0m\u001b[0;34m,\u001b[0m \u001b[0mM\u001b[0m\u001b[0;34m=\u001b[0m\u001b[0;36m10\u001b[0m\u001b[0;34m,\u001b[0m \u001b[0mm\u001b[0m\u001b[0;34m=\u001b[0m\u001b[0;36m1\u001b[0m\u001b[0;34m)\u001b[0m\u001b[0;34m:\u001b[0m\u001b[0;34m\u001b[0m\u001b[0m\n\u001b[1;32m      2\u001b[0m     \u001b[0mA\u001b[0m\u001b[0;34m,\u001b[0m \u001b[0mB\u001b[0m \u001b[0;34m=\u001b[0m \u001b[0mgenere_A_B\u001b[0m\u001b[0;34m(\u001b[0m\u001b[0mn\u001b[0m\u001b[0;34m=\u001b[0m\u001b[0mn\u001b[0m\u001b[0;34m,\u001b[0m \u001b[0mM\u001b[0m\u001b[0;34m=\u001b[0m\u001b[0mM\u001b[0m\u001b[0;34m)\u001b[0m\u001b[0;34m\u001b[0m\u001b[0m\n\u001b[0;32m----> 3\u001b[0;31m     \u001b[0;32massert\u001b[0m \u001b[0mverifie_paire\u001b[0m\u001b[0;34m(\u001b[0m\u001b[0mA\u001b[0m\u001b[0;34m,\u001b[0m \u001b[0mB\u001b[0m\u001b[0;34m)\u001b[0m\u001b[0;34m\u001b[0m\u001b[0m\n\u001b[0m\u001b[1;32m      4\u001b[0m     \u001b[0mprint\u001b[0m\u001b[0;34m(\u001b[0m\u001b[0;34m\"A =\"\u001b[0m\u001b[0;34m,\u001b[0m \u001b[0mA\u001b[0m\u001b[0;34m)\u001b[0m\u001b[0;34m\u001b[0m\u001b[0m\n\u001b[1;32m      5\u001b[0m     \u001b[0mprint\u001b[0m\u001b[0;34m(\u001b[0m\u001b[0;34m\"B =\"\u001b[0m\u001b[0;34m,\u001b[0m \u001b[0mB\u001b[0m\u001b[0;34m)\u001b[0m\u001b[0;34m\u001b[0m\u001b[0m\n",
      "\u001b[0;31mAssertionError\u001b[0m: "
     ]
    }
   ],
   "source": [
    "n = 8\n",
    "M = 440\n",
    "%time test_genere_AB(n=n, M=M)\n",
    "# %time test_trie_et_prend_min(n, M)"
   ]
  },
  {
   "cell_type": "markdown",
   "metadata": {
    "deletable": true,
    "editable": true
   },
   "source": [
    "#### Avec 10 faces"
   ]
  },
  {
   "cell_type": "code",
   "execution_count": null,
   "metadata": {
    "collapsed": true,
    "deletable": true,
    "editable": true
   },
   "outputs": [],
   "source": [
    "n = 10\n",
    "M = 550\n",
    "%time test_genere_AB(n=n, M=M)\n",
    "# %time test_trie_et_prend_min(n, M)"
   ]
  },
  {
   "cell_type": "markdown",
   "metadata": {
    "deletable": true,
    "editable": true
   },
   "source": [
    "#### Avec 12 faces"
   ]
  },
  {
   "cell_type": "code",
   "execution_count": null,
   "metadata": {
    "collapsed": true,
    "deletable": true,
    "editable": true
   },
   "outputs": [],
   "source": [
    "n = 12\n",
    "M = 800\n",
    "%time test_genere_AB(n=n, M=M)\n",
    "# %time test_trie_et_prend_min(n, M)"
   ]
  },
  {
   "cell_type": "markdown",
   "metadata": {
    "deletable": true,
    "editable": true
   },
   "source": [
    "#### Avec 20 faces"
   ]
  },
  {
   "cell_type": "code",
   "execution_count": null,
   "metadata": {
    "collapsed": true,
    "deletable": true,
    "editable": true
   },
   "outputs": [],
   "source": [
    "n = 20\n",
    "M = 1000\n",
    "%time test_genere_AB(n=n, M=M)\n",
    "# %time test_trie_et_prend_min(n, M)"
   ]
  },
  {
   "cell_type": "markdown",
   "metadata": {
    "deletable": true,
    "editable": true
   },
   "source": [
    "### Exemples avec des dés de tailles différentes\n",
    "> Il ne serait pas très compliqué d'adapter le code précédent pour considérer $A$ de taille $n$ et $B$ de taille $p$ avec possiblement $n \\neq p$.\n",
    "> Je le ferai, plus tard."
   ]
  },
  {
   "cell_type": "markdown",
   "metadata": {
    "collapsed": true,
    "deletable": true,
    "editable": true
   },
   "source": [
    "### Exemples avec $100$ faces ?\n",
    "> Il faudrait une machine costaux, et du temps..."
   ]
  },
  {
   "cell_type": "markdown",
   "metadata": {
    "deletable": true,
    "editable": true
   },
   "source": [
    "----\n",
    "# Généralisations possibles\n",
    "- Dés avec un nombre de faces différentes, i.e., $\\# A \\neq \\# B$,\n",
    "- Plus de deux dés, i.e., considérer $A_1, \\dots, A_p$ et chercher la même propriété :\n",
    "  $$ \\forall a_1 \\in A_1, \\dots, a_p \\in A_p, a_1 + \\dots + a_p \\in \\mathcal{P}. $$\n",
    "  En imposant toujours que $A_1 \\subset \\mathcal{P}$, et éventuellement plus.\n",
    "- Résoudre autrement le problème initial pour ne pas avoir à donner une borné $M$ sur $\\max A, B$."
   ]
  }
 ],
 "metadata": {
  "kernelspec": {
   "display_name": "Python 3",
   "language": "python",
   "name": "python3"
  },
  "language_info": {
   "codemirror_mode": {
    "name": "ipython",
    "version": 3
   },
   "file_extension": ".py",
   "mimetype": "text/x-python",
   "name": "python",
   "nbconvert_exporter": "python",
   "pygments_lexer": "ipython3",
   "version": "3.5.2+"
  }
 },
 "nbformat": 4,
 "nbformat_minor": 0
}
