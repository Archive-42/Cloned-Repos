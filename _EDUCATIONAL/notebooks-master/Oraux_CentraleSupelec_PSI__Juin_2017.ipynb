{
 "cells": [
  {
   "cell_type": "markdown",
   "metadata": {
    "toc": "true"
   },
   "source": [
    "# Table of Contents\n",
    " <p><div class=\"lev1 toc-item\"><a href=\"#Oraux-CentraleSupélec-PSI---Juin-2017\" data-toc-modified-id=\"Oraux-CentraleSupélec-PSI---Juin-2017-1\"><span class=\"toc-item-num\">1&nbsp;&nbsp;</span>Oraux CentraleSupélec PSI - Juin 2017</a></div><div class=\"lev2 toc-item\"><a href=\"#Remarques-préliminaires\" data-toc-modified-id=\"Remarques-préliminaires-11\"><span class=\"toc-item-num\">1.1&nbsp;&nbsp;</span>Remarques préliminaires</a></div><div class=\"lev2 toc-item\"><a href=\"#Planche-158\" data-toc-modified-id=\"Planche-158-12\"><span class=\"toc-item-num\">1.2&nbsp;&nbsp;</span>Planche 158</a></div><div class=\"lev2 toc-item\"><a href=\"#Planche-162\" data-toc-modified-id=\"Planche-162-13\"><span class=\"toc-item-num\">1.3&nbsp;&nbsp;</span>Planche 162</a></div><div class=\"lev2 toc-item\"><a href=\"#Planche-170\" data-toc-modified-id=\"Planche-170-14\"><span class=\"toc-item-num\">1.4&nbsp;&nbsp;</span>Planche 170</a></div><div class=\"lev1 toc-item\"><a href=\"#À-voir-aussi\" data-toc-modified-id=\"À-voir-aussi-2\"><span class=\"toc-item-num\">2&nbsp;&nbsp;</span>À voir aussi</a></div><div class=\"lev2 toc-item\"><a href=\"#Les-oraux---(exercices-de-maths-avec-Python)\" data-toc-modified-id=\"Les-oraux---(exercices-de-maths-avec-Python)-21\"><span class=\"toc-item-num\">2.1&nbsp;&nbsp;</span><a href=\"http://perso.crans.org/besson/infoMP/oraux/solutions/\" target=\"_blank\">Les oraux</a>   <em>(exercices de maths avec Python)</em></a></div><div class=\"lev2 toc-item\"><a href=\"#Fiches-de-révisions-pour-les-oraux\" data-toc-modified-id=\"Fiches-de-révisions-pour-les-oraux-22\"><span class=\"toc-item-num\">2.2&nbsp;&nbsp;</span>Fiches de révisions <em>pour les oraux</em></a></div><div class=\"lev2 toc-item\"><a href=\"#Quelques-exemples-de-sujets-d'oraux-corrigés\" data-toc-modified-id=\"Quelques-exemples-de-sujets-d'oraux-corrigés-23\"><span class=\"toc-item-num\">2.3&nbsp;&nbsp;</span>Quelques exemples de sujets <em>d'oraux</em> corrigés</a></div><div class=\"lev2 toc-item\"><a href=\"#D'autres-notebooks-?\" data-toc-modified-id=\"D'autres-notebooks-?-24\"><span class=\"toc-item-num\">2.4&nbsp;&nbsp;</span>D'autres notebooks ?</a></div>"
   ]
  },
  {
   "cell_type": "markdown",
   "metadata": {},
   "source": [
    "# Oraux CentraleSupélec PSI - Juin 2017\n",
    "\n",
    "- Ce [notebook Jupyter](https://www.jupyter.org) est une proposition de correction, en [Python 3](https://www.python.org/), d'exercices d'annales de l'épreuve \"maths-info\" du [concours CentraleSupélec](http://www.concours-centrale-supelec.fr/), filière PSI.\n",
    "- Les exercices viennent de l'[Officiel de la Taupe](http://odlt.fr/), [2016](http://www.odlt.fr/Oraux_2016.pdf) (planches 157 à 173, page 23).\n",
    "- Ce document a été écrit par [Lilian Besson](http://perso.crans.org/besson/), et est disponible en ligne [sur mon site](http://perso.crans.org/besson/infoMP/Oraux_CentraleSupélec_PSI__Juin_2017.html)."
   ]
  },
  {
   "cell_type": "markdown",
   "metadata": {},
   "source": [
    "## Remarques préliminaires\n",
    "- Les exercices sans Python ne sont pas traités.\n",
    "- Les exercices avec Python utilisent Python 3, [numpy](http://numpy.org), [matplotlib](http://matplotlib.org), [scipy](http://scipy.org) et [sympy](http://sympy.org), et essaient d'être résolus le plus simplement et le plus rapidement possible. L'efficacité (algorithmique, en terme de mémoire et de temps de calcul), n'est *pas* une priorité. La concision et simplicité de la solution proposée est prioritaire.\n",
    "- Les modules Python utilisés sont aux [versions suivantes](https://github.com/rasbt/watermark) :"
   ]
  },
  {
   "cell_type": "code",
   "execution_count": 1,
   "metadata": {
    "scrolled": false
   },
   "outputs": [
    {
     "name": "stdout",
     "output_type": "stream",
     "text": [
      "CPython 3.5.3\n",
      "IPython 6.1.0\n",
      "\n",
      "scipy 0.19.0\n",
      "numpy 1.12.1\n",
      "matplotlib 2.0.2\n",
      "sympy 1.0\n",
      "seaborn 0.7.1\n",
      "\n",
      "compiler   : GCC 6.3.0 20170118\n",
      "system     : Linux\n",
      "release    : 4.10.0-21-generic\n",
      "machine    : x86_64\n",
      "processor  : x86_64\n",
      "CPU cores  : 4\n",
      "interpreter: 64bit\n",
      "Git hash   : c4118c39f038f15e7dcde2fa4d6a8df0060ae9e4\n"
     ]
    }
   ],
   "source": [
    "%load_ext watermark\n",
    "%watermark -v -m -p scipy,numpy,matplotlib,sympy,seaborn -g"
   ]
  },
  {
   "cell_type": "code",
   "execution_count": 2,
   "metadata": {
    "collapsed": true
   },
   "outputs": [],
   "source": [
    "import numpy as np\n",
    "import numpy.linalg as LA\n",
    "import matplotlib as mpl  # inutile\n",
    "import matplotlib.pyplot as plt\n",
    "import scipy as sc        # pas très utile"
   ]
  },
  {
   "cell_type": "markdown",
   "metadata": {},
   "source": [
    "Pour avoir de belles figures :"
   ]
  },
  {
   "cell_type": "code",
   "execution_count": 3,
   "metadata": {
    "collapsed": true
   },
   "outputs": [],
   "source": [
    "import seaborn as sns\n",
    "sns.set(context=\"notebook\", style=\"darkgrid\", palette=\"hls\", font=\"sans-serif\", font_scale=1.4)\n",
    "mpl.rcParams['figure.figsize'] = (19.80, 10.80)"
   ]
  },
  {
   "cell_type": "markdown",
   "metadata": {},
   "source": [
    "----\n",
    "## Planche 158\n",
    "\n",
    "On donne $f_n(t) = \\frac{1 - \\cos\\left(\\frac{t}{n}\\right)}{t^2(1+t^2)}$.\n",
    "\n",
    "- Tracer avec Python les courbes de $f_n$ pour $n \\in \\{1, \\dots, 10\\}$, ainsi que la fonction constante $y = \\frac{1}{2}$, sur $]0, \\pi[$."
   ]
  },
  {
   "cell_type": "code",
   "execution_count": 4,
   "metadata": {},
   "outputs": [
    {
     "data": {
      "text/plain": [
       "<matplotlib.figure.Figure at 0x7fcd47ffefd0>"
      ]
     },
     "execution_count": 4,
     "metadata": {},
     "output_type": "execute_result"
    },
    {
     "data": {
      "text/plain": [
       "[<matplotlib.lines.Line2D at 0x7fcd47f68748>]"
      ]
     },
     "execution_count": 4,
     "metadata": {},
     "output_type": "execute_result"
    },
    {
     "data": {
      "text/plain": [
       "[<matplotlib.lines.Line2D at 0x7fcd47f689e8>]"
      ]
     },
     "execution_count": 4,
     "metadata": {},
     "output_type": "execute_result"
    },
    {
     "data": {
      "text/plain": [
       "[<matplotlib.lines.Line2D at 0x7fcd47f73be0>]"
      ]
     },
     "execution_count": 4,
     "metadata": {},
     "output_type": "execute_result"
    },
    {
     "data": {
      "text/plain": [
       "[<matplotlib.lines.Line2D at 0x7fcd47f73fd0>]"
      ]
     },
     "execution_count": 4,
     "metadata": {},
     "output_type": "execute_result"
    },
    {
     "data": {
      "text/plain": [
       "[<matplotlib.lines.Line2D at 0x7fcd47f818d0>]"
      ]
     },
     "execution_count": 4,
     "metadata": {},
     "output_type": "execute_result"
    },
    {
     "data": {
      "text/plain": [
       "[<matplotlib.lines.Line2D at 0x7fcd47f842e8>]"
      ]
     },
     "execution_count": 4,
     "metadata": {},
     "output_type": "execute_result"
    },
    {
     "data": {
      "text/plain": [
       "[<matplotlib.lines.Line2D at 0x7fcd47f84cc0>]"
      ]
     },
     "execution_count": 4,
     "metadata": {},
     "output_type": "execute_result"
    },
    {
     "data": {
      "text/plain": [
       "[<matplotlib.lines.Line2D at 0x7fcd47f8c6d8>]"
      ]
     },
     "execution_count": 4,
     "metadata": {},
     "output_type": "execute_result"
    },
    {
     "data": {
      "text/plain": [
       "[<matplotlib.lines.Line2D at 0x7fcd47f920f0>]"
      ]
     },
     "execution_count": 4,
     "metadata": {},
     "output_type": "execute_result"
    },
    {
     "data": {
      "text/plain": [
       "[<matplotlib.lines.Line2D at 0x7fcd47f92ac8>]"
      ]
     },
     "execution_count": 4,
     "metadata": {},
     "output_type": "execute_result"
    },
    {
     "data": {
      "text/plain": [
       "[<matplotlib.lines.Line2D at 0x7fcd47f8ebe0>]"
      ]
     },
     "execution_count": 4,
     "metadata": {},
     "output_type": "execute_result"
    },
    {
     "data": {
      "text/plain": [
       "<matplotlib.legend.Legend at 0x7fcd47f8ec18>"
      ]
     },
     "execution_count": 4,
     "metadata": {},
     "output_type": "execute_result"
    },
    {
     "data": {
      "text/plain": [
       "<matplotlib.text.Text at 0x7fcd47fc35f8>"
      ]
     },
     "execution_count": 4,
     "metadata": {},
     "output_type": "execute_result"
    },
    {
     "data": {
      "text/plain": [
       "<matplotlib.text.Text at 0x7fcd4800d0f0>"
      ]
     },
     "execution_count": 4,
     "metadata": {},
     "output_type": "execute_result"
    },
    {
     "data": {
      "image/png": "[encoded data removed]",
      "text/plain": [
       "<matplotlib.figure.Figure at 0x7fcd47ffefd0>"
      ]
     },
     "metadata": {},
     "output_type": "display_data"
    }
   ],
   "source": [
    "def f(n, t):\n",
    "    return (1 - np.cos(t / n)) / (t**2 *  (1 + t**2))\n",
    "\n",
    "def y(t):\n",
    "    return 0.5 * np.ones_like(t)\n",
    "\n",
    "eps = 1e-5\n",
    "t = np.linspace(0 + eps, np.pi - eps, 1000)\n",
    "plt.figure()\n",
    "for n in range(1, 1 + 10):\n",
    "    plt.plot(t, f(n, t), label=r'$f_{%i}(t)$' % n)\n",
    "plt.plot(t, y(t), label=r'$\\frac{1}{2}$')\n",
    "plt.legend()\n",
    "plt.title(\"Courbe demandée\")\n",
    "plt.xlabel(r\"$]0, \\pi[$\")\n",
    "plt.show()"
   ]
  },
  {
   "cell_type": "markdown",
   "metadata": {},
   "source": [
    "$f_n(t)$ est bien sûr intégrable sur $[1, +\\infty]$, mais c'est moins évident sur $]0, 1]$.\n",
    "La courbe précédente laisse suggérer qu'elle l'est, il faudrait le prouver.\n",
    "\n",
    "(un développement limité montre qu'en $0$, $f_n(t)$ est prolongeable par continuité en fait)"
   ]
  },
  {
   "cell_type": "markdown",
   "metadata": {},
   "source": [
    "- Calculer les $30$ premiers termes de la suite de terme général $u_n = \\int_0^{+\\infty} f_n(t) \\mathrm{d}t$."
   ]
  },
  {
   "cell_type": "code",
   "execution_count": 6,
   "metadata": {
    "scrolled": false
   },
   "outputs": [
    {
     "name": "stdout",
     "output_type": "stream",
     "text": [
      "- Pour n = 1 \t u_n = 0.5778636758673165\n",
      "- Pour n = 2 \t u_n = 0.1673379686913233\n",
      "- Pour n = 3 \t u_n = 0.07832719999247961\n",
      "- Pour n = 4 \t u_n = 0.04524016647527334\n",
      "- Pour n = 5 \t u_n = 0.0294221986520279\n",
      "- Pour n = 6 \t u_n = 0.02065344571531756\n",
      "- Pour n = 7 \t u_n = 0.015291770261272906\n",
      "- Pour n = 8 \t u_n = 0.011776107184161803\n",
      "- Pour n = 9 \t u_n = 0.009346910316513675\n",
      "- Pour n = 10 \t u_n = 0.007598599569591147\n",
      "- Pour n = 11 \t u_n = 0.006298591120713312\n",
      "- Pour n = 12 \t u_n = 0.005305713621776519\n",
      "- Pour n = 13 \t u_n = 0.004530420616071271\n",
      "- Pour n = 14 \t u_n = 0.003913403332067795\n",
      "- Pour n = 15 \t u_n = 0.0034143635712630925\n",
      "- Pour n = 16 \t u_n = 0.00300503233562181\n",
      "- Pour n = 17 \t u_n = 0.002665127564756733\n",
      "- Pour n = 18 \t u_n = 0.0023797953460884366\n",
      "- Pour n = 19 \t u_n = 0.002137946272152306\n",
      "- Pour n = 20 \t u_n = 0.0019311752431841328\n",
      "- Pour n = 21 \t u_n = 0.0017530128954453457\n",
      "- Pour n = 22 \t u_n = 0.0015984135117823957\n",
      "- Pour n = 23 \t u_n = 0.001463398620721792\n",
      "- Pour n = 24 \t u_n = 0.001344791379603347\n",
      "- Pour n = 25 \t u_n = 0.0012400485222443885\n",
      "- Pour n = 26 \t u_n = 0.0011470784838279937\n",
      "- Pour n = 27 \t u_n = 0.001064184893274427\n",
      "- Pour n = 28 \t u_n = 0.000989962863081455\n",
      "- Pour n = 29 \t u_n = 0.0009232437583422769\n",
      "- Pour n = 30 \t u_n = 0.0008630488183994005\n"
     ]
    }
   ],
   "source": [
    "from scipy.integrate import quad as integral\n",
    "\n",
    "def u_n(n):\n",
    "    def f_n(t):\n",
    "        return f(n, t)\n",
    "    return integral(f_n, 0, np.inf)[0]\n",
    "\n",
    "for n in range(1, 1 + 30):\n",
    "    print(\"- Pour n =\", n, \"\\t u_n =\", u_n(n))"
   ]
  },
  {
   "cell_type": "markdown",
   "metadata": {},
   "source": [
    "Le terme $u_n$ semble tendre vers $0$ pour $n\\to +\\infty$.\n",
    "On le prouverait avec le théorème de convergence dominée (à faire)."
   ]
  },
  {
   "cell_type": "markdown",
   "metadata": {},
   "source": [
    "Soit $F(x) = \\int_0^{+\\infty} \\frac{1 - \\cos(xt)}{t^2 (1+t^2)} \\mathrm{d}t$.\n",
    "\n",
    "- L'intégrande est évidemment intégrable sur $[1,+\\infty[$ par comparaison (et comme $t\\mapsto \\frac{1}{t^4}$ l'est).\n",
    "- Sur $]0,1]$, $1-\\cos(xt) \\sim_{x\\to 0} \\frac{(xt)^2}{2} $, donc l'intégrande est $\\sim \\frac{x^2}{2(1+t^2)}$ qui est bien intégrable (la constante $\\frac{x^2}{2}$ sort de l'intégrale).\n",
    "Donc $F$ est bien définie sur $R_+^*$.\n",
    "\n",
    "Elle est continue par application directe du théorème de continuité sous le signe intégrale.\n",
    "\n",
    "Elle est prolongeable par continuité en $0$, par $F(0) := 0$ grâce à l'observation précédente : $F(x) \\sim \\frac{x^2}{2} \\int_0^{+\\infty} \\frac{1}{1+t^2} \\mathrm{d}t \\to 0$ quand $x\\to 0$."
   ]
  },
  {
   "cell_type": "code",
   "execution_count": 7,
   "metadata": {},
   "outputs": [
    {
     "data": {
      "text/plain": [
       "<matplotlib.figure.Figure at 0x7fcd4243d6d8>"
      ]
     },
     "execution_count": 7,
     "metadata": {},
     "output_type": "execute_result"
    },
    {
     "name": "stderr",
     "output_type": "stream",
     "text": [
      "/usr/local/lib/python3.5/dist-packages/scipy/integrate/quadpack.py:364: IntegrationWarning: The maximum number of subdivisions (50) has been achieved.\n",
      "  If increasing the limit yields no improvement it is advised to analyze \n",
      "  the integrand in order to determine the difficulties.  If the position of a \n",
      "  local difficulty can be determined (singularity, discontinuity) one will \n",
      "  probably gain from splitting up the interval and calling the integrator \n",
      "  on the subranges.  Perhaps a special-purpose integrator should be used.\n",
      "  warnings.warn(msg, IntegrationWarning)\n"
     ]
    },
    {
     "data": {
      "text/plain": [
       "[<matplotlib.lines.Line2D at 0x7fcd2ccf3a90>]"
      ]
     },
     "execution_count": 7,
     "metadata": {},
     "output_type": "execute_result"
    },
    {
     "data": {
      "text/plain": [
       "<matplotlib.text.Text at 0x7fcd2ccd7470>"
      ]
     },
     "execution_count": 7,
     "metadata": {},
     "output_type": "execute_result"
    },
    {
     "data": {
      "image/png": "[encoded data removed]",
      "text/plain": [
       "<matplotlib.figure.Figure at 0x7fcd4243d6d8>"
      ]
     },
     "metadata": {},
     "output_type": "display_data"
    }
   ],
   "source": [
    "def F(x):\n",
    "    def f_inf(t):\n",
    "        return (1 - np.cos(x * t)) / (t**2 * (1 + t**2))\n",
    "    return integral(f_inf, 0, np.inf)[0]\n",
    "\n",
    "eps = 1e-4\n",
    "x = np.linspace(0 + eps, 10, 1000)\n",
    "plt.figure()\n",
    "plt.plot(x, np.vectorize(F)(x))\n",
    "plt.title(\"$F(x)$ pour $x = 0 .. 10$\")\n",
    "plt.show()"
   ]
  },
  {
   "cell_type": "markdown",
   "metadata": {},
   "source": [
    "On constate sur la figure que $F$ est bien prolongeable par continuité en $0$.\n",
    "\n",
    "On montrerait aussi que $F$ est de classe $\\mathcal{C}^1$ facilement, par application directe du théorème de dérivation généralisée sous le signe intégral."
   ]
  },
  {
   "cell_type": "markdown",
   "metadata": {},
   "source": [
    "----\n",
    "## Planche 162\n",
    "\n",
    "Soit $(P_n)_{n\\geq 0}$ une suite de polynômes définis par $P_0 = 1$, $P_1 = 2X$ et $P_{n+1} = 2 X P_n - P_{n-1}$. Calculons $P_2,\\dots,P_8$.\n",
    "\n",
    "On pourrait tout faire avec des listes gérées manuellement, mais c'est assez compliqué.\n",
    "\n",
    "Il vaut mieux aller vite, en utilisant le module [numpy.polynomial](https://docs.scipy.org/doc/numpy/reference/routines.polynomials.classes.html)."
   ]
  },
  {
   "cell_type": "code",
   "execution_count": 8,
   "metadata": {
    "code_folding": [
     0,
     35
    ],
    "collapsed": true
   },
   "outputs": [],
   "source": [
    "# Ce morceau est juste là pour avoir un joli rendu\n",
    "def Polynomial_to_LaTeX(p):\n",
    "    \"\"\" Small function to print nicely the polynomial p as we write it in maths, in LaTeX code.\n",
    "    \n",
    "    - Source: https://nbviewer.jupyter.org/github/Naereen/notebooks/blob/master/Demonstration%20of%20numpy.polynomial.Polynomial%20and%20nice%20display%20with%20LaTeX%20and%20MathJax%20%28python3%29.ipynb\n",
    "    \"\"\"\n",
    "    coefs = p.coef  # List of coefficient, sorted by increasing degrees\n",
    "    res = \"\"  # The resulting string\n",
    "    for i, a in enumerate(coefs):\n",
    "        if int(a) == a:  # Remove the trailing .0\n",
    "            a = int(a)\n",
    "        if i == 0:  # First coefficient, no need for X\n",
    "            if a > 0:\n",
    "                res += \"{a} + \".format(a=a)\n",
    "            elif a < 0:  # Negative a is printed like (a)\n",
    "                res += \"({a}) + \".format(a=a)\n",
    "            # a = 0 is not displayed \n",
    "        elif i == 1:  # Second coefficient, only X and not X**i\n",
    "            if a == 1:  # a = 1 does not need to be displayed\n",
    "                res += \"X + \"\n",
    "            elif a > 0:\n",
    "                res += \"{a} \\;X + \".format(a=a)\n",
    "            elif a < 0:\n",
    "                res += \"({a}) \\;X + \".format(a=a)\n",
    "        else:\n",
    "            if a == 1:\n",
    "                # A special care needs to be addressed to put the exponent in {..} in LaTeX\n",
    "                res += \"X^{i} + \".format(i=\"{%d}\" % i)\n",
    "            elif a > 0:\n",
    "                res += \"{a} \\;X^{i} + \".format(a=a, i=\"{%d}\" % i)\n",
    "            elif a < 0:\n",
    "                res += \"({a}) \\;X^{i} + \".format(a=a, i=\"{%d}\" % i)\n",
    "    if res == \"\":\n",
    "        res = \"0000\"\n",
    "    return \"$\" + res[:-3] + \"$\"\n",
    "\n",
    "def setup_prrint():\n",
    "    ip = get_ipython()\n",
    "    latex_formatter = ip.display_formatter.formatters['text/latex']\n",
    "    latex_formatter.for_type_by_name('numpy.polynomial.polynomial',\n",
    "                                     'Polynomial', Polynomial_to_LaTeX)\n",
    "\n",
    "setup_prrint()"
   ]
  },
  {
   "cell_type": "markdown",
   "metadata": {},
   "source": [
    "Je recommande d'importer `numpy.polynomial.Polynomial` et de l'appeller `P`.\n",
    "Définir directement le monôme $X$ comme `P([0, 1])`, donné par la liste de ses coefficients $[a_k]_{0 \\leq k \\leq \\delta(X)} = [0, 1]$."
   ]
  },
  {
   "cell_type": "code",
   "execution_count": 9,
   "metadata": {},
   "outputs": [
    {
     "data": {
      "text/latex": [
       "$X$"
      ],
      "text/plain": [
       "Polynomial([ 0.,  1.], [-1,  1], [-1,  1])"
      ]
     },
     "execution_count": 9,
     "metadata": {},
     "output_type": "execute_result"
    }
   ],
   "source": [
    "from numpy.polynomial import Polynomial as P\n",
    "X = P([0, 1])\n",
    "X"
   ]
  },
  {
   "cell_type": "markdown",
   "metadata": {},
   "source": [
    "Ensuite, on peut rapidement écrire une fonction, qui donne $P_n$ pour un $n \\geq 0$.\n",
    "Pas besoin d'être malin, on recalcule tout dans la fonction.\n",
    "\n",
    "- `Pnm1` signifie $P_{n - 1}$\n",
    "- `Pnext` signifie $P_{n + 1}$"
   ]
  },
  {
   "cell_type": "code",
   "execution_count": 10,
   "metadata": {},
   "outputs": [
    {
     "name": "stdout",
     "output_type": "stream",
     "text": [
      "Pour n = 0 P_n =\n"
     ]
    },
    {
     "data": {
      "text/latex": [
       "$1$"
      ],
      "text/plain": [
       "Polynomial([ 1.], [-1,  1], [-1,  1])"
      ]
     },
     "execution_count": 10,
     "metadata": {},
     "output_type": "execute_result"
    },
    {
     "name": "stdout",
     "output_type": "stream",
     "text": [
      "Pour n = 1 P_n =\n"
     ]
    },
    {
     "data": {
      "text/latex": [
       "$2 \\;X$"
      ],
      "text/plain": [
       "Polynomial([ 0.,  2.], [-1,  1], [-1,  1])"
      ]
     },
     "execution_count": 10,
     "metadata": {},
     "output_type": "execute_result"
    },
    {
     "name": "stdout",
     "output_type": "stream",
     "text": [
      "Pour n = 2 P_n =\n"
     ]
    },
    {
     "data": {
      "text/latex": [
       "$(-1) + 4 \\;X^{2}$"
      ],
      "text/plain": [
       "Polynomial([-1.,  0.,  4.], [-1.,  1.], [-1.,  1.])"
      ]
     },
     "execution_count": 10,
     "metadata": {},
     "output_type": "execute_result"
    },
    {
     "name": "stdout",
     "output_type": "stream",
     "text": [
      "Pour n = 3 P_n =\n"
     ]
    },
    {
     "data": {
      "text/latex": [
       "$(-4) \\;X + 8 \\;X^{3}$"
      ],
      "text/plain": [
       "Polynomial([ 0., -4.,  0.,  8.], [-1.,  1.], [-1.,  1.])"
      ]
     },
     "execution_count": 10,
     "metadata": {},
     "output_type": "execute_result"
    },
    {
     "name": "stdout",
     "output_type": "stream",
     "text": [
      "Pour n = 4 P_n =\n"
     ]
    },
    {
     "data": {
      "text/latex": [
       "$1 + (-12) \\;X^{2} + 16 \\;X^{4}$"
      ],
      "text/plain": [
       "Polynomial([  1.,   0., -12.,   0.,  16.], [-1.,  1.], [-1.,  1.])"
      ]
     },
     "execution_count": 10,
     "metadata": {},
     "output_type": "execute_result"
    },
    {
     "name": "stdout",
     "output_type": "stream",
     "text": [
      "Pour n = 5 P_n =\n"
     ]
    },
    {
     "data": {
      "text/latex": [
       "$6 \\;X + (-32) \\;X^{3} + 32 \\;X^{5}$"
      ],
      "text/plain": [
       "Polynomial([  0.,   6.,   0., -32.,   0.,  32.], [-1.,  1.], [-1.,  1.])"
      ]
     },
     "execution_count": 10,
     "metadata": {},
     "output_type": "execute_result"
    },
    {
     "name": "stdout",
     "output_type": "stream",
     "text": [
      "Pour n = 6 P_n =\n"
     ]
    },
    {
     "data": {
      "text/latex": [
       "$(-1) + 24 \\;X^{2} + (-80) \\;X^{4} + 64 \\;X^{6}$"
      ],
      "text/plain": [
       "Polynomial([ -1.,   0.,  24.,   0., -80.,   0.,  64.], [-1.,  1.], [-1.,  1.])"
      ]
     },
     "execution_count": 10,
     "metadata": {},
     "output_type": "execute_result"
    },
    {
     "name": "stdout",
     "output_type": "stream",
     "text": [
      "Pour n = 7 P_n =\n"
     ]
    },
    {
     "data": {
      "text/latex": [
       "$(-8) \\;X + 80 \\;X^{3} + (-192) \\;X^{5} + 128 \\;X^{7}$"
      ],
      "text/plain": [
       "Polynomial([   0.,   -8.,    0.,   80.,    0., -192.,    0.,  128.], [-1.,  1.], [-1.,  1.])"
      ]
     },
     "execution_count": 10,
     "metadata": {},
     "output_type": "execute_result"
    },
    {
     "name": "stdout",
     "output_type": "stream",
     "text": [
      "Pour n = 8 P_n =\n"
     ]
    },
    {
     "data": {
      "text/latex": [
       "$1 + (-40) \\;X^{2} + 240 \\;X^{4} + (-448) \\;X^{6} + 256 \\;X^{8}$"
      ],
      "text/plain": [
       "Polynomial([   1.,    0.,  -40.,    0.,  240.,    0., -448.,    0.,  256.], [-1.,  1.], [-1.,  1.])"
      ]
     },
     "execution_count": 10,
     "metadata": {},
     "output_type": "execute_result"
    }
   ],
   "source": [
    "def P_n(n):\n",
    "    P0 = P([1])\n",
    "    P1 = P([0, 2])\n",
    "    Pnm1, Pn = P0, P1\n",
    "    for i in range(n):\n",
    "        Pnext = (2 * X * Pn) - Pnm1\n",
    "        Pnm1, Pn = Pn, Pnext\n",
    "    return Pnm1\n",
    "\n",
    "for n in range(0, 1 + 8):\n",
    "    print(\"Pour n =\", n, \"P_n =\")\n",
    "    P_n(n)"
   ]
  },
  {
   "cell_type": "markdown",
   "metadata": {},
   "source": [
    "Premières observations :\n",
    "- Le dégré de $P_n$ est $n$,\n",
    "- Son coefficient dominant est $2^{n-1}$ si $n>0$,\n",
    "- Sa parité est impaire si $n$ est pair, paire si $n$ est impair.\n",
    "\n",
    "Ces trois points se montrent assez rapidement par récurrence simple, à partir de $P_0,P_1$ et la relation de récurrence définissant $P_n$."
   ]
  },
  {
   "cell_type": "markdown",
   "metadata": {},
   "source": [
    "On vérifie mathématiquement que $\\langle P, Q \\rangle := \\frac{2}{\\pi} \\int_{-1}^{1} \\sqrt{1-t^2} P(t) Q(t) \\mathrm{d}t$ est un produit scalaire pour les polynômes réels.\n",
    "(il est évidemment bien défini puisque la racine carrée existe, et que les fonctions intégrées sont de continues sur $[-1,1]$, symétrique, positif si $P=Q$, et il est défini parce que $P^2(t) \\geq 0$).\n",
    "\n",
    "Calculons $\\langle P_i, P_j \\rangle$ pour $0 \\leq i,j \\leq 8$.\n",
    "L'intégration est faite *numériquement*, avec [`scipy.integrate.quad`](https://docs.scipy.org/doc/scipy/reference/generated/scipy.integrate.quad.html)."
   ]
  },
  {
   "cell_type": "code",
   "execution_count": 11,
   "metadata": {
    "collapsed": true
   },
   "outputs": [],
   "source": [
    "from scipy.integrate import quad\n",
    "\n",
    "def produit_scalaire(P, Q):\n",
    "    def f(t):\n",
    "        return np.sqrt(1 - t**2) * P(t) * Q(t)\n",
    "    return (2 / np.pi) * quad(f, -1, 1)[0]"
   ]
  },
  {
   "cell_type": "code",
   "execution_count": 12,
   "metadata": {},
   "outputs": [
    {
     "name": "stdout",
     "output_type": "stream",
     "text": [
      "< P_1, P_1 > = 1\n",
      "< P_1, P_2 > = 0\n",
      "< P_1, P_3 > = -0\n",
      "< P_1, P_4 > = 0\n",
      "< P_1, P_5 > = -0\n",
      "< P_1, P_6 > = 0\n",
      "< P_1, P_7 > = -0\n",
      "< P_1, P_8 > = 0\n",
      "< P_2, P_2 > = 1\n",
      "< P_2, P_3 > = 0\n",
      "< P_2, P_4 > = -0\n",
      "< P_2, P_5 > = 0\n",
      "< P_2, P_6 > = -0\n",
      "< P_2, P_7 > = 0\n",
      "< P_2, P_8 > = -0\n",
      "< P_3, P_3 > = 1\n",
      "< P_3, P_4 > = 0\n",
      "< P_3, P_5 > = -0\n",
      "< P_3, P_6 > = 0\n",
      "< P_3, P_7 > = -0\n",
      "< P_3, P_8 > = 0\n",
      "< P_4, P_4 > = 1\n",
      "< P_4, P_5 > = 0\n",
      "< P_4, P_6 > = -0\n",
      "< P_4, P_7 > = 0\n",
      "< P_4, P_8 > = -0\n",
      "< P_5, P_5 > = 1\n",
      "< P_5, P_6 > = 0\n",
      "< P_5, P_7 > = -0\n",
      "< P_5, P_8 > = 0\n",
      "< P_6, P_6 > = 1\n",
      "< P_6, P_7 > = 0\n",
      "< P_6, P_8 > = -0\n",
      "< P_7, P_7 > = 1\n",
      "< P_7, P_8 > = 0\n",
      "< P_8, P_8 > = 1\n"
     ]
    }
   ],
   "source": [
    "# on calcule qu'une seule fois\n",
    "P_n_s = [P_n(n) for n in range(0, 1 + 8)]\n",
    "\n",
    "for i in range(1, 1 + 8):\n",
    "    for j in range(i, 1 + 8):\n",
    "        Pi, Pj = P_n_s[i], P_n_s[j]\n",
    "        ps = np.round(produit_scalaire(Pi, Pj), 8)\n",
    "        print(\"< P_{}, P_{} > = {:.3g}\".format(i, j, ps))"
   ]
  },
  {
   "cell_type": "code",
   "execution_count": 15,
   "metadata": {},
   "outputs": [
    {
     "data": {
      "text/plain": [
       "array([[1, 0, 0, 0, 0, 0, 0, 0],\n",
       "       [0, 1, 0, 0, 0, 0, 0, 0],\n",
       "       [0, 0, 1, 0, 0, 0, 0, 0],\n",
       "       [0, 0, 0, 1, 0, 0, 0, 0],\n",
       "       [0, 0, 0, 0, 1, 0, 0, 0],\n",
       "       [0, 0, 0, 0, 0, 1, 0, 0],\n",
       "       [0, 0, 0, 0, 0, 0, 1, 0],\n",
       "       [0, 0, 0, 0, 0, 0, 0, 1]])"
      ]
     },
     "execution_count": 15,
     "metadata": {},
     "output_type": "execute_result"
    }
   ],
   "source": [
    "produits_scalaires = np.zeros((8, 8))\n",
    "\n",
    "for i in range(1, 1 + 8):\n",
    "    for j in range(i, 1 + 8):\n",
    "        Pi, Pj = P_n_s[i], P_n_s[j]\n",
    "        produits_scalaires[i - 1, j - 1] = np.round(produit_scalaire(Pi, Pj), 8)\n",
    "\n",
    "produits_scalaires.astype(int)"
   ]
  },
  {
   "cell_type": "markdown",
   "metadata": {},
   "source": [
    "La famille $(P_i)_{0 \\leq i \\leq 8}\\;$  est *orthogonale*.\n",
    "(les `-0` sont des `0`, la différence vient des erreurs d'arrondis)."
   ]
  },
  {
   "cell_type": "markdown",
   "metadata": {},
   "source": [
    "Soit $\\Phi(P) = 3XP' - (1-X^2)P''$ (erreur dans l'énoncé, le deuxième terme est évidemment $P''$ et non $P'$).\n",
    "Elle conserve (ou diminue) le degré de $P$."
   ]
  },
  {
   "cell_type": "code",
   "execution_count": 16,
   "metadata": {
    "collapsed": true
   },
   "outputs": [],
   "source": [
    "def Phi(P):\n",
    "    return 3 * X * P.deriv() - (1 - X**2) * P.deriv(2)"
   ]
  },
  {
   "cell_type": "markdown",
   "metadata": {},
   "source": [
    "On calcule sa matrice de passage, dans la base $(P_i)_{1\\leq i \\leq 8}$ :"
   ]
  },
  {
   "cell_type": "code",
   "execution_count": 17,
   "metadata": {
    "collapsed": true
   },
   "outputs": [],
   "source": [
    "# on calcule qu'une seule fois\n",
    "P_n_s = [P_n(n) for n in range(0, 1 + 8)]\n",
    "\n",
    "matrice_Phi = [\n",
    "    [\n",
    "        np.round(produit_scalaire(Phi(P_n_s[i]), P_n_s[j]), 8)\n",
    "        for i in range(1, 1 + 8)\n",
    "    ] for j in range(1, 1 + 8)\n",
    "]\n",
    "matrice_Phi = np.array(matrice_Phi, dtype=int)"
   ]
  },
  {
   "cell_type": "code",
   "execution_count": 18,
   "metadata": {},
   "outputs": [
    {
     "data": {
      "text/plain": [
       "(8, 8)"
      ]
     },
     "execution_count": 18,
     "metadata": {},
     "output_type": "execute_result"
    },
    {
     "data": {
      "text/plain": [
       "array([[ 3,  0,  0,  0,  0,  0,  0,  0],\n",
       "       [ 0,  8,  0,  0,  0,  0,  0,  0],\n",
       "       [ 0,  0, 15,  0,  0,  0,  0,  0],\n",
       "       [ 0,  0,  0, 24,  0,  0,  0,  0],\n",
       "       [ 0,  0,  0,  0, 35,  0,  0,  0],\n",
       "       [ 0,  0,  0,  0,  0, 48,  0,  0],\n",
       "       [ 0,  0,  0,  0,  0,  0, 63,  0],\n",
       "       [ 0,  0,  0,  0,  0,  0,  0, 80]])"
      ]
     },
     "execution_count": 18,
     "metadata": {},
     "output_type": "execute_result"
    }
   ],
   "source": [
    "matrice_Phi.shape\n",
    "matrice_Phi"
   ]
  },
  {
   "cell_type": "markdown",
   "metadata": {},
   "source": [
    "Elle est diagonale ! Et trivialement inversible !"
   ]
  },
  {
   "cell_type": "code",
   "execution_count": 19,
   "metadata": {},
   "outputs": [
    {
     "data": {
      "text/plain": [
       "73156608000.0"
      ]
     },
     "execution_count": 19,
     "metadata": {},
     "output_type": "execute_result"
    }
   ],
   "source": [
    "from scipy.linalg import det\n",
    "det(matrice_Phi)"
   ]
  },
  {
   "cell_type": "markdown",
   "metadata": {},
   "source": [
    "Cette matrice est inversible, donc dans la base $(P_i)_{1\\leq i \\leq 8}$, l'application linéaire $\\Phi$ est une bijection.\n",
    "\n",
    "On peut même dire plus : en renormalisant les $P_i$, on peut faire de $\\Phi$ l'identité..."
   ]
  },
  {
   "cell_type": "code",
   "execution_count": 30,
   "metadata": {},
   "outputs": [
    {
     "data": {
      "text/plain": [
       "array([[1, 0, 0, 0, 0, 0, 0, 0],\n",
       "       [0, 1, 0, 0, 0, 0, 0, 0],\n",
       "       [0, 0, 1, 0, 0, 0, 0, 0],\n",
       "       [0, 0, 0, 1, 0, 0, 0, 0],\n",
       "       [0, 0, 0, 0, 1, 0, 0, 0],\n",
       "       [0, 0, 0, 0, 0, 1, 0, 0],\n",
       "       [0, 0, 0, 0, 0, 0, 1, 0],\n",
       "       [0, 0, 0, 0, 0, 0, 0, 1]])"
      ]
     },
     "execution_count": 30,
     "metadata": {},
     "output_type": "execute_result"
    }
   ],
   "source": [
    "P_n_s_normalises = np.asarray(P_n_s[1:]) / np.sqrt(matrice_Phi.diagonal())\n",
    "\n",
    "matrice_Phi_normalise = [\n",
    "    [\n",
    "        np.round(produit_scalaire(Phi(P_n_s_normalises[i - 1]), P_n_s_normalises[j - 1]), 8)\n",
    "        for i in range(1, 1 + 8)\n",
    "    ] for j in range(1, 1 + 8)\n",
    "]\n",
    "matrice_Phi_normalise = np.array(matrice_Phi_normalise)\n",
    "\n",
    "matrice_Phi_normalise.astype(int)"
   ]
  },
  {
   "cell_type": "markdown",
   "metadata": {},
   "source": [
    "On peut utiliser ce fait pour montrer, par deux intégrations par parties, le résultat annoncé sur l'orthogonalité de la famille $(P_i)_{1\\leq i \\leq 8}\\;$."
   ]
  },
  {
   "cell_type": "markdown",
   "metadata": {},
   "source": [
    "----\n",
    "## Planche 170\n",
    "\n",
    "On étudie le comportement d'une particule évoluant sur 4 états, avec certaines probabilités :\n",
    "\n",
    "![centrale2017002_planche170.png](centrale2017002_planche170.png)"
   ]
  },
  {
   "cell_type": "markdown",
   "metadata": {},
   "source": [
    "On fixe la constante $p = \\frac12$ dès maintenant, on définit la matrice de transition $A$, telle que définie un peu après dans l'exercice.\n",
    "\n",
    "Les états sont représentés par `[0, 1, 2, 3]` plutôt que $A_0, A_1, A_2, A_3$."
   ]
  },
  {
   "cell_type": "code",
   "execution_count": 35,
   "metadata": {
    "collapsed": true
   },
   "outputs": [],
   "source": [
    "p = 0.5\n",
    "\n",
    "A = np.array([\n",
    "    [1, 0, 0, 0],\n",
    "    [p, 0, 1-p, 0],\n",
    "    [0, p, 0, 1-p],\n",
    "    [0, 0, 0, 1]\n",
    "])\n",
    "etats = [0, 1, 2, 3]"
   ]
  },
  {
   "cell_type": "code",
   "execution_count": 36,
   "metadata": {
    "collapsed": true
   },
   "outputs": [],
   "source": [
    "import numpy.random as rd"
   ]
  },
  {
   "cell_type": "markdown",
   "metadata": {},
   "source": [
    "Une transition se fait en choisissant un état $x_{n+1}$ parmi $\\{0, 1, 2, 3\\}$, avec probabilité $\\mathbb{P}(x_{n+1} = k) = A_{x_n, k}$.\n",
    "La fonction [`numpy.random.choice`](https://docs.scipy.org/doc/numpy/reference/generated/numpy.random.choice.html) fait ça directement."
   ]
  },
  {
   "cell_type": "code",
   "execution_count": 37,
   "metadata": {
    "collapsed": true
   },
   "outputs": [],
   "source": [
    "def une_transition(xn):\n",
    "    return rd.choice(etats, p = A[xn])"
   ]
  },
  {
   "cell_type": "code",
   "execution_count": 44,
   "metadata": {},
   "outputs": [
    {
     "data": {
      "text/plain": [
       "0"
      ]
     },
     "execution_count": 44,
     "metadata": {},
     "output_type": "execute_result"
    },
    {
     "data": {
      "text/plain": [
       "0"
      ]
     },
     "execution_count": 44,
     "metadata": {},
     "output_type": "execute_result"
    },
    {
     "data": {
      "text/plain": [
       "3"
      ]
     },
     "execution_count": 44,
     "metadata": {},
     "output_type": "execute_result"
    },
    {
     "data": {
      "text/plain": [
       "3"
      ]
     },
     "execution_count": 44,
     "metadata": {},
     "output_type": "execute_result"
    }
   ],
   "source": [
    "une_transition(0)\n",
    "une_transition(1)\n",
    "une_transition(2)\n",
    "une_transition(3)"
   ]
  },
  {
   "cell_type": "markdown",
   "metadata": {},
   "source": [
    "On peut écrire la fonction à la main, comme :"
   ]
  },
  {
   "cell_type": "code",
   "execution_count": 45,
   "metadata": {
    "collapsed": true
   },
   "outputs": [],
   "source": [
    "def une_transition_longue(xn):\n",
    "    if xn == 0 or xn == 3:\n",
    "        return xn\n",
    "    elif xn == 1:\n",
    "        if rd.random() < p:\n",
    "            return 0  # avec probabilité p\n",
    "        else:\n",
    "            return 2  # avec probabilité 1-p\n",
    "    elif xn == 2:\n",
    "        if rd.random() < p:\n",
    "            return 1\n",
    "        else:\n",
    "            return 3"
   ]
  },
  {
   "cell_type": "code",
   "execution_count": 46,
   "metadata": {},
   "outputs": [
    {
     "data": {
      "text/plain": [
       "0"
      ]
     },
     "execution_count": 46,
     "metadata": {},
     "output_type": "execute_result"
    },
    {
     "data": {
      "text/plain": [
       "2"
      ]
     },
     "execution_count": 46,
     "metadata": {},
     "output_type": "execute_result"
    },
    {
     "data": {
      "text/plain": [
       "1"
      ]
     },
     "execution_count": 46,
     "metadata": {},
     "output_type": "execute_result"
    },
    {
     "data": {
      "text/plain": [
       "3"
      ]
     },
     "execution_count": 46,
     "metadata": {},
     "output_type": "execute_result"
    }
   ],
   "source": [
    "une_transition_longue(0)\n",
    "une_transition_longue(1)\n",
    "une_transition_longue(2)\n",
    "une_transition_longue(3)"
   ]
  },
  {
   "cell_type": "markdown",
   "metadata": {},
   "source": [
    "Faire plusieurs transitions se fait juste en appliquant la même fonction $n$ fois."
   ]
  },
  {
   "cell_type": "code",
   "execution_count": 50,
   "metadata": {
    "collapsed": true
   },
   "outputs": [],
   "source": [
    "def n_transitions(n, x0):\n",
    "    x = x0\n",
    "    for i in range(n):\n",
    "        x = une_transition(x)\n",
    "    return x"
   ]
  },
  {
   "cell_type": "code",
   "execution_count": 51,
   "metadata": {},
   "outputs": [
    {
     "data": {
      "text/plain": [
       "0"
      ]
     },
     "execution_count": 51,
     "metadata": {},
     "output_type": "execute_result"
    },
    {
     "data": {
      "text/plain": [
       "0"
      ]
     },
     "execution_count": 51,
     "metadata": {},
     "output_type": "execute_result"
    },
    {
     "data": {
      "text/plain": [
       "0"
      ]
     },
     "execution_count": 51,
     "metadata": {},
     "output_type": "execute_result"
    },
    {
     "data": {
      "text/plain": [
       "3"
      ]
     },
     "execution_count": 51,
     "metadata": {},
     "output_type": "execute_result"
    }
   ],
   "source": [
    "n_transitions(10, 0)\n",
    "n_transitions(10, 1)\n",
    "n_transitions(10, 2)\n",
    "n_transitions(10, 3)"
   ]
  },
  {
   "cell_type": "markdown",
   "metadata": {},
   "source": [
    "Faisons $N=1000$ répétitions de cette expérience, à l'horizon disons $n=100$."
   ]
  },
  {
   "cell_type": "code",
   "execution_count": 52,
   "metadata": {
    "collapsed": true
   },
   "outputs": [],
   "source": [
    "n = 100\n",
    "N = 1000\n",
    "\n",
    "def histogramme(n, N, x0):\n",
    "    observations = np.zeros(len(etats))\n",
    "    for experience in range(N):\n",
    "        obs = n_transitions(n, x0)\n",
    "        observations[obs] += 1\n",
    "    plt.bar(etats, observations)\n",
    "    plt.show()"
   ]
  },
  {
   "cell_type": "code",
   "execution_count": 54,
   "metadata": {
    "scrolled": false
   },
   "outputs": [
    {
     "data": {
      "image/png": "[encoded data removed]",
      "text/plain": [
       "<matplotlib.figure.Figure at 0x7fcd2b8b4cf8>"
      ]
     },
     "metadata": {},
     "output_type": "display_data"
    },
    {
     "data": {
      "image/png": "[encoded data removed]",
      "text/plain": [
       "<matplotlib.figure.Figure at 0x7fcd2ccffef0>"
      ]
     },
     "metadata": {},
     "output_type": "display_data"
    },
    {
     "data": {
      "image/png": "[encoded data removed]",
      "text/plain": [
       "<matplotlib.figure.Figure at 0x7fcd423e8e80>"
      ]
     },
     "metadata": {},
     "output_type": "display_data"
    },
    {
     "data": {
      "image/png": "[encoded data removed]",
      "text/plain": [
       "<matplotlib.figure.Figure at 0x7fcd2cca0198>"
      ]
     },
     "metadata": {},
     "output_type": "display_data"
    }
   ],
   "source": [
    "histogramme(n, N, 0)\n",
    "histogramme(n, N, 1)\n",
    "histogramme(n, N, 2)\n",
    "histogramme(n, N, 3)"
   ]
  },
  {
   "cell_type": "markdown",
   "metadata": {},
   "source": [
    "Mathématiquement, sur papier on calcule le polynôme caractéristique de $A$, et on vérifie qu'il est scindé ssi $p \\neq 0, 1$ (mais pas à racine simple)."
   ]
  },
  {
   "cell_type": "markdown",
   "metadata": {},
   "source": [
    "Pour diagonaliser, on utile le module `numpy.linalg`, et la fonction [`numpy.linalg.eig`](https://docs.scipy.org/doc/numpy/reference/generated/numpy.linalg.eig.html)."
   ]
  },
  {
   "cell_type": "code",
   "execution_count": 56,
   "metadata": {
    "collapsed": true
   },
   "outputs": [],
   "source": [
    "from numpy import linalg as LA"
   ]
  },
  {
   "cell_type": "code",
   "execution_count": 87,
   "metadata": {},
   "outputs": [
    {
     "data": {
      "text/plain": [
       "array([[ 1. ,  0.5,  0. ,  0. ],\n",
       "       [ 0. ,  0. ,  0.5,  0. ],\n",
       "       [ 0. ,  0.5,  0. ,  0. ],\n",
       "       [ 0. ,  0. ,  0.5,  1. ]])"
      ]
     },
     "execution_count": 87,
     "metadata": {},
     "output_type": "execute_result"
    }
   ],
   "source": [
    "A = A.T\n",
    "A"
   ]
  },
  {
   "cell_type": "code",
   "execution_count": 88,
   "metadata": {},
   "outputs": [
    {
     "data": {
      "text/plain": [
       "array([ 1. ,  1. ,  0.5, -0.5])"
      ]
     },
     "execution_count": 88,
     "metadata": {},
     "output_type": "execute_result"
    },
    {
     "data": {
      "text/plain": [
       "array([[ 1.        ,  0.        , -0.5       , -0.2236068 ],\n",
       "       [ 0.        ,  0.        ,  0.5       ,  0.67082039],\n",
       "       [ 0.        ,  0.        ,  0.5       , -0.67082039],\n",
       "       [ 0.        ,  1.        , -0.5       ,  0.2236068 ]])"
      ]
     },
     "execution_count": 88,
     "metadata": {},
     "output_type": "execute_result"
    }
   ],
   "source": [
    "spectre, matricePassage = LA.eig(A)\n",
    "spectre\n",
    "matricePassage"
   ]
  },
  {
   "cell_type": "markdown",
   "metadata": {},
   "source": [
    "Ici, on vérifie que le spectre contient deux fois la valeur propre $1$, qui vient des deux puits $A_0,A_3$, et deux valeurs symétriques.\n",
    "\n",
    "On peut vérifier que $A = P \\Lambda P^{-1}$"
   ]
  },
  {
   "cell_type": "code",
   "execution_count": 89,
   "metadata": {},
   "outputs": [
    {
     "data": {
      "text/plain": [
       "array([[  1.00000000e+00,   5.00000000e-01,  -6.14248029e-17,\n",
       "          0.00000000e+00],\n",
       "       [  0.00000000e+00,  -4.08433854e-17,   5.00000000e-01,\n",
       "          0.00000000e+00],\n",
       "       [  0.00000000e+00,   5.00000000e-01,   1.34656917e-16,\n",
       "          0.00000000e+00],\n",
       "       [  0.00000000e+00,   5.78726134e-17,   5.00000000e-01,\n",
       "          1.00000000e+00]])"
      ]
     },
     "execution_count": 89,
     "metadata": {},
     "output_type": "execute_result"
    },
    {
     "data": {
      "text/plain": [
       "array([[  1.00000000e+00,   5.00000000e-01,  -9.74554924e-17,\n",
       "          0.00000000e+00],\n",
       "       [  0.00000000e+00,  -4.49809423e-17,   5.00000000e-01,\n",
       "          0.00000000e+00],\n",
       "       [  0.00000000e+00,   5.00000000e-01,   1.30519360e-16,\n",
       "          0.00000000e+00],\n",
       "       [  0.00000000e+00,   4.95974995e-17,   5.00000000e-01,\n",
       "          1.00000000e+00]])"
      ]
     },
     "execution_count": 89,
     "metadata": {},
     "output_type": "execute_result"
    }
   ],
   "source": [
    "Lambda = np.diag(spectre)\n",
    "matricePassageinv = LA.inv(matricePassage)\n",
    "\n",
    "# avec Python >= 3.6\n",
    "matricePassage @ Lambda @ matricePassageinv\n",
    "# avant 3.6\n",
    "matricePassage.dot(Lambda.dot(matricePassageinv))"
   ]
  },
  {
   "cell_type": "markdown",
   "metadata": {},
   "source": [
    "Sans erreur d'arrondis, ça donne :"
   ]
  },
  {
   "cell_type": "code",
   "execution_count": 90,
   "metadata": {},
   "outputs": [
    {
     "data": {
      "text/plain": [
       "array([[ 1. ,  0.5, -0. ,  0. ],\n",
       "       [ 0. , -0. ,  0.5,  0. ],\n",
       "       [ 0. ,  0.5,  0. ,  0. ],\n",
       "       [ 0. ,  0. ,  0.5,  1. ]])"
      ]
     },
     "execution_count": 90,
     "metadata": {},
     "output_type": "execute_result"
    },
    {
     "data": {
      "text/plain": [
       "array([[ 1. ,  0.5, -0. ,  0. ],\n",
       "       [ 0. , -0. ,  0.5,  0. ],\n",
       "       [ 0. ,  0.5,  0. ,  0. ],\n",
       "       [ 0. ,  0. ,  0.5,  1. ]])"
      ]
     },
     "execution_count": 90,
     "metadata": {},
     "output_type": "execute_result"
    },
    {
     "data": {
      "text/plain": [
       "True"
      ]
     },
     "execution_count": 90,
     "metadata": {},
     "output_type": "execute_result"
    }
   ],
   "source": [
    "np.round(matricePassage @ Lambda @ matricePassageinv, 3)\n",
    "np.round(matricePassage.dot(Lambda.dot(matricePassageinv)), 3)\n",
    "\n",
    "np.all(np.round(matricePassage @ Lambda @ matricePassageinv, 3) == A)"
   ]
  },
  {
   "cell_type": "markdown",
   "metadata": {},
   "source": [
    "On peut ensuite calculer $\\lim_{n\\to\\infty} X_n$ en calculant\n",
    "$P \\Lambda' P^{-1} X_0$ si $\\Lambda' := \\lim_{n\\to\\infty} \\Lambda^n = \\mathrm{Diag}(\\lim_{n\\to\\infty} \\lambda_i^n)$ qui existe bien puisque $\\mathrm{Sp}(A) = \\{1, \\pm\\sqrt{p(1-p)}\\} \\subset [-1,1]$."
   ]
  },
  {
   "cell_type": "code",
   "execution_count": 91,
   "metadata": {},
   "outputs": [
    {
     "data": {
      "text/plain": [
       "array([[1, 0, 0, 0],\n",
       "       [0, 1, 0, 0],\n",
       "       [0, 0, 0, 0],\n",
       "       [0, 0, 0, 0]])"
      ]
     },
     "execution_count": 91,
     "metadata": {},
     "output_type": "execute_result"
    }
   ],
   "source": [
    "def limite_inf(t):\n",
    "    if t <= -1:\n",
    "        raise ValueError(\"Pas de limite\")\n",
    "    elif -1 < t < 1:\n",
    "        return 0\n",
    "    elif t == 1:\n",
    "        return 1\n",
    "    else:\n",
    "        return np.inf\n",
    "\n",
    "LambdaInf = np.diag([limite_inf(lmbda) for lmbda in spectre])\n",
    "LambdaInf"
   ]
  },
  {
   "cell_type": "code",
   "execution_count": 93,
   "metadata": {},
   "outputs": [
    {
     "name": "stdout",
     "output_type": "stream",
     "text": [
      "Pour X0 = [ 1.  0.  0.  0.]\n",
      "    => limite Xn pour n -> oo = [ 1.  0.  0.  0.]\n",
      "Pour X0 = [ 0.  1.  0.  0.]\n",
      "    => limite Xn pour n -> oo = [ 0.66666667  0.          0.          0.33333333]\n",
      "Pour X0 = [ 0.  0.  1.  0.]\n",
      "    => limite Xn pour n -> oo = [ 0.33333333  0.          0.          0.66666667]\n",
      "Pour X0 = [ 0.  0.  0.  1.]\n",
      "    => limite Xn pour n -> oo = [ 0.  0.  0.  1.]\n"
     ]
    }
   ],
   "source": [
    "for x0 in etats:\n",
    "    X0 = np.zeros(len(etats))\n",
    "    X0[x0] = 1\n",
    "    print(\"Pour X0 =\", X0)\n",
    "    Xinf = (matricePassage @ LambdaInf @ matricePassageinv) @ X0\n",
    "    print(\"    => limite Xn pour n -> oo =\", Xinf)"
   ]
  },
  {
   "cell_type": "markdown",
   "metadata": {},
   "source": [
    "Ça correspond exactement aux histogrammes obtenus plus haut.\n",
    "Peu importe l'état initial, la particule finira dans un des deux puits.\n",
    "(C'est ce qu'on appelle des états absorbants)"
   ]
  },
  {
   "cell_type": "markdown",
   "metadata": {},
   "source": [
    "----\n",
    "# À voir aussi\n",
    "\n",
    "## [Les oraux](http://perso.crans.org/besson/infoMP/oraux/solutions/)   *(exercices de maths avec Python)*\n",
    "\n",
    "Se préparer aux oraux de [\"maths avec Python\" (maths 2)](http://www.concours-centrale-supelec.fr/CentraleSupelec/MultiY/C2015/#oMat2) du concours Centrale Supélec peut être utile.\n",
    "\n",
    "Après les écrits et la fin de l'année, pour ceux qui seront admissibles à Centrale-Supélec, ils vous restera <b>les oraux</b> (le concours Centrale-Supélec a un <a title=\"Quelques exemples d'exercices sur le site du concours Centrale-Supélec\" href=\"http://www.concours-centrale-supelec.fr/CentraleSupelec/MultiY/C2015/#oMat2\">oral d'informatique</a>, et un peu d'algorithmique et de Python peuvent en théorie être demandés à chaque oral de maths et de SI).\n",
    "\n",
    "Je vous invite à lire [cette page avec attention](http://www.concours-centrale-supelec.fr/CentraleSupelec/MultiY/C2015/#oMat2), et à jeter un œil aux documents mis à disposition :\n",
    "\n",
    "## Fiches de révisions *pour les oraux*\n",
    "\n",
    "1. [Calcul matriciel](http://www.concours-centrale-supelec.fr/CentraleSupelec/MultiY/C2015/Python-matrices.pdf), avec [numpy](https://docs.scipy.org/doc/numpy/) et [numpy.linalg](http://docs.scipy.org/doc/numpy/reference/routines.linalg.html),\n",
    "2. [Réalisation de tracés](http://www.concours-centrale-supelec.fr/CentraleSupelec/MultiY/C2015/Python-plot.pdf), avec [matplotlib](http://matplotlib.org/users/beginner.html),\n",
    "3. [Analyse numérique](http://www.concours-centrale-supelec.fr/CentraleSupelec/MultiY/C2015/Python-AN.pdf), avec [numpy](https://docs.scipy.org/doc/numpy/) et [scipy](http://docs.scipy.org/doc/scipy/reference/tutorial/index.html). Voir par exemple [scipy.integrate](http://docs.scipy.org/doc/scipy/reference/tutorial/integrate.html) avec les fonctions [scipy.integrate.quad](http://docs.scipy.org/doc/scipy/reference/generated/scipy.integrate.quad.html) (intégrale numérique) et [scipy.integrate.odeint](http://docs.scipy.org/doc/scipy/reference/generated/scipy.integrate.odeint.html) (résolution numérique d'une équation différentielle),\n",
    "4. [Polynômes](http://www.concours-centrale-supelec.fr/CentraleSupelec/MultiY/C2015/Python-polynomes.pdf) : avec [numpy.polynomials](https://docs.scipy.org/doc/numpy/reference/routines.polynomials.package.html), [ce tutoriel peut aider](https://docs.scipy.org/doc/numpy/reference/routines.polynomials.classes.html),\n",
    "5. [Probabilités](http://www.concours-centrale-supelec.fr/CentraleSupelec/MultiY/C2015/Python-random.pdf), avec [numpy](https://docs.scipy.org/doc/numpy/) et [random](https://docs.python.org/3/library/random.html).\n",
    "\n",
    "Pour réviser : voir [ce tutoriel Matplotlib (en anglais)](http://www.labri.fr/perso/nrougier/teaching/matplotlib/), [ce tutoriel Numpy (en anglais)](http://www.labri.fr/perso/nrougier/teaching/numpy/numpy.html).\n",
    "Ainsi que tous les [TP](http://perso.crans.org/besson/infoMP/TPs/solutions/), [TD](http://perso.crans.org/besson/infoMP/TDs/solutions/) et [DS](http://perso.crans.org/besson/infoMP/DSs/solutions/) en Python que j'ai donné et corrigé au Lycée Lakanal (Sceaux, 92) en 2015-2016 !\n",
    "\n",
    "## Quelques exemples de sujets *d'oraux* corrigés\n",
    "> Ces 5 sujets sont corrigés, et nous les avons tous traité en classe durant les deux TP de révisions pour les oraux (10 et 11 juin).\n",
    "\n",
    "- PC : [sujet #1](http://www.concours-centrale-supelec.fr/CentraleSupelec/MultiY/C2015/PC-Mat2-2015-27.pdf) ([correction PC #1](http://perso.crans.org/besson/infoMP/oraux/solutions/PC_Mat2_2015_27.html)), [sujet #2](http://www.concours-centrale-supelec.fr/CentraleSupelec/MultiY/C2015/PC-Mat2-2015-28.pdf) ([correction PC #2](http://perso.crans.org/besson/infoMP/oraux/solutions/PC_Mat2_2015_28.html)).\n",
    "- PSI : [sujet #1](http://www.concours-centrale-supelec.fr/CentraleSupelec/MultiY/C2015/PSI-Mat2-2015-24.pdf) ([correction PSI #1](http://perso.crans.org/besson/infoMP/oraux/solutions/PSI_Mat2_2015_24.html)), [sujet #2](http://www.concours-centrale-supelec.fr/CentraleSupelec/MultiY/C2015/PSI-Mat2-2015-25.pdf) ([correction PSI #2](http://perso.crans.org/besson/infoMP/oraux/solutions/PSI_Mat2_2015_25.html)), [sujet #3](http://www.concours-centrale-supelec.fr/CentraleSupelec/MultiY/C2015/PSI-Mat2-2015-26.pdf) ([correction PSI #3](http://perso.crans.org/besson/infoMP/oraux/solutions/PSI_Mat2_2015_26.html)).\n",
    "- MP : pas de sujet mis à disposition, mais le programme est le même que pour les PC et PSI (pour cette épreuve)."
   ]
  },
  {
   "cell_type": "markdown",
   "metadata": {},
   "source": [
    "----\n",
    "## D'autres notebooks ?\n",
    "\n",
    "> Ce document est distribué [sous licence libre (MIT)](https://lbesson.mit-license.org/), comme [les autres notebooks](https://GitHub.com/Naereen/notebooks/) que j'ai écrit depuis 2015."
   ]
  }
 ],
 "metadata": {
  "kernelspec": {
   "display_name": "Python 3",
   "language": "python",
   "name": "python3"
  },
  "language_info": {
   "codemirror_mode": {
    "name": "ipython",
    "version": 3
   },
   "file_extension": ".py",
   "mimetype": "text/x-python",
   "name": "python",
   "nbconvert_exporter": "python",
   "pygments_lexer": "ipython3",
   "version": "3.5.3"
  },
  "notify_time": "5",
  "toc": {
   "colors": {
    "hover_highlight": "#DAA520",
    "running_highlight": "#FF0000",
    "selected_highlight": "#FFD700"
   },
   "moveMenuLeft": true,
   "nav_menu": {
    "height": "511px",
    "width": "251px"
   },
   "navigate_menu": true,
   "number_sections": true,
   "sideBar": true,
   "threshold": 4,
   "toc_cell": true,
   "toc_section_display": "block",
   "toc_window_display": true
  }
 },
 "nbformat": 4,
 "nbformat_minor": 2
}
