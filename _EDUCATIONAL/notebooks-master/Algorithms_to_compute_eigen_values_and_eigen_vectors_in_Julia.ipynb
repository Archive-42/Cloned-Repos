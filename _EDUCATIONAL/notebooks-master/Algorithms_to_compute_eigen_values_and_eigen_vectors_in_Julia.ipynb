{
 "cells": [
  {
   "cell_type": "markdown",
   "metadata": {
    "toc": "true"
   },
   "source": [
    "# Table of Contents\n",
    " <p><div class=\"lev1 toc-item\"><a href=\"#An-algorithm-to-compute-eigen-values-and-eigen-vectors-in-Julia\" data-toc-modified-id=\"An-algorithm-to-compute-eigen-values-and-eigen-vectors-in-Julia-1\"><span class=\"toc-item-num\">1&nbsp;&nbsp;</span>An algorithm to compute eigen values and eigen vectors in Julia</a></div><div class=\"lev2 toc-item\"><a href=\"#Definition\" data-toc-modified-id=\"Definition-11\"><span class=\"toc-item-num\">1.1&nbsp;&nbsp;</span>Definition</a></div><div class=\"lev2 toc-item\"><a href=\"#Examples\" data-toc-modified-id=\"Examples-12\"><span class=\"toc-item-num\">1.2&nbsp;&nbsp;</span>Examples</a></div><div class=\"lev1 toc-item\"><a href=\"#Using-the-builtin-functions\" data-toc-modified-id=\"Using-the-builtin-functions-2\"><span class=\"toc-item-num\">2&nbsp;&nbsp;</span>Using the builtin functions</a></div><div class=\"lev2 toc-item\"><a href=\"#Testing\" data-toc-modified-id=\"Testing-21\"><span class=\"toc-item-num\">2.1&nbsp;&nbsp;</span>Testing</a></div><div class=\"lev2 toc-item\"><a href=\"#First-example\" data-toc-modified-id=\"First-example-22\"><span class=\"toc-item-num\">2.2&nbsp;&nbsp;</span>First example</a></div><div class=\"lev2 toc-item\"><a href=\"#Second-example\" data-toc-modified-id=\"Second-example-23\"><span class=\"toc-item-num\">2.3&nbsp;&nbsp;</span>Second example</a></div><div class=\"lev1 toc-item\"><a href=\"#Computing-the-largest-eigenvalue-with-power-iteration\" data-toc-modified-id=\"Computing-the-largest-eigenvalue-with-power-iteration-3\"><span class=\"toc-item-num\">3&nbsp;&nbsp;</span>Computing the largest eigenvalue with power iteration</a></div><div class=\"lev1 toc-item\"><a href=\"#QR-algorithm\" data-toc-modified-id=\"QR-algorithm-4\"><span class=\"toc-item-num\">4&nbsp;&nbsp;</span>QR algorithm</a></div><div class=\"lev2 toc-item\"><a href=\"#Gram-Schmidt-process\" data-toc-modified-id=\"Gram-Schmidt-process-41\"><span class=\"toc-item-num\">4.1&nbsp;&nbsp;</span>Gram-Schmidt process</a></div><div class=\"lev2 toc-item\"><a href=\"#QR-decomposition\" data-toc-modified-id=\"QR-decomposition-42\"><span class=\"toc-item-num\">4.2&nbsp;&nbsp;</span>QR decomposition</a></div><div class=\"lev2 toc-item\"><a href=\"#QR-method\" data-toc-modified-id=\"QR-method-43\"><span class=\"toc-item-num\">4.3&nbsp;&nbsp;</span>QR method</a></div><div class=\"lev2 toc-item\"><a href=\"#Computing-the-eigen-vectors\" data-toc-modified-id=\"Computing-the-eigen-vectors-44\"><span class=\"toc-item-num\">4.4&nbsp;&nbsp;</span>Computing the eigen vectors</a></div><div class=\"lev1 toc-item\"><a href=\"#Conclusion\" data-toc-modified-id=\"Conclusion-5\"><span class=\"toc-item-num\">5&nbsp;&nbsp;</span>Conclusion</a></div>"
   ]
  },
  {
   "cell_type": "markdown",
   "metadata": {},
   "source": [
    "----\n",
    "# An algorithm to compute eigen values and eigen vectors in Julia\n",
    "\n",
    "This small notebook shows a naive implementation of an algorithm to compute the [eigen values and eigen vectors](https://en.wikipedia.org/wiki/Eigenvalue) of a matrix, written in [the Julia programming language](https://www.julialang.org/).\n",
    "\n",
    "- Ref: [this Wikipedia page](https://en.wikipedia.org/wiki/Eigenvalue_algorithm)."
   ]
  },
  {
   "cell_type": "markdown",
   "metadata": {},
   "source": [
    "## Definition\n",
    "\n",
    "For a real or complex valued square matrix $A \\in \\mathbb{M}_{n,n}(\\mathbb{K})$ (on a field $\\mathbb{K}=\\mathbb{R}$ or $\\mathbb{C}$), an eigenvalue $\\lambda$ (of multiplicity $k\\in\\mathbb{N}^*$) and its associated eigenvector $v$ satisfy\n",
    "$$ (A - \\lambda I)^k v = 0.$$"
   ]
  },
  {
   "cell_type": "markdown",
   "metadata": {},
   "source": [
    "## Examples\n",
    "\n",
    "We will need at least two examples of matrix, to test our algorithms."
   ]
  },
  {
   "cell_type": "code",
   "execution_count": 1,
   "metadata": {},
   "outputs": [
    {
     "data": {
      "text/plain": [
       "3×3 Array{Float64,2}:\n",
       " 1.0  2.0  3.0\n",
       " 4.0  5.0  6.0\n",
       " 7.0  8.0  9.0"
      ]
     },
     "execution_count": 1,
     "metadata": {},
     "output_type": "execute_result"
    }
   ],
   "source": [
    "A = [ 1. 2 3; 4 5 6; 7 8 9 ]"
   ]
  },
  {
   "cell_type": "code",
   "execution_count": 2,
   "metadata": {},
   "outputs": [
    {
     "data": {
      "text/plain": [
       "3×3 Array{Int64,2}:\n",
       " 12  -51    4\n",
       "  6  167  -68\n",
       " -4   24  -41"
      ]
     },
     "execution_count": 2,
     "metadata": {},
     "output_type": "execute_result"
    }
   ],
   "source": [
    "B = [12 -51 4; 6 167 -68; -4 24 -41]"
   ]
  },
  {
   "cell_type": "markdown",
   "metadata": {},
   "source": [
    "----\n",
    "# Using the builtin functions\n",
    "\n",
    "Julia has, of course, a builtin `eig` function."
   ]
  },
  {
   "cell_type": "markdown",
   "metadata": {},
   "source": [
    "## Testing\n",
    "\n",
    "Based on the definition, it is not difficult to test if a pair $\\lambda, v$ is an eigenvalue, eigenvector pair.\n",
    "\n",
    "We can write a small function that will check if the eigen values and eigen vectors are correct."
   ]
  },
  {
   "cell_type": "code",
   "execution_count": 3,
   "metadata": {},
   "outputs": [
    {
     "data": {
      "text/plain": [
       "check_DV (generic function with 1 method)"
      ]
     },
     "execution_count": 3,
     "metadata": {},
     "output_type": "execute_result"
    }
   ],
   "source": [
    "function check_DV(A, D, V)\n",
    "    I = eye(size(A)[1])\n",
    "    for i = 1:size(A)[1]\n",
    "        check = (A - D[i] * I) * V[:,i]\n",
    "        println(\"For the \", i, \"th eigen value and vector, (A - lambda I)^k * v = \", check, \"\\n\\twhich has a L2 norm = \", norm(check))\n",
    "        assert(norm(check) <= 1e-14)\n",
    "    end\n",
    "end"
   ]
  },
  {
   "cell_type": "markdown",
   "metadata": {},
   "source": [
    "## First example"
   ]
  },
  {
   "cell_type": "code",
   "execution_count": 4,
   "metadata": {},
   "outputs": [
    {
     "data": {
      "text/plain": [
       "([16.1168, -1.11684, -1.30368e-15], [-0.231971 -0.78583 0.408248; -0.525322 -0.0867513 -0.816497; -0.818673 0.612328 0.408248])"
      ]
     },
     "execution_count": 4,
     "metadata": {},
     "output_type": "execute_result"
    }
   ],
   "source": [
    "D_A, V_A = eig(A)"
   ]
  },
  {
   "cell_type": "code",
   "execution_count": 5,
   "metadata": {},
   "outputs": [
    {
     "name": "stdout",
     "output_type": "stream",
     "text": [
      "For the 1th eigen value and vector, (A - lambda I)^k * v = [5.32907e-15, -1.77636e-15, -8.88178e-16]\n",
      "\twhich has a L2 norm = 5.687116766346677e-15\n",
      "For the 2th eigen value and vector, (A - lambda I)^k * v = [-6.66134e-16, -8.88178e-16, -2.66454e-15]\n",
      "\twhich has a L2 norm = 2.886579864025407e-15\n",
      "For the 3th eigen value and vector, (A - lambda I)^k * v = [-2.22045e-16, -1.77636e-15, 4.44089e-16]\n",
      "\twhich has a L2 norm = 1.8444410139024814e-15\n"
     ]
    }
   ],
   "source": [
    "check_DV(A, D_A, V_A)"
   ]
  },
  {
   "cell_type": "markdown",
   "metadata": {},
   "source": [
    "## Second example\n",
    "A second example, showing that $B$ has two eigen values that are $0$ (numerically found very close to $0$)."
   ]
  },
  {
   "cell_type": "code",
   "execution_count": 6,
   "metadata": {},
   "outputs": [
    {
     "data": {
      "text/plain": [
       "([156.137, 16.06, -34.1967], [0.328147 -0.990526 0.254758; -0.936881 0.0871754 0.302793; -0.120717 0.106104 0.918376])"
      ]
     },
     "execution_count": 6,
     "metadata": {},
     "output_type": "execute_result"
    }
   ],
   "source": [
    "D_B, V_B = eig(B)"
   ]
  },
  {
   "cell_type": "code",
   "execution_count": 7,
   "metadata": {},
   "outputs": [
    {
     "name": "stdout",
     "output_type": "stream",
     "text": [
      "For the 1th eigen value and vector, (A - lambda I)^k * v = [-2.88658e-15, -1.95399e-14, 3.55271e-15]\n",
      "\twhich has a L2 norm = 2.0068951041893117e-14\n"
     ]
    },
    {
     "ename": "LoadError",
     "evalue": "\u001b[91mAssertionError: \u001b[39m",
     "output_type": "error",
     "traceback": [
      "\u001b[91mAssertionError: \u001b[39m",
      "",
      "Stacktrace:",
      " [1] \u001b[1massert\u001b[22m\u001b[22m at \u001b[1m./error.jl:68\u001b[22m\u001b[22m [inlined]",
      " [2] \u001b[1mcheck_DV\u001b[22m\u001b[22m\u001b[1m(\u001b[22m\u001b[22m::Array{Int64,2}, ::Array{Float64,1}, ::Array{Float64,2}\u001b[1m)\u001b[22m\u001b[22m at \u001b[1m./In[3]:6\u001b[22m\u001b[22m",
      " [3] \u001b[1minclude_string\u001b[22m\u001b[22m\u001b[1m(\u001b[22m\u001b[22m::String, ::String\u001b[1m)\u001b[22m\u001b[22m at \u001b[1m./loading.jl:515\u001b[22m\u001b[22m"
     ]
    }
   ],
   "source": [
    "check_DV(B, D_B, V_B)"
   ]
  },
  {
   "cell_type": "markdown",
   "metadata": {},
   "source": [
    "----\n",
    "# Computing the largest eigenvalue with power iteration\n",
    "\n",
    "Let's compute the eigenpair with largest eigenvalue, through the power iteration method."
   ]
  },
  {
   "cell_type": "code",
   "execution_count": 8,
   "metadata": {},
   "outputs": [
    {
     "data": {
      "text/plain": [
       "poweriteration"
      ]
     },
     "execution_count": 8,
     "metadata": {},
     "output_type": "execute_result"
    }
   ],
   "source": [
    "\"Power iteration method on A, to find eigenpair with largest eigen value.\"\n",
    "function poweriteration(A, maxiter=20, userandomstart=true)\n",
    "    n = size(A)[1]\n",
    "    if userandomstart\n",
    "        X = randn((n, 1))\n",
    "    else\n",
    "        X = ones((n, 1))\n",
    "    end\n",
    "    for i = 1:maxiter\n",
    "        next_X = A * X\n",
    "        X = next_X / norm(next_X)\n",
    "    end\n",
    "    # lambda = (X^* ⋅ A ⋅ X) / (X^* ⋅ X)\n",
    "    lambda = (transpose(conj(X)) * (A * X)) / (transpose(conj(X)) * X)\n",
    "    lambda, X\n",
    "end"
   ]
  },
  {
   "cell_type": "markdown",
   "metadata": {},
   "source": [
    "For instance, we obtain correctly the largest eigenpair for our example $A$. (upto a $-1$ sign in $v$)"
   ]
  },
  {
   "cell_type": "code",
   "execution_count": 9,
   "metadata": {},
   "outputs": [
    {
     "data": {
      "text/plain": [
       "([16.1168], [0.231971; 0.525322; 0.818673])"
      ]
     },
     "execution_count": 9,
     "metadata": {},
     "output_type": "execute_result"
    }
   ],
   "source": [
    "poweriteration(A)"
   ]
  },
  {
   "cell_type": "code",
   "execution_count": 10,
   "metadata": {},
   "outputs": [
    {
     "data": {
      "text/plain": [
       "([16.1168, -1.11684, -1.30368e-15], [-0.231971 -0.78583 0.408248; -0.525322 -0.0867513 -0.816497; -0.818673 0.612328 0.408248])"
      ]
     },
     "execution_count": 10,
     "metadata": {},
     "output_type": "execute_result"
    }
   ],
   "source": [
    "D_A, V_A = eig(A)"
   ]
  },
  {
   "cell_type": "code",
   "execution_count": 11,
   "metadata": {},
   "outputs": [
    {
     "data": {
      "text/plain": [
       "(16.116843969807043, [0.231971, 0.525322, 0.818673])"
      ]
     },
     "execution_count": 11,
     "metadata": {},
     "output_type": "execute_result"
    }
   ],
   "source": [
    "(D_A[1], -1 * V_A[:,1])"
   ]
  },
  {
   "cell_type": "markdown",
   "metadata": {},
   "source": [
    "What is the typical dependency on the number of iterations?"
   ]
  },
  {
   "cell_type": "code",
   "execution_count": 12,
   "metadata": {},
   "outputs": [
    {
     "data": {
      "text/plain": [
       "poweriteration (generic function with 3 methods)"
      ]
     },
     "execution_count": 12,
     "metadata": {},
     "output_type": "execute_result"
    }
   ],
   "source": [
    "poweriteration"
   ]
  },
  {
   "cell_type": "code",
   "execution_count": 13,
   "metadata": {},
   "outputs": [
    {
     "name": "stdout",
     "output_type": "stream",
     "text": [
      "([15.3427], [0.130291; 0.494751; 0.859212])\n",
      "([16.1581], [-0.239638; -0.527385; -0.815131])\n",
      "([16.1168], [-0.23197; -0.525322; -0.818674])\n",
      "([16.1168], [0.231971; 0.525322; 0.818673])\n"
     ]
    }
   ],
   "source": [
    "println(poweriteration(A, 1))\n",
    "println(poweriteration(A, 2))\n",
    "println(poweriteration(A, 5))\n",
    "println(poweriteration(A, 10))"
   ]
  },
  {
   "cell_type": "markdown",
   "metadata": {},
   "source": [
    "----\n",
    "# QR algorithm\n",
    "\n",
    "The QR method can be used to compute eigenvalues, and then X method to compute an approximation of a correspond eigenvector for each eigenvalue.\n",
    "\n",
    "First, we need to implement the [QR decomposition](https://en.wikipedia.org/wiki/QR_decomposition#Computing_the_QR_decomposition), which can be based on [the Gram-Schmidt process](https://en.wikipedia.org/wiki/Gram%E2%80%93Schmidt_process)."
   ]
  },
  {
   "cell_type": "markdown",
   "metadata": {},
   "source": [
    "## Gram-Schmidt process\n",
    "\n",
    "It requires a generic inner-product function:"
   ]
  },
  {
   "cell_type": "code",
   "execution_count": 14,
   "metadata": {},
   "outputs": [
    {
     "data": {
      "text/plain": [
       "inner"
      ]
     },
     "execution_count": 14,
     "metadata": {},
     "output_type": "execute_result"
    }
   ],
   "source": [
    "\"Inner product of two vectors v, w. Can be vertical (n,1) or horizontal (1,n) vectors.\"\n",
    "function inner(v, w)\n",
    "    assert(size(v) == size(w))\n",
    "    nm = size(v)\n",
    "    if length(nm) == 1\n",
    "        return transpose(conj(v)) * w\n",
    "    elseif nm[1] == 1\n",
    "        return conj(v) * transpose(w)\n",
    "    end\n",
    "end"
   ]
  },
  {
   "cell_type": "markdown",
   "metadata": {},
   "source": [
    "It works for both $(1,n)$ and $(n,1)$ vectors:"
   ]
  },
  {
   "cell_type": "code",
   "execution_count": 15,
   "metadata": {},
   "outputs": [
    {
     "data": {
      "text/plain": [
       "1×1 Array{Int64,2}:\n",
       " 9"
      ]
     },
     "execution_count": 15,
     "metadata": {},
     "output_type": "execute_result"
    }
   ],
   "source": [
    "inner([1 1 1], [2 3 4])"
   ]
  },
  {
   "cell_type": "code",
   "execution_count": 16,
   "metadata": {},
   "outputs": [
    {
     "data": {
      "text/plain": [
       "9"
      ]
     },
     "execution_count": 16,
     "metadata": {},
     "output_type": "execute_result"
    }
   ],
   "source": [
    "inner([1; 1; 1], [2; 3; 4])"
   ]
  },
  {
   "cell_type": "markdown",
   "metadata": {},
   "source": [
    "Then a projection operator:"
   ]
  },
  {
   "cell_type": "code",
   "execution_count": 17,
   "metadata": {},
   "outputs": [
    {
     "data": {
      "text/plain": [
       "projection"
      ]
     },
     "execution_count": 17,
     "metadata": {},
     "output_type": "execute_result"
    }
   ],
   "source": [
    "\"projection(a, e): projection operator of vector a onto base vector e. Uses inner(e, a) and inner(e, e).\"\n",
    "function projection(a, e)\n",
    "    return (inner(e, a) / inner(e, e)) * e \n",
    "end"
   ]
  },
  {
   "cell_type": "markdown",
   "metadata": {},
   "source": [
    "Then the Gram-Schmidt process:"
   ]
  },
  {
   "cell_type": "code",
   "execution_count": 18,
   "metadata": {},
   "outputs": [
    {
     "data": {
      "text/plain": [
       "gramschmidt"
      ]
     },
     "execution_count": 18,
     "metadata": {},
     "output_type": "execute_result"
    }
   ],
   "source": [
    "\"gramschmidt(A): Gram-Schmidt orthogonalization operator, returns us, es (unormalized matrix, base matrix).\"\n",
    "function gramschmidt(A, verbose=false)\n",
    "    assert(size(A)[1] == size(A)[2])\n",
    "    n = size(A)[1]\n",
    "    if verbose\n",
    "        println(\"n = \", n)\n",
    "    end\n",
    "    us = zeros((n, n))\n",
    "    es = zeros((n, n))\n",
    "    for i = 1:n\n",
    "        if verbose\n",
    "            println(\"i = \", i)\n",
    "        end\n",
    "        us[:,i] = A[:,i] \n",
    "        for j = 1:i-1\n",
    "            if verbose\n",
    "                println(\"\\tj = \", j)\n",
    "                println(\"\\tus[:,i] = \", us[:,i])\n",
    "            end\n",
    "            us[:,i] -= projection(A[:,i], us[:,j]) \n",
    "        end\n",
    "        if verbose\n",
    "            println(\"us[:,i] = \", us[:,i])\n",
    "        end\n",
    "        es[:,i] = us[:,i] / norm(us[:,i])\n",
    "        if verbose\n",
    "            println(\"es[:,i] = \", es[:,i])\n",
    "        end\n",
    "    end\n",
    "    return us, es\n",
    "end"
   ]
  },
  {
   "cell_type": "markdown",
   "metadata": {},
   "source": [
    "Example:"
   ]
  },
  {
   "cell_type": "code",
   "execution_count": 19,
   "metadata": {},
   "outputs": [
    {
     "data": {
      "text/plain": [
       "3×3 Array{Float64,2}:\n",
       " 1.0  2.0  3.0\n",
       " 4.0  5.0  6.0\n",
       " 7.0  8.0  9.0"
      ]
     },
     "execution_count": 19,
     "metadata": {},
     "output_type": "execute_result"
    }
   ],
   "source": [
    "A"
   ]
  },
  {
   "cell_type": "code",
   "execution_count": 20,
   "metadata": {},
   "outputs": [
    {
     "data": {
      "text/plain": [
       "([1.0 0.818182 7.99361e-15; 4.0 0.272727 3.44169e-15; 7.0 -0.272727 -7.77156e-16], [0.123091 0.904534 0.914844; 0.492366 0.301511 0.393891; 0.86164 -0.301511 -0.0889431])"
      ]
     },
     "execution_count": 20,
     "metadata": {},
     "output_type": "execute_result"
    }
   ],
   "source": [
    "us, es = gramschmidt(A)"
   ]
  },
  {
   "cell_type": "code",
   "execution_count": 21,
   "metadata": {},
   "outputs": [
    {
     "data": {
      "text/plain": [
       "3×3 Array{Float64,2}:\n",
       " 1.0   0.818182   7.99361e-15\n",
       " 4.0   0.272727   3.44169e-15\n",
       " 7.0  -0.272727  -7.77156e-16"
      ]
     },
     "execution_count": 21,
     "metadata": {},
     "output_type": "execute_result"
    }
   ],
   "source": [
    "us"
   ]
  },
  {
   "cell_type": "code",
   "execution_count": 22,
   "metadata": {},
   "outputs": [
    {
     "data": {
      "text/plain": [
       "3×3 Array{Float64,2}:\n",
       " 0.123091   0.904534   0.914844 \n",
       " 0.492366   0.301511   0.393891 \n",
       " 0.86164   -0.301511  -0.0889431"
      ]
     },
     "execution_count": 22,
     "metadata": {},
     "output_type": "execute_result"
    }
   ],
   "source": [
    "es"
   ]
  },
  {
   "cell_type": "markdown",
   "metadata": {},
   "source": [
    "We can check that $a_1 = <e_1,a_1> e_1$, $a_2 = <e_1,a_2> e_1 + <e_2,a_2> e_2$ and so on:"
   ]
  },
  {
   "cell_type": "code",
   "execution_count": 23,
   "metadata": {},
   "outputs": [
    {
     "data": {
      "text/plain": [
       "3-element Array{Float64,1}:\n",
       " 1.0\n",
       " 4.0\n",
       " 7.0"
      ]
     },
     "execution_count": 23,
     "metadata": {},
     "output_type": "execute_result"
    }
   ],
   "source": [
    "inner(es[:,1], A[:,1]) * es[:,1]"
   ]
  },
  {
   "cell_type": "code",
   "execution_count": 24,
   "metadata": {},
   "outputs": [
    {
     "data": {
      "text/plain": [
       "3-element Array{Float64,1}:\n",
       " 2.0\n",
       " 5.0\n",
       " 8.0"
      ]
     },
     "execution_count": 24,
     "metadata": {},
     "output_type": "execute_result"
    }
   ],
   "source": [
    "inner(es[:,1], A[:,2]) * es[:,1] + inner(es[:,2], A[:,2]) * es[:,2]"
   ]
  },
  {
   "cell_type": "markdown",
   "metadata": {},
   "source": [
    "It's not true for the last one, as $A$ was not full rank."
   ]
  },
  {
   "cell_type": "code",
   "execution_count": 25,
   "metadata": {},
   "outputs": [
    {
     "data": {
      "text/plain": [
       "2"
      ]
     },
     "execution_count": 25,
     "metadata": {},
     "output_type": "execute_result"
    }
   ],
   "source": [
    "rank(A)"
   ]
  },
  {
   "cell_type": "code",
   "execution_count": 26,
   "metadata": {},
   "outputs": [
    {
     "data": {
      "text/plain": [
       "3-element Array{Float64,1}:\n",
       " 6.94059\n",
       " 7.69664\n",
       " 8.61689"
      ]
     },
     "execution_count": 26,
     "metadata": {},
     "output_type": "execute_result"
    }
   ],
   "source": [
    "inner(es[:,1], A[:,3]) * es[:,1] + inner(es[:,2], A[:,3]) * es[:,2] + inner(es[:,3], A[:,3]) * es[:,3]"
   ]
  },
  {
   "cell_type": "markdown",
   "metadata": {},
   "source": [
    "$E$ is an orthogonal matrix indeed:"
   ]
  },
  {
   "cell_type": "code",
   "execution_count": 27,
   "metadata": {},
   "outputs": [
    {
     "data": {
      "text/plain": [
       "3-element Array{Float64,1}:\n",
       " 1.0\n",
       " 1.0\n",
       " 1.0"
      ]
     },
     "execution_count": 27,
     "metadata": {},
     "output_type": "execute_result"
    }
   ],
   "source": [
    "[ norm(es[:,i]) for i = 1:size(es)[1] ]"
   ]
  },
  {
   "cell_type": "code",
   "execution_count": 28,
   "metadata": {},
   "outputs": [
    {
     "data": {
      "text/plain": [
       "2×2 Array{Float64,2}:\n",
       "  1.0          -7.77156e-16\n",
       " -7.77156e-16   1.0        "
      ]
     },
     "execution_count": 28,
     "metadata": {},
     "output_type": "execute_result"
    }
   ],
   "source": [
    "(es' * es)[1:2,1:2]"
   ]
  },
  {
   "cell_type": "markdown",
   "metadata": {},
   "source": [
    "Second example:"
   ]
  },
  {
   "cell_type": "code",
   "execution_count": 29,
   "metadata": {},
   "outputs": [
    {
     "data": {
      "text/plain": [
       "([12.0 -69.0 -11.6; 6.0 158.0 1.2; -4.0 30.0 -33.0], [0.857143 -0.394286 -0.331429; 0.428571 0.902857 0.0342857; -0.285714 0.171429 -0.942857])"
      ]
     },
     "execution_count": 29,
     "metadata": {},
     "output_type": "execute_result"
    }
   ],
   "source": [
    "us, es = gramschmidt(B)"
   ]
  },
  {
   "cell_type": "code",
   "execution_count": 30,
   "metadata": {},
   "outputs": [
    {
     "data": {
      "text/plain": [
       "3-element Array{Float64,1}:\n",
       " 1.0\n",
       " 1.0\n",
       " 1.0"
      ]
     },
     "execution_count": 30,
     "metadata": {},
     "output_type": "execute_result"
    }
   ],
   "source": [
    "[ norm(es[:,i]) for i = 1:size(es)[1] ]"
   ]
  },
  {
   "cell_type": "code",
   "execution_count": 31,
   "metadata": {},
   "outputs": [
    {
     "data": {
      "text/plain": [
       "3×3 Array{Float64,2}:\n",
       "  1.0          -5.89806e-17   5.55112e-17\n",
       " -5.89806e-17   1.0          -6.93889e-17\n",
       "  5.55112e-17  -6.93889e-17   1.0        "
      ]
     },
     "execution_count": 31,
     "metadata": {},
     "output_type": "execute_result"
    }
   ],
   "source": [
    "es * es'"
   ]
  },
  {
   "cell_type": "markdown",
   "metadata": {},
   "source": [
    "Last example:"
   ]
  },
  {
   "cell_type": "code",
   "execution_count": 32,
   "metadata": {},
   "outputs": [
    {
     "data": {
      "text/plain": [
       "2×2 Array{Int64,2}:\n",
       " 3  2\n",
       " 1  2"
      ]
     },
     "execution_count": 32,
     "metadata": {},
     "output_type": "execute_result"
    }
   ],
   "source": [
    "V = [3 2; 1 2]"
   ]
  },
  {
   "cell_type": "code",
   "execution_count": 33,
   "metadata": {},
   "outputs": [
    {
     "data": {
      "text/plain": [
       "([3.0 -0.4; 1.0 1.2], [0.948683 -0.316228; 0.316228 0.948683])"
      ]
     },
     "execution_count": 33,
     "metadata": {},
     "output_type": "execute_result"
    }
   ],
   "source": [
    "us, es = gramschmidt(V)"
   ]
  },
  {
   "cell_type": "code",
   "execution_count": 34,
   "metadata": {},
   "outputs": [
    {
     "data": {
      "text/plain": [
       "2×2 Array{Float64,2}:\n",
       "  1.0          -2.77556e-16\n",
       " -2.77556e-16   1.0        "
      ]
     },
     "execution_count": 34,
     "metadata": {},
     "output_type": "execute_result"
    }
   ],
   "source": [
    "es' * es"
   ]
  },
  {
   "cell_type": "markdown",
   "metadata": {},
   "source": [
    "## QR decomposition\n",
    "It is very easy from the Gram-Schmidt decomposition:"
   ]
  },
  {
   "cell_type": "code",
   "execution_count": 35,
   "metadata": {},
   "outputs": [
    {
     "data": {
      "text/plain": [
       "QR"
      ]
     },
     "execution_count": 35,
     "metadata": {},
     "output_type": "execute_result"
    }
   ],
   "source": [
    "\"QR decomposition, returns (Q, R): Q is orthogonal and R is upper-triangular, such that A = Q R.\"\n",
    "function QR(A)\n",
    "    assert(size(A)[1] == size(A)[2])\n",
    "    n = size(A)[1]\n",
    "    us, es = gramschmidt(A)\n",
    "    Q = copy(es)\n",
    "    R = zeros((n, n))\n",
    "    for i = 1:n\n",
    "        for j = i:n\n",
    "            R[i,j] = inner(es[:,i], A[:,j])\n",
    "        end\n",
    "    end\n",
    "    return Q, R\n",
    "end"
   ]
  },
  {
   "cell_type": "markdown",
   "metadata": {},
   "source": [
    "First example"
   ]
  },
  {
   "cell_type": "code",
   "execution_count": 36,
   "metadata": {},
   "outputs": [
    {
     "data": {
      "text/plain": [
       "([0.123091 0.904534 0.914844; 0.492366 0.301511 0.393891; 0.86164 -0.301511 -0.0889431], [8.12404 9.60114 11.0782; 0.0 0.904534 1.80907; 0.0 0.0 4.30739])"
      ]
     },
     "execution_count": 36,
     "metadata": {},
     "output_type": "execute_result"
    }
   ],
   "source": [
    "Q, R = QR(A)"
   ]
  },
  {
   "cell_type": "code",
   "execution_count": 37,
   "metadata": {},
   "outputs": [
    {
     "data": {
      "text/plain": [
       "3×3 Array{Float64,2}:\n",
       " 1.0  2.0  3.0\n",
       " 4.0  5.0  6.0\n",
       " 7.0  8.0  9.0"
      ]
     },
     "execution_count": 37,
     "metadata": {},
     "output_type": "execute_result"
    }
   ],
   "source": [
    "A"
   ]
  },
  {
   "cell_type": "code",
   "execution_count": 38,
   "metadata": {},
   "outputs": [
    {
     "data": {
      "text/plain": [
       "3×3 Array{Float64,2}:\n",
       " 0.123091   0.904534   0.914844 \n",
       " 0.492366   0.301511   0.393891 \n",
       " 0.86164   -0.301511  -0.0889431"
      ]
     },
     "execution_count": 38,
     "metadata": {},
     "output_type": "execute_result"
    }
   ],
   "source": [
    "Q"
   ]
  },
  {
   "cell_type": "code",
   "execution_count": 39,
   "metadata": {},
   "outputs": [
    {
     "data": {
      "text/plain": [
       "3×3 Array{Float64,2}:\n",
       " 8.12404  9.60114   11.0782 \n",
       " 0.0      0.904534   1.80907\n",
       " 0.0      0.0        4.30739"
      ]
     },
     "execution_count": 39,
     "metadata": {},
     "output_type": "execute_result"
    }
   ],
   "source": [
    "R"
   ]
  },
  {
   "cell_type": "code",
   "execution_count": 40,
   "metadata": {},
   "outputs": [
    {
     "data": {
      "text/plain": [
       "3×3 Array{Float64,2}:\n",
       " 1.0  2.0  6.94059\n",
       " 4.0  5.0  7.69664\n",
       " 7.0  8.0  8.61689"
      ]
     },
     "execution_count": 40,
     "metadata": {},
     "output_type": "execute_result"
    }
   ],
   "source": [
    "Q * R"
   ]
  },
  {
   "cell_type": "markdown",
   "metadata": {},
   "source": [
    "Second example"
   ]
  },
  {
   "cell_type": "code",
   "execution_count": 41,
   "metadata": {},
   "outputs": [
    {
     "data": {
      "text/plain": [
       "([0.857143 -0.394286 -0.331429; 0.428571 0.902857 0.0342857; -0.285714 0.171429 -0.942857], [14.0 21.0 -14.0; 0.0 175.0 -70.0; 0.0 0.0 35.0])"
      ]
     },
     "execution_count": 41,
     "metadata": {},
     "output_type": "execute_result"
    }
   ],
   "source": [
    "Q2, R2 = QR(B)"
   ]
  },
  {
   "cell_type": "code",
   "execution_count": 42,
   "metadata": {},
   "outputs": [
    {
     "data": {
      "text/plain": [
       "3×3 Array{Int64,2}:\n",
       " 12  -51    4\n",
       "  6  167  -68\n",
       " -4   24  -41"
      ]
     },
     "execution_count": 42,
     "metadata": {},
     "output_type": "execute_result"
    }
   ],
   "source": [
    "B"
   ]
  },
  {
   "cell_type": "code",
   "execution_count": 43,
   "metadata": {},
   "outputs": [
    {
     "data": {
      "text/plain": [
       "3×3 Array{Float64,2}:\n",
       "  0.857143  -0.394286  -0.331429 \n",
       "  0.428571   0.902857   0.0342857\n",
       " -0.285714   0.171429  -0.942857 "
      ]
     },
     "execution_count": 43,
     "metadata": {},
     "output_type": "execute_result"
    }
   ],
   "source": [
    "Q2"
   ]
  },
  {
   "cell_type": "code",
   "execution_count": 44,
   "metadata": {},
   "outputs": [
    {
     "data": {
      "text/plain": [
       "3×3 Array{Float64,2}:\n",
       " 14.0   21.0  -14.0\n",
       "  0.0  175.0  -70.0\n",
       "  0.0    0.0   35.0"
      ]
     },
     "execution_count": 44,
     "metadata": {},
     "output_type": "execute_result"
    }
   ],
   "source": [
    "R2"
   ]
  },
  {
   "cell_type": "code",
   "execution_count": 45,
   "metadata": {},
   "outputs": [
    {
     "data": {
      "text/plain": [
       "3×3 Array{Float64,2}:\n",
       " 12.0  -51.0    4.0\n",
       "  6.0  167.0  -68.0\n",
       " -4.0   24.0  -41.0"
      ]
     },
     "execution_count": 45,
     "metadata": {},
     "output_type": "execute_result"
    }
   ],
   "source": [
    "Q2 * R2"
   ]
  },
  {
   "cell_type": "markdown",
   "metadata": {},
   "source": [
    "Due to numerical errors, $A \\neq QR$ but almost:"
   ]
  },
  {
   "cell_type": "code",
   "execution_count": 46,
   "metadata": {},
   "outputs": [
    {
     "data": {
      "text/plain": [
       "false"
      ]
     },
     "execution_count": 46,
     "metadata": {},
     "output_type": "execute_result"
    }
   ],
   "source": [
    "B == Q2 * R2"
   ]
  },
  {
   "cell_type": "code",
   "execution_count": 47,
   "metadata": {},
   "outputs": [],
   "source": [
    "assert(norm(B - (Q2 * R2)) <= 1e-13)"
   ]
  },
  {
   "cell_type": "markdown",
   "metadata": {},
   "source": [
    "## QR method"
   ]
  },
  {
   "cell_type": "code",
   "execution_count": 48,
   "metadata": {},
   "outputs": [
    {
     "data": {
      "text/plain": [
       "QR_method"
      ]
     },
     "execution_count": 48,
     "metadata": {},
     "output_type": "execute_result"
    }
   ],
   "source": [
    "\"Apply the QR method for maxiter steps. Should return a triangular matrix similar to A (same eigenvalues).\"\n",
    "function QR_method(A, maxiter=50)\n",
    "    Ak = A\n",
    "    for k = 1:maxiter\n",
    "        Qk, Rk = QR(Ak)\n",
    "        Ak = Rk * Qk\n",
    "    end\n",
    "    return Ak\n",
    "end"
   ]
  },
  {
   "cell_type": "markdown",
   "metadata": {},
   "source": [
    "It should produce matrix which are almost triangular!"
   ]
  },
  {
   "cell_type": "code",
   "execution_count": 49,
   "metadata": {},
   "outputs": [
    {
     "data": {
      "text/plain": [
       "3×3 Array{Float64,2}:\n",
       " 18.0249        -7.91186       -1.81805   \n",
       "  2.23294e-35   -3.41599       -1.67461   \n",
       "  2.70327e-164  -4.65436e-129   0.00799986"
      ]
     },
     "execution_count": 49,
     "metadata": {},
     "output_type": "execute_result"
    }
   ],
   "source": [
    "Ak = QR_method(A)"
   ]
  },
  {
   "cell_type": "code",
   "execution_count": 50,
   "metadata": {},
   "outputs": [
    {
     "data": {
      "text/plain": [
       "truncate_to_zero_below_diag"
      ]
     },
     "execution_count": 50,
     "metadata": {},
     "output_type": "execute_result"
    }
   ],
   "source": [
    "\"Truncate to zero values under the diagonal (have to be smaller than tolerance)\"\n",
    "function truncate_to_zero_below_diag(A, tolerance=1e-12)\n",
    "    assert(size(A)[1] == size(A)[2])\n",
    "    n = size(A)[1]\n",
    "    for j = 1:n\n",
    "        for i = j+1:n\n",
    "            assert(norm(A[i,j]) <= tolerance)\n",
    "            A[i,j] = 0\n",
    "        end\n",
    "    end\n",
    "    return A\n",
    "end"
   ]
  },
  {
   "cell_type": "code",
   "execution_count": 51,
   "metadata": {},
   "outputs": [
    {
     "data": {
      "text/plain": [
       "3×3 Array{Float64,2}:\n",
       " 18.0249  -7.91186  -1.81805   \n",
       "  0.0     -3.41599  -1.67461   \n",
       "  0.0      0.0       0.00799986"
      ]
     },
     "execution_count": 51,
     "metadata": {},
     "output_type": "execute_result"
    }
   ],
   "source": [
    "truncate_to_zero_below_diag(Ak)"
   ]
  },
  {
   "cell_type": "code",
   "execution_count": 52,
   "metadata": {},
   "outputs": [
    {
     "data": {
      "text/plain": [
       "3×3 Array{Float64,2}:\n",
       " 156.137         62.2705       -87.4604\n",
       "   3.54467e-31  -34.1967        15.8136\n",
       "  -2.29384e-47    1.53496e-14   16.06  "
      ]
     },
     "execution_count": 52,
     "metadata": {},
     "output_type": "execute_result"
    }
   ],
   "source": [
    "Ak = QR_method(B)"
   ]
  },
  {
   "cell_type": "code",
   "execution_count": 53,
   "metadata": {},
   "outputs": [
    {
     "data": {
      "text/plain": [
       "3×3 Array{Float64,2}:\n",
       " 156.137   62.2705  -87.4604\n",
       "   0.0    -34.1967   15.8136\n",
       "   0.0      0.0      16.06  "
      ]
     },
     "execution_count": 53,
     "metadata": {},
     "output_type": "execute_result"
    }
   ],
   "source": [
    "truncate_to_zero_below_diag(Ak)"
   ]
  },
  {
   "cell_type": "markdown",
   "metadata": {},
   "source": [
    "Finally, we can extract the eigen values from the diagonal:"
   ]
  },
  {
   "cell_type": "code",
   "execution_count": 54,
   "metadata": {},
   "outputs": [
    {
     "data": {
      "text/plain": [
       "QR_eigenvalues"
      ]
     },
     "execution_count": 54,
     "metadata": {},
     "output_type": "execute_result"
    }
   ],
   "source": [
    "\"Extract the diagonal from the QR method.\"\n",
    "function QR_eigenvalues(A, maxiter=50)\n",
    "    return diag(QR_method(A, maxiter))\n",
    "end"
   ]
  },
  {
   "cell_type": "markdown",
   "metadata": {},
   "source": [
    "It does not work for matrices which are not full rank:"
   ]
  },
  {
   "cell_type": "code",
   "execution_count": 55,
   "metadata": {},
   "outputs": [
    {
     "data": {
      "text/plain": [
       "3-element Array{Float64,1}:\n",
       " 18.0249    \n",
       " -3.41599   \n",
       "  0.00799986"
      ]
     },
     "execution_count": 55,
     "metadata": {},
     "output_type": "execute_result"
    }
   ],
   "source": [
    "QR_eigenvalues(A)"
   ]
  },
  {
   "cell_type": "code",
   "execution_count": 56,
   "metadata": {},
   "outputs": [
    {
     "data": {
      "text/plain": [
       "3-element Array{Float64,1}:\n",
       " 16.1168     \n",
       " -1.11684    \n",
       " -1.30368e-15"
      ]
     },
     "execution_count": 56,
     "metadata": {},
     "output_type": "execute_result"
    }
   ],
   "source": [
    "eigvals(A)"
   ]
  },
  {
   "cell_type": "markdown",
   "metadata": {},
   "source": [
    "But it works fine for full rank matrix:"
   ]
  },
  {
   "cell_type": "code",
   "execution_count": 57,
   "metadata": {},
   "outputs": [
    {
     "data": {
      "text/plain": [
       "3-element Array{Float64,1}:\n",
       " 156.137 \n",
       " -34.1967\n",
       "  16.06  "
      ]
     },
     "execution_count": 57,
     "metadata": {},
     "output_type": "execute_result"
    }
   ],
   "source": [
    "QR_eigenvalues(B)"
   ]
  },
  {
   "cell_type": "code",
   "execution_count": 58,
   "metadata": {},
   "outputs": [
    {
     "data": {
      "text/plain": [
       "3-element Array{Float64,1}:\n",
       " 156.137 \n",
       "  16.06  \n",
       " -34.1967"
      ]
     },
     "execution_count": 58,
     "metadata": {},
     "output_type": "execute_result"
    }
   ],
   "source": [
    "eigvals(B)"
   ]
  },
  {
   "cell_type": "markdown",
   "metadata": {},
   "source": [
    "## Computing the eigen vectors\n",
    "\n",
    "Now, we have a numerical algorithm that gives an approximation of the eigen values.\n",
    "For each eigen value $\\lambda$, we can use [the inverse iteration](https://en.wikipedia.org/wiki/Inverse_iteration) to find the corresponding eigen vector."
   ]
  },
  {
   "cell_type": "code",
   "execution_count": 59,
   "metadata": {},
   "outputs": [
    {
     "data": {
      "text/plain": [
       "inverseIteration"
      ]
     },
     "execution_count": 59,
     "metadata": {},
     "output_type": "execute_result"
    }
   ],
   "source": [
    "\"Inverse iteration method to find the eigen vector corresponding to a given eigen value.\"\n",
    "function inverseIteration(A, val, maxiter=20, userandomstart=true)\n",
    "    mu_I = val * eye(A)\n",
    "    inv_A_minus_muI = inv(A - mu_I)\n",
    "    n = size(A)[1]\n",
    "    if userandomstart\n",
    "        X = randn((n, 1))\n",
    "    else\n",
    "        X = ones((n, 1))\n",
    "    end\n",
    "    for i = 1:maxiter\n",
    "        next_X = inv_A_minus_muI * X\n",
    "        X = next_X / norm(next_X)\n",
    "    end\n",
    "    X\n",
    "end"
   ]
  },
  {
   "cell_type": "markdown",
   "metadata": {},
   "source": [
    "Now, putting it all together:"
   ]
  },
  {
   "cell_type": "code",
   "execution_count": 60,
   "metadata": {},
   "outputs": [
    {
     "data": {
      "text/plain": [
       "QR_eigen"
      ]
     },
     "execution_count": 60,
     "metadata": {},
     "output_type": "execute_result"
    }
   ],
   "source": [
    "\"Approximation of D, V: D contains the eigen values (vector) and V the eigen vectors (column based).\"\n",
    "function QR_eigen(A, maxiter=20, userandomstart=true)\n",
    "    n = size(A)[1]\n",
    "    D = QR_eigenvalues(A, maxiter)\n",
    "    V = zeros((n,n))\n",
    "    for i = 1:n\n",
    "        V[:,i] = inverseIteration(A, D[i], maxiter, userandomstart)\n",
    "    end\n",
    "    return D, V\n",
    "end"
   ]
  },
  {
   "cell_type": "code",
   "execution_count": 61,
   "metadata": {},
   "outputs": [
    {
     "data": {
      "text/plain": [
       "([156.137, -34.1966, 16.06], [0.328147 0.254758 -0.990526; -0.936881 0.302793 0.0871754; -0.120717 0.918376 0.106104])"
      ]
     },
     "execution_count": 61,
     "metadata": {},
     "output_type": "execute_result"
    }
   ],
   "source": [
    "D2, V2 = QR_eigen(B)"
   ]
  },
  {
   "cell_type": "code",
   "execution_count": 62,
   "metadata": {},
   "outputs": [
    {
     "data": {
      "text/plain": [
       "([156.137, 16.06, -34.1967], [0.328147 -0.990526 0.254758; -0.936881 0.0871754 0.302793; -0.120717 0.106104 0.918376])"
      ]
     },
     "execution_count": 62,
     "metadata": {},
     "output_type": "execute_result"
    }
   ],
   "source": [
    "D2s, V2s = eig(B)"
   ]
  },
  {
   "cell_type": "markdown",
   "metadata": {},
   "source": [
    "Up to a permutation, and up to multiplication by $-1$ of some eigen vectors, we got the good values!"
   ]
  },
  {
   "cell_type": "markdown",
   "metadata": {},
   "source": [
    "----\n",
    "# Conclusion\n",
    "\n",
    "It is well known that finding eigenpairs and finding roots of a polynomial are equivalent problems (thanks to [companion matrices](https://en.wikipedia.org/wiki/Companion_matrix)).\n",
    "The [Abel-Ruffini theorem](https://en.wikipedia.org/wiki/Abel%E2%80%93Ruffini_theorem) states that there is no exact algorithm to find roots of polynomial of degrees larger than $4$, and therefore there is no hope of finding an exact algorithm for the eigenpair problem.\n",
    "\n",
    "Hence, we focussed only on one numerical (*i.e.*, iterative) method.\n",
    "\n",
    "It's sad to see that there is not more details about general algorithms for the eigenpair problem."
   ]
  },
  {
   "cell_type": "markdown",
   "metadata": {},
   "source": [
    "That's it for today, *folks*! See [here for other notebooks I wrote](https://GitHub.com/Naereen/notebooks)."
   ]
  }
 ],
 "metadata": {
  "kernelspec": {
   "display_name": "Julia 0.6.0",
   "language": "julia",
   "name": "julia-0.6"
  },
  "language_info": {
   "file_extension": ".jl",
   "mimetype": "application/julia",
   "name": "julia",
   "version": "0.6.0"
  },
  "toc": {
   "colors": {
    "hover_highlight": "#DAA520",
    "running_highlight": "#FF0000",
    "selected_highlight": "#FFD700"
   },
   "moveMenuLeft": true,
   "nav_menu": {
    "height": "274px",
    "width": "252px"
   },
   "navigate_menu": true,
   "number_sections": true,
   "sideBar": false,
   "threshold": 4,
   "toc_cell": true,
   "toc_position": {
    "height": "312px",
    "left": "851.99px",
    "right": "20px",
    "top": "120px",
    "width": "385px"
   },
   "toc_section_display": "none",
   "toc_window_display": true
  },
  "varInspector": {
   "cols": {
    "lenName": 16,
    "lenType": 16,
    "lenVar": 40
   },
   "kernels_config": {
    "python": {
     "delete_cmd_postfix": "",
     "delete_cmd_prefix": "del ",
     "library": "var_list.py",
     "varRefreshCmd": "print(var_dic_list())"
    },
    "r": {
     "delete_cmd_postfix": ") ",
     "delete_cmd_prefix": "rm(",
     "library": "var_list.r",
     "varRefreshCmd": "cat(var_dic_list()) "
    }
   },
   "types_to_exclude": [
    "module",
    "function",
    "builtin_function_or_method",
    "instance",
    "_Feature"
   ],
   "window_display": false
  }
 },
 "nbformat": 4,
 "nbformat_minor": 2
}
