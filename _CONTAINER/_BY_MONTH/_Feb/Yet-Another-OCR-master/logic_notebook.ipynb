{
 "cells": [
  {
   "cell_type": "code",
   "execution_count": 7,
   "metadata": {},
   "outputs": [],
   "source": [
    "import pytesseract\n",
    "import cv2\n",
    "import os\n",
    "import matplotlib.pyplot as plt"
   ]
  },
  {
   "cell_type": "code",
   "execution_count": 8,
   "metadata": {},
   "outputs": [],
   "source": [
    "def find_text(img_path):\n",
    "    img = cv2.imread(img_path, 0)\n",
    "    text = pytesseract.image_to_string(img, lang=\"eng\")\n",
    "    return text"
   ]
  },
  {
   "cell_type": "code",
   "execution_count": 12,
   "metadata": {},
   "outputs": [],
   "source": [
    "def process_img(img):\n",
    "    _, gray = cv2.threshold(img, 127, 255, cv.THRESH_BINARY)\n",
    "    return gray"
   ]
  },
  {
   "cell_type": "code",
   "execution_count": 40,
   "metadata": {},
   "outputs": [
    {
     "name": "stdout",
     "output_type": "stream",
     "text": [
      "0\n",
      "\n"
     ]
    }
   ],
   "source": [
    "PATH = os.getcwd() + \"\\sample\\special\"\n",
    "texts, grays = [], []\n",
    "for i in os.listdir(PATH):\n",
    "    img_path = PATH + '\\\\' + i\n",
    "    img = cv2.imread(img_path, 0)\n",
    "    text = pytesseract.image_to_string(img, lang=\"pol+eng\")\n",
    "    print(len(text))\n",
    "    print(text)\n",
    "    break\n",
    "#     _, gray = cv2.threshold(img, 190, 255, cv2.THRESH_BINARY)\n",
    "#     grays.append(gray)\n",
    "#     text = pytesseract.image_to_string(gray, lang=\"pol+eng\")\n",
    "#     texts.append(text)"
   ]
  },
  {
   "cell_type": "code",
   "execution_count": 35,
   "metadata": {},
   "outputs": [],
   "source": [
    "# plt.imshow(grays[2], cmap=\"binary\")\n",
    "# plt.show()\n",
    "# cv2.imwrite(\"XD.png\", grays[2])"
   ]
  },
  {
   "cell_type": "code",
   "execution_count": 36,
   "metadata": {},
   "outputs": [],
   "source": [
    "# for t in texts:\n",
    "#     tt = t.split('\\n')\n",
    "#     for i in tt:\n",
    "#         print(i)"
   ]
  },
  {
   "cell_type": "code",
   "execution_count": 14,
   "metadata": {},
   "outputs": [],
   "source": [
    "# PATH = os.getcwd() + \"\\sample\\special\"\n",
    "# texts = []\n",
    "# for i in os.listdir(PATH):\n",
    "#     img_path = PATH + '\\\\' + i\n",
    "#     text = find_text(img_path)\n",
    "#     if len(text) < 1:\n",
    "#         img = process_img(img)\n",
    "#         plt.imshow(img)\n",
    "#     texts.append(text)"
   ]
  },
  {
   "cell_type": "code",
   "execution_count": null,
   "metadata": {},
   "outputs": [],
   "source": []
  }
 ],
 "metadata": {
  "kernelspec": {
   "display_name": "Python 3",
   "language": "python",
   "name": "python3"
  },
  "language_info": {
   "codemirror_mode": {
    "name": "ipython",
    "version": 3
   },
   "file_extension": ".py",
   "mimetype": "text/x-python",
   "name": "python",
   "nbconvert_exporter": "python",
   "pygments_lexer": "ipython3",
   "version": "3.7.6"
  }
 },
 "nbformat": 4,
 "nbformat_minor": 4
}
