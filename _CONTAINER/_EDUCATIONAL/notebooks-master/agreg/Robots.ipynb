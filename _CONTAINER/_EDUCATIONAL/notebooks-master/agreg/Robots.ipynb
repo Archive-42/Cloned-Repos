{
 "cells": [
  {
   "cell_type": "markdown",
   "metadata": {
    "toc": "true"
   },
   "source": [
    "# Table of Contents\n",
    " <p><div class=\"lev1 toc-item\"><a href=\"#Texte-d'oral-de-modélisation---Agrégation-Option-Informatique\" data-toc-modified-id=\"Texte-d'oral-de-modélisation---Agrégation-Option-Informatique-1\"><span class=\"toc-item-num\">1&nbsp;&nbsp;</span>Texte d'oral de modélisation - Agrégation Option Informatique</a></div><div class=\"lev2 toc-item\"><a href=\"#Préparation-à-l'agrégation---ENS-de-Rennes,-2017-18\" data-toc-modified-id=\"Préparation-à-l'agrégation---ENS-de-Rennes,-2017-18-11\"><span class=\"toc-item-num\">1.1&nbsp;&nbsp;</span>Préparation à l'agrégation - ENS de Rennes, 2017-18</a></div><div class=\"lev2 toc-item\"><a href=\"#À-propos-de-ce-document\" data-toc-modified-id=\"À-propos-de-ce-document-12\"><span class=\"toc-item-num\">1.2&nbsp;&nbsp;</span>À propos de ce document</a></div><div class=\"lev2 toc-item\"><a href=\"#Question-de-programmation\" data-toc-modified-id=\"Question-de-programmation-13\"><span class=\"toc-item-num\">1.3&nbsp;&nbsp;</span>Question de programmation</a></div><div class=\"lev3 toc-item\"><a href=\"#Plus-ou-moins-de-liberté-dans-le-choix-de-modélisation-?\" data-toc-modified-id=\"Plus-ou-moins-de-liberté-dans-le-choix-de-modélisation-?-131\"><span class=\"toc-item-num\">1.3.1&nbsp;&nbsp;</span>Plus ou moins de liberté dans le choix de modélisation ?</a></div><div class=\"lev2 toc-item\"><a href=\"#Réponse-à-l'exercice-requis,-première-approche\" data-toc-modified-id=\"Réponse-à-l'exercice-requis,-première-approche-14\"><span class=\"toc-item-num\">1.4&nbsp;&nbsp;</span>Réponse à l'exercice requis, première approche</a></div><div class=\"lev3 toc-item\"><a href=\"#Choix-des-structures-de-données\" data-toc-modified-id=\"Choix-des-structures-de-données-141\"><span class=\"toc-item-num\">1.4.1&nbsp;&nbsp;</span>Choix des structures de données</a></div><div class=\"lev3 toc-item\"><a href=\"#Fonction-transition\" data-toc-modified-id=\"Fonction-transition-142\"><span class=\"toc-item-num\">1.4.2&nbsp;&nbsp;</span>Fonction <code>transition</code></a></div><div class=\"lev3 toc-item\"><a href=\"#Exemple\" data-toc-modified-id=\"Exemple-143\"><span class=\"toc-item-num\">1.4.3&nbsp;&nbsp;</span>Exemple</a></div><div class=\"lev2 toc-item\"><a href=\"#Une-autre-approche-avec-des-chaînes-de-Markov\" data-toc-modified-id=\"Une-autre-approche-avec-des-chaînes-de-Markov-15\"><span class=\"toc-item-num\">1.5&nbsp;&nbsp;</span>Une autre approche avec des chaînes de Markov</a></div><div class=\"lev3 toc-item\"><a href=\"#Échantillonage-pondéré\" data-toc-modified-id=\"Échantillonage-pondéré-151\"><span class=\"toc-item-num\">1.5.1&nbsp;&nbsp;</span>Échantillonage pondéré</a></div><div class=\"lev3 toc-item\"><a href=\"#Simuler-une-étape-d'une-chaîne-de-Markov-?\" data-toc-modified-id=\"Simuler-une-étape-d'une-chaîne-de-Markov-?-152\"><span class=\"toc-item-num\">1.5.2&nbsp;&nbsp;</span>Simuler une étape d'une chaîne de Markov ?</a></div><div class=\"lev3 toc-item\"><a href=\"#Modéliser-nos-robots-avec-des-chaînes-de-Markov\" data-toc-modified-id=\"Modéliser-nos-robots-avec-des-chaînes-de-Markov-153\"><span class=\"toc-item-num\">1.5.3&nbsp;&nbsp;</span>Modéliser nos robots avec des chaînes de Markov</a></div><div class=\"lev3 toc-item\"><a href=\"#Exemple-1\" data-toc-modified-id=\"Exemple-1-154\"><span class=\"toc-item-num\">1.5.4&nbsp;&nbsp;</span>Exemple 1</a></div><div class=\"lev3 toc-item\"><a href=\"#Exemple-2\" data-toc-modified-id=\"Exemple-2-155\"><span class=\"toc-item-num\">1.5.5&nbsp;&nbsp;</span>Exemple 2</a></div><div class=\"lev3 toc-item\"><a href=\"#Conclusion-de-cette-approche-par-des-chaînes-de-Markov\" data-toc-modified-id=\"Conclusion-de-cette-approche-par-des-chaînes-de-Markov-156\"><span class=\"toc-item-num\">1.5.6&nbsp;&nbsp;</span>Conclusion de cette approche par des chaînes de Markov</a></div><div class=\"lev2 toc-item\"><a href=\"#Conclusion\" data-toc-modified-id=\"Conclusion-16\"><span class=\"toc-item-num\">1.6&nbsp;&nbsp;</span>Conclusion</a></div>"
   ]
  },
  {
   "cell_type": "markdown",
   "metadata": {},
   "source": [
    "# Texte d'oral de modélisation - Agrégation Option Informatique\n",
    "## Préparation à l'agrégation - ENS de Rennes, 2017-18\n",
    "- *Date* : 12 janvier 2018, démonstration d'un oral d'agrégation.\n",
    "- *Auteur* : [Lilian Besson](https://GitHub.com/Naereen/notebooks/)\n",
    "- *Texte*: Annale 2008, [\"Robots\"](http://agreg.org/Textes/pub2008-D1.pdf)"
   ]
  },
  {
   "cell_type": "markdown",
   "metadata": {},
   "source": [
    "## À propos de ce document\n",
    "- Ceci est une *proposition* de correction, partielle et probablement non-optimale, pour la partie implémentation d'un [texte d'annale de l'agrégation de mathématiques, option informatique](http://Agreg.org/Textes/).\n",
    "- Ce document est un [notebook Jupyter](https://www.Jupyter.org/), et [est open-source sous Licence MIT sur GitHub](https://github.com/Naereen/notebooks/tree/master/agreg/), comme les autres solutions de textes de modélisation que [j](https://GitHub.com/Naereen)'ai écrite cette année.\n",
    "- L'implémentation sera faite en OCaml, version 4+ :"
   ]
  },
  {
   "cell_type": "code",
   "execution_count": 1,
   "metadata": {
    "scrolled": false
   },
   "outputs": [
    {
     "name": "stdout",
     "output_type": "stream",
     "text": [
      "4.04.2\n"
     ]
    },
    {
     "data": {
      "text/plain": [
       "- : unit = ()\n"
      ]
     },
     "execution_count": 1,
     "metadata": {},
     "output_type": "execute_result"
    },
    {
     "name": "stdout",
     "output_type": "stream",
     "text": [
      "The OCaml toplevel, version 4.04.2\n"
     ]
    },
    {
     "data": {
      "text/plain": [
       "- : int = 0\n"
      ]
     },
     "execution_count": 1,
     "metadata": {},
     "output_type": "execute_result"
    }
   ],
   "source": [
    "print_endline Sys.ocaml_version;;\n",
    "Sys.command \"ocaml -version\";;"
   ]
  },
  {
   "cell_type": "code",
   "execution_count": 2,
   "metadata": {},
   "outputs": [
    {
     "data": {
      "text/plain": [
       "val print : ('a, out_channel, unit) format -> 'a = <fun>\n"
      ]
     },
     "execution_count": 2,
     "metadata": {},
     "output_type": "execute_result"
    }
   ],
   "source": [
    "let print = Printf.printf;;"
   ]
  },
  {
   "cell_type": "markdown",
   "metadata": {},
   "source": [
    "----\n",
    "## Question de programmation\n",
    "La question de programmation pour ce texte était donnée au milieu, en page 3 :\n",
    "\n",
    "> « On suppose donnés les tableaux $T_i$. Un état du système est représenté par un vecteur $U$ de longueur $n$, dont la $i$-ème composante contient la position du robot $R_i$ (sous forme du numéro $j$ du lieu $L_j$ où il se trouve). »\n",
    "\n",
    "> « Écrire une fonction/procédure/méthode transition qui transforme $U$ en un état suivant du système (on admettra que les données sont telles qu’il existe un état suivant).\n",
    "Simuler le système de robots pendant $n$ unités de temps. On prendra comme état initial du robot $R_i$ le premier élément du tableau $T_i$ . »"
   ]
  },
  {
   "cell_type": "markdown",
   "metadata": {},
   "source": [
    "### Plus ou moins de liberté dans le choix de modélisation ?\n",
    "Vous remarquez que même avec une question bien précise comme celle-là, on dispose d'une relative liberté : la question n'impose pas le choix de modélisation !\n",
    "\n",
    "Elle pourrait être traitée avec un automate ou graphe produit non simplifié, ou un graphe produit plus réduit (1ère solution), mais on aurait tout aussi pu utiliser une approche probabiliste, avec des chaînes de Markov par exemple (2ème solution)."
   ]
  },
  {
   "cell_type": "markdown",
   "metadata": {},
   "source": [
    "----\n",
    "## Réponse à l'exercice requis, première approche\n",
    "> Merci à Romain Dubourg (2017) pour son code.\n",
    "> Cette deuxième solution est bien plus concise que l'approche avec un graphe produit non simplifié, en utilisant une approche plus directe."
   ]
  },
  {
   "cell_type": "markdown",
   "metadata": {},
   "source": [
    "### Choix des structures de données\n",
    "En utilisant des tableaux, `int array`, au lieu de listes, pour représenter les états $u$ on peut modifier l'état *en place* !"
   ]
  },
  {
   "cell_type": "code",
   "execution_count": 4,
   "metadata": {},
   "outputs": [
    {
     "data": {
      "text/plain": [
       "type etat = int array\n"
      ]
     },
     "execution_count": 4,
     "metadata": {},
     "output_type": "execute_result"
    },
    {
     "data": {
      "text/plain": [
       "type liste_rdv = int array array\n"
      ]
     },
     "execution_count": 4,
     "metadata": {},
     "output_type": "execute_result"
    }
   ],
   "source": [
    "type etat = int array;;\n",
    "type liste_rdv = (int array) array;;"
   ]
  },
  {
   "cell_type": "markdown",
   "metadata": {},
   "source": [
    "Avec l'exemple du texte.\n",
    "\n",
    "![Premier exemple de robots](images/robots_exemple1.png)"
   ]
  },
  {
   "cell_type": "code",
   "execution_count": 5,
   "metadata": {},
   "outputs": [
    {
     "data": {
      "text/plain": [
       "val ex1_1 : etat = [|1; 1; 2|]\n"
      ]
     },
     "execution_count": 5,
     "metadata": {},
     "output_type": "execute_result"
    },
    {
     "data": {
      "text/plain": [
       "val ex1 : liste_rdv = [|[|1; 3|]; [|1; 2|]; [|2; 3|]|]\n"
      ]
     },
     "execution_count": 5,
     "metadata": {},
     "output_type": "execute_result"
    }
   ],
   "source": [
    "let ex1_1 : etat = [| 1; 1; 2 |];;\n",
    "let ex1 : liste_rdv = [|\n",
    "    [| 1; 3 |];\n",
    "    [| 1; 2 |];\n",
    "    [| 2; 3 |]\n",
    "|];;"
   ]
  },
  {
   "cell_type": "markdown",
   "metadata": {},
   "source": [
    "On peut facilement trouver la première position de `x` dans une liste et dans un tableau et `-1` sinon."
   ]
  },
  {
   "cell_type": "code",
   "execution_count": 6,
   "metadata": {},
   "outputs": [
    {
     "data": {
      "text/plain": [
       "val trouve : int -> int list -> int = <fun>\n"
      ]
     },
     "execution_count": 6,
     "metadata": {},
     "output_type": "execute_result"
    }
   ],
   "source": [
    "let trouve (x:int) (a:int list) : int =\n",
    "    let rec aux (x:int) (a:int list) (i : int) : int =\n",
    "        match a with\n",
    "        | [] -> -1\n",
    "        | t :: _ when (t = x) -> i\n",
    "        | _ :: q -> aux x q (i+1)\n",
    "    in\n",
    "    aux x a 0\n",
    ";;"
   ]
  },
  {
   "cell_type": "code",
   "execution_count": 7,
   "metadata": {},
   "outputs": [
    {
     "data": {
      "text/plain": [
       "val trouve_array : int -> int array -> int = <fun>\n"
      ]
     },
     "execution_count": 7,
     "metadata": {},
     "output_type": "execute_result"
    }
   ],
   "source": [
    "let trouve_array (x : int) (a : int array) : int =\n",
    "    trouve x (Array.to_list a)\n",
    ";;"
   ]
  },
  {
   "cell_type": "code",
   "execution_count": 8,
   "metadata": {},
   "outputs": [
    {
     "data": {
      "text/plain": [
       "- : int = 2\n"
      ]
     },
     "execution_count": 8,
     "metadata": {},
     "output_type": "execute_result"
    }
   ],
   "source": [
    "let _ = trouve_array 2 ex1_1;; (* 2 *)"
   ]
  },
  {
   "cell_type": "markdown",
   "metadata": {},
   "source": [
    "On a besoin de pouvoir obtenir la liste des paires de robots pouvant réaliser un rendez-vous."
   ]
  },
  {
   "cell_type": "code",
   "execution_count": 9,
   "metadata": {},
   "outputs": [
    {
     "data": {
      "text/plain": [
       "val rdv : etat -> (int * int) list = <fun>\n"
      ]
     },
     "execution_count": 9,
     "metadata": {},
     "output_type": "execute_result"
    }
   ],
   "source": [
    "let rdv (u : etat) : ((int * int) list) = \n",
    "    let n = Array.length u in\n",
    "    let ls = ref [] in (* plus simple que d'imbriquer les List.filter et List.map... *)\n",
    "    for k = 0 to n - 1 do\n",
    "        let i = trouve_array u.(k)\n",
    "            (Array.sub u (k + 1) (n - (k + 1)))\n",
    "        in\n",
    "        if i >= 0 then\n",
    "            ls := (k, i + k + 1) :: !ls;\n",
    "    done;\n",
    "    !ls\n",
    ";;"
   ]
  },
  {
   "cell_type": "markdown",
   "metadata": {},
   "source": [
    "Un rapide, pour visualiser le fonctionnement de la fonction `rdv`."
   ]
  },
  {
   "cell_type": "code",
   "execution_count": 10,
   "metadata": {},
   "outputs": [
    {
     "data": {
      "text/plain": [
       "- : (int * int) list = [(0, 1)]\n"
      ]
     },
     "execution_count": 10,
     "metadata": {},
     "output_type": "execute_result"
    }
   ],
   "source": [
    "let _ = rdv ex1_1 ;;"
   ]
  },
  {
   "cell_type": "code",
   "execution_count": 11,
   "metadata": {},
   "outputs": [
    {
     "data": {
      "text/plain": [
       "val ex3_1 : int array = [|1; 2; 1; 4; 4|]\n"
      ]
     },
     "execution_count": 11,
     "metadata": {},
     "output_type": "execute_result"
    },
    {
     "data": {
      "text/plain": [
       "- : (int * int) list = [(3, 4); (0, 2)]\n"
      ]
     },
     "execution_count": 11,
     "metadata": {},
     "output_type": "execute_result"
    }
   ],
   "source": [
    "let ex3_1 = [| 1; 2; 1; 4; 4 |];;\n",
    "let _ = rdv ex3_1 ;;"
   ]
  },
  {
   "cell_type": "markdown",
   "metadata": {},
   "source": [
    "Étant donné un état et une paire de robots pouvant réaliser un rendez-vous, la fonction suivante le réalise, en modifiant *en place* l'état $u$.\n",
    "\n",
    "C'est bien plus simple que de traiter avec une approche fonctionnelle.\n",
    "\n",
    "Pour une fonction comme ça, il faut absolument :\n",
    "\n",
    "- utiliser des variables intermédiaires,\n",
    "- et des noms de variables un peu explicites (attention aux `1`, `i`, `I` et `l` qui se ressemblent beaucoup une fois projetés au tableau !)."
   ]
  },
  {
   "cell_type": "code",
   "execution_count": 12,
   "metadata": {},
   "outputs": [
    {
     "data": {
      "text/plain": [
       "val realise_rdv : etat -> liste_rdv -> int * int -> etat = <fun>\n"
      ]
     },
     "execution_count": 12,
     "metadata": {},
     "output_type": "execute_result"
    }
   ],
   "source": [
    "let realise_rdv (u : etat) (lr : liste_rdv) (xy : int * int) : etat =\n",
    "    let x, y = xy in\n",
    "    let ux = u.(x) and uy = u.(y) in\n",
    "    let rx, ry = lr.(x), lr.(y) in\n",
    "    u.(x) <- rx.(((trouve_array ux rx) + 1) mod (Array.length rx));\n",
    "    u.(y) <- ry.(((trouve_array uy ry) + 1) mod (Array.length ry));\n",
    "    u\n",
    ";;"
   ]
  },
  {
   "cell_type": "markdown",
   "metadata": {},
   "source": [
    "Un rapide, pour visualiser le fonctionnement de la fonction `realise_rdv`."
   ]
  },
  {
   "cell_type": "code",
   "execution_count": 13,
   "metadata": {},
   "outputs": [
    {
     "data": {
      "text/plain": [
       "val u : int array = [|0; 0; 1|]\n"
      ]
     },
     "execution_count": 13,
     "metadata": {},
     "output_type": "execute_result"
    },
    {
     "data": {
      "text/plain": [
       "val l : int array array = [|[|0; 2|]; [|1; 2|]; [|2; 0|]|]\n"
      ]
     },
     "execution_count": 13,
     "metadata": {},
     "output_type": "execute_result"
    },
    {
     "data": {
      "text/plain": [
       "- : etat = [|2; 1; 1|]\n"
      ]
     },
     "execution_count": 13,
     "metadata": {},
     "output_type": "execute_result"
    }
   ],
   "source": [
    "let u = [| 0; 0; 1 |];;\n",
    "let l = [| [|0; 2|]; [|1; 2|]; [|2; 0|] |];;\n",
    "let _ = realise_rdv u l (0, 1) ;;"
   ]
  },
  {
   "cell_type": "markdown",
   "metadata": {},
   "source": [
    "On vérifie que l'état `u` a bien été modifié en place :"
   ]
  },
  {
   "cell_type": "code",
   "execution_count": 14,
   "metadata": {},
   "outputs": [
    {
     "data": {
      "text/plain": [
       "- : int array = [|2; 1; 1|]\n"
      ]
     },
     "execution_count": 14,
     "metadata": {},
     "output_type": "execute_result"
    }
   ],
   "source": [
    "u;;"
   ]
  },
  {
   "cell_type": "markdown",
   "metadata": {},
   "source": [
    "### Fonction `transition`\n",
    "Et enfin, on calcule l'état suivant $u_1$ à partir de l'état $u_0$, en appliquant la fonction `realise_rdv` à chaque état qui peut être modifié."
   ]
  },
  {
   "cell_type": "code",
   "execution_count": 15,
   "metadata": {},
   "outputs": [
    {
     "data": {
      "text/plain": [
       "val transition : etat -> liste_rdv -> etat = <fun>\n"
      ]
     },
     "execution_count": 15,
     "metadata": {},
     "output_type": "execute_result"
    }
   ],
   "source": [
    "let transition (u0 : etat) (l0 : liste_rdv) : etat =\n",
    "    List.iter (fun u -> ignore (realise_rdv u0 l0 u)) (rdv u0);\n",
    "    u0\n",
    ";;"
   ]
  },
  {
   "cell_type": "markdown",
   "metadata": {},
   "source": [
    "On effectue `n` transitions successives, <span style=\"color:red;\">non pas avec une approche récursive (qui ne serait pas récursive terminale, et donc avec une mémoire de pile d'appel linéaire en $\\mathcal{O}(n)$), mais avec une simple boucle `for`</span>."
   ]
  },
  {
   "cell_type": "code",
   "execution_count": 16,
   "metadata": {},
   "outputs": [
    {
     "data": {
      "text/plain": [
       "val n_transitions_trop_couteux : etat -> liste_rdv -> int -> etat = <fun>\n"
      ]
     },
     "execution_count": 16,
     "metadata": {},
     "output_type": "execute_result"
    }
   ],
   "source": [
    "let rec n_transitions_trop_couteux (u : etat) (l : liste_rdv) (n : int) : etat =\n",
    "    if (n = 0) then\n",
    "        u\n",
    "    else\n",
    "        n_transitions_trop_couteux (transition u l) l (n-1)\n",
    ";;"
   ]
  },
  {
   "cell_type": "code",
   "execution_count": 17,
   "metadata": {},
   "outputs": [
    {
     "data": {
      "text/plain": [
       "val n_transitions : etat -> liste_rdv -> int -> etat = <fun>\n"
      ]
     },
     "execution_count": 17,
     "metadata": {},
     "output_type": "execute_result"
    }
   ],
   "source": [
    "let n_transitions (u : etat) (l : liste_rdv) (n : int) : etat =\n",
    "    for _ = 1 to n do\n",
    "        ignore (transition u l)  (* u est changé en place *)\n",
    "    done;\n",
    "    u\n",
    ";;\n"
   ]
  },
  {
   "cell_type": "markdown",
   "metadata": {},
   "source": [
    "### Exemple\n",
    "Avec l'exemple du texte :"
   ]
  },
  {
   "cell_type": "code",
   "execution_count": 18,
   "metadata": {},
   "outputs": [
    {
     "data": {
      "text/plain": [
       "- : liste_rdv = [|[|1; 3|]; [|1; 2|]; [|2; 3|]|]\n"
      ]
     },
     "execution_count": 18,
     "metadata": {},
     "output_type": "execute_result"
    },
    {
     "data": {
      "text/plain": [
       "- : etat = [|1; 1; 2|]\n"
      ]
     },
     "execution_count": 18,
     "metadata": {},
     "output_type": "execute_result"
    }
   ],
   "source": [
    "let _ = ex1;;\n",
    "let _ = ex1_1;;"
   ]
  },
  {
   "cell_type": "code",
   "execution_count": 19,
   "metadata": {},
   "outputs": [
    {
     "data": {
      "text/plain": [
       "- : etat = [|3; 2; 2|]\n"
      ]
     },
     "execution_count": 19,
     "metadata": {},
     "output_type": "execute_result"
    },
    {
     "data": {
      "text/plain": [
       "- : etat = [|3; 1; 3|]\n"
      ]
     },
     "execution_count": 19,
     "metadata": {},
     "output_type": "execute_result"
    },
    {
     "data": {
      "text/plain": [
       "- : etat = [|1; 1; 2|]\n"
      ]
     },
     "execution_count": 19,
     "metadata": {},
     "output_type": "execute_result"
    },
    {
     "data": {
      "text/plain": [
       "- : etat = [|3; 2; 2|]\n"
      ]
     },
     "execution_count": 19,
     "metadata": {},
     "output_type": "execute_result"
    }
   ],
   "source": [
    "let _ = transition ex1_1 ex1;;\n",
    "let _ = transition ex1_1 ex1;;\n",
    "let _ = transition ex1_1 ex1;;\n",
    "let _ = transition ex1_1 ex1;;"
   ]
  },
  {
   "cell_type": "markdown",
   "metadata": {},
   "source": [
    "Avec l'autre exemple donné à l'oral, qui est un peu différent de celui du texte.\n",
    "\n",
    "Quatre robots, $R_0$, $R_1$, $R_2$, $R_3$, ont comme liste de rendez-vous successifs, $T_0 = [0, 1, 2]$, $T_1 = [0]$, $T_2 = [1, 3]$ et $T_3 = [2, 3]$."
   ]
  },
  {
   "cell_type": "code",
   "execution_count": 20,
   "metadata": {},
   "outputs": [
    {
     "data": {
      "text/plain": [
       "val ex2 : int array array = [|[|0; 1; 2|]; [|0|]; [|1; 3|]; [|2; 3|]|]\n"
      ]
     },
     "execution_count": 20,
     "metadata": {},
     "output_type": "execute_result"
    },
    {
     "data": {
      "text/plain": [
       "val ex2_1 : int array = [|0; 0; 1; 2|]\n"
      ]
     },
     "execution_count": 20,
     "metadata": {},
     "output_type": "execute_result"
    },
    {
     "data": {
      "text/plain": [
       "- : etat = [|0; 0; 3; 3|]\n"
      ]
     },
     "execution_count": 20,
     "metadata": {},
     "output_type": "execute_result"
    }
   ],
   "source": [
    "let ex2 = [| [|0; 1; 2|]; [|0|]; [|1; 3|]; [|2; 3|] |];;\n",
    "\n",
    "let ex2_1 = [| 0; 0; 1; 2 |];;\n",
    "let _ = n_transitions ex2_1 ex2 3;;"
   ]
  },
  {
   "cell_type": "markdown",
   "metadata": {},
   "source": [
    "C'est trivial, mais il peut être utile de vérifier que `n_transitions 3` fait pareil que trois appels à `transition` :"
   ]
  },
  {
   "cell_type": "code",
   "execution_count": 21,
   "metadata": {},
   "outputs": [
    {
     "data": {
      "text/plain": [
       "val ex2_1 : int array = [|0; 0; 1; 2|]\n"
      ]
     },
     "execution_count": 21,
     "metadata": {},
     "output_type": "execute_result"
    },
    {
     "data": {
      "text/plain": [
       "- : etat = [|1; 0; 1; 2|]\n"
      ]
     },
     "execution_count": 21,
     "metadata": {},
     "output_type": "execute_result"
    },
    {
     "data": {
      "text/plain": [
       "- : etat = [|2; 0; 3; 2|]\n"
      ]
     },
     "execution_count": 21,
     "metadata": {},
     "output_type": "execute_result"
    },
    {
     "data": {
      "text/plain": [
       "- : etat = [|0; 0; 3; 3|]\n"
      ]
     },
     "execution_count": 21,
     "metadata": {},
     "output_type": "execute_result"
    },
    {
     "data": {
      "text/plain": [
       "- : etat = [|1; 0; 1; 2|]\n"
      ]
     },
     "execution_count": 21,
     "metadata": {},
     "output_type": "execute_result"
    }
   ],
   "source": [
    "let ex2_1 = [| 0; 0; 1; 2 |];; (* il faut l'écrire, il a été modifié *)\n",
    "let _ = transition ex2_1 ex2;;\n",
    "let _ = transition ex2_1 ex2;;\n",
    "let _ = transition ex2_1 ex2;;\n",
    "let _ = transition ex2_1 ex2;;"
   ]
  },
  {
   "cell_type": "markdown",
   "metadata": {},
   "source": [
    "Avec un autre état initial :"
   ]
  },
  {
   "cell_type": "code",
   "execution_count": 22,
   "metadata": {},
   "outputs": [
    {
     "data": {
      "text/plain": [
       "val ex2_2 : int array = [|0; 0; 3; 2|]\n"
      ]
     },
     "execution_count": 22,
     "metadata": {},
     "output_type": "execute_result"
    },
    {
     "data": {
      "text/plain": [
       "- : etat = [|1; 0; 3; 2|]\n"
      ]
     },
     "execution_count": 22,
     "metadata": {},
     "output_type": "execute_result"
    },
    {
     "data": {
      "text/plain": [
       "- : etat = [|1; 0; 3; 2|]\n"
      ]
     },
     "execution_count": 22,
     "metadata": {},
     "output_type": "execute_result"
    },
    {
     "data": {
      "text/plain": [
       "- : etat = [|1; 0; 3; 2|]\n"
      ]
     },
     "execution_count": 22,
     "metadata": {},
     "output_type": "execute_result"
    }
   ],
   "source": [
    "let ex2_2 = [| 0; 0; 3; 2 |];;\n",
    "\n",
    "let _ = transition ex2_2 ex2;;\n",
    "let _ = transition ex2_2 ex2;; (* On bloque !*)\n",
    "let _ = transition ex2_2 ex2;; (* On bloque !*)"
   ]
  },
  {
   "cell_type": "markdown",
   "metadata": {},
   "source": [
    "Et avec encore un autre état initial :"
   ]
  },
  {
   "cell_type": "code",
   "execution_count": 23,
   "metadata": {},
   "outputs": [
    {
     "data": {
      "text/plain": [
       "val ex2_3 : int array = [|0; 0; 3; 3|]\n"
      ]
     },
     "execution_count": 23,
     "metadata": {},
     "output_type": "execute_result"
    },
    {
     "data": {
      "text/plain": [
       "- : etat = [|1; 0; 1; 2|]\n"
      ]
     },
     "execution_count": 23,
     "metadata": {},
     "output_type": "execute_result"
    },
    {
     "data": {
      "text/plain": [
       "- : etat = [|2; 0; 3; 2|]\n"
      ]
     },
     "execution_count": 23,
     "metadata": {},
     "output_type": "execute_result"
    },
    {
     "data": {
      "text/plain": [
       "- : etat = [|0; 0; 3; 3|]\n"
      ]
     },
     "execution_count": 23,
     "metadata": {},
     "output_type": "execute_result"
    },
    {
     "data": {
      "text/plain": [
       "- : etat = [|1; 0; 1; 2|]\n"
      ]
     },
     "execution_count": 23,
     "metadata": {},
     "output_type": "execute_result"
    }
   ],
   "source": [
    "let ex2_3 = [| 0; 0; 3; 3 |];;\n",
    "\n",
    "let _ = transition ex2_3 ex2;;\n",
    "let _ = transition ex2_3 ex2;;\n",
    "let _ = transition ex2_3 ex2;; (* On a un cycle de taille 3 *)\n",
    "let _ = transition ex2_3 ex2;;"
   ]
  },
  {
   "cell_type": "markdown",
   "metadata": {
    "collapsed": true
   },
   "source": [
    "----\n",
    "## Une autre approche avec des chaînes de Markov\n",
    "\n",
    "Voici une troisième modélisation, avec des matrices et des [chaînes de Markov](https://fr.wikipedia.org/wiki/Cha%C3%AEne_de_Markov).\n",
    "\n",
    "L'idée de base vient de l'observation suivante : **ajouter de l'aléa dans les déplacements des robots devraient permettre de s'assurer (avec une certaine probabilité) que tous les rendez-vous sont bien effectués.**"
   ]
  },
  {
   "cell_type": "markdown",
   "metadata": {},
   "source": [
    "### Échantillonage pondéré\n",
    "Le module [`Random`](http://caml.inria.fr/pub/docs/manual-ocaml/libref/Random.html) va être utile.\n",
    "\n",
    "En Python, on a `numpy.random.choice` pour faire cet échantillonage pondéré, pas en Caml, donc on va l'écrire manuellement."
   ]
  },
  {
   "cell_type": "code",
   "execution_count": 24,
   "metadata": {},
   "outputs": [
    {
     "data": {
      "text/plain": [
       "- : unit = ()\n"
      ]
     },
     "execution_count": 24,
     "metadata": {},
     "output_type": "execute_result"
    }
   ],
   "source": [
    "Random.init 0;;"
   ]
  },
  {
   "cell_type": "markdown",
   "metadata": {},
   "source": [
    "Etant donné une distribution discrète $\\pi = (\\pi_1,\\dots,\\pi_N)$ sur $\\{1,\\dots,N\\}$, la fonction suivante permet de générer un indice $i$ tel que\n",
    "$$ \\mathbb{P}(i = k) = \\pi_k, \\forall k \\in \\{1,\\dots,N\\}.$$"
   ]
  },
  {
   "cell_type": "code",
   "execution_count": 25,
   "metadata": {},
   "outputs": [
    {
     "data": {
      "text/plain": [
       "val weight_sampling : float array -> unit -> int = <fun>\n"
      ]
     },
     "execution_count": 25,
     "metadata": {},
     "output_type": "execute_result"
    }
   ],
   "source": [
    "let weight_sampling (pi : float array) () =\n",
    "    let p = Random.float 1. in\n",
    "    let i = ref (-1) in\n",
    "    let acc = ref 0. in\n",
    "    while !acc < p do\n",
    "        incr i;\n",
    "        acc := (!acc) +. pi.(!i);\n",
    "    done;\n",
    "    !i\n",
    ";;"
   ]
  },
  {
   "cell_type": "markdown",
   "metadata": {},
   "source": [
    "Par exemple, tirer 100 échantillons suivant la distribution $\\pi = [0.5, 0.1, 0.4]$ devrait donner environ $50$ fois $0$, $10$ fois $1$ et $40$ fois $2$ :"
   ]
  },
  {
   "cell_type": "code",
   "execution_count": 26,
   "metadata": {},
   "outputs": [
    {
     "data": {
      "text/plain": [
       "val compte : 'a array -> 'a -> int = <fun>\n"
      ]
     },
     "execution_count": 26,
     "metadata": {},
     "output_type": "execute_result"
    },
    {
     "data": {
      "text/plain": [
       "val echantillons : int array =\n",
       "  [|0; 0; 2; 2; 0; 0; 0; 0; 0; 0; 0; 2; 1; 2; 0; 2; 1; 2; 1; 2; 2; 1; 2; 0;\n",
       "    1; 2; 2; 0; 2; 0; 2; 0; 0; 0; 2; 2; 2; 2; 2; 0; 2; 0; 2; 0; 0; 2; 2; 2;\n",
       "    1; 0; 1; 2; 0; 2; 2; 2; 0; 0; 2; 0; 2; 0; 0; 0; 0; 0; 1; 0; 1; 0; 0; 2;\n",
       "    2; 2; 2; 2; 2; 1; 0; 0; 2; 2; 2; 2; 0; 0; 0; 0; 1; 2; 0; 1; 0; 0; 0; 0;\n",
       "    1; 0; 0; 2|]\n"
      ]
     },
     "execution_count": 26,
     "metadata": {},
     "output_type": "execute_result"
    },
    {
     "data": {
      "text/plain": [
       "- : int = 46\n"
      ]
     },
     "execution_count": 26,
     "metadata": {},
     "output_type": "execute_result"
    },
    {
     "data": {
      "text/plain": [
       "- : int = 13\n"
      ]
     },
     "execution_count": 26,
     "metadata": {},
     "output_type": "execute_result"
    },
    {
     "data": {
      "text/plain": [
       "- : int = 41\n"
      ]
     },
     "execution_count": 26,
     "metadata": {},
     "output_type": "execute_result"
    }
   ],
   "source": [
    "let compte (a : 'a array) (x : 'a) : int =\n",
    "    Array.fold_left (fun i y -> if y = x then i + 1 else i) 0 a\n",
    ";;\n",
    "    \n",
    "let echantillons = Array.init 100\n",
    "    (fun _ -> weight_sampling [| 0.5; 0.1; 0.4 |] ())\n",
    ";;\n",
    "\n",
    "compte echantillons 0;;\n",
    "compte echantillons 1;;\n",
    "compte echantillons 2;;"
   ]
  },
  {
   "cell_type": "markdown",
   "metadata": {},
   "source": [
    "$46/100$, $13/100$ et $41/100$, c'est pas trop loin de $0.5, 0.1, 0.4$."
   ]
  },
  {
   "cell_type": "markdown",
   "metadata": {},
   "source": [
    "### Simuler une étape d'une chaîne de Markov ?\n",
    "On peut utiliser cette fonction pour suivre une transition, aléatoire, sur une chaîne de Markov."
   ]
  },
  {
   "cell_type": "code",
   "execution_count": 27,
   "metadata": {},
   "outputs": [
    {
     "data": {
      "text/plain": [
       "val markov_1 : float array array -> int -> int = <fun>\n"
      ]
     },
     "execution_count": 27,
     "metadata": {},
     "output_type": "execute_result"
    }
   ],
   "source": [
    "let markov_1 (a : float array array) (i : int) : int =\n",
    "    let pi = a.(i) in\n",
    "    weight_sampling pi ()\n",
    ";;"
   ]
  },
  {
   "cell_type": "markdown",
   "metadata": {},
   "source": [
    "Avec un petit exemple définit, on peut voir le résultat de $100$ transitions différentes depuis l'état $0$ :"
   ]
  },
  {
   "cell_type": "code",
   "execution_count": 28,
   "metadata": {
    "scrolled": true
   },
   "outputs": [
    {
     "data": {
      "text/plain": [
       "val a : float array array =\n",
       "  [|[|0.4; 0.3; 0.3|]; [|0.3; 0.4; 0.3|]; [|0.3; 0.3; 0.4|]|]\n"
      ]
     },
     "execution_count": 28,
     "metadata": {},
     "output_type": "execute_result"
    }
   ],
   "source": [
    "let a = [|\n",
    "            [| 0.4; 0.3; 0.3 |];\n",
    "            [| 0.3; 0.4; 0.3 |];\n",
    "            [| 0.3; 0.3; 0.4 |]\n",
    "    |]\n",
    ";;"
   ]
  },
  {
   "cell_type": "code",
   "execution_count": 29,
   "metadata": {},
   "outputs": [
    {
     "data": {
      "text/plain": [
       "- : unit = ()\n"
      ]
     },
     "execution_count": 29,
     "metadata": {},
     "output_type": "execute_result"
    },
    {
     "data": {
      "text/plain": [
       "- : unit = ()\n"
      ]
     },
     "execution_count": 29,
     "metadata": {},
     "output_type": "execute_result"
    },
    {
     "name": "stdout",
     "output_type": "stream",
     "text": [
      "\n"
     ]
    },
    {
     "data": {
      "text/plain": [
       "- : unit = ()\n"
      ]
     },
     "execution_count": 29,
     "metadata": {},
     "output_type": "execute_result"
    }
   ],
   "source": [
    "print \"\\n\";;\n",
    "for _ = 0 to 100 do\n",
    "    print \"%i\" (markov_1 a 0);\n",
    "done;;\n",
    "flush_all ();;"
   ]
  },
  {
   "cell_type": "markdown",
   "metadata": {},
   "source": [
    "On peut suivre plusieurs transitions :"
   ]
  },
  {
   "cell_type": "code",
   "execution_count": 30,
   "metadata": {},
   "outputs": [
    {
     "data": {
      "text/plain": [
       "val markov_n : float array array -> int -> int -> int = <fun>\n"
      ]
     },
     "execution_count": 30,
     "metadata": {},
     "output_type": "execute_result"
    }
   ],
   "source": [
    "let markov_n (a : float array array) (etat : int) (n : int) : int =\n",
    "    let u = ref etat in\n",
    "    for _ = 0 to n-1 do\n",
    "        u := markov_1 a !u;\n",
    "    done;\n",
    "    !u\n",
    ";;"
   ]
  },
  {
   "cell_type": "code",
   "execution_count": 31,
   "metadata": {},
   "outputs": [
    {
     "data": {
      "text/plain": [
       "- : int = 2\n"
      ]
     },
     "execution_count": 31,
     "metadata": {},
     "output_type": "execute_result"
    }
   ],
   "source": [
    "markov_n a 0 10;;"
   ]
  },
  {
   "cell_type": "markdown",
   "metadata": {},
   "source": [
    "Et pour plusieurs robots, c'est pareil : chaque robots a un état (`robots.(i)`) et une matrice de transition (`a.(i)`) :"
   ]
  },
  {
   "cell_type": "code",
   "execution_count": 32,
   "metadata": {},
   "outputs": [
    {
     "data": {
      "text/plain": [
       "val markovs_n : float array array array -> int array -> int -> int array =\n",
       "  <fun>\n"
      ]
     },
     "execution_count": 32,
     "metadata": {},
     "output_type": "execute_result"
    }
   ],
   "source": [
    "let markovs_n (a : float array array array) (robots : int array) (n : int) : int array =\n",
    "    Array.mapi (fun i u -> markov_n a.(i) u n) robots\n",
    ";;"
   ]
  },
  {
   "cell_type": "markdown",
   "metadata": {},
   "source": [
    "Si par exemple chaque état a la même matrice de transition :"
   ]
  },
  {
   "cell_type": "code",
   "execution_count": 33,
   "metadata": {},
   "outputs": [
    {
     "data": {
      "text/plain": [
       "- : int array = [|1; 1; 0|]\n"
      ]
     },
     "execution_count": 33,
     "metadata": {},
     "output_type": "execute_result"
    }
   ],
   "source": [
    "markovs_n [|a; a; a|] [|0; 1; 2|] 10;;"
   ]
  },
  {
   "cell_type": "markdown",
   "metadata": {},
   "source": [
    "### Modéliser nos robots avec des chaînes de Markov\n",
    "\n",
    "Plutôt que d'imposer à chaque robot un ordre fixe de ses rendez-vous, on va leur donner une probabilité uniforme d'aller, après un rendez-vous, à n'importe lequel de leur rendez-vous.\n",
    "\n",
    "- Cela demande de transformer la liste $T_1,\\dots,T_n$ de rendez-vous en $n$ matrices de transition de chaînes de Markov, une par robot.\n",
    "- Et ensuite de simuler chaque chaîne de Markov, parant d'un état initial $T_i[0]$."
   ]
  },
  {
   "cell_type": "code",
   "execution_count": 34,
   "metadata": {
    "scrolled": true
   },
   "outputs": [
    {
     "data": {
      "text/plain": [
       "- : int -> (int -> 'a) -> 'a array = <fun>\n"
      ]
     },
     "execution_count": 34,
     "metadata": {},
     "output_type": "execute_result"
    },
    {
     "data": {
      "text/plain": [
       "- : int -> int -> 'a -> 'a array array = <fun>\n"
      ]
     },
     "execution_count": 34,
     "metadata": {},
     "output_type": "execute_result"
    },
    {
     "data": {
      "text/plain": [
       "- : ('a -> unit) -> 'a array -> unit = <fun>\n"
      ]
     },
     "execution_count": 34,
     "metadata": {},
     "output_type": "execute_result"
    }
   ],
   "source": [
    "(* Fonctions utiles *)\n",
    "Array.init;;\n",
    "Array.make_matrix;;\n",
    "Array.iter;;"
   ]
  },
  {
   "cell_type": "code",
   "execution_count": 35,
   "metadata": {},
   "outputs": [
    {
     "data": {
      "text/plain": [
       "val mat_proba_depuis_rdv : int array array -> float array array array = <fun>\n"
      ]
     },
     "execution_count": 35,
     "metadata": {},
     "output_type": "execute_result"
    }
   ],
   "source": [
    "let mat_proba_depuis_rdv (ts : int array array) : (float array array) array =\n",
    "    let n = Array.length ts in\n",
    "    let a = Array.init n (fun _ -> Array.make_matrix n n 0.) in\n",
    "    for i = 0 to n-1 do\n",
    "        (* Pour le robot R_i, ses rendez-vous T_i sont ts.(i) *)\n",
    "        let r = ts.(i) in\n",
    "        let m = Array.length r in\n",
    "        let p_i = 1. /. (float_of_int m) in\n",
    "        (* Pour chaque rendez-vous L_j dans T_i,\n",
    "           remplir a.(j).(k) par 1/m,\n",
    "           et aussi a.(k).(j) par 1/m\n",
    "           pour chaque autre k dans L_j\n",
    "        *)\n",
    "        for j = 0 to m-1 do\n",
    "            for k = 0 to m-1 do\n",
    "                a.(i).(r.(j)).(r.(k)) <- p_i;\n",
    "                a.(i).(r.(k)).(r.(j)) <- p_i;\n",
    "            done;\n",
    "        done;\n",
    "    done;\n",
    "    a\n",
    ";;"
   ]
  },
  {
   "cell_type": "markdown",
   "metadata": {},
   "source": [
    "Avec les fonctions précédentes, on peut faire évoluer le système."
   ]
  },
  {
   "cell_type": "code",
   "execution_count": 36,
   "metadata": {},
   "outputs": [
    {
     "data": {
      "text/plain": [
       "val simule_markov_robots : int array array -> int array -> int -> int array =\n",
       "  <fun>\n"
      ]
     },
     "execution_count": 36,
     "metadata": {},
     "output_type": "execute_result"
    }
   ],
   "source": [
    "let simule_markov_robots (ts : int array array)\n",
    "    (etats : int array) (n : int)\n",
    "    : int array =\n",
    "    let a = mat_proba_depuis_rdv ts in\n",
    "    markovs_n a etats n\n",
    ";;"
   ]
  },
  {
   "cell_type": "markdown",
   "metadata": {},
   "source": [
    "### Exemple 1\n",
    "On commence avec le premier exemple du texte, avec trois robots $R_1, R_2, R_3$, qui ont comme tableaux de rendez-vous $T_1 = [1, 3]$, $T_2 = [2, 1]$ et $T_3 = [3, 2]$.\n",
    "\n",
    "Ce système n'est pas bloqué, mais aucun rendez-vous n'est réalisé avec l'approche statique.\n",
    "L'approche probabiliste permettra, espérons, de résoudre ce problème.\n",
    "\n",
    "![Premier exemple de robots](images/robots_exemple1.png)"
   ]
  },
  {
   "cell_type": "code",
   "execution_count": 37,
   "metadata": {},
   "outputs": [
    {
     "data": {
      "text/plain": [
       "val ex3 : int array array = [|[|0; 2|]; [|1; 0|]; [|2; 1|]|]\n"
      ]
     },
     "execution_count": 37,
     "metadata": {},
     "output_type": "execute_result"
    }
   ],
   "source": [
    "let ex3 = [| [|0; 2|]; [|1; 0|]; [|2; 1|]|] ;;"
   ]
  },
  {
   "cell_type": "markdown",
   "metadata": {},
   "source": [
    "On peut écrire une fonction qui récupère l'état initial dans lequel se trouve chaque robot (le texte donnait comme convention d'utiliser le premier de chaque liste)."
   ]
  },
  {
   "cell_type": "code",
   "execution_count": 38,
   "metadata": {},
   "outputs": [
    {
     "data": {
      "text/plain": [
       "val premier_etat : int array array -> int array = <fun>\n"
      ]
     },
     "execution_count": 38,
     "metadata": {},
     "output_type": "execute_result"
    }
   ],
   "source": [
    "let premier_etat (rdvs : int array array) : int array =\n",
    "    Array.init (Array.length rdvs) (fun i -> rdvs.(i).(0))\n",
    ";;"
   ]
  },
  {
   "cell_type": "code",
   "execution_count": 39,
   "metadata": {},
   "outputs": [
    {
     "data": {
      "text/plain": [
       "val ex3_1 : int array = [|0; 1; 2|]\n"
      ]
     },
     "execution_count": 39,
     "metadata": {},
     "output_type": "execute_result"
    }
   ],
   "source": [
    "let ex3_1 = premier_etat ex3;;"
   ]
  },
  {
   "cell_type": "markdown",
   "metadata": {},
   "source": [
    "On vérifie la matrice de transition produite par `mat_proba_depuis_rdv` :"
   ]
  },
  {
   "cell_type": "code",
   "execution_count": 40,
   "metadata": {},
   "outputs": [
    {
     "data": {
      "text/plain": [
       "- : float array array array =\n",
       "[|[|[|0.5; 0.; 0.5|]; [|0.; 0.; 0.|]; [|0.5; 0.; 0.5|]|];\n",
       "  [|[|0.5; 0.5; 0.|]; [|0.5; 0.5; 0.|]; [|0.; 0.; 0.|]|];\n",
       "  [|[|0.; 0.; 0.|]; [|0.; 0.5; 0.5|]; [|0.; 0.5; 0.5|]|]|]\n"
      ]
     },
     "execution_count": 40,
     "metadata": {},
     "output_type": "execute_result"
    }
   ],
   "source": [
    "mat_proba_depuis_rdv ex3;;"
   ]
  },
  {
   "cell_type": "markdown",
   "metadata": {},
   "source": [
    "On peut vérifier que ces chaînes de Markov représentent bien le comportement des robots, par exemple le premier robot $R_1$ a $T_1 = [1, 3]$, donc il alterne entre l'état $0$ et $2$, avec la matrice de transition\n",
    "$$ \\mathbf{A}_i := \\begin{bmatrix}\n",
    "    1/2 & 0 & 1/2 \\\\\n",
    "    0 & 0 & 0 \\\\\n",
    "    1/2 & 0 & 1/2\n",
    "\\end{bmatrix}. $$"
   ]
  },
  {
   "cell_type": "markdown",
   "metadata": {},
   "source": [
    "Et enfin on peut simuler le système, par exemple pour juste une étape, plusieurs fois (pour bien visualiser)."
   ]
  },
  {
   "cell_type": "code",
   "execution_count": 41,
   "metadata": {},
   "outputs": [
    {
     "data": {
      "text/plain": [
       "- : int array = [|0; 1; 2|]\n"
      ]
     },
     "execution_count": 41,
     "metadata": {},
     "output_type": "execute_result"
    }
   ],
   "source": [
    "simule_markov_robots ex3 ex3_1 0;;  (* rien à faire ! *)"
   ]
  },
  {
   "cell_type": "code",
   "execution_count": 42,
   "metadata": {},
   "outputs": [
    {
     "data": {
      "text/plain": [
       "- : int array = [|0; 0; 1|]\n"
      ]
     },
     "execution_count": 42,
     "metadata": {},
     "output_type": "execute_result"
    }
   ],
   "source": [
    "simule_markov_robots ex3 ex3_1 1;;"
   ]
  },
  {
   "cell_type": "markdown",
   "metadata": {},
   "source": [
    "Pour mieux comprendre le fonctionnement, on va afficher les états intermédiaires."
   ]
  },
  {
   "cell_type": "code",
   "execution_count": 43,
   "metadata": {},
   "outputs": [
    {
     "data": {
      "text/plain": [
       "val print : ('a, out_channel, unit) format -> 'a = <fun>\n"
      ]
     },
     "execution_count": 43,
     "metadata": {},
     "output_type": "execute_result"
    }
   ],
   "source": [
    "let print = Printf.printf;;"
   ]
  },
  {
   "cell_type": "code",
   "execution_count": 44,
   "metadata": {},
   "outputs": [
    {
     "data": {
      "text/plain": [
       "val affiche_etat : int array -> unit = <fun>\n"
      ]
     },
     "execution_count": 44,
     "metadata": {},
     "output_type": "execute_result"
    }
   ],
   "source": [
    "let affiche_etat (etat : int array) =\n",
    "    Array.iter (fun u -> print \"%i \" u) etat;\n",
    "    print \"\\n\";\n",
    "    flush_all ();\n",
    ";;"
   ]
  },
  {
   "cell_type": "code",
   "execution_count": 45,
   "metadata": {},
   "outputs": [
    {
     "data": {
      "text/plain": [
       "- : unit = ()\n"
      ]
     },
     "execution_count": 45,
     "metadata": {},
     "output_type": "execute_result"
    },
    {
     "name": "stdout",
     "output_type": "stream",
     "text": [
      "212211100011001111122012001220121202021210112221021002120120002102200202210112002021002012110120102010 1 2 \n"
     ]
    }
   ],
   "source": [
    "affiche_etat ex3_1;;"
   ]
  },
  {
   "cell_type": "code",
   "execution_count": 46,
   "metadata": {},
   "outputs": [
    {
     "name": "stdout",
     "output_type": "stream",
     "text": [
      "0 1 2 \n",
      "2 1 2 \n",
      "0 1 1 \n",
      "0 0 2 \n",
      "0 1 1 \n",
      "0 0 1 \n",
      "0 1 1 \n",
      "0 1 1 \n",
      "2 1 1 \n",
      "2 0 1 \n",
      "0 1 1 \n"
     ]
    },
    {
     "data": {
      "text/plain": [
       "- : unit = ()\n"
      ]
     },
     "execution_count": 46,
     "metadata": {},
     "output_type": "execute_result"
    }
   ],
   "source": [
    "let u = ref ex3_1 in\n",
    "for _ = 0 to 10 do\n",
    "    affiche_etat !u;\n",
    "    u := simule_markov_robots ex3 !u 1;\n",
    "done;;"
   ]
  },
  {
   "cell_type": "markdown",
   "metadata": {},
   "source": [
    "On constate que des rendez-vous ont bien été effectués !\n",
    "Pas à chaque fois, mais presque.\n",
    "\n",
    "En tout cas, ça fonctionne mieux que l'approche naïve, peu importe l'état initial."
   ]
  },
  {
   "cell_type": "code",
   "execution_count": 47,
   "metadata": {},
   "outputs": [
    {
     "name": "stdout",
     "output_type": "stream",
     "text": [
      "0 1 1 \n",
      "0 1 2 \n",
      "0 0 1 \n",
      "0 0 2 \n",
      "2 1 2 \n",
      "0 0 1 \n",
      "2 1 2 \n",
      "2 0 1 \n",
      "2 1 1 \n",
      "0 1 1 \n",
      "0 0 1 \n"
     ]
    },
    {
     "data": {
      "text/plain": [
       "- : unit = ()\n"
      ]
     },
     "execution_count": 47,
     "metadata": {},
     "output_type": "execute_result"
    }
   ],
   "source": [
    "let u = ref [| 0; 1; 1 |] in\n",
    "for _ = 0 to 10 do\n",
    "    affiche_etat !u;\n",
    "    u := simule_markov_robots ex3 !u 1;\n",
    "done;;"
   ]
  },
  {
   "cell_type": "markdown",
   "metadata": {},
   "source": [
    "Sur 11 états, le rendez-vous 0 a été fait 1 fois, le 1 a été fait 4 fois, et le 2 a été fait 4 fois aussi. Soit 9 sur 11 étapes utiles ! Pas mal !\n",
    "\n",
    "> <span style=\"color:gray;\">(ce texte n'est pas valide à chaque exécution à cause de l'aléa...)</span>"
   ]
  },
  {
   "cell_type": "markdown",
   "metadata": {},
   "source": [
    "### Exemple 2\n",
    "Puis le second exemple :\n",
    "\n",
    "![Premier exemple de robots](images/robots_exemple2.png)"
   ]
  },
  {
   "cell_type": "code",
   "execution_count": 48,
   "metadata": {},
   "outputs": [
    {
     "data": {
      "text/plain": [
       "val ex4 : int array array = [|[|0; 3|]; [|0; 1|]; [|1; 2|]; [|2; 3|]|]\n"
      ]
     },
     "execution_count": 48,
     "metadata": {},
     "output_type": "execute_result"
    }
   ],
   "source": [
    "let ex4 = [| [|0; 3|]; [|0; 1|]; [|1; 2|]; [|2; 3|] |];;"
   ]
  },
  {
   "cell_type": "code",
   "execution_count": 49,
   "metadata": {},
   "outputs": [
    {
     "data": {
      "text/plain": [
       "val ex4_1 : int array = [|0; 0; 1; 2|]\n"
      ]
     },
     "execution_count": 49,
     "metadata": {},
     "output_type": "execute_result"
    }
   ],
   "source": [
    "let ex4_1 = premier_etat ex4;;"
   ]
  },
  {
   "cell_type": "markdown",
   "metadata": {},
   "source": [
    "On vérifie la matrice de transition produite par `mat_proba_depuis_rdv` :"
   ]
  },
  {
   "cell_type": "code",
   "execution_count": 50,
   "metadata": {},
   "outputs": [
    {
     "data": {
      "text/plain": [
       "- : float array array array =\n",
       "[|[|[|0.5; 0.; 0.; 0.5|]; [|0.; 0.; 0.; 0.|]; [|0.; 0.; 0.; 0.|];\n",
       "    [|0.5; 0.; 0.; 0.5|]|];\n",
       "  [|[|0.5; 0.5; 0.; 0.|]; [|0.5; 0.5; 0.; 0.|]; [|0.; 0.; 0.; 0.|];\n",
       "    [|0.; 0.; 0.; 0.|]|];\n",
       "  [|[|0.; 0.; 0.; 0.|]; [|0.; 0.5; 0.5; 0.|]; [|0.; 0.5; 0.5; 0.|];\n",
       "    [|0.; 0.; 0.; 0.|]|];\n",
       "  [|[|0.; 0.; 0.; 0.|]; [|0.; 0.; 0.; 0.|]; [|0.; 0.; 0.5; 0.5|];\n",
       "    [|0.; 0.; 0.5; 0.5|]|]|]\n"
      ]
     },
     "execution_count": 50,
     "metadata": {},
     "output_type": "execute_result"
    }
   ],
   "source": [
    "mat_proba_depuis_rdv ex4;;"
   ]
  },
  {
   "cell_type": "markdown",
   "metadata": {},
   "source": [
    "Et enfin on peut simuler le système, par exemple pour juste une étape, plusieurs fois (pour bien visualiser)."
   ]
  },
  {
   "cell_type": "code",
   "execution_count": 51,
   "metadata": {},
   "outputs": [
    {
     "data": {
      "text/plain": [
       "- : int array = [|0; 0; 1; 2|]\n"
      ]
     },
     "execution_count": 51,
     "metadata": {},
     "output_type": "execute_result"
    }
   ],
   "source": [
    "simule_markov_robots ex4 ex4_1 0;;  (* rien à faire ! *)"
   ]
  },
  {
   "cell_type": "code",
   "execution_count": 52,
   "metadata": {},
   "outputs": [
    {
     "data": {
      "text/plain": [
       "- : int array = [|3; 1; 1; 2|]\n"
      ]
     },
     "execution_count": 52,
     "metadata": {},
     "output_type": "execute_result"
    }
   ],
   "source": [
    "simule_markov_robots ex4 ex4_1 1;;"
   ]
  },
  {
   "cell_type": "code",
   "execution_count": 53,
   "metadata": {},
   "outputs": [
    {
     "name": "stdout",
     "output_type": "stream",
     "text": [
      "0 0 1 2 \n",
      "0 0 1 2 \n",
      "0 0 1 3 \n",
      "3 0 1 3 \n",
      "0 0 1 3 \n",
      "0 1 1 2 \n",
      "0 1 2 3 \n",
      "3 0 2 3 \n",
      "0 1 2 3 \n",
      "0 0 2 2 \n",
      "3 0 1 2 \n"
     ]
    },
    {
     "data": {
      "text/plain": [
       "- : unit = ()\n"
      ]
     },
     "execution_count": 53,
     "metadata": {},
     "output_type": "execute_result"
    }
   ],
   "source": [
    "let u = ref ex4_1 in\n",
    "for _ = 0 to 10 do\n",
    "    affiche_etat !u;\n",
    "    u := simule_markov_robots ex4 !u 1;\n",
    "done;;"
   ]
  },
  {
   "cell_type": "markdown",
   "metadata": {},
   "source": [
    "Sur 11 états, le rendez-vous 0 a été fait 5 fois, le 1 a été fait 2 fois, le 2 a été fait 3 fois, et le 3 a été fait 3 fois aussi.\n",
    "Soit plus d'un rendez-vous par étape réussi en moyenne, et tous les rendez-vous ont été vus.\n",
    "\n",
    "> <span style=\"color:gray;\">(ce texte n'est pas valide à chaque exécution à cause de l'aléa...)</span>"
   ]
  },
  {
   "cell_type": "markdown",
   "metadata": {},
   "source": [
    "### Conclusion de cette approche par des chaînes de Markov\n",
    "\n",
    "On ne va pas en faire plus, mais cela suffit de montrer la pertinence de cette autre approche.\n",
    "\n",
    "\n",
    "> Merci d'avoir lu jusque là !"
   ]
  },
  {
   "cell_type": "markdown",
   "metadata": {},
   "source": [
    "----\n",
    "\n",
    "## Conclusion\n",
    "\n",
    "Voilà pour la question obligatoire de programmation :\n",
    "\n",
    "- on a adopté la modélisation du texte (dans la 1ère approche) et aussi une autre modélisation (2ème approche),\n",
    "- on a traité l'exemple du texte, et deux exemples assez proches.\n",
    "- on a fait des exemples et *on les garde* dans ce qu'on présente au jury.\n",
    "- on a essayé de faire *un peu plus*, en suivant une des directions suggérées par le texte.\n",
    "\n",
    "\n",
    "> Bien-sûr, ce petit notebook ne se prétend pas être une solution optimale, ni exhaustive.\n",
    "\n",
    "----\n",
    "\n",
    "N'hésitez pas à aller voir [ce dépôt GitHub](https://GitHub.com/Naereen/notebooks/) pour d'autres notebooks, notamment [cette page](https://nbviewer.jupyter.org/github/Naereen/notebooks/tree/master/agreg/) pour d'autres notebooks corrigeant des textes de modélisation (option D, informatique théorique) pour l'agrégation de mathématiques."
   ]
  }
 ],
 "metadata": {
  "kernelspec": {
   "display_name": "OCaml 4.04.2",
   "language": "OCaml",
   "name": "ocaml-jupyter"
  },
  "language_info": {
   "codemirror_mode": "text/x-ocaml",
   "file_extension": ".ml",
   "mimetype": "text/x-ocaml",
   "name": "OCaml",
   "nbconverter_exporter": null,
   "pygments_lexer": "OCaml",
   "version": "4.04.2"
  },
  "toc": {
   "colors": {
    "hover_highlight": "#DAA520",
    "running_highlight": "#FF0000",
    "selected_highlight": "#FFD700"
   },
   "moveMenuLeft": true,
   "nav_menu": {
    "height": "289px",
    "width": "252px"
   },
   "navigate_menu": true,
   "number_sections": true,
   "sideBar": true,
   "threshold": 4,
   "toc_cell": true,
   "toc_position": {
    "height": "506px",
    "left": "0px",
    "right": "1031px",
    "top": "116px",
    "width": "249px"
   },
   "toc_section_display": "block",
   "toc_window_display": false
  }
 },
 "nbformat": 4,
 "nbformat_minor": 2
}
