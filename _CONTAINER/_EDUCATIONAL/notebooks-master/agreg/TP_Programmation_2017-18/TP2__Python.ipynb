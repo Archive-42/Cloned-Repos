{
 "cells": [
  {
   "cell_type": "markdown",
   "metadata": {
    "toc": "true"
   },
   "source": [
    "<h1>Table of Contents<span class=\"tocSkip\"></span></h1>\n",
    "<div class=\"toc\"><ul class=\"toc-item\"><li><span><a href=\"#TP-2---Programmation-pour-la-préparation-à-l'agrégation-maths-option-info\" data-toc-modified-id=\"TP-2---Programmation-pour-la-préparation-à-l'agrégation-maths-option-info-1\"><span class=\"toc-item-num\">1&nbsp;&nbsp;</span>TP 2 - Programmation pour la préparation à l'agrégation maths option info</a></span></li><li><span><a href=\"#Listes\" data-toc-modified-id=\"Listes-2\"><span class=\"toc-item-num\">2&nbsp;&nbsp;</span>Listes</a></span><ul class=\"toc-item\"><li><span><a href=\"#Exercice-1-:-taille\" data-toc-modified-id=\"Exercice-1-:-taille-2.1\"><span class=\"toc-item-num\">2.1&nbsp;&nbsp;</span>Exercice 1 : <code>taille</code></a></span></li><li><span><a href=\"#Exercice-2-:-concat\" data-toc-modified-id=\"Exercice-2-:-concat-2.2\"><span class=\"toc-item-num\">2.2&nbsp;&nbsp;</span>Exercice 2 : <code>concat</code></a></span></li><li><span><a href=\"#Exercice-3-:-appartient\" data-toc-modified-id=\"Exercice-3-:-appartient-2.3\"><span class=\"toc-item-num\">2.3&nbsp;&nbsp;</span>Exercice 3 : <code>appartient</code></a></span></li><li><span><a href=\"#Exercice-4-:-miroir\" data-toc-modified-id=\"Exercice-4-:-miroir-2.4\"><span class=\"toc-item-num\">2.4&nbsp;&nbsp;</span>Exercice 4 : <code>miroir</code></a></span></li><li><span><a href=\"#Exercice-5-:-alterne\" data-toc-modified-id=\"Exercice-5-:-alterne-2.5\"><span class=\"toc-item-num\">2.5&nbsp;&nbsp;</span>Exercice 5 : <code>alterne</code></a></span></li><li><span><a href=\"#Exercice-6-:-nb_occurrences\" data-toc-modified-id=\"Exercice-6-:-nb_occurrences-2.6\"><span class=\"toc-item-num\">2.6&nbsp;&nbsp;</span>Exercice 6 : <code>nb_occurrences</code></a></span></li><li><span><a href=\"#Exercice-7-:-pairs\" data-toc-modified-id=\"Exercice-7-:-pairs-2.7\"><span class=\"toc-item-num\">2.7&nbsp;&nbsp;</span>Exercice 7 : <code>pairs</code></a></span></li><li><span><a href=\"#Exercice-8-:-range\" data-toc-modified-id=\"Exercice-8-:-range-2.8\"><span class=\"toc-item-num\">2.8&nbsp;&nbsp;</span>Exercice 8 : <code>range</code></a></span></li><li><span><a href=\"#Exercice-9-:-premiers\" data-toc-modified-id=\"Exercice-9-:-premiers-2.9\"><span class=\"toc-item-num\">2.9&nbsp;&nbsp;</span>Exercice 9 : <code>premiers</code></a></span></li></ul></li><li><span><a href=\"#Listes-simplement-chaînée-(manuellement-définies)\" data-toc-modified-id=\"Listes-simplement-chaînée-(manuellement-définies)-3\"><span class=\"toc-item-num\">3&nbsp;&nbsp;</span>Listes simplement chaînée (manuellement définies)</a></span><ul class=\"toc-item\"><li><span><a href=\"#La-classe-ListeChainee\" data-toc-modified-id=\"La-classe-ListeChainee-3.1\"><span class=\"toc-item-num\">3.1&nbsp;&nbsp;</span>La classe <code>ListeChainee</code></a></span></li><li><span><a href=\"#Exercice-1-:-taille\" data-toc-modified-id=\"Exercice-1-:-taille-3.2\"><span class=\"toc-item-num\">3.2&nbsp;&nbsp;</span>Exercice 1 : <code>taille</code></a></span></li><li><span><a href=\"#Exercice-2-:-concat\" data-toc-modified-id=\"Exercice-2-:-concat-3.3\"><span class=\"toc-item-num\">3.3&nbsp;&nbsp;</span>Exercice 2 : <code>concat</code></a></span></li><li><span><a href=\"#Exercice-3-:-appartient\" data-toc-modified-id=\"Exercice-3-:-appartient-3.4\"><span class=\"toc-item-num\">3.4&nbsp;&nbsp;</span>Exercice 3 : <code>appartient</code></a></span></li><li><span><a href=\"#Exercice-4-:-miroir\" data-toc-modified-id=\"Exercice-4-:-miroir-3.5\"><span class=\"toc-item-num\">3.5&nbsp;&nbsp;</span>Exercice 4 : <code>miroir</code></a></span></li><li><span><a href=\"#Exercice-5-:-alterne\" data-toc-modified-id=\"Exercice-5-:-alterne-3.6\"><span class=\"toc-item-num\">3.6&nbsp;&nbsp;</span>Exercice 5 : <code>alterne</code></a></span></li><li><span><a href=\"#Exercice-6-:-nb_occurrences\" data-toc-modified-id=\"Exercice-6-:-nb_occurrences-3.7\"><span class=\"toc-item-num\">3.7&nbsp;&nbsp;</span>Exercice 6 : <code>nb_occurrences</code></a></span></li><li><span><a href=\"#Exercice-7-:-pairs\" data-toc-modified-id=\"Exercice-7-:-pairs-3.8\"><span class=\"toc-item-num\">3.8&nbsp;&nbsp;</span>Exercice 7 : <code>pairs</code></a></span></li><li><span><a href=\"#Exercice-8-:-range\" data-toc-modified-id=\"Exercice-8-:-range-3.9\"><span class=\"toc-item-num\">3.9&nbsp;&nbsp;</span>Exercice 8 : <code>range</code></a></span></li><li><span><a href=\"#Exercice-9-:-premiers\" data-toc-modified-id=\"Exercice-9-:-premiers-3.10\"><span class=\"toc-item-num\">3.10&nbsp;&nbsp;</span>Exercice 9 : <code>premiers</code></a></span></li></ul></li><li><span><a href=\"#Quelques-tris-par-comparaison\" data-toc-modified-id=\"Quelques-tris-par-comparaison-4\"><span class=\"toc-item-num\">4&nbsp;&nbsp;</span>Quelques tris par comparaison</a></span><ul class=\"toc-item\"><li><span><a href=\"#Exercice-10-:-Tri-insertion\" data-toc-modified-id=\"Exercice-10-:-Tri-insertion-4.1\"><span class=\"toc-item-num\">4.1&nbsp;&nbsp;</span>Exercice 10 : Tri insertion</a></span></li><li><span><a href=\"#Exercice-11-:-Tri-insertion-générique\" data-toc-modified-id=\"Exercice-11-:-Tri-insertion-générique-4.2\"><span class=\"toc-item-num\">4.2&nbsp;&nbsp;</span>Exercice 11 : Tri insertion générique</a></span></li><li><span><a href=\"#Exercice-12-:-Tri-selection\" data-toc-modified-id=\"Exercice-12-:-Tri-selection-4.3\"><span class=\"toc-item-num\">4.3&nbsp;&nbsp;</span>Exercice 12 : Tri selection</a></span></li><li><span><a href=\"#Exercices-13,-14,-15-:-Tri-fusion\" data-toc-modified-id=\"Exercices-13,-14,-15-:-Tri-fusion-4.4\"><span class=\"toc-item-num\">4.4&nbsp;&nbsp;</span>Exercices 13, 14, 15 : Tri fusion</a></span></li><li><span><a href=\"#Comparaisons\" data-toc-modified-id=\"Comparaisons-4.5\"><span class=\"toc-item-num\">4.5&nbsp;&nbsp;</span>Comparaisons</a></span></li></ul></li><li><span><a href=\"#Listes-:-l'ordre-supérieur\" data-toc-modified-id=\"Listes-:-l'ordre-supérieur-5\"><span class=\"toc-item-num\">5&nbsp;&nbsp;</span>Listes : l'ordre supérieur</a></span><ul class=\"toc-item\"><li><span><a href=\"#Exercice-16-:-applique\" data-toc-modified-id=\"Exercice-16-:-applique-5.1\"><span class=\"toc-item-num\">5.1&nbsp;&nbsp;</span>Exercice 16 : <code>applique</code></a></span></li><li><span><a href=\"#Exercice-17\" data-toc-modified-id=\"Exercice-17-5.2\"><span class=\"toc-item-num\">5.2&nbsp;&nbsp;</span>Exercice 17</a></span></li><li><span><a href=\"#Exercice-18-:-itere\" data-toc-modified-id=\"Exercice-18-:-itere-5.3\"><span class=\"toc-item-num\">5.3&nbsp;&nbsp;</span>Exercice 18 : <code>itere</code></a></span></li><li><span><a href=\"#Exercice-19\" data-toc-modified-id=\"Exercice-19-5.4\"><span class=\"toc-item-num\">5.4&nbsp;&nbsp;</span>Exercice 19</a></span></li><li><span><a href=\"#Exercice-20-:-qqsoit-et-ilexiste\" data-toc-modified-id=\"Exercice-20-:-qqsoit-et-ilexiste-5.5\"><span class=\"toc-item-num\">5.5&nbsp;&nbsp;</span>Exercice 20 : <code>qqsoit</code> et <code>ilexiste</code></a></span></li><li><span><a href=\"#Exercice-21-:-appartient-version-2\" data-toc-modified-id=\"Exercice-21-:-appartient-version-2-5.6\"><span class=\"toc-item-num\">5.6&nbsp;&nbsp;</span>Exercice 21 : <code>appartient</code> version 2</a></span></li><li><span><a href=\"#Exercice-22-:-filtre\" data-toc-modified-id=\"Exercice-22-:-filtre-5.7\"><span class=\"toc-item-num\">5.7&nbsp;&nbsp;</span>Exercice 22 : <code>filtre</code></a></span></li><li><span><a href=\"#Exercice-23\" data-toc-modified-id=\"Exercice-23-5.8\"><span class=\"toc-item-num\">5.8&nbsp;&nbsp;</span>Exercice 23</a></span></li><li><span><a href=\"#Exercice-24-:-reduit\" data-toc-modified-id=\"Exercice-24-:-reduit-5.9\"><span class=\"toc-item-num\">5.9&nbsp;&nbsp;</span>Exercice 24 : <code>reduit</code></a></span></li><li><span><a href=\"#Exercice-25-:-somme,-produit\" data-toc-modified-id=\"Exercice-25-:-somme,-produit-5.10\"><span class=\"toc-item-num\">5.10&nbsp;&nbsp;</span>Exercice 25 : <code>somme</code>, <code>produit</code></a></span></li><li><span><a href=\"#Exercice-26-:-miroir-version-2\" data-toc-modified-id=\"Exercice-26-:-miroir-version-2-5.11\"><span class=\"toc-item-num\">5.11&nbsp;&nbsp;</span>Exercice 26 : <code>miroir</code> version 2</a></span></li></ul></li><li><span><a href=\"#Arbres\" data-toc-modified-id=\"Arbres-6\"><span class=\"toc-item-num\">6&nbsp;&nbsp;</span>Arbres</a></span><ul class=\"toc-item\"><li><span><a href=\"#Exercice-27\" data-toc-modified-id=\"Exercice-27-6.1\"><span class=\"toc-item-num\">6.1&nbsp;&nbsp;</span>Exercice 27</a></span></li><li><span><a href=\"#Exercice-28\" data-toc-modified-id=\"Exercice-28-6.2\"><span class=\"toc-item-num\">6.2&nbsp;&nbsp;</span>Exercice 28</a></span></li><li><span><a href=\"#Exercice-29\" data-toc-modified-id=\"Exercice-29-6.3\"><span class=\"toc-item-num\">6.3&nbsp;&nbsp;</span>Exercice 29</a></span></li><li><span><a href=\"#Exercice-30\" data-toc-modified-id=\"Exercice-30-6.4\"><span class=\"toc-item-num\">6.4&nbsp;&nbsp;</span>Exercice 30</a></span></li></ul></li><li><span><a href=\"#Parcours-d'arbres-binaires\" data-toc-modified-id=\"Parcours-d'arbres-binaires-7\"><span class=\"toc-item-num\">7&nbsp;&nbsp;</span>Parcours d'arbres binaires</a></span><ul class=\"toc-item\"><li><span><a href=\"#Exercice-31\" data-toc-modified-id=\"Exercice-31-7.1\"><span class=\"toc-item-num\">7.1&nbsp;&nbsp;</span>Exercice 31</a></span></li><li><span><a href=\"#Exercice-32-:-Parcours-naifs-(complexité-quadratique)\" data-toc-modified-id=\"Exercice-32-:-Parcours-naifs-(complexité-quadratique)-7.2\"><span class=\"toc-item-num\">7.2&nbsp;&nbsp;</span>Exercice 32 : Parcours naifs (complexité quadratique)</a></span></li><li><span><a href=\"#Exercice-33-:-Parcours-linéaires\" data-toc-modified-id=\"Exercice-33-:-Parcours-linéaires-7.3\"><span class=\"toc-item-num\">7.3&nbsp;&nbsp;</span>Exercice 33 : Parcours linéaires</a></span></li><li><span><a href=\"#Exercice-34-:-parcours-en-largeur-et-en-profondeur\" data-toc-modified-id=\"Exercice-34-:-parcours-en-largeur-et-en-profondeur-7.4\"><span class=\"toc-item-num\">7.4&nbsp;&nbsp;</span>Exercice 34 : parcours en largeur et en profondeur</a></span></li><li><span><a href=\"#Exercice-35-et-fin\" data-toc-modified-id=\"Exercice-35-et-fin-7.5\"><span class=\"toc-item-num\">7.5&nbsp;&nbsp;</span>Exercice 35 et fin</a></span><ul class=\"toc-item\"><li><span><a href=\"#Reconstruction-depuis-le-parcours-prefixe\" data-toc-modified-id=\"Reconstruction-depuis-le-parcours-prefixe-7.5.1\"><span class=\"toc-item-num\">7.5.1&nbsp;&nbsp;</span>Reconstruction depuis le parcours prefixe</a></span></li><li><span><a href=\"#Reconstruction-depuis-le-parcours-en-largeur\" data-toc-modified-id=\"Reconstruction-depuis-le-parcours-en-largeur-7.5.2\"><span class=\"toc-item-num\">7.5.2&nbsp;&nbsp;</span>Reconstruction depuis le parcours en largeur</a></span></li></ul></li></ul></li><li><span><a href=\"#Conclusion\" data-toc-modified-id=\"Conclusion-8\"><span class=\"toc-item-num\">8&nbsp;&nbsp;</span>Conclusion</a></span></li></ul></div>"
   ]
  },
  {
   "cell_type": "markdown",
   "metadata": {},
   "source": [
    "# TP 2 - Programmation pour la préparation à l'agrégation maths option info\n",
    "- En Python, version 3."
   ]
  },
  {
   "cell_type": "code",
   "execution_count": 4,
   "metadata": {},
   "outputs": [
    {
     "name": "stdout",
     "output_type": "stream",
     "text": [
      "3.5.3 (default, Jan 19 2017, 14:11:04) \n",
      "[GCC 6.3.0 20170118]\n"
     ]
    }
   ],
   "source": [
    "from sys import version\n",
    "print(version)"
   ]
  },
  {
   "cell_type": "markdown",
   "metadata": {},
   "source": [
    "----\n",
    "# Listes\n",
    "Ces exercices sont un peu foireux : les \"*listes*\" en Python **ne sont pas des listes simplement chaînées** !"
   ]
  },
  {
   "cell_type": "markdown",
   "metadata": {},
   "source": [
    "## Exercice 1 : `taille`"
   ]
  },
  {
   "cell_type": "code",
   "execution_count": 12,
   "metadata": {},
   "outputs": [
    {
     "data": {
      "text/plain": [
       "0"
      ]
     },
     "execution_count": 12,
     "metadata": {},
     "output_type": "execute_result"
    },
    {
     "data": {
      "text/plain": [
       "3"
      ]
     },
     "execution_count": 12,
     "metadata": {},
     "output_type": "execute_result"
    }
   ],
   "source": [
    "from typing import TypeVar, List\n",
    "_a = TypeVar('alpha')\n",
    "\n",
    "def taille(liste : List[_a]) -> int:\n",
    "    longueur = 0\n",
    "    for _ in liste:\n",
    "        longueur += 1\n",
    "    return longueur\n",
    "\n",
    "taille([])\n",
    "taille([1, 2, 3])"
   ]
  },
  {
   "cell_type": "code",
   "execution_count": 7,
   "metadata": {},
   "outputs": [
    {
     "data": {
      "text/plain": [
       "0"
      ]
     },
     "execution_count": 7,
     "metadata": {},
     "output_type": "execute_result"
    },
    {
     "data": {
      "text/plain": [
       "3"
      ]
     },
     "execution_count": 7,
     "metadata": {},
     "output_type": "execute_result"
    }
   ],
   "source": [
    "len([])\n",
    "len([1, 2, 3])"
   ]
  },
  {
   "cell_type": "markdown",
   "metadata": {},
   "source": [
    "## Exercice 2 : `concat`"
   ]
  },
  {
   "cell_type": "code",
   "execution_count": 16,
   "metadata": {},
   "outputs": [],
   "source": [
    "from typing import TypeVar, List\n",
    "_a = TypeVar('alpha')\n",
    "\n",
    "def concatene(liste1 : List[_a], liste2 : List[_a]) -> List[_a]:\n",
    "    # return liste1 + liste2  # easy solution\n",
    "    liste = []\n",
    "    for i in liste1:\n",
    "        liste.append(i)\n",
    "    for i in liste2:\n",
    "        liste.append(i)\n",
    "    return liste"
   ]
  },
  {
   "cell_type": "code",
   "execution_count": 19,
   "metadata": {},
   "outputs": [
    {
     "data": {
      "text/plain": [
       "[1, 2, 3, 4]"
      ]
     },
     "execution_count": 19,
     "metadata": {},
     "output_type": "execute_result"
    },
    {
     "data": {
      "text/plain": [
       "[1, 2, 3, 4]"
      ]
     },
     "execution_count": 19,
     "metadata": {},
     "output_type": "execute_result"
    }
   ],
   "source": [
    "concatene([1, 2], [3, 4])\n",
    "[1, 2] + [3, 4]"
   ]
  },
  {
   "cell_type": "markdown",
   "metadata": {},
   "source": [
    "Mais attention le typage est toujours optionnel en Python :"
   ]
  },
  {
   "cell_type": "code",
   "execution_count": 20,
   "metadata": {},
   "outputs": [
    {
     "data": {
      "text/plain": [
       "[1, 2, 'pas', 'entier', '?']"
      ]
     },
     "execution_count": 20,
     "metadata": {},
     "output_type": "execute_result"
    }
   ],
   "source": [
    "concatene([1, 2], [\"pas\", \"entier\", \"?\"])"
   ]
  },
  {
   "cell_type": "markdown",
   "metadata": {},
   "source": [
    "## Exercice 3 : `appartient`"
   ]
  },
  {
   "cell_type": "code",
   "execution_count": 21,
   "metadata": {},
   "outputs": [
    {
     "data": {
      "text/plain": [
       "False"
      ]
     },
     "execution_count": 21,
     "metadata": {},
     "output_type": "execute_result"
    },
    {
     "data": {
      "text/plain": [
       "True"
      ]
     },
     "execution_count": 21,
     "metadata": {},
     "output_type": "execute_result"
    },
    {
     "data": {
      "text/plain": [
       "True"
      ]
     },
     "execution_count": 21,
     "metadata": {},
     "output_type": "execute_result"
    },
    {
     "data": {
      "text/plain": [
       "False"
      ]
     },
     "execution_count": 21,
     "metadata": {},
     "output_type": "execute_result"
    }
   ],
   "source": [
    "from typing import TypeVar, List\n",
    "_a = TypeVar('alpha')\n",
    "\n",
    "def appartient(x : _a, liste : List[_a]) -> bool:\n",
    "    for y in liste:\n",
    "        if x == y:\n",
    "            return True  # on stoppe avant la fin\n",
    "    return False\n",
    "\n",
    "appartient(1, [])\n",
    "appartient(1, [1])\n",
    "appartient(1, [1, 2, 3])\n",
    "appartient(4, [1, 2, 3])"
   ]
  },
  {
   "cell_type": "code",
   "execution_count": 22,
   "metadata": {},
   "outputs": [
    {
     "data": {
      "text/plain": [
       "False"
      ]
     },
     "execution_count": 22,
     "metadata": {},
     "output_type": "execute_result"
    },
    {
     "data": {
      "text/plain": [
       "True"
      ]
     },
     "execution_count": 22,
     "metadata": {},
     "output_type": "execute_result"
    },
    {
     "data": {
      "text/plain": [
       "True"
      ]
     },
     "execution_count": 22,
     "metadata": {},
     "output_type": "execute_result"
    },
    {
     "data": {
      "text/plain": [
       "False"
      ]
     },
     "execution_count": 22,
     "metadata": {},
     "output_type": "execute_result"
    }
   ],
   "source": [
    "1 in []\n",
    "1 in [1]\n",
    "1 in [1, 2, 3]\n",
    "4 in [1, 2, 3]"
   ]
  },
  {
   "cell_type": "markdown",
   "metadata": {},
   "source": [
    "Notre implémentation est évidemment plus lente que le test `x in liste` de la librarie standard...\n",
    "Mais pas tant :"
   ]
  },
  {
   "cell_type": "code",
   "execution_count": 23,
   "metadata": {},
   "outputs": [
    {
     "name": "stdout",
     "output_type": "stream",
     "text": [
      "173 µs ± 4.68 µs per loop (mean ± std. dev. of 7 runs, 10000 loops each)\n",
      "166 µs ± 6.56 µs per loop (mean ± std. dev. of 7 runs, 10000 loops each)\n"
     ]
    }
   ],
   "source": [
    "%timeit appartient(1000, list(range(10000)))\n",
    "%timeit 1000 in list(range(10000))"
   ]
  },
  {
   "cell_type": "markdown",
   "metadata": {},
   "source": [
    "## Exercice 4 : `miroir`"
   ]
  },
  {
   "cell_type": "code",
   "execution_count": 26,
   "metadata": {},
   "outputs": [],
   "source": [
    "from typing import TypeVar, List\n",
    "_a = TypeVar('alpha')\n",
    "\n",
    "def miroir(liste : List[_a]) -> List[_a]:\n",
    "    # return liste[::-1]  # version facile\n",
    "    liste2 = []\n",
    "    for x in liste:\n",
    "        liste2.insert(0, x)\n",
    "    return liste2"
   ]
  },
  {
   "cell_type": "code",
   "execution_count": 28,
   "metadata": {
    "scrolled": true
   },
   "outputs": [
    {
     "data": {
      "text/plain": [
       "[11, 7, 5, 3, 2]"
      ]
     },
     "execution_count": 28,
     "metadata": {},
     "output_type": "execute_result"
    },
    {
     "data": {
      "text/plain": [
       "[11, 7, 5, 3, 2]"
      ]
     },
     "execution_count": 28,
     "metadata": {},
     "output_type": "execute_result"
    }
   ],
   "source": [
    "miroir([2, 3, 5, 7, 11])\n",
    "[2, 3, 5, 7, 11][::-1]"
   ]
  },
  {
   "cell_type": "code",
   "execution_count": 29,
   "metadata": {},
   "outputs": [
    {
     "name": "stdout",
     "output_type": "stream",
     "text": [
      "968 ns ± 67.4 ns per loop (mean ± std. dev. of 7 runs, 1000000 loops each)\n",
      "216 ns ± 8.77 ns per loop (mean ± std. dev. of 7 runs, 1000000 loops each)\n"
     ]
    }
   ],
   "source": [
    "%timeit miroir([2, 3, 5, 7, 11])\n",
    "%timeit [2, 3, 5, 7, 11][::-1]"
   ]
  },
  {
   "cell_type": "markdown",
   "metadata": {},
   "source": [
    "## Exercice 5 : `alterne`"
   ]
  },
  {
   "cell_type": "markdown",
   "metadata": {},
   "source": [
    "La sémantique n'était pas très claire, mais on peut imaginer quelque chose comme ça :"
   ]
  },
  {
   "cell_type": "code",
   "execution_count": 30,
   "metadata": {},
   "outputs": [],
   "source": [
    "from typing import TypeVar, List\n",
    "_a = TypeVar('alpha')\n",
    "\n",
    "def alterne(liste1 : List[_a], liste2 : List[_a]) -> List[_a]:\n",
    "    liste3 = []\n",
    "    i, j = 0, 0\n",
    "    n, m = len(liste1), len(liste2)\n",
    "    while i < n and j < m:  # encore deux\n",
    "        liste3.append(liste1[i])\n",
    "        i += 1\n",
    "        liste3.append(liste2[j])\n",
    "        j += 1\n",
    "    while i < n:  # si n > m\n",
    "        liste3.append(liste1[i])\n",
    "        i += 1\n",
    "    while j < m:  # ou si n < m\n",
    "        liste3.append(liste2[j])\n",
    "        j += 1\n",
    "    return liste3"
   ]
  },
  {
   "cell_type": "code",
   "execution_count": 31,
   "metadata": {},
   "outputs": [
    {
     "data": {
      "text/plain": [
       "[3, 2, 5, 4, 6]"
      ]
     },
     "execution_count": 31,
     "metadata": {},
     "output_type": "execute_result"
    },
    {
     "data": {
      "text/plain": [
       "[1, 2, 3, 4, 5, 6]"
      ]
     },
     "execution_count": 31,
     "metadata": {},
     "output_type": "execute_result"
    },
    {
     "data": {
      "text/plain": [
       "[1, 4, 3, 6, 5]"
      ]
     },
     "execution_count": 31,
     "metadata": {},
     "output_type": "execute_result"
    }
   ],
   "source": [
    "alterne([3, 5], [2, 4, 6])\n",
    "alterne([1, 3, 5], [2, 4, 6])\n",
    "alterne([1, 3, 5], [4, 6])"
   ]
  },
  {
   "cell_type": "markdown",
   "metadata": {},
   "source": [
    "La complexité est linéaire en $\\mathcal{O}(\\max(|\\text{liste 1}|, |\\text{liste 2}|)$."
   ]
  },
  {
   "cell_type": "markdown",
   "metadata": {},
   "source": [
    "## Exercice 6 : `nb_occurrences`"
   ]
  },
  {
   "cell_type": "code",
   "execution_count": 32,
   "metadata": {},
   "outputs": [
    {
     "data": {
      "text/plain": [
       "0"
      ]
     },
     "execution_count": 32,
     "metadata": {},
     "output_type": "execute_result"
    },
    {
     "data": {
      "text/plain": [
       "1"
      ]
     },
     "execution_count": 32,
     "metadata": {},
     "output_type": "execute_result"
    },
    {
     "data": {
      "text/plain": [
       "3"
      ]
     },
     "execution_count": 32,
     "metadata": {},
     "output_type": "execute_result"
    },
    {
     "data": {
      "text/plain": [
       "0"
      ]
     },
     "execution_count": 32,
     "metadata": {},
     "output_type": "execute_result"
    }
   ],
   "source": [
    "from typing import TypeVar, List\n",
    "_a = TypeVar('alpha')\n",
    "\n",
    "def nb_occurrences(x : _a, liste : List[_a]) -> int:\n",
    "    nb = 0\n",
    "    for y in liste:\n",
    "        if x == y:\n",
    "            nb += 1\n",
    "    return nb\n",
    "\n",
    "nb_occurrences(0, [1, 2, 3, 4])\n",
    "nb_occurrences(2, [1, 2, 3, 4])\n",
    "nb_occurrences(2, [1, 2, 2, 3, 2, 4])\n",
    "nb_occurrences(5, [1, 2, 3, 4])"
   ]
  },
  {
   "cell_type": "markdown",
   "metadata": {},
   "source": [
    "## Exercice 7 : `pairs`\n",
    "\n",
    "C'est un filtrage :"
   ]
  },
  {
   "cell_type": "code",
   "execution_count": 33,
   "metadata": {
    "collapsed": true
   },
   "outputs": [],
   "source": [
    "filter?"
   ]
  },
  {
   "cell_type": "code",
   "execution_count": 36,
   "metadata": {},
   "outputs": [],
   "source": [
    "from typing import List\n",
    "\n",
    "def pairs(liste : List[int]) -> List[int]:\n",
    "    # return list(filter(lambda x : x % 2 == 0, liste))\n",
    "    return [x for x in liste if x % 2 == 0]"
   ]
  },
  {
   "cell_type": "code",
   "execution_count": 37,
   "metadata": {},
   "outputs": [
    {
     "data": {
      "text/plain": [
       "[2, 4, 6]"
      ]
     },
     "execution_count": 37,
     "metadata": {},
     "output_type": "execute_result"
    },
    {
     "data": {
      "text/plain": [
       "[2, 4, 6, 100000]"
      ]
     },
     "execution_count": 37,
     "metadata": {},
     "output_type": "execute_result"
    },
    {
     "data": {
      "text/plain": [
       "[2, 4, 6, 100000000000]"
      ]
     },
     "execution_count": 37,
     "metadata": {},
     "output_type": "execute_result"
    },
    {
     "data": {
      "text/plain": [
       "[2, 4, 6, 1000000000000000000]"
      ]
     },
     "execution_count": 37,
     "metadata": {},
     "output_type": "execute_result"
    }
   ],
   "source": [
    "pairs([1, 2, 3, 4, 5, 6])\n",
    "pairs([1, 2, 3, 4, 5, 6, 7, 100000])\n",
    "pairs([1, 2, 3, 4, 5, 6, 7, 100000000000])\n",
    "pairs([1, 2, 3, 4, 5, 6, 7, 1000000000000000000])"
   ]
  },
  {
   "cell_type": "markdown",
   "metadata": {},
   "source": [
    "## Exercice 8 : `range`"
   ]
  },
  {
   "cell_type": "code",
   "execution_count": 84,
   "metadata": {},
   "outputs": [],
   "source": [
    "from typing import List\n",
    "\n",
    "def myrange(n : int) -> List[int]:\n",
    "    liste = []\n",
    "    i = 1\n",
    "    while i <= n:\n",
    "        liste.append(i)\n",
    "        i += 1\n",
    "    return liste"
   ]
  },
  {
   "cell_type": "code",
   "execution_count": 85,
   "metadata": {},
   "outputs": [
    {
     "data": {
      "text/plain": [
       "[1, 2, 3, 4]"
      ]
     },
     "execution_count": 85,
     "metadata": {},
     "output_type": "execute_result"
    }
   ],
   "source": [
    "myrange(4)"
   ]
  },
  {
   "cell_type": "code",
   "execution_count": 47,
   "metadata": {
    "collapsed": true
   },
   "outputs": [],
   "source": [
    "from typing import List\n",
    "\n",
    "def intervale(a : int, b : int=None) -> List[int]:\n",
    "    if b == None:\n",
    "        a, b = 1, a\n",
    "    liste = []\n",
    "    i = a\n",
    "    while i <= b:\n",
    "        liste.append(i)\n",
    "        i += 1\n",
    "    return liste"
   ]
  },
  {
   "cell_type": "code",
   "execution_count": 48,
   "metadata": {},
   "outputs": [
    {
     "data": {
      "text/plain": [
       "[1, 2, 3, 4, 5, 6, 7, 8, 9, 10]"
      ]
     },
     "execution_count": 48,
     "metadata": {},
     "output_type": "execute_result"
    },
    {
     "data": {
      "text/plain": [
       "[1, 2, 3, 4]"
      ]
     },
     "execution_count": 48,
     "metadata": {},
     "output_type": "execute_result"
    }
   ],
   "source": [
    "intervale(10)\n",
    "intervale(1, 4)"
   ]
  },
  {
   "cell_type": "markdown",
   "metadata": {},
   "source": [
    "## Exercice 9 : `premiers`\n",
    "Plusieurs possibilités. Un filtre d'Erathosthène marche bien, ou une filtration.\n",
    "Je ne vais pas utiliser de tableaux donc on est un peu réduit d'utiliser une filtration (filtrage ? *pattern matching*)"
   ]
  },
  {
   "cell_type": "code",
   "execution_count": 77,
   "metadata": {},
   "outputs": [
    {
     "data": {
      "text/plain": [
       "1"
      ]
     },
     "execution_count": 77,
     "metadata": {},
     "output_type": "execute_result"
    },
    {
     "data": {
      "text/plain": [
       "2"
      ]
     },
     "execution_count": 77,
     "metadata": {},
     "output_type": "execute_result"
    },
    {
     "data": {
      "text/plain": [
       "10"
      ]
     },
     "execution_count": 77,
     "metadata": {},
     "output_type": "execute_result"
    },
    {
     "data": {
      "text/plain": [
       "346"
      ]
     },
     "execution_count": 77,
     "metadata": {},
     "output_type": "execute_result"
    }
   ],
   "source": [
    "def racine(n : int) -> int:\n",
    "    i = 1\n",
    "    for i in range(n + 1):\n",
    "        if i*i > n:\n",
    "            return i - 1\n",
    "    return i\n",
    "\n",
    "racine(1)\n",
    "racine(5)\n",
    "racine(102)\n",
    "racine(120031)"
   ]
  },
  {
   "cell_type": "code",
   "execution_count": 78,
   "metadata": {},
   "outputs": [],
   "source": [
    "from typing import List\n",
    "\n",
    "def intervale2(a : int, b : int, pas : int=1) -> List[int]:\n",
    "    assert pas > 0\n",
    "    liste = []\n",
    "    i = a\n",
    "    while i <= b:\n",
    "        liste.append(i)\n",
    "        i += pas\n",
    "    return liste"
   ]
  },
  {
   "cell_type": "code",
   "execution_count": 79,
   "metadata": {},
   "outputs": [
    {
     "data": {
      "text/plain": [
       "[2, 3, 4, 5, 6, 7, 8, 9, 10, 11, 12]"
      ]
     },
     "execution_count": 79,
     "metadata": {},
     "output_type": "execute_result"
    },
    {
     "data": {
      "text/plain": [
       "[2, 5, 8, 11]"
      ]
     },
     "execution_count": 79,
     "metadata": {},
     "output_type": "execute_result"
    }
   ],
   "source": [
    "intervale2(2, 12, 1)\n",
    "intervale2(2, 12, 3)"
   ]
  },
  {
   "cell_type": "markdown",
   "metadata": {},
   "source": [
    "Une version purement fonctionnelle est moins facile qu'une version impérative avec une référence booléenne."
   ]
  },
  {
   "cell_type": "code",
   "execution_count": 80,
   "metadata": {},
   "outputs": [],
   "source": [
    "def estDivisible(n : int, k : int) -> bool:\n",
    "    return (n % k) == 0"
   ]
  },
  {
   "cell_type": "code",
   "execution_count": 81,
   "metadata": {},
   "outputs": [
    {
     "data": {
      "text/plain": [
       "True"
      ]
     },
     "execution_count": 81,
     "metadata": {},
     "output_type": "execute_result"
    },
    {
     "data": {
      "text/plain": [
       "False"
      ]
     },
     "execution_count": 81,
     "metadata": {},
     "output_type": "execute_result"
    },
    {
     "data": {
      "text/plain": [
       "False"
      ]
     },
     "execution_count": 81,
     "metadata": {},
     "output_type": "execute_result"
    },
    {
     "data": {
      "text/plain": [
       "True"
      ]
     },
     "execution_count": 81,
     "metadata": {},
     "output_type": "execute_result"
    }
   ],
   "source": [
    "estDivisible(10, 2)\n",
    "estDivisible(10, 3)\n",
    "estDivisible(10, 4)\n",
    "estDivisible(10, 5)"
   ]
  },
  {
   "cell_type": "code",
   "execution_count": 107,
   "metadata": {
    "collapsed": true
   },
   "outputs": [],
   "source": [
    "def estPremier(n : int) -> bool:\n",
    "    return (n == 2) or (n == 3) or not any(map(lambda k: estDivisible(n, k), intervale2(2, racine(n), 1)))"
   ]
  },
  {
   "cell_type": "code",
   "execution_count": 108,
   "metadata": {},
   "outputs": [
    {
     "name": "stdout",
     "output_type": "stream",
     "text": [
      "2 []\n",
      "3 []\n",
      "4 [True]\n",
      "5 [False]\n",
      "6 [True]\n",
      "7 [False]\n",
      "8 [True]\n",
      "9 [False, True]\n",
      "10 [True, False]\n",
      "11 [False, False]\n",
      "12 [True, True]\n",
      "13 [False, False]\n",
      "14 [True, False]\n",
      "15 [False, True]\n",
      "16 [True, False, True]\n",
      "17 [False, False, False]\n",
      "18 [True, True, False]\n",
      "19 [False, False, False]\n"
     ]
    }
   ],
   "source": [
    "for n in range(2, 20):\n",
    "    print(n, list(map(lambda k: estDivisible(n, k), intervale2(2, racine(n), 1))))"
   ]
  },
  {
   "cell_type": "code",
   "execution_count": 109,
   "metadata": {},
   "outputs": [],
   "source": [
    "from typing import List\n",
    "\n",
    "def premiers(n : int) -> List[int]:\n",
    "    return [p for p in intervale2(2, n, 1) if estPremier(p)]"
   ]
  },
  {
   "cell_type": "code",
   "execution_count": 110,
   "metadata": {},
   "outputs": [
    {
     "data": {
      "text/plain": [
       "[2, 3, 5, 7]"
      ]
     },
     "execution_count": 110,
     "metadata": {},
     "output_type": "execute_result"
    }
   ],
   "source": [
    "premiers(10)"
   ]
  },
  {
   "cell_type": "code",
   "execution_count": 111,
   "metadata": {
    "scrolled": true
   },
   "outputs": [
    {
     "data": {
      "text/plain": [
       "[2,\n",
       " 3,\n",
       " 5,\n",
       " 7,\n",
       " 11,\n",
       " 13,\n",
       " 17,\n",
       " 19,\n",
       " 23,\n",
       " 29,\n",
       " 31,\n",
       " 37,\n",
       " 41,\n",
       " 43,\n",
       " 47,\n",
       " 53,\n",
       " 59,\n",
       " 61,\n",
       " 67,\n",
       " 71,\n",
       " 73,\n",
       " 79,\n",
       " 83,\n",
       " 89,\n",
       " 97]"
      ]
     },
     "execution_count": 111,
     "metadata": {},
     "output_type": "execute_result"
    }
   ],
   "source": [
    "premiers(100)"
   ]
  },
  {
   "cell_type": "markdown",
   "metadata": {},
   "source": [
    "----\n",
    "# Listes simplement chaînée (manuellement définies)\n",
    "\n",
    "Comme ces exercices étaient un peu foireux à écrire avec les \"*listes*\" de Python, qui **ne sont pas des listes simplement chaînées**, je propose une autre solution où l'on va définir une petite classe qui représentera une liste simplement chaînée, et on va écrire les fonctions demandées avec cette classe."
   ]
  },
  {
   "cell_type": "markdown",
   "metadata": {},
   "source": [
    "## La classe `ListeChainee`\n",
    "\n",
    "On va supposer que les listes que l'on représentera ne contiendront pas la valeur `None`, qui est utilisée pour représenter l'absence de tête et/ou de queue de la liste."
   ]
  },
  {
   "cell_type": "code",
   "execution_count": 173,
   "metadata": {
    "ExecuteTime": {
     "end_time": "2020-10-04T12:25:40.865600Z",
     "start_time": "2020-10-04T12:25:40.857543Z"
    }
   },
   "outputs": [],
   "source": [
    "class ListeChainee():\n",
    "    def __init__(self, hd=None, tl=None):\n",
    "        self.hd = hd\n",
    "        self.tl = tl\n",
    "    \n",
    "    def __repr__(self) -> str:\n",
    "        if self.tl is None:\n",
    "            if self.hd is None:\n",
    "                return \"[]\"\n",
    "            else:\n",
    "                return f\"{self.hd} :: []\"\n",
    "        else:\n",
    "            return f\"{self.hd} :: {self.tl}\"\n",
    "    \n",
    "    def jolie(self) -> str:\n",
    "        if self.tl is None:\n",
    "            if self.hd is None:\n",
    "                return \"[]\"\n",
    "            else:\n",
    "                return f\"[{self.hd}]\"\n",
    "        else:\n",
    "            j = self.tl.jolie()\n",
    "            j = j.replace(\"[\", \"\").replace(\"]\", \"\")\n",
    "            if j == \"\":\n",
    "                return f\"[{self.hd}]\"\n",
    "            else:\n",
    "                return f\"[{self.hd}, {j}]\""
   ]
  },
  {
   "cell_type": "code",
   "execution_count": 174,
   "metadata": {
    "ExecuteTime": {
     "end_time": "2020-10-04T12:25:41.260491Z",
     "start_time": "2020-10-04T12:25:41.257129Z"
    }
   },
   "outputs": [],
   "source": [
    "# équivalent à :: en OCaml\n",
    "def insert(hd, tl: ListeChainee) -> ListeChainee:\n",
    "    \"\"\" Insère hd en début de la liste chainée tl.\"\"\"\n",
    "    return ListeChainee(hd=hd, tl=tl)"
   ]
  },
  {
   "cell_type": "code",
   "execution_count": 175,
   "metadata": {
    "ExecuteTime": {
     "end_time": "2020-10-04T12:25:41.516596Z",
     "start_time": "2020-10-04T12:25:41.513289Z"
    }
   },
   "outputs": [],
   "source": [
    "# liste vide, puis des listes plus grandes\n",
    "vide = ListeChainee()   # []\n",
    "l_1   = insert(1, vide)  # 1 :: [] ~= [1]\n",
    "l_12  = insert(2, l_1)   # 2 :: 1 :: [] ~= [2, 1]\n",
    "l_123 = insert(3, l_12)  # 3 :: 2 :: 1 :: []"
   ]
  },
  {
   "cell_type": "code",
   "execution_count": 176,
   "metadata": {
    "ExecuteTime": {
     "end_time": "2020-10-04T12:25:41.731901Z",
     "start_time": "2020-10-04T12:25:41.727497Z"
    }
   },
   "outputs": [
    {
     "name": "stdout",
     "output_type": "stream",
     "text": [
      "[]\n",
      "1 :: []\n",
      "2 :: 1 :: []\n",
      "3 :: 2 :: 1 :: []\n"
     ]
    }
   ],
   "source": [
    "print(vide)     # []\n",
    "print(l_1)      # 1 :: []\n",
    "print(l_12)     # 2 :: 1 :: []\n",
    "print(l_123)    # 3 :: 2 :: 1 :: []"
   ]
  },
  {
   "cell_type": "code",
   "execution_count": 177,
   "metadata": {
    "ExecuteTime": {
     "end_time": "2020-10-04T12:25:42.131684Z",
     "start_time": "2020-10-04T12:25:42.127587Z"
    }
   },
   "outputs": [
    {
     "name": "stdout",
     "output_type": "stream",
     "text": [
      "[]\n",
      "[1]\n",
      "[2, 1]\n",
      "[3, 2, 1]\n"
     ]
    }
   ],
   "source": [
    "print(vide.jolie())     # []\n",
    "print(l_1.jolie())      # [1]\n",
    "print(l_12.jolie())     # [2, 1]\n",
    "print(l_123.jolie())    # [3, 2, 1]"
   ]
  },
  {
   "cell_type": "markdown",
   "metadata": {},
   "source": [
    "## Exercice 1 : `taille`\n",
    "\n",
    "Par exemple la longueur sera bien en O(n) si n=taille(liste) avec cette approche récursive :"
   ]
  },
  {
   "cell_type": "code",
   "execution_count": 149,
   "metadata": {
    "ExecuteTime": {
     "end_time": "2020-10-04T12:21:59.093671Z",
     "start_time": "2020-10-04T12:21:59.089408Z"
    }
   },
   "outputs": [],
   "source": [
    "from typing import Optional"
   ]
  },
  {
   "cell_type": "code",
   "execution_count": 150,
   "metadata": {
    "ExecuteTime": {
     "end_time": "2020-10-04T12:21:59.245436Z",
     "start_time": "2020-10-04T12:21:59.242080Z"
    }
   },
   "outputs": [],
   "source": [
    "def taille(liste: Optional[ListeChainee]) -> int:\n",
    "    if liste is None:\n",
    "        return 0\n",
    "    elif liste.tl is None:\n",
    "        return 0 if liste.hd is None else 1\n",
    "    return 1 + taille(liste.tl)"
   ]
  },
  {
   "cell_type": "code",
   "execution_count": 151,
   "metadata": {
    "ExecuteTime": {
     "end_time": "2020-10-04T12:21:59.925025Z",
     "start_time": "2020-10-04T12:21:59.920918Z"
    }
   },
   "outputs": [
    {
     "name": "stdout",
     "output_type": "stream",
     "text": [
      "0\n",
      "1\n",
      "2\n",
      "3\n"
     ]
    }
   ],
   "source": [
    "print(taille(vide))   # 0\n",
    "print(taille(l_1))    # 1\n",
    "print(taille(l_12))   # 2\n",
    "print(taille(l_123))  # 3"
   ]
  },
  {
   "cell_type": "markdown",
   "metadata": {},
   "source": [
    "## Exercice 2 : `concat`\n",
    "\n",
    "Je vais déjà commencer par écrire une fonction `copy` qui permet de copier récursivement une liste simplement chaînée, pour être sûr que l'on ne modifie pas en place une des listes données en argument."
   ]
  },
  {
   "cell_type": "code",
   "execution_count": 152,
   "metadata": {
    "ExecuteTime": {
     "end_time": "2020-10-04T12:22:01.296021Z",
     "start_time": "2020-10-04T12:22:01.289459Z"
    }
   },
   "outputs": [],
   "source": [
    "def copy(liste: ListeChainee) -> ListeChainee:\n",
    "    if liste.tl is None:\n",
    "        return ListeChainee(hd=liste.hd, tl=None)\n",
    "    else:\n",
    "        return ListeChainee(hd=liste.hd, tl=copy(liste.tl))"
   ]
  },
  {
   "cell_type": "markdown",
   "metadata": {},
   "source": [
    "On peut vérifier que cela marche en regardant, par exemple, l'`id` de deux objets si le deuxième est une copie du premier : les `id` seront bien différents."
   ]
  },
  {
   "cell_type": "code",
   "execution_count": 153,
   "metadata": {
    "ExecuteTime": {
     "end_time": "2020-10-04T12:22:01.688981Z",
     "start_time": "2020-10-04T12:22:01.684274Z"
    }
   },
   "outputs": [
    {
     "name": "stdout",
     "output_type": "stream",
     "text": [
      "140493199182984\n",
      "140493191884136\n"
     ]
    }
   ],
   "source": [
    "print(id(vide))\n",
    "print(id(copy(vide)))"
   ]
  },
  {
   "cell_type": "markdown",
   "metadata": {},
   "source": [
    "Et donc pour concaténer deux chaînes, c'est facile :"
   ]
  },
  {
   "cell_type": "code",
   "execution_count": 154,
   "metadata": {
    "ExecuteTime": {
     "end_time": "2020-10-04T12:22:44.552056Z",
     "start_time": "2020-10-04T12:22:44.545530Z"
    }
   },
   "outputs": [],
   "source": [
    "def concat(liste1: ListeChainee, liste2: ListeChainee) -> ListeChainee:\n",
    "    if taille(liste1) == 0:\n",
    "        return liste2\n",
    "    elif taille(liste2) == 0:\n",
    "        return liste1\n",
    "    # nouvelle liste : comme ça changer queue.tl ne modifie PAS liste1\n",
    "    resultat = copy(liste1)\n",
    "    queue = resultat\n",
    "    while taille(queue.tl) > 0:\n",
    "        queue = queue.tl\n",
    "    assert taille(queue.tl) == 0\n",
    "    queue.tl = ListeChainee(hd=liste2.hd, tl=liste2.tl)\n",
    "    return resultat"
   ]
  },
  {
   "cell_type": "code",
   "execution_count": 156,
   "metadata": {
    "ExecuteTime": {
     "end_time": "2020-10-04T12:22:52.388624Z",
     "start_time": "2020-10-04T12:22:52.384334Z"
    },
    "scrolled": true
   },
   "outputs": [
    {
     "name": "stdout",
     "output_type": "stream",
     "text": [
      "1 :: []\n",
      "[]\n",
      "1 :: []\n"
     ]
    }
   ],
   "source": [
    "print(concat(vide, l_1))\n",
    "print(vide)  # pas modifiée : []\n",
    "print(l_1)   # pas modifiée : 1 :: []"
   ]
  },
  {
   "cell_type": "code",
   "execution_count": 135,
   "metadata": {
    "ExecuteTime": {
     "end_time": "2020-10-04T12:16:54.979844Z",
     "start_time": "2020-10-04T12:16:54.974860Z"
    }
   },
   "outputs": [
    {
     "data": {
      "text/plain": [
       "1 :: 2 :: 1 :: []"
      ]
     },
     "execution_count": 135,
     "metadata": {},
     "output_type": "execute_result"
    }
   ],
   "source": [
    "concat(l_1, l_12)  # 1 :: 2 :: 1 :: []"
   ]
  },
  {
   "cell_type": "code",
   "execution_count": 136,
   "metadata": {
    "ExecuteTime": {
     "end_time": "2020-10-04T12:16:55.409074Z",
     "start_time": "2020-10-04T12:16:55.403267Z"
    }
   },
   "outputs": [
    {
     "data": {
      "text/plain": [
       "1 :: 3 :: 2 :: 1 :: []"
      ]
     },
     "execution_count": 136,
     "metadata": {},
     "output_type": "execute_result"
    }
   ],
   "source": [
    "concat(l_1, l_123)  # 1 :: 3 :: 2 :: 1 :: []"
   ]
  },
  {
   "cell_type": "code",
   "execution_count": 137,
   "metadata": {
    "ExecuteTime": {
     "end_time": "2020-10-04T12:16:55.783262Z",
     "start_time": "2020-10-04T12:16:55.777894Z"
    }
   },
   "outputs": [
    {
     "data": {
      "text/plain": [
       "1 :: []"
      ]
     },
     "execution_count": 137,
     "metadata": {},
     "output_type": "execute_result"
    }
   ],
   "source": [
    "concat(l_1, vide)   # 1 :: []"
   ]
  },
  {
   "cell_type": "code",
   "execution_count": 138,
   "metadata": {
    "ExecuteTime": {
     "end_time": "2020-10-04T12:16:57.499534Z",
     "start_time": "2020-10-04T12:16:57.495976Z"
    }
   },
   "outputs": [
    {
     "data": {
      "text/plain": [
       "2 :: 1 :: []"
      ]
     },
     "execution_count": 138,
     "metadata": {},
     "output_type": "execute_result"
    }
   ],
   "source": [
    "concat(l_12, vide)   # 2 :: 1 :: []"
   ]
  },
  {
   "cell_type": "code",
   "execution_count": 139,
   "metadata": {
    "ExecuteTime": {
     "end_time": "2020-10-04T12:16:57.885606Z",
     "start_time": "2020-10-04T12:16:57.880290Z"
    }
   },
   "outputs": [
    {
     "data": {
      "text/plain": [
       "2 :: 1 :: 1 :: []"
      ]
     },
     "execution_count": 139,
     "metadata": {},
     "output_type": "execute_result"
    }
   ],
   "source": [
    "concat(l_12, l_1)   # 2 :: 1 :: 1 :: []"
   ]
  },
  {
   "cell_type": "code",
   "execution_count": 140,
   "metadata": {
    "ExecuteTime": {
     "end_time": "2020-10-04T12:16:58.416823Z",
     "start_time": "2020-10-04T12:16:58.412147Z"
    }
   },
   "outputs": [
    {
     "data": {
      "text/plain": [
       "3 :: 2 :: 1 :: 3 :: 2 :: 1 :: []"
      ]
     },
     "execution_count": 140,
     "metadata": {},
     "output_type": "execute_result"
    }
   ],
   "source": [
    "concat(l_123, l_123)   # 3 :: 2 :: 1 :: 3 :: 2 :: 1 :: []"
   ]
  },
  {
   "cell_type": "markdown",
   "metadata": {},
   "source": [
    "## Exercice 3 : `appartient`\n",
    "\n",
    "C'est en complexité linéaire dans le pire des cas."
   ]
  },
  {
   "cell_type": "code",
   "execution_count": 141,
   "metadata": {
    "ExecuteTime": {
     "end_time": "2020-10-04T12:17:03.023082Z",
     "start_time": "2020-10-04T12:17:03.019639Z"
    }
   },
   "outputs": [],
   "source": [
    "def appartient(x, liste: ListeChainee) -> bool:\n",
    "    if liste.hd is None:\n",
    "        return False\n",
    "    else:\n",
    "        if liste.hd == x:\n",
    "            return True\n",
    "        else:\n",
    "            return appartient(x, liste.tl)"
   ]
  },
  {
   "cell_type": "code",
   "execution_count": 144,
   "metadata": {
    "ExecuteTime": {
     "end_time": "2020-10-04T12:18:03.499547Z",
     "start_time": "2020-10-04T12:18:03.491710Z"
    }
   },
   "outputs": [],
   "source": [
    "assert appartient(0, vide)  == False\n",
    "assert appartient(0, l_1)   == False\n",
    "assert appartient(0, l_12)  == False\n",
    "assert appartient(0, l_123) == False\n",
    "assert appartient(1, l_1)   == True\n",
    "assert appartient(1, l_12)  == True\n",
    "assert appartient(1, l_123) == True\n",
    "assert appartient(2, l_1)   == False\n",
    "assert appartient(2, l_12)  == True\n",
    "assert appartient(2, l_123) == True\n",
    "assert appartient(3, l_1)   == False\n",
    "assert appartient(3, l_12)  == False\n",
    "assert appartient(3, l_123) == True"
   ]
  },
  {
   "cell_type": "markdown",
   "metadata": {},
   "source": [
    "## Exercice 4 : `miroir`\n",
    "\n",
    "Ce sera en temps quadratique, à cause de toutes les recopies :"
   ]
  },
  {
   "cell_type": "code",
   "execution_count": 178,
   "metadata": {
    "ExecuteTime": {
     "end_time": "2020-10-04T12:26:30.547289Z",
     "start_time": "2020-10-04T12:26:30.542181Z"
    }
   },
   "outputs": [],
   "source": [
    "def miroir(liste: ListeChainee) -> ListeChainee:\n",
    "    if taille(liste) <= 1:\n",
    "        return copy(liste)\n",
    "    else:\n",
    "        hd, tl = liste.hd, copy(liste.tl)  # O(n)\n",
    "        juste_hd = ListeChainee(hd=hd, tl=None)  # O(1)\n",
    "        return concat(miroir(tl), juste_hd)  # O(n^2) + O(n) à cause de concat"
   ]
  },
  {
   "cell_type": "code",
   "execution_count": 255,
   "metadata": {
    "ExecuteTime": {
     "end_time": "2020-10-04T13:03:36.082636Z",
     "start_time": "2020-10-04T13:03:36.079227Z"
    }
   },
   "outputs": [
    {
     "name": "stdout",
     "output_type": "stream",
     "text": [
      "[]\n",
      "1 :: []\n",
      "1 :: 2 :: []\n",
      "1 :: 2 :: 3 :: []\n"
     ]
    }
   ],
   "source": [
    "print(miroir(vide))   # [] => []\n",
    "print(miroir(l_1))    # [1] => [1]\n",
    "print(miroir(l_12))   # [2, 1] => [1, 2]\n",
    "print(miroir(l_123))  # [3, 2, 1] => [1, 2, 3]"
   ]
  },
  {
   "cell_type": "markdown",
   "metadata": {},
   "source": [
    "## Exercice 5 : `alterne`"
   ]
  },
  {
   "cell_type": "markdown",
   "metadata": {},
   "source": [
    "La sémantique n'était pas très claire, mais on peut imaginer quelque chose comme ça :\n",
    "\n",
    "- si une des deux listes est vide, on prend l'autre,\n",
    "- si les deux ne sont pas vide, on prend le début de l1, de l2, puis alterne(queue l1, queue l2)"
   ]
  },
  {
   "cell_type": "code",
   "execution_count": 256,
   "metadata": {
    "ExecuteTime": {
     "end_time": "2020-10-04T13:04:40.603302Z",
     "start_time": "2020-10-04T13:04:40.598273Z"
    }
   },
   "outputs": [],
   "source": [
    "def alterne(liste1: ListeChainee, liste2: ListeChainee) -> ListeChainee:\n",
    "    if taille(liste1) == 0:\n",
    "        return copy(liste2)  # on recopie pour ne rien modifier\n",
    "    if taille(liste2) == 0:\n",
    "        return copy(liste1)  # on recopie pour ne rien modifier\n",
    "    h1, t1 = liste1.hd, liste1.tl  \n",
    "    h2, t2 = liste2.hd, liste2.tl\n",
    "    return insert(h1, insert(h2, alterne(t1, t2)))"
   ]
  },
  {
   "cell_type": "code",
   "execution_count": 257,
   "metadata": {
    "ExecuteTime": {
     "end_time": "2020-10-04T13:04:41.002808Z",
     "start_time": "2020-10-04T13:04:40.997196Z"
    }
   },
   "outputs": [
    {
     "name": "stdout",
     "output_type": "stream",
     "text": [
      "1 :: 2 :: 1 :: []\n",
      "2 :: 1 :: 1 :: []\n",
      "3 :: 1 :: 2 :: 1 :: []\n",
      "3 :: 2 :: 2 :: 1 :: 1 :: []\n",
      "3 :: 3 :: 2 :: 2 :: 1 :: 1 :: []\n",
      "2 :: 3 :: 1 :: 2 :: 1 :: []\n",
      "1 :: 3 :: 2 :: 1 :: []\n"
     ]
    }
   ],
   "source": [
    "print(alterne(l_1, l_12))     # [1, 2, 1]\n",
    "print(alterne(l_12, l_1))     # [2, 1, 1]\n",
    "print(alterne(l_123, l_1))    # [3, 1, 2, 1]\n",
    "print(alterne(l_123, l_12))   # [3, 2, 2, 1, 1]\n",
    "print(alterne(l_123, l_123))  # [3, 3, 2, 2, 1, 1]\n",
    "print(alterne(l_12, l_123))   # [2, 3, 1, 2, 1]\n",
    "print(alterne(l_1, l_123))    # [1, 3, 2, 1]"
   ]
  },
  {
   "cell_type": "markdown",
   "metadata": {},
   "source": [
    "La complexité est quadratique en $\\mathcal{O}((\\max(|\\text{liste 1}|, |\\text{liste 2}|)^2)$ à cause des recopies."
   ]
  },
  {
   "cell_type": "markdown",
   "metadata": {},
   "source": [
    "## Exercice 6 : `nb_occurrences`\n",
    "\n",
    "Ce sera en temps linéaire, dans tous les cas.\n"
   ]
  },
  {
   "cell_type": "code",
   "execution_count": 264,
   "metadata": {
    "ExecuteTime": {
     "end_time": "2020-10-04T13:06:01.339457Z",
     "start_time": "2020-10-04T13:06:01.335899Z"
    }
   },
   "outputs": [],
   "source": [
    "def nb_occurrences(x, liste: ListeChainee) -> int:\n",
    "    if liste is None or liste.hd is None:\n",
    "        return 0\n",
    "    else:\n",
    "        count = 1 if x == liste.hd else 0\n",
    "    if liste.tl is None:\n",
    "        return count\n",
    "    else:\n",
    "        return count + nb_occurrences(x, liste.tl)"
   ]
  },
  {
   "cell_type": "code",
   "execution_count": 265,
   "metadata": {
    "ExecuteTime": {
     "end_time": "2020-10-04T13:06:01.640136Z",
     "start_time": "2020-10-04T13:06:01.633028Z"
    }
   },
   "outputs": [],
   "source": [
    "assert nb_occurrences(1, vide) == 0\n",
    "assert nb_occurrences(1, l_1) == 1\n",
    "assert nb_occurrences(1, l_12) == 1\n",
    "assert nb_occurrences(2, l_12) == 1\n",
    "assert nb_occurrences(1, l_123) == 1\n",
    "assert nb_occurrences(2, l_123) == 1\n",
    "assert nb_occurrences(3, l_123) == 1\n",
    "assert nb_occurrences(1, concat(l_1, l_1)) == 2\n",
    "assert nb_occurrences(2, concat(l_1, l_12)) == 1\n",
    "assert nb_occurrences(3, concat(l_12, l_1)) == 0\n",
    "assert nb_occurrences(1, concat(l_12, l_12)) == 2\n",
    "assert nb_occurrences(2, concat(l_12, l_12)) == 2\n",
    "assert nb_occurrences(1, concat(l_123, concat(l_1, l_1))) == 3\n",
    "assert nb_occurrences(2, concat(l_123, concat(l_1, l_12))) == 2\n",
    "assert nb_occurrences(3, concat(l_123, concat(l_12, l_1))) == 1\n",
    "assert nb_occurrences(3, concat(l_123, concat(l_12, l_12))) == 1"
   ]
  },
  {
   "cell_type": "markdown",
   "metadata": {},
   "source": [
    "On peut facilement écrire une variante qui sera récursive terminale (\"tail recursive\") :"
   ]
  },
  {
   "cell_type": "code",
   "execution_count": 266,
   "metadata": {
    "ExecuteTime": {
     "end_time": "2020-10-04T13:06:17.320536Z",
     "start_time": "2020-10-04T13:06:17.316540Z"
    }
   },
   "outputs": [],
   "source": [
    "def nb_occurrences(x, liste: ListeChainee, count=0) -> int:\n",
    "    if liste is None or liste.hd is None:\n",
    "        return count\n",
    "    else:\n",
    "        count += 1 if x == liste.hd else 0\n",
    "        if liste.tl is None:\n",
    "            return count\n",
    "        else:\n",
    "            return nb_occurrences(x, liste.tl, count=count)"
   ]
  },
  {
   "cell_type": "markdown",
   "metadata": {},
   "source": [
    "## Exercice 7 : `pairs`\n",
    "\n",
    "C'est un filtrage par le prédicat `x % 2 == 0`.\n",
    "Autant écrire la fonction de filtrage générique :"
   ]
  },
  {
   "cell_type": "code",
   "execution_count": 268,
   "metadata": {
    "ExecuteTime": {
     "end_time": "2020-10-04T13:06:56.285909Z",
     "start_time": "2020-10-04T13:06:56.278795Z"
    }
   },
   "outputs": [],
   "source": [
    "def filtrer(liste: ListeChainee, predicate) -> ListeChainee:\n",
    "    if liste is None or liste.hd is None:  # liste de taille 0\n",
    "        return ListeChainee(hd=None, tl=None)\n",
    "    elif liste.tl is None:  # liste de taille 1\n",
    "        if predicate(liste.hd):  # on renvoie [hd]\n",
    "            return ListeChainee(hd=liste.hd, tl=None)\n",
    "        else:  # on renvoie []\n",
    "            return ListeChainee(hd=None, tl=None)\n",
    "    else:  # liste de taille >= 2\n",
    "        if predicate(liste.hd):\n",
    "            return insert(liste.hd, filtrer(liste.tl, predicate))\n",
    "        else:\n",
    "            return filtrer(liste.tl, predicate)"
   ]
  },
  {
   "cell_type": "markdown",
   "metadata": {},
   "source": [
    "Et donc c'est rapide :"
   ]
  },
  {
   "cell_type": "code",
   "execution_count": 269,
   "metadata": {
    "ExecuteTime": {
     "end_time": "2020-10-04T13:06:57.317940Z",
     "start_time": "2020-10-04T13:06:57.314063Z"
    }
   },
   "outputs": [],
   "source": [
    "def pairs(liste: ListeChainee) -> ListeChainee:\n",
    "    def predicate(x):\n",
    "        return (x % 2) == 0\n",
    "    # aussi : predicate = lambda x: (x % 2) == 0\n",
    "    return filtrer(liste, predicate)"
   ]
  },
  {
   "cell_type": "code",
   "execution_count": 270,
   "metadata": {
    "ExecuteTime": {
     "end_time": "2020-10-04T13:07:10.329933Z",
     "start_time": "2020-10-04T13:07:10.325542Z"
    }
   },
   "outputs": [],
   "source": [
    "def impairs(liste: ListeChainee) -> ListeChainee:\n",
    "    def predicate(x):\n",
    "        return (x % 2) == 1\n",
    "    return filtrer(liste, predicate)"
   ]
  },
  {
   "cell_type": "code",
   "execution_count": 206,
   "metadata": {
    "ExecuteTime": {
     "end_time": "2020-10-04T12:41:57.044030Z",
     "start_time": "2020-10-04T12:41:57.037467Z"
    }
   },
   "outputs": [
    {
     "name": "stdout",
     "output_type": "stream",
     "text": [
      "[]\n",
      "[]\n",
      "2 :: []\n",
      "2 :: []\n",
      "4 :: 6 :: 8 :: 2 :: []\n",
      "6 :: 8 :: 2 :: []\n"
     ]
    }
   ],
   "source": [
    "print(pairs(vide))   # []\n",
    "print(pairs(l_1))    # []\n",
    "print(pairs(l_12))   # [2]\n",
    "print(pairs(l_123))  # [2]\n",
    "print(pairs(insert(4, insert(6, insert(8, l_123)))))  # [4, 6, 8, 2]\n",
    "print(pairs(insert(5, insert(6, insert(8, l_123)))))  # [6, 8, 2]"
   ]
  },
  {
   "cell_type": "code",
   "execution_count": 272,
   "metadata": {
    "ExecuteTime": {
     "end_time": "2020-10-04T13:07:39.969184Z",
     "start_time": "2020-10-04T13:07:39.962995Z"
    }
   },
   "outputs": [
    {
     "name": "stdout",
     "output_type": "stream",
     "text": [
      "[]\n",
      "1 :: []\n",
      "1 :: []\n",
      "3 :: 1 :: []\n",
      "3 :: 1 :: []\n",
      "5 :: 3 :: 1 :: []\n"
     ]
    }
   ],
   "source": [
    "print(impairs(vide))   # []\n",
    "print(impairs(l_1))    # [1]\n",
    "print(impairs(l_12))   # [1]\n",
    "print(impairs(l_123))  # [3, 1]\n",
    "print(impairs(insert(4, insert(6, insert(8, l_123)))))  # [3, 1]\n",
    "print(impairs(insert(5, insert(6, insert(8, l_123)))))  # [5, 3, 1]"
   ]
  },
  {
   "cell_type": "markdown",
   "metadata": {},
   "source": [
    "## Exercice 8 : `range`\n",
    "\n",
    "Ce sera de complexité temporelle linéaire :"
   ]
  },
  {
   "cell_type": "code",
   "execution_count": 288,
   "metadata": {
    "ExecuteTime": {
     "end_time": "2020-10-04T13:15:58.608539Z",
     "start_time": "2020-10-04T13:15:58.604413Z"
    }
   },
   "outputs": [],
   "source": [
    "def myrange(n: int) -> ListeChainee:\n",
    "    if n <= 0:\n",
    "        return ListeChainee(hd=None, tl=None)\n",
    "    elif n == 1:\n",
    "        return ListeChainee(hd=1, tl=None)\n",
    "        # return insert(1, vide)\n",
    "    else:\n",
    "        return ListeChainee(hd=n, tl=myrange(n-1))"
   ]
  },
  {
   "cell_type": "code",
   "execution_count": 289,
   "metadata": {
    "ExecuteTime": {
     "end_time": "2020-10-04T13:15:58.905454Z",
     "start_time": "2020-10-04T13:15:58.901043Z"
    }
   },
   "outputs": [
    {
     "name": "stdout",
     "output_type": "stream",
     "text": [
      "1 :: []\n",
      "2 :: 1 :: []\n",
      "3 :: 2 :: 1 :: []\n",
      "4 :: 3 :: 2 :: 1 :: []\n"
     ]
    }
   ],
   "source": [
    "print(myrange(1))  # [1]\n",
    "print(myrange(2))  # [1, 2]\n",
    "print(myrange(3))  # [1, 2, 3]\n",
    "print(myrange(4))  # [1, 2, 3, 4]"
   ]
  },
  {
   "cell_type": "markdown",
   "metadata": {},
   "source": [
    "Si on veut les avoir dans l'ordre croissant, il faudrait utiliser `miroir` qui est quadratique.\n",
    "Autant écrire directement une fonction `intervale(a, b)` qui renvoie la liste simplement chaînée contenant `a :: (a+1) :: ... :: b` :"
   ]
  },
  {
   "cell_type": "code",
   "execution_count": 216,
   "metadata": {
    "ExecuteTime": {
     "end_time": "2020-10-04T12:49:36.578578Z",
     "start_time": "2020-10-04T12:49:36.570232Z"
    }
   },
   "outputs": [],
   "source": [
    "def intervale(a: int, b: Optional[int]=None) -> ListeChainee:\n",
    "    if b is None:\n",
    "        a, b = 1, a\n",
    "    n = b - a\n",
    "    if n < 0:     # [a..b] = []\n",
    "        return ListeChainee(hd=None, tl=None)\n",
    "    elif n == 0:  # [a..b] = [a]\n",
    "        return ListeChainee(hd=a, tl=None)\n",
    "    else:         # [a..b] = a :: [a+1..b]\n",
    "        return ListeChainee(hd=a, tl=intervale(a+1, b))"
   ]
  },
  {
   "cell_type": "code",
   "execution_count": 217,
   "metadata": {
    "ExecuteTime": {
     "end_time": "2020-10-04T12:49:37.061164Z",
     "start_time": "2020-10-04T12:49:37.054445Z"
    }
   },
   "outputs": [
    {
     "name": "stdout",
     "output_type": "stream",
     "text": [
      "1 :: 2 :: 3 :: 4 :: 5 :: 6 :: 7 :: 8 :: 9 :: 10 :: []\n",
      "1 :: 2 :: 3 :: 4 :: []\n",
      "13 :: []\n",
      "[]\n"
     ]
    }
   ],
   "source": [
    "print(intervale(10))      # [1, 2, 3, 4, 5, 6, 7, 8, 9, 10]\n",
    "print(intervale(1, 4))    # [1, 2, 3, 4]\n",
    "print(intervale(13, 13))  # [13]\n",
    "print(intervale(13, 10))  # []"
   ]
  },
  {
   "cell_type": "markdown",
   "metadata": {},
   "source": [
    "Une autre approche est d'écrire la fonction `mymap` et de dire que\n",
    "```python\n",
    "intervale_bis(a, b) = miroir(mymap(lambda x: x + (a - 1), myrange(b - a + 1)))\n",
    "```"
   ]
  },
  {
   "cell_type": "code",
   "execution_count": 277,
   "metadata": {
    "ExecuteTime": {
     "end_time": "2020-10-04T13:13:01.626075Z",
     "start_time": "2020-10-04T13:13:01.619611Z"
    }
   },
   "outputs": [],
   "source": [
    "from typing import Callable\n",
    "\n",
    "def mymap(fonction: Callable, liste: ListeChainee) -> ListeChainee:\n",
    "    if liste is None or liste.hd is None:  # liste de taille 0\n",
    "        return ListeChainee(hd=None, tl=None)\n",
    "    elif liste.tl is None:  # liste de taille 1\n",
    "        return ListeChainee(hd=fonction(liste.hd), tl=None)\n",
    "    else:  # liste de taille >= 2\n",
    "        return ListeChainee(hd=fonction(liste.hd), tl=mymap(fonction, liste.tl))"
   ]
  },
  {
   "cell_type": "code",
   "execution_count": 281,
   "metadata": {
    "ExecuteTime": {
     "end_time": "2020-10-04T13:14:14.247434Z",
     "start_time": "2020-10-04T13:14:14.243547Z"
    }
   },
   "outputs": [
    {
     "name": "stdout",
     "output_type": "stream",
     "text": [
      "10 :: 9 :: 8 :: 7 :: 6 :: 5 :: 4 :: 3 :: 2 :: 1 :: []\n",
      "10 :: 9 :: 8 :: 7 :: 6 :: 5 :: 4 :: 3 :: 2 :: 1 :: []\n"
     ]
    }
   ],
   "source": [
    "print(myrange(10))\n",
    "print(mymap(lambda x: x, myrange(10)))\n"
   ]
  },
  {
   "cell_type": "code",
   "execution_count": 290,
   "metadata": {
    "ExecuteTime": {
     "end_time": "2020-10-04T13:17:15.754353Z",
     "start_time": "2020-10-04T13:17:15.751586Z"
    }
   },
   "outputs": [],
   "source": [
    "def intervale_bis(a: int, b: int) -> ListeChainee:\n",
    "    return miroir(mymap(lambda x: x + (a - 1), myrange(b - a + 1)))"
   ]
  },
  {
   "cell_type": "code",
   "execution_count": 291,
   "metadata": {
    "ExecuteTime": {
     "end_time": "2020-10-04T13:17:16.176085Z",
     "start_time": "2020-10-04T13:17:16.171339Z"
    }
   },
   "outputs": [
    {
     "name": "stdout",
     "output_type": "stream",
     "text": [
      "1 :: 2 :: 3 :: 4 :: 5 :: 6 :: 7 :: 8 :: 9 :: 10 :: []\n",
      "1 :: 2 :: 3 :: 4 :: []\n",
      "13 :: []\n",
      "[]\n"
     ]
    }
   ],
   "source": [
    "print(intervale_bis(1, 10))   # [1, 2, 3, 4, 5, 6, 7, 8, 9, 10]\n",
    "print(intervale_bis(1, 4))    # [1, 2, 3, 4]\n",
    "print(intervale_bis(13, 13))  # [13]\n",
    "print(intervale_bis(13, 10))  # []"
   ]
  },
  {
   "cell_type": "markdown",
   "metadata": {},
   "source": [
    "## Exercice 9 : `premiers`\n",
    "Plusieurs possibilités. Un filtre d'Erathosthène marche bien, ou une filtrage.\n",
    "Je ne vais pas utiliser de tableaux donc on est un peu réduit d'utiliser une filtrage.\n",
    "\n",
    "On a besoin des fonctions suivantes :\n",
    "\n",
    "- calculer la racine entière de $n$, très facile par une boucle,\n",
    "- calculer les nombres impairs entre 5 et $\\lfloor \\sqrt{n} \\rfloor$,\n",
    "- filtrer cette liste de nombres impairs pour garder ceux qui divisent $n$,\n",
    "- et dire que $n$ est premier s'il a un diviseur non trivial."
   ]
  },
  {
   "cell_type": "code",
   "execution_count": 293,
   "metadata": {
    "ExecuteTime": {
     "end_time": "2020-10-04T13:18:48.216720Z",
     "start_time": "2020-10-04T13:18:48.211684Z"
    }
   },
   "outputs": [
    {
     "name": "stdout",
     "output_type": "stream",
     "text": [
      "1\n",
      "2\n",
      "10\n",
      "346\n"
     ]
    }
   ],
   "source": [
    "def racine(n: int) -> int:\n",
    "    i = 1\n",
    "    for i in range(n + 1):\n",
    "        if i*i > n:\n",
    "            return i - 1\n",
    "    return i\n",
    "\n",
    "print(racine(1))  # 1\n",
    "print(racine(5))  # 2\n",
    "print(racine(102))  # 10\n",
    "print(racine(120031))  # 346"
   ]
  },
  {
   "cell_type": "code",
   "execution_count": 294,
   "metadata": {
    "ExecuteTime": {
     "end_time": "2020-10-04T13:19:23.084598Z",
     "start_time": "2020-10-04T13:19:23.080605Z"
    }
   },
   "outputs": [],
   "source": [
    "def intervale2(a: int, b: Optional[int]=None, pas: int=1) -> ListeChainee:\n",
    "    if b is None:\n",
    "        a, b = 1, a\n",
    "    n = b - a\n",
    "    if n < 0:     # [a..b::p] = []\n",
    "        return ListeChainee(hd=None, tl=None)\n",
    "    elif n == 0:  # [a..b::p] = [a]\n",
    "        return ListeChainee(hd=a, tl=None)\n",
    "    else:         # [a..b::p] = a :: [a+p..b::p]\n",
    "        return ListeChainee(hd=a, tl=intervale2(a + pas, b=b, pas=pas))"
   ]
  },
  {
   "cell_type": "code",
   "execution_count": 295,
   "metadata": {
    "ExecuteTime": {
     "end_time": "2020-10-04T13:19:25.037139Z",
     "start_time": "2020-10-04T13:19:25.032839Z"
    }
   },
   "outputs": [
    {
     "name": "stdout",
     "output_type": "stream",
     "text": [
      "1 :: 3 :: 5 :: 7 :: 9 :: []\n",
      "1 :: 3 :: []\n",
      "13 :: []\n",
      "[]\n"
     ]
    }
   ],
   "source": [
    "print(intervale2(1, 10, 2))      # [1, 3, 5, 7, 9]\n",
    "print(intervale2(1, 4, 2))    # [1, 3]\n",
    "print(intervale2(13, 13, 2))  # [13]\n",
    "print(intervale2(13, 10, 2))  # []"
   ]
  },
  {
   "cell_type": "markdown",
   "metadata": {},
   "source": [
    "Une version purement fonctionnelle est moins facile qu'une version impérative avec une référence booléenne."
   ]
  },
  {
   "cell_type": "code",
   "execution_count": 296,
   "metadata": {
    "ExecuteTime": {
     "end_time": "2020-10-04T13:19:33.501541Z",
     "start_time": "2020-10-04T13:19:33.497885Z"
    }
   },
   "outputs": [],
   "source": [
    "def estDivisible(n: int, k: int) -> bool:\n",
    "    return (n % k) == 0"
   ]
  },
  {
   "cell_type": "code",
   "execution_count": 236,
   "metadata": {
    "ExecuteTime": {
     "end_time": "2020-10-04T12:56:37.869807Z",
     "start_time": "2020-10-04T12:56:37.864934Z"
    }
   },
   "outputs": [
    {
     "data": {
      "text/plain": [
       "True"
      ]
     },
     "execution_count": 236,
     "metadata": {},
     "output_type": "execute_result"
    }
   ],
   "source": [
    "estDivisible(10, 2)\n",
    "estDivisible(10, 3)\n",
    "estDivisible(10, 4)\n",
    "estDivisible(10, 5)"
   ]
  },
  {
   "cell_type": "markdown",
   "metadata": {},
   "source": [
    "On est prêt à écrire `estPremier` :"
   ]
  },
  {
   "cell_type": "code",
   "execution_count": 247,
   "metadata": {
    "ExecuteTime": {
     "end_time": "2020-10-04T12:59:04.894032Z",
     "start_time": "2020-10-04T12:59:04.888224Z"
    }
   },
   "outputs": [],
   "source": [
    "def estPremier(n : int) -> bool:\n",
    "    return taille(filtrer(intervale2(2, racine(n), 1), lambda k: estDivisible(n, k))) == 0"
   ]
  },
  {
   "cell_type": "markdown",
   "metadata": {},
   "source": [
    "En effet il suffit de construire d'abord la liste des entiers impairs de 2 à $\\lfloor \\sqrt{n} \\rfloor$, de les filtrer par ceux qui divisent $n$, et de vérifier si on a aucun diviseur (`taille(..) == 0`) auquel cas $n$ est premier, ou si $n$ a au moins un diviseur auquel cas $n$ n'est pas premier."
   ]
  },
  {
   "cell_type": "code",
   "execution_count": 254,
   "metadata": {
    "ExecuteTime": {
     "end_time": "2020-10-04T13:00:29.866472Z",
     "start_time": "2020-10-04T13:00:29.857182Z"
    }
   },
   "outputs": [
    {
     "name": "stdout",
     "output_type": "stream",
     "text": [
      "Petits diviseurs de 2  ->  []\n",
      "Petits diviseurs de 3  ->  []\n",
      "Petits diviseurs de 4  ->  2 :: []\n",
      "Petits diviseurs de 5  ->  []\n",
      "Petits diviseurs de 6  ->  2 :: []\n",
      "Petits diviseurs de 7  ->  []\n",
      "Petits diviseurs de 8  ->  2 :: []\n",
      "Petits diviseurs de 9  ->  3 :: []\n",
      "Petits diviseurs de 10  ->  2 :: []\n",
      "Petits diviseurs de 11  ->  []\n",
      "Petits diviseurs de 12  ->  2 :: 3 :: []\n",
      "Petits diviseurs de 13  ->  []\n",
      "Petits diviseurs de 14  ->  2 :: []\n",
      "Petits diviseurs de 15  ->  3 :: []\n",
      "Petits diviseurs de 16  ->  2 :: 4 :: []\n",
      "Petits diviseurs de 17  ->  []\n",
      "Petits diviseurs de 18  ->  2 :: 3 :: []\n",
      "Petits diviseurs de 19  ->  []\n"
     ]
    }
   ],
   "source": [
    "for n in range(2, 20):\n",
    "    print(\"Petits diviseurs de\", n, \" -> \", filtrer(intervale2(2, racine(n), 1), lambda k: estDivisible(n, k)))"
   ]
  },
  {
   "cell_type": "markdown",
   "metadata": {},
   "source": [
    "On voit dans l'exemple ci dessus les nombres premiers comme ceux n'ayant aucun diviseurs, et les nombres non premiers comme ceux ayant au moins un diviseur."
   ]
  },
  {
   "cell_type": "code",
   "execution_count": 249,
   "metadata": {
    "ExecuteTime": {
     "end_time": "2020-10-04T12:59:06.882481Z",
     "start_time": "2020-10-04T12:59:06.879868Z"
    }
   },
   "outputs": [],
   "source": [
    "def premiers(n : int) -> ListeChainee:\n",
    "    return filtrer(intervale2(2, n, 1), estPremier)"
   ]
  },
  {
   "cell_type": "code",
   "execution_count": 250,
   "metadata": {
    "ExecuteTime": {
     "end_time": "2020-10-04T12:59:07.320895Z",
     "start_time": "2020-10-04T12:59:07.316170Z"
    }
   },
   "outputs": [
    {
     "data": {
      "text/plain": [
       "2 :: 3 :: 5 :: 7 :: []"
      ]
     },
     "execution_count": 250,
     "metadata": {},
     "output_type": "execute_result"
    }
   ],
   "source": [
    "premiers(10)  # [2, 3, 5, 7]"
   ]
  },
  {
   "cell_type": "code",
   "execution_count": 251,
   "metadata": {
    "ExecuteTime": {
     "end_time": "2020-10-04T12:59:07.981155Z",
     "start_time": "2020-10-04T12:59:07.975110Z"
    },
    "scrolled": true
   },
   "outputs": [
    {
     "data": {
      "text/plain": [
       "2 :: 3 :: 5 :: 7 :: 11 :: 13 :: 17 :: 19 :: 23 :: 29 :: 31 :: 37 :: 41 :: 43 :: 47 :: 53 :: 59 :: 61 :: 67 :: 71 :: 73 :: 79 :: 83 :: 89 :: 97 :: []"
      ]
     },
     "execution_count": 251,
     "metadata": {},
     "output_type": "execute_result"
    }
   ],
   "source": [
    "premiers(100)  # [2, 3, 5, 7, 11, 13, 17, 19, 23, 29, 31, 37, 41, 43, 47, 53, 59, 61, 67, 71, 73, 79, 83, 89, 97]"
   ]
  },
  {
   "cell_type": "markdown",
   "metadata": {},
   "source": [
    "----\n",
    "# Quelques tris par comparaison"
   ]
  },
  {
   "cell_type": "markdown",
   "metadata": {},
   "source": [
    "On fera les tris en ordre croissant."
   ]
  },
  {
   "cell_type": "code",
   "execution_count": 112,
   "metadata": {
    "scrolled": true
   },
   "outputs": [],
   "source": [
    "test = [3, 1, 8, 4, 5, 6, 1, 2]"
   ]
  },
  {
   "cell_type": "markdown",
   "metadata": {},
   "source": [
    "## Exercice 10 : Tri insertion"
   ]
  },
  {
   "cell_type": "code",
   "execution_count": 113,
   "metadata": {},
   "outputs": [],
   "source": [
    "from typing import TypeVar, List\n",
    "_a = TypeVar('alpha')\n",
    "\n",
    "def insere(x : _a, liste : List[_a]) -> List[_a]:\n",
    "    if len(liste) == 0:\n",
    "        return [x]\n",
    "    else:\n",
    "        t, q = liste[0], liste[1:]\n",
    "        if x <= t:\n",
    "            return [x] + liste\n",
    "        else:\n",
    "            return [t] + insere(x, q)"
   ]
  },
  {
   "cell_type": "code",
   "execution_count": 114,
   "metadata": {},
   "outputs": [],
   "source": [
    "def tri_insertion(liste : List[_a]) -> List[_a]:\n",
    "    if len(liste) == 0:\n",
    "        return []\n",
    "    else:\n",
    "        t, q = liste[0], liste[1:]\n",
    "        return insere(t, tri_insertion(q))"
   ]
  },
  {
   "cell_type": "code",
   "execution_count": 115,
   "metadata": {},
   "outputs": [
    {
     "data": {
      "text/plain": [
       "[1, 1, 2, 3, 4, 5, 6, 8]"
      ]
     },
     "execution_count": 115,
     "metadata": {},
     "output_type": "execute_result"
    }
   ],
   "source": [
    "tri_insertion(test)"
   ]
  },
  {
   "cell_type": "markdown",
   "metadata": {},
   "source": [
    "Complexité en temps $\\mathcal{O}(n^2)$."
   ]
  },
  {
   "cell_type": "markdown",
   "metadata": {},
   "source": [
    "## Exercice 11 : Tri insertion générique"
   ]
  },
  {
   "cell_type": "code",
   "execution_count": 121,
   "metadata": {
    "collapsed": true
   },
   "outputs": [],
   "source": [
    "from typing import TypeVar, List, Callable\n",
    "_a = TypeVar('alpha')\n",
    "\n",
    "def insere2(ordre : Callable[[_a, _a], bool], x : _a, liste : List[_a]) -> List[_a]:\n",
    "    if len(liste) == 0:\n",
    "        return [x]\n",
    "    else:\n",
    "        t, q = liste[0], liste[1:]\n",
    "        if ordre(x, t):\n",
    "            return [x] + liste\n",
    "        else:\n",
    "            return [t] + insere2(ordre, x, q)"
   ]
  },
  {
   "cell_type": "code",
   "execution_count": 122,
   "metadata": {
    "collapsed": true
   },
   "outputs": [],
   "source": [
    "def tri_insertion2(ordre : Callable[[_a, _a], bool], liste : List[_a]) -> List[_a]:\n",
    "    if len(liste) == 0:\n",
    "        return []\n",
    "    else:\n",
    "        t, q = liste[0], liste[1:]\n",
    "        return insere2(ordre, t, tri_insertion2(ordre, q))"
   ]
  },
  {
   "cell_type": "code",
   "execution_count": 123,
   "metadata": {},
   "outputs": [],
   "source": [
    "ordre_croissant = lambda x, y: x <= y"
   ]
  },
  {
   "cell_type": "code",
   "execution_count": 124,
   "metadata": {},
   "outputs": [
    {
     "data": {
      "text/plain": [
       "[1, 1, 2, 3, 4, 5, 6, 8]"
      ]
     },
     "execution_count": 124,
     "metadata": {},
     "output_type": "execute_result"
    }
   ],
   "source": [
    "tri_insertion2(ordre_croissant, test)"
   ]
  },
  {
   "cell_type": "code",
   "execution_count": 125,
   "metadata": {},
   "outputs": [],
   "source": [
    "ordre_decroissant = lambda x, y: x >= y"
   ]
  },
  {
   "cell_type": "code",
   "execution_count": 126,
   "metadata": {},
   "outputs": [
    {
     "data": {
      "text/plain": [
       "[8, 6, 5, 4, 3, 2, 1, 1]"
      ]
     },
     "execution_count": 126,
     "metadata": {},
     "output_type": "execute_result"
    }
   ],
   "source": [
    "tri_insertion2(ordre_decroissant, test)"
   ]
  },
  {
   "cell_type": "markdown",
   "metadata": {},
   "source": [
    "## Exercice 12 : Tri selection"
   ]
  },
  {
   "cell_type": "code",
   "execution_count": 127,
   "metadata": {},
   "outputs": [],
   "source": [
    "from typing import TypeVar, List, Tuple\n",
    "_a = TypeVar('alpha')\n",
    "\n",
    "def selectionne_min(liste : List[_a]) -> Tuple[_a, List[_a]]:\n",
    "    if len(liste) == 0:\n",
    "        raise ValueError(\"Selectionne_min sur liste vide\")\n",
    "    else:\n",
    "        def cherche_min(mini : _a, autres : List[_a], reste : List[_a]) -> Tuple[_a, List[_a]]:\n",
    "            if len(reste) == 0:\n",
    "                return (mini, autres)\n",
    "            else:\n",
    "                t, q = reste[0], reste[1:]\n",
    "                if t < mini:\n",
    "                    return cherche_min(t, [mini] + autres, q)\n",
    "                else:\n",
    "                    return cherche_min(mini, [t] + autres, q)\n",
    "        t, q = liste[0], liste[1:]\n",
    "        return cherche_min(t, [], q)"
   ]
  },
  {
   "cell_type": "code",
   "execution_count": 129,
   "metadata": {},
   "outputs": [
    {
     "data": {
      "text/plain": [
       "[3, 1, 8, 4, 5, 6, 1, 2]"
      ]
     },
     "execution_count": 129,
     "metadata": {},
     "output_type": "execute_result"
    },
    {
     "data": {
      "text/plain": [
       "(1, [2, 1, 6, 5, 4, 8, 3])"
      ]
     },
     "execution_count": 129,
     "metadata": {},
     "output_type": "execute_result"
    }
   ],
   "source": [
    "test\n",
    "selectionne_min(test)"
   ]
  },
  {
   "cell_type": "markdown",
   "metadata": {},
   "source": [
    "(On voit que la liste `autre` a été inversée)"
   ]
  },
  {
   "cell_type": "code",
   "execution_count": 130,
   "metadata": {},
   "outputs": [],
   "source": [
    "def tri_selection(liste : List[_a]) -> List[_a]:\n",
    "    if len(liste) == 0:\n",
    "        return []\n",
    "    else:\n",
    "        mini, autres = selectionne_min(liste)\n",
    "        return [mini] + tri_selection(autres)"
   ]
  },
  {
   "cell_type": "code",
   "execution_count": 131,
   "metadata": {},
   "outputs": [
    {
     "data": {
      "text/plain": [
       "[1, 1, 2, 3, 4, 5, 6, 8]"
      ]
     },
     "execution_count": 131,
     "metadata": {},
     "output_type": "execute_result"
    }
   ],
   "source": [
    "tri_selection(test)"
   ]
  },
  {
   "cell_type": "markdown",
   "metadata": {},
   "source": [
    "Complexité en temps : $\\mathcal{O}(n^2)$."
   ]
  },
  {
   "cell_type": "markdown",
   "metadata": {},
   "source": [
    "## Exercices 13, 14, 15 : Tri fusion"
   ]
  },
  {
   "cell_type": "code",
   "execution_count": 132,
   "metadata": {},
   "outputs": [
    {
     "data": {
      "text/plain": [
       "([3, 8, 5, 1], [1, 4, 6, 2])"
      ]
     },
     "execution_count": 132,
     "metadata": {},
     "output_type": "execute_result"
    }
   ],
   "source": [
    "from typing import TypeVar, List, Tuple\n",
    "_a = TypeVar('alpha')\n",
    "\n",
    "def separe(liste : List[_a]) -> Tuple[List[_a], List[_a]]:\n",
    "    if len(liste) == 0:\n",
    "        return ([], [])\n",
    "    elif len(liste) == 1:\n",
    "        return ([liste[0]], [])\n",
    "    else:\n",
    "        x, y, q = liste[0], liste[1], liste[2:]\n",
    "        a, b = separe(q)\n",
    "        return ([x] + a, [y] + b)"
   ]
  },
  {
   "cell_type": "code",
   "execution_count": 133,
   "metadata": {},
   "outputs": [
    {
     "data": {
      "text/plain": [
       "[3, 1, 8, 4, 5, 6, 1, 2]"
      ]
     },
     "execution_count": 133,
     "metadata": {},
     "output_type": "execute_result"
    },
    {
     "data": {
      "text/plain": [
       "([3, 8, 5, 1], [1, 4, 6, 2])"
      ]
     },
     "execution_count": 133,
     "metadata": {},
     "output_type": "execute_result"
    }
   ],
   "source": [
    "test\n",
    "separe(test)"
   ]
  },
  {
   "cell_type": "code",
   "execution_count": 134,
   "metadata": {},
   "outputs": [
    {
     "data": {
      "text/plain": [
       "[1, 2, 3, 3, 7, 8]"
      ]
     },
     "execution_count": 134,
     "metadata": {},
     "output_type": "execute_result"
    }
   ],
   "source": [
    "def fusion(liste1 : List[_a], liste2 : List[_a]) -> List[_a]:\n",
    "    if (len(liste1), len(liste2)) == (0, 0):\n",
    "        return []\n",
    "    elif len(liste1) == 0:\n",
    "        return liste2\n",
    "    elif len(liste2) == 0:\n",
    "        return liste1\n",
    "    else:  # les deux sont non vides\n",
    "        x, a = liste1[0], liste1[1:]\n",
    "        y, b = liste2[0], liste2[1:]\n",
    "        if x <= y:\n",
    "            return [x] + fusion(a, [y] + b)\n",
    "        else:\n",
    "            return [y] + fusion([x] + a, b)\n",
    "\n",
    "        \n",
    "fusion([1, 3, 7], [2, 3, 8])"
   ]
  },
  {
   "cell_type": "code",
   "execution_count": 136,
   "metadata": {},
   "outputs": [],
   "source": [
    "def tri_fusion(liste : List[_a]) -> List[_a]:\n",
    "    if len(liste) <= 1:\n",
    "        return liste\n",
    "    else:\n",
    "        a, b = separe(liste)\n",
    "        return fusion(tri_fusion(a), tri_fusion(b))"
   ]
  },
  {
   "cell_type": "code",
   "execution_count": 137,
   "metadata": {},
   "outputs": [
    {
     "data": {
      "text/plain": [
       "[1, 1, 2, 3, 4, 5, 6, 8]"
      ]
     },
     "execution_count": 137,
     "metadata": {},
     "output_type": "execute_result"
    }
   ],
   "source": [
    "tri_fusion(test)"
   ]
  },
  {
   "cell_type": "markdown",
   "metadata": {},
   "source": [
    "Complexité en temps $\\mathcal{O}(n \\log n)$."
   ]
  },
  {
   "cell_type": "markdown",
   "metadata": {},
   "source": [
    "## Comparaisons"
   ]
  },
  {
   "cell_type": "code",
   "execution_count": 138,
   "metadata": {
    "scrolled": true
   },
   "outputs": [
    {
     "name": "stdout",
     "output_type": "stream",
     "text": [
      "11.8 µs ± 463 ns per loop (mean ± std. dev. of 7 runs, 100000 loops each)\n",
      "52.9 µs ± 5.31 µs per loop (mean ± std. dev. of 7 runs, 10000 loops each)\n",
      "32.1 µs ± 1.14 µs per loop (mean ± std. dev. of 7 runs, 10000 loops each)\n"
     ]
    }
   ],
   "source": [
    "%timeit tri_insertion(test)\n",
    "%timeit tri_selection(test)\n",
    "%timeit tri_fusion(test)"
   ]
  },
  {
   "cell_type": "code",
   "execution_count": 152,
   "metadata": {
    "collapsed": true
   },
   "outputs": [],
   "source": [
    "from sys import setrecursionlimit\n",
    "setrecursionlimit(100000)\n",
    "# nécessaire pour tester les différentes fonctions récursives sur de grosses listes"
   ]
  },
  {
   "cell_type": "code",
   "execution_count": 153,
   "metadata": {},
   "outputs": [
    {
     "name": "stdout",
     "output_type": "stream",
     "text": [
      "\n",
      "For n = 10\n",
      "    and tri = tri_insertion\n",
      "33.2 µs ± 4.03 µs per loop (mean ± std. dev. of 7 runs, 10000 loops each)\n",
      "    and tri = tri_selection\n",
      "85.8 µs ± 4.57 µs per loop (mean ± std. dev. of 7 runs, 10000 loops each)\n",
      "    and tri = tri_fusion\n",
      "59.6 µs ± 5.57 µs per loop (mean ± std. dev. of 7 runs, 10000 loops each)\n",
      "\n",
      "For n = 100\n",
      "    and tri = tri_insertion\n",
      "2.01 ms ± 93.3 µs per loop (mean ± std. dev. of 7 runs, 100 loops each)\n",
      "    and tri = tri_selection\n",
      "4.32 ms ± 123 µs per loop (mean ± std. dev. of 7 runs, 100 loops each)\n",
      "    and tri = tri_fusion\n",
      "1.12 ms ± 10.6 µs per loop (mean ± std. dev. of 7 runs, 1000 loops each)\n",
      "\n",
      "For n = 1000\n",
      "    and tri = tri_insertion\n",
      "758 ms ± 18.3 ms per loop (mean ± std. dev. of 7 runs, 1 loop each)\n",
      "    and tri = tri_selection\n",
      "1.54 s ± 43.4 ms per loop (mean ± std. dev. of 7 runs, 1 loop each)\n",
      "    and tri = tri_fusion\n",
      "26.1 ms ± 631 µs per loop (mean ± std. dev. of 7 runs, 10 loops each)\n"
     ]
    }
   ],
   "source": [
    "import random\n",
    "\n",
    "def test_random(n : int) -> List[int]:\n",
    "    return [random.randint(-1000, 1000) for _ in range(n)]\n",
    "\n",
    "for n in [10, 100, 1000]:\n",
    "    print(\"\\nFor n =\", n)\n",
    "    for tri in [tri_insertion, tri_selection, tri_fusion]:\n",
    "        print(\"    and tri = {}\".format(tri.__name__))\n",
    "        %timeit tri(test_random(n))"
   ]
  },
  {
   "cell_type": "markdown",
   "metadata": {},
   "source": [
    "- C'est assez pour vérifier que le tri fusion est **bien plus efficace** que les autres.\n",
    "- On voit aussi que les tris par insertion et sélection sont pire que linéaires,\n",
    "- Mais que le tri par fusion est presque linéaire (pour $n$ petits, $n \\log n$ est presque linéaire)."
   ]
  },
  {
   "cell_type": "markdown",
   "metadata": {},
   "source": [
    "----\n",
    "# Listes : l'ordre supérieur\n",
    "\n",
    "Je ne corrige pas les questions qui étaient traitées dans le TP1."
   ]
  },
  {
   "cell_type": "markdown",
   "metadata": {},
   "source": [
    "## Exercice 16 : `applique`"
   ]
  },
  {
   "cell_type": "code",
   "execution_count": 155,
   "metadata": {},
   "outputs": [],
   "source": [
    "from typing import TypeVar, List, Callable\n",
    "_a, _b = TypeVar('_a'), TypeVar('_b')\n",
    "\n",
    "def applique(f : Callable[[_a], _b], liste : List[_a]) -> List[_b]:\n",
    "    # Triche :\n",
    "    return list(map(f, liste))\n",
    "    # 1ère approche :\n",
    "    return [f(x) for x in liste]\n",
    "    # 2ème approche :\n",
    "    fliste = []\n",
    "    for x in liste:\n",
    "        fliste.append(f(x))\n",
    "    return fliste\n",
    "    # 3ème approche\n",
    "    n = len(liste)\n",
    "    if n == 0: return []\n",
    "    fliste = [liste[0] for _ in range(n)]\n",
    "    for i in range(n):\n",
    "        fliste[i] = f(liste[i])\n",
    "    return fliste"
   ]
  },
  {
   "cell_type": "markdown",
   "metadata": {},
   "source": [
    "## Exercice 17"
   ]
  },
  {
   "cell_type": "code",
   "execution_count": 156,
   "metadata": {},
   "outputs": [],
   "source": [
    "def premiers_carres_parfaits(n : int) -> List[int]:\n",
    "    return applique(lambda x : x * x, list(range(1, n + 1)))"
   ]
  },
  {
   "cell_type": "code",
   "execution_count": 157,
   "metadata": {},
   "outputs": [
    {
     "data": {
      "text/plain": [
       "[1, 4, 9, 16, 25, 36, 49, 64, 81, 100, 121, 144]"
      ]
     },
     "execution_count": 157,
     "metadata": {},
     "output_type": "execute_result"
    }
   ],
   "source": [
    "premiers_carres_parfaits(12)"
   ]
  },
  {
   "cell_type": "markdown",
   "metadata": {},
   "source": [
    "## Exercice 18 : `itere`"
   ]
  },
  {
   "cell_type": "code",
   "execution_count": 158,
   "metadata": {},
   "outputs": [],
   "source": [
    "from typing import TypeVar, List, Callable\n",
    "_a = TypeVar('_a')\n",
    "\n",
    "def itere(f : Callable[[_a], None], liste : List[_a]) -> None:\n",
    "    for x in liste:\n",
    "        f(x)"
   ]
  },
  {
   "cell_type": "markdown",
   "metadata": {},
   "source": [
    "## Exercice 19"
   ]
  },
  {
   "cell_type": "code",
   "execution_count": 161,
   "metadata": {},
   "outputs": [],
   "source": [
    "print_int = lambda i: print(\"{}\".format(i))"
   ]
  },
  {
   "cell_type": "code",
   "execution_count": 163,
   "metadata": {},
   "outputs": [
    {
     "name": "stdout",
     "output_type": "stream",
     "text": [
      "Debut\n",
      "1\n",
      "2\n",
      "4\n",
      "5\n",
      "12011993\n",
      "Fin\n"
     ]
    }
   ],
   "source": [
    "def affiche_liste_entiers(liste : List[int]) -> None:\n",
    "    print(\"Debut\")\n",
    "    itere(print_int, liste)\n",
    "    print(\"Fin\")\n",
    "\n",
    "affiche_liste_entiers([1, 2, 4, 5, 12011993])"
   ]
  },
  {
   "cell_type": "markdown",
   "metadata": {},
   "source": [
    "## Exercice 20 : `qqsoit` et `ilexiste`"
   ]
  },
  {
   "cell_type": "code",
   "execution_count": 164,
   "metadata": {},
   "outputs": [],
   "source": [
    "from typing import TypeVar, List, Callable\n",
    "_a = TypeVar('_a')\n",
    "\n",
    "# Comme all(map(f, liste))\n",
    "def qqsoit(f : Callable[[_a], bool], liste : List[_a]) -> bool:\n",
    "    for x in liste:\n",
    "        if not f(x): return False   # arret preliminaire\n",
    "    return True"
   ]
  },
  {
   "cell_type": "code",
   "execution_count": 176,
   "metadata": {},
   "outputs": [],
   "source": [
    "# Comme any(map(f, liste))\n",
    "def ilexiste(f : Callable[[_a], bool], liste : List[_a]) -> bool:\n",
    "    for x in liste:\n",
    "        if f(x): return True   # arret preliminaire\n",
    "    return False"
   ]
  },
  {
   "cell_type": "code",
   "execution_count": 177,
   "metadata": {},
   "outputs": [
    {
     "data": {
      "text/plain": [
       "False"
      ]
     },
     "execution_count": 177,
     "metadata": {},
     "output_type": "execute_result"
    },
    {
     "data": {
      "text/plain": [
       "True"
      ]
     },
     "execution_count": 177,
     "metadata": {},
     "output_type": "execute_result"
    }
   ],
   "source": [
    "qqsoit(lambda x: (x % 2) == 0, [1, 2, 3, 4, 5])\n",
    "ilexiste(lambda x: (x % 2) == 0, [1, 2, 3, 4, 5])"
   ]
  },
  {
   "cell_type": "code",
   "execution_count": 167,
   "metadata": {},
   "outputs": [
    {
     "name": "stdout",
     "output_type": "stream",
     "text": [
      "368 ns ± 14.9 ns per loop (mean ± std. dev. of 7 runs, 1000000 loops each)\n",
      "495 ns ± 44.2 ns per loop (mean ± std. dev. of 7 runs, 1000000 loops each)\n"
     ]
    }
   ],
   "source": [
    "%timeit qqsoit(lambda x: (x % 2) == 0, [1, 2, 3, 4, 5])\n",
    "%timeit all(map(lambda x: (x % 2) == 0, [1, 2, 3, 4, 5]))"
   ]
  },
  {
   "cell_type": "code",
   "execution_count": 168,
   "metadata": {},
   "outputs": [
    {
     "name": "stdout",
     "output_type": "stream",
     "text": [
      "395 ns ± 41.7 ns per loop (mean ± std. dev. of 7 runs, 1000000 loops each)\n",
      "641 ns ± 32.2 ns per loop (mean ± std. dev. of 7 runs, 1000000 loops each)\n"
     ]
    }
   ],
   "source": [
    "%timeit ilexiste(lambda x: (x % 2) == 0, [1, 2, 3, 4, 5])\n",
    "%timeit any(map(lambda x: (x % 2) == 0, [1, 2, 3, 4, 5]))"
   ]
  },
  {
   "cell_type": "markdown",
   "metadata": {},
   "source": [
    "## Exercice 21 : `appartient` version 2"
   ]
  },
  {
   "cell_type": "code",
   "execution_count": 178,
   "metadata": {},
   "outputs": [],
   "source": [
    "def appartient_curry(x : _a) -> Callable[[List[_a]], bool]:\n",
    "    return lambda liste: ilexiste(lambda y: x == y, liste)\n",
    "\n",
    "def appartient(x : _a, liste : List[_a]) -> bool:\n",
    "    return ilexiste(lambda y: x == y, liste)"
   ]
  },
  {
   "cell_type": "code",
   "execution_count": 179,
   "metadata": {},
   "outputs": [],
   "source": [
    "def toutes_egales(x : _a, liste : List[_a]) -> bool:\n",
    "    return qqsoit(lambda y: x == y, liste)"
   ]
  },
  {
   "cell_type": "code",
   "execution_count": 181,
   "metadata": {},
   "outputs": [
    {
     "data": {
      "text/plain": [
       "True"
      ]
     },
     "execution_count": 181,
     "metadata": {},
     "output_type": "execute_result"
    },
    {
     "data": {
      "text/plain": [
       "True"
      ]
     },
     "execution_count": 181,
     "metadata": {},
     "output_type": "execute_result"
    },
    {
     "data": {
      "text/plain": [
       "False"
      ]
     },
     "execution_count": 181,
     "metadata": {},
     "output_type": "execute_result"
    },
    {
     "data": {
      "text/plain": [
       "False"
      ]
     },
     "execution_count": 181,
     "metadata": {},
     "output_type": "execute_result"
    },
    {
     "data": {
      "text/plain": [
       "False"
      ]
     },
     "execution_count": 181,
     "metadata": {},
     "output_type": "execute_result"
    }
   ],
   "source": [
    "appartient_curry(1)([1, 2, 3])\n",
    "\n",
    "appartient(1, [1, 2, 3])\n",
    "appartient(5, [1, 2, 3])\n",
    "\n",
    "toutes_egales(1, [1, 2, 3])\n",
    "toutes_egales(5, [1, 2, 3])"
   ]
  },
  {
   "cell_type": "markdown",
   "metadata": {},
   "source": [
    "Est-ce que notre implémentation peut être plus rapide que le test `x in liste` ?\n",
    "Non, mais elle est aussi rapide. C'est déjà pas mal !"
   ]
  },
  {
   "cell_type": "code",
   "execution_count": 183,
   "metadata": {},
   "outputs": [
    {
     "name": "stdout",
     "output_type": "stream",
     "text": [
      "1.17 ms ± 25.9 µs per loop (mean ± std. dev. of 7 runs, 1000 loops each)\n",
      "1.1 ms ± 10.8 µs per loop (mean ± std. dev. of 7 runs, 1000 loops each)\n"
     ]
    }
   ],
   "source": [
    "%timeit appartient(random.randint(-10, 10), [random.randint(-1000, 1000) for _ in range(1000)])\n",
    "%timeit random.randint(-10, 10) in [random.randint(-1000, 1000) for _ in range(1000)]"
   ]
  },
  {
   "cell_type": "markdown",
   "metadata": {},
   "source": [
    "## Exercice 22 : `filtre`"
   ]
  },
  {
   "cell_type": "code",
   "execution_count": 186,
   "metadata": {},
   "outputs": [],
   "source": [
    "from typing import TypeVar, List, Callable\n",
    "_a = TypeVar('_a')\n",
    "\n",
    "# Comme list(filter(f, liste))\n",
    "def filtre(f : Callable[[_a], bool], liste : List[_a]) -> List[_a]:\n",
    "    # return [x for x in liste if f(x)]\n",
    "    liste2 = []\n",
    "    for x in liste:\n",
    "        if f(x):\n",
    "            liste2.append(x)\n",
    "    return liste2"
   ]
  },
  {
   "cell_type": "code",
   "execution_count": 185,
   "metadata": {},
   "outputs": [
    {
     "data": {
      "text/plain": [
       "[2, 4]"
      ]
     },
     "execution_count": 185,
     "metadata": {},
     "output_type": "execute_result"
    },
    {
     "data": {
      "text/plain": [
       "[1, 3, 5]"
      ]
     },
     "execution_count": 185,
     "metadata": {},
     "output_type": "execute_result"
    }
   ],
   "source": [
    "filtre(lambda x: (x % 2) == 0, [1, 2, 3, 4, 5])\n",
    "filtre(lambda x: (x % 2) != 0, [1, 2, 3, 4, 5])"
   ]
  },
  {
   "cell_type": "markdown",
   "metadata": {},
   "source": [
    "## Exercice 23\n",
    "Je vous laisse trouver pour `premiers`."
   ]
  },
  {
   "cell_type": "code",
   "execution_count": 189,
   "metadata": {},
   "outputs": [],
   "source": [
    "pairs   = lambda liste: filtre(lambda x: (x % 2) == 0, liste)\n",
    "impairs = lambda liste: filtre(lambda x: (x % 2) != 0, liste)"
   ]
  },
  {
   "cell_type": "code",
   "execution_count": 188,
   "metadata": {},
   "outputs": [
    {
     "data": {
      "text/plain": [
       "[0, 2, 4, 6, 8]"
      ]
     },
     "execution_count": 188,
     "metadata": {},
     "output_type": "execute_result"
    },
    {
     "data": {
      "text/plain": [
       "[1, 3, 5, 7, 9]"
      ]
     },
     "execution_count": 188,
     "metadata": {},
     "output_type": "execute_result"
    }
   ],
   "source": [
    "pairs(list(range(10)))\n",
    "impairs(list(range(10)))"
   ]
  },
  {
   "cell_type": "markdown",
   "metadata": {},
   "source": [
    "## Exercice 24 : `reduit`"
   ]
  },
  {
   "cell_type": "code",
   "execution_count": 211,
   "metadata": {},
   "outputs": [],
   "source": [
    "from typing import TypeVar, List, Callable\n",
    "_a = TypeVar('_a')\n",
    "\n",
    "# Comme list(filter(f, liste))\n",
    "def reduit_rec(f : Callable[[_a, _b], _a], acc : _a, liste : List[_b]) -> _a:\n",
    "    if len(liste) == 0:\n",
    "        return acc\n",
    "    else:\n",
    "        h, q = liste[0], liste[1:]\n",
    "        return reduit(f, f(acc, h), q)\n",
    "\n",
    "# Version non récursive, bien plus efficace\n",
    "def reduit(f : Callable[[_a, _b], _a], acc : _a, liste : List[_b]) -> _a:\n",
    "    acc_value = acc\n",
    "    for x in liste:\n",
    "        acc_value = f(acc_value, x)\n",
    "    return acc_value"
   ]
  },
  {
   "cell_type": "markdown",
   "metadata": {},
   "source": [
    "Très pratique pour calculer des sommes, notamment."
   ]
  },
  {
   "cell_type": "markdown",
   "metadata": {},
   "source": [
    "## Exercice 25 : `somme`, `produit`"
   ]
  },
  {
   "cell_type": "code",
   "execution_count": 212,
   "metadata": {},
   "outputs": [
    {
     "data": {
      "text/plain": [
       "45"
      ]
     },
     "execution_count": 212,
     "metadata": {},
     "output_type": "execute_result"
    },
    {
     "data": {
      "text/plain": [
       "45"
      ]
     },
     "execution_count": 212,
     "metadata": {},
     "output_type": "execute_result"
    },
    {
     "data": {
      "text/plain": [
       "45"
      ]
     },
     "execution_count": 212,
     "metadata": {},
     "output_type": "execute_result"
    }
   ],
   "source": [
    "from operator import add\n",
    "somme_rec = lambda liste: reduit_rec(add, 0, liste)\n",
    "somme = lambda liste: reduit(add, 0, liste)\n",
    "\n",
    "somme_rec(list(range(10)))\n",
    "somme(list(range(10)))\n",
    "sum(list(range(10)))"
   ]
  },
  {
   "cell_type": "code",
   "execution_count": 213,
   "metadata": {},
   "outputs": [
    {
     "name": "stdout",
     "output_type": "stream",
     "text": [
      "1.59 µs ± 16.5 ns per loop (mean ± std. dev. of 7 runs, 1000000 loops each)\n",
      "1.42 µs ± 85.8 ns per loop (mean ± std. dev. of 7 runs, 1000000 loops each)\n",
      "644 ns ± 7.56 ns per loop (mean ± std. dev. of 7 runs, 1000000 loops each)\n"
     ]
    }
   ],
   "source": [
    "%timeit somme_rec(list(range(10)))\n",
    "%timeit somme(list(range(10)))\n",
    "%timeit sum(list(range(10)))"
   ]
  },
  {
   "cell_type": "markdown",
   "metadata": {},
   "source": [
    "Pour de petites listes, la version récursive est aussi efficace que la version impérative. Chouette !"
   ]
  },
  {
   "cell_type": "code",
   "execution_count": 214,
   "metadata": {},
   "outputs": [
    {
     "name": "stdout",
     "output_type": "stream",
     "text": [
      "84.8 µs ± 1.34 µs per loop (mean ± std. dev. of 7 runs, 10000 loops each)\n",
      "83.1 µs ± 2.27 µs per loop (mean ± std. dev. of 7 runs, 10000 loops each)\n",
      "19.9 µs ± 1.05 µs per loop (mean ± std. dev. of 7 runs, 100000 loops each)\n"
     ]
    }
   ],
   "source": [
    "%timeit somme_rec(list(range(1000)))\n",
    "%timeit somme(list(range(1000)))\n",
    "%timeit sum(list(range(1000)))"
   ]
  },
  {
   "cell_type": "code",
   "execution_count": 205,
   "metadata": {},
   "outputs": [
    {
     "data": {
      "text/plain": [
       "120"
      ]
     },
     "execution_count": 205,
     "metadata": {},
     "output_type": "execute_result"
    }
   ],
   "source": [
    "from operator import mul\n",
    "produit = lambda liste: reduit(mul, 1, liste)\n",
    "\n",
    "produit(list(range(1, 6)))  # 5! = 120"
   ]
  },
  {
   "cell_type": "markdown",
   "metadata": {},
   "source": [
    "Bonus :"
   ]
  },
  {
   "cell_type": "code",
   "execution_count": 208,
   "metadata": {},
   "outputs": [
    {
     "name": "stdout",
     "output_type": "stream",
     "text": [
      "      1! =             1\n",
      "      2! =             2\n",
      "      3! =             6\n",
      "      4! =            24\n",
      "      5! =           120\n",
      "      6! =           720\n",
      "      7! =          5040\n",
      "      8! =         40320\n",
      "      9! =        362880\n",
      "     10! =       3628800\n",
      "     11! =      39916800\n",
      "     12! =     479001600\n",
      "     13! =    6227020800\n",
      "     14! =   87178291200\n"
     ]
    }
   ],
   "source": [
    "def factorielle(n : int) -> int:\n",
    "    return produit(range(1, n + 1))\n",
    "\n",
    "for n in range(1, 15):\n",
    "    print(\"{:>7}! = {:>13}\".format(n, factorielle(n)))"
   ]
  },
  {
   "cell_type": "markdown",
   "metadata": {},
   "source": [
    "## Exercice 26 : `miroir` version 2"
   ]
  },
  {
   "cell_type": "code",
   "execution_count": 220,
   "metadata": {},
   "outputs": [],
   "source": [
    "miroir = lambda liste: reduit(lambda l, x : [x] + l, [], liste)"
   ]
  },
  {
   "cell_type": "code",
   "execution_count": 221,
   "metadata": {
    "scrolled": true
   },
   "outputs": [
    {
     "data": {
      "text/plain": [
       "[11, 7, 5, 3, 2]"
      ]
     },
     "execution_count": 221,
     "metadata": {},
     "output_type": "execute_result"
    }
   ],
   "source": [
    "miroir([2, 3, 5, 7, 11])"
   ]
  },
  {
   "cell_type": "markdown",
   "metadata": {},
   "source": [
    "**Attention** en Python, les listes ne sont PAS simplement chainées, donc `lambda l, x : [x] + l` est en temps **linéaire** en $|l| = n$, pas en $\\mathcal{O}(1)$ comme en Caml/OCaml pour `fun l x -> x :: l`."
   ]
  },
  {
   "cell_type": "markdown",
   "metadata": {},
   "source": [
    "----\n",
    "# Arbres"
   ]
  },
  {
   "cell_type": "markdown",
   "metadata": {},
   "source": [
    "/!\\ Les deux dernières parties sont **bien plus difficiles** en Python qu'en Caml."
   ]
  },
  {
   "cell_type": "markdown",
   "metadata": {},
   "source": [
    "## Exercice 27"
   ]
  },
  {
   "cell_type": "code",
   "execution_count": 1,
   "metadata": {},
   "outputs": [],
   "source": [
    "from typing import Dict, Optional, Tuple\n",
    "\n",
    "# Impossible de définir un type récursivement, pas comme en Caml\n",
    "arbre_bin = Dict[str, Optional[Tuple[Dict, Dict]]]"
   ]
  },
  {
   "cell_type": "code",
   "execution_count": 37,
   "metadata": {
    "collapsed": true
   },
   "outputs": [],
   "source": [
    "from pprint import pprint"
   ]
  },
  {
   "cell_type": "code",
   "execution_count": 38,
   "metadata": {},
   "outputs": [],
   "source": [
    "arbre_test = {'Noeud': (\n",
    "        {'Noeud': (\n",
    "            {'Noeud': (\n",
    "                {'Feuille': None},\n",
    "                {'Feuille': None}\n",
    "            )},\n",
    "            {'Feuille': None}\n",
    "        )},\n",
    "        {'Feuille': None}\n",
    "    )}"
   ]
  },
  {
   "cell_type": "code",
   "execution_count": 39,
   "metadata": {},
   "outputs": [
    {
     "name": "stdout",
     "output_type": "stream",
     "text": [
      "{'Noeud': ({'Noeud': ({'Noeud': ({'Feuille': None}, {'Feuille': None})},\n",
      "                      {'Feuille': None})},\n",
      "           {'Feuille': None})}\n"
     ]
    }
   ],
   "source": [
    "pprint(arbre_test)"
   ]
  },
  {
   "cell_type": "markdown",
   "metadata": {},
   "source": [
    "Avec une syntaxe améliorée, on se rapproche de très près de la syntaxe de Caml/OCaml :"
   ]
  },
  {
   "cell_type": "code",
   "execution_count": 40,
   "metadata": {
    "collapsed": true
   },
   "outputs": [],
   "source": [
    "Feuille = {'Feuille': None}\n",
    "Noeud = lambda x, y : {'Noeud': (x, y)}"
   ]
  },
  {
   "cell_type": "code",
   "execution_count": 34,
   "metadata": {
    "collapsed": true
   },
   "outputs": [],
   "source": [
    "arbre_test = Noeud(Noeud(Noeud(Feuille, Feuille), Feuille), Feuille)"
   ]
  },
  {
   "cell_type": "code",
   "execution_count": 36,
   "metadata": {},
   "outputs": [
    {
     "name": "stdout",
     "output_type": "stream",
     "text": [
      "{'Noeud': ({'Noeud': ({'Noeud': ({'Feuille': None}, {'Feuille': None})},\n",
      "                      {'Feuille': None})},\n",
      "           {'Feuille': None})}\n"
     ]
    }
   ],
   "source": [
    "pprint(arbre_test)"
   ]
  },
  {
   "cell_type": "markdown",
   "metadata": {},
   "source": [
    "## Exercice 28"
   ]
  },
  {
   "cell_type": "markdown",
   "metadata": {},
   "source": [
    "Compte le nombre de feuilles et de sommets."
   ]
  },
  {
   "cell_type": "code",
   "execution_count": 5,
   "metadata": {},
   "outputs": [],
   "source": [
    "def taille(a : arbre_bin) -> int:\n",
    "    # Pattern matching ~= if, elif,.. sur les clés de la profondeur 1\n",
    "    # du dictionnaire (une seule clé)\n",
    "    if 'Feuille' in a:\n",
    "        return 1\n",
    "    elif 'Noeud' in a:\n",
    "        x, y = a['Noeud']\n",
    "        return 1 + taille(x) + taille(y)"
   ]
  },
  {
   "cell_type": "code",
   "execution_count": 6,
   "metadata": {},
   "outputs": [
    {
     "data": {
      "text/plain": [
       "7"
      ]
     },
     "execution_count": 6,
     "metadata": {},
     "output_type": "execute_result"
    }
   ],
   "source": [
    "taille(arbre_test)  # 7"
   ]
  },
  {
   "cell_type": "markdown",
   "metadata": {},
   "source": [
    "## Exercice 29"
   ]
  },
  {
   "cell_type": "code",
   "execution_count": 7,
   "metadata": {},
   "outputs": [],
   "source": [
    "def hauteur(a : arbre_bin) -> int:\n",
    "    if 'Feuille' in a:\n",
    "        return 0\n",
    "    elif 'Noeud' in a:\n",
    "        x, y = a['Noeud']\n",
    "        return 1 + max(hauteur(x), hauteur(y))"
   ]
  },
  {
   "cell_type": "code",
   "execution_count": 8,
   "metadata": {},
   "outputs": [
    {
     "data": {
      "text/plain": [
       "3"
      ]
     },
     "execution_count": 8,
     "metadata": {},
     "output_type": "execute_result"
    }
   ],
   "source": [
    "hauteur(arbre_test)  # 3"
   ]
  },
  {
   "cell_type": "markdown",
   "metadata": {},
   "source": [
    "## Exercice 30"
   ]
  },
  {
   "cell_type": "markdown",
   "metadata": {
    "collapsed": true
   },
   "source": [
    "Bonus. (Écrivez une fonction testant si un arbre étiqueté par des entiers est tournoi.)"
   ]
  },
  {
   "cell_type": "markdown",
   "metadata": {},
   "source": [
    "----\n",
    "# Parcours d'arbres binaires"
   ]
  },
  {
   "cell_type": "markdown",
   "metadata": {},
   "source": [
    "Après quelques exercices manipulant cette structure de dictionnaire, écrire la suite n'est pas trop difficile."
   ]
  },
  {
   "cell_type": "markdown",
   "metadata": {},
   "source": [
    "## Exercice 31"
   ]
  },
  {
   "cell_type": "code",
   "execution_count": 9,
   "metadata": {},
   "outputs": [],
   "source": [
    "from typing import TypeVar, Union, List\n",
    "\n",
    "F = TypeVar('F')\n",
    "N = TypeVar('N')\n",
    "\n",
    "element_parcours = Union[F, N]\n",
    "parcours = List[element_parcours]"
   ]
  },
  {
   "cell_type": "markdown",
   "metadata": {},
   "source": [
    "## Exercice 32 : Parcours naifs (complexité quadratique)"
   ]
  },
  {
   "cell_type": "code",
   "execution_count": 10,
   "metadata": {},
   "outputs": [
    {
     "data": {
      "text/plain": [
       "[~N, ~N, ~N, ~F, ~F, ~F, ~F]"
      ]
     },
     "execution_count": 10,
     "metadata": {},
     "output_type": "execute_result"
    }
   ],
   "source": [
    "def parcours_prefixe(a : arbre_bin) -> parcours:\n",
    "    if 'Feuille' in a:\n",
    "        return [F]\n",
    "    elif 'Noeud' in a:\n",
    "        g, d = a['Noeud']\n",
    "        return [N] + parcours_prefixe(g) + parcours_prefixe(d)\n",
    "\n",
    "parcours_prefixe(arbre_test)"
   ]
  },
  {
   "cell_type": "code",
   "execution_count": 11,
   "metadata": {},
   "outputs": [
    {
     "data": {
      "text/plain": [
       "[~F, ~F, ~N, ~F, ~N, ~F, ~N]"
      ]
     },
     "execution_count": 11,
     "metadata": {},
     "output_type": "execute_result"
    }
   ],
   "source": [
    "def parcours_postfixe(a : arbre_bin) -> parcours:\n",
    "    if 'Feuille' in a:\n",
    "        return [F]\n",
    "    elif 'Noeud' in a:\n",
    "        g, d = a['Noeud']\n",
    "        return parcours_postfixe(g) + parcours_postfixe(d) + [N]\n",
    "\n",
    "parcours_postfixe(arbre_test)"
   ]
  },
  {
   "cell_type": "code",
   "execution_count": 12,
   "metadata": {
    "scrolled": true
   },
   "outputs": [
    {
     "data": {
      "text/plain": [
       "[~F, ~N, ~F, ~N, ~F, ~N, ~F]"
      ]
     },
     "execution_count": 12,
     "metadata": {},
     "output_type": "execute_result"
    }
   ],
   "source": [
    "def parcours_infixe(a : arbre_bin) -> parcours:\n",
    "    if 'Feuille' in a:\n",
    "        return [F]\n",
    "    elif 'Noeud' in a:\n",
    "        g, d = a['Noeud']\n",
    "        return parcours_infixe(g) + [N] + parcours_infixe(d)\n",
    "\n",
    "parcours_infixe(arbre_test)"
   ]
  },
  {
   "cell_type": "markdown",
   "metadata": {},
   "source": [
    "Pourquoi ont-ils une complexité quadratique ? La concaténation (`@` en OCaml, `+` en Python) ne se fait pas en temps constant mais linéaire dans la taille de la plus longue liste."
   ]
  },
  {
   "cell_type": "markdown",
   "metadata": {},
   "source": [
    "## Exercice 33 : Parcours linéaires\n",
    "\n",
    "On ajoute une fonction auxiliaire et un argument `vus` qui est une liste qui stocke les élements observés dans l'ordre du parcours"
   ]
  },
  {
   "cell_type": "code",
   "execution_count": 13,
   "metadata": {},
   "outputs": [
    {
     "data": {
      "text/plain": [
       "[~N, ~N, ~N, ~F, ~F, ~F, ~F]"
      ]
     },
     "execution_count": 13,
     "metadata": {},
     "output_type": "execute_result"
    }
   ],
   "source": [
    "def parcours_prefixe2(a : arbre_bin) -> parcours:\n",
    "    def parcours(vus, b):\n",
    "        if 'Feuille' in b:\n",
    "            vus.insert(0, F)\n",
    "            return vus\n",
    "        elif 'Noeud' in b:\n",
    "            vus.insert(0, N)\n",
    "            g, d = b['Noeud']\n",
    "            return parcours(parcours(vus, g), d)\n",
    "    p = parcours([], a)\n",
    "    return p[::-1]\n",
    "\n",
    "parcours_prefixe2(arbre_test)"
   ]
  },
  {
   "cell_type": "code",
   "execution_count": 14,
   "metadata": {},
   "outputs": [
    {
     "data": {
      "text/plain": [
       "[~F, ~F, ~N, ~F, ~N, ~F, ~N]"
      ]
     },
     "execution_count": 14,
     "metadata": {},
     "output_type": "execute_result"
    }
   ],
   "source": [
    "def parcours_postfixe2(a : arbre_bin) -> parcours:\n",
    "    def parcours(vus, b):\n",
    "        if 'Feuille' in b:\n",
    "            vus.insert(0, F)\n",
    "            return vus\n",
    "        elif 'Noeud' in b:\n",
    "            g, d = b['Noeud']\n",
    "            p = parcours(parcours(vus, g), d)\n",
    "            p.insert(0, N)\n",
    "            return p\n",
    "    p = parcours([], a)\n",
    "    return p[::-1]\n",
    "\n",
    "parcours_postfixe2(arbre_test)"
   ]
  },
  {
   "cell_type": "code",
   "execution_count": 15,
   "metadata": {},
   "outputs": [
    {
     "data": {
      "text/plain": [
       "[~F, ~N, ~F, ~N, ~F, ~N, ~F]"
      ]
     },
     "execution_count": 15,
     "metadata": {},
     "output_type": "execute_result"
    }
   ],
   "source": [
    "def parcours_infixe2(a : arbre_bin) -> parcours:\n",
    "    def parcours(vus, b):\n",
    "        if 'Feuille' in b:\n",
    "            vus.insert(0, F)\n",
    "            return vus\n",
    "        elif 'Noeud' in b:\n",
    "            g, d = b['Noeud']\n",
    "            p = parcours(vus, g)\n",
    "            p.insert(0, N)\n",
    "            return parcours(p, d)\n",
    "    p = parcours([], a)\n",
    "    return p[::-1]\n",
    "\n",
    "parcours_infixe2(arbre_test)"
   ]
  },
  {
   "cell_type": "markdown",
   "metadata": {},
   "source": [
    "## Exercice 34 : parcours en largeur et en profondeur"
   ]
  },
  {
   "cell_type": "markdown",
   "metadata": {},
   "source": [
    "Pour utiliser une file de priorité (*priority queue*), on utilise le module [collections.deque](https://docs.python.org/3/library/collections.html#collections.deque)."
   ]
  },
  {
   "cell_type": "code",
   "execution_count": 16,
   "metadata": {},
   "outputs": [
    {
     "data": {
      "text/plain": [
       "[~N, ~N, ~F, ~N, ~F, ~F, ~F]"
      ]
     },
     "execution_count": 16,
     "metadata": {},
     "output_type": "execute_result"
    }
   ],
   "source": [
    "from collections import deque\n",
    "\n",
    "def parcours_largeur(a : arbre_bin) -> parcours:\n",
    "    file = deque()\n",
    "    # fonction avec effet de bord sur la file\n",
    "    def vasy() -> parcours:\n",
    "        if len(file) == 0:\n",
    "            return []\n",
    "        else:\n",
    "            b = file.pop()\n",
    "            if 'Feuille' in b:\n",
    "                # return [F] + vasy()\n",
    "                v = vasy()\n",
    "                v.insert(0, F)\n",
    "                return v\n",
    "            elif 'Noeud' in b:\n",
    "                g, d = b['Noeud']\n",
    "                file.insert(0, g)\n",
    "                file.insert(0, d)\n",
    "                # return [N] + vasy()\n",
    "                v = vasy()\n",
    "                v.insert(0, N)\n",
    "                return v\n",
    "    file.insert(0, a)\n",
    "    return vasy()\n",
    "\n",
    "parcours_largeur(arbre_test)"
   ]
  },
  {
   "cell_type": "markdown",
   "metadata": {},
   "source": [
    "En remplaçant la file par une pile (une simple `list`), on obtient le parcours en profondeur, avec la même complexité."
   ]
  },
  {
   "cell_type": "code",
   "execution_count": 17,
   "metadata": {},
   "outputs": [
    {
     "data": {
      "text/plain": [
       "[~N, ~N, ~N, ~F, ~F, ~F, ~F]"
      ]
     },
     "execution_count": 17,
     "metadata": {},
     "output_type": "execute_result"
    }
   ],
   "source": [
    "def parcours_profondeur(a : arbre_bin) -> parcours:\n",
    "    pile = []\n",
    "    # fonction avec effet de bord sur la file\n",
    "    def vasy() -> parcours:\n",
    "        if len(pile) == 0:\n",
    "            return []\n",
    "        else:\n",
    "            b = pile.pop()\n",
    "            if 'Feuille' in b:\n",
    "                # return [F] + vasy()\n",
    "                v = vasy()\n",
    "                v.append(F)\n",
    "                return v\n",
    "            elif 'Noeud' in b:\n",
    "                g, d = b['Noeud']\n",
    "                pile.append(g)\n",
    "                pile.append(d)\n",
    "                # return [N] + vasy()\n",
    "                v = vasy()\n",
    "                v.insert(0, N)\n",
    "                return v\n",
    "    pile.append(a)\n",
    "    return vasy()\n",
    "\n",
    "parcours_profondeur(arbre_test)"
   ]
  },
  {
   "cell_type": "markdown",
   "metadata": {},
   "source": [
    "## Exercice 35 et fin"
   ]
  },
  {
   "cell_type": "markdown",
   "metadata": {},
   "source": [
    "### Reconstruction depuis le parcours prefixe"
   ]
  },
  {
   "cell_type": "code",
   "execution_count": 18,
   "metadata": {
    "scrolled": true
   },
   "outputs": [
    {
     "data": {
      "text/plain": [
       "[~N, ~N, ~N, ~F, ~F, ~F, ~F]"
      ]
     },
     "execution_count": 18,
     "metadata": {},
     "output_type": "execute_result"
    }
   ],
   "source": [
    "test_prefixe = parcours_prefixe2(arbre_test)\n",
    "test_prefixe"
   ]
  },
  {
   "cell_type": "markdown",
   "metadata": {},
   "source": [
    "L'idée de cette solution est la suivante :\n",
    "j'aimerais une fonction récursive qui fasse le travail;\n",
    "le problème c'est que si on prend un parcours prefixe, soit il commence\n",
    "par F et l'arbre doit être une feuille; soit il est de la forme N::q\n",
    "où q n'est plus un parcours prefixe mais la concaténation de DEUX parcours\n",
    "prefixe, on ne peut donc plus appeler la fonction sur q.\n",
    "On va donc écrire une fonction qui prend une liste qui contient plusieurs\n",
    "parcours concaténé et qui renvoie l'arbre correspondant au premier parcours\n",
    "et ce qui n'a pas été utilisé :"
   ]
  },
  {
   "cell_type": "code",
   "execution_count": 22,
   "metadata": {
    "collapsed": true
   },
   "outputs": [],
   "source": [
    "from typing import Tuple\n",
    "\n",
    "def reconstruit_prefixe(par : parcours) -> arbre_bin:\n",
    "    def reconstruit(p : parcours) -> Tuple[arbre_bin, parcours]:\n",
    "        if len(p) == 0:\n",
    "            raise ValueError(\"parcours invalide pour reconstruit_prefixe\")\n",
    "        elif p[0] == F:\n",
    "            return (Feuille, p[1:])\n",
    "        elif p[0] == N:\n",
    "            g, q = reconstruit(p[1:])\n",
    "            d, r = reconstruit(q)\n",
    "            return (Noeud(g, d), r)\n",
    "    # call it\n",
    "    a, p = reconstruit(par)\n",
    "    if len(p) == 0:\n",
    "        return a\n",
    "    else:\n",
    "        raise ValueError(\"parcours invalide pour reconstruit_prefixe\")"
   ]
  },
  {
   "cell_type": "code",
   "execution_count": 23,
   "metadata": {},
   "outputs": [
    {
     "data": {
      "text/plain": [
       "{'Feuille': None}"
      ]
     },
     "execution_count": 23,
     "metadata": {},
     "output_type": "execute_result"
    }
   ],
   "source": [
    "reconstruit_prefixe([F])"
   ]
  },
  {
   "cell_type": "code",
   "execution_count": 24,
   "metadata": {},
   "outputs": [
    {
     "data": {
      "text/plain": [
       "{'Noeud': ({'Noeud': ({'Noeud': ({'Feuille': None}, {'Feuille': None})},\n",
       "    {'Feuille': None})},\n",
       "  {'Feuille': None})}"
      ]
     },
     "execution_count": 24,
     "metadata": {},
     "output_type": "execute_result"
    }
   ],
   "source": [
    "reconstruit_prefixe(test_prefixe)"
   ]
  },
  {
   "cell_type": "markdown",
   "metadata": {},
   "source": [
    "Et cet exemple va échouer :"
   ]
  },
  {
   "cell_type": "code",
   "execution_count": 25,
   "metadata": {},
   "outputs": [
    {
     "ename": "ValueError",
     "evalue": "parcours invalide pour reconstruit_prefixe",
     "output_type": "error",
     "traceback": [
      "\u001b[0;31m---------------------------------------------------------------------------\u001b[0m",
      "\u001b[0;31mValueError\u001b[0m                                Traceback (most recent call last)",
      "\u001b[0;32m<ipython-input-25-1df0bb84a92a>\u001b[0m in \u001b[0;36m<module>\u001b[0;34m()\u001b[0m\n\u001b[0;32m----> 1\u001b[0;31m \u001b[0mreconstruit_prefixe\u001b[0m\u001b[0;34m(\u001b[0m\u001b[0;34m[\u001b[0m\u001b[0mN\u001b[0m\u001b[0;34m,\u001b[0m \u001b[0mF\u001b[0m\u001b[0;34m,\u001b[0m \u001b[0mF\u001b[0m\u001b[0;34m]\u001b[0m \u001b[0;34m+\u001b[0m \u001b[0mtest_prefixe\u001b[0m\u001b[0;34m)\u001b[0m  \u001b[0;31m# échoue\u001b[0m\u001b[0;34m\u001b[0m\u001b[0m\n\u001b[0m",
      "\u001b[0;32m<ipython-input-22-c1349393389b>\u001b[0m in \u001b[0;36mreconstruit_prefixe\u001b[0;34m(par)\u001b[0m\n\u001b[1;32m     16\u001b[0m         \u001b[0;32mreturn\u001b[0m \u001b[0ma\u001b[0m\u001b[0;34m\u001b[0m\u001b[0m\n\u001b[1;32m     17\u001b[0m     \u001b[0;32melse\u001b[0m\u001b[0;34m:\u001b[0m\u001b[0;34m\u001b[0m\u001b[0m\n\u001b[0;32m---> 18\u001b[0;31m         \u001b[0;32mraise\u001b[0m \u001b[0mValueError\u001b[0m\u001b[0;34m(\u001b[0m\u001b[0;34m\"parcours invalide pour reconstruit_prefixe\"\u001b[0m\u001b[0;34m)\u001b[0m\u001b[0;34m\u001b[0m\u001b[0m\n\u001b[0m",
      "\u001b[0;31mValueError\u001b[0m: parcours invalide pour reconstruit_prefixe"
     ]
    }
   ],
   "source": [
    "reconstruit_prefixe([N, F, F] + test_prefixe)  # échoue"
   ]
  },
  {
   "cell_type": "markdown",
   "metadata": {},
   "source": [
    "### Reconstruction depuis le parcours en largeur"
   ]
  },
  {
   "cell_type": "markdown",
   "metadata": {},
   "source": [
    "Ce n'est pas évident quand on ne connait pas. L'idée est de se servir d'une file\n",
    "pour stocker les arbres qu'on reconstruit peu à peu depuis les feuilles. La file\n",
    "permet de récupérer les bons sous-arbres quand on rencontre un noeud"
   ]
  },
  {
   "cell_type": "code",
   "execution_count": 27,
   "metadata": {},
   "outputs": [
    {
     "data": {
      "text/plain": [
       "[~N, ~N, ~F, ~N, ~F, ~F, ~F]"
      ]
     },
     "execution_count": 27,
     "metadata": {},
     "output_type": "execute_result"
    }
   ],
   "source": [
    "largeur_test = parcours_largeur(arbre_test)\n",
    "largeur_test"
   ]
  },
  {
   "cell_type": "code",
   "execution_count": 41,
   "metadata": {
    "collapsed": true
   },
   "outputs": [],
   "source": [
    "from collections import deque\n",
    "\n",
    "def reconstruit_largeur(par : parcours) -> arbre_bin:\n",
    "    file = deque()\n",
    "    # Fonction avec effets de bord\n",
    "    def lire_element(e : element_parcours) -> None:\n",
    "        if e == F:\n",
    "            file.append(Feuille)\n",
    "        elif e == N:\n",
    "            d = file.popleft()\n",
    "            g = file.popleft()  # attention à l'ordre !\n",
    "            file.append(Noeud(g, d))\n",
    "    # Applique cette fonction à chaque élement du parcours\n",
    "    for e in reversed(par):\n",
    "        lire_element(e)\n",
    "    if len(file) == 1:\n",
    "        return file.popleft()\n",
    "    else:\n",
    "        raise ValueError(\"parcours invalide pour reconstruit_largeur\")"
   ]
  },
  {
   "cell_type": "code",
   "execution_count": 43,
   "metadata": {},
   "outputs": [
    {
     "data": {
      "text/plain": [
       "[~N, ~N, ~F, ~N, ~F, ~F, ~F]"
      ]
     },
     "execution_count": 43,
     "metadata": {},
     "output_type": "execute_result"
    },
    {
     "data": {
      "text/plain": [
       "{'Noeud': ({'Noeud': ({'Noeud': ({'Feuille': None}, {'Feuille': None})},\n",
       "    {'Feuille': None})},\n",
       "  {'Feuille': None})}"
      ]
     },
     "execution_count": 43,
     "metadata": {},
     "output_type": "execute_result"
    },
    {
     "data": {
      "text/plain": [
       "{'Noeud': ({'Noeud': ({'Noeud': ({'Feuille': None}, {'Feuille': None})},\n",
       "    {'Feuille': None})},\n",
       "  {'Feuille': None})}"
      ]
     },
     "execution_count": 43,
     "metadata": {},
     "output_type": "execute_result"
    }
   ],
   "source": [
    "largeur_test\n",
    "reconstruit_largeur(largeur_test)\n",
    "arbre_test"
   ]
  },
  {
   "cell_type": "markdown",
   "metadata": {},
   "source": [
    "Le même algorithme (enfin presque, modulo interversion de g et d)\n",
    "avec une pile donne une autre version de la reconstruction du parcours prefixe."
   ]
  },
  {
   "cell_type": "code",
   "execution_count": 44,
   "metadata": {},
   "outputs": [],
   "source": [
    "from collections import deque\n",
    "\n",
    "def reconstruit_prefixe2(par : parcours) -> arbre_bin:\n",
    "    pile = deque()\n",
    "    # Fonction avec effets de bord\n",
    "    def lire_element(e : element_parcours) -> None:\n",
    "        if e == F:\n",
    "            pile.append(Feuille)\n",
    "        elif e == N:\n",
    "            g = pile.pop()\n",
    "            d = pile.pop()  # attention à l'ordre !\n",
    "            pile.append(Noeud(g, d))\n",
    "    # Applique cette fonction à chaque élement du parcours\n",
    "    for e in reversed(par):\n",
    "        lire_element(e)\n",
    "    if len(pile) == 1:\n",
    "        return pile.pop()\n",
    "    else:\n",
    "        raise ValueError(\"parcours invalide pour reconstruit_prefixe2\")"
   ]
  },
  {
   "cell_type": "code",
   "execution_count": 45,
   "metadata": {},
   "outputs": [
    {
     "data": {
      "text/plain": [
       "[~N, ~N, ~N, ~F, ~F, ~F, ~F]"
      ]
     },
     "execution_count": 45,
     "metadata": {},
     "output_type": "execute_result"
    }
   ],
   "source": [
    "prefixe_test = parcours_prefixe2(arbre_test)\n",
    "prefixe_test"
   ]
  },
  {
   "cell_type": "code",
   "execution_count": 46,
   "metadata": {},
   "outputs": [
    {
     "data": {
      "text/plain": [
       "{'Noeud': ({'Noeud': ({'Noeud': ({'Feuille': None}, {'Feuille': None})},\n",
       "    {'Feuille': None})},\n",
       "  {'Feuille': None})}"
      ]
     },
     "execution_count": 46,
     "metadata": {},
     "output_type": "execute_result"
    },
    {
     "data": {
      "text/plain": [
       "{'Noeud': ({'Noeud': ({'Noeud': ({'Feuille': None}, {'Feuille': None})},\n",
       "    {'Feuille': None})},\n",
       "  {'Feuille': None})}"
      ]
     },
     "execution_count": 46,
     "metadata": {},
     "output_type": "execute_result"
    }
   ],
   "source": [
    "reconstruit_prefixe2(prefixe_test)\n",
    "arbre_test"
   ]
  },
  {
   "cell_type": "markdown",
   "metadata": {},
   "source": [
    "----\n",
    "# Conclusion\n",
    "\n",
    "Fin. À la séance prochaine."
   ]
  }
 ],
 "metadata": {
  "kernelspec": {
   "display_name": "Python 3",
   "language": "python",
   "name": "python3"
  },
  "language_info": {
   "codemirror_mode": {
    "name": "ipython",
    "version": 3
   },
   "file_extension": ".py",
   "mimetype": "text/x-python",
   "name": "python",
   "nbconvert_exporter": "python",
   "pygments_lexer": "ipython3",
   "version": "3.6.9"
  },
  "toc": {
   "base_numbering": 1,
   "nav_menu": {
    "height": "11px",
    "width": "251px"
   },
   "number_sections": true,
   "sideBar": true,
   "skip_h1_title": false,
   "title_cell": "Table of Contents",
   "title_sidebar": "Contents",
   "toc_cell": true,
   "toc_position": {
    "height": "523px",
    "left": "0px",
    "right": "1026px",
    "top": "116px",
    "width": "254px"
   },
   "toc_section_display": "block",
   "toc_window_display": true
  },
  "varInspector": {
   "cols": {
    "lenName": 16,
    "lenType": 16,
    "lenVar": 40
   },
   "kernels_config": {
    "python": {
     "delete_cmd_postfix": "",
     "delete_cmd_prefix": "del ",
     "library": "var_list.py",
     "varRefreshCmd": "print(var_dic_list())"
    },
    "r": {
     "delete_cmd_postfix": ") ",
     "delete_cmd_prefix": "rm(",
     "library": "var_list.r",
     "varRefreshCmd": "cat(var_dic_list()) "
    }
   },
   "types_to_exclude": [
    "module",
    "function",
    "builtin_function_or_method",
    "instance",
    "_Feature"
   ],
   "window_display": false
  }
 },
 "nbformat": 4,
 "nbformat_minor": 2
}
