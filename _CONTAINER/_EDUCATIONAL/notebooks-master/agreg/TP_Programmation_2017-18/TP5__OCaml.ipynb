{
 "cells": [
  {
   "cell_type": "markdown",
   "metadata": {
    "toc": "true"
   },
   "source": [
    "# Table of Contents\n",
    " <p><div class=\"lev1 toc-item\"><a href=\"#TP-5---Programmation-pour-la-préparation-à-l'agrégation-maths-option-info\" data-toc-modified-id=\"TP-5---Programmation-pour-la-préparation-à-l'agrégation-maths-option-info-1\"><span class=\"toc-item-num\">1&nbsp;&nbsp;</span>TP 5 - Programmation pour la préparation à l'agrégation maths option info</a></div><div class=\"lev1 toc-item\"><a href=\"#Représentation\" data-toc-modified-id=\"Représentation-2\"><span class=\"toc-item-num\">2&nbsp;&nbsp;</span>Représentation</a></div><div class=\"lev2 toc-item\"><a href=\"#Trois-représentations\" data-toc-modified-id=\"Trois-représentations-21\"><span class=\"toc-item-num\">2.1&nbsp;&nbsp;</span>Trois représentations</a></div><div class=\"lev3 toc-item\"><a href=\"#Matrice-d'adjacence\" data-toc-modified-id=\"Matrice-d'adjacence-211\"><span class=\"toc-item-num\">2.1.1&nbsp;&nbsp;</span>Matrice d'adjacence</a></div><div class=\"lev3 toc-item\"><a href=\"#Listes-d'adjancence\" data-toc-modified-id=\"Listes-d'adjancence-212\"><span class=\"toc-item-num\">2.1.2&nbsp;&nbsp;</span>Listes d'adjancence</a></div><div class=\"lev3 toc-item\"><a href=\"#Listes-d'arêtes\" data-toc-modified-id=\"Listes-d'arêtes-213\"><span class=\"toc-item-num\">2.1.3&nbsp;&nbsp;</span>Listes d'arêtes</a></div><div class=\"lev2 toc-item\"><a href=\"#Nombres-de-sommets-et-d'arcs\" data-toc-modified-id=\"Nombres-de-sommets-et-d'arcs-22\"><span class=\"toc-item-num\">2.2&nbsp;&nbsp;</span>Nombres de sommets et d'arcs</a></div><div class=\"lev3 toc-item\"><a href=\"#Matrice-d'adjacence\" data-toc-modified-id=\"Matrice-d'adjacence-221\"><span class=\"toc-item-num\">2.2.1&nbsp;&nbsp;</span>Matrice d'adjacence</a></div><div class=\"lev3 toc-item\"><a href=\"#Listes-d'adjacence\" data-toc-modified-id=\"Listes-d'adjacence-222\"><span class=\"toc-item-num\">2.2.2&nbsp;&nbsp;</span>Listes d'adjacence</a></div><div class=\"lev3 toc-item\"><a href=\"#Listes-d'arêtes\" data-toc-modified-id=\"Listes-d'arêtes-223\"><span class=\"toc-item-num\">2.2.3&nbsp;&nbsp;</span>Listes d'arêtes</a></div><div class=\"lev2 toc-item\"><a href=\"#Graphes-pondérés\" data-toc-modified-id=\"Graphes-pondérés-23\"><span class=\"toc-item-num\">2.3&nbsp;&nbsp;</span>Graphes pondérés</a></div><div class=\"lev3 toc-item\"><a href=\"#Matrice-d'adjacence\" data-toc-modified-id=\"Matrice-d'adjacence-231\"><span class=\"toc-item-num\">2.3.1&nbsp;&nbsp;</span>Matrice d'adjacence</a></div><div class=\"lev3 toc-item\"><a href=\"#Listes-d'adjacence\" data-toc-modified-id=\"Listes-d'adjacence-232\"><span class=\"toc-item-num\">2.3.2&nbsp;&nbsp;</span>Listes d'adjacence</a></div><div class=\"lev3 toc-item\"><a href=\"#Listes-d'arêtes\" data-toc-modified-id=\"Listes-d'arêtes-233\"><span class=\"toc-item-num\">2.3.3&nbsp;&nbsp;</span>Listes d'arêtes</a></div><div class=\"lev2 toc-item\"><a href=\"#Graphes-colorés\" data-toc-modified-id=\"Graphes-colorés-24\"><span class=\"toc-item-num\">2.4&nbsp;&nbsp;</span>Graphes colorés</a></div><div class=\"lev3 toc-item\"><a href=\"#Matrice-d'adjacence\" data-toc-modified-id=\"Matrice-d'adjacence-241\"><span class=\"toc-item-num\">2.4.1&nbsp;&nbsp;</span>Matrice d'adjacence</a></div><div class=\"lev3 toc-item\"><a href=\"#Listes-d'adjacence\" data-toc-modified-id=\"Listes-d'adjacence-242\"><span class=\"toc-item-num\">2.4.2&nbsp;&nbsp;</span>Listes d'adjacence</a></div><div class=\"lev3 toc-item\"><a href=\"#Listes-d'arêtes\" data-toc-modified-id=\"Listes-d'arêtes-243\"><span class=\"toc-item-num\">2.4.3&nbsp;&nbsp;</span>Listes d'arêtes</a></div><div class=\"lev2 toc-item\"><a href=\"#Degrés\" data-toc-modified-id=\"Degrés-25\"><span class=\"toc-item-num\">2.5&nbsp;&nbsp;</span>Degrés</a></div><div class=\"lev3 toc-item\"><a href=\"#Matrice-d'adjacence\" data-toc-modified-id=\"Matrice-d'adjacence-251\"><span class=\"toc-item-num\">2.5.1&nbsp;&nbsp;</span>Matrice d'adjacence</a></div><div class=\"lev3 toc-item\"><a href=\"#Listes-d'adjacence\" data-toc-modified-id=\"Listes-d'adjacence-252\"><span class=\"toc-item-num\">2.5.2&nbsp;&nbsp;</span>Listes d'adjacence</a></div><div class=\"lev3 toc-item\"><a href=\"#Listes-d'arêtes\" data-toc-modified-id=\"Listes-d'arêtes-253\"><span class=\"toc-item-num\">2.5.3&nbsp;&nbsp;</span>Listes d'arêtes</a></div><div class=\"lev1 toc-item\"><a href=\"#Parcours-de-graphes\" data-toc-modified-id=\"Parcours-de-graphes-3\"><span class=\"toc-item-num\">3&nbsp;&nbsp;</span>Parcours de graphes</a></div><div class=\"lev2 toc-item\"><a href=\"#Parcours-en-profondeur-et-largeur\" data-toc-modified-id=\"Parcours-en-profondeur-et-largeur-31\"><span class=\"toc-item-num\">3.1&nbsp;&nbsp;</span>Parcours en profondeur et largeur</a></div><div class=\"lev3 toc-item\"><a href=\"#En-profondeur-:-avec-une-pile-(Stack)\" data-toc-modified-id=\"En-profondeur-:-avec-une-pile-(Stack)-311\"><span class=\"toc-item-num\">3.1.1&nbsp;&nbsp;</span>En profondeur : avec une pile (<code>Stack</code>)</a></div><div class=\"lev3 toc-item\"><a href=\"#En-largeur-:-avec-une-file-(Queue)\" data-toc-modified-id=\"En-largeur-:-avec-une-file-(Queue)-312\"><span class=\"toc-item-num\">3.1.2&nbsp;&nbsp;</span>En largeur : avec une file (<code>Queue</code>)</a></div><div class=\"lev2 toc-item\"><a href=\"#est_connexe\" data-toc-modified-id=\"est_connexe-32\"><span class=\"toc-item-num\">3.2&nbsp;&nbsp;</span><code>est_connexe</code></a></div><div class=\"lev2 toc-item\"><a href=\"#est_arbre\" data-toc-modified-id=\"est_arbre-33\"><span class=\"toc-item-num\">3.3&nbsp;&nbsp;</span><code>est_arbre</code></a></div><div class=\"lev2 toc-item\"><a href=\"#composantes_connexes\" data-toc-modified-id=\"composantes_connexes-34\"><span class=\"toc-item-num\">3.4&nbsp;&nbsp;</span><code>composantes_connexes</code></a></div><div class=\"lev2 toc-item\"><a href=\"#2-coloriage\" data-toc-modified-id=\"2-coloriage-35\"><span class=\"toc-item-num\">3.5&nbsp;&nbsp;</span>2-coloriage</a></div><div class=\"lev1 toc-item\"><a href=\"#Cycles-eulériens\" data-toc-modified-id=\"Cycles-eulériens-4\"><span class=\"toc-item-num\">4&nbsp;&nbsp;</span>Cycles eulériens</a></div><div class=\"lev2 toc-item\"><a href=\"#existe_cycle_eulerien\" data-toc-modified-id=\"existe_cycle_eulerien-41\"><span class=\"toc-item-num\">4.1&nbsp;&nbsp;</span><code>existe_cycle_eulerien</code></a></div><div class=\"lev2 toc-item\"><a href=\"#La-suite\" data-toc-modified-id=\"La-suite-42\"><span class=\"toc-item-num\">4.2&nbsp;&nbsp;</span>La suite</a></div><div class=\"lev1 toc-item\"><a href=\"#Conclusion\" data-toc-modified-id=\"Conclusion-5\"><span class=\"toc-item-num\">5&nbsp;&nbsp;</span>Conclusion</a></div>"
   ]
  },
  {
   "cell_type": "markdown",
   "metadata": {},
   "source": [
    "# TP 5 - Programmation pour la préparation à l'agrégation maths option info\n",
    "TP 5 : Graphes."
   ]
  },
  {
   "cell_type": "markdown",
   "metadata": {},
   "source": [
    "- En OCaml."
   ]
  },
  {
   "cell_type": "code",
   "execution_count": 2,
   "metadata": {},
   "outputs": [
    {
     "data": {
      "text/plain": [
       "val print : ('a, out_channel, unit) format -> 'a = <fun>\n"
      ]
     },
     "execution_count": 2,
     "metadata": {},
     "output_type": "execute_result"
    },
    {
     "name": "stdout",
     "output_type": "stream",
     "text": [
      "The OCaml toplevel, version 4.04.2\n"
     ]
    },
    {
     "data": {
      "text/plain": [
       "- : int = 0\n"
      ]
     },
     "execution_count": 2,
     "metadata": {},
     "output_type": "execute_result"
    }
   ],
   "source": [
    "let print = Printf.printf;;\n",
    "Sys.command \"ocaml -version\";;"
   ]
  },
  {
   "cell_type": "code",
   "execution_count": 3,
   "metadata": {},
   "outputs": [
    {
     "data": {
      "text/plain": [
       "- : string -> unit = <fun>\n"
      ]
     },
     "execution_count": 3,
     "metadata": {},
     "output_type": "execute_result"
    }
   ],
   "source": [
    "print_endline"
   ]
  },
  {
   "cell_type": "markdown",
   "metadata": {},
   "source": [
    "----\n",
    "# Représentation"
   ]
  },
  {
   "cell_type": "markdown",
   "metadata": {},
   "source": [
    "On prend un petit exemple de graphe avec lequel on va travailler, pour vérifier que chaque représentation permet bien de le représenter.\n",
    "\n",
    "Graphe :\n",
    "\n",
    "    0 - 1\n",
    "    0 - 2\n",
    "\n",
    "![TP5__exemple_graphe.svg](TP5__exemple_graphe.svg)"
   ]
  },
  {
   "cell_type": "markdown",
   "metadata": {},
   "source": [
    "## Trois représentations"
   ]
  },
  {
   "cell_type": "code",
   "execution_count": 4,
   "metadata": {},
   "outputs": [
    {
     "data": {
      "text/plain": [
       "type sommet = int\n"
      ]
     },
     "execution_count": 4,
     "metadata": {},
     "output_type": "execute_result"
    }
   ],
   "source": [
    "type sommet = int;;"
   ]
  },
  {
   "cell_type": "markdown",
   "metadata": {},
   "source": [
    "On supposera que les sommets sont toujours numérotés de $0$ à $n-1$."
   ]
  },
  {
   "cell_type": "markdown",
   "metadata": {},
   "source": [
    "Pour des graphes non orientés, on doit stocker deux fois chaque arête : $a \\to b$ et $b \\to a$.\n",
    "\n",
    "<span style=\"color:red;\">On suppose aussi que des arêtes de la forme $a - a$ ne sont pas considérées : pas de boucle sur soi-même ! Ca simplifie les codes...</span>"
   ]
  },
  {
   "cell_type": "markdown",
   "metadata": {},
   "source": [
    "### Matrice d'adjacence"
   ]
  },
  {
   "cell_type": "markdown",
   "metadata": {},
   "source": [
    "Plutôt que d'utiliser des `bool`, on utilise `0` et `1` pour facilement compter le nombre d'arêtes en sommant le nombre de `1`.\n",
    "(en plus, ça s'écrit plus vite !)"
   ]
  },
  {
   "cell_type": "code",
   "execution_count": 5,
   "metadata": {
    "scrolled": true
   },
   "outputs": [
    {
     "data": {
      "text/plain": [
       "type graphe_mat = int array array\n"
      ]
     },
     "execution_count": 5,
     "metadata": {},
     "output_type": "execute_result"
    }
   ],
   "source": [
    "type graphe_mat = int array array;;"
   ]
  },
  {
   "cell_type": "code",
   "execution_count": 6,
   "metadata": {},
   "outputs": [
    {
     "data": {
      "text/plain": [
       "val g1__mat : graphe_mat = [|[|0; 1; 1|]; [|1; 0; 0|]; [|1; 0; 0|]|]\n"
      ]
     },
     "execution_count": 6,
     "metadata": {},
     "output_type": "execute_result"
    }
   ],
   "source": [
    "let g1__mat : graphe_mat = [|\n",
    "        [| 0; 1; 1 |];  (* 0 -- 1 et 0 -- 2 *)\n",
    "        [| 1; 0; 0 |];  (* 1 -- 0 *)\n",
    "        [| 1; 0; 0 |]   (* 2 -- 0 *)\n",
    "    |]\n",
    ";;"
   ]
  },
  {
   "cell_type": "markdown",
   "metadata": {},
   "source": [
    "### Listes d'adjancence"
   ]
  },
  {
   "cell_type": "code",
   "execution_count": 7,
   "metadata": {},
   "outputs": [
    {
     "data": {
      "text/plain": [
       "type graphe_adj = sommet list array\n"
      ]
     },
     "execution_count": 7,
     "metadata": {},
     "output_type": "execute_result"
    }
   ],
   "source": [
    "type graphe_adj = (sommet list) array;;"
   ]
  },
  {
   "cell_type": "code",
   "execution_count": 8,
   "metadata": {},
   "outputs": [
    {
     "data": {
      "text/plain": [
       "val g1__adj : graphe_adj = [|[1; 2]; [0]; [0]|]\n"
      ]
     },
     "execution_count": 8,
     "metadata": {},
     "output_type": "execute_result"
    }
   ],
   "source": [
    "let g1__adj : graphe_adj = [|\n",
    "    [1; 2]; (* 0 -- 1 et 0 -- 2 *)\n",
    "    [0]; (* 1 -- 0 *)\n",
    "    [0]  (* 2 -- 0 *)\n",
    "|];;"
   ]
  },
  {
   "cell_type": "markdown",
   "metadata": {},
   "source": [
    "### Listes d'arêtes"
   ]
  },
  {
   "cell_type": "code",
   "execution_count": 9,
   "metadata": {},
   "outputs": [
    {
     "data": {
      "text/plain": [
       "type arete = sommet * sommet\n"
      ]
     },
     "execution_count": 9,
     "metadata": {},
     "output_type": "execute_result"
    },
    {
     "data": {
      "text/plain": [
       "type graphe_art = arete list\n"
      ]
     },
     "execution_count": 9,
     "metadata": {},
     "output_type": "execute_result"
    }
   ],
   "source": [
    "type arete = sommet * sommet;;\n",
    "type graphe_art = arete list;;"
   ]
  },
  {
   "cell_type": "code",
   "execution_count": 10,
   "metadata": {},
   "outputs": [
    {
     "data": {
      "text/plain": [
       "val g1__art : graphe_art = [(0, 1); (0, 2); (1, 0); (2, 0)]\n"
      ]
     },
     "execution_count": 10,
     "metadata": {},
     "output_type": "execute_result"
    }
   ],
   "source": [
    "let g1__art : graphe_art = [\n",
    "    (0, 1); (0, 2); (* 0 -- 1 et 0 -- 2 *)\n",
    "    (1, 0); (* 1 -- 0 *)\n",
    "    (2, 0)  (* 2 -- 0 *)\n",
    "];;"
   ]
  },
  {
   "cell_type": "markdown",
   "metadata": {},
   "source": [
    "## Nombres de sommets et d'arcs"
   ]
  },
  {
   "cell_type": "markdown",
   "metadata": {},
   "source": [
    "### Matrice d'adjacence"
   ]
  },
  {
   "cell_type": "markdown",
   "metadata": {},
   "source": [
    "Pour `graphe_mat`, `nb_sommets` est en $\\mathcal{O}(1)$ et `nb_arcs` est en $\\mathcal{O}(n^2)$."
   ]
  },
  {
   "cell_type": "code",
   "execution_count": 11,
   "metadata": {},
   "outputs": [
    {
     "data": {
      "text/plain": [
       "val somme_tableau : int array -> int = <fun>\n"
      ]
     },
     "execution_count": 11,
     "metadata": {},
     "output_type": "execute_result"
    },
    {
     "data": {
      "text/plain": [
       "val somme_matrice : int array array -> int = <fun>\n"
      ]
     },
     "execution_count": 11,
     "metadata": {},
     "output_type": "execute_result"
    }
   ],
   "source": [
    "let somme_tableau = Array.fold_left (+) 0;;\n",
    "let somme_matrice = Array.fold_left (fun x a -> x + (somme_tableau a)) 0;;"
   ]
  },
  {
   "cell_type": "code",
   "execution_count": 12,
   "metadata": {
    "scrolled": true
   },
   "outputs": [
    {
     "data": {
      "text/plain": [
       "val nb_sommets__mat : graphe_mat -> int = <fun>\n"
      ]
     },
     "execution_count": 12,
     "metadata": {},
     "output_type": "execute_result"
    },
    {
     "data": {
      "text/plain": [
       "- : int = 3\n"
      ]
     },
     "execution_count": 12,
     "metadata": {},
     "output_type": "execute_result"
    },
    {
     "data": {
      "text/plain": [
       "val nb_arcs__mat : graphe_mat -> int = <fun>\n"
      ]
     },
     "execution_count": 12,
     "metadata": {},
     "output_type": "execute_result"
    },
    {
     "data": {
      "text/plain": [
       "- : int = 2\n"
      ]
     },
     "execution_count": 12,
     "metadata": {},
     "output_type": "execute_result"
    }
   ],
   "source": [
    "let nb_sommets__mat (g : graphe_mat) : int = Array.length g ;;\n",
    "nb_sommets__mat g1__mat;;\n",
    "\n",
    "let nb_arcs__mat (g : graphe_mat) : int = (somme_matrice g) / 2 ;;\n",
    "nb_arcs__mat g1__mat;;"
   ]
  },
  {
   "cell_type": "markdown",
   "metadata": {},
   "source": [
    "### Listes d'adjacence"
   ]
  },
  {
   "cell_type": "markdown",
   "metadata": {},
   "source": [
    "Pour `graphe_adj`, `nb_sommets` est en $\\mathcal{O}(1)$ et `nb_arcs` est en $\\mathcal{O}(n)$."
   ]
  },
  {
   "cell_type": "code",
   "execution_count": 13,
   "metadata": {},
   "outputs": [
    {
     "data": {
      "text/plain": [
       "val somme_list : int list -> int = <fun>\n"
      ]
     },
     "execution_count": 13,
     "metadata": {},
     "output_type": "execute_result"
    }
   ],
   "source": [
    "let somme_list = List.fold_left (+) 0;;"
   ]
  },
  {
   "cell_type": "code",
   "execution_count": 14,
   "metadata": {},
   "outputs": [
    {
     "data": {
      "text/plain": [
       "val nb_sommets__adj : graphe_adj -> int = <fun>\n"
      ]
     },
     "execution_count": 14,
     "metadata": {},
     "output_type": "execute_result"
    },
    {
     "data": {
      "text/plain": [
       "- : int = 3\n"
      ]
     },
     "execution_count": 14,
     "metadata": {},
     "output_type": "execute_result"
    },
    {
     "data": {
      "text/plain": [
       "val nb_arcs__adj : graphe_adj -> int = <fun>\n"
      ]
     },
     "execution_count": 14,
     "metadata": {},
     "output_type": "execute_result"
    },
    {
     "data": {
      "text/plain": [
       "- : int = 2\n"
      ]
     },
     "execution_count": 14,
     "metadata": {},
     "output_type": "execute_result"
    }
   ],
   "source": [
    "let nb_sommets__adj (g : graphe_adj) : int = Array.length g ;;\n",
    "nb_sommets__adj g1__adj;;\n",
    "\n",
    "\n",
    "let nb_arcs__adj (g : graphe_adj) : int = (somme_list (Array.to_list (Array.map List.length g))) / 2 ;;\n",
    "nb_arcs__adj g1__adj;;"
   ]
  },
  {
   "cell_type": "markdown",
   "metadata": {},
   "source": [
    "### Listes d'arêtes"
   ]
  },
  {
   "cell_type": "markdown",
   "metadata": {},
   "source": [
    "Pour `graphe_art`, `nb_sommets` est en $\\mathcal{O}(n)$ et `nb_arcs` est en $\\mathcal{O}(1)$."
   ]
  },
  {
   "cell_type": "code",
   "execution_count": 15,
   "metadata": {},
   "outputs": [
    {
     "data": {
      "text/plain": [
       "val max_list : int list -> int = <fun>\n"
      ]
     },
     "execution_count": 15,
     "metadata": {},
     "output_type": "execute_result"
    },
    {
     "data": {
      "text/plain": [
       "- : int = 19\n"
      ]
     },
     "execution_count": 15,
     "metadata": {},
     "output_type": "execute_result"
    }
   ],
   "source": [
    "let max_list = List.fold_left max min_int;;\n",
    "max_list [1; 3; 4; 19];;"
   ]
  },
  {
   "cell_type": "code",
   "execution_count": 16,
   "metadata": {},
   "outputs": [
    {
     "data": {
      "text/plain": [
       "val max_list_couple : (int * int) list -> int = <fun>\n"
      ]
     },
     "execution_count": 16,
     "metadata": {},
     "output_type": "execute_result"
    }
   ],
   "source": [
    "let max_list_couple l =\n",
    "    let g, d = List.split l in\n",
    "    max (max_list g) (max_list d)\n",
    ";;"
   ]
  },
  {
   "cell_type": "code",
   "execution_count": 17,
   "metadata": {},
   "outputs": [
    {
     "data": {
      "text/plain": [
       "val nb_sommets__art : graphe_art -> int = <fun>\n"
      ]
     },
     "execution_count": 17,
     "metadata": {},
     "output_type": "execute_result"
    },
    {
     "data": {
      "text/plain": [
       "- : int = 3\n"
      ]
     },
     "execution_count": 17,
     "metadata": {},
     "output_type": "execute_result"
    },
    {
     "data": {
      "text/plain": [
       "val nb_arcs__art : graphe_art -> int = <fun>\n"
      ]
     },
     "execution_count": 17,
     "metadata": {},
     "output_type": "execute_result"
    },
    {
     "data": {
      "text/plain": [
       "- : int = 2\n"
      ]
     },
     "execution_count": 17,
     "metadata": {},
     "output_type": "execute_result"
    }
   ],
   "source": [
    "let nb_sommets__art (g : graphe_art) : int = 1 + (max_list_couple g);;\n",
    "nb_sommets__art g1__art;;\n",
    "\n",
    "let nb_arcs__art (g : graphe_art) : int = (List.length g) / 2 ;;\n",
    "nb_arcs__art g1__art;;"
   ]
  },
  {
   "cell_type": "markdown",
   "metadata": {},
   "source": [
    "## Graphes pondérés"
   ]
  },
  {
   "cell_type": "markdown",
   "metadata": {},
   "source": [
    "La définition des types est assez explicite. On utilise le même exemple de graphe :\n",
    "\n",
    "    0 -[2]- 1\n",
    "    0 -[3]- 2\n",
    "\n",
    "![TP5__exemple_graphe2.svg](TP5__exemple_graphe2.svg)"
   ]
  },
  {
   "cell_type": "code",
   "execution_count": 18,
   "metadata": {},
   "outputs": [
    {
     "data": {
      "text/plain": [
       "type poids = int\n"
      ]
     },
     "execution_count": 18,
     "metadata": {},
     "output_type": "execute_result"
    }
   ],
   "source": [
    "type poids = int;;"
   ]
  },
  {
   "cell_type": "markdown",
   "metadata": {},
   "source": [
    "### Matrice d'adjacence"
   ]
  },
  {
   "cell_type": "markdown",
   "metadata": {},
   "source": [
    "`None` indique une absence d'arête, `Some x` une arête pondérée par `x`.\n",
    "Aucune raison qu'on ne puisse pas pondérer par `0`, donc utiliser seulement `0` pour indiquer une absence d'arête ne marchera pas."
   ]
  },
  {
   "cell_type": "code",
   "execution_count": 19,
   "metadata": {
    "scrolled": true
   },
   "outputs": [
    {
     "data": {
      "text/plain": [
       "type graphe_mat_pond = poids option array array\n"
      ]
     },
     "execution_count": 19,
     "metadata": {},
     "output_type": "execute_result"
    }
   ],
   "source": [
    "type graphe_mat_pond = (poids option) array array;;"
   ]
  },
  {
   "cell_type": "code",
   "execution_count": 20,
   "metadata": {},
   "outputs": [
    {
     "data": {
      "text/plain": [
       "val g1__mat_pond : graphe_mat_pond =\n",
       "  [|[|None; Some 2; Some 3|]; [|Some 2; None; None|];\n",
       "    [|Some 3; None; None|]|]\n"
      ]
     },
     "execution_count": 20,
     "metadata": {},
     "output_type": "execute_result"
    }
   ],
   "source": [
    "let g1__mat_pond : graphe_mat_pond = [|\n",
    "        [| None; Some 2; Some 3 |];  (* 0 -[2]- 1 et 0 -[3]- 2 *)\n",
    "        [| Some 2; None; None |];  (* 1 -[2]- 0 *)\n",
    "        [| Some 3; None; None |]   (* 2 -[3]- 0 *)\n",
    "    |]\n",
    ";;"
   ]
  },
  {
   "cell_type": "markdown",
   "metadata": {},
   "source": [
    "### Listes d'adjacence"
   ]
  },
  {
   "cell_type": "markdown",
   "metadata": {},
   "source": [
    "C'est plus facile :"
   ]
  },
  {
   "cell_type": "code",
   "execution_count": 21,
   "metadata": {
    "scrolled": false
   },
   "outputs": [
    {
     "data": {
      "text/plain": [
       "type graphe_adj_pond = (sommet * poids) list array\n"
      ]
     },
     "execution_count": 21,
     "metadata": {},
     "output_type": "execute_result"
    }
   ],
   "source": [
    "type graphe_adj_pond = ((sommet * poids) list) array;;"
   ]
  },
  {
   "cell_type": "code",
   "execution_count": 22,
   "metadata": {},
   "outputs": [
    {
     "data": {
      "text/plain": [
       "val g1__adj_pond : graphe_adj_pond = [|[(1, 2); (2, 3)]; [(0, 2)]; [(0, 3)]|]\n"
      ]
     },
     "execution_count": 22,
     "metadata": {},
     "output_type": "execute_result"
    }
   ],
   "source": [
    "let g1__adj_pond : graphe_adj_pond = [|\n",
    "    [(1, 2); (2, 3)]; (* 0 -[2]- 1 et 0 -[3]- 2 *)\n",
    "    [(0, 2)]; (* 1 -[2]- 0 *)\n",
    "    [(0, 3)]  (* 2 -[3]- 0 *)\n",
    "|];;"
   ]
  },
  {
   "cell_type": "markdown",
   "metadata": {},
   "source": [
    "### Listes d'arêtes"
   ]
  },
  {
   "cell_type": "markdown",
   "metadata": {},
   "source": [
    "C'est très facile :"
   ]
  },
  {
   "cell_type": "code",
   "execution_count": 23,
   "metadata": {},
   "outputs": [
    {
     "data": {
      "text/plain": [
       "type arete_pond = sommet * poids * sommet\n"
      ]
     },
     "execution_count": 23,
     "metadata": {},
     "output_type": "execute_result"
    },
    {
     "data": {
      "text/plain": [
       "type graphe_art_pond = arete_pond list\n"
      ]
     },
     "execution_count": 23,
     "metadata": {},
     "output_type": "execute_result"
    }
   ],
   "source": [
    "type arete_pond = sommet * poids * sommet;;\n",
    "type graphe_art_pond = arete_pond list;;"
   ]
  },
  {
   "cell_type": "code",
   "execution_count": 24,
   "metadata": {
    "scrolled": true
   },
   "outputs": [
    {
     "data": {
      "text/plain": [
       "val g1__art_pond : graphe_art_pond =\n",
       "  [(0, 2, 1); (0, 3, 2); (1, 2, 0); (2, 3, 0)]\n"
      ]
     },
     "execution_count": 24,
     "metadata": {},
     "output_type": "execute_result"
    }
   ],
   "source": [
    "let g1__art_pond : graphe_art_pond = [\n",
    "    (0, 2, 1); (0, 3, 2); (* 0 -[2]- 1 et 0 -[3]- 2 *)\n",
    "    (1, 2, 0); (* 1 -[2]- 0 *)\n",
    "    (2, 3, 0)  (* 2 -[3]- 0 *)\n",
    "];;"
   ]
  },
  {
   "cell_type": "markdown",
   "metadata": {},
   "source": [
    "## Graphes colorés"
   ]
  },
  {
   "cell_type": "markdown",
   "metadata": {},
   "source": [
    "La définition des types est assez explicite. On utilise le même exemple de graphe :\n",
    "\n",
    "    0 [rouge] -- 1 [bleu]\n",
    "    0 [rouge] -- 2 [vert]\n",
    "\n",
    "![TP5__exemple_graphe3.svg](TP5__exemple_graphe3.svg)"
   ]
  },
  {
   "cell_type": "code",
   "execution_count": 25,
   "metadata": {},
   "outputs": [
    {
     "data": {
      "text/plain": [
       "type couleur = int\n"
      ]
     },
     "execution_count": 25,
     "metadata": {},
     "output_type": "execute_result"
    },
    {
     "data": {
      "text/plain": [
       "val rouge : couleur = 1\n",
       "val bleu : couleur = 2\n",
       "val vert : couleur = 3\n"
      ]
     },
     "execution_count": 25,
     "metadata": {},
     "output_type": "execute_result"
    }
   ],
   "source": [
    "type couleur = int;;\n",
    "let rouge : couleur = 1 and bleu : couleur = 2 and vert : couleur = 3;;"
   ]
  },
  {
   "cell_type": "markdown",
   "metadata": {},
   "source": [
    "### Matrice d'adjacence"
   ]
  },
  {
   "cell_type": "markdown",
   "metadata": {},
   "source": [
    "C'est moins facile ! On est obligé d'ajouter une structure qui contient la liste des couleurs séparément... Et donc ce n'est pas très intéressant..."
   ]
  },
  {
   "cell_type": "code",
   "execution_count": 26,
   "metadata": {
    "scrolled": true
   },
   "outputs": [
    {
     "data": {
      "text/plain": [
       "type graphe_mat_color = { mat : int array array; couleurs : couleur array; }\n"
      ]
     },
     "execution_count": 26,
     "metadata": {},
     "output_type": "execute_result"
    }
   ],
   "source": [
    "type graphe_mat_color = { mat : int array array; couleurs : couleur array } ;;"
   ]
  },
  {
   "cell_type": "code",
   "execution_count": 27,
   "metadata": {},
   "outputs": [
    {
     "data": {
      "text/plain": [
       "val g1__mat_color : graphe_mat_color =\n",
       "  {mat = [|[|0; 1; 1|]; [|1; 0; 0|]; [|1; 0; 0|]|]; couleurs = [|1; 2; 3|]}\n"
      ]
     },
     "execution_count": 27,
     "metadata": {},
     "output_type": "execute_result"
    }
   ],
   "source": [
    "let g1__mat_color : graphe_mat_color = { mat = [|\n",
    "        [| 0; 1; 1 |];  (* 0 -- 1 et 0 -- 2 *)\n",
    "        [| 1; 0; 0 |];  (* 1 -- 0 *)\n",
    "        [| 1; 0; 0 |]   (* 2 -- 0 *)\n",
    "    |];\n",
    "    couleurs = [| rouge; bleu; vert |]\n",
    "};;"
   ]
  },
  {
   "cell_type": "markdown",
   "metadata": {},
   "source": [
    "### Listes d'adjacence"
   ]
  },
  {
   "cell_type": "code",
   "execution_count": 28,
   "metadata": {
    "scrolled": false
   },
   "outputs": [
    {
     "data": {
      "text/plain": [
       "type graphe_adj_color = {\n",
       "  adj : sommet list array;\n",
       "  couleurs : couleur array;\n",
       "}\n"
      ]
     },
     "execution_count": 28,
     "metadata": {},
     "output_type": "execute_result"
    }
   ],
   "source": [
    "type graphe_adj_color = { adj : (sommet list) array; couleurs : couleur array } ;;"
   ]
  },
  {
   "cell_type": "code",
   "execution_count": 29,
   "metadata": {},
   "outputs": [
    {
     "data": {
      "text/plain": [
       "val g1__adj_color : graphe_adj_color =\n",
       "  {adj = [|[1; 2]; [0]; [0]|]; couleurs = [|1; 2; 3|]}\n"
      ]
     },
     "execution_count": 29,
     "metadata": {},
     "output_type": "execute_result"
    }
   ],
   "source": [
    "let g1__adj_color : graphe_adj_color = { adj = [|\n",
    "        [1; 2]; (* 0 -- 1 et 0 -- 2 *)\n",
    "        [0]; (* 1 -- 0 *)\n",
    "        [0]  (* 2 -- 0 *)\n",
    "    |];\n",
    "    couleurs = [| rouge; bleu; vert |]\n",
    "}"
   ]
  },
  {
   "cell_type": "markdown",
   "metadata": {},
   "source": [
    "### Listes d'arêtes"
   ]
  },
  {
   "cell_type": "code",
   "execution_count": 30,
   "metadata": {},
   "outputs": [
    {
     "data": {
      "text/plain": [
       "type graphe_art_color = { art : arete list; couleurs : couleur array; }\n"
      ]
     },
     "execution_count": 30,
     "metadata": {},
     "output_type": "execute_result"
    }
   ],
   "source": [
    "type graphe_art_color = { art : arete list; couleurs : couleur array } ;;"
   ]
  },
  {
   "cell_type": "code",
   "execution_count": 31,
   "metadata": {
    "scrolled": true
   },
   "outputs": [
    {
     "data": {
      "text/plain": [
       "val g1__art_color : graphe_art_color =\n",
       "  {art = [(0, 1); (0, 2); (1, 0); (2, 0)]; couleurs = [|1; 2; 3|]}\n"
      ]
     },
     "execution_count": 31,
     "metadata": {},
     "output_type": "execute_result"
    }
   ],
   "source": [
    "let g1__art_color : graphe_art_color = { art = [\n",
    "        (0, 1); (0, 2); (* 0 -- 1 et 0 -- 2 *)\n",
    "        (1, 0); (* 1 -- 0 *)\n",
    "        (2, 0)  (* 2 -- 0 *)\n",
    "    ];\n",
    "    couleurs = [| rouge; bleu; vert |]\n",
    "}"
   ]
  },
  {
   "cell_type": "markdown",
   "metadata": {},
   "source": [
    "## Degrés"
   ]
  },
  {
   "cell_type": "markdown",
   "metadata": {},
   "source": [
    "### Matrice d'adjacence"
   ]
  },
  {
   "cell_type": "markdown",
   "metadata": {},
   "source": [
    "Pour `graphe_mat`, `degres` est en $\\mathcal{O}(n^2)$."
   ]
  },
  {
   "cell_type": "code",
   "execution_count": 32,
   "metadata": {
    "scrolled": true
   },
   "outputs": [
    {
     "data": {
      "text/plain": [
       "val degres__mat : graphe_mat -> int array = <fun>\n"
      ]
     },
     "execution_count": 32,
     "metadata": {},
     "output_type": "execute_result"
    },
    {
     "data": {
      "text/plain": [
       "- : int array = [|2; 1; 1|]\n"
      ]
     },
     "execution_count": 32,
     "metadata": {},
     "output_type": "execute_result"
    }
   ],
   "source": [
    "let degres__mat (g : graphe_mat) : int array = Array.map somme_tableau g ;;\n",
    "degres__mat g1__mat;;"
   ]
  },
  {
   "cell_type": "markdown",
   "metadata": {},
   "source": [
    "### Listes d'adjacence"
   ]
  },
  {
   "cell_type": "markdown",
   "metadata": {},
   "source": [
    "Pour `graphe_adj`, `degres` est en $\\mathcal{O}(n)$."
   ]
  },
  {
   "cell_type": "code",
   "execution_count": 33,
   "metadata": {},
   "outputs": [
    {
     "data": {
      "text/plain": [
       "val degres__adj : graphe_adj -> int array = <fun>\n"
      ]
     },
     "execution_count": 33,
     "metadata": {},
     "output_type": "execute_result"
    },
    {
     "data": {
      "text/plain": [
       "- : int array = [|2; 1; 1|]\n"
      ]
     },
     "execution_count": 33,
     "metadata": {},
     "output_type": "execute_result"
    }
   ],
   "source": [
    "let degres__adj (g : graphe_adj) : int array = Array.map List.length g ;;\n",
    "degres__adj g1__adj;;"
   ]
  },
  {
   "cell_type": "markdown",
   "metadata": {},
   "source": [
    "### Listes d'arêtes"
   ]
  },
  {
   "cell_type": "markdown",
   "metadata": {},
   "source": [
    "Pour `graphe_art`, `degres` est en $\\mathcal{O}(n^2)$."
   ]
  },
  {
   "cell_type": "code",
   "execution_count": 34,
   "metadata": {},
   "outputs": [
    {
     "data": {
      "text/plain": [
       "- : graphe_art = [(0, 1); (0, 2); (1, 0); (2, 0)]\n"
      ]
     },
     "execution_count": 34,
     "metadata": {},
     "output_type": "execute_result"
    }
   ],
   "source": [
    "g1__art"
   ]
  },
  {
   "cell_type": "code",
   "execution_count": 35,
   "metadata": {},
   "outputs": [
    {
     "data": {
      "text/plain": [
       "val degres__art : graphe_art -> int array = <fun>\n"
      ]
     },
     "execution_count": 35,
     "metadata": {},
     "output_type": "execute_result"
    },
    {
     "data": {
      "text/plain": [
       "- : int array = [|2; 1; 1|]\n"
      ]
     },
     "execution_count": 35,
     "metadata": {},
     "output_type": "execute_result"
    }
   ],
   "source": [
    "let degres__art (g : graphe_art) : int array =\n",
    "    let n = nb_sommets__art g in\n",
    "    Array.init n (fun i ->\n",
    "        List.length (List.filter (fun (a, _) -> a = i) g)\n",
    "    )\n",
    ";;\n",
    "degres__art g1__art;;"
   ]
  },
  {
   "cell_type": "markdown",
   "metadata": {},
   "source": [
    "----\n",
    "# Parcours de graphes"
   ]
  },
  {
   "cell_type": "markdown",
   "metadata": {},
   "source": [
    "Pour la suite, on choisit les représentations qui sont les plus adaptées aux algorithmes qu'on doit écrire."
   ]
  },
  {
   "cell_type": "markdown",
   "metadata": {},
   "source": [
    "## Parcours en profondeur et largeur"
   ]
  },
  {
   "cell_type": "markdown",
   "metadata": {},
   "source": [
    "Pour les deux parcours, l'implémentation sous forme de listes d'adjacence fonctionne très bien.\n",
    "\n",
    "Les deux algorithmes sont très similaires, et sont en $\\mathcal{O}(|A|)$ ($|A|$ étant le nombre d'arêtes, si $G=(S,A)$), si on utilise une structure de pile/file qui est efficace (insertion, suppression en $\\mathcal{O}(1)$).\n",
    "\n",
    "On va être un peu fainéant, et ces deux parcours *ne renverront rien*, ils vont juste afficher les sommets dans l'ordre dans lesquels on les voit.\n",
    "On pourrait utiliser une référence d'une liste (`list ref`) pour ajouter les sommets un à un."
   ]
  },
  {
   "cell_type": "markdown",
   "metadata": {},
   "source": [
    "### En profondeur : avec une pile (`Stack`)"
   ]
  },
  {
   "cell_type": "code",
   "execution_count": 36,
   "metadata": {},
   "outputs": [
    {
     "data": {
      "text/plain": [
       "val profondeur_iter : graphe_adj -> sommet -> unit = <fun>\n"
      ]
     },
     "execution_count": 36,
     "metadata": {},
     "output_type": "execute_result"
    }
   ],
   "source": [
    "let profondeur_iter (g : graphe_adj) (debut : sommet) : unit =\n",
    "    let vu = Array.make (nb_sommets__adj g) false in\n",
    "    let pile = Stack.create () in\n",
    "    Stack.push debut pile;\n",
    "    vu.(debut) <- true;\n",
    "    while not (Stack.is_empty pile) do\n",
    "        let i = Stack.pop pile in\n",
    "        Printf.printf \"visite(%d)\\n\" i;\n",
    "        flush_all();\n",
    "        (* Complexité O(deg(i)) pour le sommet i *)\n",
    "        List.iter (fun j -> if not vu.(j) then begin\n",
    "            Stack.push j pile;\n",
    "            vu.(j) <- true\n",
    "            end)\n",
    "        g.(i)\n",
    "    done\n",
    "    (* donc en tout, complexité en Sigma_i O(deg(i)) = |E| *)\n",
    ";;"
   ]
  },
  {
   "cell_type": "markdown",
   "metadata": {},
   "source": [
    "On remarque qu'on parcourt les sommets de \"la droite vers la gauche\" dans cet exemple."
   ]
  },
  {
   "cell_type": "code",
   "execution_count": 37,
   "metadata": {},
   "outputs": [
    {
     "data": {
      "text/plain": [
       "- : graphe_adj = [|[1; 2]; [0]; [0]|]\n"
      ]
     },
     "execution_count": 37,
     "metadata": {},
     "output_type": "execute_result"
    }
   ],
   "source": [
    "g1__adj;;"
   ]
  },
  {
   "cell_type": "code",
   "execution_count": 38,
   "metadata": {},
   "outputs": [
    {
     "name": "stdout",
     "output_type": "stream",
     "text": [
      "visite(0)\n",
      "visite(2)\n",
      "visite(1)\n"
     ]
    },
    {
     "data": {
      "text/plain": [
       "- : unit = ()\n"
      ]
     },
     "execution_count": 38,
     "metadata": {},
     "output_type": "execute_result"
    }
   ],
   "source": [
    "profondeur_iter g1__adj 0;;"
   ]
  },
  {
   "cell_type": "markdown",
   "metadata": {},
   "source": [
    "### En largeur : avec une file (`Queue`)"
   ]
  },
  {
   "cell_type": "markdown",
   "metadata": {},
   "source": [
    "C'est magique, le code est *exactement* le même, avec `Queue` en lieu et place de `Stack`.\n",
    "\n",
    "> On a déjà vu tout ça, vous devriez être capable de le réécrire rapidement !"
   ]
  },
  {
   "cell_type": "code",
   "execution_count": 39,
   "metadata": {},
   "outputs": [
    {
     "data": {
      "text/plain": [
       "val largeur_iter : graphe_adj -> sommet -> unit = <fun>\n"
      ]
     },
     "execution_count": 39,
     "metadata": {},
     "output_type": "execute_result"
    }
   ],
   "source": [
    "let largeur_iter (g : graphe_adj) (debut : sommet) : unit =\n",
    "    let vu = Array.make (nb_sommets__adj g) false in\n",
    "    let file = Queue.create () in\n",
    "    Queue.push debut file;\n",
    "    vu.(debut) <- true;\n",
    "    while not (Queue.is_empty file) do\n",
    "        let i = Queue.pop file in\n",
    "        Printf.printf \"visite(%d)\\n\" i;\n",
    "        flush_all();\n",
    "        List.iter (fun j -> if not vu.(j) then begin\n",
    "            Queue.push j file;\n",
    "            vu.(j) <- true\n",
    "            end)\n",
    "        g.(i)\n",
    "    done\n",
    ";;"
   ]
  },
  {
   "cell_type": "markdown",
   "metadata": {},
   "source": [
    "On remarque qu'on parcourt les sommets de \"la gauche vers la droite\" dans cet exemple."
   ]
  },
  {
   "cell_type": "code",
   "execution_count": 40,
   "metadata": {},
   "outputs": [
    {
     "data": {
      "text/plain": [
       "- : graphe_adj = [|[1; 2]; [0]; [0]|]\n"
      ]
     },
     "execution_count": 40,
     "metadata": {},
     "output_type": "execute_result"
    }
   ],
   "source": [
    "g1__adj;;"
   ]
  },
  {
   "cell_type": "code",
   "execution_count": 41,
   "metadata": {},
   "outputs": [
    {
     "name": "stdout",
     "output_type": "stream",
     "text": [
      "visite(0)\n",
      "visite(1)\n",
      "visite(2)\n"
     ]
    },
    {
     "data": {
      "text/plain": [
       "- : unit = ()\n"
      ]
     },
     "execution_count": 41,
     "metadata": {},
     "output_type": "execute_result"
    }
   ],
   "source": [
    "largeur_iter g1__adj 0;;"
   ]
  },
  {
   "cell_type": "markdown",
   "metadata": {},
   "source": [
    "> Vous pouvez aussi faire des versions récursives de ces parcours."
   ]
  },
  {
   "cell_type": "markdown",
   "metadata": {},
   "source": [
    "## `est_connexe`"
   ]
  },
  {
   "cell_type": "markdown",
   "metadata": {},
   "source": [
    "Un graphe est connexe *si et seulement si* chaque sommet est relié à tout autre sommet (par un chemin de longueur un ou plus).\n",
    "On écrit d'abord une fonction qui vérifie que tous les sommets sont accessibles depuis un sommet, puis on vérifiera que ce prédicat est vrai pour tous les sommets."
   ]
  },
  {
   "cell_type": "code",
   "execution_count": 42,
   "metadata": {},
   "outputs": [
    {
     "data": {
      "text/plain": [
       "val tous_vrais : bool array -> bool = <fun>\n"
      ]
     },
     "execution_count": 42,
     "metadata": {},
     "output_type": "execute_result"
    }
   ],
   "source": [
    "let tous_vrais = Array.fold_left (&&) true;;"
   ]
  },
  {
   "cell_type": "code",
   "execution_count": 43,
   "metadata": {},
   "outputs": [
    {
     "data": {
      "text/plain": [
       "val tous_accessibles : graphe_adj -> sommet -> bool = <fun>\n"
      ]
     },
     "execution_count": 43,
     "metadata": {},
     "output_type": "execute_result"
    }
   ],
   "source": [
    "let tous_accessibles (g : graphe_adj) (debut : sommet) : bool =\n",
    "    let vu = Array.make (nb_sommets__adj g) false in\n",
    "    let file = Queue.create () in\n",
    "    Queue.push debut file;\n",
    "    vu.(debut) <- true;  (* on ne peut pas se passer du tableau vu *)\n",
    "    while not (Queue.is_empty file) do\n",
    "        let i = Queue.pop file in\n",
    "        List.iter (fun j -> if not vu.(j) then begin (* car utile ici *)\n",
    "            Queue.push j file;\n",
    "            vu.(j) <- true\n",
    "            end)\n",
    "        g.(i)\n",
    "    done;\n",
    "    (* mais a la fin on s'en sert juste pour ce test *)\n",
    "    tous_vrais vu\n",
    ";;"
   ]
  },
  {
   "cell_type": "code",
   "execution_count": 44,
   "metadata": {},
   "outputs": [
    {
     "data": {
      "text/plain": [
       "- : bool = true\n"
      ]
     },
     "execution_count": 44,
     "metadata": {},
     "output_type": "execute_result"
    },
    {
     "data": {
      "text/plain": [
       "- : bool = true\n"
      ]
     },
     "execution_count": 44,
     "metadata": {},
     "output_type": "execute_result"
    },
    {
     "data": {
      "text/plain": [
       "- : bool = true\n"
      ]
     },
     "execution_count": 44,
     "metadata": {},
     "output_type": "execute_result"
    }
   ],
   "source": [
    "tous_accessibles g1__adj 0;;\n",
    "tous_accessibles g1__adj 1;;\n",
    "tous_accessibles g1__adj 2;;"
   ]
  },
  {
   "cell_type": "code",
   "execution_count": 45,
   "metadata": {},
   "outputs": [
    {
     "data": {
      "text/plain": [
       "val est_connexe : graphe_adj -> bool = <fun>\n"
      ]
     },
     "execution_count": 45,
     "metadata": {},
     "output_type": "execute_result"
    }
   ],
   "source": [
    "let est_connexe (g : graphe_adj) : bool =\n",
    "    let n = nb_sommets__adj g in\n",
    "    tous_vrais (Array.init n (fun i -> tous_accessibles g i));\n",
    ";;"
   ]
  },
  {
   "cell_type": "code",
   "execution_count": 46,
   "metadata": {},
   "outputs": [
    {
     "data": {
      "text/plain": [
       "- : bool = true\n"
      ]
     },
     "execution_count": 46,
     "metadata": {},
     "output_type": "execute_result"
    }
   ],
   "source": [
    "est_connexe g1__adj;;"
   ]
  },
  {
   "cell_type": "markdown",
   "metadata": {},
   "source": [
    "Et avec un exemple de graphe non connexe :\n",
    "\n",
    "![TP5__exemple_graphe4.svg](TP5__exemple_graphe4.svg)"
   ]
  },
  {
   "cell_type": "code",
   "execution_count": 47,
   "metadata": {},
   "outputs": [
    {
     "data": {
      "text/plain": [
       "val g2__adj : graphe_adj = [|[1; 2]; [0]; [0]; [4]; [3]|]\n"
      ]
     },
     "execution_count": 47,
     "metadata": {},
     "output_type": "execute_result"
    }
   ],
   "source": [
    "let g2__adj : graphe_adj = [|\n",
    "    [1; 2]; (* 0 -- 1 et 0 -- 2 *)\n",
    "    [0]; (* 1 -- 0 *)\n",
    "    [0]; (* 2 -- 0 *)\n",
    "    [4]; (* 3 -- 4 *)\n",
    "    [3]; (* 4 -- 3 *)\n",
    "|];;"
   ]
  },
  {
   "cell_type": "code",
   "execution_count": 48,
   "metadata": {},
   "outputs": [
    {
     "name": "stdout",
     "output_type": "stream",
     "text": [
      "visite(0)\n",
      "visite(1)\n",
      "visite(2)\n"
     ]
    },
    {
     "data": {
      "text/plain": [
       "- : unit = ()\n"
      ]
     },
     "execution_count": 48,
     "metadata": {},
     "output_type": "execute_result"
    },
    {
     "name": "stdout",
     "output_type": "stream",
     "text": [
      "visite(3)\n",
      "visite(4)\n"
     ]
    },
    {
     "data": {
      "text/plain": [
       "- : unit = ()\n"
      ]
     },
     "execution_count": 48,
     "metadata": {},
     "output_type": "execute_result"
    }
   ],
   "source": [
    "largeur_iter g2__adj 0;;\n",
    "\n",
    "largeur_iter g2__adj 3;;"
   ]
  },
  {
   "cell_type": "code",
   "execution_count": 49,
   "metadata": {},
   "outputs": [
    {
     "data": {
      "text/plain": [
       "- : bool = false\n"
      ]
     },
     "execution_count": 49,
     "metadata": {},
     "output_type": "execute_result"
    }
   ],
   "source": [
    "est_connexe g2__adj;;"
   ]
  },
  {
   "cell_type": "markdown",
   "metadata": {},
   "source": [
    "## `est_arbre`"
   ]
  },
  {
   "cell_type": "markdown",
   "metadata": {},
   "source": [
    "Un arbre est un graphe connexe acyclique.\n",
    "\n",
    "1. on sait déjà vérifier la connexité.\n",
    "2. on doit vérifier l'absence de cycle.\n",
    "\n",
    "Je vous laisse réfléchir par vous-même pour le second point. ([Exemple](http://www.geeksforgeeks.org/detect-cycle-undirected-graph/))\n",
    "\n",
    "Si besoin, voici une correction."
   ]
  },
  {
   "cell_type": "code",
   "execution_count": 64,
   "metadata": {},
   "outputs": [
    {
     "data": {
      "text/plain": [
       "val est_cyclique_aux : graphe_adj -> sommet -> bool array -> sommet -> bool =\n",
       "  <fun>\n"
      ]
     },
     "execution_count": 64,
     "metadata": {},
     "output_type": "execute_result"
    }
   ],
   "source": [
    "let rec est_cyclique_aux (g : graphe_adj) (v : sommet) (vu : bool array) (parent : sommet) =\n",
    "    vu.(v) <- true; (* v est vu ! *)\n",
    "    let res = ref false in\n",
    "    let indice = ref 0 in\n",
    "    let gv = Array.of_list g.(v) in (* la conversion prend un temps O(deg(v)) une fois *)\n",
    "    while (not !res) && (!indice < Array.length gv) do\n",
    "        let i = gv.(!indice) in (* comme ca cette lecture prend O(1) chaque fois *)\n",
    "        incr indice;\n",
    "        if not vu.(i) then begin\n",
    "            if (est_cyclique_aux g i vu v) then\n",
    "                res := true;\n",
    "        end\n",
    "        else begin\n",
    "            if parent != i then\n",
    "                res := true\n",
    "        end\n",
    "    done;\n",
    "    !res    \n",
    ";;"
   ]
  },
  {
   "cell_type": "code",
   "execution_count": 65,
   "metadata": {},
   "outputs": [
    {
     "data": {
      "text/plain": [
       "val est_cyclique : graphe_adj -> bool = <fun>\n"
      ]
     },
     "execution_count": 65,
     "metadata": {},
     "output_type": "execute_result"
    }
   ],
   "source": [
    "let est_cyclique (g : graphe_adj) : bool =\n",
    "    let n = nb_sommets__adj g in\n",
    "    let vu = Array.make n false in\n",
    "    let res = ref false in\n",
    "    for i = 0 to n - 1 do\n",
    "        if not vu.(i) then begin\n",
    "            if est_cyclique_aux g i vu (-1) then\n",
    "                res := true;\n",
    "        end\n",
    "    done;\n",
    "    !res\n",
    ";;"
   ]
  },
  {
   "cell_type": "code",
   "execution_count": 66,
   "metadata": {},
   "outputs": [
    {
     "data": {
      "text/plain": [
       "val absence_cycle : graphe_adj -> bool = <fun>\n"
      ]
     },
     "execution_count": 66,
     "metadata": {},
     "output_type": "execute_result"
    }
   ],
   "source": [
    "let absence_cycle (g : graphe_adj) : bool =\n",
    "    not (est_cyclique g)\n",
    ";;"
   ]
  },
  {
   "cell_type": "code",
   "execution_count": 67,
   "metadata": {},
   "outputs": [
    {
     "data": {
      "text/plain": [
       "val est_arbre : graphe_adj -> bool = <fun>\n"
      ]
     },
     "execution_count": 67,
     "metadata": {},
     "output_type": "execute_result"
    }
   ],
   "source": [
    "let est_arbre (g : graphe_adj) : bool =\n",
    "    (est_connexe g) && (absence_cycle g)\n",
    ";;"
   ]
  },
  {
   "cell_type": "code",
   "execution_count": 68,
   "metadata": {},
   "outputs": [
    {
     "data": {
      "text/plain": [
       "- : bool = false\n"
      ]
     },
     "execution_count": 68,
     "metadata": {},
     "output_type": "execute_result"
    },
    {
     "data": {
      "text/plain": [
       "- : bool = true\n"
      ]
     },
     "execution_count": 68,
     "metadata": {},
     "output_type": "execute_result"
    }
   ],
   "source": [
    "est_cyclique g1__adj;;\n",
    "est_arbre g1__adj;;"
   ]
  },
  {
   "cell_type": "code",
   "execution_count": 69,
   "metadata": {},
   "outputs": [
    {
     "data": {
      "text/plain": [
       "- : bool = false\n"
      ]
     },
     "execution_count": 69,
     "metadata": {},
     "output_type": "execute_result"
    },
    {
     "data": {
      "text/plain": [
       "- : bool = false\n"
      ]
     },
     "execution_count": 69,
     "metadata": {},
     "output_type": "execute_result"
    }
   ],
   "source": [
    "est_cyclique g2__adj;;\n",
    "est_arbre g2__adj;;"
   ]
  },
  {
   "cell_type": "markdown",
   "metadata": {},
   "source": [
    "Et avec un exemple de graphe connexe mais avec un cycle :"
   ]
  },
  {
   "cell_type": "code",
   "execution_count": 70,
   "metadata": {},
   "outputs": [
    {
     "data": {
      "text/plain": [
       "val g3__adj : graphe_adj = [|[1; 2]; [0; 2]; [0; 1]|]\n"
      ]
     },
     "execution_count": 70,
     "metadata": {},
     "output_type": "execute_result"
    }
   ],
   "source": [
    "let g3__adj : graphe_adj = [|\n",
    "    [1; 2]; (* 0 -- 1 et 0 -- 2 *)\n",
    "    [0; 2]; (* 1 -- 0 et 1 -- 2 *)\n",
    "    [0; 1]; (* 2 -- 0 et 2 -- 1 *)\n",
    "|];;"
   ]
  },
  {
   "cell_type": "code",
   "execution_count": 71,
   "metadata": {},
   "outputs": [
    {
     "data": {
      "text/plain": [
       "- : bool = true\n"
      ]
     },
     "execution_count": 71,
     "metadata": {},
     "output_type": "execute_result"
    },
    {
     "data": {
      "text/plain": [
       "- : bool = false\n"
      ]
     },
     "execution_count": 71,
     "metadata": {},
     "output_type": "execute_result"
    }
   ],
   "source": [
    "est_connexe g3__adj;;\n",
    "est_arbre g3__adj;;"
   ]
  },
  {
   "cell_type": "markdown",
   "metadata": {},
   "source": [
    "## `composantes_connexes`"
   ]
  },
  {
   "cell_type": "markdown",
   "metadata": {},
   "source": [
    "Pour chaque sommet, on fait un parcours en largeur, et on ajoute tous les sommets visités dans la même composante connexe.\n",
    "Dès qu'un nouveau sommet n'a pas encore été visité, on commence une nouvelle composante connexe.\n",
    "\n",
    "Cet algorithme est en $\\mathcal{O}(n)$, au pire chaque sommet est visité exactement une fois."
   ]
  },
  {
   "cell_type": "code",
   "execution_count": 72,
   "metadata": {},
   "outputs": [
    {
     "data": {
      "text/plain": [
       "val composantes_connexes : graphe_adj -> sommet list list = <fun>\n"
      ]
     },
     "execution_count": 72,
     "metadata": {},
     "output_type": "execute_result"
    }
   ],
   "source": [
    "let composantes_connexes (g : graphe_adj) : sommet list list =\n",
    "    let n = nb_sommets__adj g in\n",
    "    let vu = Array.make n false in\n",
    "    let cc_courante = ref [] in\n",
    "    let rec visite (i : sommet) : unit =\n",
    "        Printf.printf \"visite(%d)\\n\" i; (* permet de vérifier que chaque sommet n'est visité qu'une seule fois ! *)\n",
    "        flush_all();\n",
    "        vu.(i) <- true;\n",
    "        cc_courante := i :: !cc_courante;\n",
    "        (* cette opération est linéaire en deg(i) le degré de i *)\n",
    "        List.iter (fun j -> if not vu.(j) then visite j) g.(i) \n",
    "    in\n",
    "    let cc = ref [] in\n",
    "    for i = 0 to n - 1 do\n",
    "        (* au pire, on est en O(somme deg(i)) = O(n^2) *)\n",
    "        (* mais en fait un sommet deja vu ne sera pas considere par la suite *)\n",
    "        (* donc on est en O(n) en fait ! *)\n",
    "        if not vu.(i) then begin\n",
    "            visite i; (* au pire, chaque visite est en O(deg(i)) *)\n",
    "            cc := !cc_courante :: !cc;\n",
    "            cc_courante := []\n",
    "        end\n",
    "    done;\n",
    "    !cc\n",
    ";;"
   ]
  },
  {
   "cell_type": "code",
   "execution_count": 73,
   "metadata": {},
   "outputs": [
    {
     "name": "stdout",
     "output_type": "stream",
     "text": [
      "visite(0)\n",
      "visite(1)\n",
      "visite(2)\n"
     ]
    },
    {
     "data": {
      "text/plain": [
       "- : sommet list list = [[2; 1; 0]]\n"
      ]
     },
     "execution_count": 73,
     "metadata": {},
     "output_type": "execute_result"
    }
   ],
   "source": [
    "composantes_connexes g1__adj;;"
   ]
  },
  {
   "cell_type": "code",
   "execution_count": 74,
   "metadata": {},
   "outputs": [
    {
     "name": "stdout",
     "output_type": "stream",
     "text": [
      "visite(0)\n",
      "visite(1)\n",
      "visite(2)\n",
      "visite(3)\n",
      "visite(4)\n"
     ]
    },
    {
     "data": {
      "text/plain": [
       "- : sommet list list = [[4; 3]; [2; 1; 0]]\n"
      ]
     },
     "execution_count": 74,
     "metadata": {},
     "output_type": "execute_result"
    }
   ],
   "source": [
    "composantes_connexes g2__adj;;"
   ]
  },
  {
   "cell_type": "markdown",
   "metadata": {},
   "source": [
    "## 2-coloriage\n",
    "\n",
    "Le $2$-coloriage est très facile : si un seul sommet a un degré $\\geq 3$, ce n'est pas possible.\n",
    "Si tous les sommets ont un degrés $\\leq 2$, on part d'un sommet (pour chaque composante connexe) et on alterne entre deux couleurs en parcourant la composante connexe...\n",
    "\n",
    "Cet algorithme est aussi en $\\mathcal{O}(n)$."
   ]
  },
  {
   "cell_type": "code",
   "execution_count": 77,
   "metadata": {},
   "outputs": [
    {
     "data": {
      "text/plain": [
       "type deuxcouleur = Blanc | Noir\n"
      ]
     },
     "execution_count": 77,
     "metadata": {},
     "output_type": "execute_result"
    }
   ],
   "source": [
    "type deuxcouleur = Blanc | Noir;; (* on pourrait utiliser bool *)"
   ]
  },
  {
   "cell_type": "code",
   "execution_count": 78,
   "metadata": {},
   "outputs": [
    {
     "data": {
      "text/plain": [
       "val alterne_couleur : deuxcouleur -> deuxcouleur = <fun>\n"
      ]
     },
     "execution_count": 78,
     "metadata": {},
     "output_type": "execute_result"
    }
   ],
   "source": [
    "let alterne_couleur = function  (* avec bool, cette fonction serait... juste not *)\n",
    "    | Blanc -> Noir\n",
    "    | Noir -> Blanc\n",
    ";;"
   ]
  },
  {
   "cell_type": "code",
   "execution_count": 63,
   "metadata": {},
   "outputs": [
    {
     "data": {
      "text/plain": [
       "val max_array : int array -> int = <fun>\n"
      ]
     },
     "execution_count": 63,
     "metadata": {},
     "output_type": "execute_result"
    }
   ],
   "source": [
    "let max_array = Array.fold_left max min_int;;"
   ]
  },
  {
   "cell_type": "code",
   "execution_count": 81,
   "metadata": {},
   "outputs": [
    {
     "data": {
      "text/plain": [
       "val deuxcoloriage : graphe_adj -> deuxcouleur array = <fun>\n"
      ]
     },
     "execution_count": 81,
     "metadata": {},
     "output_type": "execute_result"
    }
   ],
   "source": [
    "let deuxcoloriage (g : graphe_adj) : deuxcouleur array =\n",
    "    let n = nb_sommets__adj g in\n",
    "    let vu = Array.make n false in\n",
    "    let couleurs = Array.make n Blanc in\n",
    "    let cc = composantes_connexes g in\n",
    "    let rec visite_et_colorie_en_alternance (c : deuxcouleur) (i : sommet) : unit =\n",
    "        Printf.printf \"visite(%d)\\n\" i;\n",
    "        flush_all();\n",
    "        vu.(i) <- true;\n",
    "        couleurs.(i) <- c;\n",
    "        List.iter (fun j ->\n",
    "            if not vu.(j) then\n",
    "                visite_et_colorie_en_alternance (alterne_couleur c) j\n",
    "            else begin\n",
    "                if couleurs.(j) = c then failwith \"2-coloriage impossible.\"\n",
    "            end\n",
    "        ) g.(i)\n",
    "    in\n",
    "    List.iter (visite_et_colorie_en_alternance Blanc) (List.map List.hd cc);\n",
    "    couleurs\n",
    ";;"
   ]
  },
  {
   "cell_type": "code",
   "execution_count": 82,
   "metadata": {
    "scrolled": true
   },
   "outputs": [
    {
     "name": "stdout",
     "output_type": "stream",
     "text": [
      "visite(0)\n",
      "visite(1)\n",
      "visite(2)\n",
      "visite(2)\n",
      "visite(0)\n",
      "visite(1)\n"
     ]
    },
    {
     "data": {
      "text/plain": [
       "- : deuxcouleur array = [|Noir; Blanc; Blanc|]\n"
      ]
     },
     "execution_count": 82,
     "metadata": {},
     "output_type": "execute_result"
    }
   ],
   "source": [
    "deuxcoloriage g1__adj;;"
   ]
  },
  {
   "cell_type": "markdown",
   "metadata": {},
   "source": [
    "Pour le deuxième exemple, on voit que la seconde composante connexe $\\{3, 4\\}$ est coloriée avec deux couleurs aussi."
   ]
  },
  {
   "cell_type": "code",
   "execution_count": 83,
   "metadata": {
    "scrolled": true
   },
   "outputs": [
    {
     "name": "stdout",
     "output_type": "stream",
     "text": [
      "visite(0)\n",
      "visite(1)\n",
      "visite(2)\n",
      "visite(3)\n",
      "visite(4)\n",
      "visite(4)\n",
      "visite(3)\n",
      "visite(2)\n",
      "visite(0)\n",
      "visite(1)\n"
     ]
    },
    {
     "data": {
      "text/plain": [
       "- : deuxcouleur array = [|Noir; Blanc; Blanc; Noir; Blanc|]\n"
      ]
     },
     "execution_count": 83,
     "metadata": {},
     "output_type": "execute_result"
    }
   ],
   "source": [
    "deuxcoloriage g2__adj;;"
   ]
  },
  {
   "cell_type": "code",
   "execution_count": 84,
   "metadata": {},
   "outputs": [
    {
     "data": {
      "text/plain": [
       "val g3__adj : graphe_adj = [|[1; 2; 3]; [0]; [0]; [0]|]\n"
      ]
     },
     "execution_count": 84,
     "metadata": {},
     "output_type": "execute_result"
    }
   ],
   "source": [
    "let g3__adj : graphe_adj = [|\n",
    "    [1; 2; 3]; (* 0 -- 1 et 0 -- 2 et 0 -- 3 *)\n",
    "    [0]; (* 1 -- 0 *)\n",
    "    [0]; (* 2 -- 0 *)\n",
    "    [0]; (* 3 -- 0 *)\n",
    "|];;"
   ]
  },
  {
   "cell_type": "code",
   "execution_count": 85,
   "metadata": {
    "scrolled": true
   },
   "outputs": [
    {
     "name": "stdout",
     "output_type": "stream",
     "text": [
      "visite(0)\n",
      "visite(1)\n",
      "visite(2)\n",
      "visite(3)\n",
      "visite(3)\n",
      "visite(0)\n",
      "visite(1)\n",
      "visite(2)\n"
     ]
    },
    {
     "data": {
      "text/plain": [
       "- : deuxcouleur array = [|Noir; Blanc; Blanc; Blanc|]\n"
      ]
     },
     "execution_count": 85,
     "metadata": {},
     "output_type": "execute_result"
    }
   ],
   "source": [
    "deuxcoloriage g3__adj;;"
   ]
  },
  {
   "cell_type": "markdown",
   "metadata": {},
   "source": [
    "Et un graphe non coloriable, avec une 3-clique $0 - 1 - 2$ :"
   ]
  },
  {
   "cell_type": "code",
   "execution_count": 86,
   "metadata": {},
   "outputs": [
    {
     "data": {
      "text/plain": [
       "val g4__adj : graphe_adj = [|[1; 2; 3]; [0; 2]; [0; 1]; [0]|]\n"
      ]
     },
     "execution_count": 86,
     "metadata": {},
     "output_type": "execute_result"
    }
   ],
   "source": [
    "let g4__adj : graphe_adj = [|\n",
    "    [1; 2; 3]; (* 0 -- 1 et 0 -- 2 et 0 -- 3 *)\n",
    "    [0; 2]; (* 1 -- 0 et 1 -- 2 *)\n",
    "    [0; 1]; (* 2 -- 0 et 2 -- 1 *)\n",
    "    [0]; (* 3 -- 0 *)\n",
    "|];;"
   ]
  },
  {
   "cell_type": "code",
   "execution_count": 87,
   "metadata": {
    "scrolled": false
   },
   "outputs": [
    {
     "name": "stdout",
     "output_type": "stream",
     "text": [
      "visite(0)\n",
      "visite(1)\n",
      "visite(2)\n",
      "visite(3)\n",
      "visite(3)\n",
      "visite(0)\n",
      "visite(1)\n",
      "visite(2)\n"
     ]
    },
    {
     "ename": "error",
     "evalue": "error",
     "output_type": "error",
     "traceback": [
      "\u001b[31mException: Failure \"2-coloriage impossible.\".\nRaised at file \"pervasives.ml\", line 32, characters 22-33\nCalled from file \"list.ml\", line 77, characters 12-15\nCalled from file \"list.ml\", line 77, characters 12-15\nCalled from file \"list.ml\", line 77, characters 12-15\nCalled from file \"list.ml\", line 77, characters 12-15\nCalled from file \"list.ml\", line 77, characters 12-15\nCalled from file \"[81]\", line 19, characters 4-75\nCalled from file \"toplevel/toploop.ml\", line 180, characters 17-56\n\u001b[0m"
     ]
    }
   ],
   "source": [
    "deuxcoloriage g4__adj;;"
   ]
  },
  {
   "cell_type": "markdown",
   "metadata": {},
   "source": [
    "----\n",
    "# Cycles eulériens\n",
    "\n",
    "Je vous laisse lire [cette page](http://perso.crans.org/besson/agreg/modelisation/projet_2/)\n",
    "(`perso.crans.org/besson/agreg/modelisation/projet_2/`).\n",
    "[Cherchez en ligne](https://duckduckgo.com/?q=parcours+eul%C3%A9rien+algorithme+de+rosenstielh&t=canonical&ia=web) pour plus d'informations."
   ]
  },
  {
   "cell_type": "markdown",
   "metadata": {},
   "source": [
    "## `existe_cycle_eulerien`"
   ]
  },
  {
   "cell_type": "markdown",
   "metadata": {},
   "source": [
    "On compte le nombre de sommets de degrés impairs, et un chemin eulérien existe si et seulement s'il y en a zéros ou deux."
   ]
  },
  {
   "cell_type": "code",
   "execution_count": 106,
   "metadata": {},
   "outputs": [
    {
     "data": {
      "text/plain": [
       "val existe_cycle_eulerien : graphe_adj -> bool = <fun>\n"
      ]
     },
     "execution_count": 106,
     "metadata": {},
     "output_type": "execute_result"
    }
   ],
   "source": [
    "let existe_cycle_eulerien (g : graphe_adj) : bool =\n",
    "    let deg = Array.to_list (degres__adj g) in\n",
    "    let nb_deg_impair = List.length (List.filter (fun i -> i mod 2 = 0) deg) in\n",
    "    nb_deg_impair = 0 || nb_deg_impair = 2\n",
    ";;"
   ]
  },
  {
   "cell_type": "code",
   "execution_count": 107,
   "metadata": {},
   "outputs": [
    {
     "data": {
      "text/plain": [
       "- : bool = false\n"
      ]
     },
     "execution_count": 107,
     "metadata": {},
     "output_type": "execute_result"
    }
   ],
   "source": [
    "existe_cycle_eulerien g1__adj;;"
   ]
  },
  {
   "cell_type": "code",
   "execution_count": 108,
   "metadata": {},
   "outputs": [
    {
     "data": {
      "text/plain": [
       "- : bool = false\n"
      ]
     },
     "execution_count": 108,
     "metadata": {},
     "output_type": "execute_result"
    }
   ],
   "source": [
    "existe_cycle_eulerien g2__adj;;"
   ]
  },
  {
   "cell_type": "code",
   "execution_count": 109,
   "metadata": {},
   "outputs": [
    {
     "data": {
      "text/plain": [
       "- : bool = true\n"
      ]
     },
     "execution_count": 109,
     "metadata": {},
     "output_type": "execute_result"
    }
   ],
   "source": [
    "existe_cycle_eulerien g3__adj;;"
   ]
  },
  {
   "cell_type": "markdown",
   "metadata": {},
   "source": [
    "## La suite"
   ]
  },
  {
   "cell_type": "markdown",
   "metadata": {},
   "source": [
    "Pour trouver un chemin eulérien, on applique l'algorithme suivant (dû à Rosentielh, aussi attribué à [Hierholzer (1873)](https://en.wikipedia.org/wiki/Eulerian_path#Hierholzer.27s_algorithm)).\n",
    "\n",
    "- Compter le nombre de sommets de degré impair,\n",
    "- Si :\n",
    "  + c'est 0 : construire un cycle partant du premier sommet (choix arbitraire),\n",
    "  + c'est 2 : construire un chemin entre les deux sommets en question,\n",
    "  + sinon, il n'y a pas de chemin eulérien (on répond non).\n",
    "- parcourir le chemin déjà construit : à chaque sommet :\n",
    "  + tant qu'il reste des arêtes partant de ce sommet dans le graphe :\n",
    "     - construire un cycle partant de ce sommet,\n",
    "     - puis l'insérer dans le chemin.\n",
    "\n",
    "Étant donné les conditions sur le graphe, construire un chemin ou un cycle n'est pas compliqué : il suffit de partir de l'origine, de prendre la première arête rencontrée et de recommencer récursivement."
   ]
  },
  {
   "cell_type": "markdown",
   "metadata": {},
   "source": [
    "----\n",
    "# Conclusion\n",
    "\n",
    "Fin. À la séance prochaine. Le TP6 traitera de Lambda calcul (en février)."
   ]
  }
 ],
 "metadata": {
  "kernelspec": {
   "display_name": "OCaml 4.04.2",
   "language": "OCaml",
   "name": "ocaml-jupyter"
  },
  "language_info": {
   "codemirror_mode": "text/x-ocaml",
   "file_extension": ".ml",
   "mimetype": "text/x-ocaml",
   "name": "OCaml",
   "nbconverter_exporter": null,
   "pygments_lexer": "OCaml",
   "version": "4.04.2"
  },
  "toc": {
   "colors": {
    "hover_highlight": "#DAA520",
    "running_highlight": "#FF0000",
    "selected_highlight": "#FFD700"
   },
   "moveMenuLeft": true,
   "nav_menu": {
    "height": "511px",
    "width": "251px"
   },
   "navigate_menu": true,
   "number_sections": true,
   "sideBar": true,
   "threshold": 4,
   "toc_cell": true,
   "toc_section_display": "block",
   "toc_window_display": false
  }
 },
 "nbformat": 4,
 "nbformat_minor": 2
}
