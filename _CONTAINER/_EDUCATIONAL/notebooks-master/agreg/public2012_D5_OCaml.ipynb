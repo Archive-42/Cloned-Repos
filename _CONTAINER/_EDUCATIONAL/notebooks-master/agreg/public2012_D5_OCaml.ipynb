{
 "cells": [
  {
   "cell_type": "markdown",
   "metadata": {
    "toc": "true"
   },
   "source": [
    "# Table of Contents\n",
    " <p><div class=\"lev1 toc-item\"><a href=\"#Agrégation-externe-de-mathématiques,-texte-d’exercice-diffusé-en-2012\" data-toc-modified-id=\"Agrégation-externe-de-mathématiques,-texte-d’exercice-diffusé-en-2012-1\"><span class=\"toc-item-num\">1&nbsp;&nbsp;</span>Agrégation externe de mathématiques, texte d’exercice diffusé en 2012</a></div><div class=\"lev2 toc-item\"><a href=\"#Épreuve-de-modélisation,-option-informatique\" data-toc-modified-id=\"Épreuve-de-modélisation,-option-informatique-11\"><span class=\"toc-item-num\">1.1&nbsp;&nbsp;</span>Épreuve de modélisation, option informatique</a></div><div class=\"lev2 toc-item\"><a href=\"#Proposition-d'implémentation,-en-OCaml\" data-toc-modified-id=\"Proposition-d'implémentation,-en-OCaml-12\"><span class=\"toc-item-num\">1.2&nbsp;&nbsp;</span><em>Proposition</em> d'implémentation, en <a href=\"https://ocaml.org/\" target=\"_blank\">OCaml</a></a></div><div class=\"lev3 toc-item\"><a href=\"#Pour-l'option-informatique-(D)-de-l'agrégation-de-mathématiques-(en-France).\" data-toc-modified-id=\"Pour-l'option-informatique-(D)-de-l'agrégation-de-mathématiques-(en-France).-121\"><span class=\"toc-item-num\">1.2.1&nbsp;&nbsp;</span>Pour <a href=\"http://www.dit.ens-rennes.fr/agregation-option-d/programme-de-l-option-informatique-de-l-agregation-de-mathematiques-48358.kjsp\" target=\"_blank\">l'option informatique (D)</a> de l'<a href=\"http://agreg.org/\" target=\"_blank\">agrégation de mathématiques</a> (en France).</a></div><div class=\"lev2 toc-item\"><a href=\"#Exercice-requis\" data-toc-modified-id=\"Exercice-requis-13\"><span class=\"toc-item-num\">1.3&nbsp;&nbsp;</span>Exercice requis</a></div><div class=\"lev2 toc-item\"><a href=\"#Choix-de-structure-de-données\" data-toc-modified-id=\"Choix-de-structure-de-données-14\"><span class=\"toc-item-num\">1.4&nbsp;&nbsp;</span>Choix de structure de données</a></div><div class=\"lev3 toc-item\"><a href=\"#En-OCaml\" data-toc-modified-id=\"En-OCaml-141\"><span class=\"toc-item-num\">1.4.1&nbsp;&nbsp;</span>En OCaml</a></div><div class=\"lev3 toc-item\"><a href=\"#En-Python\" data-toc-modified-id=\"En-Python-142\"><span class=\"toc-item-num\">1.4.2&nbsp;&nbsp;</span>En Python</a></div><div class=\"lev2 toc-item\"><a href=\"#Réponse\" data-toc-modified-id=\"Réponse-15\"><span class=\"toc-item-num\">1.5&nbsp;&nbsp;</span>Réponse</a></div><div class=\"lev3 toc-item\"><a href=\"#On-fait-quelques-exemples...\" data-toc-modified-id=\"On-fait-quelques-exemples...-151\"><span class=\"toc-item-num\">1.5.1&nbsp;&nbsp;</span>On fait quelques exemples...</a></div><div class=\"lev3 toc-item\"><a href=\"#Si-une-hypothèse-n'est-pas-vérifié\" data-toc-modified-id=\"Si-une-hypothèse-n'est-pas-vérifié-152\"><span class=\"toc-item-num\">1.5.2&nbsp;&nbsp;</span>Si une hypothèse n'est pas vérifié</a></div><div class=\"lev2 toc-item\"><a href=\"#Bonus-:-deux-autres-méthodes-(droites-inférieure-et-supérieure)\" data-toc-modified-id=\"Bonus-:-deux-autres-méthodes-(droites-inférieure-et-supérieure)-16\"><span class=\"toc-item-num\">1.6&nbsp;&nbsp;</span>Bonus : deux autres méthodes (droites inférieure et supérieure)</a></div><div class=\"lev2 toc-item\"><a href=\"#Illustration\" data-toc-modified-id=\"Illustration-17\"><span class=\"toc-item-num\">1.7&nbsp;&nbsp;</span>Illustration</a></div><div class=\"lev3 toc-item\"><a href=\"#Par-la-sélection-de-Bresenham\" data-toc-modified-id=\"Par-la-sélection-de-Bresenham-171\"><span class=\"toc-item-num\">1.7.1&nbsp;&nbsp;</span>Par la sélection de Bresenham</a></div><div class=\"lev3 toc-item\"><a href=\"#Par-la-sélection-inférieure\" data-toc-modified-id=\"Par-la-sélection-inférieure-172\"><span class=\"toc-item-num\">1.7.2&nbsp;&nbsp;</span>Par la sélection inférieure</a></div><div class=\"lev3 toc-item\"><a href=\"#Par-la-sélection-supérieure\" data-toc-modified-id=\"Par-la-sélection-supérieure-173\"><span class=\"toc-item-num\">1.7.3&nbsp;&nbsp;</span>Par la sélection supérieure</a></div><div class=\"lev2 toc-item\"><a href=\"#Autres-bonus-:-calculer-le-mot-binaire-codant-les-déplacements\" data-toc-modified-id=\"Autres-bonus-:-calculer-le-mot-binaire-codant-les-déplacements-18\"><span class=\"toc-item-num\">1.8&nbsp;&nbsp;</span>Autres bonus : calculer le mot binaire codant les déplacements</a></div><div class=\"lev2 toc-item\"><a href=\"#Conclusion\" data-toc-modified-id=\"Conclusion-19\"><span class=\"toc-item-num\">1.9&nbsp;&nbsp;</span>Conclusion</a></div><div class=\"lev2 toc-item\"><a href=\"#Attention\" data-toc-modified-id=\"Attention-110\"><span class=\"toc-item-num\">1.10&nbsp;&nbsp;</span>Attention</a></div>"
   ]
  },
  {
   "cell_type": "markdown",
   "metadata": {},
   "source": [
    "# Agrégation externe de mathématiques, texte d’exercice diffusé en 2012"
   ]
  },
  {
   "cell_type": "markdown",
   "metadata": {},
   "source": [
    "## Épreuve de modélisation, option informatique"
   ]
  },
  {
   "cell_type": "markdown",
   "metadata": {},
   "source": [
    "> - Ce [notebook Jupyter](http://jupyter.org/), utilisant [OCaml](https://ocaml.org/) (via le [kernel Ocaml](https://github.com/akabe/ocaml-jupyter/)), est une correction [non officielle](https://github.com/Naereen/notebooks/tree/master/agreg) d'un texte de modélisation pour l'option informatique de l'agrégation externe de mathématiques.\n",
    "> - Il s'agit du texte [public2012-D5](http://agreg.org/Textes/public2012-D5.pdf).\n",
    "> - Cette tentative de correction partielle a été rédigée par [Lilian Besson](http://perso.crans.org/besson/) ([sur GitHub ?](https://github.com/Naereen/), [sur Bitbucket ?](https://bitbucket.org/lbesson)), et [est open-source](https://github.com/Naereen/notebooks/blob/master/agreg/public2012_D5_OCaml.ipynb).\n",
    "> - J'avais déjà rédigé une solution, pendant ma propre préparation à l'agrégation en 2013/2014, voir [ce fichier](https://perso.crans.org/besson/agreg/m/29-04/code_Public2012-D5.html).\n",
    "\n",
    "> Retour ?\n",
    "> - Vous avez trouvé un bug ? → [Signalez-le moi svp !](https://github.com/Naereen/notebooks/issues/new), merci d'avance.\n",
    "> - Vous avez une question ? → [Posez la svp !](https://github.com/Naereen/ama.fr) [![Demandez moi n'importe quoi !](https://img.shields.io/badge/Demandez%20moi-n'%20importe%20quoi-1abc9c.svg)](https://GitHub.com/Naereen/ama.fr)\n",
    "\n",
    "----"
   ]
  },
  {
   "cell_type": "markdown",
   "metadata": {},
   "source": [
    "## *Proposition* d'implémentation, en [OCaml](https://ocaml.org/)"
   ]
  },
  {
   "cell_type": "markdown",
   "metadata": {},
   "source": [
    "### Pour [l'option informatique (D)](http://www.dit.ens-rennes.fr/agregation-option-d/programme-de-l-option-informatique-de-l-agregation-de-mathematiques-48358.kjsp) de l'[agrégation de mathématiques](http://agreg.org/) (en France)."
   ]
  },
  {
   "cell_type": "markdown",
   "metadata": {},
   "source": [
    "**Attention** : ce document ne prétend pas être LA correction du texte, mais **un exemple de solution**.\n",
    "\n",
    "Je me suis inspiré des propositions d'implémentations rédigées par les élèves qui ont préparé ce texte en 3h50 le lundi 13 mai 2019.\n",
    "\n",
    "----"
   ]
  },
  {
   "cell_type": "markdown",
   "metadata": {},
   "source": [
    "## Exercice requis\n",
    "\n",
    "L'exercice de programmation était en page 2/8 du texte, après l'explication du problème et de l'algorithme de Bresenham.\n",
    "\n",
    "> Écrire un programme permettant de représenter le segment $[A B]$, où $A= (a_1,a_2)$ et $B=(b_1,b_2)$, en suivant l'algorithme de Bresenham.\n",
    "> On supposera que $a_1<b_1$, $a_2 \\leq b_2$ et que la pente $\\alpha$ de la droite est inférieure à $1$.\n",
    "> La sortie du programme sera la liste des couples $(x_i,y_i)$ des points représentant le segment.\n",
    "\n",
    "Attention, on rappelle que le rapport du jury précise explicitement que dans les exercices de programmation **liste de …** signifie *liste* <span style=\"color:red;\">OU</span> *tableau*, au choix du candidat ou de la candidate."
   ]
  },
  {
   "cell_type": "markdown",
   "metadata": {},
   "source": [
    "----"
   ]
  },
  {
   "cell_type": "markdown",
   "metadata": {},
   "source": [
    "## Choix de structure de données\n",
    "\n",
    "Soit $n = b_1 - a_1 \\in\\mathbb{N}$.\n",
    "Ici, on connaît à l'avance le nombre de points que doit contenir la solution, donc utiliser un tableau de $n+1$ points est une bonne idée.\n",
    "\n",
    "### En OCaml\n",
    "On va préférer :\n",
    "\n",
    "```ocaml\n",
    "let segment = Array.make (n+1) (a1, a2) in\n",
    "...\n",
    "\n",
    "for i = 1 to n do\n",
    "    let xi, yi = ..., ... in\n",
    "    segment.(i) <- (xi, yi);\n",
    "done\n",
    "```\n",
    "\n",
    "à :\n",
    "\n",
    "```ocaml\n",
    "let segment = ref [(a1, a2)] in\n",
    "...\n",
    "\n",
    "for i = 1 to n do\n",
    "    let xi, yi = ..., ... in\n",
    "    segment := (xi, yi) :: !segment;\n",
    "done\n",
    "```\n",
    "\n",
    "### En Python\n",
    "On pourrait de même créer un tableau dès le début.\n",
    "On va préférer :\n",
    "\n",
    "```python\n",
    "segment = [ (0,0) for i in range(n+1) ]\n",
    "segment = [ (0,0) ] * (n+1)\n",
    "...\n",
    "for i in range(n):\n",
    "    xi, yi = ..., ...\n",
    "    segment[i] = (xi, yi)\n",
    "```\n",
    "\n",
    "à :\n",
    "\n",
    "```python\n",
    "segment = [ (a1, a2) ]\n",
    "...\n",
    "for i in range(n):\n",
    "    xi, yi = ..., ...\n",
    "    segment.append(xi, yi)\n",
    "```"
   ]
  },
  {
   "cell_type": "markdown",
   "metadata": {},
   "source": [
    "----"
   ]
  },
  {
   "cell_type": "markdown",
   "metadata": {},
   "source": [
    "## Réponse"
   ]
  },
  {
   "cell_type": "markdown",
   "metadata": {},
   "source": [
    "On utilise un type `point` pour représenter les points de coordonées entières $(x, y) \\in\\mathbb{Z}^2$, cela facilitera l'affichage des signatures :"
   ]
  },
  {
   "cell_type": "code",
   "execution_count": 3,
   "metadata": {},
   "outputs": [
    {
     "data": {
      "text/plain": [
       "type point = int * int\n"
      ]
     },
     "execution_count": 3,
     "metadata": {},
     "output_type": "execute_result"
    },
    {
     "data": {
      "text/plain": [
       "val point_a : point = (0, 0)\n",
       "val point_b : point = (4, 3)\n"
      ]
     },
     "execution_count": 3,
     "metadata": {},
     "output_type": "execute_result"
    }
   ],
   "source": [
    "type point = (int * int);;\n",
    "\n",
    "let point_a : point = (0, 0)\n",
    "and point_b : point = (4, 3);;"
   ]
  },
  {
   "cell_type": "code",
   "execution_count": 5,
   "metadata": {},
   "outputs": [
    {
     "data": {
      "text/plain": [
       "type segment = point array\n"
      ]
     },
     "execution_count": 5,
     "metadata": {},
     "output_type": "execute_result"
    }
   ],
   "source": [
    "type segment = point array;;"
   ]
  },
  {
   "cell_type": "markdown",
   "metadata": {},
   "source": [
    "La fonction suivante renvoie un tableau de $n+1$ points, représentant le segment $[a, b]$ obtenus avec l'algorithme de Bresenham.\n",
    "\n",
    "- Complexité temporelle : $\\mathcal{O}(n)$\n",
    "- Complexité mémoire : $\\mathcal{O}(n)$, où n = b1 - a1.\n",
    "  (dans tous les cas)"
   ]
  },
  {
   "cell_type": "code",
   "execution_count": 50,
   "metadata": {},
   "outputs": [
    {
     "data": {
      "text/plain": [
       "val bresenham : point -> point -> segment = <fun>\n"
      ]
     },
     "execution_count": 50,
     "metadata": {},
     "output_type": "execute_result"
    }
   ],
   "source": [
    "let bresenham (a : point) (b : point) : segment =\n",
    "  let a1, a2 = a\n",
    "  and b1, b2 = b in\n",
    "  let n = b1 - a1 in\n",
    "  let segment_ab = Array.make (n+1) a in\n",
    "  let alpha_normalisee = b2 - a2 in (* pente normalisée, ie alpha*n dans *)\n",
    "  let erreur = ref 0 in\n",
    "  let y_tilde = ref a2 in\n",
    "  for i = 1 to n-1 do\n",
    "    if 2 * (!erreur + alpha_normalisee) <= n then\n",
    "      erreur := !erreur + alpha_normalisee\n",
    "    else begin\n",
    "      erreur := !erreur + alpha_normalisee - n;\n",
    "      y_tilde := !y_tilde + 1;\n",
    "    end;\n",
    "    segment_ab.(i) <- (a1 + i, !y_tilde);\n",
    "  done;\n",
    "  segment_ab.(n) <- b;\n",
    "  segment_ab\n",
    ";;"
   ]
  },
  {
   "cell_type": "markdown",
   "metadata": {},
   "source": [
    "### On fait quelques exemples..."
   ]
  },
  {
   "cell_type": "code",
   "execution_count": 51,
   "metadata": {
    "scrolled": true
   },
   "outputs": [
    {
     "data": {
      "text/plain": [
       "- : segment = [|(0, 0); (1, 0); (2, 1); (3, 1); (4, 2); (5, 2)|]\n"
      ]
     },
     "execution_count": 51,
     "metadata": {},
     "output_type": "execute_result"
    }
   ],
   "source": [
    "bresenham (0, 0) (5, 2);;"
   ]
  },
  {
   "cell_type": "code",
   "execution_count": 52,
   "metadata": {
    "scrolled": true
   },
   "outputs": [
    {
     "data": {
      "text/plain": [
       "- : segment = [|(0, 0); (1, 1); (2, 2); (3, 3); (4, 4); (5, 5)|]\n"
      ]
     },
     "execution_count": 52,
     "metadata": {},
     "output_type": "execute_result"
    }
   ],
   "source": [
    "bresenham (0, 0) (5, 5);;"
   ]
  },
  {
   "cell_type": "markdown",
   "metadata": {},
   "source": [
    "### Si une hypothèse n'est pas vérifié"
   ]
  },
  {
   "cell_type": "markdown",
   "metadata": {},
   "source": [
    "On vérifie que l'ordre des arguments est important, le programme exige que $a_1 < b_1$ et $a_2 \\leq b_2$ :"
   ]
  },
  {
   "cell_type": "code",
   "execution_count": 53,
   "metadata": {
    "scrolled": true
   },
   "outputs": [
    {
     "ename": "error",
     "evalue": "runtime_error",
     "output_type": "error",
     "traceback": [
      "\u001b[31mException: Invalid_argument \"Array.make\".\nRaised by primitive operation at file \"[50]\", line 6, characters 2-430\nCalled from file \"toplevel/toploop.ml\", line 180, characters 17-56\n\u001b[0m"
     ]
    }
   ],
   "source": [
    "bresenham (0, 0) (-5, 2);;"
   ]
  },
  {
   "cell_type": "markdown",
   "metadata": {},
   "source": [
    "Si la pente est $\\alpha>1$, le programme ne fait pas ce qu'on espérait, car ses hypothèses ne sont pas respectées :"
   ]
  },
  {
   "cell_type": "code",
   "execution_count": 54,
   "metadata": {},
   "outputs": [
    {
     "data": {
      "text/plain": [
       "- : segment = [|(0, 2)|]\n"
      ]
     },
     "execution_count": 54,
     "metadata": {},
     "output_type": "execute_result"
    }
   ],
   "source": [
    "bresenham (0, 0) (0, 2);;"
   ]
  },
  {
   "cell_type": "markdown",
   "metadata": {},
   "source": [
    "----"
   ]
  },
  {
   "cell_type": "markdown",
   "metadata": {},
   "source": [
    "## Bonus : deux autres méthodes (droites inférieure et supérieure)\n",
    "\n",
    "Ce n'est pas exigé dans le texte, mais on pouvait facilement implémenter la méthode qui longe la droite au plus près inférieurement, et au plus près supérieurement.\n",
    "\n",
    "- Pour la première, c'est assez facile et on peut aussi travailler uniquement avec des entiers :\n",
    "\n",
    "  - Complexité temporelle : $\\mathcal{O}(n)$\n",
    "  - Complexité mémoire : $\\mathcal{O}(n)$, où n = b1 - a1.\n",
    "    (dans tous les cas)"
   ]
  },
  {
   "cell_type": "code",
   "execution_count": 55,
   "metadata": {},
   "outputs": [
    {
     "data": {
      "text/plain": [
       "val au_plus_pres_inferieurement : point -> point -> segment = <fun>\n"
      ]
     },
     "execution_count": 55,
     "metadata": {},
     "output_type": "execute_result"
    }
   ],
   "source": [
    "let au_plus_pres_inferieurement (a : point) (b : point) : segment =\n",
    "  let a1, a2 = a\n",
    "  and b1, b2 = b in\n",
    "  let n = b1 - a1 in\n",
    "  let segment_ab = Array.make (n+1) a in\n",
    "  let alpha_normalisee = b2 - a2 in (* pente normalisée, ie alpha*n dans *)\n",
    "  for i = 1 to n-1 do\n",
    "    (* on laisse la division entière faire la partie inférieure *)\n",
    "    segment_ab.(i) <- (a1 + i, (alpha_normalisee * i + a2 * (b1-a1)) / (b1 -a1));\n",
    "  done;\n",
    "  segment_ab.(n) <- b;\n",
    "  segment_ab\n",
    ";;"
   ]
  },
  {
   "cell_type": "markdown",
   "metadata": {},
   "source": [
    "Sur les mêmes exemples, on voit la différence, quand la pente est $\\alpha<1$ :"
   ]
  },
  {
   "cell_type": "code",
   "execution_count": 56,
   "metadata": {
    "scrolled": true
   },
   "outputs": [
    {
     "data": {
      "text/plain": [
       "- : segment = [|(0, 0); (1, 0); (2, 1); (3, 1); (4, 2); (5, 2)|]\n"
      ]
     },
     "execution_count": 56,
     "metadata": {},
     "output_type": "execute_result"
    },
    {
     "data": {
      "text/plain": [
       "- : segment = [|(0, 0); (1, 0); (2, 0); (3, 1); (4, 1); (5, 2)|]\n"
      ]
     },
     "execution_count": 56,
     "metadata": {},
     "output_type": "execute_result"
    }
   ],
   "source": [
    "bresenham (0, 0) (5, 2);;\n",
    "au_plus_pres_inferieurement (0, 0) (5, 2);;"
   ]
  },
  {
   "cell_type": "code",
   "execution_count": 57,
   "metadata": {
    "scrolled": true
   },
   "outputs": [
    {
     "data": {
      "text/plain": [
       "- : segment = [|(0, 0); (1, 1); (2, 2); (3, 3); (4, 4); (5, 5)|]\n"
      ]
     },
     "execution_count": 57,
     "metadata": {},
     "output_type": "execute_result"
    },
    {
     "data": {
      "text/plain": [
       "- : segment = [|(0, 0); (1, 1); (2, 2); (3, 3); (4, 4); (5, 5)|]\n"
      ]
     },
     "execution_count": 57,
     "metadata": {},
     "output_type": "execute_result"
    }
   ],
   "source": [
    "bresenham (0, 0) (5, 5);;\n",
    "au_plus_pres_inferieurement (0, 0) (5, 5);;"
   ]
  },
  {
   "cell_type": "markdown",
   "metadata": {},
   "source": [
    "- Pour la droite au plus près supérieurement, on va illustrer l'utilisation d'arithmétique flottante et de la fonction `ceil`\n",
    "\n",
    "  - Complexité temporelle : $\\mathcal{O}(n)$\n",
    "  - Complexité mémoire : $\\mathcal{O}(n)$, où n = b1 - a1.\n",
    "    (dans tous les cas)"
   ]
  },
  {
   "cell_type": "code",
   "execution_count": 58,
   "metadata": {},
   "outputs": [
    {
     "data": {
      "text/plain": [
       "- : float -> float = <fun>\n"
      ]
     },
     "execution_count": 58,
     "metadata": {},
     "output_type": "execute_result"
    }
   ],
   "source": [
    "ceil;;"
   ]
  },
  {
   "cell_type": "code",
   "execution_count": 59,
   "metadata": {},
   "outputs": [
    {
     "data": {
      "text/plain": [
       "val ceil_to_int : float -> int = <fun>\n"
      ]
     },
     "execution_count": 59,
     "metadata": {},
     "output_type": "execute_result"
    }
   ],
   "source": [
    "let ceil_to_int x = int_of_float (ceil x);;"
   ]
  },
  {
   "cell_type": "code",
   "execution_count": 60,
   "metadata": {},
   "outputs": [
    {
     "data": {
      "text/plain": [
       "val au_plus_pres_superieurement : point -> point -> segment = <fun>\n"
      ]
     },
     "execution_count": 60,
     "metadata": {},
     "output_type": "execute_result"
    }
   ],
   "source": [
    "let au_plus_pres_superieurement (a : point) (b : point) : segment =\n",
    "  let a1, a2 = a\n",
    "  and b1, b2 = b in\n",
    "  let n = b1 - a1 in\n",
    "  let segment_ab = Array.make (n+1) a in\n",
    "  let alpha = (float_of_int (b2 - a2)) /. (float_of_int n) in (* pente normalisée, ie alpha*n dans *)\n",
    "  for i = 1 to n-1 do\n",
    "    segment_ab.(i) <- (a1 + i, ceil_to_int ((float_of_int a2) +. alpha *. (float_of_int i)));\n",
    "  done;\n",
    "  segment_ab.(n) <- b;\n",
    "  segment_ab\n",
    ";;"
   ]
  },
  {
   "cell_type": "markdown",
   "metadata": {},
   "source": [
    "Sur les mêmes exemples, on voit la différence, quand la pente est $\\alpha<1$ :"
   ]
  },
  {
   "cell_type": "code",
   "execution_count": 61,
   "metadata": {
    "scrolled": true
   },
   "outputs": [
    {
     "data": {
      "text/plain": [
       "- : segment = [|(0, 0); (1, 0); (2, 1); (3, 1); (4, 2); (5, 2)|]\n"
      ]
     },
     "execution_count": 61,
     "metadata": {},
     "output_type": "execute_result"
    },
    {
     "data": {
      "text/plain": [
       "- : segment = [|(0, 0); (1, 1); (2, 1); (3, 2); (4, 2); (5, 2)|]\n"
      ]
     },
     "execution_count": 61,
     "metadata": {},
     "output_type": "execute_result"
    }
   ],
   "source": [
    "bresenham (0, 0) (5, 2);;\n",
    "au_plus_pres_superieurement (0, 0) (5, 2);;"
   ]
  },
  {
   "cell_type": "code",
   "execution_count": 62,
   "metadata": {
    "scrolled": true
   },
   "outputs": [
    {
     "data": {
      "text/plain": [
       "- : segment = [|(0, 0); (1, 1); (2, 2); (3, 3); (4, 4); (5, 5)|]\n"
      ]
     },
     "execution_count": 62,
     "metadata": {},
     "output_type": "execute_result"
    },
    {
     "data": {
      "text/plain": [
       "- : segment = [|(0, 0); (1, 1); (2, 2); (3, 3); (4, 4); (5, 5)|]\n"
      ]
     },
     "execution_count": 62,
     "metadata": {},
     "output_type": "execute_result"
    }
   ],
   "source": [
    "bresenham (0, 0) (5, 5);;\n",
    "au_plus_pres_superieurement (0, 0) (5, 5);;"
   ]
  },
  {
   "cell_type": "markdown",
   "metadata": {},
   "source": [
    "----"
   ]
  },
  {
   "cell_type": "markdown",
   "metadata": {},
   "source": [
    "## Illustration\n",
    "\n",
    "En bonus, on montre une illustration (on ferait des dessins au tableau).\n",
    "\n",
    "### Par la sélection de Bresenham\n",
    "\n",
    "![](images/public2012_D5_OCaml__selection_Bresenham.png)\n",
    "\n",
    "### Par la sélection inférieure\n",
    "\n",
    "![](images/public2012_D5_OCaml__selection_inferieure.png)\n",
    "\n",
    "### Par la sélection supérieure\n",
    "\n",
    "![](images/public2012_D5_OCaml__selection_superieure.png)"
   ]
  },
  {
   "cell_type": "markdown",
   "metadata": {},
   "source": [
    "----"
   ]
  },
  {
   "cell_type": "markdown",
   "metadata": {},
   "source": [
    "## Autres bonus : calculer le mot binaire codant les déplacements\n",
    "\n",
    "Si on utilise par exemple la droite longeant au plus près inférieurement, la fonction suivante renvoie la suite des déplacements horizontaux ou diagonaux\n",
    "pour longer le segment $[a, b]$."
   ]
  },
  {
   "cell_type": "code",
   "execution_count": 63,
   "metadata": {},
   "outputs": [
    {
     "data": {
      "text/plain": [
       "type mot_binaire = bool array\n"
      ]
     },
     "execution_count": 63,
     "metadata": {},
     "output_type": "execute_result"
    }
   ],
   "source": [
    "type mot_binaire = bool array;;"
   ]
  },
  {
   "cell_type": "code",
   "execution_count": 69,
   "metadata": {},
   "outputs": [
    {
     "data": {
      "text/plain": [
       "val deplacements : point -> point -> mot_binaire = <fun>\n"
      ]
     },
     "execution_count": 69,
     "metadata": {},
     "output_type": "execute_result"
    }
   ],
   "source": [
    "let deplacements (a : point) (b : point) : mot_binaire =\n",
    "  let a1, a2 = a\n",
    "  and b1, b2 = b in\n",
    "  let n = b1 - a1 in\n",
    "  let mot_binaire_ab : mot_binaire = Array.make n false in\n",
    "  let alpha_normalisee = b2 - a2 in (* pente normalisée, ie alpha*n dans *)\n",
    "  let y0 = ref 0 and y1 = ref 0 in\n",
    "  for i = 1 to n do\n",
    "    y0 := !y1;\n",
    "    (* on laisse la division entière faire la partie inférieure *)\n",
    "    y1 := (alpha_normalisee * i + a2 * (b1-a1)) / (b1 -a1);\n",
    "    mot_binaire_ab.(i-1) <- !y0 != !y1;\n",
    "  done;\n",
    "  mot_binaire_ab\n",
    ";;"
   ]
  },
  {
   "cell_type": "markdown",
   "metadata": {},
   "source": [
    "Sur les mêmes exemples, on voit la différence, quand la pente est $\\alpha<1$ :"
   ]
  },
  {
   "cell_type": "code",
   "execution_count": 70,
   "metadata": {
    "scrolled": true
   },
   "outputs": [
    {
     "data": {
      "text/plain": [
       "- : segment = [|(0, 0); (1, 0); (2, 0); (3, 1); (4, 1); (5, 2)|]\n"
      ]
     },
     "execution_count": 70,
     "metadata": {},
     "output_type": "execute_result"
    },
    {
     "data": {
      "text/plain": [
       "- : mot_binaire = [|false; false; true; false; true|]\n"
      ]
     },
     "execution_count": 70,
     "metadata": {},
     "output_type": "execute_result"
    }
   ],
   "source": [
    "au_plus_pres_inferieurement (0, 0) (5, 2);;\n",
    "deplacements (0, 0) (5, 2);;"
   ]
  },
  {
   "cell_type": "markdown",
   "metadata": {},
   "source": [
    "Le mot renvoyé est $(0 0 1 0 1)$, comme prévu."
   ]
  },
  {
   "cell_type": "markdown",
   "metadata": {},
   "source": [
    "Et si la pente est $\\alpha=1$, le mot sera $(11111)$."
   ]
  },
  {
   "cell_type": "code",
   "execution_count": 71,
   "metadata": {
    "scrolled": true
   },
   "outputs": [
    {
     "data": {
      "text/plain": [
       "- : segment = [|(0, 0); (1, 1); (2, 2); (3, 3); (4, 4); (5, 5)|]\n"
      ]
     },
     "execution_count": 71,
     "metadata": {},
     "output_type": "execute_result"
    },
    {
     "data": {
      "text/plain": [
       "- : mot_binaire = [|true; true; true; true; true|]\n"
      ]
     },
     "execution_count": 71,
     "metadata": {},
     "output_type": "execute_result"
    }
   ],
   "source": [
    "au_plus_pres_inferieurement (0, 0) (5, 5);;\n",
    "deplacements (0, 0) (5, 5);;"
   ]
  },
  {
   "cell_type": "markdown",
   "metadata": {},
   "source": [
    "----"
   ]
  },
  {
   "cell_type": "markdown",
   "metadata": {},
   "source": [
    "## Conclusion"
   ]
  },
  {
   "cell_type": "markdown",
   "metadata": {},
   "source": [
    "## Attention"
   ]
  },
  {
   "cell_type": "markdown",
   "metadata": {},
   "source": [
    "Les 35/40 minutes de passage au tableau ne doivent PAS être uniquement consacrée à la présentation de vos expériences sur l'ordinateur !\n",
    "\n",
    "Il faut aussi :\n",
    "\n",
    "- faire une introduction générale (citer des mots clés),\n",
    "- présenter le plan de votre présentation,\n",
    "- introduire les notations, les objectifs et les résultats donnés par le texte,\n",
    "- prouver ou exposer des développements **theoriques** personnels (à choisir parmi la liste proposée, mais pas seulement),\n",
    "- etc."
   ]
  },
  {
   "cell_type": "markdown",
   "metadata": {},
   "source": [
    "----\n",
    "\n",
    "> *C'est tout pour aujourd'hui les amis !*\n",
    "> [Allez voir d'autres notebooks](https://github.com/Naereen/notebooks/tree/master/agreg) si vous voulez."
   ]
  }
 ],
 "metadata": {
  "kernelspec": {
   "display_name": "OCaml 4.04.2",
   "language": "OCaml",
   "name": "ocaml-jupyter"
  },
  "language_info": {
   "codemirror_mode": "text/x-ocaml",
   "file_extension": ".ml",
   "mimetype": "text/x-ocaml",
   "name": "OCaml",
   "nbconverter_exporter": null,
   "pygments_lexer": "OCaml",
   "version": "4.04.2"
  },
  "toc": {
   "colors": {
    "hover_highlight": "#DAA520",
    "running_highlight": "#FF0000",
    "selected_highlight": "#FFD700"
   },
   "moveMenuLeft": true,
   "nav_menu": {
    "height": "459.733px",
    "width": "251.833px"
   },
   "navigate_menu": true,
   "number_sections": true,
   "sideBar": false,
   "threshold": 4,
   "toc_cell": true,
   "toc_position": {
    "height": "413.717px",
    "left": "1413.83px",
    "right": "20px",
    "top": "120px",
    "width": "326.167px"
   },
   "toc_section_display": "block",
   "toc_window_display": true
  }
 },
 "nbformat": 4,
 "nbformat_minor": 2
}
