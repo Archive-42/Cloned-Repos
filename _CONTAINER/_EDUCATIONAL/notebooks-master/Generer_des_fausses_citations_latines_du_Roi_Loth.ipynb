{
 "cells": [
  {
   "cell_type": "markdown",
   "metadata": {
    "toc": "true"
   },
   "source": [
    "# Table of Contents\n",
    " <p><div class=\"lev1 toc-item\"><a href=\"#Générer-des-fausses-citations-latines-du-Roi-Loth,-avec-Python,-Wikiquote-et-des-chaînes-de-Markov\" data-toc-modified-id=\"Générer-des-fausses-citations-latines-du-Roi-Loth,-avec-Python,-Wikiquote-et-des-chaînes-de-Markov-1\"><span class=\"toc-item-num\">1&nbsp;&nbsp;</span>Générer des fausses citations latines du Roi Loth, avec Python, Wikiquote et des chaînes de Markov</a></div><div class=\"lev2 toc-item\"><a href=\"#Dépendances\" data-toc-modified-id=\"Dépendances-11\"><span class=\"toc-item-num\">1.1&nbsp;&nbsp;</span>Dépendances</a></div><div class=\"lev2 toc-item\"><a href=\"#Récupérer-et-nettoyer-les-données\" data-toc-modified-id=\"Récupérer-et-nettoyer-les-données-12\"><span class=\"toc-item-num\">1.2&nbsp;&nbsp;</span>Récupérer et nettoyer les données</a></div><div class=\"lev2 toc-item\"><a href=\"#Exploration-de-chaînes-de-Markov-pour-la-génération-aléatoire\" data-toc-modified-id=\"Exploration-de-chaînes-de-Markov-pour-la-génération-aléatoire-13\"><span class=\"toc-item-num\">1.3&nbsp;&nbsp;</span>Exploration de chaînes de Markov pour la génération aléatoire</a></div><div class=\"lev2 toc-item\"><a href=\"#Fausses-locutions-latines\" data-toc-modified-id=\"Fausses-locutions-latines-14\"><span class=\"toc-item-num\">1.4&nbsp;&nbsp;</span>Fausses locutions latines</a></div><div class=\"lev2 toc-item\"><a href=\"#Fausses-citations-du-Roi-Loth\" data-toc-modified-id=\"Fausses-citations-du-Roi-Loth-15\"><span class=\"toc-item-num\">1.5&nbsp;&nbsp;</span>Fausses citations du Roi Loth</a></div><div class=\"lev3 toc-item\"><a href=\"#Premier-exemple\" data-toc-modified-id=\"Premier-exemple-151\"><span class=\"toc-item-num\">1.5.1&nbsp;&nbsp;</span>Premier exemple</a></div><div class=\"lev3 toc-item\"><a href=\"#Exemples\" data-toc-modified-id=\"Exemples-152\"><span class=\"toc-item-num\">1.5.2&nbsp;&nbsp;</span>Exemples</a></div><div class=\"lev3 toc-item\"><a href=\"#Générer-aléatoirement-les-métadonnées-de-l'épisode\" data-toc-modified-id=\"Générer-aléatoirement-les-métadonnées-de-l'épisode-153\"><span class=\"toc-item-num\">1.5.3&nbsp;&nbsp;</span>Générer aléatoirement les métadonnées de l'épisode</a></div><div class=\"lev3 toc-item\"><a href=\"#Générer-aléatoirement-les-explications-foireuses-du-Roi-Loth\" data-toc-modified-id=\"Générer-aléatoirement-les-explications-foireuses-du-Roi-Loth-154\"><span class=\"toc-item-num\">1.5.4&nbsp;&nbsp;</span>Générer aléatoirement les explications foireuses du Roi Loth</a></div><div class=\"lev3 toc-item\"><a href=\"#Combiner-le-tout-!\" data-toc-modified-id=\"Combiner-le-tout-!-155\"><span class=\"toc-item-num\">1.5.5&nbsp;&nbsp;</span>Combiner le tout !</a></div><div class=\"lev3 toc-item\"><a href=\"#Exemples\" data-toc-modified-id=\"Exemples-156\"><span class=\"toc-item-num\">1.5.6&nbsp;&nbsp;</span>Exemples</a></div><div class=\"lev3 toc-item\"><a href=\"#Joli-affichage\" data-toc-modified-id=\"Joli-affichage-157\"><span class=\"toc-item-num\">1.5.7&nbsp;&nbsp;</span>Joli affichage</a></div><div class=\"lev3 toc-item\"><a href=\"#Conclusion\" data-toc-modified-id=\"Conclusion-158\"><span class=\"toc-item-num\">1.5.8&nbsp;&nbsp;</span>Conclusion</a></div>"
   ]
  },
  {
   "cell_type": "markdown",
   "metadata": {},
   "source": [
    "# Générer des fausses citations latines du Roi Loth, avec Python, Wikiquote et des chaînes de Markov\n",
    "\n",
    "J'aimerai montrer ici comment générer des fausses citations latines, dignes du [Roi Loth](https://fr.wikipedia.org/wiki/Personnages_de_Kaamelott#Loth_d%E2%80%99Orcanie) de [Kaamelott](https://fr.wikiquote.org/wiki/Kaamelott), avec Python, des données extraites de [sa page Wikiquote](https://fr.wikiquote.org/wiki/Kaamelott/Loth) et des [chaînes de Markov](https://github.com/jilljenn/markov.py).\n",
    "\n",
    "> Cf. [ce ticket](https://github.com/Naereen/notebooks/issues/13) pour l'idée initiale.\n",
    "\n",
    "Exemple  de sortie :"
   ]
  },
  {
   "cell_type": "code",
   "execution_count": 32,
   "metadata": {},
   "outputs": [
    {
     "data": {
      "text/markdown": [
       "> \"*Felix qui trans mare clausum*\", ça n'a aucun sens, mais je suis très en colère contre moi-même. -- D'après François Rollin, inspiré par Kaamelott, Livre VI, Arturus Rex, écrit par Alexandre Astier."
      ],
      "text/plain": [
       "<IPython.core.display.Markdown object>"
      ]
     },
     "metadata": {},
     "output_type": "display_data"
    }
   ],
   "source": [
    "citation = citation_aleatoire(italic=True)\n",
    "display(Markdown(\"> {}\".format(citation)))"
   ]
  },
  {
   "cell_type": "markdown",
   "metadata": {},
   "source": [
    "## Dépendances"
   ]
  },
  {
   "cell_type": "code",
   "execution_count": 2,
   "metadata": {},
   "outputs": [
    {
     "name": "stdout",
     "output_type": "stream",
     "text": [
      "Lilian Besson (Naereen) \n",
      "\n",
      "CPython 3.6.3\n",
      "IPython 6.2.1\n",
      "\n",
      "lea n\u0007\n",
      "\n",
      "compiler   : GCC 7.2.0\n",
      "system     : Linux\n",
      "release    : 4.13.0-32-generic\n",
      "machine    : x86_64\n",
      "processor  : x86_64\n",
      "CPU cores  : 4\n",
      "interpreter: 64bit\n",
      "Git hash   : accf6d5e439b9cca048abe23d4a27893cd0c7f9a\n"
     ]
    }
   ],
   "source": [
    "%load_ext watermark\n",
    "%watermark -v -m -a \"Lilian Besson (Naereen)\" -p lea -g"
   ]
  },
  {
   "cell_type": "code",
   "execution_count": 3,
   "metadata": {},
   "outputs": [],
   "source": [
    "import os\n",
    "import random\n",
    "\n",
    "from string import ascii_lowercase\n",
    "from collections import Counter, defaultdict"
   ]
  },
  {
   "cell_type": "markdown",
   "metadata": {},
   "source": [
    "Le module [lea](https://bitbucket.org/piedenis/lea) sera très pratique pour manipuler les probabilités pour les chaînes de Markov."
   ]
  },
  {
   "cell_type": "code",
   "execution_count": 4,
   "metadata": {},
   "outputs": [],
   "source": [
    "from lea import Lea"
   ]
  },
  {
   "cell_type": "markdown",
   "metadata": {},
   "source": [
    "## Récupérer et nettoyer les données\n",
    "\n",
    "J'ai utilisé [cette page Wikipédia](https://en.wikipedia.org/wiki/List_of_Latin_phrases_%28full%29) et deux lignes de Bash :"
   ]
  },
  {
   "cell_type": "code",
   "execution_count": 5,
   "metadata": {},
   "outputs": [
    {
     "name": "stderr",
     "output_type": "stream",
     "text": [
      "2018-02-08 14:26:26 URL:https://en.wikipedia.org/wiki/List_of_Latin_phrases_(full) [915916/915916] -> \"/tmp/latin.html\" [1]\n"
     ]
    }
   ],
   "source": [
    "%%bash\n",
    "wget --no-verbose \"https://en.wikipedia.org/wiki/List_of_Latin_phrases_(full)\" -O /tmp/latin.html\n",
    "grep -o '<b>[^<]*</b>' /tmp/latin.html | sed s_'</\\?b>'_''_g | sort | uniq | sort | uniq > /tmp/data_latin.txt"
   ]
  },
  {
   "cell_type": "code",
   "execution_count": 6,
   "metadata": {},
   "outputs": [
    {
     "name": "stdout",
     "output_type": "stream",
     "text": [
      "(oremus) pro invicem\r\n",
      "a bene placito\r\n",
      "a caelo usque ad centrum\r\n",
      "a capite ad calcem\r\n",
      "a contrario\r\n",
      "a Deucalione\r\n",
      "a falsis principiis proficisci\r\n",
      "a pedibus usque ad caput\r\n",
      "a posse ad esse\r\n",
      "ab absurdo\r\n"
     ]
    }
   ],
   "source": [
    "!head data/latin.txt"
   ]
  },
  {
   "cell_type": "markdown",
   "metadata": {},
   "source": [
    "Ensuite il faut un peu de nettoyage pour enlever les lignes qui ont été incorrectement ajoutées dans le fichier (j'ai fait ça à la main)."
   ]
  },
  {
   "cell_type": "code",
   "execution_count": 7,
   "metadata": {},
   "outputs": [
    {
     "name": "stdout",
     "output_type": "stream",
     "text": [
      "(oremus) pro invicem\r\n",
      "a bene placito\r\n",
      "a caelo usque ad centrum\r\n",
      "a capite ad calcem\r\n",
      "a contrario\r\n",
      "a Deucalione\r\n",
      "a falsis principiis proficisci\r\n",
      "a pedibus usque ad caput\r\n",
      "a posse ad esse\r\n",
      "ab absurdo\r\n"
     ]
    }
   ],
   "source": [
    "!head data/latin.txt"
   ]
  },
  {
   "cell_type": "code",
   "execution_count": 8,
   "metadata": {},
   "outputs": [
    {
     "name": "stdout",
     "output_type": "stream",
     "text": [
      "-rw-r--r-- 1 lilian lilian 34K févr.  8 13:32 data/latin.txt\n",
      " 1571  5415 34636 data/latin.txt\n"
     ]
    }
   ],
   "source": [
    "!ls -larth data/latin.txt\n",
    "!wc data/latin.txt"
   ]
  },
  {
   "cell_type": "markdown",
   "metadata": {},
   "source": [
    "On a 1571 citations latines, c'est déjà un corpus conséquent !"
   ]
  },
  {
   "cell_type": "markdown",
   "metadata": {},
   "source": [
    "## Exploration de chaînes de Markov pour la génération aléatoire\n",
    "\n",
    "J'utilise cette fonction [markov](https://github.com/jilljenn/markov.py/blob/master/markov.py#L10) écrite par [Jill-Jênn Vie](https://jilljenn.github.io/)."
   ]
  },
  {
   "cell_type": "code",
   "execution_count": 9,
   "metadata": {},
   "outputs": [],
   "source": [
    "def markov(corpus, start, length):\n",
    "    # Counting occurrences\n",
    "    next_one = defaultdict(Counter)\n",
    "    for sentence in corpus:\n",
    "        words = sentence.split()\n",
    "        nb_words = len(words)\n",
    "        for i in range(nb_words - 1):\n",
    "            next_one[words[i]][words[i + 1]] += 1\n",
    "\n",
    "    # Initializing states\n",
    "    states = {}\n",
    "    for word in next_one:\n",
    "        states[word] = Lea.fromValFreqsDict(next_one[word])\n",
    "\n",
    "    # Outputting visited states\n",
    "    word = start\n",
    "    words = [word]\n",
    "    for _ in range(length - 1):\n",
    "        word = states[word].random()\n",
    "        words.append(word)\n",
    "    return(words)"
   ]
  },
  {
   "cell_type": "markdown",
   "metadata": {},
   "source": [
    "Par exemple :"
   ]
  },
  {
   "cell_type": "code",
   "execution_count": 10,
   "metadata": {},
   "outputs": [],
   "source": [
    "corpus = [\n",
    "    'je mange des cerises',\n",
    "    'je mange des bananes',\n",
    "    'je conduis des camions',\n",
    "]\n",
    "start = 'je'\n",
    "length = 4"
   ]
  },
  {
   "cell_type": "markdown",
   "metadata": {},
   "source": [
    "Et on peut générer 3 phrases aléatoires :"
   ]
  },
  {
   "cell_type": "code",
   "execution_count": 11,
   "metadata": {},
   "outputs": [
    {
     "name": "stdout",
     "output_type": "stream",
     "text": [
      "je mange des cerises\n",
      "je conduis des camions\n",
      "je mange des bananes\n"
     ]
    }
   ],
   "source": [
    "for _ in range(3):\n",
    "    words = markov(corpus, start, length)\n",
    "    print(' '.join(words))"
   ]
  },
  {
   "cell_type": "markdown",
   "metadata": {},
   "source": [
    "## Fausses locutions latines\n",
    "\n",
    "On va extraire le corpus, la liste des premiers mots, et la probabilité qu'un mot en début de citation commence par une majuscule."
   ]
  },
  {
   "cell_type": "code",
   "execution_count": 12,
   "metadata": {},
   "outputs": [],
   "source": [
    "WORD_LIST = \"data/latin.txt\"\n",
    "corpus = open(WORD_LIST).readlines()"
   ]
  },
  {
   "cell_type": "code",
   "execution_count": 13,
   "metadata": {},
   "outputs": [
    {
     "name": "stdout",
     "output_type": "stream",
     "text": [
      "Exemple d'une citation : (oremus) pro invicem\n",
      "\n",
      "Il y a 1572 citations.\n"
     ]
    }
   ],
   "source": [
    "print(\"Exemple d'une citation :\", corpus[0])\n",
    "print(\"Il y a\", len(corpus), \"citations.\")"
   ]
  },
  {
   "cell_type": "code",
   "execution_count": 14,
   "metadata": {},
   "outputs": [
    {
     "name": "stdout",
     "output_type": "stream",
     "text": [
      "Exemple d'un mot de début de citation : ad\n",
      "Il y a 1572 mots de débuts de citations.\n"
     ]
    }
   ],
   "source": [
    "starts = [c.split()[0] for c in corpus]\n",
    "start = random.choice(starts)\n",
    "print(\"Exemple d'un mot de début de citation :\", start)\n",
    "print(\"Il y a\", len(starts), \"mots de débuts de citations.\")\n"
   ]
  },
  {
   "cell_type": "code",
   "execution_count": 15,
   "metadata": {},
   "outputs": [
    {
     "name": "stdout",
     "output_type": "stream",
     "text": [
      "Il y a 8.142% chance de commencer une citation par une majuscule.\n"
     ]
    }
   ],
   "source": [
    "proba_title = len([1 for s in starts if s.istitle()]) / len(starts)\n",
    "print(\"Il y a {:.3%} chance de commencer une citation par une majuscule.\".format(proba_title))"
   ]
  },
  {
   "cell_type": "markdown",
   "metadata": {},
   "source": [
    "Mais en fait, le Roi Loth commence toujours ses citations latines par une majuscule :"
   ]
  },
  {
   "cell_type": "code",
   "execution_count": 16,
   "metadata": {},
   "outputs": [],
   "source": [
    "proba_title = 1"
   ]
  },
  {
   "cell_type": "markdown",
   "metadata": {},
   "source": [
    "On va générer des locutions de 3 à 6 mots :"
   ]
  },
  {
   "cell_type": "code",
   "execution_count": 17,
   "metadata": {},
   "outputs": [],
   "source": [
    "length_min = 3\n",
    "length_max = 6"
   ]
  },
  {
   "cell_type": "markdown",
   "metadata": {},
   "source": [
    "On a bientôt ce qu'il faut pour générer une locution latine aléatoire.\n",
    "Il arrive que la chaîne de Markov se bloque, donc on va juste essayer plusieurs fois avec des débuts différents."
   ]
  },
  {
   "cell_type": "code",
   "execution_count": 18,
   "metadata": {},
   "outputs": [],
   "source": [
    "def markov_try_while_failing(corpus, starts, length_min, length_max, proba_title, nb_max_trial=100):\n",
    "    # Try 100 times to generate a sentence\n",
    "    start = random.choice(starts)\n",
    "    length = random.randint(length_min, length_max)\n",
    "    for trial in range(nb_max_trial):\n",
    "        try:\n",
    "            words = markov(corpus, start, length)\n",
    "            if random.random() <= proba_title:\n",
    "                words[0] = words[0].title()\n",
    "            return words  # comment to debug\n",
    "            print(' '.join(words))\n",
    "            break\n",
    "        except KeyError:\n",
    "            start = random.choice(starts)\n",
    "            length = random.randint(length_min, length_max)\n",
    "            continue\n",
    "    raise ValueError(\"Echec\")"
   ]
  },
  {
   "cell_type": "markdown",
   "metadata": {},
   "source": [
    "On peut essayer :"
   ]
  },
  {
   "cell_type": "code",
   "execution_count": 19,
   "metadata": {},
   "outputs": [
    {
     "name": "stdout",
     "output_type": "stream",
     "text": [
      "Mala tempora mundis lacrima citius\n",
      "Incepto ne supra principem\n",
      "Non canimus surdis, respondent\n",
      "Semper ad sumus animo\n",
      "Ecce panis angelorum\n",
      "Non quaerit lucrum\n",
      "Reductio ad multos annos\n",
      "Adaequatio intellectus nostri\n",
      "Ex vulgus et bonum\n",
      "Feci quod sum quod\n"
     ]
    }
   ],
   "source": [
    "for _ in range(10):\n",
    "    words = markov_try_while_failing(corpus, starts, length_min, length_max, proba_title)\n",
    "    print(' '.join(words))"
   ]
  },
  {
   "cell_type": "markdown",
   "metadata": {},
   "source": [
    "Ça a déjà l'air pas mal latin !"
   ]
  },
  {
   "cell_type": "markdown",
   "metadata": {},
   "source": [
    "## Fausses citations du Roi Loth\n",
    "\n",
    "Pour générer une citation du Roi Loth, il ne suffit pas d'avoir des locutions latines.\n",
    "Il faut le contexte, l'explication, une fausse citation d'un épisode de Kaamelott etc...\n",
    "\n",
    "### Premier exemple\n",
    "Ecouter celle là : [Misa brevis, et spiritus maxima](https://kaamelott-soundboard.2ec0b4.fr/#son/tres_en_colere).\n",
    "<audio src=\"data/tres_en_colere.mp3\" controls=\"controls\">Your browser does not support the audio element.</audio>\n",
    "\n",
    "### Exemples\n",
    "\n",
    "> *Ave Cesar, rosae rosam, et spiritus rex !* Ah non, parce que là, j’en ai marre !\n",
    "> -- François Rollin, Kaamelott, Livre III, L’Assemblée des rois 2e partie, écrit par Alexandre Astier.\n",
    "\n",
    "> *Tempora mori, tempora mundis recorda*. Voilà. Eh bien ça, par exemple, ça veut absolument rien dire, mais l’effet reste le même, et pourtant j’ai jamais foutu les pieds dans une salle de classe attention !\n",
    "> -- François Rollin, Kaamelott, Livre III, L’Assemblée des rois 2e partie, écrit par Alexandre Astier.\n",
    "\n",
    "> *Victoriae mundis et mundis lacrima.* Bon, ça ne veut absolument rien dire, mais je trouve que c’est assez dans le ton.\n",
    "> -- François Rollin, Kaamelott, Livre IV, Le désordre et la nuit, écrit par Alexandre Astier.\n",
    "\n",
    "> *Misa brevis et spiritus maxima*, ça veut rien dire, mais je suis très en colère contre moi-même.\n",
    "> -- François Rollin, Kaamelott, Livre V, Misère noire, écrit par Alexandre Astier.\n",
    "\n",
    "> *Deus minimi placet* : seul les dieux décident.\n",
    "> -- François Rollin, Kaamelott, Livre VI, Arturus Rex, écrit par Alexandre Astier.\n",
    "\n",
    "> *\"Mundi placet et spiritus minima\"*, ça n'a aucun sens mais on pourrait très bien imaginer une traduction du type : *\"Le roseau plie, mais ne cède... qu'en cas de pépin\"* ce qui ne veut rien dire non plus.\n",
    "> -- François Rollin, Kaamelott, Livre VI, Lacrimosa, écrit par Alexandre Astier."
   ]
  },
  {
   "cell_type": "markdown",
   "metadata": {},
   "source": [
    "### Générer aléatoirement les métadonnées de l'épisode\n",
    "C'est facile."
   ]
  },
  {
   "cell_type": "code",
   "execution_count": 20,
   "metadata": {},
   "outputs": [],
   "source": [
    "episodes = [\n",
    "    \"Livre III, L’Assemblée des rois 2e partie, écrit par Alexandre Astier.\",\n",
    "    \"Livre III, L’Assemblée des rois 2e partie, écrit par Alexandre Astier.\",  # présent deux fois\n",
    "    \"Livre IV, Le désordre et la nuit, écrit par Alexandre Astier.\",\n",
    "    \"Livre V, Misère noire, écrit par Alexandre Astier.\",\n",
    "    \"Livre VI, Arturus Rex, écrit par Alexandre Astier.\",\n",
    "    \"Livre VI, Lacrimosa, écrit par Alexandre Astier.\"\n",
    "]"
   ]
  },
  {
   "cell_type": "code",
   "execution_count": 21,
   "metadata": {},
   "outputs": [],
   "source": [
    "def metadonnee_aleatoire(episodes=episodes):\n",
    "    episode = random.choice(episodes)\n",
    "    return \"D'après François Rollin, inspiré par Kaamelott, \" + episode"
   ]
  },
  {
   "cell_type": "markdown",
   "metadata": {},
   "source": [
    "### Générer aléatoirement les explications foireuses du Roi Loth\n",
    "C'est moins facile... Mais sans chercher à être parfait, on va juste prendre une explication parmi celles qui existent :"
   ]
  },
  {
   "cell_type": "code",
   "execution_count": 22,
   "metadata": {},
   "outputs": [],
   "source": [
    "explications = [\n",
    "    \". Ah non, parce que là, j’en ai marre !\",\n",
    "    \". Voilà. Eh bien ça, par exemple, ça veut absolument rien dire, mais l’effet reste le même, et pourtant j’ai jamais foutu les pieds dans une salle de classe attention !\",\n",
    "    \". Bon, ça ne veut absolument rien dire, mais je trouve que c’est assez dans le ton.\",\n",
    "    \", ça veut rien dire, mais je suis très en colère contre moi-même.\",\n",
    "    \" : seul les dieux décident.\",\n",
    "    \"\"\", ça n'a aucun sens mais on pourrait très bien imaginer une traduction du type : \"Le roseau plie, mais ne cède... qu'en cas de pépin\", ce qui ne veut rien dire non plus.\"\"\",\n",
    "]"
   ]
  },
  {
   "cell_type": "markdown",
   "metadata": {},
   "source": [
    "Et quelques variations :"
   ]
  },
  {
   "cell_type": "code",
   "execution_count": 23,
   "metadata": {},
   "outputs": [],
   "source": [
    "explications += [\n",
    "    \". Ah non, parce qu'au bout d'un moment, zut !\",\n",
    "    \". Voilà, ça ne veut rien dire, mais c'est assez dans le ton !\",\n",
    "    \". Bon, ça n'a aucun sens, mais j'aime bien ce petit ton décalé.\",\n",
    "    \". Le latin, ça impressionne ! Surtout les grouillots.\",\n",
    "    \", ça n'a aucun sens, mais je suis très en colère contre moi-même.\",\n",
    "    \", ça n'a aucun sens, mais je fais ça par amour.\",\n",
    "    \" : la victoire par la sagesse.\",\n",
    "    \" : les livres contiennent la sagesse des anciens.\",\n",
    "    \" : à Rome seul compte le pouvoir.\",\n",
    "    \" : seul les puissants agissent.\",\n",
    "    \" : le mariage est une bénédiction.\",\n",
    "    \" : ça veut rien dire, mais ça impressionne !\",\n",
    "    \"\"\", ça veut rien dire mais on pourrait très bien imaginer une traduction du type : \"Le vent tourne pour ceux qui savent écouter\", ce qui ne veut rien dire non plus.\"\"\",\n",
    "    \"\"\", ça n'a aucun sens mais pourquoi pas une traduction du genre : \"Les imbéciles dorment, les forts agissent mais dorment aussi\", ce qui n'a aucun sens non plus.\"\"\",\n",
    "]"
   ]
  },
  {
   "cell_type": "code",
   "execution_count": 24,
   "metadata": {},
   "outputs": [],
   "source": [
    "def explication_aleatoire():\n",
    "    return random.choice(explications)"
   ]
  },
  {
   "cell_type": "markdown",
   "metadata": {},
   "source": [
    "### Combiner le tout !\n",
    "C'est très facile :"
   ]
  },
  {
   "cell_type": "code",
   "execution_count": 25,
   "metadata": {},
   "outputs": [],
   "source": [
    "def citation_aleatoire(italic=False):\n",
    "    metadonnee = metadonnee_aleatoire()\n",
    "    explication = explication_aleatoire()\n",
    "    words = markov_try_while_failing(corpus, starts, length_min, length_max, proba_title)\n",
    "    locution = ' '.join(words)\n",
    "    if italic:\n",
    "        citation = '\"*{}*\"{} -- {}'.format(locution, explication, metadonnee)\n",
    "    else:\n",
    "        citation = '\"{}\"{} -- {}'.format(locution, explication, metadonnee)\n",
    "    return citation"
   ]
  },
  {
   "cell_type": "markdown",
   "metadata": {},
   "source": [
    "### Exemples"
   ]
  },
  {
   "cell_type": "code",
   "execution_count": 26,
   "metadata": {},
   "outputs": [
    {
     "name": "stdout",
     "output_type": "stream",
     "text": [
      "> \"*Verba ex supra*\", ça n'a aucun sens, mais je suis très en colère contre moi-même. -- D'après François Rollin, inspiré par Kaamelott, Livre III, L’Assemblée des rois 2e partie, écrit par Alexandre Astier.\n",
      "> \"*Operari sequitur esse est*\", ça n'a aucun sens, mais je suis très en colère contre moi-même. -- D'après François Rollin, inspiré par Kaamelott, Livre IV, Le désordre et la nuit, écrit par Alexandre Astier.\n",
      "> \"*Lectio brevior potior*\", ça veut rien dire, mais je suis très en colère contre moi-même. -- D'après François Rollin, inspiré par Kaamelott, Livre VI, Arturus Rex, écrit par Alexandre Astier.\n",
      "> \"*Parva sub Iove*\", ça veut rien dire, mais je suis très en colère contre moi-même. -- D'après François Rollin, inspiré par Kaamelott, Livre III, L’Assemblée des rois 2e partie, écrit par Alexandre Astier.\n",
      "> \"*Semper victurus, vive ut inde*\". Voilà. Eh bien ça, par exemple, ça veut absolument rien dire, mais l’effet reste le même, et pourtant j’ai jamais foutu les pieds dans une salle de classe attention ! -- D'après François Rollin, inspiré par Kaamelott, Livre V, Misère noire, écrit par Alexandre Astier.\n",
      "> \"*Laudator temporis acti prudentes*\", ça n'a aucun sens, mais je fais ça par amour. -- D'après François Rollin, inspiré par Kaamelott, Livre IV, Le désordre et la nuit, écrit par Alexandre Astier.\n",
      "> \"*Virtus et suppositio nil*\", ça n'a aucun sens, mais je fais ça par amour. -- D'après François Rollin, inspiré par Kaamelott, Livre VI, Lacrimosa, écrit par Alexandre Astier.\n",
      "> \"*Rus in limine*\" : la victoire par la sagesse. -- D'après François Rollin, inspiré par Kaamelott, Livre VI, Arturus Rex, écrit par Alexandre Astier.\n",
      "> \"*Labore non tollit*\" : à Rome seul compte le pouvoir. -- D'après François Rollin, inspiré par Kaamelott, Livre V, Misère noire, écrit par Alexandre Astier.\n",
      "> \"*Celer - Mortalis*\" : les livres contiennent la sagesse des anciens. -- D'après François Rollin, inspiré par Kaamelott, Livre VI, Arturus Rex, écrit par Alexandre Astier.\n"
     ]
    }
   ],
   "source": [
    "for _ in range(10):\n",
    "    print(\">\", citation_aleatoire(italic=True))"
   ]
  },
  {
   "cell_type": "markdown",
   "metadata": {},
   "source": [
    "### Joli affichage"
   ]
  },
  {
   "cell_type": "code",
   "execution_count": 27,
   "metadata": {},
   "outputs": [],
   "source": [
    "from IPython.display import display, Markdown"
   ]
  },
  {
   "cell_type": "code",
   "execution_count": 28,
   "metadata": {},
   "outputs": [
    {
     "data": {
      "text/markdown": [
       "> \"*Virtus et virtute et patria nostra*\" : seul les dieux décident. -- D'après François Rollin, inspiré par Kaamelott, Livre VI, Lacrimosa, écrit par Alexandre Astier."
      ],
      "text/plain": [
       "<IPython.core.display.Markdown object>"
      ]
     },
     "metadata": {},
     "output_type": "display_data"
    },
    {
     "data": {
      "text/markdown": [
       "> \"*Vade ad solem*\", ça n'a aucun sens, mais je suis très en colère contre moi-même. -- D'après François Rollin, inspiré par Kaamelott, Livre III, L’Assemblée des rois 2e partie, écrit par Alexandre Astier."
      ],
      "text/plain": [
       "<IPython.core.display.Markdown object>"
      ]
     },
     "metadata": {},
     "output_type": "display_data"
    },
    {
     "data": {
      "text/markdown": [
       "> \"*Omnis vir enim corpus est necessarium*\", ça veut rien dire mais on pourrait très bien imaginer une traduction du type : \"Le vent tourne pour ceux qui savent écouter\", ce qui ne veut rien dire non plus. -- D'après François Rollin, inspiré par Kaamelott, Livre VI, Arturus Rex, écrit par Alexandre Astier."
      ],
      "text/plain": [
       "<IPython.core.display.Markdown object>"
      ]
     },
     "metadata": {},
     "output_type": "display_data"
    },
    {
     "data": {
      "text/markdown": [
       "> \"*Gloriosus et virtus tentamine*\". Le latin, ça impressionne ! Surtout les grouillots. -- D'après François Rollin, inspiré par Kaamelott, Livre VI, Lacrimosa, écrit par Alexandre Astier."
      ],
      "text/plain": [
       "<IPython.core.display.Markdown object>"
      ]
     },
     "metadata": {},
     "output_type": "display_data"
    },
    {
     "data": {
      "text/markdown": [
       "> \"*Principia probant non probantur*\", ça n'a aucun sens, mais je fais ça par amour. -- D'après François Rollin, inspiré par Kaamelott, Livre VI, Arturus Rex, écrit par Alexandre Astier."
      ],
      "text/plain": [
       "<IPython.core.display.Markdown object>"
      ]
     },
     "metadata": {},
     "output_type": "display_data"
    },
    {
     "data": {
      "text/markdown": [
       "> \"*Sapienti sat celeriter fieri*\", ça n'a aucun sens mais pourquoi pas une traduction du genre : \"Les imbéciles dorment, les forts agissent mais dorment aussi\", ce qui n'a aucun sens non plus. -- D'après François Rollin, inspiré par Kaamelott, Livre V, Misère noire, écrit par Alexandre Astier."
      ],
      "text/plain": [
       "<IPython.core.display.Markdown object>"
      ]
     },
     "metadata": {},
     "output_type": "display_data"
    },
    {
     "data": {
      "text/markdown": [
       "> \"*Ubi non numero et*\", ça veut rien dire mais on pourrait très bien imaginer une traduction du type : \"Le vent tourne pour ceux qui savent écouter\", ce qui ne veut rien dire non plus. -- D'après François Rollin, inspiré par Kaamelott, Livre IV, Le désordre et la nuit, écrit par Alexandre Astier."
      ],
      "text/plain": [
       "<IPython.core.display.Markdown object>"
      ]
     },
     "metadata": {},
     "output_type": "display_data"
    },
    {
     "data": {
      "text/markdown": [
       "> \"*Reginam occidere possunt*\", ça veut rien dire mais on pourrait très bien imaginer une traduction du type : \"Le vent tourne pour ceux qui savent écouter\", ce qui ne veut rien dire non plus. -- D'après François Rollin, inspiré par Kaamelott, Livre VI, Lacrimosa, écrit par Alexandre Astier."
      ],
      "text/plain": [
       "<IPython.core.display.Markdown object>"
      ]
     },
     "metadata": {},
     "output_type": "display_data"
    },
    {
     "data": {
      "text/markdown": [
       "> \"*In ardua virtus junxit mors omnibus*\". Le latin, ça impressionne ! Surtout les grouillots. -- D'après François Rollin, inspiré par Kaamelott, Livre VI, Lacrimosa, écrit par Alexandre Astier."
      ],
      "text/plain": [
       "<IPython.core.display.Markdown object>"
      ]
     },
     "metadata": {},
     "output_type": "display_data"
    },
    {
     "data": {
      "text/markdown": [
       "> \"*Libertas Justitia Veritas*\", ça veut rien dire mais on pourrait très bien imaginer une traduction du type : \"Le vent tourne pour ceux qui savent écouter\", ce qui ne veut rien dire non plus. -- D'après François Rollin, inspiré par Kaamelott, Livre V, Misère noire, écrit par Alexandre Astier."
      ],
      "text/plain": [
       "<IPython.core.display.Markdown object>"
      ]
     },
     "metadata": {},
     "output_type": "display_data"
    }
   ],
   "source": [
    "for _ in range(10):\n",
    "    citation = citation_aleatoire(italic=True)\n",
    "    display(Markdown(\"> {}\".format(citation)))"
   ]
  },
  {
   "cell_type": "markdown",
   "metadata": {},
   "source": [
    "### Conclusion\n",
    "\n",
    "Alors, convaincus ?\n",
    "\n",
    "> [Whoooo! Whoo! C'est mortel ! Whoua c'est mortel!](https://kaamelott-soundboard.2ec0b4.fr/#son/wooouuuhouhouhou_c_est_mortel) comme dirait Perceval.\n",
    "\n",
    "Allez voir [ici pour d'autres Notebooks](https://github.com/Naereen/notebooks) écrits par Lilian Besson."
   ]
  }
 ],
 "metadata": {
  "kernelspec": {
   "display_name": "Python 3",
   "language": "python",
   "name": "python3"
  },
  "language_info": {
   "codemirror_mode": {
    "name": "ipython",
    "version": 3
   },
   "file_extension": ".py",
   "mimetype": "text/x-python",
   "name": "python",
   "nbconvert_exporter": "python",
   "pygments_lexer": "ipython3",
   "version": "3.6.3"
  },
  "toc": {
   "colors": {
    "hover_highlight": "#DAA520",
    "running_highlight": "#FF0000",
    "selected_highlight": "#FFD700"
   },
   "moveMenuLeft": true,
   "nav_menu": {
    "height": "237px",
    "width": "250px"
   },
   "navigate_menu": true,
   "number_sections": true,
   "sideBar": false,
   "threshold": 4,
   "toc_cell": true,
   "toc_position": {
    "height": "441px",
    "left": "1271px",
    "right": "22px",
    "top": "189.667px",
    "width": "307px"
   },
   "toc_section_display": "block",
   "toc_window_display": true
  },
  "varInspector": {
   "cols": {
    "lenName": 16,
    "lenType": 16,
    "lenVar": 40
   },
   "kernels_config": {
    "python": {
     "delete_cmd_postfix": "",
     "delete_cmd_prefix": "del ",
     "library": "var_list.py",
     "varRefreshCmd": "print(var_dic_list())"
    },
    "r": {
     "delete_cmd_postfix": ") ",
     "delete_cmd_prefix": "rm(",
     "library": "var_list.r",
     "varRefreshCmd": "cat(var_dic_list()) "
    }
   },
   "types_to_exclude": [
    "module",
    "function",
    "builtin_function_or_method",
    "instance",
    "_Feature"
   ],
   "window_display": false
  }
 },
 "nbformat": 4,
 "nbformat_minor": 2
}
