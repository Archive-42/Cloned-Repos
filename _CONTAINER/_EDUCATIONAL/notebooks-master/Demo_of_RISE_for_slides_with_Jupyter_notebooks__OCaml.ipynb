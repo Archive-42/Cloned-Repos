{
 "cells": [
  {
   "cell_type": "markdown",
   "metadata": {
    "slideshow": {
     "slide_type": "slide"
    },
    "toc": "true"
   },
   "source": [
    "# Table of Contents\n",
    " <p><div class=\"lev1 toc-item\"><a href=\"#Demo-of-RISE-for-slides-with-Jupyter-notebooks-(Python)\" data-toc-modified-id=\"Demo-of-RISE-for-slides-with-Jupyter-notebooks-(Python)-1\"><span class=\"toc-item-num\">1&nbsp;&nbsp;</span>Demo of RISE for slides with Jupyter notebooks (Python)</a></div><div class=\"lev2 toc-item\"><a href=\"#Title-2\" data-toc-modified-id=\"Title-2-11\"><span class=\"toc-item-num\">1.1&nbsp;&nbsp;</span>Title 2</a></div><div class=\"lev3 toc-item\"><a href=\"#Title-3\" data-toc-modified-id=\"Title-3-111\"><span class=\"toc-item-num\">1.1.1&nbsp;&nbsp;</span>Title 3</a></div><div class=\"lev4 toc-item\"><a href=\"#Title-4\" data-toc-modified-id=\"Title-4-1111\"><span class=\"toc-item-num\">1.1.1.1&nbsp;&nbsp;</span>Title 4</a></div><div class=\"lev2 toc-item\"><a href=\"#Text\" data-toc-modified-id=\"Text-12\"><span class=\"toc-item-num\">1.2&nbsp;&nbsp;</span>Text</a></div><div class=\"lev2 toc-item\"><a href=\"#Maths\" data-toc-modified-id=\"Maths-13\"><span class=\"toc-item-num\">1.3&nbsp;&nbsp;</span>Maths</a></div><div class=\"lev2 toc-item\"><a href=\"#And-code\" data-toc-modified-id=\"And-code-14\"><span class=\"toc-item-num\">1.4&nbsp;&nbsp;</span>And code</a></div><div class=\"lev1 toc-item\"><a href=\"#More-demo-of-Markdown-code\" data-toc-modified-id=\"More-demo-of-Markdown-code-2\"><span class=\"toc-item-num\">2&nbsp;&nbsp;</span>More demo of Markdown code</a></div><div class=\"lev2 toc-item\"><a href=\"#Lists\" data-toc-modified-id=\"Lists-21\"><span class=\"toc-item-num\">2.1&nbsp;&nbsp;</span>Lists</a></div><div class=\"lev4 toc-item\"><a href=\"#Images\" data-toc-modified-id=\"Images-2101\"><span class=\"toc-item-num\">2.1.0.1&nbsp;&nbsp;</span>Images</a></div><div class=\"lev4 toc-item\"><a href=\"#And-Markdown-can-include-raw-HTML\" data-toc-modified-id=\"And-Markdown-can-include-raw-HTML-2102\"><span class=\"toc-item-num\">2.1.0.2&nbsp;&nbsp;</span>And Markdown can include raw HTML</a></div><div class=\"lev1 toc-item\"><a href=\"#End-of-this-demo\" data-toc-modified-id=\"End-of-this-demo-3\"><span class=\"toc-item-num\">3&nbsp;&nbsp;</span>End of this demo</a></div>"
   ]
  },
  {
   "cell_type": "markdown",
   "metadata": {
    "slideshow": {
     "slide_type": "slide"
    }
   },
   "source": [
    "# Demo of RISE for slides with Jupyter notebooks (Python)\n",
    "\n",
    "- This document is an example of a slideshow, written in a [Jupyter notebook](https://www.jupyter.org/) with the [RISE extension](https://github.com/damianavila/RISE).\n",
    "\n",
    "> By [Lilian Besson](http://perso.crans.org/besson/), Sept.2017."
   ]
  },
  {
   "cell_type": "markdown",
   "metadata": {
    "slideshow": {
     "slide_type": "slide"
    }
   },
   "source": [
    "---\n",
    "## Title 2\n",
    "### Title 3\n",
    "#### Title 4\n",
    "##### Title 5\n",
    "##### Title 6"
   ]
  },
  {
   "cell_type": "markdown",
   "metadata": {
    "slideshow": {
     "slide_type": "subslide"
    }
   },
   "source": [
    "## Text\n",
    "With text, *emphasis*, **bold**, ~~striked~~, `inline code` and\n",
    "\n",
    "> *Quote.*\n",
    ">\n",
    "> -- By a guy."
   ]
  },
  {
   "cell_type": "markdown",
   "metadata": {
    "slideshow": {
     "slide_type": "subslide"
    }
   },
   "source": [
    "## Maths\n",
    "With inline math $\\sin(x)^2 + \\cos(x)^2 = 1$ and equations:\n",
    "$$\\sin(x)^2 + \\cos(x)^2 = \\left(\\frac{\\mathrm{e}^{ix} - \\mathrm{e}^{-ix}}{2i}\\right)^2 + \\left(\\frac{\\mathrm{e}^{ix} + \\mathrm{e}^{-ix}}{2}\\right)^2 = \\frac{-\\mathrm{e}^{2ix}-\\mathrm{e}^{-2ix}+2 \\; ++\\mathrm{e}^{2ix}+\\mathrm{e}^{-2ix}+2}{4} = 1.$$"
   ]
  },
  {
   "cell_type": "markdown",
   "metadata": {
    "slideshow": {
     "slide_type": "subslide"
    }
   },
   "source": [
    "## And code\n",
    "In Markdown:\n",
    "```python\n",
    "Sys.command \"ocaml -version\";;\n",
    "```\n",
    "\n",
    "And in a executable cell (with OCaml 4.04.2 kernel) :"
   ]
  },
  {
   "cell_type": "code",
   "execution_count": 1,
   "metadata": {
    "slideshow": {
     "slide_type": "-"
    }
   },
   "outputs": [
    {
     "name": "stdout",
     "output_type": "stream",
     "text": [
      "The OCaml toplevel, version 4.04.2\n"
     ]
    },
    {
     "data": {
      "text/plain": [
       "- : int = 0\n"
      ]
     },
     "execution_count": 1,
     "metadata": {},
     "output_type": "execute_result"
    }
   ],
   "source": [
    "Sys.command \"ocaml -version\";;"
   ]
  },
  {
   "cell_type": "markdown",
   "metadata": {
    "slideshow": {
     "slide_type": "slide"
    }
   },
   "source": [
    "# More demo of Markdown code"
   ]
  },
  {
   "cell_type": "markdown",
   "metadata": {
    "slideshow": {
     "slide_type": "subslide"
    }
   },
   "source": [
    "## Lists\n",
    "\n",
    "- Unordered\n",
    "- lists\n",
    "- are easy.\n",
    "\n",
    "And\n",
    "\n",
    "1. and ordered also ! Just\n",
    "2. start lines by `1.`, `2.` etc\n",
    "3. or simply `1.`, `1.`, ..."
   ]
  },
  {
   "cell_type": "markdown",
   "metadata": {
    "slideshow": {
     "slide_type": "subslide"
    }
   },
   "source": [
    "#### Images\n",
    "With a HTML `<img/>` tag or the `![alt](url)` Markdown code:\n",
    "<img width=\"100\" src=\"agreg/images/dooku.jpg\"/>\n",
    "\n",
    "![agreg/images/dooku.jpg](agreg/images/dooku.jpg)"
   ]
  },
  {
   "cell_type": "code",
   "execution_count": 6,
   "metadata": {},
   "outputs": [
    {
     "data": {
      "text/plain": [
       "val youtube_video : string -> JupyterNotebook.display_id = <fun>\n"
      ]
     },
     "execution_count": 6,
     "metadata": {},
     "output_type": "execute_result"
    }
   ],
   "source": [
    "#thread ;;\n",
    "#require \"jupyter.notebook\" ;;\n",
    "(* https://akabe.github.io/ocaml-jupyter/notebook/JupyterNotebook.html *)\n",
    "\n",
    "let youtube_video url = JupyterNotebook.display \"text/html\"\n",
    "    (Printf.sprintf \"<iframe width=560 height=315 src='%s'></iframe>\" url)\n",
    ";;"
   ]
  },
  {
   "cell_type": "markdown",
   "metadata": {
    "slideshow": {
     "slide_type": "subslide"
    }
   },
   "source": [
    "#### And Markdown can include raw HTML\n",
    "\n",
    "<center><span style=\"color: green;\">This is a centered span, colored in green.</span></center>\n",
    "\n",
    "Iframes are disabled by default, but by using the IPython internals we can include let say a YouTube video:"
   ]
  },
  {
   "cell_type": "code",
   "execution_count": 7,
   "metadata": {
    "scrolled": false
   },
   "outputs": [
    {
     "data": {
      "text/html": [
       "<iframe width=560 height=315 src='https://www.youtube.com/embed/FNg5_2UUCNU'></iframe>"
      ]
     },
     "metadata": {},
     "output_type": "display_data"
    },
    {
     "data": {
      "text/plain": [
       "- : JupyterNotebook.display_id = <abstr>\n"
      ]
     },
     "execution_count": 7,
     "metadata": {},
     "output_type": "execute_result"
    }
   ],
   "source": [
    "youtube_video \"https://www.youtube.com/embed/FNg5_2UUCNU\";;"
   ]
  },
  {
   "cell_type": "markdown",
   "metadata": {
    "slideshow": {
     "slide_type": "slide"
    }
   },
   "source": [
    "# End of this demo\n",
    "\n",
    "- See [here for more notebooks](https://github.com/Naereen/notebooks/)!\n",
    "- This document, like my other notebooks, is distributed [under the MIT License](https://lbesson.mit-license.org/)."
   ]
  }
 ],
 "metadata": {
  "celltoolbar": "Slideshow",
  "kernelspec": {
   "display_name": "OCaml 4.04.2",
   "language": "OCaml",
   "name": "ocaml-jupyter"
  },
  "language_info": {
   "codemirror_mode": "text/x-ocaml",
   "file_extension": ".ml",
   "mimetype": "text/x-ocaml",
   "name": "OCaml",
   "nbconverter_exporter": null,
   "pygments_lexer": "OCaml",
   "version": "4.04.2"
  },
  "toc": {
   "colors": {
    "hover_highlight": "#DAA520",
    "running_highlight": "#FF0000",
    "selected_highlight": "#FFD700"
   },
   "moveMenuLeft": true,
   "nav_menu": {
    "height": "129px",
    "width": "251px"
   },
   "navigate_menu": true,
   "number_sections": true,
   "sideBar": true,
   "threshold": 4,
   "toc_cell": true,
   "toc_section_display": "block",
   "toc_window_display": false
  }
 },
 "nbformat": 4,
 "nbformat_minor": 2
}
