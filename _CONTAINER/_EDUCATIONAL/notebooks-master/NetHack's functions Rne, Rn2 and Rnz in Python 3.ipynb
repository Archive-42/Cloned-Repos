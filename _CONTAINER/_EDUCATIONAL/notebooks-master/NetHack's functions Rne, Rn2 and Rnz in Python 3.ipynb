{
 "cells": [
  {
   "cell_type": "markdown",
   "metadata": {
    "toc": "true"
   },
   "source": [
    "# Table of Contents\n",
    " <p><div class=\"lev1 toc-item\"><a href=\"#NetHack's-functions-Rne,-Rn2-and-Rnz-in-Python-3\" data-toc-modified-id=\"NetHack's-functions-Rne,-Rn2-and-Rnz-in-Python-3-1\"><span class=\"toc-item-num\">1&nbsp;&nbsp;</span>NetHack's functions Rne, Rn2 and Rnz in Python 3</a></div><div class=\"lev2 toc-item\"><a href=\"#Rn2-distribution\" data-toc-modified-id=\"Rn2-distribution-11\"><span class=\"toc-item-num\">1.1&nbsp;&nbsp;</span><code>Rn2</code> distribution</a></div><div class=\"lev2 toc-item\"><a href=\"#Rne-distribution\" data-toc-modified-id=\"Rne-distribution-12\"><span class=\"toc-item-num\">1.2&nbsp;&nbsp;</span><code>Rne</code> distribution</a></div><div class=\"lev2 toc-item\"><a href=\"#Rnz-distribution\" data-toc-modified-id=\"Rnz-distribution-13\"><span class=\"toc-item-num\">1.3&nbsp;&nbsp;</span><code>Rnz</code> distribution</a></div><div class=\"lev2 toc-item\"><a href=\"#Examples\" data-toc-modified-id=\"Examples-14\"><span class=\"toc-item-num\">1.4&nbsp;&nbsp;</span>Examples</a></div><div class=\"lev3 toc-item\"><a href=\"#For-x=350\" data-toc-modified-id=\"For-x=350-141\"><span class=\"toc-item-num\">1.4.1&nbsp;&nbsp;</span>For <code>x=350</code></a></div><div class=\"lev2 toc-item\"><a href=\"#Conclusion\" data-toc-modified-id=\"Conclusion-15\"><span class=\"toc-item-num\">1.5&nbsp;&nbsp;</span>Conclusion</a></div>"
   ]
  },
  {
   "cell_type": "markdown",
   "metadata": {},
   "source": [
    "# NetHack's functions Rne, Rn2 and Rnz in Python 3\n",
    "\n",
    "I liked [this blog post](https://eev.ee/blog/2018/01/02/random-with-care/#beware-gauss) by [Eevee](https://eev.ee/blog/).\n",
    "He wrote about interesting things regarding random distributions, and linked to [this page](https://nethackwiki.com/wiki/Rnz) which describes a weird distribution implemented as `Rnz` in the [NetHack](https://www.nethack.org/) game.\n",
    "\n",
    "> Note: I never heard of any of those before today.\n",
    "\n",
    "I wanted to implement and experiment with the `Rnz` distribution myself.\n",
    "Its code ([see here](https://nethackwiki.com/wiki/Source:NetHack_3.6.0/src/rnd.c#rnz)) uses two other distributions, `Rne` and `Rn2`."
   ]
  },
  {
   "cell_type": "code",
   "execution_count": 41,
   "metadata": {},
   "outputs": [
    {
     "name": "stdout",
     "output_type": "stream",
     "text": [
      "The watermark extension is already loaded. To reload it, use:\n",
      "  %reload_ext watermark\n",
      "CPython 3.6.3\n",
      "IPython 6.2.1\n",
      "\n",
      "numpy 1.13.3\n",
      "matplotlib 2.1.1\n",
      "\n",
      "compiler   : GCC 7.2.0\n",
      "system     : Linux\n",
      "release    : 4.13.0-21-generic\n",
      "machine    : x86_64\n",
      "processor  : x86_64\n",
      "CPU cores  : 4\n",
      "interpreter: 64bit\n"
     ]
    }
   ],
   "source": [
    "%load_ext watermark\n",
    "%watermark -v -m -p numpy,matplotlib"
   ]
  },
  {
   "cell_type": "code",
   "execution_count": 39,
   "metadata": {},
   "outputs": [],
   "source": [
    "import random\n",
    "import numpy as np\n",
    "import matplotlib.pyplot as plt"
   ]
  },
  {
   "cell_type": "markdown",
   "metadata": {},
   "source": [
    "## `Rn2` distribution\n",
    "\n",
    "[The `Rn2` distribution](https://nethackwiki.com/wiki/Rn2) is simply an integer uniform distribution, between $0$ and $x-1$."
   ]
  },
  {
   "cell_type": "code",
   "execution_count": 19,
   "metadata": {},
   "outputs": [],
   "source": [
    "def rn2(x):\n",
    "    return random.randint(0, x-1)"
   ]
  },
  {
   "cell_type": "code",
   "execution_count": 20,
   "metadata": {},
   "outputs": [
    {
     "data": {
      "text/plain": [
       "array([1, 1, 9, 9, 0, 1, 9, 3, 1, 2, 7, 8, 6, 8, 3, 8, 4, 8, 6, 9, 7, 2, 2,\n",
       "       0, 9, 0, 7, 5, 0, 9, 4, 1, 1, 9, 2, 7, 3, 7, 4, 7, 3, 2, 0, 2, 8, 2,\n",
       "       0, 2, 0, 0, 7, 9, 9, 2, 7, 4, 9, 4, 3, 7, 9, 3, 3, 1, 2, 6, 6, 5, 5,\n",
       "       4, 0, 8, 9, 8, 1, 9, 5, 5, 9, 0, 6, 9, 5, 3, 1, 8, 4, 5, 8, 6, 9, 7,\n",
       "       9, 4, 1, 2, 0, 0, 9, 0])"
      ]
     },
     "execution_count": 20,
     "metadata": {},
     "output_type": "execute_result"
    }
   ],
   "source": [
    "np.asarray([rn2(10) for _ in range(100)])"
   ]
  },
  {
   "cell_type": "markdown",
   "metadata": {},
   "source": [
    "Testing for `rn2(x) == 0` gives a $1/x$ probability :"
   ]
  },
  {
   "cell_type": "code",
   "execution_count": 32,
   "metadata": {},
   "outputs": [],
   "source": [
    "from collections import Counter"
   ]
  },
  {
   "cell_type": "code",
   "execution_count": 35,
   "metadata": {},
   "outputs": [
    {
     "data": {
      "text/plain": [
       "Counter({False: 91, True: 9})"
      ]
     },
     "execution_count": 35,
     "metadata": {},
     "output_type": "execute_result"
    }
   ],
   "source": [
    "Counter([rn2(10) == 0 for _ in range(100)])"
   ]
  },
  {
   "cell_type": "code",
   "execution_count": 36,
   "metadata": {},
   "outputs": [
    {
     "data": {
      "text/plain": [
       "Counter({False: 894, True: 106})"
      ]
     },
     "execution_count": 36,
     "metadata": {},
     "output_type": "execute_result"
    }
   ],
   "source": [
    "Counter([rn2(10) == 0 for _ in range(1000)])"
   ]
  },
  {
   "cell_type": "code",
   "execution_count": 37,
   "metadata": {},
   "outputs": [
    {
     "data": {
      "text/plain": [
       "Counter({False: 9000, True: 1000})"
      ]
     },
     "execution_count": 37,
     "metadata": {},
     "output_type": "execute_result"
    }
   ],
   "source": [
    "Counter([rn2(10) == 0 for _ in range(10000)])"
   ]
  },
  {
   "cell_type": "markdown",
   "metadata": {},
   "source": [
    "## `Rne` distribution\n",
    "\n",
    "[The `Rne` distribution]() is a truncated geometric distribution."
   ]
  },
  {
   "cell_type": "code",
   "execution_count": 88,
   "metadata": {},
   "outputs": [],
   "source": [
    "def rne(x, truncation=5):\n",
    "    truncation = max(truncation, 1)\n",
    "    tmp = 1\n",
    "    while tmp < truncation and rn2(x) == 0:\n",
    "        tmp += 1\n",
    "    return tmp"
   ]
  },
  {
   "cell_type": "markdown",
   "metadata": {},
   "source": [
    "> In the NetHack game, the player's experience is used as default value of the `truncation` parameter..."
   ]
  },
  {
   "cell_type": "code",
   "execution_count": 89,
   "metadata": {
    "scrolled": true
   },
   "outputs": [
    {
     "data": {
      "text/plain": [
       "array([3, 1, 1, 1, 1, 2, 1, 1, 1, 1, 2, 1, 2, 1, 2, 1, 2, 1, 2, 1, 1, 1, 1,\n",
       "       2, 1, 2, 1, 4, 2, 1, 1, 1, 4, 1, 2, 1, 2, 2, 1, 1, 1, 1, 1, 3, 1, 1,\n",
       "       2, 1, 1, 2])"
      ]
     },
     "execution_count": 89,
     "metadata": {},
     "output_type": "execute_result"
    }
   ],
   "source": [
    "np.asarray([rne(3) for _ in range(50)])"
   ]
  },
  {
   "cell_type": "code",
   "execution_count": 90,
   "metadata": {},
   "outputs": [
    {
     "data": {
      "text/plain": [
       "(array([ 6610.,  2268.,   747.,   252.,   123.]),\n",
       " array([ 1. ,  1.8,  2.6,  3.4,  4.2,  5. ]),\n",
       " <a list of 5 Patch objects>)"
      ]
     },
     "execution_count": 90,
     "metadata": {},
     "output_type": "execute_result"
    },
    {
     "data": {
      "image/png": "[encoded data removed]",
      "text/plain": [
       "<matplotlib.figure.Figure at 0x7f390a8c3898>"
      ]
     },
     "metadata": {},
     "output_type": "display_data"
    }
   ],
   "source": [
    "plt.hist(np.asarray([rne(3) for _ in range(10000)]), bins=5)"
   ]
  },
  {
   "cell_type": "code",
   "execution_count": 91,
   "metadata": {
    "scrolled": true
   },
   "outputs": [
    {
     "data": {
      "text/plain": [
       "array([2, 1, 1, 3, 1, 2, 4, 1, 2, 1, 1, 1, 1, 1, 2, 1, 2, 1, 1, 6, 1, 2, 1,\n",
       "       1, 2, 1, 1, 2, 1, 2, 1, 1, 1, 2, 1, 2, 1, 1, 1, 1, 1, 1, 1, 1, 1, 1,\n",
       "       1, 1, 1, 4])"
      ]
     },
     "execution_count": 91,
     "metadata": {},
     "output_type": "execute_result"
    }
   ],
   "source": [
    "np.asarray([rne(4, truncation=10) for _ in range(50)])"
   ]
  },
  {
   "cell_type": "code",
   "execution_count": 92,
   "metadata": {},
   "outputs": [
    {
     "data": {
      "text/plain": [
       "(array([  7.51300000e+03,   1.88900000e+03,   4.38000000e+02,\n",
       "          0.00000000e+00,   1.12000000e+02,   3.80000000e+01,\n",
       "          0.00000000e+00,   9.00000000e+00,   0.00000000e+00,\n",
       "          1.00000000e+00]),\n",
       " array([ 1. ,  1.7,  2.4,  3.1,  3.8,  4.5,  5.2,  5.9,  6.6,  7.3,  8. ]),\n",
       " <a list of 10 Patch objects>)"
      ]
     },
     "execution_count": 92,
     "metadata": {},
     "output_type": "execute_result"
    },
    {
     "data": {
      "image/png": "[encoded data removed]",
      "text/plain": [
       "<matplotlib.figure.Figure at 0x7f390ad71f28>"
      ]
     },
     "metadata": {},
     "output_type": "display_data"
    }
   ],
   "source": [
    "plt.hist(np.asarray([rne(4, truncation=10) for _ in range(10000)]), bins=10)"
   ]
  },
  {
   "cell_type": "markdown",
   "metadata": {},
   "source": [
    "Let's check what [this page](https://nethackwiki.com/wiki/Rnz#Probability_density_function) says about `rne(4)`:\n",
    "\n",
    "> The rne(4) call returns an integer from 1 to 5, with the following probabilities:\n",
    ">\n",
    "> |Number| Probability |\n",
    "> |:-----|------------:|\n",
    "> | 1 | 3/4 |\n",
    "> | 2 | 3/16 |\n",
    "> | 3 | 3/64 |\n",
    "> | 4 | 3/256 |\n",
    "> | 5 | 1/256 | "
   ]
  },
  {
   "cell_type": "code",
   "execution_count": 96,
   "metadata": {},
   "outputs": [
    {
     "data": {
      "text/plain": [
       "{1: 0.75, 2: 0.1875, 3: 0.046875, 4: 0.01171875, 5: 0.00390625}"
      ]
     },
     "execution_count": 96,
     "metadata": {},
     "output_type": "execute_result"
    }
   ],
   "source": [
    "ref_table = {1: 3/4, 2: 3/16, 3: 3/64, 4: 3/256, 5: 1/256}\n",
    "ref_table"
   ]
  },
  {
   "cell_type": "code",
   "execution_count": 99,
   "metadata": {},
   "outputs": [
    {
     "data": {
      "text/plain": [
       "{1: 0.7498, 2: 0.18791, 3: 0.04641, 4: 0.0117, 5: 0.00418}"
      ]
     },
     "execution_count": 99,
     "metadata": {},
     "output_type": "execute_result"
    }
   ],
   "source": [
    "N = 100000\n",
    "table = Counter([rne(4, truncation=5) for _ in range(N)])\n",
    "for k in table:\n",
    "    table[k] /= N\n",
    "table = dict(table)\n",
    "table"
   ]
  },
  {
   "cell_type": "code",
   "execution_count": 111,
   "metadata": {},
   "outputs": [
    {
     "name": "stdout",
     "output_type": "stream",
     "text": [
      "For k=1: relative difference is 0.000267 between 0.75 (expectation) and 0.75 (with N=100000 samples).\n",
      "For k=2: relative difference is 0.00219 between 0.188 (expectation) and 0.188 (with N=100000 samples).\n",
      "For k=3: relative difference is 0.00992 between 0.0469 (expectation) and 0.0464 (with N=100000 samples).\n",
      "For k=4: relative difference is 0.0016 between 0.0117 (expectation) and 0.0117 (with N=100000 samples).\n",
      "For k=5: relative difference is 0.0701 between 0.00391 (expectation) and 0.00418 (with N=100000 samples).\n"
     ]
    }
   ],
   "source": [
    "rel_diff = lambda x, y: abs(x - y) / x\n",
    "for k in ref_table:\n",
    "    x, y = ref_table[k], table[k]\n",
    "    r = rel_diff(x, y)\n",
    "    print(f\"For k={k}: relative difference is {r:.3g} between {x:.3g} (expectation) and {y:.3g} (with N={N} samples).\")"
   ]
  },
  {
   "cell_type": "markdown",
   "metadata": {},
   "source": [
    "> Seems true !"
   ]
  },
  {
   "cell_type": "markdown",
   "metadata": {},
   "source": [
    "## `Rnz` distribution\n",
    "\n",
    "It's not too hard to write."
   ]
  },
  {
   "cell_type": "code",
   "execution_count": 112,
   "metadata": {},
   "outputs": [],
   "source": [
    "def rnz(i, truncation=10):\n",
    "    x = i\n",
    "    tmp = 1000\n",
    "    tmp += rn2(1000)\n",
    "    tmp *= rne(4, truncation=truncation)\n",
    "    flip = rn2(2)\n",
    "    if flip:\n",
    "        x *= tmp\n",
    "        x /= 1000\n",
    "    else:\n",
    "        x *= 1000\n",
    "        x /= tmp\n",
    "    return int(x)"
   ]
  },
  {
   "cell_type": "markdown",
   "metadata": {},
   "source": [
    "## Examples"
   ]
  },
  {
   "cell_type": "code",
   "execution_count": 113,
   "metadata": {},
   "outputs": [
    {
     "data": {
      "text/plain": [
       "array([ 5,  2,  1,  1,  2,  5,  3,  0,  3,  2,  2,  5,  5,  3,  0,  1,  3,\n",
       "        4,  4,  1,  4,  2,  6,  4,  3,  3,  8,  2,  3,  5,  2,  4,  1,  4,\n",
       "        4,  2,  4,  1,  1,  3,  1,  2,  0,  5,  1,  2,  5, 14,  2,  1,  0,\n",
       "        1,  5, 17,  2,  3,  1,  1,  1,  4, 13,  1,  4,  4,  2,  5,  5,  1,\n",
       "        2,  0,  4,  4,  0,  5, 20,  6,  2,  3,  5,  2,  1,  3,  2,  5,  0,\n",
       "        2,  5,  1,  4,  2,  1,  1,  2,  2, 11,  2,  1,  5,  5,  1])"
      ]
     },
     "execution_count": 113,
     "metadata": {},
     "output_type": "execute_result"
    }
   ],
   "source": [
    "np.asarray([rnz(3) for _ in range(100)])"
   ]
  },
  {
   "cell_type": "code",
   "execution_count": 114,
   "metadata": {},
   "outputs": [
    {
     "data": {
      "text/plain": [
       "array([ 6,  5,  5,  5,  2, 16,  2,  1,  3,  2,  5,  3,  2,  5,  0,  4,  2,\n",
       "        2,  4,  3, 10,  4,  5,  1,  1,  2,  5, 10,  1,  1,  0,  5,  4,  5,\n",
       "        1,  7, 16,  1,  3,  5,  3,  1, 11,  2, 10,  9,  4,  1,  8,  4,  1,\n",
       "        1,  4,  0,  2,  5,  2,  2,  7,  2, 10,  2,  7,  5,  1, 10,  2,  4,\n",
       "        3,  1,  1,  6, 10,  2,  2,  0,  4,  1,  4,  3,  1,  4,  3,  2,  3,\n",
       "        5,  1,  5,  0,  1,  2, 10,  5,  1,  3,  2,  1,  2,  1,  1])"
      ]
     },
     "execution_count": 114,
     "metadata": {},
     "output_type": "execute_result"
    }
   ],
   "source": [
    "np.asarray([rnz(3, truncation=10) for _ in range(100)])"
   ]
  },
  {
   "cell_type": "markdown",
   "metadata": {},
   "source": [
    "### For `x=350`"
   ]
  },
  {
   "cell_type": "code",
   "execution_count": 115,
   "metadata": {},
   "outputs": [
    {
     "data": {
      "text/plain": [
       "array([ 668,  511,  360, 1548,  211,  495,  321,  180,  667, 1339,  179,\n",
       "        257,  696,  192,  211,  134,  312,  164,  202,  206,  299,  316,\n",
       "        182,  566,  445,  392,  363,  592,  656,  605,  676,  287,  704,\n",
       "       1190,  253,  118,  359,  142,  331,  586,  597,  204,  196,   60,\n",
       "        178, 1605,  606,  692,  187,  486,  696,  624,  182,  322,  260,\n",
       "        580, 1283,  100,  663,   89,  465,  305,  420,  436,  500,   93,\n",
       "        178,  348,  489,  499,  227, 1143,  187,  220,  513,  193, 1270,\n",
       "        461,  299,  323,  679,  729, 1301,  910,  509, 1006, 2071, 1575,\n",
       "        183,   44,  229,  119,  515,  327,   87,  281,  638,  177,  208,\n",
       "        114])"
      ]
     },
     "execution_count": 115,
     "metadata": {},
     "output_type": "execute_result"
    }
   ],
   "source": [
    "np.asarray([rnz(350) for _ in range(100)])"
   ]
  },
  {
   "cell_type": "code",
   "execution_count": 122,
   "metadata": {
    "scrolled": false
   },
   "outputs": [
    {
     "data": {
      "image/png": "[encoded data removed]",
      "text/plain": [
       "<matplotlib.figure.Figure at 0x7f39087c5908>"
      ]
     },
     "metadata": {},
     "output_type": "display_data"
    }
   ],
   "source": [
    "_ = plt.hist(np.asarray([rnz(350) for _ in range(100000)]), bins=200)"
   ]
  },
  {
   "cell_type": "code",
   "execution_count": 78,
   "metadata": {},
   "outputs": [
    {
     "data": {
      "text/plain": [
       "array([1288,   58,   27, 2349, 4723, 2011, 1767, 2200, 1685,   19, 2873,\n",
       "         66,  884, 1517,  159, 2758, 4657,  957,  225,   32, 2626,  176,\n",
       "       1000,  737, 2353,   50,  928,   67,   52, 1543,  229,   34, 3725,\n",
       "         75,  163, 2431, 3307,  460, 2144, 1411,  108,  131, 2447, 1170,\n",
       "       2024,   32,  431,   98,  489, 2417,  210, 5569,  963,  132,  479,\n",
       "        195, 3752,  257, 4429, 1219,  446,  153,  619,   18,  105,  144,\n",
       "       1520,   40, 2608,  260,  412, 1755, 1057,   99,   64,  322, 1981,\n",
       "        112,  146,   53,   56, 1270, 1808, 4517, 1598,   79, 1355, 6954,\n",
       "       2075, 3458,   64, 1061,  176,  474, 1309, 3260, 4118,   19,  260,\n",
       "        872])"
      ]
     },
     "execution_count": 78,
     "metadata": {},
     "output_type": "execute_result"
    }
   ],
   "source": [
    "np.asarray([rnz(350, truncation=10) for _ in range(100)])"
   ]
  },
  {
   "cell_type": "code",
   "execution_count": 120,
   "metadata": {
    "scrolled": false
   },
   "outputs": [
    {
     "data": {
      "image/png": "[encoded data removed]",
      "text/plain": [
       "<matplotlib.figure.Figure at 0x7f390945ff28>"
      ]
     },
     "metadata": {},
     "output_type": "display_data"
    }
   ],
   "source": [
    "_ = plt.hist(np.asarray([rnz(350, truncation=10) for _ in range(10000)]), bins=200)"
   ]
  },
  {
   "cell_type": "markdown",
   "metadata": {},
   "source": [
    "## Conclusion\n",
    "That's it, not so interesting but I wanted to write this."
   ]
  }
 ],
 "metadata": {
  "kernelspec": {
   "display_name": "Python 3",
   "language": "python",
   "name": "python3"
  },
  "language_info": {
   "codemirror_mode": {
    "name": "ipython",
    "version": 3
   },
   "file_extension": ".py",
   "mimetype": "text/x-python",
   "name": "python",
   "nbconvert_exporter": "python",
   "pygments_lexer": "ipython3",
   "version": "3.6.3"
  },
  "toc": {
   "colors": {
    "hover_highlight": "#DAA520",
    "running_highlight": "#FF0000",
    "selected_highlight": "#FFD700"
   },
   "moveMenuLeft": true,
   "nav_menu": {
    "height": "178px",
    "width": "252px"
   },
   "navigate_menu": true,
   "number_sections": true,
   "sideBar": true,
   "threshold": 4,
   "toc_cell": true,
   "toc_section_display": "block",
   "toc_window_display": false
  }
 },
 "nbformat": 4,
 "nbformat_minor": 2
}
