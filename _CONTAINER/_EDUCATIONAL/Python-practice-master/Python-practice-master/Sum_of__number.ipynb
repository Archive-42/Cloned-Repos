{
  "nbformat": 4,
  "nbformat_minor": 0,
  "metadata": {
    "colab": {
      "name": "Sum_of _number.ipynb",
      "provenance": []
    },
    "kernelspec": {
      "name": "python3",
      "display_name": "Python 3"
    }
  },
  "cells": [
    {
      "cell_type": "markdown",
      "metadata": {
        "id": "ih-vQFE831OJ",
        "colab_type": "text"
      },
      "source": [
        "**Function for recursion sum**"
      ]
    },
    {
      "cell_type": "code",
      "metadata": {
        "id": "YKXePbVi3MJO",
        "colab_type": "code",
        "colab": {}
      },
      "source": [
        "# The name of the function is recursionsum it takes n as input parameter\n",
        "def recursionsum(n):\n",
        "# The recursion ends when the number is less than 1, it's the base condition\n",
        "  if n<=1:\n",
        "    return n\n",
        "# The function calls itself by decrementing the argument by 1\n",
        "  return n + recursionsum(n-1)"
      ],
      "execution_count": 7,
      "outputs": []
    },
    {
      "cell_type": "code",
      "metadata": {
        "id": "vELWJJrg5-No",
        "colab_type": "code",
        "colab": {
          "base_uri": "https://localhost:8080/",
          "height": 33
        },
        "outputId": "f4a2dfe2-9d90-4678-8525-d4fd78c52a9b"
      },
      "source": [
        "# The recursive function is called by using 5 as argument\n",
        "print(recursionsum(5))"
      ],
      "execution_count": 8,
      "outputs": [
        {
          "output_type": "stream",
          "text": [
            "15\n"
          ],
          "name": "stdout"
        }
      ]
    }
  ]
}