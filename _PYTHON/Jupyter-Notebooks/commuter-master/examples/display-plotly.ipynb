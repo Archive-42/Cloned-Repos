{
  "cells": [
    {
      "cell_type": "code",
      "execution_count": 1,
      "metadata": {
        "dotnet_interactive": {
          "language": "csharp"
        }
      },
      "source": [
        "# Import the plotting function from Plotly's offline library.\n",
        "from plotly.offline import iplot\n",
        "from plotly.offline import init_notebook_mode"
      ],
      "outputs": []
    },
    {
      "cell_type": "code",
      "execution_count": 1,
      "metadata": {
        "dotnet_interactive": {
          "language": "csharp"
        }
      },
      "source": [
        "# Confirm that we're trying to work in offline mode only.\n",
        "# Connected means that we're online, just not attempting to communicate with Plotly servers.\n",
        "init_notebook_mode(connected=True)"
      ],
      "outputs": [
        {
          "output_type": "execute_result",
          "data": {
            "text/html": [
              "<script>requirejs.config({paths: { 'plotly': ['https://cdn.plot.ly/plotly-latest.min']},});if(!window.Plotly) {{require(['plotly'],function(plotly) {window.Plotly=plotly;});}}</script>"
            ],
            "text/vnd.plotly.v1+html": [
              "<script>requirejs.config({paths: { 'plotly': ['https://cdn.plot.ly/plotly-latest.min']},});if(!window.Plotly) {{require(['plotly'],function(plotly) {window.Plotly=plotly;});}}</script>"
            ]
          },
          "execution_count": 1,
          "metadata": {}
        }
      ]
    },
    {
      "cell_type": "code",
      "execution_count": 1,
      "metadata": {
        "dotnet_interactive": {
          "language": "csharp"
        }
      },
      "source": [
        "# Create our figure.\n",
        "figure = {\n",
        "    \"data\": [{\"y\": [2, 1, 2]}],\n",
        "    \"layout\": {}\n",
        "}"
      ],
      "outputs": []
    },
    {
      "cell_type": "code",
      "execution_count": 1,
      "metadata": {
        "dotnet_interactive": {
          "language": "csharp"
        }
      },
      "source": [
        "# Dump the figure into our output.\n",
        "iplot(figure)"
      ],
      "outputs": [
        {
          "output_type": "execute_result",
          "data": {
            "application/vnd.plotly.v1+json": {
              "data": [
                {
                  "y": [
                    2,
                    1,
                    2
                  ]
                }
              ],
              "layout": {}
            },
            "text/html": [
              "<div id=\"854655c4-c724-4951-af43-da99751de695\" style=\"height: 525px; width: 100%;\" class=\"plotly-graph-div\"></div><script type=\"text/javascript\">require([\"plotly\"], function(Plotly) { window.PLOTLYENV=window.PLOTLYENV || {};window.PLOTLYENV.BASE_URL=\"https://plot.ly\";Plotly.newPlot(\"854655c4-c724-4951-af43-da99751de695\", [{\"y\": [2, 1, 2]}], {}, {\"linkText\": \"Export to plot.ly\", \"showLink\": true})});</script>"
            ],
            "text/vnd.plotly.v1+html": [
              "<div id=\"854655c4-c724-4951-af43-da99751de695\" style=\"height: 525px; width: 100%;\" class=\"plotly-graph-div\"></div><script type=\"text/javascript\">require([\"plotly\"], function(Plotly) { window.PLOTLYENV=window.PLOTLYENV || {};window.PLOTLYENV.BASE_URL=\"https://plot.ly\";Plotly.newPlot(\"854655c4-c724-4951-af43-da99751de695\", [{\"y\": [2, 1, 2]}], {}, {\"linkText\": \"Export to plot.ly\", \"showLink\": true})});</script>"
            ]
          },
          "execution_count": 1,
          "metadata": {}
        }
      ]
    }
  ],
  "metadata": {
    "kernelspec": {
      "display_name": ".NET (C#)",
      "language": "C#",
      "name": ".net-csharp"
    },
    "language_info": {
      "file_extension": ".cs",
      "mimetype": "text/x-csharp",
      "name": "C#",
      "pygments_lexer": "csharp",
      "version": "8.0"
    }
  },
  "nbformat": 4,
  "nbformat_minor": 4
}