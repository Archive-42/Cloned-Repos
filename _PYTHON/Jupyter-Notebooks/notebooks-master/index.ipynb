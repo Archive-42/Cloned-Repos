{
 "cells": [
  {
   "cell_type": "markdown",
   "metadata": {},
   "source": [
    "<img src=\"https://github.com/elegant-scipy/elegant-scipy/blob/master/_images/cover.jpg?raw=true\"\n",
    " alt=\"Elegant SciPy Cover\" style=\"width: 300px; float: left; padding-right: 3em;\">\n",
    " \n",
    " # Contents\n",
    "\n",
    "- [Acknowledgements](notebooks/acknowledgements.ipynb)\n",
    "- [Preface](notebooks/preface.ipynb)\n",
    "- [Chapter 1](notebooks/ch1.ipynb)\n",
    "- [Chapter 2](notebooks/ch2.ipynb)\n",
    "- [Chapter 3](notebooks/ch3.ipynb)\n",
    "- [Chapter 4](notebooks/ch4.ipynb)\n",
    "- [Chapter 5](notebooks/ch5.ipynb)\n",
    "- [Chapter 6](notebooks/ch6.ipynb)\n",
    "- [Chapter 7](notebooks/ch7.ipynb)\n",
    "- [Chapter 8](notebooks/ch8.ipynb)\n",
    "- [Epilogue](notebooks/epilogue.ipynb)"
   ]
  }
 ],
 "metadata": {
  "kernelspec": {
   "display_name": "Python 3",
   "language": "python",
   "name": "python3"
  },
  "language_info": {
   "codemirror_mode": {
    "name": "ipython",
    "version": 3
   },
   "file_extension": ".py",
   "mimetype": "text/x-python",
   "name": "python",
   "nbconvert_exporter": "python",
   "pygments_lexer": "ipython3",
   "version": "3.6.0"
  }
 },
 "nbformat": 4,
 "nbformat_minor": 2
}
