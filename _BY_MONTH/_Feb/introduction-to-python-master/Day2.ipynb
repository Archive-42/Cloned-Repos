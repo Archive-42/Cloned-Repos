{
 "cells": [
  {
   "cell_type": "markdown",
   "metadata": {
    "colab_type": "text",
    "id": "2BfTgNJxj4l_"
   },
   "source": [
    "# Conditional Statements \n",
    "\n",
    "## If\n",
    "\n",
    "if \"condition\":\n",
    "\n",
    "\n",
    "> \"do something\"   \n",
    "\n",
    "\n",
    "print()"
   ]
  },
  {
   "cell_type": "code",
   "execution_count": 1,
   "metadata": {
    "colab": {},
    "colab_type": "code",
    "id": "LXqRwY8TkEt4"
   },
   "outputs": [
    {
     "name": "stdout",
     "output_type": "stream",
     "text": [
      "Please enter a number: 5\n",
      "Result:  5\n"
     ]
    }
   ],
   "source": [
    "num = int(input(\"Please enter a number: \"))\n",
    "\n",
    "if num < 0:  \n",
    "  num *= -1  #num = num*-1\n",
    "print(\"Result: \", num)"
   ]
  },
  {
   "cell_type": "markdown",
   "metadata": {
    "colab_type": "text",
    "id": "kBKf25lKyDbS"
   },
   "source": [
    "# If-Else\n",
    "\n",
    "if \"condition\":\n",
    "\n",
    "\n",
    "> \"do something\" \n",
    "\n",
    "else:\n",
    "\n",
    "\n",
    "\n",
    "> \"do something another\" \n",
    "\n",
    "\n",
    "\n",
    "print()"
   ]
  },
  {
   "cell_type": "markdown",
   "metadata": {
    "colab_type": "text",
    "id": "2sRlaG6I4h-Y"
   },
   "source": [
    "# If-Elif-Else\n",
    "\n",
    "if \"condition\":\n",
    "\n",
    "\n",
    "> \"do something\"  \n",
    "\n",
    "elif \"condition-2\":\n",
    "\n",
    "\n",
    "\n",
    "> \"do something another\" \n",
    "\n",
    "elif \"condition-3\":\n",
    "\n",
    "\n",
    "\n",
    "> \"do something another\" \n",
    "\n",
    "\n",
    "\n",
    "\n",
    "\n",
    "else:\n",
    "\n",
    "\n",
    "\n",
    "> \"do something different\" \n",
    "\n",
    "\n",
    "\n",
    "print()"
   ]
  },
  {
   "cell_type": "code",
   "execution_count": 2,
   "metadata": {
    "colab": {},
    "colab_type": "code",
    "id": "rLCMo9Kuxe4Y"
   },
   "outputs": [
    {
     "name": "stdout",
     "output_type": "stream",
     "text": [
      "Please enter your score: 3\n",
      "Very bad, you should work hard..\n"
     ]
    }
   ],
   "source": [
    "score = int(input(\"Please enter your score: \"))\n",
    "\n",
    "if score <= 40:\n",
    "  print(\"Very bad, you should work hard..\")\n",
    "elif score <= 60:\n",
    "  print(\"Nice but you should work more..\")\n",
    "elif score <= 100:\n",
    "  print(\"Congratulation!\")\n",
    "else:\n",
    "  print(\"Invalid score!!!\")\n"
   ]
  },
  {
   "cell_type": "code",
   "execution_count": 11,
   "metadata": {
    "colab": {},
    "colab_type": "code",
    "id": "O0r1rOWX8-F6"
   },
   "outputs": [
    {
     "name": "stdout",
     "output_type": "stream",
     "text": [
      "x,  9\n"
     ]
    }
   ],
   "source": [
    "x = 8\n",
    "\n",
    "if x > 4:\n",
    "  x = x+1\n",
    "elif x > 5:\n",
    "  x = x+2\n",
    "elif x > 7:\n",
    "  x = x+3\n",
    "\n",
    "print (\"x, \", x)"
   ]
  },
  {
   "cell_type": "code",
   "execution_count": 12,
   "metadata": {
    "colab": {},
    "colab_type": "code",
    "id": "d_JbM3Yz-Mxq"
   },
   "outputs": [
    {
     "name": "stdout",
     "output_type": "stream",
     "text": [
      "x,  11\n"
     ]
    }
   ],
   "source": [
    "x = 5\n",
    "\n",
    "if x > 4:\n",
    "  x = x+1\n",
    "\n",
    "if x > 5:\n",
    "  x = x+2\n",
    "\n",
    "if x > 7:\n",
    "  x = x+3\n",
    "\n",
    "print (\"x, \", x)"
   ]
  },
  {
   "cell_type": "code",
   "execution_count": 17,
   "metadata": {},
   "outputs": [
    {
     "name": "stdout",
     "output_type": "stream",
     "text": [
      "**************ATM Giriş Paneli**************\n",
      "Lütfen kullanıcı adınızı girinizOmer\n",
      "Lütfen Parolanızı giriniz.Cengiz\n",
      "Parolanız hatalı\n"
     ]
    }
   ],
   "source": [
    "print(\"**************ATM Giriş Paneli**************\")\n",
    "\n",
    "kullanici_adi = \"Omer\"\n",
    "parola =\"hello\"\n",
    "\n",
    "kullanici_adi1 =input(\"Lütfen kullanıcı adınızı giriniz\")\n",
    "\n",
    "parola1= input(\"Lütfen Parolanızı giriniz.\")\n",
    "\n",
    "if (kullanici_adi != kullanici_adi1 and parola == parola1):\n",
    "    print(\"Kullanıcı adınız hatalı\")\n",
    "elif (kullanici_adi==kullanici_adi1 and parola != parola1):\n",
    "    print(\"Parolanız hatalı\")\n",
    "elif (kullanici_adi != kullanici_adi1 and parola!= parola1):\n",
    "    print(\"Kullanıcı adınız ve parolanız hatalıdır.\")\n",
    "else:\n",
    "    print(\"Tebrikler, Başarıyla giriş yaptınız\")\n"
   ]
  },
  {
   "cell_type": "code",
   "execution_count": 18,
   "metadata": {},
   "outputs": [
    {
     "name": "stdout",
     "output_type": "stream",
     "text": [
      "İlker and Eylül\n"
     ]
    }
   ],
   "source": [
    "x = 10\n",
    "\n",
    "if x > 5:\n",
    "    if x >7:\n",
    "        print(\"İlker and Eylül\")"
   ]
  },
  {
   "cell_type": "markdown",
   "metadata": {
    "colab_type": "text",
    "id": "gDwccPO2_c0R"
   },
   "source": [
    "# Question\n",
    "\n",
    "At a particular company, employees’ salaries are raised progressively, calculated using the following formula:\n",
    "\n",
    "salary = salary + salary x (raise percentage) \n",
    "\n",
    "Raises are predefined as given below, according to the current salary of the worker. For instance, if the worker’s current salary is less than or equal to 1000 TL, then its salary is increased 15%.\n",
    "\n",
    "\n",
    "Range | Percentage\n",
    "--- | ---\n",
    "0 < salary ≤ 1000 | 15%\n",
    "1000 < salary ≤ 2000 |10%\n",
    "2000 < salary ≤ 3000| 5%\n",
    "3000 < salary | 2.5%\n",
    "\n",
    "\n",
    "Write a program that asks the user to enter his/her salary. Then your program should calculate and print the raised salary of the user.\n",
    "\n",
    "Some example program runs:\n",
    "\n",
    "Please enter your salary: 1000\n",
    "\n",
    "Your raised salary is 1150.0.\n",
    "\n",
    "Please enter your salary: 2500\n",
    "\n",
    "Your raised salary is 2625.0."
   ]
  },
  {
   "cell_type": "markdown",
   "metadata": {
    "colab_type": "text",
    "id": "Po9n8VAwAimY"
   },
   "source": [
    "# Answer"
   ]
  },
  {
   "cell_type": "markdown",
   "metadata": {
    "colab_type": "text",
    "id": "ECbPU-yVAgwR"
   },
   "source": []
  },
  {
   "cell_type": "code",
   "execution_count": 4,
   "metadata": {
    "colab": {},
    "colab_type": "code",
    "id": "uLq_XcOJDv4_"
   },
   "outputs": [
    {
     "name": "stdout",
     "output_type": "stream",
     "text": [
      "Please enter your salary: -5\n",
      "Invalid value\n"
     ]
    }
   ],
   "source": [
    "salary = float(input(\"Please enter your salary: \"))\n",
    "\n",
    "if salary < 0:\n",
    "  print(\"Invalid value\")\n",
    "else:\n",
    "\n",
    "  if 0 < salary <= 1000:\n",
    "    salary = salary + salary * 0.15\n",
    "  elif salary <= 2000:\n",
    "    salary = salary + salary * 0.1\n",
    "  elif salary <= 3000:\n",
    "    salary = salary + salary * 0.05\n",
    "  else:\n",
    "    salary = salary + salary * 0.025\n",
    "\n",
    "  print(\"Your raised salary is\", salary)"
   ]
  },
  {
   "cell_type": "markdown",
   "metadata": {
    "colab_type": "text",
    "id": "alFtTZs0FyXs"
   },
   "source": [
    "# While Loop Structure\n",
    "\n",
    "Condition Intro\n",
    "\n",
    "while <condition>:\n",
    "\n",
    "\n",
    "\n",
    "> \"true statement\"\n",
    "\n",
    "> \"true statement\"\n",
    "\n",
    "> condition update\n",
    "\n",
    "\n",
    "A logical condition is repeated as long as it has a logical true value. For ending the loop, that condition must become false. \n",
    "\n",
    "\n",
    "\n",
    "  "
   ]
  },
  {
   "cell_type": "code",
   "execution_count": 7,
   "metadata": {
    "colab": {},
    "colab_type": "code",
    "id": "t2hN1ADgUKdI"
   },
   "outputs": [
    {
     "name": "stdout",
     "output_type": "stream",
     "text": [
      "Value:0\n",
      "Value:1\n",
      "Value:2\n",
      "Value:3\n",
      "Value:4\n",
      "Value:5\n",
      "Value:6\n",
      "Value:7\n",
      "Value:8\n"
     ]
    }
   ],
   "source": [
    "num = 0\n",
    "\n",
    "while num < 9:\n",
    "  print(\"Value:{}\".format(num))\n",
    "  num = num +1"
   ]
  },
  {
   "cell_type": "code",
   "execution_count": null,
   "metadata": {},
   "outputs": [],
   "source": [
    "num2 = 0\n",
    "\n",
    "while num2 != 9:\n",
    "  print(\"Value:\", num2)\n",
    "  num2 +=2\n",
    "\n",
    "#infinite loop"
   ]
  },
  {
   "cell_type": "code",
   "execution_count": null,
   "metadata": {},
   "outputs": [],
   "source": [
    "num3 = int(input(\"Please enter an integer between 1 and 10: \"))\n",
    "\n",
    "while num3 < 1 or num3 > 10:  \n",
    "    print(\"Invalid value!!!!\")\n",
    "    sayi3 = int(input(\"Please enter an integer between 1 and 10: \"))\n",
    "print(\"Congrats...\") "
   ]
  },
  {
   "cell_type": "code",
   "execution_count": null,
   "metadata": {},
   "outputs": [],
   "source": [
    "num3 = int(input(\"Please enter an integer between 1 and 10: \"))\n",
    "\n",
    "while num3 < 1 or num3 > 10:  \n",
    "  print(\"Invalid value!!!!\")\n",
    "  num3 = int(input(\"Please enter an integer between 1 and 10: \"))\n",
    "    \n",
    "    \n",
    "print(\"Congrats!!...\") "
   ]
  },
  {
   "cell_type": "markdown",
   "metadata": {
    "colab_type": "text",
    "id": "Wxh9hTfQaTXB"
   },
   "source": [
    "## Print items of a list "
   ]
  },
  {
   "cell_type": "code",
   "execution_count": 7,
   "metadata": {
    "colab": {},
    "colab_type": "code",
    "id": "tOoDBo33Y9O0"
   },
   "outputs": [
    {
     "data": {
      "text/plain": [
       "6"
      ]
     },
     "execution_count": 7,
     "metadata": {},
     "output_type": "execute_result"
    }
   ],
   "source": [
    "t = [1,2,3,4,5,6]\n",
    "len(t)"
   ]
  },
  {
   "cell_type": "code",
   "execution_count": 14,
   "metadata": {},
   "outputs": [
    {
     "name": "stdout",
     "output_type": "stream",
     "text": [
      "0 th item:  1\n",
      "1 th item:  2\n",
      "2 th item:  3\n",
      "3 th item:  4\n",
      "4 th item:  5\n",
      "5 th item:  6\n"
     ]
    }
   ],
   "source": [
    "i = 0 #counter value\n",
    "\n",
    "while (i < len(t)):\n",
    "  #i+=1\n",
    "  print(i, \"th item: \", t[i])\n",
    "  i+=1"
   ]
  },
  {
   "cell_type": "code",
   "execution_count": 15,
   "metadata": {
    "colab": {},
    "colab_type": "code",
    "id": "pSN-AL8A62bc"
   },
   "outputs": [
    {
     "name": "stdout",
     "output_type": "stream",
     "text": [
      "Enter a value: Sefa\n",
      "Enter a value: Berkcan\n",
      "Enter a value: exit\n",
      "Enter a value: Deniz\n",
      "Enter a value: Burcu\n",
      "Enter a value: Kaan\n",
      "Enter a value: Osman\n",
      "Enter a value: Exit\n"
     ]
    }
   ],
   "source": [
    "while True:\n",
    "  a = input(\"Enter a value: \")\n",
    "  if a == \"Exit\":\n",
    "    break"
   ]
  },
  {
   "cell_type": "markdown",
   "metadata": {
    "colab_type": "text",
    "id": "HytO2C2ib-vf"
   },
   "source": [
    "# For Loop Structure\n",
    "\n",
    "\n",
    "for \"repeated value\" in \"list\":\n",
    "\n",
    "\n",
    "\n",
    "> \"true statement\"\n",
    "\n",
    "\n",
    "\n",
    "\n",
    "It takes the items as in sequence and processes them in a loop.\n",
    "\n",
    "\n"
   ]
  },
  {
   "cell_type": "code",
   "execution_count": 16,
   "metadata": {
    "colab": {
     "base_uri": "https://localhost:8080/",
     "height": 70
    },
    "colab_type": "code",
    "id": "BgahixcjcC_a",
    "outputId": "eb57d5dd-ea82-4e64-dbfd-78f1975c3e6b"
   },
   "outputs": [
    {
     "name": "stdout",
     "output_type": "stream",
     "text": [
      "2\n",
      "45\n",
      "57\n"
     ]
    }
   ],
   "source": [
    "\"\"\"\n",
    "a[0]\n",
    "a[1]\n",
    "a[2]\n",
    "\"\"\"\n",
    "\n",
    "\n",
    "a = [2,45,57]\n",
    "\n",
    "for i in a: \n",
    "  print(i)"
   ]
  },
  {
   "cell_type": "code",
   "execution_count": 20,
   "metadata": {},
   "outputs": [
    {
     "data": {
      "text/plain": [
       "False"
      ]
     },
     "execution_count": 20,
     "metadata": {},
     "output_type": "execute_result"
    }
   ],
   "source": [
    "i = 5\n",
    "i in range(5)\n"
   ]
  },
  {
   "cell_type": "code",
   "execution_count": 22,
   "metadata": {},
   "outputs": [
    {
     "data": {
      "text/plain": [
       "[0, 1, 2, 3, 4]"
      ]
     },
     "execution_count": 22,
     "metadata": {},
     "output_type": "execute_result"
    }
   ],
   "source": [
    "list1 = list(range(5))\n",
    "list1"
   ]
  },
  {
   "cell_type": "code",
   "execution_count": 23,
   "metadata": {},
   "outputs": [
    {
     "data": {
      "text/plain": [
       "['P', 'y', 't', 'h', 'o', 'n']"
      ]
     },
     "execution_count": 23,
     "metadata": {},
     "output_type": "execute_result"
    }
   ],
   "source": [
    "list2 = list(\"Python\")\n",
    "list2"
   ]
  },
  {
   "cell_type": "code",
   "execution_count": 24,
   "metadata": {
    "colab": {},
    "colab_type": "code",
    "id": "ZD6pp2A9cglb"
   },
   "outputs": [
    {
     "name": "stdout",
     "output_type": "stream",
     "text": [
      "0\n",
      "1\n",
      "2\n",
      "3\n",
      "4\n"
     ]
    }
   ],
   "source": [
    "for i in range(5):\n",
    "  print(i)"
   ]
  },
  {
   "cell_type": "code",
   "execution_count": 26,
   "metadata": {
    "colab": {},
    "colab_type": "code",
    "id": "sSRS5oGOdr0t"
   },
   "outputs": [
    {
     "name": "stdout",
     "output_type": "stream",
     "text": [
      "P\n",
      "y\n",
      "t\n",
      "h\n",
      "o\n",
      "n\n",
      " \n",
      "C\n",
      "o\n",
      "u\n",
      "r\n",
      "s\n",
      "e\n"
     ]
    }
   ],
   "source": [
    "for i in \"Python Course\":\n",
    "  print(i)"
   ]
  },
  {
   "cell_type": "code",
   "execution_count": 32,
   "metadata": {
    "colab": {},
    "colab_type": "code",
    "id": "c8G-3iFNkrH4"
   },
   "outputs": [
    {
     "name": "stdout",
     "output_type": "stream",
     "text": [
      "Python\n",
      "Course\n"
     ]
    }
   ],
   "source": [
    "for i in \"Python Course\".split():\n",
    "  print(i)"
   ]
  },
  {
   "cell_type": "code",
   "execution_count": 33,
   "metadata": {
    "colab": {
     "base_uri": "https://localhost:8080/",
     "height": 106
    },
    "colab_type": "code",
    "id": "6Pvl_Pps6fbR",
    "outputId": "3e4efa0a-e2db-45bc-8678-0f023d135a8a"
   },
   "outputs": [
    {
     "name": "stdout",
     "output_type": "stream",
     "text": [
      "0\n",
      "1\n",
      "2\n",
      "3\n",
      "4\n"
     ]
    }
   ],
   "source": [
    "for i in range(10):\n",
    "  if i == 5:    \n",
    "    break\n",
    "  print(i)"
   ]
  },
  {
   "cell_type": "code",
   "execution_count": 35,
   "metadata": {
    "colab": {
     "base_uri": "https://localhost:8080/",
     "height": 177
    },
    "colab_type": "code",
    "id": "vTRaCu7N6ife",
    "outputId": "fed997ca-c6fc-4e8c-ba4d-9054a3bb9178"
   },
   "outputs": [
    {
     "name": "stdout",
     "output_type": "stream",
     "text": [
      "0\n",
      "1\n",
      "2\n",
      "3\n",
      "4\n",
      "6\n",
      "7\n",
      "8\n",
      "9\n"
     ]
    }
   ],
   "source": [
    "for i in range(10):\n",
    "  if i == 5:\n",
    "    continue\n",
    "  print(i)"
   ]
  },
  {
   "cell_type": "code",
   "execution_count": 37,
   "metadata": {
    "colab": {
     "base_uri": "https://localhost:8080/",
     "height": 35
    },
    "colab_type": "code",
    "id": "fZKEer8umXFk",
    "outputId": "386a0f8c-b501-42f5-ed1a-e9eb8151d947"
   },
   "outputs": [
    {
     "name": "stdout",
     "output_type": "stream",
     "text": [
      "[0, 1, 4, 9, 16, 25, 36, 49]\n"
     ]
    }
   ],
   "source": [
    "nums = list(range(8))\n",
    "\n",
    "squares = []\n",
    "\n",
    "for i in nums:\n",
    "  squares.append(i**2)\n",
    "print(squares)"
   ]
  },
  {
   "cell_type": "code",
   "execution_count": 39,
   "metadata": {
    "colab": {
     "base_uri": "https://localhost:8080/",
     "height": 35
    },
    "colab_type": "code",
    "id": "fnfkGpJanbCF",
    "outputId": "599faa82-fd86-4f1c-f20e-0a7f509b9f32"
   },
   "outputs": [
    {
     "name": "stdout",
     "output_type": "stream",
     "text": [
      "[0, 1, 2, 3, 4, 5, 6, 7]\n",
      "[0, 1, 4, 9, 16, 25, 36, 49]\n"
     ]
    }
   ],
   "source": [
    "nums = list(range(8))\n",
    "print(nums)\n",
    "squares = [i**2 for i in nums]\n",
    "print(squares)"
   ]
  },
  {
   "cell_type": "code",
   "execution_count": 41,
   "metadata": {
    "colab": {
     "base_uri": "https://localhost:8080/",
     "height": 52
    },
    "colab_type": "code",
    "id": "msKp56Y1ozOk",
    "outputId": "b6e0e99f-1151-4d2e-f75e-1cd6b4313083"
   },
   "outputs": [
    {
     "name": "stdout",
     "output_type": "stream",
     "text": [
      "[0, 4, 16, 36]\n",
      "[1, 27, 125, 343]\n"
     ]
    }
   ],
   "source": [
    "nums = list(range(8))\n",
    "\n",
    "even_squares = [i**2 for i in nums if i % 2 == 0]\n",
    "\n",
    "odd_squares = [i**3 for i in nums if i% 2 == 1]\n",
    "\n",
    "print(even_squares)\n",
    "print(odd_squares)"
   ]
  },
  {
   "cell_type": "code",
   "execution_count": 43,
   "metadata": {
    "colab": {
     "base_uri": "https://localhost:8080/",
     "height": 35
    },
    "colab_type": "code",
    "id": "BAIT9kSGrHTn",
    "outputId": "e6b50121-df29-4196-d07d-b3c5de4df535"
   },
   "outputs": [
    {
     "name": "stdout",
     "output_type": "stream",
     "text": [
      "3\n",
      "8\n",
      "20\n",
      "27\n",
      "92\n",
      "127\n",
      "127\n"
     ]
    }
   ],
   "source": [
    "mylist = [3,5,12,7,65,35]\n",
    "\n",
    "sum1 = 0\n",
    "\n",
    "for i in mylist:\n",
    "  sum1 = sum1 + i    #sum += i\n",
    "  print(sum1)\n",
    "    \n",
    "print(sum1)\n",
    "  #print(sum1)\n"
   ]
  },
  {
   "cell_type": "markdown",
   "metadata": {
    "colab_type": "text",
    "id": "sNWHEuYTuGUk"
   },
   "source": [
    "### Find the max item of a list"
   ]
  },
  {
   "cell_type": "code",
   "execution_count": 44,
   "metadata": {
    "colab": {
     "base_uri": "https://localhost:8080/",
     "height": 35
    },
    "colab_type": "code",
    "id": "6MnAca4Ht13-",
    "outputId": "5676296a-aa01-468a-9236-5cb866f0eb28"
   },
   "outputs": [
    {
     "name": "stdout",
     "output_type": "stream",
     "text": [
      "3\n",
      "max1:  5\n",
      "i:  5\n",
      "max1:  12\n",
      "i:  12\n",
      "max1:  65\n",
      "i:  65\n",
      "65\n"
     ]
    }
   ],
   "source": [
    "mylist = [3,5,12,7,65,35]\n",
    "print(mylist[0])\n",
    "\n",
    "max1 = mylist[0]\n",
    "\n",
    "for i in mylist:\n",
    "  if i > max1:\n",
    "    max1 = i\n",
    "    print(\"max1: \", max1)\n",
    "    print(\"i: \", i)\n",
    "print(max1)\n"
   ]
  },
  {
   "cell_type": "markdown",
   "metadata": {
    "colab_type": "text",
    "id": "RzvtIqRPwMjJ"
   },
   "source": [
    "### Summation of list items"
   ]
  },
  {
   "cell_type": "code",
   "execution_count": 45,
   "metadata": {},
   "outputs": [
    {
     "data": {
      "text/plain": [
       "[(1, 4), (2, 5), (3, 6)]"
      ]
     },
     "execution_count": 45,
     "metadata": {},
     "output_type": "execute_result"
    }
   ],
   "source": [
    "list1 = [1,2,3]\n",
    "list2 = [4,5,6]\n",
    "\n",
    "list(zip(list1,list2))\n"
   ]
  },
  {
   "cell_type": "code",
   "execution_count": 43,
   "metadata": {
    "colab": {
     "base_uri": "https://localhost:8080/",
     "height": 35
    },
    "colab_type": "code",
    "id": "SkyZxq07vZcv",
    "outputId": "c20dc7f4-59e0-4e4a-9359-152d241ac4aa"
   },
   "outputs": [
    {
     "name": "stdout",
     "output_type": "stream",
     "text": [
      "[5, 7, 9]\n"
     ]
    }
   ],
   "source": [
    "list1 = [1,2,3]\n",
    "list2 = [4,5,6]\n",
    "\n",
    "list3 = [a + b for a,b in zip(list1,list2)]\n",
    "\n",
    "print(list3)"
   ]
  }
 ],
 "metadata": {
  "colab": {
   "collapsed_sections": [],
   "name": "Day_3.ipynb",
   "provenance": []
  },
  "kernelspec": {
   "display_name": "Python 3",
   "language": "python",
   "name": "python3"
  },
  "language_info": {
   "codemirror_mode": {
    "name": "ipython",
    "version": 3
   },
   "file_extension": ".py",
   "mimetype": "text/x-python",
   "name": "python",
   "nbconvert_exporter": "python",
   "pygments_lexer": "ipython3",
   "version": "3.7.4"
  }
 },
 "nbformat": 4,
 "nbformat_minor": 1
}
