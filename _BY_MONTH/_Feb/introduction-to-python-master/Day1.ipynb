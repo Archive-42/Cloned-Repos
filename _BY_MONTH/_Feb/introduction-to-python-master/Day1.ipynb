{
 "cells": [
  {
   "cell_type": "markdown",
   "metadata": {
    "colab": {
     "base_uri": "https://localhost:8080/",
     "height": 35
    },
    "colab_type": "code",
    "id": "gQPqkRSZRGJO",
    "outputId": "e2e58356-837c-4d23-b571-55161535d64e"
   },
   "source": [
    "# Logical Operations"
   ]
  },
  {
   "cell_type": "code",
   "execution_count": 2,
   "metadata": {},
   "outputs": [
    {
     "name": "stdout",
     "output_type": "stream",
     "text": [
      "<class 'bool'>\n"
     ]
    }
   ],
   "source": [
    "t, f = True, False\n",
    "print(type(t))"
   ]
  },
  {
   "cell_type": "markdown",
   "metadata": {
    "colab_type": "text",
    "id": "wFWsuvYR2c-n"
   },
   "source": [
    "![truthtable.PNG](data:image/png;base64,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)\n"
   ]
  },
  {
   "cell_type": "code",
   "execution_count": 3,
   "metadata": {
    "colab": {
     "base_uri": "https://localhost:8080/",
     "height": 106
    },
    "colab_type": "code",
    "id": "GvI75XHkSd0s",
    "outputId": "3eca87f9-d1eb-44d1-c7d3-6dc95e2d00da",
    "scrolled": true
   },
   "outputs": [
    {
     "name": "stdout",
     "output_type": "stream",
     "text": [
      "True\n",
      "False\n",
      "True\n",
      "False\n",
      "False\n",
      "True\n",
      "False\n"
     ]
    }
   ],
   "source": [
    "print(t)\n",
    "print(f)\n",
    "print(t or f)\n",
    "print(t and f)\n",
    "print(not t)    # not: True if operand is false (complements the operand)\n",
    "print(t != f) # != not equal\n",
    "print(t==f) # equal\n",
    "\n"
   ]
  },
  {
   "cell_type": "markdown",
   "metadata": {},
   "source": [
    "### len()"
   ]
  },
  {
   "cell_type": "code",
   "execution_count": 4,
   "metadata": {
    "colab": {},
    "colab_type": "code",
    "id": "4WTioQHYTGQF"
   },
   "outputs": [],
   "source": [
    "hello = 'Hello'\n",
    "world = \"World\""
   ]
  },
  {
   "cell_type": "code",
   "execution_count": 5,
   "metadata": {
    "colab": {
     "base_uri": "https://localhost:8080/",
     "height": 35
    },
    "colab_type": "code",
    "id": "VlNeYzeqTVir",
    "outputId": "111bf7cd-d627-4c75-b06f-54dcae16c0ab"
   },
   "outputs": [
    {
     "name": "stdout",
     "output_type": "stream",
     "text": [
      "Hello\n"
     ]
    }
   ],
   "source": [
    "print(hello)"
   ]
  },
  {
   "cell_type": "code",
   "execution_count": 6,
   "metadata": {
    "colab": {
     "base_uri": "https://localhost:8080/",
     "height": 52
    },
    "colab_type": "code",
    "id": "UbnigwvsTZuK",
    "outputId": "482430e0-f84c-4d14-d58d-72816a948526"
   },
   "outputs": [
    {
     "name": "stdout",
     "output_type": "stream",
     "text": [
      "5\n",
      "World      5\n",
      "Hello\n"
     ]
    }
   ],
   "source": [
    "print(len(hello))\n",
    "print(world + \"      \" + str(len(world)) + \"\\n\" + \"Hello\") "
   ]
  },
  {
   "cell_type": "code",
   "execution_count": 7,
   "metadata": {
    "colab": {
     "base_uri": "https://localhost:8080/",
     "height": 35
    },
    "colab_type": "code",
    "id": "uYlxQfiGd_gy",
    "outputId": "3d0e9680-6363-4fe7-b9ca-2419fe166c8a"
   },
   "outputs": [
    {
     "name": "stdout",
     "output_type": "stream",
     "text": [
      "World 5\n"
     ]
    }
   ],
   "source": [
    "world2 = '%s %d' % (world, len(world))\n",
    "print(world2)"
   ]
  },
  {
   "cell_type": "code",
   "execution_count": 8,
   "metadata": {
    "colab": {
     "base_uri": "https://localhost:8080/",
     "height": 168
    },
    "colab_type": "code",
    "id": "GLqwYoScTlqo",
    "outputId": "253f8595-22ea-446b-e8f2-03e4b7adbe78"
   },
   "outputs": [
    {
     "name": "stdout",
     "output_type": "stream",
     "text": [
      "World 5\n"
     ]
    }
   ],
   "source": [
    "print(world, len(world))"
   ]
  },
  {
   "cell_type": "markdown",
   "metadata": {},
   "source": [
    "### Type Conversion\n",
    "* str() \n",
    "* float() \n",
    "* int()"
   ]
  },
  {
   "cell_type": "code",
   "execution_count": 12,
   "metadata": {
    "colab": {
     "base_uri": "https://localhost:8080/",
     "height": 52
    },
    "colab_type": "code",
    "id": "OyY22MKZTp22",
    "outputId": "397e67bc-751e-4ef3-f0ec-3328c47df76d"
   },
   "outputs": [
    {
     "name": "stdout",
     "output_type": "stream",
     "text": [
      "World5\n",
      "World 5\n"
     ]
    }
   ],
   "source": [
    "print(world + str(len(world)))\n",
    "\n",
    "print(world + \" \" + str(len(world)))"
   ]
  },
  {
   "cell_type": "code",
   "execution_count": 13,
   "metadata": {},
   "outputs": [
    {
     "data": {
      "text/plain": [
       "'Python'"
      ]
     },
     "execution_count": 13,
     "metadata": {},
     "output_type": "execute_result"
    }
   ],
   "source": [
    "str(\"Python\")"
   ]
  },
  {
   "cell_type": "code",
   "execution_count": 14,
   "metadata": {},
   "outputs": [
    {
     "data": {
      "text/plain": [
       "5.0"
      ]
     },
     "execution_count": 14,
     "metadata": {},
     "output_type": "execute_result"
    }
   ],
   "source": [
    "float(5)"
   ]
  },
  {
   "cell_type": "code",
   "execution_count": 18,
   "metadata": {},
   "outputs": [
    {
     "data": {
      "text/plain": [
       "float"
      ]
     },
     "execution_count": 18,
     "metadata": {},
     "output_type": "execute_result"
    }
   ],
   "source": [
    "type(5.0)"
   ]
  },
  {
   "cell_type": "code",
   "execution_count": 19,
   "metadata": {},
   "outputs": [
    {
     "data": {
      "text/plain": [
       "5"
      ]
     },
     "execution_count": 19,
     "metadata": {},
     "output_type": "execute_result"
    }
   ],
   "source": [
    "int(float(5.7))"
   ]
  },
  {
   "cell_type": "code",
   "execution_count": 20,
   "metadata": {},
   "outputs": [
    {
     "data": {
      "text/plain": [
       "6.2"
      ]
     },
     "execution_count": 20,
     "metadata": {},
     "output_type": "execute_result"
    }
   ],
   "source": [
    "float(\"6.2\")"
   ]
  },
  {
   "cell_type": "code",
   "execution_count": 21,
   "metadata": {},
   "outputs": [
    {
     "ename": "ValueError",
     "evalue": "could not convert string to float: 'Hello'",
     "output_type": "error",
     "traceback": [
      "\u001b[1;31m---------------------------------------------------------------------------\u001b[0m",
      "\u001b[1;31mValueError\u001b[0m                                Traceback (most recent call last)",
      "\u001b[1;32m<ipython-input-21-ff6885467a56>\u001b[0m in \u001b[0;36m<module>\u001b[1;34m\u001b[0m\n\u001b[1;32m----> 1\u001b[1;33m \u001b[0mfloat\u001b[0m\u001b[1;33m(\u001b[0m\u001b[1;34m\"Hello\"\u001b[0m\u001b[1;33m)\u001b[0m\u001b[1;33m\u001b[0m\u001b[1;33m\u001b[0m\u001b[0m\n\u001b[0m",
      "\u001b[1;31mValueError\u001b[0m: could not convert string to float: 'Hello'"
     ]
    }
   ],
   "source": [
    "float(\"Hello\")"
   ]
  },
  {
   "cell_type": "code",
   "execution_count": 24,
   "metadata": {},
   "outputs": [
    {
     "data": {
      "text/plain": [
       "5"
      ]
     },
     "execution_count": 24,
     "metadata": {},
     "output_type": "execute_result"
    }
   ],
   "source": [
    "int(5.5)"
   ]
  },
  {
   "cell_type": "markdown",
   "metadata": {},
   "source": [
    "### Indexing and Slicing"
   ]
  },
  {
   "cell_type": "markdown",
   "metadata": {},
   "source": [
    " <img src=\"images/Slicing.jpeg\"/>\n"
   ]
  },
  {
   "cell_type": "code",
   "execution_count": 36,
   "metadata": {
    "colab": {
     "base_uri": "https://localhost:8080/",
     "height": 52
    },
    "colab_type": "code",
    "id": "vZjNAoLVR5U0",
    "outputId": "b83516d1-3a99-43b6-e0ff-b1b37ddaf30b"
   },
   "outputs": [
    {
     "name": "stdout",
     "output_type": "stream",
     "text": [
      "Hello\n",
      "H\n",
      "e\n",
      "l\n",
      "l\n",
      "o\n"
     ]
    }
   ],
   "source": [
    "hello = \"Hello\"\n",
    "print(hello)\n",
    "print(hello[0])\n",
    "print(hello[1])\n",
    "print(hello[2])\n",
    "print(hello[3])\n",
    "print(hello[4])"
   ]
  },
  {
   "cell_type": "code",
   "execution_count": 40,
   "metadata": {},
   "outputs": [
    {
     "data": {
      "text/plain": [
       "' '"
      ]
     },
     "execution_count": 40,
     "metadata": {},
     "output_type": "execute_result"
    }
   ],
   "source": [
    "hello2 = \" Hello\"\n",
    "hello2[0]"
   ]
  },
  {
   "cell_type": "code",
   "execution_count": 42,
   "metadata": {},
   "outputs": [
    {
     "data": {
      "text/plain": [
       "'Hello'"
      ]
     },
     "execution_count": 42,
     "metadata": {},
     "output_type": "execute_result"
    }
   ],
   "source": [
    "hello"
   ]
  },
  {
   "cell_type": "code",
   "execution_count": 46,
   "metadata": {},
   "outputs": [
    {
     "ename": "IndexError",
     "evalue": "string index out of range",
     "output_type": "error",
     "traceback": [
      "\u001b[1;31m---------------------------------------------------------------------------\u001b[0m",
      "\u001b[1;31mIndexError\u001b[0m                                Traceback (most recent call last)",
      "\u001b[1;32m<ipython-input-46-d8090546c4b7>\u001b[0m in \u001b[0;36m<module>\u001b[1;34m\u001b[0m\n\u001b[1;32m----> 1\u001b[1;33m \u001b[0mprint\u001b[0m\u001b[1;33m(\u001b[0m\u001b[0mhello\u001b[0m\u001b[1;33m[\u001b[0m\u001b[1;36m5\u001b[0m\u001b[1;33m]\u001b[0m\u001b[1;33m)\u001b[0m\u001b[1;33m\u001b[0m\u001b[1;33m\u001b[0m\u001b[0m\n\u001b[0m",
      "\u001b[1;31mIndexError\u001b[0m: string index out of range"
     ]
    }
   ],
   "source": [
    "print(hello[5])"
   ]
  },
  {
   "cell_type": "code",
   "execution_count": 49,
   "metadata": {
    "colab": {
     "base_uri": "https://localhost:8080/",
     "height": 52
    },
    "colab_type": "code",
    "id": "obQknvFZWF5t",
    "outputId": "42f6445b-61da-4e85-bb2a-016affe64473"
   },
   "outputs": [
    {
     "name": "stdout",
     "output_type": "stream",
     "text": [
      "World\n",
      "d\n",
      "r\n",
      "W\n"
     ]
    }
   ],
   "source": [
    "print(world)\n",
    "print(world[-1])\n",
    "print(world[-3])\n",
    "print(world[-5])"
   ]
  },
  {
   "cell_type": "code",
   "execution_count": 50,
   "metadata": {
    "colab": {
     "base_uri": "https://localhost:8080/",
     "height": 168
    },
    "colab_type": "code",
    "id": "CwVJZDqqWWyu",
    "outputId": "03c1f865-9d58-4346-e6d8-acae8dcf01f1"
   },
   "outputs": [
    {
     "ename": "IndexError",
     "evalue": "string index out of range",
     "output_type": "error",
     "traceback": [
      "\u001b[1;31m---------------------------------------------------------------------------\u001b[0m",
      "\u001b[1;31mIndexError\u001b[0m                                Traceback (most recent call last)",
      "\u001b[1;32m<ipython-input-50-957f0f60f0cb>\u001b[0m in \u001b[0;36m<module>\u001b[1;34m\u001b[0m\n\u001b[1;32m----> 1\u001b[1;33m \u001b[0mworld\u001b[0m\u001b[1;33m[\u001b[0m\u001b[1;33m-\u001b[0m\u001b[1;36m6\u001b[0m\u001b[1;33m]\u001b[0m\u001b[1;33m\u001b[0m\u001b[1;33m\u001b[0m\u001b[0m\n\u001b[0m",
      "\u001b[1;31mIndexError\u001b[0m: string index out of range"
     ]
    }
   ],
   "source": [
    "world[-6]"
   ]
  },
  {
   "cell_type": "code",
   "execution_count": 33,
   "metadata": {
    "colab": {
     "base_uri": "https://localhost:8080/",
     "height": 35
    },
    "colab_type": "code",
    "id": "0zG_UBbW_SFu",
    "outputId": "dcdfe71b-cc4b-47a9-b358-3c943ec4ce14"
   },
   "outputs": [
    {
     "name": "stdout",
     "output_type": "stream",
     "text": [
      "e\n"
     ]
    }
   ],
   "source": [
    "job = \" Engineering\"\n",
    "\n",
    "print(job[-5])"
   ]
  },
  {
   "cell_type": "code",
   "execution_count": 29,
   "metadata": {},
   "outputs": [
    {
     "name": "stdout",
     "output_type": "stream",
     "text": [
      "Hello\n"
     ]
    }
   ],
   "source": [
    "print(hello)"
   ]
  },
  {
   "cell_type": "code",
   "execution_count": 56,
   "metadata": {},
   "outputs": [
    {
     "data": {
      "text/plain": [
       "'Hello'"
      ]
     },
     "execution_count": 56,
     "metadata": {},
     "output_type": "execute_result"
    }
   ],
   "source": [
    "hello"
   ]
  },
  {
   "cell_type": "code",
   "execution_count": 32,
   "metadata": {
    "colab": {
     "base_uri": "https://localhost:8080/",
     "height": 36
    },
    "colab_type": "code",
    "id": "1gW2be5tWek7",
    "outputId": "5e6924aa-4888-4ae0-934b-3c7392758241"
   },
   "outputs": [
    {
     "data": {
      "text/plain": [
       "'ll'"
      ]
     },
     "execution_count": 32,
     "metadata": {},
     "output_type": "execute_result"
    }
   ],
   "source": [
    "hello[2:4]  # [x:y] --> take the values from x th to y th but don't take y th value. "
   ]
  },
  {
   "cell_type": "code",
   "execution_count": 57,
   "metadata": {},
   "outputs": [
    {
     "data": {
      "text/plain": [
       "'World'"
      ]
     },
     "execution_count": 57,
     "metadata": {},
     "output_type": "execute_result"
    }
   ],
   "source": [
    "world"
   ]
  },
  {
   "cell_type": "code",
   "execution_count": 34,
   "metadata": {
    "colab": {
     "base_uri": "https://localhost:8080/",
     "height": 36
    },
    "colab_type": "code",
    "id": "DFxoKm3daCMP",
    "outputId": "2cecfa05-e063-427b-8293-a42644f1bbf8"
   },
   "outputs": [
    {
     "data": {
      "text/plain": [
       "'orl'"
      ]
     },
     "execution_count": 34,
     "metadata": {},
     "output_type": "execute_result"
    }
   ],
   "source": [
    "world[1:4]"
   ]
  },
  {
   "cell_type": "code",
   "execution_count": 65,
   "metadata": {
    "colab": {
     "base_uri": "https://localhost:8080/",
     "height": 52
    },
    "colab_type": "code",
    "id": "aJ4PKy8TaHpD",
    "outputId": "b5a426b5-b4c2-4d0f-a287-fd65dbab2fcd"
   },
   "outputs": [
    {
     "name": "stdout",
     "output_type": "stream",
     "text": [
      "ld\n",
      "ld\n"
     ]
    }
   ],
   "source": [
    "print(world[3:5])\n",
    "\n",
    "print(world[3:])"
   ]
  },
  {
   "cell_type": "code",
   "execution_count": 60,
   "metadata": {
    "colab": {
     "base_uri": "https://localhost:8080/",
     "height": 36
    },
    "colab_type": "code",
    "id": "ygsSpdGDaani",
    "outputId": "d34f251a-0777-4ab3-8067-698f0e1da86d"
   },
   "outputs": [
    {
     "data": {
      "text/plain": [
       "'Hell'"
      ]
     },
     "execution_count": 60,
     "metadata": {},
     "output_type": "execute_result"
    }
   ],
   "source": [
    "hello[:4]"
   ]
  },
  {
   "cell_type": "code",
   "execution_count": 61,
   "metadata": {
    "colab": {
     "base_uri": "https://localhost:8080/",
     "height": 36
    },
    "colab_type": "code",
    "id": "OE38aYOvafxr",
    "outputId": "51b66eae-8cd3-4e4a-bec2-b2036e4432e5"
   },
   "outputs": [
    {
     "data": {
      "text/plain": [
       "'Hello'"
      ]
     },
     "execution_count": 61,
     "metadata": {},
     "output_type": "execute_result"
    }
   ],
   "source": [
    "hello[:]"
   ]
  },
  {
   "cell_type": "code",
   "execution_count": 62,
   "metadata": {
    "colab": {
     "base_uri": "https://localhost:8080/",
     "height": 36
    },
    "colab_type": "code",
    "id": "4d12Mq3n03zL",
    "outputId": "672fca35-08f1-4386-b434-a1823d4b643a"
   },
   "outputs": [
    {
     "data": {
      "text/plain": [
       "'olleH'"
      ]
     },
     "execution_count": 62,
     "metadata": {},
     "output_type": "execute_result"
    }
   ],
   "source": [
    "hello[::-1] "
   ]
  },
  {
   "cell_type": "code",
   "execution_count": 70,
   "metadata": {},
   "outputs": [
    {
     "data": {
      "text/plain": [
       "'World'"
      ]
     },
     "execution_count": 70,
     "metadata": {},
     "output_type": "execute_result"
    }
   ],
   "source": [
    "world"
   ]
  },
  {
   "cell_type": "code",
   "execution_count": 39,
   "metadata": {
    "colab": {
     "base_uri": "https://localhost:8080/",
     "height": 36
    },
    "colab_type": "code",
    "id": "vG076dUoalJq",
    "outputId": "7ce2e41d-0229-42fb-aec3-85be28b60e8c"
   },
   "outputs": [
    {
     "data": {
      "text/plain": [
       "'Wo'"
      ]
     },
     "execution_count": 39,
     "metadata": {},
     "output_type": "execute_result"
    }
   ],
   "source": [
    "world[:-3]"
   ]
  },
  {
   "cell_type": "code",
   "execution_count": 71,
   "metadata": {},
   "outputs": [
    {
     "data": {
      "text/plain": [
       "5"
      ]
     },
     "execution_count": 71,
     "metadata": {},
     "output_type": "execute_result"
    }
   ],
   "source": [
    "len(world)"
   ]
  },
  {
   "cell_type": "code",
   "execution_count": 72,
   "metadata": {},
   "outputs": [
    {
     "data": {
      "text/plain": [
       "'Hello'"
      ]
     },
     "execution_count": 72,
     "metadata": {},
     "output_type": "execute_result"
    }
   ],
   "source": [
    "hello"
   ]
  },
  {
   "cell_type": "code",
   "execution_count": 74,
   "metadata": {
    "colab": {
     "base_uri": "https://localhost:8080/",
     "height": 36
    },
    "colab_type": "code",
    "id": "1kCxbvrVauoV",
    "outputId": "4f82b9da-78b7-45d3-b51c-3c875c19cda6"
   },
   "outputs": [
    {
     "data": {
      "text/plain": [
       "'llo'"
      ]
     },
     "execution_count": 74,
     "metadata": {},
     "output_type": "execute_result"
    }
   ],
   "source": [
    "hello[2:len(world)]"
   ]
  },
  {
   "cell_type": "code",
   "execution_count": 76,
   "metadata": {
    "colab": {
     "base_uri": "https://localhost:8080/",
     "height": 36
    },
    "colab_type": "code",
    "id": "3hrKJQS2a6A5",
    "outputId": "af5ea94b-1820-4870-f0e7-5459cefa4580"
   },
   "outputs": [
    {
     "data": {
      "text/plain": [
       "'rl'"
      ]
     },
     "execution_count": 76,
     "metadata": {},
     "output_type": "execute_result"
    }
   ],
   "source": [
    "world[2:4:1]   # [start:end:step]"
   ]
  },
  {
   "cell_type": "code",
   "execution_count": 78,
   "metadata": {
    "colab": {
     "base_uri": "https://localhost:8080/",
     "height": 36
    },
    "colab_type": "code",
    "id": "1Kgd14H_bNAj",
    "outputId": "32cc0fb4-0b01-4b08-e2c2-468afd327192"
   },
   "outputs": [
    {
     "data": {
      "text/plain": [
       "'itn'"
      ]
     },
     "execution_count": 78,
     "metadata": {},
     "output_type": "execute_result"
    }
   ],
   "source": [
    "city = \"istanbul\"\n",
    "city[0:6:2]"
   ]
  },
  {
   "cell_type": "code",
   "execution_count": 56,
   "metadata": {
    "colab": {
     "base_uri": "https://localhost:8080/",
     "height": 35
    },
    "colab_type": "code",
    "id": "7DcJJgzHcLUe",
    "outputId": "ea716398-c5b2-4ca3-f8fe-9dcc33cddd64"
   },
   "outputs": [
    {
     "data": {
      "text/plain": [
       "True"
      ]
     },
     "execution_count": 56,
     "metadata": {},
     "output_type": "execute_result"
    }
   ],
   "source": [
    "\"t\" in city"
   ]
  },
  {
   "cell_type": "code",
   "execution_count": 57,
   "metadata": {
    "colab": {
     "base_uri": "https://localhost:8080/",
     "height": 35
    },
    "colab_type": "code",
    "id": "JpWOAe0lcVlX",
    "outputId": "a534bbc1-19e7-4e86-e43c-7a21833f4da5"
   },
   "outputs": [
    {
     "data": {
      "text/plain": [
       "False"
      ]
     },
     "execution_count": 57,
     "metadata": {},
     "output_type": "execute_result"
    }
   ],
   "source": [
    "\"y\" in city"
   ]
  },
  {
   "cell_type": "code",
   "execution_count": 79,
   "metadata": {
    "colab": {
     "base_uri": "https://localhost:8080/",
     "height": 35
    },
    "colab_type": "code",
    "id": "mAFs1_oMcYgR",
    "outputId": "200388d0-c295-42e8-ee71-4a05c62f2a9f"
   },
   "outputs": [
    {
     "data": {
      "text/plain": [
       "True"
      ]
     },
     "execution_count": 79,
     "metadata": {},
     "output_type": "execute_result"
    }
   ],
   "source": [
    "\"anb\" in city"
   ]
  },
  {
   "cell_type": "code",
   "execution_count": 80,
   "metadata": {
    "colab": {
     "base_uri": "https://localhost:8080/",
     "height": 35
    },
    "colab_type": "code",
    "id": "0CTtKKESbR4o",
    "outputId": "4c9125a4-2508-4c86-d9e5-3be01676875e"
   },
   "outputs": [
    {
     "data": {
      "text/plain": [
       "False"
      ]
     },
     "execution_count": 80,
     "metadata": {},
     "output_type": "execute_result"
    }
   ],
   "source": [
    "\"snl\" in city"
   ]
  },
  {
   "cell_type": "code",
   "execution_count": 81,
   "metadata": {
    "colab": {
     "base_uri": "https://localhost:8080/",
     "height": 36
    },
    "colab_type": "code",
    "id": "5lEA4XvscNz4",
    "outputId": "be29ddc0-e203-47d0-f4f3-8a2121c6f32e"
   },
   "outputs": [
    {
     "data": {
      "text/plain": [
       "'10'"
      ]
     },
     "execution_count": 81,
     "metadata": {},
     "output_type": "execute_result"
    }
   ],
   "source": [
    "n = 10\n",
    "str(n)"
   ]
  },
  {
   "cell_type": "code",
   "execution_count": 82,
   "metadata": {
    "colab": {
     "base_uri": "https://localhost:8080/",
     "height": 35
    },
    "colab_type": "code",
    "id": "fzWxmiIwcZQw",
    "outputId": "f2ef7544-85a7-4116-ce61-25eaac65df0e"
   },
   "outputs": [
    {
     "data": {
      "text/plain": [
       "13"
      ]
     },
     "execution_count": 82,
     "metadata": {},
     "output_type": "execute_result"
    }
   ],
   "source": [
    "s = '13'\n",
    "s\n",
    "int(s)"
   ]
  },
  {
   "cell_type": "code",
   "execution_count": 83,
   "metadata": {
    "colab": {},
    "colab_type": "code",
    "id": "qOehpC90cqeg"
   },
   "outputs": [
    {
     "ename": "ValueError",
     "evalue": "invalid literal for int() with base 10: 'ist'",
     "output_type": "error",
     "traceback": [
      "\u001b[1;31m---------------------------------------------------------------------------\u001b[0m",
      "\u001b[1;31mValueError\u001b[0m                                Traceback (most recent call last)",
      "\u001b[1;32m<ipython-input-83-5289cffa7745>\u001b[0m in \u001b[0;36m<module>\u001b[1;34m\u001b[0m\n\u001b[0;32m      1\u001b[0m \u001b[0ms\u001b[0m \u001b[1;33m=\u001b[0m \u001b[1;34m'ist'\u001b[0m\u001b[1;33m\u001b[0m\u001b[1;33m\u001b[0m\u001b[0m\n\u001b[1;32m----> 2\u001b[1;33m \u001b[0mint\u001b[0m\u001b[1;33m(\u001b[0m\u001b[0ms\u001b[0m\u001b[1;33m)\u001b[0m\u001b[1;33m\u001b[0m\u001b[1;33m\u001b[0m\u001b[0m\n\u001b[0m",
      "\u001b[1;31mValueError\u001b[0m: invalid literal for int() with base 10: 'ist'"
     ]
    }
   ],
   "source": [
    "s = 'ist'\n",
    "int(s)"
   ]
  },
  {
   "cell_type": "code",
   "execution_count": 84,
   "metadata": {
    "colab": {
     "base_uri": "https://localhost:8080/",
     "height": 52
    },
    "colab_type": "code",
    "id": "Cqef9NxWcu0f",
    "outputId": "2db66066-d231-49c6-e31a-1861e9679fe6"
   },
   "outputs": [
    {
     "name": "stdout",
     "output_type": "stream",
     "text": [
      "8.0 8\n"
     ]
    },
    {
     "data": {
      "text/plain": [
       "8"
      ]
     },
     "execution_count": 84,
     "metadata": {},
     "output_type": "execute_result"
    }
   ],
   "source": [
    "m = 8\n",
    "print(float(m), m)\n",
    "m"
   ]
  },
  {
   "cell_type": "code",
   "execution_count": 85,
   "metadata": {
    "colab": {
     "base_uri": "https://localhost:8080/",
     "height": 35
    },
    "colab_type": "code",
    "id": "QOay86Z9dqQb",
    "outputId": "1b1951dd-5d62-4d80-95ea-902cef5f2f76"
   },
   "outputs": [
    {
     "name": "stdout",
     "output_type": "stream",
     "text": [
      "artificial intelligence\n"
     ]
    }
   ],
   "source": [
    "ai = 'artificial' + ' ' + 'intelligence'\n",
    "print(ai)"
   ]
  },
  {
   "cell_type": "code",
   "execution_count": 86,
   "metadata": {
    "colab": {
     "base_uri": "https://localhost:8080/",
     "height": 35
    },
    "colab_type": "code",
    "id": "az6ygCGue2sY",
    "outputId": "d25ccec9-bcfb-4bbb-d293-d824bb545492"
   },
   "outputs": [
    {
     "name": "stdout",
     "output_type": "stream",
     "text": [
      "Machine learning\n"
     ]
    }
   ],
   "source": [
    "word = 'machine learning'\n",
    "print(word.capitalize())"
   ]
  },
  {
   "cell_type": "code",
   "execution_count": 87,
   "metadata": {
    "colab": {
     "base_uri": "https://localhost:8080/",
     "height": 35
    },
    "colab_type": "code",
    "id": "3nF1ST9UfCGu",
    "outputId": "a295c72e-72c4-4b9c-9cc7-67dfaf736037"
   },
   "outputs": [
    {
     "name": "stdout",
     "output_type": "stream",
     "text": [
      "MACHINE LEARNING\n"
     ]
    }
   ],
   "source": [
    "print(word.upper())"
   ]
  },
  {
   "cell_type": "code",
   "execution_count": 89,
   "metadata": {
    "colab": {
     "base_uri": "https://localhost:8080/",
     "height": 35
    },
    "colab_type": "code",
    "id": "9r6KvgMYfiVQ",
    "outputId": "78b127c1-3673-46f4-9c03-8fc68d0d40fb"
   },
   "outputs": [
    {
     "name": "stdout",
     "output_type": "stream",
     "text": [
      "artificial learning\n"
     ]
    }
   ],
   "source": [
    "print(word.replace('machine','artificial'))"
   ]
  },
  {
   "cell_type": "code",
   "execution_count": 90,
   "metadata": {
    "colab": {
     "base_uri": "https://localhost:8080/",
     "height": 36
    },
    "colab_type": "code",
    "id": "TjnWT_9Zfs2r",
    "outputId": "b0438a88-d942-4aec-eff3-43e44b5e8527"
   },
   "outputs": [
    {
     "data": {
      "text/plain": [
       "'machine learning'"
      ]
     },
     "execution_count": 90,
     "metadata": {},
     "output_type": "execute_result"
    }
   ],
   "source": [
    "word"
   ]
  },
  {
   "cell_type": "code",
   "execution_count": 92,
   "metadata": {
    "colab": {
     "base_uri": "https://localhost:8080/",
     "height": 35
    },
    "colab_type": "code",
    "id": "H1WYJsidfw-G",
    "outputId": "d4bfa4f2-16b5-44c6-bd27-748b5f331489"
   },
   "outputs": [
    {
     "name": "stdout",
     "output_type": "stream",
     "text": [
      "artificial general      intelligence\n"
     ]
    }
   ],
   "source": [
    "word2 = \"          artificial general      intelligence\"\n",
    "print(word2.strip())"
   ]
  },
  {
   "cell_type": "code",
   "execution_count": 2,
   "metadata": {
    "colab": {
     "base_uri": "https://localhost:8080/",
     "height": 52
    },
    "colab_type": "code",
    "id": "Voc6zKLzhlmv",
    "outputId": "66172d30-b869-4639-c287-d650203829d5"
   },
   "outputs": [
    {
     "name": "stdout",
     "output_type": "stream",
     "text": [
      "Please enter a city name: 555\n",
      "555\n"
     ]
    }
   ],
   "source": [
    "y = input(\"Please enter a city name: \")  #input method always takes string type. \n",
    "print(y)"
   ]
  },
  {
   "cell_type": "code",
   "execution_count": 3,
   "metadata": {},
   "outputs": [
    {
     "data": {
      "text/plain": [
       "str"
      ]
     },
     "execution_count": 3,
     "metadata": {},
     "output_type": "execute_result"
    }
   ],
   "source": [
    "type(y)"
   ]
  },
  {
   "cell_type": "code",
   "execution_count": 7,
   "metadata": {
    "colab": {
     "base_uri": "https://localhost:8080/",
     "height": 52
    },
    "colab_type": "code",
    "id": "3zyJI9oljhQi",
    "outputId": "5d71d13a-944d-4e1a-fa22-a3a3f270cd55"
   },
   "outputs": [
    {
     "name": "stdout",
     "output_type": "stream",
     "text": [
      "Please enter an integer: 4.3\n"
     ]
    },
    {
     "ename": "ValueError",
     "evalue": "invalid literal for int() with base 10: '4.3'",
     "output_type": "error",
     "traceback": [
      "\u001b[1;31m---------------------------------------------------------------------------\u001b[0m",
      "\u001b[1;31mValueError\u001b[0m                                Traceback (most recent call last)",
      "\u001b[1;32m<ipython-input-7-614cd690396c>\u001b[0m in \u001b[0;36m<module>\u001b[1;34m\u001b[0m\n\u001b[1;32m----> 1\u001b[1;33m \u001b[0mx\u001b[0m \u001b[1;33m=\u001b[0m \u001b[0mint\u001b[0m\u001b[1;33m(\u001b[0m\u001b[0minput\u001b[0m\u001b[1;33m(\u001b[0m\u001b[1;34m\"Please enter an integer: \"\u001b[0m\u001b[1;33m)\u001b[0m\u001b[1;33m)\u001b[0m\u001b[1;33m\u001b[0m\u001b[1;33m\u001b[0m\u001b[0m\n\u001b[0m\u001b[0;32m      2\u001b[0m \u001b[0mprint\u001b[0m\u001b[1;33m(\u001b[0m\u001b[0mx\u001b[0m\u001b[1;33m)\u001b[0m\u001b[1;33m\u001b[0m\u001b[1;33m\u001b[0m\u001b[0m\n",
      "\u001b[1;31mValueError\u001b[0m: invalid literal for int() with base 10: '4.3'"
     ]
    }
   ],
   "source": [
    "x = int(input(\"Please enter an integer: \"))\n",
    "print(x)"
   ]
  },
  {
   "cell_type": "code",
   "execution_count": 5,
   "metadata": {},
   "outputs": [
    {
     "data": {
      "text/plain": [
       "int"
      ]
     },
     "execution_count": 5,
     "metadata": {},
     "output_type": "execute_result"
    }
   ],
   "source": [
    "type(x)"
   ]
  },
  {
   "cell_type": "code",
   "execution_count": 10,
   "metadata": {
    "colab": {},
    "colab_type": "code",
    "id": "OGS-YMaOlB34"
   },
   "outputs": [
    {
     "name": "stdout",
     "output_type": "stream",
     "text": [
      "One year is  12 months, and  365 days.\n",
      "One year is  12 months, and  365 days.\n",
      "One year is 12 months, and 365 days.\n"
     ]
    }
   ],
   "source": [
    "month = 12\n",
    "day = 365\n",
    "\n",
    "print('One year is ', month, 'months, and ', day, 'days.', sep =' ')\n",
    "print('One year is  ', month, ' months, and  ', day, ' days.', sep ='')\n",
    "\n",
    "print(\"One year is \" + str(month) + \" months, and \" + str(day) + \" days.\")\n"
   ]
  },
  {
   "cell_type": "markdown",
   "metadata": {
    "colab_type": "text",
    "id": "uvOEoszdoS5U"
   },
   "source": [
    "## Question:\n",
    "\n",
    "Create a program will compute the tax and the tip for a meal ordered at a restaurant. You can compute the tax as 8 percent of the meal amount and the tip as 10 percent of the meal amount (without the tax). The output from your program should include the tax amount, the tip amount, and the grand total for the meal including both the tax and the tip.\n",
    "\n",
    "\n",
    "a)Define the cost of the meal in the beginning of your program.\n",
    "\n",
    "Some several example program runs:\n",
    "\n",
    "Cost of the meal is 25 Eur. \n",
    "\n",
    "Sample Run: The tax is 2.00 Eur and the tip is 2.50 Eur, making the total 29.50 Eur.\n",
    "\n",
    "Cost of the meal is 68 Eur.\n",
    "\n",
    "Sample Run: The tax is 5.44 Eur and the tip is 6.80000000000001 Eur, making the total 80.24 Eur.\n",
    "\n",
    "b)Input the cost of the meal from the user.\n",
    "\n",
    "Some several example program runs:\n",
    "\n",
    "Please enter the cost of your meal: 100 \n",
    "\n",
    "Sample Run: The tax is 8.00 Eur and the tip is 10.00 Eur, making the total 118.00 Eur.\n",
    "\n",
    "Please enter the cost of your meal: 68\n",
    "\n",
    "Sample Run: The tax is 5.44 Eur and the tip is 6.80 Eur, making the total 80.24 Eur."
   ]
  },
  {
   "cell_type": "markdown",
   "metadata": {
    "colab_type": "text",
    "id": "_df6ctqKq5Yq"
   },
   "source": [
    "## Answer"
   ]
  },
  {
   "cell_type": "code",
   "execution_count": 10,
   "metadata": {
    "colab": {},
    "colab_type": "code",
    "id": "saeSWjksq95q"
   },
   "outputs": [
    {
     "name": "stdout",
     "output_type": "stream",
     "text": [
      "The tax is 6.32 Eur and the tip is 7.9 Eur, making the total 93.22 Eur.\n",
      "The tax is 6.32 Eur and the tip is 7.90 Eur, making the total 93.22 Eur\n"
     ]
    }
   ],
   "source": [
    "# a)Define the cost of the meal in the beginning of your program.\n",
    "\n",
    "cost = 79\n",
    "tax = cost * 0.08\n",
    "tip = cost * 0.1\n",
    "total = cost + tax + tip\n",
    "\n",
    "\n",
    "\n",
    "print(\"The tax is \" + str(tax) + \" Eur and the tip is \" + str(tip) + \" Eur, making the total \" + format(total, \".2f\") + \" Eur.\")\n",
    "\n",
    "\n",
    "print(\"The tax is \" + format(tax, \".2f\") + \" Eur and the tip is \" + format(tip, \".2f\") + \" Eur, making the total \" + format(total, \".2f\") + \" Eur\")\n"
   ]
  },
  {
   "cell_type": "code",
   "execution_count": 12,
   "metadata": {
    "colab": {},
    "colab_type": "code",
    "id": "ReTfINX2tE3P"
   },
   "outputs": [
    {
     "name": "stdout",
     "output_type": "stream",
     "text": [
      "Please enter the cost of your meal: 45\n",
      "The tax is 3.6 Eur and the tip is 4.5 Eur, making the total 53.10 Eur\n"
     ]
    }
   ],
   "source": [
    "#b)Input the cost of the meal from the user.\n",
    "\n",
    "cost = float(input(\"Please enter the cost of your meal: \"))\n",
    "tax = cost * 0.08\n",
    "tip = cost * 0.1\n",
    "total = cost + tax + tip\n",
    "\n",
    "\n",
    "print(\"The tax is \" + str(tax) + \" Eur and the tip is \" + str(tip) + \" Eur, making the total \" + format(total, \".2f\") + \" Eur\")"
   ]
  },
  {
   "cell_type": "markdown",
   "metadata": {
    "colab_type": "text",
    "id": "zvyKibr2vVNm"
   },
   "source": [
    "# Lists"
   ]
  },
  {
   "cell_type": "code",
   "execution_count": 14,
   "metadata": {
    "colab": {
     "base_uri": "https://localhost:8080/",
     "height": 35
    },
    "colab_type": "code",
    "id": "njA7EYZGv07w",
    "outputId": "39d8d67d-578a-46c7-c3b3-275d39a06063",
    "scrolled": true
   },
   "outputs": [
    {
     "name": "stdout",
     "output_type": "stream",
     "text": [
      "[3, 5, 6, 7]\n"
     ]
    }
   ],
   "source": [
    " # creating a list\n",
    "mylist = [3,5,6,7]\n",
    "print(mylist) "
   ]
  },
  {
   "cell_type": "code",
   "execution_count": 15,
   "metadata": {},
   "outputs": [
    {
     "data": {
      "text/plain": [
       "list"
      ]
     },
     "execution_count": 15,
     "metadata": {},
     "output_type": "execute_result"
    }
   ],
   "source": [
    "type(mylist)"
   ]
  },
  {
   "cell_type": "code",
   "execution_count": 16,
   "metadata": {
    "colab": {
     "base_uri": "https://localhost:8080/",
     "height": 88
    },
    "colab_type": "code",
    "id": "hQhGEzmPwgQ2",
    "outputId": "66c861e8-e948-405b-e8cf-d6f25a72f8b4"
   },
   "outputs": [
    {
     "name": "stdout",
     "output_type": "stream",
     "text": [
      "3\n",
      "6\n",
      "7\n",
      "5\n"
     ]
    }
   ],
   "source": [
    "print(mylist[0])\n",
    "print(mylist[2])\n",
    "print(mylist[-1])\n",
    "print(mylist[-3])"
   ]
  },
  {
   "cell_type": "code",
   "execution_count": 17,
   "metadata": {},
   "outputs": [
    {
     "name": "stdout",
     "output_type": "stream",
     "text": [
      "5\n"
     ]
    }
   ],
   "source": [
    "a = 5\n",
    "print(a)"
   ]
  },
  {
   "cell_type": "code",
   "execution_count": 18,
   "metadata": {},
   "outputs": [
    {
     "name": "stdout",
     "output_type": "stream",
     "text": [
      "3\n"
     ]
    }
   ],
   "source": [
    "a = 3\n",
    "print(a)"
   ]
  },
  {
   "cell_type": "code",
   "execution_count": 20,
   "metadata": {
    "colab": {
     "base_uri": "https://localhost:8080/",
     "height": 35
    },
    "colab_type": "code",
    "id": "ngPWrPA_w3gG",
    "outputId": "082ef017-93ad-4aea-ceee-f6673380cbce"
   },
   "outputs": [
    {
     "name": "stdout",
     "output_type": "stream",
     "text": [
      "[3, 5, 'python', 7]\n"
     ]
    }
   ],
   "source": [
    "mylist[2] = \"python\"   # lists can be taken different types of data\n",
    "print(mylist)"
   ]
  },
  {
   "cell_type": "code",
   "execution_count": 23,
   "metadata": {
    "colab": {
     "base_uri": "https://localhost:8080/",
     "height": 35
    },
    "colab_type": "code",
    "id": "hI6Wz-NWxMuG",
    "outputId": "bcfe22a8-4dd6-4484-93ea-352d475abf2a"
   },
   "outputs": [
    {
     "name": "stdout",
     "output_type": "stream",
     "text": [
      "[3, 5, 'python', 7, 'course', 'course', 'course']\n"
     ]
    }
   ],
   "source": [
    "mylist.append('course')  # append(): adding some items end of the list \n",
    "print(mylist)"
   ]
  },
  {
   "cell_type": "code",
   "execution_count": 25,
   "metadata": {
    "colab": {
     "base_uri": "https://localhost:8080/",
     "height": 70
    },
    "colab_type": "code",
    "id": "dqz8xPRgxdHU",
    "outputId": "d87f772f-2dc6-4864-cb82-f83e3320a71b"
   },
   "outputs": [
    {
     "name": "stdout",
     "output_type": "stream",
     "text": [
      "[3, 4, 5, 6, 7, 'course', 'course']\n",
      "course\n",
      "[3, 4, 5, 6, 7, 'course']\n"
     ]
    }
   ],
   "source": [
    "mylist = [3,4,5,6,7]\n",
    "mylist.append('course')\n",
    "mylist.append('course')\n",
    "print(mylist)\n",
    "\n",
    "thelast = mylist.pop()  # pop(): removing the last item of the list \n",
    "print(thelast)\n",
    "print(mylist)"
   ]
  },
  {
   "cell_type": "code",
   "execution_count": 27,
   "metadata": {},
   "outputs": [
    {
     "data": {
      "text/plain": [
       "[3, 4, 5, 6, 7, 'course']"
      ]
     },
     "execution_count": 27,
     "metadata": {},
     "output_type": "execute_result"
    }
   ],
   "source": [
    "mylist"
   ]
  },
  {
   "cell_type": "code",
   "execution_count": 28,
   "metadata": {
    "colab": {
     "base_uri": "https://localhost:8080/",
     "height": 35
    },
    "colab_type": "code",
    "id": "Dt0ef3SiyJng",
    "outputId": "5c4b09a6-4918-4393-e8ff-5ab2be38f39e"
   },
   "outputs": [
    {
     "data": {
      "text/plain": [
       "5"
      ]
     },
     "execution_count": 28,
     "metadata": {},
     "output_type": "execute_result"
    }
   ],
   "source": [
    "mylist.index(\"course\")"
   ]
  },
  {
   "cell_type": "code",
   "execution_count": 29,
   "metadata": {
    "colab": {
     "base_uri": "https://localhost:8080/",
     "height": 35
    },
    "colab_type": "code",
    "id": "r1A4DZ4syQtk",
    "outputId": "c013fbaf-b73e-4a25-8d56-d94452ee75db"
   },
   "outputs": [
    {
     "data": {
      "text/plain": [
       "1"
      ]
     },
     "execution_count": 29,
     "metadata": {},
     "output_type": "execute_result"
    }
   ],
   "source": [
    "mylist.index(4)"
   ]
  },
  {
   "cell_type": "code",
   "execution_count": 30,
   "metadata": {
    "colab": {
     "base_uri": "https://localhost:8080/",
     "height": 35
    },
    "colab_type": "code",
    "id": "iFn2-UYKyWCZ",
    "outputId": "7b69fee3-6725-46e4-8417-b6e25b3c93f7"
   },
   "outputs": [
    {
     "data": {
      "text/plain": [
       "1"
      ]
     },
     "execution_count": 30,
     "metadata": {},
     "output_type": "execute_result"
    }
   ],
   "source": [
    "mylist.count(\"course\")"
   ]
  },
  {
   "cell_type": "code",
   "execution_count": 32,
   "metadata": {},
   "outputs": [
    {
     "data": {
      "text/plain": [
       "3"
      ]
     },
     "execution_count": 32,
     "metadata": {},
     "output_type": "execute_result"
    }
   ],
   "source": [
    "list2 = [\"Python\",\"Java\",\"R\",\"JavaScript\",\"Ruby\",\"Python\",\"Python\"]\n",
    "list2.count(\"Python\")\n"
   ]
  },
  {
   "cell_type": "code",
   "execution_count": 33,
   "metadata": {},
   "outputs": [
    {
     "data": {
      "text/plain": [
       "[3, 4, 5, 6, 7, 'course']"
      ]
     },
     "execution_count": 33,
     "metadata": {},
     "output_type": "execute_result"
    }
   ],
   "source": [
    "mylist"
   ]
  },
  {
   "cell_type": "code",
   "execution_count": 34,
   "metadata": {
    "colab": {
     "base_uri": "https://localhost:8080/",
     "height": 35
    },
    "colab_type": "code",
    "id": "46qXsaPbyowR",
    "outputId": "09b1b5c5-b4d3-4ea5-a57f-106aa4a69109"
   },
   "outputs": [
    {
     "name": "stdout",
     "output_type": "stream",
     "text": [
      "[3, 4, 5, 6, 7]\n"
     ]
    }
   ],
   "source": [
    "mylist.remove(\"course\")\n",
    "print(mylist)"
   ]
  },
  {
   "cell_type": "code",
   "execution_count": 35,
   "metadata": {
    "colab": {
     "base_uri": "https://localhost:8080/",
     "height": 186
    },
    "colab_type": "code",
    "id": "UlKtby-1zYVT",
    "outputId": "a3c9e296-ea13-46c8-da73-9418ed3ac895"
   },
   "outputs": [
    {
     "data": {
      "text/plain": [
       "[3, 4, 5, 6, 7]"
      ]
     },
     "execution_count": 35,
     "metadata": {},
     "output_type": "execute_result"
    }
   ],
   "source": [
    "mylist.sort()\n",
    "mylist"
   ]
  },
  {
   "cell_type": "code",
   "execution_count": 36,
   "metadata": {},
   "outputs": [],
   "source": [
    "list3 = [100,23,87,13,1000]"
   ]
  },
  {
   "cell_type": "code",
   "execution_count": 37,
   "metadata": {},
   "outputs": [
    {
     "data": {
      "text/plain": [
       "[13, 23, 87, 100, 1000]"
      ]
     },
     "execution_count": 37,
     "metadata": {},
     "output_type": "execute_result"
    }
   ],
   "source": [
    "list3.sort()\n",
    "list3"
   ]
  },
  {
   "cell_type": "code",
   "execution_count": 39,
   "metadata": {},
   "outputs": [
    {
     "data": {
      "text/plain": [
       "[2.8, 2.9, 23, 37, 41, 78, 99]"
      ]
     },
     "execution_count": 39,
     "metadata": {},
     "output_type": "execute_result"
    }
   ],
   "source": [
    "list4 = [41,23,78,99,37,2.9,2.8]\n",
    "list4.sort()\n",
    "list4"
   ]
  },
  {
   "cell_type": "code",
   "execution_count": 40,
   "metadata": {},
   "outputs": [
    {
     "ename": "TypeError",
     "evalue": "remove() takes exactly one argument (0 given)",
     "output_type": "error",
     "traceback": [
      "\u001b[1;31m---------------------------------------------------------------------------\u001b[0m",
      "\u001b[1;31mTypeError\u001b[0m                                 Traceback (most recent call last)",
      "\u001b[1;32m<ipython-input-40-10ab72efc404>\u001b[0m in \u001b[0;36m<module>\u001b[1;34m\u001b[0m\n\u001b[1;32m----> 1\u001b[1;33m \u001b[0mlist4\u001b[0m\u001b[1;33m.\u001b[0m\u001b[0mremove\u001b[0m\u001b[1;33m(\u001b[0m\u001b[1;33m)\u001b[0m\u001b[1;33m\u001b[0m\u001b[1;33m\u001b[0m\u001b[0m\n\u001b[0m",
      "\u001b[1;31mTypeError\u001b[0m: remove() takes exactly one argument (0 given)"
     ]
    }
   ],
   "source": [
    "list4.remove()"
   ]
  },
  {
   "cell_type": "code",
   "execution_count": 124,
   "metadata": {},
   "outputs": [
    {
     "ename": "TypeError",
     "evalue": "'<' not supported between instances of 'str' and 'int'",
     "output_type": "error",
     "traceback": [
      "\u001b[1;31m---------------------------------------------------------------------------\u001b[0m",
      "\u001b[1;31mTypeError\u001b[0m                                 Traceback (most recent call last)",
      "\u001b[1;32m<ipython-input-124-05f8850dd456>\u001b[0m in \u001b[0;36m<module>\u001b[1;34m\u001b[0m\n\u001b[0;32m      1\u001b[0m \u001b[0mlist5\u001b[0m \u001b[1;33m=\u001b[0m \u001b[1;33m[\u001b[0m\u001b[1;36m41\u001b[0m\u001b[1;33m,\u001b[0m\u001b[1;36m23\u001b[0m\u001b[1;33m,\u001b[0m\u001b[1;36m78\u001b[0m\u001b[1;33m,\u001b[0m\u001b[1;36m99\u001b[0m\u001b[1;33m,\u001b[0m\u001b[1;36m37\u001b[0m\u001b[1;33m,\u001b[0m\u001b[1;34m'python'\u001b[0m\u001b[1;33m]\u001b[0m\u001b[1;33m\u001b[0m\u001b[1;33m\u001b[0m\u001b[0m\n\u001b[1;32m----> 2\u001b[1;33m \u001b[0mlist5\u001b[0m\u001b[1;33m.\u001b[0m\u001b[0msort\u001b[0m\u001b[1;33m(\u001b[0m\u001b[1;33m)\u001b[0m\u001b[1;33m\u001b[0m\u001b[1;33m\u001b[0m\u001b[0m\n\u001b[0m\u001b[0;32m      3\u001b[0m \u001b[0mlist5\u001b[0m\u001b[1;33m\u001b[0m\u001b[1;33m\u001b[0m\u001b[0m\n",
      "\u001b[1;31mTypeError\u001b[0m: '<' not supported between instances of 'str' and 'int'"
     ]
    }
   ],
   "source": [
    "list5 = [41,23,78,99,37,'python']\n",
    "list5.sort()\n",
    "list5"
   ]
  },
  {
   "cell_type": "code",
   "execution_count": 41,
   "metadata": {},
   "outputs": [
    {
     "data": {
      "text/plain": [
       "[3, 4, 5, 6, 7]"
      ]
     },
     "execution_count": 41,
     "metadata": {},
     "output_type": "execute_result"
    }
   ],
   "source": [
    "mylist"
   ]
  },
  {
   "cell_type": "code",
   "execution_count": 42,
   "metadata": {
    "colab": {
     "base_uri": "https://localhost:8080/",
     "height": 35
    },
    "colab_type": "code",
    "id": "E26Vtqlyzfal",
    "outputId": "fe9b0ac7-0547-48b7-9379-4eee55b7c736"
   },
   "outputs": [
    {
     "ename": "ValueError",
     "evalue": "list.remove(x): x not in list",
     "output_type": "error",
     "traceback": [
      "\u001b[1;31m---------------------------------------------------------------------------\u001b[0m",
      "\u001b[1;31mValueError\u001b[0m                                Traceback (most recent call last)",
      "\u001b[1;32m<ipython-input-42-2afa78f0dea0>\u001b[0m in \u001b[0;36m<module>\u001b[1;34m\u001b[0m\n\u001b[1;32m----> 1\u001b[1;33m \u001b[0mmylist\u001b[0m\u001b[1;33m.\u001b[0m\u001b[0mremove\u001b[0m\u001b[1;33m(\u001b[0m\u001b[1;34m\"course\"\u001b[0m\u001b[1;33m)\u001b[0m\u001b[1;33m\u001b[0m\u001b[1;33m\u001b[0m\u001b[0m\n\u001b[0m\u001b[0;32m      2\u001b[0m \u001b[0mmylist\u001b[0m\u001b[1;33m.\u001b[0m\u001b[0mremove\u001b[0m\u001b[1;33m(\u001b[0m\u001b[1;34m\"python\"\u001b[0m\u001b[1;33m)\u001b[0m\u001b[1;33m\u001b[0m\u001b[1;33m\u001b[0m\u001b[0m\n\u001b[0;32m      3\u001b[0m \u001b[0mprint\u001b[0m\u001b[1;33m(\u001b[0m\u001b[0mmylist\u001b[0m\u001b[1;33m)\u001b[0m\u001b[1;33m\u001b[0m\u001b[1;33m\u001b[0m\u001b[0m\n",
      "\u001b[1;31mValueError\u001b[0m: list.remove(x): x not in list"
     ]
    }
   ],
   "source": [
    "mylist.remove(\"course\")\n",
    "mylist.remove(\"python\")\n",
    "print(mylist)"
   ]
  },
  {
   "cell_type": "code",
   "execution_count": 43,
   "metadata": {
    "colab": {
     "base_uri": "https://localhost:8080/",
     "height": 35
    },
    "colab_type": "code",
    "id": "aSsRxEvPowM-",
    "outputId": "25dd6093-dd61-485d-c03e-548a213c6157"
   },
   "outputs": [
    {
     "ename": "ValueError",
     "evalue": "list.remove(x): x not in list",
     "output_type": "error",
     "traceback": [
      "\u001b[1;31m---------------------------------------------------------------------------\u001b[0m",
      "\u001b[1;31mValueError\u001b[0m                                Traceback (most recent call last)",
      "\u001b[1;32m<ipython-input-43-5947306e3ed0>\u001b[0m in \u001b[0;36m<module>\u001b[1;34m\u001b[0m\n\u001b[1;32m----> 1\u001b[1;33m \u001b[0mmylist\u001b[0m\u001b[1;33m.\u001b[0m\u001b[0mremove\u001b[0m\u001b[1;33m(\u001b[0m\u001b[1;34m\"course\"\u001b[0m\u001b[1;33m)\u001b[0m\u001b[1;33m\u001b[0m\u001b[1;33m\u001b[0m\u001b[0m\n\u001b[0m\u001b[0;32m      2\u001b[0m \u001b[0mprint\u001b[0m\u001b[1;33m(\u001b[0m\u001b[0mmylist\u001b[0m\u001b[1;33m)\u001b[0m\u001b[1;33m\u001b[0m\u001b[1;33m\u001b[0m\u001b[0m\n",
      "\u001b[1;31mValueError\u001b[0m: list.remove(x): x not in list"
     ]
    }
   ],
   "source": [
    "mylist.remove(\"course\")\n",
    "print(mylist)"
   ]
  },
  {
   "cell_type": "code",
   "execution_count": 128,
   "metadata": {
    "colab": {
     "base_uri": "https://localhost:8080/",
     "height": 35
    },
    "colab_type": "code",
    "id": "2pnKy1t7znEH",
    "outputId": "808b1377-4da3-454e-a67f-262f6e8a3f5c"
   },
   "outputs": [
    {
     "data": {
      "text/plain": [
       "[3, 4, 5, 6, 7]"
      ]
     },
     "execution_count": 128,
     "metadata": {},
     "output_type": "execute_result"
    }
   ],
   "source": [
    "mylist.sort()\n",
    "mylist"
   ]
  },
  {
   "cell_type": "code",
   "execution_count": 44,
   "metadata": {},
   "outputs": [],
   "source": [
    "mylist = [3,4,5,6,7]"
   ]
  },
  {
   "cell_type": "code",
   "execution_count": 45,
   "metadata": {
    "colab": {
     "base_uri": "https://localhost:8080/",
     "height": 35
    },
    "colab_type": "code",
    "id": "sjC4_sbzzt0n",
    "outputId": "9b4dc577-f844-41f2-9d0b-8271391437e8"
   },
   "outputs": [
    {
     "data": {
      "text/plain": [
       "[7, 6, 5, 4, 3]"
      ]
     },
     "execution_count": 45,
     "metadata": {},
     "output_type": "execute_result"
    }
   ],
   "source": [
    "mylist.reverse()\n",
    "mylist"
   ]
  },
  {
   "cell_type": "code",
   "execution_count": 46,
   "metadata": {
    "colab": {
     "base_uri": "https://localhost:8080/",
     "height": 35
    },
    "colab_type": "code",
    "id": "SDVAJpN3z4md",
    "outputId": "5eb5b5c4-0e93-4594-a0e1-a2bb02f2e276"
   },
   "outputs": [
    {
     "data": {
      "text/plain": [
       "['course', 'hello', 'python']"
      ]
     },
     "execution_count": 46,
     "metadata": {},
     "output_type": "execute_result"
    }
   ],
   "source": [
    "mylist2 = [\"python\", \"course\", \"hello\"]\n",
    "mylist2.sort()\n",
    "mylist2"
   ]
  },
  {
   "cell_type": "code",
   "execution_count": 47,
   "metadata": {},
   "outputs": [
    {
     "data": {
      "text/plain": [
       "[7, 6, 5, 4, 3]"
      ]
     },
     "execution_count": 47,
     "metadata": {},
     "output_type": "execute_result"
    }
   ],
   "source": [
    "mylist"
   ]
  },
  {
   "cell_type": "code",
   "execution_count": 49,
   "metadata": {
    "colab": {
     "base_uri": "https://localhost:8080/",
     "height": 35
    },
    "colab_type": "code",
    "id": "mLBbaZH70SkL",
    "outputId": "b35d5081-92ce-4b6d-ed7d-af8f8bf6a24a"
   },
   "outputs": [
    {
     "data": {
      "text/plain": [
       "[7, 6, 5, 4, 3, 1, 11, 111, 1111, 1, 11, 111, 1111]"
      ]
     },
     "execution_count": 49,
     "metadata": {},
     "output_type": "execute_result"
    }
   ],
   "source": [
    "mylist3 = [1, 11, 111, 1111]\n",
    "mylist.extend(mylist3)\n",
    "mylist"
   ]
  },
  {
   "cell_type": "code",
   "execution_count": 51,
   "metadata": {
    "colab": {
     "base_uri": "https://localhost:8080/",
     "height": 35
    },
    "colab_type": "code",
    "id": "gaNw7ha90pe5",
    "outputId": "8a88ab23-4548-4417-8743-4ff28015c3d1"
   },
   "outputs": [
    {
     "name": "stdout",
     "output_type": "stream",
     "text": [
      "[7, 6, 5, 4, 3, 1, 11, 111, 1111, 1, 11, 111, 1111, [1, 11, 111, 1111], [1, 11, 111, 1111]]\n"
     ]
    }
   ],
   "source": [
    "mylist4 = [1, 11, 111, 1111]\n",
    "mylist.append(mylist4)\n",
    "print(mylist)"
   ]
  },
  {
   "cell_type": "code",
   "execution_count": 52,
   "metadata": {},
   "outputs": [
    {
     "name": "stdout",
     "output_type": "stream",
     "text": [
      "[5, 65, 7, 8, 9]\n"
     ]
    }
   ],
   "source": [
    "list_in_list = [\"python\",\"Java\",3.2, 4, 11, [5,65,7,8,9]]\n",
    "print(list_in_list[5])"
   ]
  },
  {
   "cell_type": "code",
   "execution_count": 53,
   "metadata": {},
   "outputs": [
    {
     "data": {
      "text/plain": [
       "[5, 65, 7, 8, 9]"
      ]
     },
     "execution_count": 53,
     "metadata": {},
     "output_type": "execute_result"
    }
   ],
   "source": [
    "list_in_list[-1]"
   ]
  },
  {
   "cell_type": "code",
   "execution_count": 54,
   "metadata": {},
   "outputs": [],
   "source": [
    "mylist = [2, 3, 4, 5, 6, 'python', 'flutter', 'Android', 'JavaScript', 'dart', 3.2, 5.0]"
   ]
  },
  {
   "cell_type": "code",
   "execution_count": 55,
   "metadata": {
    "colab": {
     "base_uri": "https://localhost:8080/",
     "height": 35
    },
    "colab_type": "code",
    "id": "AfHla3bf2rFG",
    "outputId": "4c024053-4f10-4edf-d04c-6e1f64e57ef1"
   },
   "outputs": [
    {
     "name": "stdout",
     "output_type": "stream",
     "text": [
      "[2, 3, 4, 5, 6, 'python', 'flutter', 'Android', 'JavaScript', 'dart', 3.2, 5.0]\n",
      "[2, 3, 4, 5, 6, 55, 'python', 'flutter', 'Android', 'JavaScript', 'dart', 3.2, 5.0]\n"
     ]
    }
   ],
   "source": [
    "print(mylist)\n",
    "mylist.insert(5,55)   # insert(x,y) --> adding x th index the y value but don't change the x th value, it remains the same.\n",
    "print(mylist)"
   ]
  },
  {
   "cell_type": "code",
   "execution_count": 58,
   "metadata": {},
   "outputs": [
    {
     "data": {
      "text/plain": [
       "[1, 2, 3, 4, 5, 6]"
      ]
     },
     "execution_count": 58,
     "metadata": {},
     "output_type": "execute_result"
    }
   ],
   "source": [
    "a = list([1,2,3,4,5,6])\n",
    "a "
   ]
  },
  {
   "cell_type": "code",
   "execution_count": 59,
   "metadata": {
    "colab": {
     "base_uri": "https://localhost:8080/",
     "height": 35
    },
    "colab_type": "code",
    "id": "s_OhpjEiOKgw",
    "outputId": "89dfa80d-9ba4-420c-bd8f-39a3f4890b46"
   },
   "outputs": [
    {
     "name": "stdout",
     "output_type": "stream",
     "text": [
      "[0, 1, 2, 3, 4, 5, 6, 7]\n",
      "[]\n"
     ]
    }
   ],
   "source": [
    "liste1 = list()\n",
    "numbers = list(range(8))\n",
    "\n",
    "print(numbers)\n",
    "print(liste1)"
   ]
  },
  {
   "cell_type": "code",
   "execution_count": 60,
   "metadata": {
    "colab": {
     "base_uri": "https://localhost:8080/",
     "height": 35
    },
    "colab_type": "code",
    "id": "TrlAuQrZmqPe",
    "outputId": "46f3b118-0e87-4f66-aac4-4c5c528a9a22"
   },
   "outputs": [
    {
     "name": "stdout",
     "output_type": "stream",
     "text": [
      "[2, 5, 8, 11, 14]\n",
      "[14, 11, 8, 5, 2]\n"
     ]
    }
   ],
   "source": [
    "numbers2 = list(range(2,15,3)) #range(start, stop, step)\n",
    "print(numbers2)\n",
    "numbers2.reverse()\n",
    "print(numbers2)"
   ]
  },
  {
   "cell_type": "code",
   "execution_count": 61,
   "metadata": {},
   "outputs": [
    {
     "data": {
      "text/plain": [
       "[0, 1, 2, 3, 4, 5, 6, 7]"
      ]
     },
     "execution_count": 61,
     "metadata": {},
     "output_type": "execute_result"
    }
   ],
   "source": [
    "numbers"
   ]
  },
  {
   "cell_type": "code",
   "execution_count": 166,
   "metadata": {
    "colab": {
     "base_uri": "https://localhost:8080/",
     "height": 35
    },
    "colab_type": "code",
    "id": "dWYyfECgjoD5",
    "outputId": "7f9093cf-841f-4cca-b2ce-1a2056c79b6a"
   },
   "outputs": [
    {
     "name": "stdout",
     "output_type": "stream",
     "text": [
      "[2, 3, 4]\n"
     ]
    }
   ],
   "source": [
    "print(numbers[2:5])"
   ]
  },
  {
   "cell_type": "code",
   "execution_count": 62,
   "metadata": {
    "colab": {
     "base_uri": "https://localhost:8080/",
     "height": 35
    },
    "colab_type": "code",
    "id": "9pNuEe8lj-T9",
    "outputId": "ecea7a28-03f4-4d44-ef6d-5f0fbd7c3cf7"
   },
   "outputs": [
    {
     "data": {
      "text/plain": [
       "[0, 1, 2, 3, 4, 10, 11, 12]"
      ]
     },
     "execution_count": 62,
     "metadata": {},
     "output_type": "execute_result"
    }
   ],
   "source": [
    "numbers[5:8] = [10,11,12]\n",
    "numbers"
   ]
  },
  {
   "cell_type": "code",
   "execution_count": 63,
   "metadata": {
    "colab": {
     "base_uri": "https://localhost:8080/",
     "height": 35
    },
    "colab_type": "code",
    "id": "0qGcvxjfks0k",
    "outputId": "7d05b9d6-b89a-44fc-d51c-3d4015c07f63"
   },
   "outputs": [
    {
     "data": {
      "text/plain": [
       "True"
      ]
     },
     "execution_count": 63,
     "metadata": {},
     "output_type": "execute_result"
    }
   ],
   "source": [
    "12 in numbers"
   ]
  },
  {
   "cell_type": "code",
   "execution_count": 64,
   "metadata": {
    "colab": {
     "base_uri": "https://localhost:8080/",
     "height": 35
    },
    "colab_type": "code",
    "id": "_8ZofXhRkv6g",
    "outputId": "b4b53abb-e83b-4c99-95e2-2e8ea9f461fe"
   },
   "outputs": [
    {
     "data": {
      "text/plain": [
       "False"
      ]
     },
     "execution_count": 64,
     "metadata": {},
     "output_type": "execute_result"
    }
   ],
   "source": [
    "15 in numbers"
   ]
  },
  {
   "cell_type": "code",
   "execution_count": 65,
   "metadata": {
    "colab": {
     "base_uri": "https://localhost:8080/",
     "height": 35
    },
    "colab_type": "code",
    "id": "dGzhmKtfk1cj",
    "outputId": "1b03a797-5be1-4669-b5ed-8fa251def5a9"
   },
   "outputs": [
    {
     "data": {
      "text/plain": [
       "[1, 2, 3, 4, 5]"
      ]
     },
     "execution_count": 65,
     "metadata": {},
     "output_type": "execute_result"
    }
   ],
   "source": [
    "[1,2,3] + [ 4,5]"
   ]
  },
  {
   "cell_type": "code",
   "execution_count": 67,
   "metadata": {
    "colab": {
     "base_uri": "https://localhost:8080/",
     "height": 35
    },
    "colab_type": "code",
    "id": "hb1-Cp99l3-P",
    "outputId": "26eea7c9-57b0-479d-d56e-399784ad7491"
   },
   "outputs": [
    {
     "data": {
      "text/plain": [
       "[1, 2, 3, 1, 2, 3, 1, 2, 3]"
      ]
     },
     "execution_count": 67,
     "metadata": {},
     "output_type": "execute_result"
    }
   ],
   "source": [
    "[1,2,3] * 3"
   ]
  },
  {
   "cell_type": "code",
   "execution_count": 75,
   "metadata": {
    "colab": {
     "base_uri": "https://localhost:8080/",
     "height": 35
    },
    "colab_type": "code",
    "id": "ZZ0ieLF1mJGq",
    "outputId": "0f97c39a-8962-46c1-b5d8-dead5460e0aa"
   },
   "outputs": [
    {
     "data": {
      "text/plain": [
       "3"
      ]
     },
     "execution_count": 75,
     "metadata": {},
     "output_type": "execute_result"
    }
   ],
   "source": [
    "list1 = [[1,2], 3, [4,5,6]]\n",
    "list1[1]"
   ]
  },
  {
   "cell_type": "markdown",
   "metadata": {
    "colab_type": "text",
    "id": "Uqstf6kg1CCT"
   },
   "source": [
    "# If/Else Statements\n",
    "\n",
    "if \"condition\":\n",
    "\n",
    "\n",
    "> \"doing sth\"\n",
    "\n",
    "print()\n"
   ]
  },
  {
   "cell_type": "code",
   "execution_count": 79,
   "metadata": {
    "colab": {},
    "colab_type": "code",
    "id": "1gdtAyGZ1MTD"
   },
   "outputs": [
    {
     "name": "stdout",
     "output_type": "stream",
     "text": [
      "Please enter a character: u\n",
      "Don't exist...\n"
     ]
    }
   ],
   "source": [
    "course = \"python\"\n",
    "\n",
    "s = input(\"Please enter a character: \")\n",
    "\n",
    "if s in course:\n",
    "    print(\"Exist!\")\n",
    "else:\n",
    "  print(\"Don't exist...\")\n",
    "\n"
   ]
  },
  {
   "cell_type": "code",
   "execution_count": 80,
   "metadata": {
    "colab": {},
    "colab_type": "code",
    "id": "3hmeanZ757dR"
   },
   "outputs": [
    {
     "name": "stdout",
     "output_type": "stream",
     "text": [
      "Please enter a character: u\n",
      "Don't exist...\n"
     ]
    }
   ],
   "source": [
    "course = \"python\"\n",
    "\n",
    "s = input(\"Please enter a character: \")\n",
    "\n",
    "if s not in course:\n",
    "  print(\"Don't exist...\")\n",
    "else:\n",
    "  print(\"Exist!\")"
   ]
  },
  {
   "cell_type": "code",
   "execution_count": null,
   "metadata": {},
   "outputs": [],
   "source": []
  }
 ],
 "metadata": {
  "colab": {
   "collapsed_sections": [],
   "name": "Day_2.ipynb",
   "provenance": []
  },
  "kernelspec": {
   "display_name": "Python 3",
   "language": "python",
   "name": "python3"
  },
  "language_info": {
   "codemirror_mode": {
    "name": "ipython",
    "version": 3
   },
   "file_extension": ".py",
   "mimetype": "text/x-python",
   "name": "python",
   "nbconvert_exporter": "python",
   "pygments_lexer": "ipython3",
   "version": "3.7.4"
  }
 },
 "nbformat": 4,
 "nbformat_minor": 1
}
